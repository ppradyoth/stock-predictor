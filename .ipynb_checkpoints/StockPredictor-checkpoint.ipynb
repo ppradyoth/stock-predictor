{
 "cells": [
  {
   "cell_type": "markdown",
   "id": "023290fc",
   "metadata": {},
   "source": [
    "# Industry Driven Elective"
   ]
  },
  {
   "cell_type": "markdown",
   "id": "2e586b7e",
   "metadata": {},
   "source": [
    "## Artificial Intelligence and Machine Learning (IS6E106) offered by Nokia"
   ]
  },
  {
   "cell_type": "markdown",
   "id": "bd651cfb",
   "metadata": {},
   "source": [
    "### Project: Stock Price Prediction"
   ]
  },
  {
   "cell_type": "markdown",
   "id": "57a15b79",
   "metadata": {},
   "source": [
    "The challenge of this project is to accurately predict the future closing value of a given stock across a given period of time in the future."
   ]
  },
  {
   "cell_type": "code",
   "execution_count": 1,
   "id": "2bb7823a",
   "metadata": {},
   "outputs": [],
   "source": [
    "# prerequisite installation\n",
    "#!pip3 install yfinance\n",
    "#!pip3 install matplotlib\n",
    "#!pip3 install numpy\n",
    "#!pip3 install pandas\n",
    "#!pip3 install visualize"
   ]
  },
  {
   "cell_type": "markdown",
   "id": "03494a73",
   "metadata": {},
   "source": [
    "## Retrieving the data"
   ]
  },
  {
   "cell_type": "code",
   "execution_count": 2,
   "id": "e1ef9423",
   "metadata": {},
   "outputs": [
    {
     "name": "stdout",
     "output_type": "stream",
     "text": [
      "[*********************100%***********************]  1 of 1 completed\n"
     ]
    },
    {
     "data": {
      "image/png": "[encoded data removed]",
      "text/plain": [
       "<Figure size 432x288 with 1 Axes>"
      ]
     },
     "metadata": {
      "needs_background": "light"
     },
     "output_type": "display_data"
    }
   ],
   "source": [
    "import datetime\n",
    "import yfinance as yf\n",
    "import matplotlib.pyplot as plt\n",
    "data = yf.download('TSLA','2015-01-01','2022-01-01')\n",
    "data[\"Adj Close\"].plot()\n",
    "plt.show()"
   ]
  },
  {
   "cell_type": "code",
   "execution_count": 3,
   "id": "a80d2709",
   "metadata": {},
   "outputs": [],
   "source": [
    "data.to_csv('tesla.csv',index = False)"
   ]
  },
  {
   "cell_type": "markdown",
   "id": "5bc303e3",
   "metadata": {},
   "source": [
    "## Normalising the data"
   ]
  },
  {
   "cell_type": "code",
   "execution_count": 4,
   "id": "6f670727",
   "metadata": {},
   "outputs": [
    {
     "name": "stdout",
     "output_type": "stream",
     "text": [
      "        Open       High        Low      Close  Adj Close    Volume\n",
      "0  44.618000  45.136002  44.450001  44.481998  44.481998  11487500\n",
      "1  44.574001  44.650002  42.652000  43.862000  43.862000  23822000\n",
      "2  42.910000  43.299999  41.431999  42.018002  42.018002  26842500\n",
      "3  42.012001  42.840000  40.841999  42.256001  42.256001  31309500\n",
      "4  42.669998  42.956001  41.956001  42.189999  42.189999  14842000\n",
      "\n",
      "\n",
      "Open   --- mean : 191.2357847771677   \t Std:  268.57589583959066   \t Max:  1234.4100341796875   \t Min:  28.464000701904297\n",
      "High   --- mean : 195.3130371651682   \t Std:  274.4522511077426   \t Max:  1243.489990234375   \t Min:  30.99399948120117\n",
      "Low    --- mean : 186.9265443083921   \t Std:  262.2841396234461   \t Max:  1217.0   \t Min:  28.209999084472656\n",
      "Close  --- mean : 191.40155297558323   \t Std:  268.83513567701107   \t Max:  1229.9100341796875   \t Min:  28.733999252319336\n",
      "Volume --- mean : 38275839.51247165   \t Std:  28152650.760726396   \t Max:  304694000   \t Min:  3540000\n"
     ]
    }
   ],
   "source": [
    "import pandas as pd\n",
    "import numpy as np\n",
    "\n",
    "data = pd.read_csv('tesla.csv')\n",
    "print(data.head())\n",
    "\n",
    "print(\"\\n\")\n",
    "print(\"Open   --- mean :\", np.mean(data['Open']),  \"  \\t Std: \", np.std(data['Open']),  \"  \\t Max: \", np.max(data['Open']),  \"  \\t Min: \", np.min(data['Open']))\n",
    "print(\"High   --- mean :\", np.mean(data['High']),  \"  \\t Std: \", np.std(data['High']),  \"  \\t Max: \", np.max(data['High']),  \"  \\t Min: \", np.min(data['High']))\n",
    "print(\"Low    --- mean :\", np.mean(data['Low']),   \"  \\t Std: \", np.std(data['Low']),   \"  \\t Max: \", np.max(data['Low']),   \"  \\t Min: \", np.min(data['Low']))\n",
    "print(\"Close  --- mean :\", np.mean(data['Close']), \"  \\t Std: \", np.std(data['Close']), \"  \\t Max: \", np.max(data['Close']), \"  \\t Min: \", np.min(data['Close']))\n",
    "print(\"Volume --- mean :\", np.mean(data['Volume']),\"  \\t Std: \", np.std(data['Volume']),\"  \\t Max: \", np.max(data['Volume']),\"  \\t Min: \", np.min(data['Volume']))"
   ]
  },
  {
   "cell_type": "code",
   "execution_count": 5,
   "id": "7326a420",
   "metadata": {},
   "outputs": [],
   "source": [
    "data1=data"
   ]
  },
  {
   "cell_type": "code",
   "execution_count": 6,
   "id": "028caa49",
   "metadata": {},
   "outputs": [
    {
     "name": "stdout",
     "output_type": "stream",
     "text": [
      "        Open        Low      Close  Adj Close    Volume\n",
      "0  44.618000  44.450001  44.481998  44.481998  11487500\n",
      "1  44.574001  42.652000  43.862000  43.862000  23822000\n",
      "2  42.910000  41.431999  42.018002  42.018002  26842500\n",
      "3  42.012001  40.841999  42.256001  42.256001  31309500\n",
      "4  42.669998  41.956001  42.189999  42.189999  14842000\n",
      "---\n",
      "             Open          Low        Close    Adj Close    Volume\n",
      "1759  1073.670044  1070.719971  1093.939941  1093.939941  23715300\n",
      "1760  1109.489990  1078.420044  1088.469971  1088.469971  20108000\n",
      "1761  1098.640015  1064.140015  1086.189941  1086.189941  18718000\n",
      "1762  1061.329956  1053.150024  1070.339966  1070.339966  15680300\n",
      "1763  1073.439941  1054.589966  1056.780029  1056.780029  13577900\n"
     ]
    }
   ],
   "source": [
    "data.pop('High')\n",
    "#Print the dataframe head and tail\n",
    "print(data.head())\n",
    "print(\"---\")\n",
    "print(data.tail())"
   ]
  },
  {
   "cell_type": "code",
   "execution_count": 7,
   "id": "3f584fe1",
   "metadata": {},
   "outputs": [
    {
     "name": "stdout",
     "output_type": "stream",
     "text": [
      "        Open      Close  Adj Close    Volume\n",
      "0  44.618000  44.481998  44.481998  11487500\n",
      "1  44.574001  43.862000  43.862000  23822000\n",
      "2  42.910000  42.018002  42.018002  26842500\n",
      "3  42.012001  42.256001  42.256001  31309500\n",
      "4  42.669998  42.189999  42.189999  14842000\n",
      "---\n",
      "             Open        Close    Adj Close    Volume\n",
      "1759  1073.670044  1093.939941  1093.939941  23715300\n",
      "1760  1109.489990  1088.469971  1088.469971  20108000\n",
      "1761  1098.640015  1086.189941  1086.189941  18718000\n",
      "1762  1061.329956  1070.339966  1070.339966  15680300\n",
      "1763  1073.439941  1056.780029  1056.780029  13577900\n"
     ]
    }
   ],
   "source": [
    "data.pop('Low')\n",
    "#Print the dataframe head and tail\n",
    "print(data.head())\n",
    "print(\"---\")\n",
    "print(data.tail())"
   ]
  },
  {
   "cell_type": "code",
   "execution_count": 8,
   "id": "883b8238",
   "metadata": {},
   "outputs": [
    {
     "name": "stdout",
     "output_type": "stream",
     "text": [
      "        Open      Close    Volume\n",
      "0  44.618000  44.481998  11487500\n",
      "1  44.574001  43.862000  23822000\n",
      "2  42.910000  42.018002  26842500\n",
      "3  42.012001  42.256001  31309500\n",
      "4  42.669998  42.189999  14842000\n",
      "---\n",
      "             Open        Close    Volume\n",
      "1759  1073.670044  1093.939941  23715300\n",
      "1760  1109.489990  1088.469971  20108000\n",
      "1761  1098.640015  1086.189941  18718000\n",
      "1762  1061.329956  1070.339966  15680300\n",
      "1763  1073.439941  1056.780029  13577900\n"
     ]
    }
   ],
   "source": [
    "data.pop('Adj Close')\n",
    "#Print the dataframe head and tail\n",
    "print(data.head())\n",
    "print(\"---\")\n",
    "print(data.tail())"
   ]
  },
  {
   "cell_type": "code",
   "execution_count": 9,
   "id": "fdcd9b3c",
   "metadata": {},
   "outputs": [
    {
     "data": {
      "text/plain": [
       "<AxesSubplot:>"
      ]
     },
     "execution_count": 9,
     "metadata": {},
     "output_type": "execute_result"
    },
    {
     "data": {
      "image/png": "[encoded data removed]",
      "text/plain": [
       "<Figure size 432x288 with 1 Axes>"
      ]
     },
     "metadata": {
      "needs_background": "light"
     },
     "output_type": "display_data"
    }
   ],
   "source": [
    "import matplotlib.pyplot as plt\n",
    "data.plot()"
   ]
  },
  {
   "cell_type": "markdown",
   "id": "4cb2282e",
   "metadata": {},
   "source": [
    "# Normalize the data retrieved"
   ]
  },
  {
   "cell_type": "code",
   "execution_count": 10,
   "id": "f7a1ae27",
   "metadata": {},
   "outputs": [
    {
     "name": "stdout",
     "output_type": "stream",
     "text": [
      "        Open      Close    Volume\n",
      "0  44.618000  44.481998  11487500\n",
      "1  44.574001  43.862000  23822000\n",
      "2  42.910000  42.018002  26842500\n",
      "3  42.012001  42.256001  31309500\n",
      "4  42.669998  42.189999  14842000\n",
      "\n",
      "\n",
      "Open   --- mean : 191.2357847771677  \t Std:  268.57589583959066   Max:  1234.4100341796875  \t Min:  28.464000701904297\n",
      "Close  --- mean : 191.40155297558323  \t Std:  268.83513567701107   Max:  1229.9100341796875  \t Min:  28.733999252319336\n",
      "Volume --- mean : 38275839.51247165  \t Std:  28152650.760726396   Max:  304694000  \t Min:  3540000\n"
     ]
    }
   ],
   "source": [
    "from sklearn import preprocessing\n",
    "preprocessing.normalize(data)\n",
    "print(data.head())\n",
    "print(\"\\n\")\n",
    "print(\"Open   --- mean :\", np.mean(data['Open']),  \" \\t Std: \", np.std(data['Open']),  \"  Max: \", np.max(data['Open']),  \" \\t Min: \", np.min(data['Open']))\n",
    "print(\"Close  --- mean :\", np.mean(data['Close']), \" \\t Std: \", np.std(data['Close']), \"  Max: \", np.max(data['Close']), \" \\t Min: \", np.min(data['Close']))\n",
    "print(\"Volume --- mean :\", np.mean(data['Volume']),\" \\t Std: \", np.std(data['Volume']),\"  Max: \", np.max(data['Volume']),\" \\t Min: \", np.min(data['Volume']))"
   ]
  },
  {
   "cell_type": "code",
   "execution_count": 11,
   "id": "6b6b9797",
   "metadata": {},
   "outputs": [],
   "source": [
    "#Log the normalised data for future resuablilty\n",
    "data.to_csv('tesla_preprocessed.csv',index= False)"
   ]
  },
  {
   "cell_type": "markdown",
   "id": "f1979d8f",
   "metadata": {},
   "source": [
    "# #Checkpoint 2:Benchmark Model"
   ]
  },
  {
   "cell_type": "code",
   "execution_count": 12,
   "id": "5cec361b",
   "metadata": {},
   "outputs": [
    {
     "data": {
      "text/html": [
       "<div>\n",
       "<style scoped>\n",
       "    .dataframe tbody tr th:only-of-type {\n",
       "        vertical-align: middle;\n",
       "    }\n",
       "\n",
       "    .dataframe tbody tr th {\n",
       "        vertical-align: top;\n",
       "    }\n",
       "\n",
       "    .dataframe thead th {\n",
       "        text-align: right;\n",
       "    }\n",
       "</style>\n",
       "<table border=\"1\" class=\"dataframe\">\n",
       "  <thead>\n",
       "    <tr style=\"text-align: right;\">\n",
       "      <th></th>\n",
       "      <th>Open</th>\n",
       "      <th>Close</th>\n",
       "      <th>Volume</th>\n",
       "    </tr>\n",
       "  </thead>\n",
       "  <tbody>\n",
       "    <tr>\n",
       "      <th>0</th>\n",
       "      <td>44.618000</td>\n",
       "      <td>44.481998</td>\n",
       "      <td>11487500</td>\n",
       "    </tr>\n",
       "    <tr>\n",
       "      <th>1</th>\n",
       "      <td>44.574001</td>\n",
       "      <td>43.862000</td>\n",
       "      <td>23822000</td>\n",
       "    </tr>\n",
       "    <tr>\n",
       "      <th>2</th>\n",
       "      <td>42.910000</td>\n",
       "      <td>42.018002</td>\n",
       "      <td>26842500</td>\n",
       "    </tr>\n",
       "    <tr>\n",
       "      <th>3</th>\n",
       "      <td>42.012001</td>\n",
       "      <td>42.256001</td>\n",
       "      <td>31309500</td>\n",
       "    </tr>\n",
       "    <tr>\n",
       "      <th>4</th>\n",
       "      <td>42.669998</td>\n",
       "      <td>42.189999</td>\n",
       "      <td>14842000</td>\n",
       "    </tr>\n",
       "  </tbody>\n",
       "</table>\n",
       "</div>"
      ],
      "text/plain": [
       "        Open      Close    Volume\n",
       "0  44.618000  44.481998  11487500\n",
       "1  44.574001  43.862000  23822000\n",
       "2  42.910000  42.018002  26842500\n",
       "3  42.012001  42.256001  31309500\n",
       "4  42.669998  42.189999  14842000"
      ]
     },
     "metadata": {},
     "output_type": "display_data"
    }
   ],
   "source": [
    "\n",
    "import math\n",
    "import pandas as pd\n",
    "import numpy as np\n",
    "import sklearn\n",
    "from IPython.display import display\n",
    "from sklearn import linear_model\n",
    "from sklearn.model_selection import train_test_split\n",
    "from sklearn.metrics import mean_squared_error\n",
    "from sklearn.model_selection import TimeSeriesSplit\n",
    "from sklearn.linear_model import LinearRegression\n",
    "import visualize as vs\n",
    "\n",
    "\n",
    "data = pd.read_csv('tesla_preprocessed.csv')\n",
    "display(data.head())"
   ]
  },
  {
   "cell_type": "code",
   "execution_count": 13,
   "id": "84a56633",
   "metadata": {},
   "outputs": [
    {
     "name": "stdout",
     "output_type": "stream",
     "text": [
      "x_train (1181, 3)\n",
      "y_train (1181, 3)\n",
      "x_test (583, 3)\n",
      "y_test (583, 3)\n"
     ]
    }
   ],
   "source": [
    "X_train, X_test, y_train, y_test = sklearn.model_selection.train_test_split(data,data, test_size=0.33)\n",
    "\n",
    "print(\"x_train\", X_train.shape)\n",
    "print(\"y_train\", y_train.shape)\n",
    "print(\"x_test\", X_test.shape)\n",
    "print(\"y_test\", y_test.shape)"
   ]
  },
  {
   "cell_type": "code",
   "execution_count": 14,
   "id": "d1dd248a",
   "metadata": {},
   "outputs": [
    {
     "name": "stdout",
     "output_type": "stream",
     "text": [
      "x_train (1234, 1)\n",
      "y_train (1234,)\n",
      "x_test (530, 1)\n",
      "y_test (530,)\n"
     ]
    },
    {
     "data": {
      "text/plain": [
       "LinearRegression()"
      ]
     },
     "execution_count": 14,
     "metadata": {},
     "output_type": "execute_result"
    }
   ],
   "source": [
    "import numpy as np\n",
    "#building regression model\n",
    "from sklearn.model_selection import train_test_split\n",
    "#For preprocessing\n",
    "from sklearn.preprocessing import MinMaxScaler\n",
    "from sklearn.preprocessing import StandardScaler\n",
    "#For model evaluation\n",
    "from sklearn.metrics import mean_squared_error as mse\n",
    "from sklearn.metrics import r2_score\n",
    "\n",
    "X=np.array(data.index).reshape(-1,1)\n",
    "Y=data['Close']\n",
    "\n",
    "\n",
    "X_train, X_test, y_train, y_test= train_test_split(X,Y,test_size=0.3,random_state=101)\n",
    "\n",
    "print(\"x_train\", X_train.shape)\n",
    "print(\"y_train\", y_train.shape)\n",
    "print(\"x_test\", X_test.shape)\n",
    "print(\"y_test\", y_test.shape)\n",
    "\n",
    "\n",
    "\n",
    "#feature scaling\n",
    "scaler=StandardScaler().fit(X_train)\n",
    "\n",
    "\n",
    "from sklearn.linear_model import LinearRegression\n",
    "#creating linear model\n",
    "lm=LinearRegression()\n",
    "lm.fit(X_train,y_train)\n",
    "\n"
   ]
  },
  {
   "cell_type": "code",
   "execution_count": 15,
   "id": "f6ff271d",
   "metadata": {},
   "outputs": [
    {
     "data": {
      "text/html": [
       "        <script type=\"text/javascript\">\n",
       "        window.PlotlyConfig = {MathJaxConfig: 'local'};\n",
       "        if (window.MathJax && window.MathJax.Hub && window.MathJax.Hub.Config) {window.MathJax.Hub.Config({SVG: {font: \"STIX-Web\"}});}\n",
       "        if (typeof require !== 'undefined') {\n",
       "        require.undef(\"plotly\");\n",
       "        requirejs.config({\n",
       "            paths: {\n",
       "                'plotly': ['https://cdn.plot.ly/plotly-2.12.1.min']\n",
       "            }\n",
       "        });\n",
       "        require(['plotly'], function(Plotly) {\n",
       "            window._Plotly = Plotly;\n",
       "        });\n",
       "        }\n",
       "        </script>\n",
       "        "
      ]
     },
     "metadata": {},
     "output_type": "display_data"
    },
    {
     "ename": "ValueError",
     "evalue": "\n    Invalid value of type 'builtins.module' received for the 'layout' property of \n        Received value: <module 'plotly.graph_objs.layout' from 'c:\\\\users\\\\lavaa\\\\appdata\\\\local\\\\programs\\\\python\\\\python37\\\\lib\\\\site-packages\\\\plotly\\\\graph_objs\\\\layout\\\\__init__.py'>\n\n    The 'layout' property is an instance of Layout\n    that may be specified as:\n      - An instance of :class:`plotly.graph_objs.Layout`\n      - A dict of string/value properties that will be passed\n        to the Layout constructor\n\n        Supported dict properties:\n            \n            activeshape\n                :class:`plotly.graph_objects.layout.Activeshape\n                ` instance or dict with compatible properties\n            annotations\n                A tuple of\n                :class:`plotly.graph_objects.layout.Annotation`\n                instances or dicts with compatible properties\n            annotationdefaults\n                When used in a template (as\n                layout.template.layout.annotationdefaults),\n                sets the default property values to use for\n                elements of layout.annotations\n            autosize\n                Determines whether or not a layout width or\n                height that has been left undefined by the user\n                is initialized on each relayout. Note that,\n                regardless of this attribute, an undefined\n                layout width or height is always initialized on\n                the first call to plot.\n            autotypenumbers\n                Using \"strict\" a numeric string in trace data\n                is not converted to a number. Using *convert\n                types* a numeric string in trace data may be\n                treated as a number during automatic axis\n                `type` detection. This is the default value;\n                however it could be overridden for individual\n                axes.\n            bargap\n                Sets the gap (in plot fraction) between bars of\n                adjacent location coordinates.\n            bargroupgap\n                Sets the gap (in plot fraction) between bars of\n                the same location coordinate.\n            barmode\n                Determines how bars at the same location\n                coordinate are displayed on the graph. With\n                \"stack\", the bars are stacked on top of one\n                another With \"relative\", the bars are stacked\n                on top of one another, with negative values\n                below the axis, positive values above With\n                \"group\", the bars are plotted next to one\n                another centered around the shared location.\n                With \"overlay\", the bars are plotted over one\n                another, you might need to an \"opacity\" to see\n                multiple bars.\n            barnorm\n                Sets the normalization for bar traces on the\n                graph. With \"fraction\", the value of each bar\n                is divided by the sum of all values at that\n                location coordinate. \"percent\" is the same but\n                multiplied by 100 to show percentages.\n            boxgap\n                Sets the gap (in plot fraction) between boxes\n                of adjacent location coordinates. Has no effect\n                on traces that have \"width\" set.\n            boxgroupgap\n                Sets the gap (in plot fraction) between boxes\n                of the same location coordinate. Has no effect\n                on traces that have \"width\" set.\n            boxmode\n                Determines how boxes at the same location\n                coordinate are displayed on the graph. If\n                \"group\", the boxes are plotted next to one\n                another centered around the shared location. If\n                \"overlay\", the boxes are plotted over one\n                another, you might need to set \"opacity\" to see\n                them multiple boxes. Has no effect on traces\n                that have \"width\" set.\n            calendar\n                Sets the default calendar system to use for\n                interpreting and displaying dates throughout\n                the plot.\n            clickmode\n                Determines the mode of single click\n                interactions. \"event\" is the default value and\n                emits the `plotly_click` event. In addition\n                this mode emits the `plotly_selected` event in\n                drag modes \"lasso\" and \"select\", but with no\n                event data attached (kept for compatibility\n                reasons). The \"select\" flag enables selecting\n                single data points via click. This mode also\n                supports persistent selections, meaning that\n                pressing Shift while clicking, adds to /\n                subtracts from an existing selection. \"select\"\n                with `hovermode`: \"x\" can be confusing,\n                consider explicitly setting `hovermode`:\n                \"closest\" when using this feature. Selection\n                events are sent accordingly as long as \"event\"\n                flag is set as well. When the \"event\" flag is\n                missing, `plotly_click` and `plotly_selected`\n                events are not fired.\n            coloraxis\n                :class:`plotly.graph_objects.layout.Coloraxis`\n                instance or dict with compatible properties\n            colorscale\n                :class:`plotly.graph_objects.layout.Colorscale`\n                instance or dict with compatible properties\n            colorway\n                Sets the default trace colors.\n            computed\n                Placeholder for exporting automargin-impacting\n                values namely `margin.t`, `margin.b`,\n                `margin.l` and `margin.r` in \"full-json\" mode.\n            datarevision\n                If provided, a changed value tells\n                `Plotly.react` that one or more data arrays has\n                changed. This way you can modify arrays in-\n                place rather than making a complete new copy\n                for an incremental change. If NOT provided,\n                `Plotly.react` assumes that data arrays are\n                being treated as immutable, thus any data array\n                with a different identity from its predecessor\n                contains new data.\n            dragmode\n                Determines the mode of drag interactions.\n                \"select\" and \"lasso\" apply only to scatter\n                traces with markers or text. \"orbit\" and\n                \"turntable\" apply only to 3D scenes.\n            editrevision\n                Controls persistence of user-driven changes in\n                `editable: true` configuration, other than\n                trace names and axis titles. Defaults to\n                `layout.uirevision`.\n            extendfunnelareacolors\n                If `true`, the funnelarea slice colors (whether\n                given by `funnelareacolorway` or inherited from\n                `colorway`) will be extended to three times its\n                original length by first repeating every color\n                20% lighter then each color 20% darker. This is\n                intended to reduce the likelihood of reusing\n                the same color when you have many slices, but\n                you can set `false` to disable. Colors provided\n                in the trace, using `marker.colors`, are never\n                extended.\n            extendiciclecolors\n                If `true`, the icicle slice colors (whether\n                given by `iciclecolorway` or inherited from\n                `colorway`) will be extended to three times its\n                original length by first repeating every color\n                20% lighter then each color 20% darker. This is\n                intended to reduce the likelihood of reusing\n                the same color when you have many slices, but\n                you can set `false` to disable. Colors provided\n                in the trace, using `marker.colors`, are never\n                extended.\n            extendpiecolors\n                If `true`, the pie slice colors (whether given\n                by `piecolorway` or inherited from `colorway`)\n                will be extended to three times its original\n                length by first repeating every color 20%\n                lighter then each color 20% darker. This is\n                intended to reduce the likelihood of reusing\n                the same color when you have many slices, but\n                you can set `false` to disable. Colors provided\n                in the trace, using `marker.colors`, are never\n                extended.\n            extendsunburstcolors\n                If `true`, the sunburst slice colors (whether\n                given by `sunburstcolorway` or inherited from\n                `colorway`) will be extended to three times its\n                original length by first repeating every color\n                20% lighter then each color 20% darker. This is\n                intended to reduce the likelihood of reusing\n                the same color when you have many slices, but\n                you can set `false` to disable. Colors provided\n                in the trace, using `marker.colors`, are never\n                extended.\n            extendtreemapcolors\n                If `true`, the treemap slice colors (whether\n                given by `treemapcolorway` or inherited from\n                `colorway`) will be extended to three times its\n                original length by first repeating every color\n                20% lighter then each color 20% darker. This is\n                intended to reduce the likelihood of reusing\n                the same color when you have many slices, but\n                you can set `false` to disable. Colors provided\n                in the trace, using `marker.colors`, are never\n                extended.\n            font\n                Sets the global font. Note that fonts used in\n                traces and other layout components inherit from\n                the global font.\n            funnelareacolorway\n                Sets the default funnelarea slice colors.\n                Defaults to the main `colorway` used for trace\n                colors. If you specify a new list here it can\n                still be extended with lighter and darker\n                colors, see `extendfunnelareacolors`.\n            funnelgap\n                Sets the gap (in plot fraction) between bars of\n                adjacent location coordinates.\n            funnelgroupgap\n                Sets the gap (in plot fraction) between bars of\n                the same location coordinate.\n            funnelmode\n                Determines how bars at the same location\n                coordinate are displayed on the graph. With\n                \"stack\", the bars are stacked on top of one\n                another With \"group\", the bars are plotted next\n                to one another centered around the shared\n                location. With \"overlay\", the bars are plotted\n                over one another, you might need to an\n                \"opacity\" to see multiple bars.\n            geo\n                :class:`plotly.graph_objects.layout.Geo`\n                instance or dict with compatible properties\n            grid\n                :class:`plotly.graph_objects.layout.Grid`\n                instance or dict with compatible properties\n            height\n                Sets the plot's height (in px).\n            hiddenlabels\n                hiddenlabels is the funnelarea & pie chart\n                analog of visible:'legendonly' but it can\n                contain many labels, and can simultaneously\n                hide slices from several pies/funnelarea charts\n            hiddenlabelssrc\n                Sets the source reference on Chart Studio Cloud\n                for `hiddenlabels`.\n            hidesources\n                Determines whether or not a text link citing\n                the data source is placed at the bottom-right\n                cored of the figure. Has only an effect only on\n                graphs that have been generated via forked\n                graphs from the Chart Studio Cloud (at\n                https://chart-studio.plotly.com or on-premise).\n            hoverdistance\n                Sets the default distance (in pixels) to look\n                for data to add hover labels (-1 means no\n                cutoff, 0 means no looking for data). This is\n                only a real distance for hovering on point-like\n                objects, like scatter points. For area-like\n                objects (bars, scatter fills, etc) hovering is\n                on inside the area and off outside, but these\n                objects will not supersede hover on point-like\n                objects in case of conflict.\n            hoverlabel\n                :class:`plotly.graph_objects.layout.Hoverlabel`\n                instance or dict with compatible properties\n            hovermode\n                Determines the mode of hover interactions. If\n                \"closest\", a single hoverlabel will appear for\n                the \"closest\" point within the `hoverdistance`.\n                If \"x\" (or \"y\"), multiple hoverlabels will\n                appear for multiple points at the \"closest\" x-\n                (or y-) coordinate within the `hoverdistance`,\n                with the caveat that no more than one\n                hoverlabel will appear per trace. If *x\n                unified* (or *y unified*), a single hoverlabel\n                will appear multiple points at the closest x-\n                (or y-) coordinate within the `hoverdistance`\n                with the caveat that no more than one\n                hoverlabel will appear per trace. In this mode,\n                spikelines are enabled by default perpendicular\n                to the specified axis. If false, hover\n                interactions are disabled.\n            iciclecolorway\n                Sets the default icicle slice colors. Defaults\n                to the main `colorway` used for trace colors.\n                If you specify a new list here it can still be\n                extended with lighter and darker colors, see\n                `extendiciclecolors`.\n            images\n                A tuple of\n                :class:`plotly.graph_objects.layout.Image`\n                instances or dicts with compatible properties\n            imagedefaults\n                When used in a template (as\n                layout.template.layout.imagedefaults), sets the\n                default property values to use for elements of\n                layout.images\n            legend\n                :class:`plotly.graph_objects.layout.Legend`\n                instance or dict with compatible properties\n            mapbox\n                :class:`plotly.graph_objects.layout.Mapbox`\n                instance or dict with compatible properties\n            margin\n                :class:`plotly.graph_objects.layout.Margin`\n                instance or dict with compatible properties\n            meta\n                Assigns extra meta information that can be used\n                in various `text` attributes. Attributes such\n                as the graph, axis and colorbar `title.text`,\n                annotation `text` `trace.name` in legend items,\n                `rangeselector`, `updatemenus` and `sliders`\n                `label` text all support `meta`. One can access\n                `meta` fields using template strings:\n                `%{meta[i]}` where `i` is the index of the\n                `meta` item in question. `meta` can also be an\n                object for example `{key: value}` which can be\n                accessed %{meta[key]}.\n            metasrc\n                Sets the source reference on Chart Studio Cloud\n                for `meta`.\n            modebar\n                :class:`plotly.graph_objects.layout.Modebar`\n                instance or dict with compatible properties\n            newshape\n                :class:`plotly.graph_objects.layout.Newshape`\n                instance or dict with compatible properties\n            paper_bgcolor\n                Sets the background color of the paper where\n                the graph is drawn.\n            piecolorway\n                Sets the default pie slice colors. Defaults to\n                the main `colorway` used for trace colors. If\n                you specify a new list here it can still be\n                extended with lighter and darker colors, see\n                `extendpiecolors`.\n            plot_bgcolor\n                Sets the background color of the plotting area\n                in-between x and y axes.\n            polar\n                :class:`plotly.graph_objects.layout.Polar`\n                instance or dict with compatible properties\n            scene\n                :class:`plotly.graph_objects.layout.Scene`\n                instance or dict with compatible properties\n            selectdirection\n                When `dragmode` is set to \"select\", this limits\n                the selection of the drag to horizontal,\n                vertical or diagonal. \"h\" only allows\n                horizontal selection, \"v\" only vertical, \"d\"\n                only diagonal and \"any\" sets no limit.\n            selectionrevision\n                Controls persistence of user-driven changes in\n                selected points from all traces.\n            separators\n                Sets the decimal and thousand separators. For\n                example, *. * puts a '.' before decimals and a\n                space between thousands. In English locales,\n                dflt is \".,\" but other locales may alter this\n                default.\n            shapes\n                A tuple of\n                :class:`plotly.graph_objects.layout.Shape`\n                instances or dicts with compatible properties\n            shapedefaults\n                When used in a template (as\n                layout.template.layout.shapedefaults), sets the\n                default property values to use for elements of\n                layout.shapes\n            showlegend\n                Determines whether or not a legend is drawn.\n                Default is `true` if there is a trace to show\n                and any of these: a) Two or more traces would\n                by default be shown in the legend. b) One pie\n                trace is shown in the legend. c) One trace is\n                explicitly given with `showlegend: true`.\n            sliders\n                A tuple of\n                :class:`plotly.graph_objects.layout.Slider`\n                instances or dicts with compatible properties\n            sliderdefaults\n                When used in a template (as\n                layout.template.layout.sliderdefaults), sets\n                the default property values to use for elements\n                of layout.sliders\n            smith\n                :class:`plotly.graph_objects.layout.Smith`\n                instance or dict with compatible properties\n            spikedistance\n                Sets the default distance (in pixels) to look\n                for data to draw spikelines to (-1 means no\n                cutoff, 0 means no looking for data). As with\n                hoverdistance, distance does not apply to area-\n                like objects. In addition, some objects can be\n                hovered on but will not generate spikelines,\n                such as scatter fills.\n            sunburstcolorway\n                Sets the default sunburst slice colors.\n                Defaults to the main `colorway` used for trace\n                colors. If you specify a new list here it can\n                still be extended with lighter and darker\n                colors, see `extendsunburstcolors`.\n            template\n                Default attributes to be applied to the plot.\n                This should be a dict with format: `{'layout':\n                layoutTemplate, 'data': {trace_type:\n                [traceTemplate, ...], ...}}` where\n                `layoutTemplate` is a dict matching the\n                structure of `figure.layout` and\n                `traceTemplate` is a dict matching the\n                structure of the trace with type `trace_type`\n                (e.g. 'scatter'). Alternatively, this may be\n                specified as an instance of\n                plotly.graph_objs.layout.Template.  Trace\n                templates are applied cyclically to traces of\n                each type. Container arrays (eg `annotations`)\n                have special handling: An object ending in\n                `defaults` (eg `annotationdefaults`) is applied\n                to each array item. But if an item has a\n                `templateitemname` key we look in the template\n                array for an item with matching `name` and\n                apply that instead. If no matching `name` is\n                found we mark the item invisible. Any named\n                template item not referenced is appended to the\n                end of the array, so this can be used to add a\n                watermark annotation or a logo image, for\n                example. To omit one of these items on the\n                plot, make an item with matching\n                `templateitemname` and `visible: false`.\n            ternary\n                :class:`plotly.graph_objects.layout.Ternary`\n                instance or dict with compatible properties\n            title\n                :class:`plotly.graph_objects.layout.Title`\n                instance or dict with compatible properties\n            titlefont\n                Deprecated: Please use layout.title.font\n                instead. Sets the title font. Note that the\n                title's font used to be customized by the now\n                deprecated `titlefont` attribute.\n            transition\n                Sets transition options used during\n                Plotly.react updates.\n            treemapcolorway\n                Sets the default treemap slice colors. Defaults\n                to the main `colorway` used for trace colors.\n                If you specify a new list here it can still be\n                extended with lighter and darker colors, see\n                `extendtreemapcolors`.\n            uirevision\n                Used to allow user interactions with the plot\n                to persist after `Plotly.react` calls that are\n                unaware of these interactions. If `uirevision`\n                is omitted, or if it is given and it changed\n                from the previous `Plotly.react` call, the\n                exact new figure is used. If `uirevision` is\n                truthy and did NOT change, any attribute that\n                has been affected by user interactions and did\n                not receive a different value in the new figure\n                will keep the interaction value.\n                `layout.uirevision` attribute serves as the\n                default for `uirevision` attributes in various\n                sub-containers. For finer control you can set\n                these sub-attributes directly. For example, if\n                your app separately controls the data on the x\n                and y axes you might set\n                `xaxis.uirevision=*time*` and\n                `yaxis.uirevision=*cost*`. Then if only the y\n                data is changed, you can update\n                `yaxis.uirevision=*quantity*` and the y axis\n                range will reset but the x axis range will\n                retain any user-driven zoom.\n            uniformtext\n                :class:`plotly.graph_objects.layout.Uniformtext\n                ` instance or dict with compatible properties\n            updatemenus\n                A tuple of\n                :class:`plotly.graph_objects.layout.Updatemenu`\n                instances or dicts with compatible properties\n            updatemenudefaults\n                When used in a template (as\n                layout.template.layout.updatemenudefaults),\n                sets the default property values to use for\n                elements of layout.updatemenus\n            violingap\n                Sets the gap (in plot fraction) between violins\n                of adjacent location coordinates. Has no effect\n                on traces that have \"width\" set.\n            violingroupgap\n                Sets the gap (in plot fraction) between violins\n                of the same location coordinate. Has no effect\n                on traces that have \"width\" set.\n            violinmode\n                Determines how violins at the same location\n                coordinate are displayed on the graph. If\n                \"group\", the violins are plotted next to one\n                another centered around the shared location. If\n                \"overlay\", the violins are plotted over one\n                another, you might need to set \"opacity\" to see\n                them multiple violins. Has no effect on traces\n                that have \"width\" set.\n            waterfallgap\n                Sets the gap (in plot fraction) between bars of\n                adjacent location coordinates.\n            waterfallgroupgap\n                Sets the gap (in plot fraction) between bars of\n                the same location coordinate.\n            waterfallmode\n                Determines how bars at the same location\n                coordinate are displayed on the graph. With\n                \"group\", the bars are plotted next to one\n                another centered around the shared location.\n                With \"overlay\", the bars are plotted over one\n                another, you might need to an \"opacity\" to see\n                multiple bars.\n            width\n                Sets the plot's width (in px).\n            xaxis\n                :class:`plotly.graph_objects.layout.XAxis`\n                instance or dict with compatible properties\n            yaxis\n                :class:`plotly.graph_objects.layout.YAxis`\n                instance or dict with compatible properties\n",
     "output_type": "error",
     "traceback": [
      "\u001b[1;31m---------------------------------------------------------------------------\u001b[0m",
      "\u001b[1;31mValueError\u001b[0m                                Traceback (most recent call last)",
      "\u001b[1;32m~\\AppData\\Local\\Temp\\ipykernel_8592\\2009428929.py\u001b[0m in \u001b[0;36m<module>\u001b[1;34m\u001b[0m\n\u001b[0;32m     23\u001b[0m \u001b[0mtesla_data\u001b[0m\u001b[1;33m=\u001b[0m\u001b[1;33m[\u001b[0m\u001b[0mtrace0\u001b[0m\u001b[1;33m,\u001b[0m\u001b[0mtrace1\u001b[0m\u001b[1;33m]\u001b[0m\u001b[1;33m\u001b[0m\u001b[1;33m\u001b[0m\u001b[0m\n\u001b[0;32m     24\u001b[0m \u001b[0mlayout\u001b[0m\u001b[1;33m.\u001b[0m\u001b[0mxaxis\u001b[0m\u001b[1;33m.\u001b[0m\u001b[0mtitle\u001b[0m\u001b[1;33m.\u001b[0m\u001b[0mtext\u001b[0m\u001b[1;33m=\u001b[0m\u001b[1;34m'Day'\u001b[0m\u001b[1;33m\u001b[0m\u001b[1;33m\u001b[0m\u001b[0m\n\u001b[1;32m---> 25\u001b[1;33m \u001b[0mplot2\u001b[0m\u001b[1;33m=\u001b[0m\u001b[0mgo\u001b[0m\u001b[1;33m.\u001b[0m\u001b[0mFigure\u001b[0m\u001b[1;33m(\u001b[0m\u001b[0mdata\u001b[0m\u001b[1;33m=\u001b[0m\u001b[0mtesla_data\u001b[0m\u001b[1;33m,\u001b[0m\u001b[0mlayout\u001b[0m\u001b[1;33m=\u001b[0m\u001b[0mlayout\u001b[0m\u001b[1;33m)\u001b[0m\u001b[1;33m\u001b[0m\u001b[1;33m\u001b[0m\u001b[0m\n\u001b[0m\u001b[0;32m     26\u001b[0m \u001b[1;33m\u001b[0m\u001b[0m\n\u001b[0;32m     27\u001b[0m \u001b[0miplot\u001b[0m\u001b[1;33m(\u001b[0m\u001b[0mplot2\u001b[0m\u001b[1;33m)\u001b[0m\u001b[1;33m\u001b[0m\u001b[1;33m\u001b[0m\u001b[0m\n",
      "\u001b[1;32mc:\\users\\lavaa\\appdata\\local\\programs\\python\\python37\\lib\\site-packages\\plotly\\graph_objs\\_figure.py\u001b[0m in \u001b[0;36m__init__\u001b[1;34m(self, data, layout, frames, skip_invalid, **kwargs)\u001b[0m\n\u001b[0;32m    592\u001b[0m             \u001b[1;32mis\u001b[0m \u001b[0minvalid\u001b[0m \u001b[0mAND\u001b[0m \u001b[0mskip_invalid\u001b[0m \u001b[1;32mis\u001b[0m \u001b[1;32mFalse\u001b[0m\u001b[1;33m\u001b[0m\u001b[1;33m\u001b[0m\u001b[0m\n\u001b[0;32m    593\u001b[0m         \"\"\"\n\u001b[1;32m--> 594\u001b[1;33m         \u001b[0msuper\u001b[0m\u001b[1;33m(\u001b[0m\u001b[0mFigure\u001b[0m\u001b[1;33m,\u001b[0m \u001b[0mself\u001b[0m\u001b[1;33m)\u001b[0m\u001b[1;33m.\u001b[0m\u001b[0m__init__\u001b[0m\u001b[1;33m(\u001b[0m\u001b[0mdata\u001b[0m\u001b[1;33m,\u001b[0m \u001b[0mlayout\u001b[0m\u001b[1;33m,\u001b[0m \u001b[0mframes\u001b[0m\u001b[1;33m,\u001b[0m \u001b[0mskip_invalid\u001b[0m\u001b[1;33m,\u001b[0m \u001b[1;33m**\u001b[0m\u001b[0mkwargs\u001b[0m\u001b[1;33m)\u001b[0m\u001b[1;33m\u001b[0m\u001b[1;33m\u001b[0m\u001b[0m\n\u001b[0m\u001b[0;32m    595\u001b[0m \u001b[1;33m\u001b[0m\u001b[0m\n\u001b[0;32m    596\u001b[0m     \u001b[1;32mdef\u001b[0m \u001b[0mupdate\u001b[0m\u001b[1;33m(\u001b[0m\u001b[0mself\u001b[0m\u001b[1;33m,\u001b[0m \u001b[0mdict1\u001b[0m\u001b[1;33m=\u001b[0m\u001b[1;32mNone\u001b[0m\u001b[1;33m,\u001b[0m \u001b[0moverwrite\u001b[0m\u001b[1;33m=\u001b[0m\u001b[1;32mFalse\u001b[0m\u001b[1;33m,\u001b[0m \u001b[1;33m**\u001b[0m\u001b[0mkwargs\u001b[0m\u001b[1;33m)\u001b[0m \u001b[1;33m->\u001b[0m \u001b[1;34m\"Figure\"\u001b[0m\u001b[1;33m:\u001b[0m\u001b[1;33m\u001b[0m\u001b[1;33m\u001b[0m\u001b[0m\n",
      "\u001b[1;32mc:\\users\\lavaa\\appdata\\local\\programs\\python\\python37\\lib\\site-packages\\plotly\\basedatatypes.py\u001b[0m in \u001b[0;36m__init__\u001b[1;34m(self, data, layout_plotly, frames, skip_invalid, **kwargs)\u001b[0m\n\u001b[0;32m    556\u001b[0m         \u001b[1;31m# ### Import Layout ###\u001b[0m\u001b[1;33m\u001b[0m\u001b[1;33m\u001b[0m\u001b[1;33m\u001b[0m\u001b[0m\n\u001b[0;32m    557\u001b[0m         self._layout_obj = self._layout_validator.validate_coerce(\n\u001b[1;32m--> 558\u001b[1;33m             \u001b[0mlayout\u001b[0m\u001b[1;33m,\u001b[0m \u001b[0mskip_invalid\u001b[0m\u001b[1;33m=\u001b[0m\u001b[0mskip_invalid\u001b[0m\u001b[1;33m,\u001b[0m \u001b[0m_validate\u001b[0m\u001b[1;33m=\u001b[0m\u001b[0mself\u001b[0m\u001b[1;33m.\u001b[0m\u001b[0m_validate\u001b[0m\u001b[1;33m\u001b[0m\u001b[1;33m\u001b[0m\u001b[0m\n\u001b[0m\u001b[0;32m    559\u001b[0m         )\n\u001b[0;32m    560\u001b[0m \u001b[1;33m\u001b[0m\u001b[0m\n",
      "\u001b[1;32mc:\\users\\lavaa\\appdata\\local\\programs\\python\\python37\\lib\\site-packages\\_plotly_utils\\basevalidators.py\u001b[0m in \u001b[0;36mvalidate_coerce\u001b[1;34m(self, v, skip_invalid, _validate)\u001b[0m\n\u001b[0;32m   2467\u001b[0m                 \u001b[0mv\u001b[0m \u001b[1;33m=\u001b[0m \u001b[0mself\u001b[0m\u001b[1;33m.\u001b[0m\u001b[0mdata_class\u001b[0m\u001b[1;33m(\u001b[0m\u001b[1;33m)\u001b[0m\u001b[1;33m\u001b[0m\u001b[1;33m\u001b[0m\u001b[0m\n\u001b[0;32m   2468\u001b[0m             \u001b[1;32melse\u001b[0m\u001b[1;33m:\u001b[0m\u001b[1;33m\u001b[0m\u001b[1;33m\u001b[0m\u001b[0m\n\u001b[1;32m-> 2469\u001b[1;33m                 \u001b[0mself\u001b[0m\u001b[1;33m.\u001b[0m\u001b[0mraise_invalid_val\u001b[0m\u001b[1;33m(\u001b[0m\u001b[0mv\u001b[0m\u001b[1;33m)\u001b[0m\u001b[1;33m\u001b[0m\u001b[1;33m\u001b[0m\u001b[0m\n\u001b[0m\u001b[0;32m   2470\u001b[0m \u001b[1;33m\u001b[0m\u001b[0m\n\u001b[0;32m   2471\u001b[0m         \u001b[0mv\u001b[0m\u001b[1;33m.\u001b[0m\u001b[0m_plotly_name\u001b[0m \u001b[1;33m=\u001b[0m \u001b[0mself\u001b[0m\u001b[1;33m.\u001b[0m\u001b[0mplotly_name\u001b[0m\u001b[1;33m\u001b[0m\u001b[1;33m\u001b[0m\u001b[0m\n",
      "\u001b[1;32mc:\\users\\lavaa\\appdata\\local\\programs\\python\\python37\\lib\\site-packages\\_plotly_utils\\basevalidators.py\u001b[0m in \u001b[0;36mraise_invalid_val\u001b[1;34m(self, v, inds)\u001b[0m\n\u001b[0;32m    296\u001b[0m                 \u001b[0mtyp\u001b[0m\u001b[1;33m=\u001b[0m\u001b[0mtype_str\u001b[0m\u001b[1;33m(\u001b[0m\u001b[0mv\u001b[0m\u001b[1;33m)\u001b[0m\u001b[1;33m,\u001b[0m\u001b[1;33m\u001b[0m\u001b[1;33m\u001b[0m\u001b[0m\n\u001b[0;32m    297\u001b[0m                 \u001b[0mv\u001b[0m\u001b[1;33m=\u001b[0m\u001b[0mrepr\u001b[0m\u001b[1;33m(\u001b[0m\u001b[0mv\u001b[0m\u001b[1;33m)\u001b[0m\u001b[1;33m,\u001b[0m\u001b[1;33m\u001b[0m\u001b[1;33m\u001b[0m\u001b[0m\n\u001b[1;32m--> 298\u001b[1;33m                 \u001b[0mvalid_clr_desc\u001b[0m\u001b[1;33m=\u001b[0m\u001b[0mself\u001b[0m\u001b[1;33m.\u001b[0m\u001b[0mdescription\u001b[0m\u001b[1;33m(\u001b[0m\u001b[1;33m)\u001b[0m\u001b[1;33m,\u001b[0m\u001b[1;33m\u001b[0m\u001b[1;33m\u001b[0m\u001b[0m\n\u001b[0m\u001b[0;32m    299\u001b[0m             )\n\u001b[0;32m    300\u001b[0m         )\n",
      "\u001b[1;31mValueError\u001b[0m: \n    Invalid value of type 'builtins.module' received for the 'layout' property of \n        Received value: <module 'plotly.graph_objs.layout' from 'c:\\\\users\\\\lavaa\\\\appdata\\\\local\\\\programs\\\\python\\\\python37\\\\lib\\\\site-packages\\\\plotly\\\\graph_objs\\\\layout\\\\__init__.py'>\n\n    The 'layout' property is an instance of Layout\n    that may be specified as:\n      - An instance of :class:`plotly.graph_objs.Layout`\n      - A dict of string/value properties that will be passed\n        to the Layout constructor\n\n        Supported dict properties:\n            \n            activeshape\n                :class:`plotly.graph_objects.layout.Activeshape\n                ` instance or dict with compatible properties\n            annotations\n                A tuple of\n                :class:`plotly.graph_objects.layout.Annotation`\n                instances or dicts with compatible properties\n            annotationdefaults\n                When used in a template (as\n                layout.template.layout.annotationdefaults),\n                sets the default property values to use for\n                elements of layout.annotations\n            autosize\n                Determines whether or not a layout width or\n                height that has been left undefined by the user\n                is initialized on each relayout. Note that,\n                regardless of this attribute, an undefined\n                layout width or height is always initialized on\n                the first call to plot.\n            autotypenumbers\n                Using \"strict\" a numeric string in trace data\n                is not converted to a number. Using *convert\n                types* a numeric string in trace data may be\n                treated as a number during automatic axis\n                `type` detection. This is the default value;\n                however it could be overridden for individual\n                axes.\n            bargap\n                Sets the gap (in plot fraction) between bars of\n                adjacent location coordinates.\n            bargroupgap\n                Sets the gap (in plot fraction) between bars of\n                the same location coordinate.\n            barmode\n                Determines how bars at the same location\n                coordinate are displayed on the graph. With\n                \"stack\", the bars are stacked on top of one\n                another With \"relative\", the bars are stacked\n                on top of one another, with negative values\n                below the axis, positive values above With\n                \"group\", the bars are plotted next to one\n                another centered around the shared location.\n                With \"overlay\", the bars are plotted over one\n                another, you might need to an \"opacity\" to see\n                multiple bars.\n            barnorm\n                Sets the normalization for bar traces on the\n                graph. With \"fraction\", the value of each bar\n                is divided by the sum of all values at that\n                location coordinate. \"percent\" is the same but\n                multiplied by 100 to show percentages.\n            boxgap\n                Sets the gap (in plot fraction) between boxes\n                of adjacent location coordinates. Has no effect\n                on traces that have \"width\" set.\n            boxgroupgap\n                Sets the gap (in plot fraction) between boxes\n                of the same location coordinate. Has no effect\n                on traces that have \"width\" set.\n            boxmode\n                Determines how boxes at the same location\n                coordinate are displayed on the graph. If\n                \"group\", the boxes are plotted next to one\n                another centered around the shared location. If\n                \"overlay\", the boxes are plotted over one\n                another, you might need to set \"opacity\" to see\n                them multiple boxes. Has no effect on traces\n                that have \"width\" set.\n            calendar\n                Sets the default calendar system to use for\n                interpreting and displaying dates throughout\n                the plot.\n            clickmode\n                Determines the mode of single click\n                interactions. \"event\" is the default value and\n                emits the `plotly_click` event. In addition\n                this mode emits the `plotly_selected` event in\n                drag modes \"lasso\" and \"select\", but with no\n                event data attached (kept for compatibility\n                reasons). The \"select\" flag enables selecting\n                single data points via click. This mode also\n                supports persistent selections, meaning that\n                pressing Shift while clicking, adds to /\n                subtracts from an existing selection. \"select\"\n                with `hovermode`: \"x\" can be confusing,\n                consider explicitly setting `hovermode`:\n                \"closest\" when using this feature. Selection\n                events are sent accordingly as long as \"event\"\n                flag is set as well. When the \"event\" flag is\n                missing, `plotly_click` and `plotly_selected`\n                events are not fired.\n            coloraxis\n                :class:`plotly.graph_objects.layout.Coloraxis`\n                instance or dict with compatible properties\n            colorscale\n                :class:`plotly.graph_objects.layout.Colorscale`\n                instance or dict with compatible properties\n            colorway\n                Sets the default trace colors.\n            computed\n                Placeholder for exporting automargin-impacting\n                values namely `margin.t`, `margin.b`,\n                `margin.l` and `margin.r` in \"full-json\" mode.\n            datarevision\n                If provided, a changed value tells\n                `Plotly.react` that one or more data arrays has\n                changed. This way you can modify arrays in-\n                place rather than making a complete new copy\n                for an incremental change. If NOT provided,\n                `Plotly.react` assumes that data arrays are\n                being treated as immutable, thus any data array\n                with a different identity from its predecessor\n                contains new data.\n            dragmode\n                Determines the mode of drag interactions.\n                \"select\" and \"lasso\" apply only to scatter\n                traces with markers or text. \"orbit\" and\n                \"turntable\" apply only to 3D scenes.\n            editrevision\n                Controls persistence of user-driven changes in\n                `editable: true` configuration, other than\n                trace names and axis titles. Defaults to\n                `layout.uirevision`.\n            extendfunnelareacolors\n                If `true`, the funnelarea slice colors (whether\n                given by `funnelareacolorway` or inherited from\n                `colorway`) will be extended to three times its\n                original length by first repeating every color\n                20% lighter then each color 20% darker. This is\n                intended to reduce the likelihood of reusing\n                the same color when you have many slices, but\n                you can set `false` to disable. Colors provided\n                in the trace, using `marker.colors`, are never\n                extended.\n            extendiciclecolors\n                If `true`, the icicle slice colors (whether\n                given by `iciclecolorway` or inherited from\n                `colorway`) will be extended to three times its\n                original length by first repeating every color\n                20% lighter then each color 20% darker. This is\n                intended to reduce the likelihood of reusing\n                the same color when you have many slices, but\n                you can set `false` to disable. Colors provided\n                in the trace, using `marker.colors`, are never\n                extended.\n            extendpiecolors\n                If `true`, the pie slice colors (whether given\n                by `piecolorway` or inherited from `colorway`)\n                will be extended to three times its original\n                length by first repeating every color 20%\n                lighter then each color 20% darker. This is\n                intended to reduce the likelihood of reusing\n                the same color when you have many slices, but\n                you can set `false` to disable. Colors provided\n                in the trace, using `marker.colors`, are never\n                extended.\n            extendsunburstcolors\n                If `true`, the sunburst slice colors (whether\n                given by `sunburstcolorway` or inherited from\n                `colorway`) will be extended to three times its\n                original length by first repeating every color\n                20% lighter then each color 20% darker. This is\n                intended to reduce the likelihood of reusing\n                the same color when you have many slices, but\n                you can set `false` to disable. Colors provided\n                in the trace, using `marker.colors`, are never\n                extended.\n            extendtreemapcolors\n                If `true`, the treemap slice colors (whether\n                given by `treemapcolorway` or inherited from\n                `colorway`) will be extended to three times its\n                original length by first repeating every color\n                20% lighter then each color 20% darker. This is\n                intended to reduce the likelihood of reusing\n                the same color when you have many slices, but\n                you can set `false` to disable. Colors provided\n                in the trace, using `marker.colors`, are never\n                extended.\n            font\n                Sets the global font. Note that fonts used in\n                traces and other layout components inherit from\n                the global font.\n            funnelareacolorway\n                Sets the default funnelarea slice colors.\n                Defaults to the main `colorway` used for trace\n                colors. If you specify a new list here it can\n                still be extended with lighter and darker\n                colors, see `extendfunnelareacolors`.\n            funnelgap\n                Sets the gap (in plot fraction) between bars of\n                adjacent location coordinates.\n            funnelgroupgap\n                Sets the gap (in plot fraction) between bars of\n                the same location coordinate.\n            funnelmode\n                Determines how bars at the same location\n                coordinate are displayed on the graph. With\n                \"stack\", the bars are stacked on top of one\n                another With \"group\", the bars are plotted next\n                to one another centered around the shared\n                location. With \"overlay\", the bars are plotted\n                over one another, you might need to an\n                \"opacity\" to see multiple bars.\n            geo\n                :class:`plotly.graph_objects.layout.Geo`\n                instance or dict with compatible properties\n            grid\n                :class:`plotly.graph_objects.layout.Grid`\n                instance or dict with compatible properties\n            height\n                Sets the plot's height (in px).\n            hiddenlabels\n                hiddenlabels is the funnelarea & pie chart\n                analog of visible:'legendonly' but it can\n                contain many labels, and can simultaneously\n                hide slices from several pies/funnelarea charts\n            hiddenlabelssrc\n                Sets the source reference on Chart Studio Cloud\n                for `hiddenlabels`.\n            hidesources\n                Determines whether or not a text link citing\n                the data source is placed at the bottom-right\n                cored of the figure. Has only an effect only on\n                graphs that have been generated via forked\n                graphs from the Chart Studio Cloud (at\n                https://chart-studio.plotly.com or on-premise).\n            hoverdistance\n                Sets the default distance (in pixels) to look\n                for data to add hover labels (-1 means no\n                cutoff, 0 means no looking for data). This is\n                only a real distance for hovering on point-like\n                objects, like scatter points. For area-like\n                objects (bars, scatter fills, etc) hovering is\n                on inside the area and off outside, but these\n                objects will not supersede hover on point-like\n                objects in case of conflict.\n            hoverlabel\n                :class:`plotly.graph_objects.layout.Hoverlabel`\n                instance or dict with compatible properties\n            hovermode\n                Determines the mode of hover interactions. If\n                \"closest\", a single hoverlabel will appear for\n                the \"closest\" point within the `hoverdistance`.\n                If \"x\" (or \"y\"), multiple hoverlabels will\n                appear for multiple points at the \"closest\" x-\n                (or y-) coordinate within the `hoverdistance`,\n                with the caveat that no more than one\n                hoverlabel will appear per trace. If *x\n                unified* (or *y unified*), a single hoverlabel\n                will appear multiple points at the closest x-\n                (or y-) coordinate within the `hoverdistance`\n                with the caveat that no more than one\n                hoverlabel will appear per trace. In this mode,\n                spikelines are enabled by default perpendicular\n                to the specified axis. If false, hover\n                interactions are disabled.\n            iciclecolorway\n                Sets the default icicle slice colors. Defaults\n                to the main `colorway` used for trace colors.\n                If you specify a new list here it can still be\n                extended with lighter and darker colors, see\n                `extendiciclecolors`.\n            images\n                A tuple of\n                :class:`plotly.graph_objects.layout.Image`\n                instances or dicts with compatible properties\n            imagedefaults\n                When used in a template (as\n                layout.template.layout.imagedefaults), sets the\n                default property values to use for elements of\n                layout.images\n            legend\n                :class:`plotly.graph_objects.layout.Legend`\n                instance or dict with compatible properties\n            mapbox\n                :class:`plotly.graph_objects.layout.Mapbox`\n                instance or dict with compatible properties\n            margin\n                :class:`plotly.graph_objects.layout.Margin`\n                instance or dict with compatible properties\n            meta\n                Assigns extra meta information that can be used\n                in various `text` attributes. Attributes such\n                as the graph, axis and colorbar `title.text`,\n                annotation `text` `trace.name` in legend items,\n                `rangeselector`, `updatemenus` and `sliders`\n                `label` text all support `meta`. One can access\n                `meta` fields using template strings:\n                `%{meta[i]}` where `i` is the index of the\n                `meta` item in question. `meta` can also be an\n                object for example `{key: value}` which can be\n                accessed %{meta[key]}.\n            metasrc\n                Sets the source reference on Chart Studio Cloud\n                for `meta`.\n            modebar\n                :class:`plotly.graph_objects.layout.Modebar`\n                instance or dict with compatible properties\n            newshape\n                :class:`plotly.graph_objects.layout.Newshape`\n                instance or dict with compatible properties\n            paper_bgcolor\n                Sets the background color of the paper where\n                the graph is drawn.\n            piecolorway\n                Sets the default pie slice colors. Defaults to\n                the main `colorway` used for trace colors. If\n                you specify a new list here it can still be\n                extended with lighter and darker colors, see\n                `extendpiecolors`.\n            plot_bgcolor\n                Sets the background color of the plotting area\n                in-between x and y axes.\n            polar\n                :class:`plotly.graph_objects.layout.Polar`\n                instance or dict with compatible properties\n            scene\n                :class:`plotly.graph_objects.layout.Scene`\n                instance or dict with compatible properties\n            selectdirection\n                When `dragmode` is set to \"select\", this limits\n                the selection of the drag to horizontal,\n                vertical or diagonal. \"h\" only allows\n                horizontal selection, \"v\" only vertical, \"d\"\n                only diagonal and \"any\" sets no limit.\n            selectionrevision\n                Controls persistence of user-driven changes in\n                selected points from all traces.\n            separators\n                Sets the decimal and thousand separators. For\n                example, *. * puts a '.' before decimals and a\n                space between thousands. In English locales,\n                dflt is \".,\" but other locales may alter this\n                default.\n            shapes\n                A tuple of\n                :class:`plotly.graph_objects.layout.Shape`\n                instances or dicts with compatible properties\n            shapedefaults\n                When used in a template (as\n                layout.template.layout.shapedefaults), sets the\n                default property values to use for elements of\n                layout.shapes\n            showlegend\n                Determines whether or not a legend is drawn.\n                Default is `true` if there is a trace to show\n                and any of these: a) Two or more traces would\n                by default be shown in the legend. b) One pie\n                trace is shown in the legend. c) One trace is\n                explicitly given with `showlegend: true`.\n            sliders\n                A tuple of\n                :class:`plotly.graph_objects.layout.Slider`\n                instances or dicts with compatible properties\n            sliderdefaults\n                When used in a template (as\n                layout.template.layout.sliderdefaults), sets\n                the default property values to use for elements\n                of layout.sliders\n            smith\n                :class:`plotly.graph_objects.layout.Smith`\n                instance or dict with compatible properties\n            spikedistance\n                Sets the default distance (in pixels) to look\n                for data to draw spikelines to (-1 means no\n                cutoff, 0 means no looking for data). As with\n                hoverdistance, distance does not apply to area-\n                like objects. In addition, some objects can be\n                hovered on but will not generate spikelines,\n                such as scatter fills.\n            sunburstcolorway\n                Sets the default sunburst slice colors.\n                Defaults to the main `colorway` used for trace\n                colors. If you specify a new list here it can\n                still be extended with lighter and darker\n                colors, see `extendsunburstcolors`.\n            template\n                Default attributes to be applied to the plot.\n                This should be a dict with format: `{'layout':\n                layoutTemplate, 'data': {trace_type:\n                [traceTemplate, ...], ...}}` where\n                `layoutTemplate` is a dict matching the\n                structure of `figure.layout` and\n                `traceTemplate` is a dict matching the\n                structure of the trace with type `trace_type`\n                (e.g. 'scatter'). Alternatively, this may be\n                specified as an instance of\n                plotly.graph_objs.layout.Template.  Trace\n                templates are applied cyclically to traces of\n                each type. Container arrays (eg `annotations`)\n                have special handling: An object ending in\n                `defaults` (eg `annotationdefaults`) is applied\n                to each array item. But if an item has a\n                `templateitemname` key we look in the template\n                array for an item with matching `name` and\n                apply that instead. If no matching `name` is\n                found we mark the item invisible. Any named\n                template item not referenced is appended to the\n                end of the array, so this can be used to add a\n                watermark annotation or a logo image, for\n                example. To omit one of these items on the\n                plot, make an item with matching\n                `templateitemname` and `visible: false`.\n            ternary\n                :class:`plotly.graph_objects.layout.Ternary`\n                instance or dict with compatible properties\n            title\n                :class:`plotly.graph_objects.layout.Title`\n                instance or dict with compatible properties\n            titlefont\n                Deprecated: Please use layout.title.font\n                instead. Sets the title font. Note that the\n                title's font used to be customized by the now\n                deprecated `titlefont` attribute.\n            transition\n                Sets transition options used during\n                Plotly.react updates.\n            treemapcolorway\n                Sets the default treemap slice colors. Defaults\n                to the main `colorway` used for trace colors.\n                If you specify a new list here it can still be\n                extended with lighter and darker colors, see\n                `extendtreemapcolors`.\n            uirevision\n                Used to allow user interactions with the plot\n                to persist after `Plotly.react` calls that are\n                unaware of these interactions. If `uirevision`\n                is omitted, or if it is given and it changed\n                from the previous `Plotly.react` call, the\n                exact new figure is used. If `uirevision` is\n                truthy and did NOT change, any attribute that\n                has been affected by user interactions and did\n                not receive a different value in the new figure\n                will keep the interaction value.\n                `layout.uirevision` attribute serves as the\n                default for `uirevision` attributes in various\n                sub-containers. For finer control you can set\n                these sub-attributes directly. For example, if\n                your app separately controls the data on the x\n                and y axes you might set\n                `xaxis.uirevision=*time*` and\n                `yaxis.uirevision=*cost*`. Then if only the y\n                data is changed, you can update\n                `yaxis.uirevision=*quantity*` and the y axis\n                range will reset but the x axis range will\n                retain any user-driven zoom.\n            uniformtext\n                :class:`plotly.graph_objects.layout.Uniformtext\n                ` instance or dict with compatible properties\n            updatemenus\n                A tuple of\n                :class:`plotly.graph_objects.layout.Updatemenu`\n                instances or dicts with compatible properties\n            updatemenudefaults\n                When used in a template (as\n                layout.template.layout.updatemenudefaults),\n                sets the default property values to use for\n                elements of layout.updatemenus\n            violingap\n                Sets the gap (in plot fraction) between violins\n                of adjacent location coordinates. Has no effect\n                on traces that have \"width\" set.\n            violingroupgap\n                Sets the gap (in plot fraction) between violins\n                of the same location coordinate. Has no effect\n                on traces that have \"width\" set.\n            violinmode\n                Determines how violins at the same location\n                coordinate are displayed on the graph. If\n                \"group\", the violins are plotted next to one\n                another centered around the shared location. If\n                \"overlay\", the violins are plotted over one\n                another, you might need to set \"opacity\" to see\n                them multiple violins. Has no effect on traces\n                that have \"width\" set.\n            waterfallgap\n                Sets the gap (in plot fraction) between bars of\n                adjacent location coordinates.\n            waterfallgroupgap\n                Sets the gap (in plot fraction) between bars of\n                the same location coordinate.\n            waterfallmode\n                Determines how bars at the same location\n                coordinate are displayed on the graph. With\n                \"group\", the bars are plotted next to one\n                another centered around the shared location.\n                With \"overlay\", the bars are plotted over one\n                another, you might need to an \"opacity\" to see\n                multiple bars.\n            width\n                Sets the plot's width (in px).\n            xaxis\n                :class:`plotly.graph_objects.layout.XAxis`\n                instance or dict with compatible properties\n            yaxis\n                :class:`plotly.graph_objects.layout.YAxis`\n                instance or dict with compatible properties\n"
     ]
    }
   ],
   "source": [
    "#plot actual and predicted values for train dataset\n",
    "from plotly.graph_objects import layout\n",
    "import chart_studio.plotly as py\n",
    "import plotly.graph_objs as go\n",
    "from plotly.offline import plot\n",
    "from plotly.offline import init_notebook_mode,plot,iplot\n",
    "init_notebook_mode(connected=True)\n",
    "\n",
    "trace0= go.Scatter(\n",
    "      x=X_train.T[0],\n",
    "      y=y_train,\n",
    "      mode='markers',\n",
    "      name='Actual'\n",
    ")\n",
    "\n",
    "trace1=go.Scatter(\n",
    "    x=X_train.T[0],\n",
    "    y=lm.predict(X_train).T,\n",
    "    mode='lines',name='Predicted'\n",
    "\n",
    ")\n",
    "\n",
    "tesla_data=[trace0,trace1]\n",
    "layout.xaxis.title.text='Day'\n",
    "plot2=go.Figure(data=tesla_data,layout=layout)\n",
    "\n",
    "iplot(plot2)"
   ]
  },
  {
   "cell_type": "code",
   "execution_count": 16,
   "id": "298d73e9",
   "metadata": {},
   "outputs": [
    {
     "ename": "NameError",
     "evalue": "name 'LinearRegressionModel' is not defined",
     "output_type": "error",
     "traceback": [
      "\u001b[1;31m---------------------------------------------------------------------------\u001b[0m",
      "\u001b[1;31mNameError\u001b[0m                                 Traceback (most recent call last)",
      "\u001b[1;32m~\\AppData\\Local\\Temp\\ipykernel_8592\\1374111657.py\u001b[0m in \u001b[0;36m<module>\u001b[1;34m\u001b[0m\n\u001b[0;32m      1\u001b[0m \u001b[1;32mfrom\u001b[0m \u001b[0msklearn\u001b[0m\u001b[1;33m.\u001b[0m\u001b[0mlinear_model\u001b[0m \u001b[1;32mimport\u001b[0m \u001b[0mLinearRegression\u001b[0m\u001b[1;33m\u001b[0m\u001b[1;33m\u001b[0m\u001b[0m\n\u001b[1;32m----> 2\u001b[1;33m \u001b[0mmodel\u001b[0m \u001b[1;33m=\u001b[0m \u001b[0mLinearRegressionModel\u001b[0m\u001b[1;33m.\u001b[0m\u001b[0mbuild_model\u001b[0m\u001b[1;33m(\u001b[0m\u001b[0mX_train\u001b[0m\u001b[1;33m,\u001b[0m\u001b[0my_train\u001b[0m\u001b[1;33m)\u001b[0m\u001b[1;33m\u001b[0m\u001b[1;33m\u001b[0m\u001b[0m\n\u001b[0m",
      "\u001b[1;31mNameError\u001b[0m: name 'LinearRegressionModel' is not defined"
     ]
    }
   ],
   "source": [
    "from sklearn.linear_model import LinearRegression\n",
    "model = LinearRegressionModel.build_model(X_train,y_train)"
   ]
  },
  {
   "cell_type": "code",
   "execution_count": 17,
   "id": "bfd4454a",
   "metadata": {},
   "outputs": [
    {
     "name": "stdout",
     "output_type": "stream",
     "text": [
      "intercept: -153.9408029867544\n",
      "slope: [0.39551479]\n"
     ]
    }
   ],
   "source": [
    "regressor = LinearRegression()\n",
    "regressor.fit(X_train,y_train)\n",
    "print(f\"intercept: {regressor.intercept_}\")\n",
    "print(f\"slope: {regressor.coef_}\")"
   ]
  },
  {
   "cell_type": "code",
   "execution_count": 18,
   "id": "3e07746a",
   "metadata": {},
   "outputs": [],
   "source": [
    "predictions = regressor.predict(X_test)"
   ]
  },
  {
   "cell_type": "code",
   "execution_count": 19,
   "id": "d3e7e9c9",
   "metadata": {},
   "outputs": [
    {
     "ename": "TypeError",
     "evalue": "'numpy.bool_' object is not iterable",
     "output_type": "error",
     "traceback": [
      "\u001b[1;31m---------------------------------------------------------------------------\u001b[0m",
      "\u001b[1;31mTypeError\u001b[0m                                 Traceback (most recent call last)",
      "\u001b[1;32m~\\AppData\\Local\\Temp\\ipykernel_8592\\1184298530.py\u001b[0m in \u001b[0;36m<module>\u001b[1;34m\u001b[0m\n\u001b[0;32m      5\u001b[0m \u001b[0mplt\u001b[0m\u001b[1;33m.\u001b[0m\u001b[0mxscale\u001b[0m\u001b[1;33m(\u001b[0m\u001b[1;34m'log'\u001b[0m\u001b[1;33m)\u001b[0m\u001b[1;33m\u001b[0m\u001b[1;33m\u001b[0m\u001b[0m\n\u001b[0;32m      6\u001b[0m \u001b[1;33m\u001b[0m\u001b[0m\n\u001b[1;32m----> 7\u001b[1;33m \u001b[0mp1\u001b[0m \u001b[1;33m=\u001b[0m \u001b[0mmax\u001b[0m\u001b[1;33m(\u001b[0m\u001b[0mmax\u001b[0m\u001b[1;33m(\u001b[0m\u001b[0mpredictions\u001b[0m\u001b[1;33m.\u001b[0m\u001b[0mall\u001b[0m\u001b[1;33m(\u001b[0m\u001b[1;33m)\u001b[0m\u001b[1;33m)\u001b[0m\u001b[1;33m,\u001b[0m \u001b[0mmax\u001b[0m\u001b[1;33m(\u001b[0m\u001b[0mX_test\u001b[0m\u001b[1;33m)\u001b[0m\u001b[1;33m)\u001b[0m\u001b[1;33m\u001b[0m\u001b[1;33m\u001b[0m\u001b[0m\n\u001b[0m\u001b[0;32m      8\u001b[0m \u001b[0mp2\u001b[0m \u001b[1;33m=\u001b[0m \u001b[0mmin\u001b[0m\u001b[1;33m(\u001b[0m\u001b[0mmin\u001b[0m\u001b[1;33m(\u001b[0m\u001b[0mpredictions\u001b[0m\u001b[1;33m.\u001b[0m\u001b[0mall\u001b[0m\u001b[1;33m(\u001b[0m\u001b[1;33m)\u001b[0m\u001b[1;33m)\u001b[0m\u001b[1;33m,\u001b[0m \u001b[0mmin\u001b[0m\u001b[1;33m(\u001b[0m\u001b[0mX_test\u001b[0m\u001b[1;33m)\u001b[0m\u001b[1;33m)\u001b[0m\u001b[1;33m\u001b[0m\u001b[1;33m\u001b[0m\u001b[0m\n\u001b[0;32m      9\u001b[0m \u001b[0mplt\u001b[0m\u001b[1;33m.\u001b[0m\u001b[0mplot\u001b[0m\u001b[1;33m(\u001b[0m\u001b[1;33m[\u001b[0m\u001b[0mp1\u001b[0m\u001b[1;33m,\u001b[0m \u001b[0mp2\u001b[0m\u001b[1;33m]\u001b[0m\u001b[1;33m,\u001b[0m \u001b[1;33m[\u001b[0m\u001b[0mp1\u001b[0m\u001b[1;33m,\u001b[0m \u001b[0mp2\u001b[0m\u001b[1;33m]\u001b[0m\u001b[1;33m,\u001b[0m \u001b[1;34m'b-'\u001b[0m\u001b[1;33m)\u001b[0m\u001b[1;33m\u001b[0m\u001b[1;33m\u001b[0m\u001b[0m\n",
      "\u001b[1;31mTypeError\u001b[0m: 'numpy.bool_' object is not iterable"
     ]
    },
    {
     "data": {
      "image/png": "[encoded data removed]",
      "text/plain": [
       "<Figure size 720x720 with 1 Axes>"
      ]
     },
     "metadata": {
      "needs_background": "light"
     },
     "output_type": "display_data"
    }
   ],
   "source": [
    "import matplotlib.pyplot as plt\n",
    "plt.figure(figsize=(10,10))\n",
    "plt.scatter(X_test, predictions, c='crimson')\n",
    "plt.yscale('log')\n",
    "plt.xscale('log')\n",
    "\n",
    "p1 = max(max(predictions.all()), max(X_test))\n",
    "p2 = min(min(predictions.all()), min(X_test))\n",
    "plt.plot([p1, p2], [p1, p2], 'b-')\n",
    "plt.xlabel('True Values', fontsize=15)\n",
    "plt.ylabel('Predictions', fontsize=15)\n",
    "plt.axis('equal')\n",
    "plt.show()"
   ]
  },
  {
   "cell_type": "markdown",
   "id": "85602e48",
   "metadata": {},
   "source": [
    "# Evaluating the Algorithm\n",
    "The final step is to evaluate the performance of algorithm. This step is particularly important to compare how well different algorithms perform on a particular dataset. For regression algorithms, three evaluation metrics are commonly used:\n",
    "\n",
    "Mean Absolute Error (MAE) is the mean of the absolute value of the errors.\n",
    "\n",
    "Mean Squared Error (MSE) is the mean of the squared errors.\n",
    "\n",
    "Root Mean Squared Error (RMSE) is the square root of the mean of the squared errors."
   ]
  },
  {
   "cell_type": "code",
   "execution_count": 20,
   "id": "1811efec",
   "metadata": {},
   "outputs": [
    {
     "name": "stdout",
     "output_type": "stream",
     "text": [
      "Mean Absolute Error: 152.502269112843\n",
      "Mean Squared Error: 35683.42279816926\n",
      "Root Mean Squared Error: 188.90056325529912\n"
     ]
    }
   ],
   "source": [
    "from sklearn import metrics\n",
    "print('Mean Absolute Error:', metrics.mean_absolute_error(y_test, predictions))\n",
    "print('Mean Squared Error:', metrics.mean_squared_error(y_test, predictions))\n",
    "print('Root Mean Squared Error:', np.sqrt(metrics.mean_squared_error(y_test, predictions)))"
   ]
  },
  {
   "cell_type": "code",
   "execution_count": 21,
   "id": "b3ba445c",
   "metadata": {},
   "outputs": [
    {
     "name": "stdout",
     "output_type": "stream",
     "text": [
      "Train Score: 606501.8073 MSE (778.7823 RMSE)\n",
      "Test Score: 35683.42279817 MSE (188.90056326 RMSE)\n"
     ]
    }
   ],
   "source": [
    "trainScore = mean_squared_error(X_train, y_train)\n",
    "print('Train Score: %.4f MSE (%.4f RMSE)' % (trainScore, math.sqrt(trainScore)))\n",
    "\n",
    "testScore = mean_squared_error(predictions, y_test)\n",
    "print('Test Score: %.8f MSE (%.8f RMSE)' % (testScore, math.sqrt(testScore)))"
   ]
  },
  {
   "cell_type": "markdown",
   "id": "a8623efd",
   "metadata": {},
   "source": [
    "# Checkpoint #3\n",
    "Long-Sort Term Memory Model\n",
    "In this section we will use LSTM to train and test on our data set.\n",
    "\n",
    "Basic LSTM Model\n",
    "First lets make a basic LSTM model.\n",
    "\n",
    "Step 1 : import keras libraries for smooth implementaion of lstm"
   ]
  },
  {
   "cell_type": "code",
   "execution_count": 23,
   "id": "cbe838f6",
   "metadata": {},
   "outputs": [
    {
     "ename": "ModuleNotFoundError",
     "evalue": "No module named 'talib'",
     "output_type": "error",
     "traceback": [
      "\u001b[1;31m---------------------------------------------------------------------------\u001b[0m",
      "\u001b[1;31mModuleNotFoundError\u001b[0m                       Traceback (most recent call last)",
      "\u001b[1;32m~\\AppData\\Local\\Temp\\ipykernel_8592\\2994682205.py\u001b[0m in \u001b[0;36m<module>\u001b[1;34m\u001b[0m\n\u001b[0;32m     13\u001b[0m \u001b[1;33m\u001b[0m\u001b[0m\n\u001b[0;32m     14\u001b[0m \u001b[1;32mimport\u001b[0m \u001b[0mvisualize\u001b[0m \u001b[1;32mas\u001b[0m \u001b[0mvs\u001b[0m\u001b[1;33m\u001b[0m\u001b[1;33m\u001b[0m\u001b[0m\n\u001b[1;32m---> 15\u001b[1;33m \u001b[1;32mimport\u001b[0m \u001b[0mstock_data\u001b[0m \u001b[1;32mas\u001b[0m \u001b[0msd\u001b[0m\u001b[1;33m\u001b[0m\u001b[1;33m\u001b[0m\u001b[0m\n\u001b[0m\u001b[0;32m     16\u001b[0m \u001b[1;32mimport\u001b[0m \u001b[0mLinearRegressionModel\u001b[0m\u001b[1;33m\u001b[0m\u001b[1;33m\u001b[0m\u001b[0m\n\u001b[0;32m     17\u001b[0m \u001b[1;33m\u001b[0m\u001b[0m\n",
      "\u001b[1;32mc:\\users\\lavaa\\appdata\\local\\programs\\python\\python37\\lib\\site-packages\\stock_data\\__init__.py\u001b[0m in \u001b[0;36m<module>\u001b[1;34m\u001b[0m\n\u001b[1;32m----> 1\u001b[1;33m \u001b[1;32mfrom\u001b[0m \u001b[1;33m.\u001b[0m\u001b[0mrsi\u001b[0m \u001b[1;32mimport\u001b[0m \u001b[0mrsi\u001b[0m\u001b[1;33m\u001b[0m\u001b[1;33m\u001b[0m\u001b[0m\n\u001b[0m\u001b[0;32m      2\u001b[0m \u001b[1;32mfrom\u001b[0m \u001b[1;33m.\u001b[0m\u001b[0mrolling_sharpe\u001b[0m \u001b[1;32mimport\u001b[0m \u001b[0mrolling_sharpe\u001b[0m\u001b[1;33m\u001b[0m\u001b[1;33m\u001b[0m\u001b[0m\n\u001b[0;32m      3\u001b[0m \u001b[1;32mfrom\u001b[0m \u001b[1;33m.\u001b[0m\u001b[0mbeta\u001b[0m \u001b[1;32mimport\u001b[0m \u001b[0mbeta\u001b[0m\u001b[1;33m\u001b[0m\u001b[1;33m\u001b[0m\u001b[0m\n\u001b[0;32m      4\u001b[0m \u001b[1;32mfrom\u001b[0m \u001b[1;33m.\u001b[0m\u001b[0malpha\u001b[0m \u001b[1;32mimport\u001b[0m \u001b[0malpha\u001b[0m\u001b[1;33m\u001b[0m\u001b[1;33m\u001b[0m\u001b[0m\n\u001b[0;32m      5\u001b[0m \u001b[1;32mfrom\u001b[0m \u001b[1;33m.\u001b[0m\u001b[0mr_squared\u001b[0m \u001b[1;32mimport\u001b[0m \u001b[0mr_squared\u001b[0m\u001b[1;33m\u001b[0m\u001b[1;33m\u001b[0m\u001b[0m\n",
      "\u001b[1;32mc:\\users\\lavaa\\appdata\\local\\programs\\python\\python37\\lib\\site-packages\\stock_data\\rsi.py\u001b[0m in \u001b[0;36m<module>\u001b[1;34m\u001b[0m\n\u001b[1;32m----> 1\u001b[1;33m \u001b[1;32mimport\u001b[0m \u001b[0mtalib\u001b[0m \u001b[1;32mas\u001b[0m \u001b[0mta\u001b[0m\u001b[1;33m\u001b[0m\u001b[1;33m\u001b[0m\u001b[0m\n\u001b[0m\u001b[0;32m      2\u001b[0m \u001b[1;32mimport\u001b[0m \u001b[0mdatetime\u001b[0m\u001b[1;33m\u001b[0m\u001b[1;33m\u001b[0m\u001b[0m\n\u001b[0;32m      3\u001b[0m \u001b[1;32mfrom\u001b[0m \u001b[0mpandas_datareader\u001b[0m \u001b[1;32mimport\u001b[0m \u001b[0mDataReader\u001b[0m\u001b[1;33m\u001b[0m\u001b[1;33m\u001b[0m\u001b[0m\n\u001b[0;32m      4\u001b[0m \u001b[1;33m\u001b[0m\u001b[0m\n\u001b[0;32m      5\u001b[0m \u001b[1;31m# Defining a class\u001b[0m\u001b[1;33m\u001b[0m\u001b[1;33m\u001b[0m\u001b[1;33m\u001b[0m\u001b[0m\n",
      "\u001b[1;31mModuleNotFoundError\u001b[0m: No module named 'talib'"
     ]
    }
   ],
   "source": [
    "import math\n",
    "import pandas as pd\n",
    "import numpy as np\n",
    "from IPython.display import display\n",
    "\n",
    "from keras.layers.core import Dense, Activation, Dropout\n",
    "from keras.layers import LSTM\n",
    "from keras.models import Sequential\n",
    "from keras.metrics import mean_squared_error\n",
    "from sklearn.model_selection import StratifiedKFold\n",
    "\n",
    "import time #helper libraries\n",
    "\n",
    "import visualize as vs\n",
    "import stock_data as sd\n",
    "import LinearRegressionModel\n",
    "\n",
    "stocks = pd.read_csv('tesla_preprocessed.csv')\n",
    "stocks_data = stocks.drop(['Item'], axis =1)\n",
    "\n",
    "display(stocks_data.head())"
   ]
  },
  {
   "cell_type": "code",
   "execution_count": 24,
   "id": "0443e5b8",
   "metadata": {},
   "outputs": [],
   "source": [
    "from tensorflow.keras.models import Sequential\n",
    "from tensorflow.keras.layers import Dense\n",
    "from tensorflow.keras.layers import LSTM"
   ]
  },
  {
   "cell_type": "code",
   "execution_count": 25,
   "id": "8a84ebe1",
   "metadata": {},
   "outputs": [],
   "source": [
    "model=Sequential()\n",
    "model.add(LSTM(50,return_sequences=True,input_shape=(100,1)))\n",
    "model.add(LSTM(50,return_sequences=True))\n",
    "model.add(LSTM(50))\n",
    "model.add(Dense(1))\n",
    "model.compile(loss='mean_squared_error',optimizer='adam')"
   ]
  },
  {
   "cell_type": "code",
   "execution_count": 26,
   "id": "52321b3e",
   "metadata": {},
   "outputs": [
    {
     "name": "stdout",
     "output_type": "stream",
     "text": [
      "Model: \"sequential\"\n",
      "_________________________________________________________________\n",
      " Layer (type)                Output Shape              Param #   \n",
      "=================================================================\n",
      " lstm (LSTM)                 (None, 100, 50)           10400     \n",
      "                                                                 \n",
      " lstm_1 (LSTM)               (None, 100, 50)           20200     \n",
      "                                                                 \n",
      " lstm_2 (LSTM)               (None, 50)                20200     \n",
      "                                                                 \n",
      " dense (Dense)               (None, 1)                 51        \n",
      "                                                                 \n",
      "=================================================================\n",
      "Total params: 50,851\n",
      "Trainable params: 50,851\n",
      "Non-trainable params: 0\n",
      "_________________________________________________________________\n"
     ]
    }
   ],
   "source": [
    "model.summary()"
   ]
  },
  {
   "cell_type": "code",
   "execution_count": 27,
   "id": "2da3fde7",
   "metadata": {},
   "outputs": [
    {
     "name": "stdout",
     "output_type": "stream",
     "text": [
      "Model: \"sequential\"\n",
      "_________________________________________________________________\n",
      " Layer (type)                Output Shape              Param #   \n",
      "=================================================================\n",
      " lstm (LSTM)                 (None, 100, 50)           10400     \n",
      "                                                                 \n",
      " lstm_1 (LSTM)               (None, 100, 50)           20200     \n",
      "                                                                 \n",
      " lstm_2 (LSTM)               (None, 50)                20200     \n",
      "                                                                 \n",
      " dense (Dense)               (None, 1)                 51        \n",
      "                                                                 \n",
      "=================================================================\n",
      "Total params: 50,851\n",
      "Trainable params: 50,851\n",
      "Non-trainable params: 0\n",
      "_________________________________________________________________\n"
     ]
    }
   ],
   "source": [
    "\n",
    "model.summary()"
   ]
  },
  {
   "cell_type": "code",
   "execution_count": 29,
   "id": "4b0cb06a",
   "metadata": {},
   "outputs": [
    {
     "name": "stdout",
     "output_type": "stream",
     "text": [
      "Epoch 1/100\n",
      "WARNING:tensorflow:Model was constructed with shape (None, 100, 1) for input KerasTensor(type_spec=TensorSpec(shape=(None, 100, 1), dtype=tf.float32, name='lstm_input'), name='lstm_input', description=\"created by layer 'lstm_input'\"), but it was called on an input with incompatible shape (None, 1, 1).\n",
      "WARNING:tensorflow:Model was constructed with shape (None, 100, 1) for input KerasTensor(type_spec=TensorSpec(shape=(None, 100, 1), dtype=tf.float32, name='lstm_input'), name='lstm_input', description=\"created by layer 'lstm_input'\"), but it was called on an input with incompatible shape (None, 1, 1).\n",
      "18/20 [==========================>...] - ETA: 0s - loss: 113408.3359WARNING:tensorflow:Model was constructed with shape (None, 100, 1) for input KerasTensor(type_spec=TensorSpec(shape=(None, 100, 1), dtype=tf.float32, name='lstm_input'), name='lstm_input', description=\"created by layer 'lstm_input'\"), but it was called on an input with incompatible shape (None, 1, 1).\n",
      "20/20 [==============================] - 7s 85ms/step - loss: 113188.6406 - val_loss: 98672.3125\n",
      "Epoch 2/100\n",
      "20/20 [==============================] - 0s 23ms/step - loss: 112811.5000 - val_loss: 97932.8438\n",
      "Epoch 3/100\n",
      "20/20 [==============================] - 0s 22ms/step - loss: 111599.8203 - val_loss: 96556.3359\n",
      "Epoch 4/100\n",
      "20/20 [==============================] - 0s 23ms/step - loss: 110159.1719 - val_loss: 95540.7188\n",
      "Epoch 5/100\n",
      "20/20 [==============================] - 0s 23ms/step - loss: 109276.7969 - val_loss: 94984.5938\n",
      "Epoch 6/100\n",
      "20/20 [==============================] - 0s 12ms/step - loss: 108738.7422 - val_loss: 94585.6016\n",
      "Epoch 7/100\n",
      "20/20 [==============================] - 0s 8ms/step - loss: 108311.9453 - val_loss: 94223.4375\n",
      "Epoch 8/100\n",
      "20/20 [==============================] - 0s 8ms/step - loss: 107918.6641 - val_loss: 93895.6562\n",
      "Epoch 9/100\n",
      "20/20 [==============================] - 0s 7ms/step - loss: 107560.8672 - val_loss: 93580.9297\n",
      "Epoch 10/100\n",
      "20/20 [==============================] - 0s 8ms/step - loss: 107213.7734 - val_loss: 93283.0391\n",
      "Epoch 11/100\n",
      "20/20 [==============================] - 0s 10ms/step - loss: 106883.5547 - val_loss: 92991.1172\n",
      "Epoch 12/100\n",
      "20/20 [==============================] - 0s 8ms/step - loss: 106558.4219 - val_loss: 92709.5156\n",
      "Epoch 13/100\n",
      "20/20 [==============================] - 0s 7ms/step - loss: 106246.6172 - val_loss: 92435.3359\n",
      "Epoch 14/100\n",
      "20/20 [==============================] - 0s 8ms/step - loss: 105937.9844 - val_loss: 92163.8828\n",
      "Epoch 15/100\n",
      "20/20 [==============================] - 0s 8ms/step - loss: 105635.7266 - val_loss: 91903.2422\n",
      "Epoch 16/100\n",
      "20/20 [==============================] - 0s 8ms/step - loss: 105342.7812 - val_loss: 91644.0234\n",
      "Epoch 17/100\n",
      "20/20 [==============================] - 0s 8ms/step - loss: 105048.1406 - val_loss: 91388.5469\n",
      "Epoch 18/100\n",
      "20/20 [==============================] - 0s 7ms/step - loss: 104765.3906 - val_loss: 91143.4688\n",
      "Epoch 19/100\n",
      "20/20 [==============================] - 0s 10ms/step - loss: 104485.0391 - val_loss: 90898.5547\n",
      "Epoch 20/100\n",
      "20/20 [==============================] - 0s 9ms/step - loss: 104210.9922 - val_loss: 90655.3984\n",
      "Epoch 21/100\n",
      "20/20 [==============================] - 0s 8ms/step - loss: 103934.7109 - val_loss: 90417.0156\n",
      "Epoch 22/100\n",
      "20/20 [==============================] - 0s 8ms/step - loss: 103663.6797 - val_loss: 90178.5625\n",
      "Epoch 23/100\n",
      "20/20 [==============================] - 0s 8ms/step - loss: 103396.5234 - val_loss: 89942.4531\n",
      "Epoch 24/100\n",
      "20/20 [==============================] - 0s 9ms/step - loss: 103129.8203 - val_loss: 89710.2500\n",
      "Epoch 25/100\n",
      "20/20 [==============================] - 0s 10ms/step - loss: 102867.7969 - val_loss: 89478.9766\n",
      "Epoch 26/100\n",
      "20/20 [==============================] - 0s 7ms/step - loss: 102602.5156 - val_loss: 89254.8359\n",
      "Epoch 27/100\n",
      "20/20 [==============================] - 0s 8ms/step - loss: 102346.6094 - val_loss: 89022.0000\n",
      "Epoch 28/100\n",
      "20/20 [==============================] - 0s 7ms/step - loss: 102081.8438 - val_loss: 88803.7812\n",
      "Epoch 29/100\n",
      "20/20 [==============================] - 0s 8ms/step - loss: 101831.7109 - val_loss: 88575.7656\n",
      "Epoch 30/100\n",
      "20/20 [==============================] - 0s 8ms/step - loss: 101576.5469 - val_loss: 88356.2578\n",
      "Epoch 31/100\n",
      "20/20 [==============================] - 0s 8ms/step - loss: 101325.7344 - val_loss: 88138.0625\n",
      "Epoch 32/100\n",
      "20/20 [==============================] - 0s 8ms/step - loss: 101077.1328 - val_loss: 87916.8750\n",
      "Epoch 33/100\n",
      "20/20 [==============================] - 0s 9ms/step - loss: 100824.5156 - val_loss: 87703.6641\n",
      "Epoch 34/100\n",
      "20/20 [==============================] - 0s 8ms/step - loss: 100580.3281 - val_loss: 87490.0938\n",
      "Epoch 35/100\n",
      "20/20 [==============================] - 0s 7ms/step - loss: 100340.9609 - val_loss: 87279.5000\n",
      "Epoch 36/100\n",
      "20/20 [==============================] - 0s 7ms/step - loss: 100100.9375 - val_loss: 87073.3047\n",
      "Epoch 37/100\n",
      "20/20 [==============================] - 0s 8ms/step - loss: 99857.5781 - val_loss: 86864.5469\n",
      "Epoch 38/100\n",
      "20/20 [==============================] - 0s 9ms/step - loss: 99620.6719 - val_loss: 86656.2578\n",
      "Epoch 39/100\n",
      "20/20 [==============================] - 0s 7ms/step - loss: 99382.9375 - val_loss: 86447.5391\n",
      "Epoch 40/100\n",
      "20/20 [==============================] - 0s 7ms/step - loss: 99147.4297 - val_loss: 86252.1562\n",
      "Epoch 41/100\n",
      "20/20 [==============================] - 0s 8ms/step - loss: 98919.1016 - val_loss: 86046.8984\n",
      "Epoch 42/100\n",
      "20/20 [==============================] - 0s 8ms/step - loss: 98688.2109 - val_loss: 85851.5859\n",
      "Epoch 43/100\n",
      "20/20 [==============================] - 0s 7ms/step - loss: 98461.3672 - val_loss: 85650.8516\n",
      "Epoch 44/100\n",
      "20/20 [==============================] - 0s 9ms/step - loss: 98229.9688 - val_loss: 85458.8516\n",
      "Epoch 45/100\n",
      "20/20 [==============================] - 0s 8ms/step - loss: 98011.1797 - val_loss: 85262.3438\n",
      "Epoch 46/100\n",
      "20/20 [==============================] - 0s 6ms/step - loss: 97782.2891 - val_loss: 85074.1797\n",
      "Epoch 47/100\n",
      "20/20 [==============================] - 0s 8ms/step - loss: 97568.8125 - val_loss: 84881.5781\n",
      "Epoch 48/100\n",
      "20/20 [==============================] - 0s 13ms/step - loss: 97344.3828 - val_loss: 84693.0781\n",
      "Epoch 49/100\n",
      "20/20 [==============================] - 0s 9ms/step - loss: 97130.5469 - val_loss: 84512.8438\n",
      "Epoch 50/100\n",
      "20/20 [==============================] - 0s 7ms/step - loss: 96919.5625 - val_loss: 84327.2422\n",
      "Epoch 51/100\n",
      "20/20 [==============================] - 0s 6ms/step - loss: 96707.8984 - val_loss: 84140.0859\n",
      "Epoch 52/100\n",
      "20/20 [==============================] - 0s 6ms/step - loss: 96491.2188 - val_loss: 83961.9297\n",
      "Epoch 53/100\n",
      "20/20 [==============================] - 0s 6ms/step - loss: 96282.5625 - val_loss: 83778.6953\n",
      "Epoch 54/100\n",
      "20/20 [==============================] - 0s 6ms/step - loss: 96073.0938 - val_loss: 83601.6484\n",
      "Epoch 55/100\n",
      "20/20 [==============================] - 0s 8ms/step - loss: 95867.6953 - val_loss: 83425.0703\n",
      "Epoch 56/100\n",
      "20/20 [==============================] - 0s 10ms/step - loss: 95657.3125 - val_loss: 83250.0156\n",
      "Epoch 57/100\n",
      "20/20 [==============================] - 0s 8ms/step - loss: 95452.5547 - val_loss: 83068.7734\n",
      "Epoch 58/100\n",
      "20/20 [==============================] - 0s 10ms/step - loss: 95245.0000 - val_loss: 82892.7578\n",
      "Epoch 59/100\n",
      "20/20 [==============================] - 0s 7ms/step - loss: 95045.7031 - val_loss: 82719.7266\n",
      "Epoch 60/100\n",
      "20/20 [==============================] - 0s 7ms/step - loss: 94847.3672 - val_loss: 82550.5000\n",
      "Epoch 61/100\n",
      "20/20 [==============================] - 0s 10ms/step - loss: 94647.7109 - val_loss: 82384.0781\n",
      "Epoch 62/100\n",
      "20/20 [==============================] - 0s 7ms/step - loss: 94451.1797 - val_loss: 82218.9375\n",
      "Epoch 63/100\n",
      "20/20 [==============================] - 0s 6ms/step - loss: 94259.1797 - val_loss: 82050.8438\n",
      "Epoch 64/100\n",
      "20/20 [==============================] - 0s 6ms/step - loss: 94064.6406 - val_loss: 81883.8984\n",
      "Epoch 65/100\n",
      "20/20 [==============================] - 0s 6ms/step - loss: 93870.7422 - val_loss: 81719.4922\n",
      "Epoch 66/100\n",
      "20/20 [==============================] - 0s 6ms/step - loss: 93678.5703 - val_loss: 81554.7656\n",
      "Epoch 67/100\n"
     ]
    },
    {
     "name": "stdout",
     "output_type": "stream",
     "text": [
      "20/20 [==============================] - 0s 9ms/step - loss: 93485.7891 - val_loss: 81395.5000\n",
      "Epoch 68/100\n",
      "20/20 [==============================] - 0s 7ms/step - loss: 93297.7500 - val_loss: 81234.8047\n",
      "Epoch 69/100\n",
      "20/20 [==============================] - 0s 6ms/step - loss: 93110.2500 - val_loss: 81077.3516\n",
      "Epoch 70/100\n",
      "20/20 [==============================] - 0s 9ms/step - loss: 92926.5703 - val_loss: 80922.9609\n",
      "Epoch 71/100\n",
      "20/20 [==============================] - 0s 7ms/step - loss: 92746.1641 - val_loss: 80769.5312\n",
      "Epoch 72/100\n",
      "20/20 [==============================] - 0s 8ms/step - loss: 92563.1875 - val_loss: 80618.1953\n",
      "Epoch 73/100\n",
      "20/20 [==============================] - 0s 7ms/step - loss: 92383.9609 - val_loss: 80462.1094\n",
      "Epoch 74/100\n",
      "20/20 [==============================] - 0s 8ms/step - loss: 92202.8594 - val_loss: 80313.9062\n",
      "Epoch 75/100\n",
      "20/20 [==============================] - 0s 8ms/step - loss: 92028.1484 - val_loss: 80162.5703\n",
      "Epoch 76/100\n",
      "20/20 [==============================] - 0s 10ms/step - loss: 91849.0078 - val_loss: 80014.7969\n",
      "Epoch 77/100\n",
      "20/20 [==============================] - 0s 9ms/step - loss: 91673.3672 - val_loss: 79864.1484\n",
      "Epoch 78/100\n",
      "20/20 [==============================] - 0s 10ms/step - loss: 91499.1250 - val_loss: 79716.0625\n",
      "Epoch 79/100\n",
      "20/20 [==============================] - 0s 6ms/step - loss: 91321.8672 - val_loss: 79575.6875\n",
      "Epoch 80/100\n",
      "20/20 [==============================] - 0s 9ms/step - loss: 91148.5547 - val_loss: 79426.8906\n",
      "Epoch 81/100\n",
      "20/20 [==============================] - 0s 9ms/step - loss: 90977.2578 - val_loss: 79278.6797\n",
      "Epoch 82/100\n",
      "20/20 [==============================] - 0s 7ms/step - loss: 90802.5703 - val_loss: 79135.3281\n",
      "Epoch 83/100\n",
      "20/20 [==============================] - 0s 6ms/step - loss: 90630.5312 - val_loss: 78995.2344\n",
      "Epoch 84/100\n",
      "20/20 [==============================] - 0s 8ms/step - loss: 90465.2109 - val_loss: 78853.8750\n",
      "Epoch 85/100\n",
      "20/20 [==============================] - 0s 12ms/step - loss: 90295.0078 - val_loss: 78713.5547\n",
      "Epoch 86/100\n",
      "20/20 [==============================] - 0s 8ms/step - loss: 90130.5000 - val_loss: 78574.5234\n",
      "Epoch 87/100\n",
      "20/20 [==============================] - 0s 7ms/step - loss: 89966.1484 - val_loss: 78438.6406\n",
      "Epoch 88/100\n",
      "20/20 [==============================] - 0s 8ms/step - loss: 89805.5156 - val_loss: 78302.8672\n",
      "Epoch 89/100\n",
      "20/20 [==============================] - 0s 7ms/step - loss: 89643.2969 - val_loss: 78172.7969\n",
      "Epoch 90/100\n",
      "20/20 [==============================] - 0s 8ms/step - loss: 89483.2812 - val_loss: 78037.4141\n",
      "Epoch 91/100\n",
      "20/20 [==============================] - 0s 7ms/step - loss: 89310.2656 - val_loss: 77845.1719\n",
      "Epoch 92/100\n",
      "20/20 [==============================] - 0s 9ms/step - loss: 89111.4375 - val_loss: 77711.2422\n",
      "Epoch 93/100\n",
      "20/20 [==============================] - 0s 7ms/step - loss: 88925.5781 - val_loss: 77518.7656\n",
      "Epoch 94/100\n",
      "20/20 [==============================] - 0s 7ms/step - loss: 88827.1641 - val_loss: 77478.1328\n",
      "Epoch 95/100\n",
      "20/20 [==============================] - 0s 8ms/step - loss: 88662.6172 - val_loss: 77310.9609\n",
      "Epoch 96/100\n",
      "20/20 [==============================] - 0s 8ms/step - loss: 88456.9375 - val_loss: 77107.7969\n",
      "Epoch 97/100\n",
      "20/20 [==============================] - 0s 8ms/step - loss: 88275.2344 - val_loss: 76986.7188\n",
      "Epoch 98/100\n",
      "20/20 [==============================] - 0s 8ms/step - loss: 88142.2734 - val_loss: 76910.7266\n",
      "Epoch 99/100\n",
      "20/20 [==============================] - 0s 8ms/step - loss: 87970.7969 - val_loss: 76746.5703\n",
      "Epoch 100/100\n",
      "20/20 [==============================] - 0s 9ms/step - loss: 87810.1172 - val_loss: 76602.6797\n"
     ]
    },
    {
     "data": {
      "text/plain": [
       "<keras.callbacks.History at 0x1ccb3f8fb88>"
      ]
     },
     "execution_count": 29,
     "metadata": {},
     "output_type": "execute_result"
    }
   ],
   "source": [
    "model.fit(X_train,y_train,validation_data=(X_test,y_test),epochs=100,batch_size=64,verbose=1)"
   ]
  },
  {
   "cell_type": "code",
   "execution_count": 30,
   "id": "b8dd30f1",
   "metadata": {},
   "outputs": [
    {
     "data": {
      "text/plain": [
       "'2.9.0'"
      ]
     },
     "execution_count": 30,
     "metadata": {},
     "output_type": "execute_result"
    }
   ],
   "source": [
    "import tensorflow as tf\n",
    "\n",
    "tf.__version__"
   ]
  },
  {
   "cell_type": "code",
   "execution_count": 31,
   "id": "9e21f4f2",
   "metadata": {},
   "outputs": [
    {
     "name": "stdout",
     "output_type": "stream",
     "text": [
      "WARNING:tensorflow:Model was constructed with shape (None, 100, 1) for input KerasTensor(type_spec=TensorSpec(shape=(None, 100, 1), dtype=tf.float32, name='lstm_input'), name='lstm_input', description=\"created by layer 'lstm_input'\"), but it was called on an input with incompatible shape (None, 1, 1).\n",
      "39/39 [==============================] - 1s 2ms/step\n",
      "17/17 [==============================] - 0s 2ms/step\n"
     ]
    }
   ],
   "source": [
    "###Do the prediction and check performance metrics\n",
    "train_predict=model.predict(X_train)\n",
    "test_predict=model.predict(X_test)"
   ]
  },
  {
   "cell_type": "code",
   "execution_count": 32,
   "id": "e2b6c0a2",
   "metadata": {},
   "outputs": [],
   "source": [
    "##Transform back to original form\n",
    "train_predict=scaler.inverse_transform(train_predict)\n",
    "test_predict=scaler.inverse_transform(test_predict)"
   ]
  },
  {
   "cell_type": "code",
   "execution_count": 33,
   "id": "f6883649",
   "metadata": {},
   "outputs": [
    {
     "data": {
      "text/plain": [
       "40535.22859496372"
      ]
     },
     "execution_count": 33,
     "metadata": {},
     "output_type": "execute_result"
    }
   ],
   "source": [
    "### Calculate RMSE performance metrics\n",
    "import math\n",
    "from sklearn.metrics import mean_squared_error\n",
    "math.sqrt(mean_squared_error(y_train,train_predict))"
   ]
  },
  {
   "cell_type": "code",
   "execution_count": 35,
   "id": "9fae31ae",
   "metadata": {},
   "outputs": [
    {
     "data": {
      "text/plain": [
       "40247.235339922576"
      ]
     },
     "execution_count": 35,
     "metadata": {},
     "output_type": "execute_result"
    }
   ],
   "source": [
    "### Test Data RMSE\n",
    "math.sqrt(mean_squared_error(y_test,test_predict))"
   ]
  },
  {
   "cell_type": "code",
   "execution_count": 38,
   "id": "a8fcf185",
   "metadata": {},
   "outputs": [
    {
     "ename": "ValueError",
     "evalue": "could not broadcast input array from shape (530,1) into shape (328,3)",
     "output_type": "error",
     "traceback": [
      "\u001b[1;31m---------------------------------------------------------------------------\u001b[0m",
      "\u001b[1;31mValueError\u001b[0m                                Traceback (most recent call last)",
      "\u001b[1;32m~\\AppData\\Local\\Temp\\ipykernel_8592\\3723016458.py\u001b[0m in \u001b[0;36m<module>\u001b[1;34m\u001b[0m\n\u001b[0;32m      9\u001b[0m \u001b[0mtestPredictPlot\u001b[0m \u001b[1;33m=\u001b[0m \u001b[0mnumpy\u001b[0m\u001b[1;33m.\u001b[0m\u001b[0mempty_like\u001b[0m\u001b[1;33m(\u001b[0m\u001b[0mdata\u001b[0m\u001b[1;33m)\u001b[0m\u001b[1;33m\u001b[0m\u001b[1;33m\u001b[0m\u001b[0m\n\u001b[0;32m     10\u001b[0m \u001b[0mtestPredictPlot\u001b[0m\u001b[1;33m[\u001b[0m\u001b[1;33m:\u001b[0m\u001b[1;33m,\u001b[0m \u001b[1;33m:\u001b[0m\u001b[1;33m]\u001b[0m \u001b[1;33m=\u001b[0m \u001b[0mnumpy\u001b[0m\u001b[1;33m.\u001b[0m\u001b[0mnan\u001b[0m\u001b[1;33m\u001b[0m\u001b[1;33m\u001b[0m\u001b[0m\n\u001b[1;32m---> 11\u001b[1;33m \u001b[0mtestPredictPlot\u001b[0m\u001b[1;33m[\u001b[0m\u001b[0mlen\u001b[0m\u001b[1;33m(\u001b[0m\u001b[0mtrain_predict\u001b[0m\u001b[1;33m)\u001b[0m\u001b[1;33m+\u001b[0m\u001b[1;33m(\u001b[0m\u001b[0mlook_back\u001b[0m\u001b[1;33m*\u001b[0m\u001b[1;36m2\u001b[0m\u001b[1;33m)\u001b[0m\u001b[1;33m+\u001b[0m\u001b[1;36m1\u001b[0m\u001b[1;33m:\u001b[0m\u001b[0mlen\u001b[0m\u001b[1;33m(\u001b[0m\u001b[0mdata\u001b[0m\u001b[1;33m)\u001b[0m\u001b[1;33m-\u001b[0m\u001b[1;36m1\u001b[0m\u001b[1;33m,\u001b[0m \u001b[1;33m:\u001b[0m\u001b[1;33m]\u001b[0m \u001b[1;33m=\u001b[0m \u001b[0mtest_predict\u001b[0m\u001b[1;33m\u001b[0m\u001b[1;33m\u001b[0m\u001b[0m\n\u001b[0m\u001b[0;32m     12\u001b[0m \u001b[1;31m# plot baseline and predictions\u001b[0m\u001b[1;33m\u001b[0m\u001b[1;33m\u001b[0m\u001b[1;33m\u001b[0m\u001b[0m\n\u001b[0;32m     13\u001b[0m \u001b[0mplt\u001b[0m\u001b[1;33m.\u001b[0m\u001b[0mplot\u001b[0m\u001b[1;33m(\u001b[0m\u001b[0mscaler\u001b[0m\u001b[1;33m.\u001b[0m\u001b[0minverse_transform\u001b[0m\u001b[1;33m(\u001b[0m\u001b[0mdata\u001b[0m\u001b[1;33m)\u001b[0m\u001b[1;33m)\u001b[0m\u001b[1;33m\u001b[0m\u001b[1;33m\u001b[0m\u001b[0m\n",
      "\u001b[1;31mValueError\u001b[0m: could not broadcast input array from shape (530,1) into shape (328,3)"
     ]
    }
   ],
   "source": [
    "### Plotting \n",
    "# shift train predictions for plotting\n",
    "import numpy\n",
    "look_back=100\n",
    "trainPredictPlot = numpy.empty_like(data)\n",
    "trainPredictPlot[:, :] = np.nan\n",
    "trainPredictPlot[look_back:len(train_predict)+look_back, :] = train_predict\n",
    "# shift test predictions for plotting\n",
    "testPredictPlot = numpy.empty_like(data)\n",
    "testPredictPlot[:, :] = numpy.nan\n",
    "testPredictPlot[len(train_predict)+(look_back*2)+1:len(data)-1, :] = test_predict\n",
    "# plot baseline and predictions\n",
    "plt.plot(scaler.inverse_transform(data))\n",
    "plt.plot(trainPredictPlot)\n",
    "plt.plot(testPredictPlot)\n",
    "plt.show()"
   ]
  },
  {
   "cell_type": "markdown",
   "id": "7c09e103",
   "metadata": {},
   "source": [
    "# Trying a different approach with LSTM\n"
   ]
  },
  {
   "cell_type": "code",
   "execution_count": 42,
   "id": "00122420",
   "metadata": {},
   "outputs": [],
   "source": [
    "import pandas as pd\n",
    "\n",
    "df=pd.read_csv('tesla.csv')"
   ]
  },
  {
   "cell_type": "code",
   "execution_count": 43,
   "id": "33f1cdbb",
   "metadata": {},
   "outputs": [
    {
     "data": {
      "text/html": [
       "<div>\n",
       "<style scoped>\n",
       "    .dataframe tbody tr th:only-of-type {\n",
       "        vertical-align: middle;\n",
       "    }\n",
       "\n",
       "    .dataframe tbody tr th {\n",
       "        vertical-align: top;\n",
       "    }\n",
       "\n",
       "    .dataframe thead th {\n",
       "        text-align: right;\n",
       "    }\n",
       "</style>\n",
       "<table border=\"1\" class=\"dataframe\">\n",
       "  <thead>\n",
       "    <tr style=\"text-align: right;\">\n",
       "      <th></th>\n",
       "      <th>Open</th>\n",
       "      <th>High</th>\n",
       "      <th>Low</th>\n",
       "      <th>Close</th>\n",
       "      <th>Adj Close</th>\n",
       "      <th>Volume</th>\n",
       "    </tr>\n",
       "  </thead>\n",
       "  <tbody>\n",
       "    <tr>\n",
       "      <th>0</th>\n",
       "      <td>44.618000</td>\n",
       "      <td>45.136002</td>\n",
       "      <td>44.450001</td>\n",
       "      <td>44.481998</td>\n",
       "      <td>44.481998</td>\n",
       "      <td>11487500</td>\n",
       "    </tr>\n",
       "    <tr>\n",
       "      <th>1</th>\n",
       "      <td>44.574001</td>\n",
       "      <td>44.650002</td>\n",
       "      <td>42.652000</td>\n",
       "      <td>43.862000</td>\n",
       "      <td>43.862000</td>\n",
       "      <td>23822000</td>\n",
       "    </tr>\n",
       "    <tr>\n",
       "      <th>2</th>\n",
       "      <td>42.910000</td>\n",
       "      <td>43.299999</td>\n",
       "      <td>41.431999</td>\n",
       "      <td>42.018002</td>\n",
       "      <td>42.018002</td>\n",
       "      <td>26842500</td>\n",
       "    </tr>\n",
       "    <tr>\n",
       "      <th>3</th>\n",
       "      <td>42.012001</td>\n",
       "      <td>42.840000</td>\n",
       "      <td>40.841999</td>\n",
       "      <td>42.256001</td>\n",
       "      <td>42.256001</td>\n",
       "      <td>31309500</td>\n",
       "    </tr>\n",
       "    <tr>\n",
       "      <th>4</th>\n",
       "      <td>42.669998</td>\n",
       "      <td>42.956001</td>\n",
       "      <td>41.956001</td>\n",
       "      <td>42.189999</td>\n",
       "      <td>42.189999</td>\n",
       "      <td>14842000</td>\n",
       "    </tr>\n",
       "  </tbody>\n",
       "</table>\n",
       "</div>"
      ],
      "text/plain": [
       "        Open       High        Low      Close  Adj Close    Volume\n",
       "0  44.618000  45.136002  44.450001  44.481998  44.481998  11487500\n",
       "1  44.574001  44.650002  42.652000  43.862000  43.862000  23822000\n",
       "2  42.910000  43.299999  41.431999  42.018002  42.018002  26842500\n",
       "3  42.012001  42.840000  40.841999  42.256001  42.256001  31309500\n",
       "4  42.669998  42.956001  41.956001  42.189999  42.189999  14842000"
      ]
     },
     "execution_count": 43,
     "metadata": {},
     "output_type": "execute_result"
    }
   ],
   "source": [
    "df.head()"
   ]
  },
  {
   "cell_type": "code",
   "execution_count": 44,
   "id": "2692d2ed",
   "metadata": {},
   "outputs": [
    {
     "data": {
      "text/html": [
       "<div>\n",
       "<style scoped>\n",
       "    .dataframe tbody tr th:only-of-type {\n",
       "        vertical-align: middle;\n",
       "    }\n",
       "\n",
       "    .dataframe tbody tr th {\n",
       "        vertical-align: top;\n",
       "    }\n",
       "\n",
       "    .dataframe thead th {\n",
       "        text-align: right;\n",
       "    }\n",
       "</style>\n",
       "<table border=\"1\" class=\"dataframe\">\n",
       "  <thead>\n",
       "    <tr style=\"text-align: right;\">\n",
       "      <th></th>\n",
       "      <th>Open</th>\n",
       "      <th>High</th>\n",
       "      <th>Low</th>\n",
       "      <th>Close</th>\n",
       "      <th>Adj Close</th>\n",
       "      <th>Volume</th>\n",
       "    </tr>\n",
       "  </thead>\n",
       "  <tbody>\n",
       "    <tr>\n",
       "      <th>1759</th>\n",
       "      <td>1073.670044</td>\n",
       "      <td>1117.000000</td>\n",
       "      <td>1070.719971</td>\n",
       "      <td>1093.939941</td>\n",
       "      <td>1093.939941</td>\n",
       "      <td>23715300</td>\n",
       "    </tr>\n",
       "    <tr>\n",
       "      <th>1760</th>\n",
       "      <td>1109.489990</td>\n",
       "      <td>1119.000000</td>\n",
       "      <td>1078.420044</td>\n",
       "      <td>1088.469971</td>\n",
       "      <td>1088.469971</td>\n",
       "      <td>20108000</td>\n",
       "    </tr>\n",
       "    <tr>\n",
       "      <th>1761</th>\n",
       "      <td>1098.640015</td>\n",
       "      <td>1104.000000</td>\n",
       "      <td>1064.140015</td>\n",
       "      <td>1086.189941</td>\n",
       "      <td>1086.189941</td>\n",
       "      <td>18718000</td>\n",
       "    </tr>\n",
       "    <tr>\n",
       "      <th>1762</th>\n",
       "      <td>1061.329956</td>\n",
       "      <td>1095.550049</td>\n",
       "      <td>1053.150024</td>\n",
       "      <td>1070.339966</td>\n",
       "      <td>1070.339966</td>\n",
       "      <td>15680300</td>\n",
       "    </tr>\n",
       "    <tr>\n",
       "      <th>1763</th>\n",
       "      <td>1073.439941</td>\n",
       "      <td>1082.000000</td>\n",
       "      <td>1054.589966</td>\n",
       "      <td>1056.780029</td>\n",
       "      <td>1056.780029</td>\n",
       "      <td>13577900</td>\n",
       "    </tr>\n",
       "  </tbody>\n",
       "</table>\n",
       "</div>"
      ],
      "text/plain": [
       "             Open         High          Low        Close    Adj Close  \\\n",
       "1759  1073.670044  1117.000000  1070.719971  1093.939941  1093.939941   \n",
       "1760  1109.489990  1119.000000  1078.420044  1088.469971  1088.469971   \n",
       "1761  1098.640015  1104.000000  1064.140015  1086.189941  1086.189941   \n",
       "1762  1061.329956  1095.550049  1053.150024  1070.339966  1070.339966   \n",
       "1763  1073.439941  1082.000000  1054.589966  1056.780029  1056.780029   \n",
       "\n",
       "        Volume  \n",
       "1759  23715300  \n",
       "1760  20108000  \n",
       "1761  18718000  \n",
       "1762  15680300  \n",
       "1763  13577900  "
      ]
     },
     "execution_count": 44,
     "metadata": {},
     "output_type": "execute_result"
    }
   ],
   "source": [
    "df.tail()"
   ]
  },
  {
   "cell_type": "code",
   "execution_count": 46,
   "id": "9507fdd2",
   "metadata": {},
   "outputs": [],
   "source": [
    "df1=df.reset_index()['Close']"
   ]
  },
  {
   "cell_type": "code",
   "execution_count": 47,
   "id": "b3c12aba",
   "metadata": {},
   "outputs": [
    {
     "data": {
      "text/plain": [
       "0         44.481998\n",
       "1         43.862000\n",
       "2         42.018002\n",
       "3         42.256001\n",
       "4         42.189999\n",
       "           ...     \n",
       "1759    1093.939941\n",
       "1760    1088.469971\n",
       "1761    1086.189941\n",
       "1762    1070.339966\n",
       "1763    1056.780029\n",
       "Name: Close, Length: 1764, dtype: float64"
      ]
     },
     "execution_count": 47,
     "metadata": {},
     "output_type": "execute_result"
    }
   ],
   "source": [
    "df1"
   ]
  },
  {
   "cell_type": "code",
   "execution_count": 48,
   "id": "545dc955",
   "metadata": {},
   "outputs": [
    {
     "data": {
      "text/plain": [
       "[<matplotlib.lines.Line2D at 0x1ccbf035408>]"
      ]
     },
     "execution_count": 48,
     "metadata": {},
     "output_type": "execute_result"
    },
    {
     "data": {
      "image/png": "[encoded data removed]",
      "text/plain": [
       "<Figure size 432x288 with 1 Axes>"
      ]
     },
     "metadata": {
      "needs_background": "light"
     },
     "output_type": "display_data"
    }
   ],
   "source": [
    "import matplotlib.pyplot as plt\n",
    "plt.plot(df1)"
   ]
  },
  {
   "cell_type": "code",
   "execution_count": 49,
   "id": "74a66898",
   "metadata": {},
   "outputs": [
    {
     "data": {
      "text/plain": [
       "0         44.481998\n",
       "1         43.862000\n",
       "2         42.018002\n",
       "3         42.256001\n",
       "4         42.189999\n",
       "           ...     \n",
       "1759    1093.939941\n",
       "1760    1088.469971\n",
       "1761    1086.189941\n",
       "1762    1070.339966\n",
       "1763    1056.780029\n",
       "Name: Close, Length: 1764, dtype: float64"
      ]
     },
     "execution_count": 49,
     "metadata": {},
     "output_type": "execute_result"
    }
   ],
   "source": [
    "import numpy as np\n",
    "df1"
   ]
  },
  {
   "cell_type": "code",
   "execution_count": 50,
   "id": "7ca7c730",
   "metadata": {},
   "outputs": [],
   "source": [
    "from sklearn.preprocessing import MinMaxScaler\n",
    "scaler=MinMaxScaler(feature_range=(0,1))\n",
    "df1=scaler.fit_transform(np.array(df1).reshape(-1,1))"
   ]
  },
  {
   "cell_type": "code",
   "execution_count": 51,
   "id": "a0d3f4fe",
   "metadata": {},
   "outputs": [
    {
     "name": "stdout",
     "output_type": "stream",
     "text": [
      "[[0.01311048]\n",
      " [0.01259432]\n",
      " [0.01105916]\n",
      " ...\n",
      " [0.88035052]\n",
      " [0.86715513]\n",
      " [0.85586625]]\n"
     ]
    }
   ],
   "source": [
    "print(df1)"
   ]
  },
  {
   "cell_type": "code",
   "execution_count": 52,
   "id": "08570e94",
   "metadata": {},
   "outputs": [],
   "source": [
    "##splitting dataset into train and test split\n",
    "training_size=int(len(df1)*0.65)\n",
    "test_size=len(df1)-training_size\n",
    "train_data,test_data=df1[0:training_size,:],df1[training_size:len(df1),:1]"
   ]
  },
  {
   "cell_type": "code",
   "execution_count": 53,
   "id": "bf29a31b",
   "metadata": {},
   "outputs": [
    {
     "data": {
      "text/plain": [
       "(1146, 618)"
      ]
     },
     "execution_count": 53,
     "metadata": {},
     "output_type": "execute_result"
    }
   ],
   "source": [
    "training_size,test_size"
   ]
  },
  {
   "cell_type": "code",
   "execution_count": 54,
   "id": "906191e0",
   "metadata": {},
   "outputs": [
    {
     "data": {
      "text/plain": [
       "array([[0.01311048],\n",
       "       [0.01259432],\n",
       "       [0.01105916],\n",
       "       ...,\n",
       "       [0.01829374],\n",
       "       [0.01906632],\n",
       "       [0.01865006]])"
      ]
     },
     "execution_count": 54,
     "metadata": {},
     "output_type": "execute_result"
    }
   ],
   "source": [
    "train_data"
   ]
  },
  {
   "cell_type": "code",
   "execution_count": 55,
   "id": "d0ee1a61",
   "metadata": {},
   "outputs": [],
   "source": [
    "import numpy\n",
    "# convert an array of values into a dataset matrix\n",
    "def create_dataset(dataset, time_step=1):\n",
    "\tdataX, dataY = [], []\n",
    "\tfor i in range(len(dataset)-time_step-1):\n",
    "\t\ta = dataset[i:(i+time_step), 0]   ###i=0, 0,1,2,3-----99   100 \n",
    "\t\tdataX.append(a)\n",
    "\t\tdataY.append(dataset[i + time_step, 0])\n",
    "\treturn numpy.array(dataX), numpy.array(dataY)"
   ]
  },
  {
   "cell_type": "code",
   "execution_count": 56,
   "id": "69049133",
   "metadata": {},
   "outputs": [],
   "source": [
    "# reshape into X=t,t+1,t+2,t+3 and Y=t+4\n",
    "time_step = 100\n",
    "X_train, y_train = create_dataset(train_data, time_step)\n",
    "X_test, ytest = create_dataset(test_data, time_step)"
   ]
  },
  {
   "cell_type": "code",
   "execution_count": 57,
   "id": "0d68ab0b",
   "metadata": {},
   "outputs": [
    {
     "name": "stdout",
     "output_type": "stream",
     "text": [
      "(1045, 100)\n",
      "(1045,)\n"
     ]
    },
    {
     "data": {
      "text/plain": [
       "(None, None)"
      ]
     },
     "execution_count": 57,
     "metadata": {},
     "output_type": "execute_result"
    }
   ],
   "source": [
    "print(X_train.shape), print(y_train.shape)"
   ]
  },
  {
   "cell_type": "code",
   "execution_count": 58,
   "id": "07116b91",
   "metadata": {},
   "outputs": [
    {
     "name": "stdout",
     "output_type": "stream",
     "text": [
      "(517, 100)\n",
      "(517,)\n"
     ]
    },
    {
     "data": {
      "text/plain": [
       "(None, None)"
      ]
     },
     "execution_count": 58,
     "metadata": {},
     "output_type": "execute_result"
    }
   ],
   "source": [
    "print(X_test.shape), print(ytest.shape)"
   ]
  },
  {
   "cell_type": "code",
   "execution_count": 59,
   "id": "b062e9ee",
   "metadata": {},
   "outputs": [],
   "source": [
    "# reshape input to be [samples, time steps, features] which is required for LSTM\n",
    "X_train =X_train.reshape(X_train.shape[0],X_train.shape[1] , 1)\n",
    "X_test = X_test.reshape(X_test.shape[0],X_test.shape[1] , 1)"
   ]
  },
  {
   "cell_type": "code",
   "execution_count": 60,
   "id": "d437137b",
   "metadata": {},
   "outputs": [],
   "source": [
    "### Create the Stacked LSTM model\n",
    "from tensorflow.keras.models import Sequential\n",
    "from tensorflow.keras.layers import Dense\n",
    "from tensorflow.keras.layers import LSTM"
   ]
  },
  {
   "cell_type": "code",
   "execution_count": 61,
   "id": "327acacd",
   "metadata": {},
   "outputs": [],
   "source": [
    "model=Sequential()\n",
    "model.add(LSTM(50,return_sequences=True,input_shape=(100,1)))\n",
    "model.add(LSTM(50,return_sequences=True))\n",
    "model.add(LSTM(50))\n",
    "model.add(Dense(1))\n",
    "model.compile(loss='mean_squared_error',optimizer='adam')"
   ]
  },
  {
   "cell_type": "code",
   "execution_count": 62,
   "id": "a33032f8",
   "metadata": {},
   "outputs": [
    {
     "name": "stdout",
     "output_type": "stream",
     "text": [
      "Model: \"sequential_1\"\n",
      "_________________________________________________________________\n",
      " Layer (type)                Output Shape              Param #   \n",
      "=================================================================\n",
      " lstm_3 (LSTM)               (None, 100, 50)           10400     \n",
      "                                                                 \n",
      " lstm_4 (LSTM)               (None, 100, 50)           20200     \n",
      "                                                                 \n",
      " lstm_5 (LSTM)               (None, 50)                20200     \n",
      "                                                                 \n",
      " dense_1 (Dense)             (None, 1)                 51        \n",
      "                                                                 \n",
      "=================================================================\n",
      "Total params: 50,851\n",
      "Trainable params: 50,851\n",
      "Non-trainable params: 0\n",
      "_________________________________________________________________\n"
     ]
    }
   ],
   "source": [
    "model.summary()"
   ]
  },
  {
   "cell_type": "code",
   "execution_count": 63,
   "id": "9c6235d7",
   "metadata": {},
   "outputs": [
    {
     "name": "stdout",
     "output_type": "stream",
     "text": [
      "Model: \"sequential_1\"\n",
      "_________________________________________________________________\n",
      " Layer (type)                Output Shape              Param #   \n",
      "=================================================================\n",
      " lstm_3 (LSTM)               (None, 100, 50)           10400     \n",
      "                                                                 \n",
      " lstm_4 (LSTM)               (None, 100, 50)           20200     \n",
      "                                                                 \n",
      " lstm_5 (LSTM)               (None, 50)                20200     \n",
      "                                                                 \n",
      " dense_1 (Dense)             (None, 1)                 51        \n",
      "                                                                 \n",
      "=================================================================\n",
      "Total params: 50,851\n",
      "Trainable params: 50,851\n",
      "Non-trainable params: 0\n",
      "_________________________________________________________________\n"
     ]
    }
   ],
   "source": [
    "model.summary()"
   ]
  },
  {
   "cell_type": "code",
   "execution_count": 64,
   "id": "c8e6697c",
   "metadata": {},
   "outputs": [
    {
     "name": "stdout",
     "output_type": "stream",
     "text": [
      "Epoch 1/100\n",
      "17/17 [==============================] - 9s 267ms/step - loss: 1.1773e-04 - val_loss: 0.1376\n",
      "Epoch 2/100\n",
      "17/17 [==============================] - 3s 199ms/step - loss: 4.6462e-05 - val_loss: 0.0656\n",
      "Epoch 3/100\n",
      "17/17 [==============================] - 3s 189ms/step - loss: 2.2466e-05 - val_loss: 0.0070\n",
      "Epoch 4/100\n",
      "17/17 [==============================] - 3s 204ms/step - loss: 1.4316e-05 - val_loss: 0.0153\n",
      "Epoch 5/100\n",
      "17/17 [==============================] - 3s 202ms/step - loss: 1.2002e-05 - val_loss: 0.0082\n",
      "Epoch 6/100\n",
      "17/17 [==============================] - 4s 214ms/step - loss: 1.2202e-05 - val_loss: 0.0097\n",
      "Epoch 7/100\n",
      "17/17 [==============================] - 3s 182ms/step - loss: 1.2835e-05 - val_loss: 0.0086\n",
      "Epoch 8/100\n",
      "17/17 [==============================] - 3s 192ms/step - loss: 1.3875e-05 - val_loss: 0.0114\n",
      "Epoch 9/100\n",
      "17/17 [==============================] - 3s 204ms/step - loss: 1.1416e-05 - val_loss: 0.0071\n",
      "Epoch 10/100\n",
      "17/17 [==============================] - 3s 194ms/step - loss: 1.0615e-05 - val_loss: 0.0084\n",
      "Epoch 11/100\n",
      "17/17 [==============================] - 4s 215ms/step - loss: 1.0734e-05 - val_loss: 0.0086\n",
      "Epoch 12/100\n",
      "17/17 [==============================] - 4s 237ms/step - loss: 1.1182e-05 - val_loss: 0.0075\n",
      "Epoch 13/100\n",
      "17/17 [==============================] - 4s 220ms/step - loss: 1.0166e-05 - val_loss: 0.0070\n",
      "Epoch 14/100\n",
      "17/17 [==============================] - 4s 235ms/step - loss: 9.5707e-06 - val_loss: 0.0077\n",
      "Epoch 15/100\n",
      "17/17 [==============================] - 4s 233ms/step - loss: 1.1430e-05 - val_loss: 0.0058\n",
      "Epoch 16/100\n",
      "17/17 [==============================] - 4s 217ms/step - loss: 1.2183e-05 - val_loss: 0.0081\n",
      "Epoch 17/100\n",
      "17/17 [==============================] - 3s 207ms/step - loss: 9.0367e-06 - val_loss: 0.0046\n",
      "Epoch 18/100\n",
      "17/17 [==============================] - 3s 207ms/step - loss: 9.9630e-06 - val_loss: 0.0082\n",
      "Epoch 19/100\n",
      "17/17 [==============================] - 4s 213ms/step - loss: 8.6342e-06 - val_loss: 0.0043\n",
      "Epoch 20/100\n",
      "17/17 [==============================] - 4s 213ms/step - loss: 8.2195e-06 - val_loss: 0.0063\n",
      "Epoch 21/100\n",
      "17/17 [==============================] - 3s 201ms/step - loss: 8.0207e-06 - val_loss: 0.0070\n",
      "Epoch 22/100\n",
      "17/17 [==============================] - 5s 315ms/step - loss: 9.3436e-06 - val_loss: 0.0048\n",
      "Epoch 23/100\n",
      "17/17 [==============================] - 5s 293ms/step - loss: 7.8255e-06 - val_loss: 0.0042\n",
      "Epoch 24/100\n",
      "17/17 [==============================] - 5s 307ms/step - loss: 8.1770e-06 - val_loss: 0.0032\n",
      "Epoch 25/100\n",
      "17/17 [==============================] - 5s 266ms/step - loss: 7.7733e-06 - val_loss: 0.0073\n",
      "Epoch 26/100\n",
      "17/17 [==============================] - 5s 318ms/step - loss: 7.3675e-06 - val_loss: 0.0049\n",
      "Epoch 27/100\n",
      "17/17 [==============================] - 4s 216ms/step - loss: 7.3965e-06 - val_loss: 0.0042\n",
      "Epoch 28/100\n",
      "17/17 [==============================] - 3s 208ms/step - loss: 7.1849e-06 - val_loss: 0.0033\n",
      "Epoch 29/100\n",
      "17/17 [==============================] - 3s 203ms/step - loss: 8.6470e-06 - val_loss: 0.0064\n",
      "Epoch 30/100\n",
      "17/17 [==============================] - 3s 194ms/step - loss: 7.5439e-06 - val_loss: 0.0046\n",
      "Epoch 31/100\n",
      "17/17 [==============================] - 4s 213ms/step - loss: 8.3868e-06 - val_loss: 0.0045\n",
      "Epoch 32/100\n",
      "17/17 [==============================] - 4s 226ms/step - loss: 7.0340e-06 - val_loss: 0.0054\n",
      "Epoch 33/100\n",
      "17/17 [==============================] - 4s 210ms/step - loss: 6.9914e-06 - val_loss: 0.0041\n",
      "Epoch 34/100\n",
      "17/17 [==============================] - 4s 242ms/step - loss: 8.1931e-06 - val_loss: 0.0031\n",
      "Epoch 35/100\n",
      "17/17 [==============================] - 4s 216ms/step - loss: 6.2927e-06 - val_loss: 0.0044\n",
      "Epoch 36/100\n",
      "17/17 [==============================] - 3s 202ms/step - loss: 6.6150e-06 - val_loss: 0.0051\n",
      "Epoch 37/100\n",
      "17/17 [==============================] - 3s 201ms/step - loss: 6.4057e-06 - val_loss: 0.0036\n",
      "Epoch 38/100\n",
      "17/17 [==============================] - 4s 218ms/step - loss: 5.7910e-06 - val_loss: 0.0043\n",
      "Epoch 39/100\n",
      "17/17 [==============================] - 3s 202ms/step - loss: 5.7786e-06 - val_loss: 0.0025\n",
      "Epoch 40/100\n",
      "17/17 [==============================] - 3s 207ms/step - loss: 6.0328e-06 - val_loss: 0.0039\n",
      "Epoch 41/100\n",
      "17/17 [==============================] - 4s 217ms/step - loss: 5.5137e-06 - val_loss: 0.0039\n",
      "Epoch 42/100\n",
      "17/17 [==============================] - 4s 219ms/step - loss: 5.9736e-06 - val_loss: 0.0047\n",
      "Epoch 43/100\n",
      "17/17 [==============================] - 4s 213ms/step - loss: 5.9724e-06 - val_loss: 0.0056\n",
      "Epoch 44/100\n",
      "17/17 [==============================] - 4s 236ms/step - loss: 5.4577e-06 - val_loss: 0.0039\n",
      "Epoch 45/100\n",
      "17/17 [==============================] - 3s 204ms/step - loss: 6.0078e-06 - val_loss: 0.0029\n",
      "Epoch 46/100\n",
      "17/17 [==============================] - 3s 198ms/step - loss: 8.5073e-06 - val_loss: 0.0055\n",
      "Epoch 47/100\n",
      "17/17 [==============================] - 4s 216ms/step - loss: 6.6273e-06 - val_loss: 0.0023\n",
      "Epoch 48/100\n",
      "17/17 [==============================] - 3s 206ms/step - loss: 5.3653e-06 - val_loss: 0.0034\n",
      "Epoch 49/100\n",
      "17/17 [==============================] - 4s 235ms/step - loss: 5.1800e-06 - val_loss: 0.0048\n",
      "Epoch 50/100\n",
      "17/17 [==============================] - 4s 216ms/step - loss: 5.4356e-06 - val_loss: 0.0044\n",
      "Epoch 51/100\n",
      "17/17 [==============================] - 4s 227ms/step - loss: 6.2746e-06 - val_loss: 0.0024\n",
      "Epoch 52/100\n",
      "17/17 [==============================] - 4s 258ms/step - loss: 5.0230e-06 - val_loss: 0.0039\n",
      "Epoch 53/100\n",
      "17/17 [==============================] - 3s 194ms/step - loss: 5.1803e-06 - val_loss: 0.0031\n",
      "Epoch 54/100\n",
      "17/17 [==============================] - 3s 198ms/step - loss: 4.9123e-06 - val_loss: 0.0042\n",
      "Epoch 55/100\n",
      "17/17 [==============================] - 3s 189ms/step - loss: 4.7734e-06 - val_loss: 0.0031\n",
      "Epoch 56/100\n",
      "17/17 [==============================] - 3s 177ms/step - loss: 4.8426e-06 - val_loss: 0.0034\n",
      "Epoch 57/100\n",
      "17/17 [==============================] - 3s 205ms/step - loss: 4.9336e-06 - val_loss: 0.0040\n",
      "Epoch 58/100\n",
      "17/17 [==============================] - 3s 202ms/step - loss: 5.3418e-06 - val_loss: 0.0036\n",
      "Epoch 59/100\n",
      "17/17 [==============================] - 3s 199ms/step - loss: 5.0922e-06 - val_loss: 0.0040\n",
      "Epoch 60/100\n",
      "17/17 [==============================] - 4s 208ms/step - loss: 4.3551e-06 - val_loss: 0.0024\n",
      "Epoch 61/100\n",
      "17/17 [==============================] - 4s 208ms/step - loss: 4.3402e-06 - val_loss: 0.0032\n",
      "Epoch 62/100\n",
      "17/17 [==============================] - 4s 235ms/step - loss: 5.6832e-06 - val_loss: 0.0040\n",
      "Epoch 63/100\n",
      "17/17 [==============================] - 4s 235ms/step - loss: 5.0396e-06 - val_loss: 0.0027\n",
      "Epoch 64/100\n",
      "17/17 [==============================] - 4s 237ms/step - loss: 5.0463e-06 - val_loss: 0.0019\n",
      "Epoch 65/100\n",
      "17/17 [==============================] - 4s 242ms/step - loss: 4.9915e-06 - val_loss: 0.0053\n",
      "Epoch 66/100\n",
      "17/17 [==============================] - 4s 218ms/step - loss: 4.1743e-06 - val_loss: 0.0032\n",
      "Epoch 67/100\n",
      "17/17 [==============================] - 4s 258ms/step - loss: 4.0128e-06 - val_loss: 0.0025\n",
      "Epoch 68/100\n",
      "17/17 [==============================] - 4s 223ms/step - loss: 4.3614e-06 - val_loss: 0.0028\n",
      "Epoch 69/100\n",
      "17/17 [==============================] - 4s 233ms/step - loss: 4.4092e-06 - val_loss: 0.0027\n",
      "Epoch 70/100\n",
      "17/17 [==============================] - 4s 222ms/step - loss: 3.9052e-06 - val_loss: 0.0027\n",
      "Epoch 71/100\n",
      "17/17 [==============================] - 4s 223ms/step - loss: 3.8250e-06 - val_loss: 0.0024\n",
      "Epoch 72/100\n",
      "17/17 [==============================] - 4s 231ms/step - loss: 4.2030e-06 - val_loss: 0.0026\n",
      "Epoch 73/100\n",
      "17/17 [==============================] - 4s 232ms/step - loss: 3.9546e-06 - val_loss: 0.0025\n",
      "Epoch 74/100\n",
      "17/17 [==============================] - 4s 225ms/step - loss: 3.7579e-06 - val_loss: 0.0026\n",
      "Epoch 75/100\n",
      "17/17 [==============================] - 4s 223ms/step - loss: 3.8348e-06 - val_loss: 0.0021\n",
      "Epoch 76/100\n",
      "17/17 [==============================] - 4s 231ms/step - loss: 4.0932e-06 - val_loss: 0.0026\n",
      "Epoch 77/100\n",
      "17/17 [==============================] - 4s 233ms/step - loss: 4.4532e-06 - val_loss: 0.0027\n",
      "Epoch 78/100\n"
     ]
    },
    {
     "name": "stdout",
     "output_type": "stream",
     "text": [
      "17/17 [==============================] - 4s 230ms/step - loss: 4.0089e-06 - val_loss: 0.0029\n",
      "Epoch 79/100\n",
      "17/17 [==============================] - 4s 254ms/step - loss: 3.7769e-06 - val_loss: 0.0018\n",
      "Epoch 80/100\n",
      "17/17 [==============================] - 4s 234ms/step - loss: 3.7445e-06 - val_loss: 0.0028\n",
      "Epoch 81/100\n",
      "17/17 [==============================] - 4s 237ms/step - loss: 3.9285e-06 - val_loss: 0.0014\n",
      "Epoch 82/100\n",
      "17/17 [==============================] - 4s 234ms/step - loss: 3.5120e-06 - val_loss: 0.0021\n",
      "Epoch 83/100\n",
      "17/17 [==============================] - 4s 240ms/step - loss: 3.8047e-06 - val_loss: 0.0017\n",
      "Epoch 84/100\n",
      "17/17 [==============================] - 4s 240ms/step - loss: 3.5847e-06 - val_loss: 0.0021\n",
      "Epoch 85/100\n",
      "17/17 [==============================] - 4s 252ms/step - loss: 3.6747e-06 - val_loss: 0.0018\n",
      "Epoch 86/100\n",
      "17/17 [==============================] - 4s 253ms/step - loss: 3.3354e-06 - val_loss: 0.0022\n",
      "Epoch 87/100\n",
      "17/17 [==============================] - 4s 251ms/step - loss: 3.5681e-06 - val_loss: 0.0020\n",
      "Epoch 88/100\n",
      "17/17 [==============================] - 4s 212ms/step - loss: 3.6350e-06 - val_loss: 0.0021\n",
      "Epoch 89/100\n",
      "17/17 [==============================] - 4s 228ms/step - loss: 3.4074e-06 - val_loss: 0.0024\n",
      "Epoch 90/100\n",
      "17/17 [==============================] - 4s 221ms/step - loss: 3.5060e-06 - val_loss: 0.0023\n",
      "Epoch 91/100\n",
      "17/17 [==============================] - 4s 235ms/step - loss: 3.8024e-06 - val_loss: 0.0020\n",
      "Epoch 92/100\n",
      "17/17 [==============================] - 4s 225ms/step - loss: 4.1189e-06 - val_loss: 0.0018\n",
      "Epoch 93/100\n",
      "17/17 [==============================] - 4s 260ms/step - loss: 3.4659e-06 - val_loss: 0.0017\n",
      "Epoch 94/100\n",
      "17/17 [==============================] - 4s 262ms/step - loss: 3.5729e-06 - val_loss: 0.0031\n",
      "Epoch 95/100\n",
      "17/17 [==============================] - 4s 216ms/step - loss: 3.1582e-06 - val_loss: 0.0024\n",
      "Epoch 96/100\n",
      "17/17 [==============================] - 3s 202ms/step - loss: 3.3018e-06 - val_loss: 0.0021\n",
      "Epoch 97/100\n",
      "17/17 [==============================] - 4s 214ms/step - loss: 3.3416e-06 - val_loss: 0.0011\n",
      "Epoch 98/100\n",
      "17/17 [==============================] - 3s 206ms/step - loss: 3.6665e-06 - val_loss: 0.0019\n",
      "Epoch 99/100\n",
      "17/17 [==============================] - 4s 213ms/step - loss: 3.7740e-06 - val_loss: 0.0027\n",
      "Epoch 100/100\n",
      "17/17 [==============================] - 4s 228ms/step - loss: 3.3256e-06 - val_loss: 0.0018\n"
     ]
    },
    {
     "data": {
      "text/plain": [
       "<keras.callbacks.History at 0x1ccbf279dc8>"
      ]
     },
     "execution_count": 64,
     "metadata": {},
     "output_type": "execute_result"
    }
   ],
   "source": [
    "model.fit(X_train,y_train,validation_data=(X_test,ytest),epochs=100,batch_size=64,verbose=1)"
   ]
  },
  {
   "cell_type": "code",
   "execution_count": 65,
   "id": "c05c43e0",
   "metadata": {},
   "outputs": [
    {
     "data": {
      "text/plain": [
       "'2.9.0'"
      ]
     },
     "execution_count": 65,
     "metadata": {},
     "output_type": "execute_result"
    }
   ],
   "source": [
    "import tensorflow as tf\n",
    "tf.__version__"
   ]
  },
  {
   "cell_type": "code",
   "execution_count": 66,
   "id": "d4dd4ad2",
   "metadata": {},
   "outputs": [
    {
     "name": "stdout",
     "output_type": "stream",
     "text": [
      "33/33 [==============================] - 3s 39ms/step\n",
      "17/17 [==============================] - 1s 35ms/step\n"
     ]
    }
   ],
   "source": [
    "###Do the prediction and check performance metrics\n",
    "train_predict=model.predict(X_train)\n",
    "test_predict=model.predict(X_test)"
   ]
  },
  {
   "cell_type": "code",
   "execution_count": 67,
   "id": "c196d36e",
   "metadata": {},
   "outputs": [],
   "source": [
    "##Transformback to original form\n",
    "train_predict=scaler.inverse_transform(train_predict)\n",
    "test_predict=scaler.inverse_transform(test_predict)"
   ]
  },
  {
   "cell_type": "code",
   "execution_count": 68,
   "id": "1a6fe236",
   "metadata": {},
   "outputs": [
    {
     "data": {
      "text/plain": [
       "57.19584434024793"
      ]
     },
     "execution_count": 68,
     "metadata": {},
     "output_type": "execute_result"
    }
   ],
   "source": [
    "### Calculate RMSE performance metrics\n",
    "import math\n",
    "from sklearn.metrics import mean_squared_error\n",
    "math.sqrt(mean_squared_error(y_train,train_predict))"
   ]
  },
  {
   "cell_type": "code",
   "execution_count": 69,
   "id": "aea74e03",
   "metadata": {},
   "outputs": [
    {
     "data": {
      "text/plain": [
       "559.805690138674"
      ]
     },
     "execution_count": 69,
     "metadata": {},
     "output_type": "execute_result"
    }
   ],
   "source": [
    "### Test Data RMSE\n",
    "math.sqrt(mean_squared_error(ytest,test_predict))"
   ]
  },
  {
   "cell_type": "code",
   "execution_count": 70,
   "id": "fcb97f90",
   "metadata": {},
   "outputs": [
    {
     "name": "stderr",
     "output_type": "stream",
     "text": [
      "c:\\users\\lavaa\\appdata\\local\\programs\\python\\python37\\lib\\site-packages\\ipykernel_launcher.py:15: UserWarning:\n",
      "\n",
      "Matplotlib is currently using agg, which is a non-GUI backend, so cannot show the figure.\n",
      "\n"
     ]
    },
    {
     "data": {
      "image/png": "[encoded data removed]",
      "text/plain": [
       "<Figure size 432x288 with 1 Axes>"
      ]
     },
     "metadata": {
      "needs_background": "light"
     },
     "output_type": "display_data"
    }
   ],
   "source": [
    "### Plotting \n",
    "# shift train predictions for plotting\n",
    "look_back=100\n",
    "trainPredictPlot = numpy.empty_like(df1)\n",
    "trainPredictPlot[:, :] = np.nan\n",
    "trainPredictPlot[look_back:len(train_predict)+look_back, :] = train_predict\n",
    "# shift test predictions for plotting\n",
    "testPredictPlot = numpy.empty_like(df1)\n",
    "testPredictPlot[:, :] = numpy.nan\n",
    "testPredictPlot[len(train_predict)+(look_back*2)+1:len(df1)-1, :] = test_predict\n",
    "# plot baseline and predictions\n",
    "plt.plot(scaler.inverse_transform(df1))\n",
    "plt.plot(trainPredictPlot)\n",
    "plt.plot(testPredictPlot)\n",
    "plt.show()"
   ]
  },
  {
   "cell_type": "code",
   "execution_count": 71,
   "id": "b0758838",
   "metadata": {},
   "outputs": [
    {
     "data": {
      "text/plain": [
       "618"
      ]
     },
     "execution_count": 71,
     "metadata": {},
     "output_type": "execute_result"
    }
   ],
   "source": [
    "len(test_data)"
   ]
  },
  {
   "cell_type": "code",
   "execution_count": 82,
   "id": "a1bffef8",
   "metadata": {},
   "outputs": [
    {
     "data": {
      "text/plain": [
       "(1, 100)"
      ]
     },
     "execution_count": 82,
     "metadata": {},
     "output_type": "execute_result"
    }
   ],
   "source": [
    "x_input=test_data[518:].reshape(1,-1)\n",
    "x_input.shape"
   ]
  },
  {
   "cell_type": "code",
   "execution_count": 83,
   "id": "df2b3dcf",
   "metadata": {},
   "outputs": [],
   "source": [
    "temp_input=list(x_input)\n",
    "temp_input=temp_input[0].tolist()"
   ]
  },
  {
   "cell_type": "code",
   "execution_count": 84,
   "id": "07b9f814",
   "metadata": {},
   "outputs": [
    {
     "data": {
      "text/plain": [
       "[0.5653509463439819,\n",
       " 0.5773641669346289,\n",
       " 0.5731349641016312,\n",
       " 0.5473269233993586,\n",
       " 0.5302936490560712,\n",
       " 0.5496746286833633,\n",
       " 0.5367539417232805,\n",
       " 0.5424067676747327,\n",
       " 0.5640855035720223,\n",
       " 0.5659087188025348,\n",
       " 0.5681648593629982,\n",
       " 0.5598063517250172,\n",
       " 0.5687642475310851,\n",
       " 0.5845737456247789,\n",
       " 0.588578152488328,\n",
       " 0.5872211958056592,\n",
       " 0.5858059059916778,\n",
       " 0.5867882704757084,\n",
       " 0.6028974626534457,\n",
       " 0.6036883643859204,\n",
       " 0.604512548523456,\n",
       " 0.5890360777316985,\n",
       " 0.5946389038563115,\n",
       " 0.5958793467148514,\n",
       " 0.6053201168648773,\n",
       " 0.6062858147399613,\n",
       " 0.6083671083449833,\n",
       " 0.5839576908477456,\n",
       " 0.5916251947812662,\n",
       " 0.6020816118203833,\n",
       " 0.6034969016343648,\n",
       " 0.6207716385560472,\n",
       " 0.634899435156777,\n",
       " 0.6234107046196221,\n",
       " 0.6265326450271551,\n",
       " 0.6216790541126508,\n",
       " 0.6214625914476753,\n",
       " 0.6267158252870697,\n",
       " 0.6259332568590682,\n",
       " 0.6277314721761611,\n",
       " 0.6367725994012968,\n",
       " 0.630012561837212,\n",
       " 0.6353823095007352,\n",
       " 0.6468543734289437,\n",
       " 0.6513167055358632,\n",
       " 0.6573441236859537,\n",
       " 0.6779156479706107,\n",
       " 0.7004601837149697,\n",
       " 0.6955983103088244,\n",
       " 0.696872035572425,\n",
       " 0.7203490375996395,\n",
       " 0.7334029049927976,\n",
       " 0.8292922578658308,\n",
       " 0.8239391768112541,\n",
       " 0.8401149846119451,\n",
       " 0.8727330627051421,\n",
       " 0.9035028748415745,\n",
       " 0.9822506712260004,\n",
       " 0.9517888864780847,\n",
       " 0.9866380544054931,\n",
       " 1.0,\n",
       " 0.9934896566931193,\n",
       " 0.9442462296731661,\n",
       " 0.8281600463397786,\n",
       " 0.8651654059868038,\n",
       " 0.8614690773246036,\n",
       " 0.836418655949745,\n",
       " 0.8197433071961494,\n",
       " 0.854159549793607,\n",
       " 0.8826982720958279,\n",
       " 0.8888339215784061,\n",
       " 0.9227007758346162,\n",
       " 0.939192893515465,\n",
       " 0.8993652875449503,\n",
       " 0.9051679097255921,\n",
       " 0.8767957518871715,\n",
       " 0.9226424427033036,\n",
       " 0.9291111194878182,\n",
       " 0.8876850434434074,\n",
       " 0.8790268417213831,\n",
       " 0.8210586481692841,\n",
       " 0.8160968767351242,\n",
       " 0.851678664076527,\n",
       " 0.8660062567332858,\n",
       " 0.8117594425696388,\n",
       " 0.8227736828801411,\n",
       " 0.7806316032178503,\n",
       " 0.7740547459136801,\n",
       " 0.7886071345398875,\n",
       " 0.7477554975629761,\n",
       " 0.7524592414354586,\n",
       " 0.7252941932376851,\n",
       " 0.7574210636824507,\n",
       " 0.8159803120981634,\n",
       " 0.8643745550671611,\n",
       " 0.8868025261745592,\n",
       " 0.8822486801569306,\n",
       " 0.8803505159989911,\n",
       " 0.8671551348682845,\n",
       " 0.8558662511999907]"
      ]
     },
     "execution_count": 84,
     "metadata": {},
     "output_type": "execute_result"
    }
   ],
   "source": [
    "temp_input"
   ]
  },
  {
   "cell_type": "code",
   "execution_count": 85,
   "id": "b614b45f",
   "metadata": {},
   "outputs": [
    {
     "name": "stdout",
     "output_type": "stream",
     "text": [
      "[0.80190414]\n",
      "101\n",
      "1 day input [0.57736417 0.57313496 0.54732692 0.53029365 0.54967463 0.53675394\n",
      " 0.54240677 0.5640855  0.56590872 0.56816486 0.55980635 0.56876425\n",
      " 0.58457375 0.58857815 0.5872212  0.58580591 0.58678827 0.60289746\n",
      " 0.60368836 0.60451255 0.58903608 0.5946389  0.59587935 0.60532012\n",
      " 0.60628581 0.60836711 0.58395769 0.59162519 0.60208161 0.6034969\n",
      " 0.62077164 0.63489944 0.6234107  0.62653265 0.62167905 0.62146259\n",
      " 0.62671583 0.62593326 0.62773147 0.6367726  0.63001256 0.63538231\n",
      " 0.64685437 0.65131671 0.65734412 0.67791565 0.70046018 0.69559831\n",
      " 0.69687204 0.72034904 0.7334029  0.82929226 0.82393918 0.84011498\n",
      " 0.87273306 0.90350287 0.98225067 0.95178889 0.98663805 1.\n",
      " 0.99348966 0.94424623 0.82816005 0.86516541 0.86146908 0.83641866\n",
      " 0.81974331 0.85415955 0.88269827 0.88883392 0.92270078 0.93919289\n",
      " 0.89936529 0.90516791 0.87679575 0.92264244 0.92911112 0.88768504\n",
      " 0.87902684 0.82105865 0.81609688 0.85167866 0.86600626 0.81175944\n",
      " 0.82277368 0.7806316  0.77405475 0.78860713 0.7477555  0.75245924\n",
      " 0.72529419 0.75742106 0.81598031 0.86437456 0.88680253 0.88224868\n",
      " 0.88035052 0.86715513 0.85586625 0.80190414]\n",
      "1 day output [[0.77987516]]\n",
      "2 day input [0.57313496 0.54732692 0.53029365 0.54967463 0.53675394 0.54240677\n",
      " 0.5640855  0.56590872 0.56816486 0.55980635 0.56876425 0.58457375\n",
      " 0.58857815 0.5872212  0.58580591 0.58678827 0.60289746 0.60368836\n",
      " 0.60451255 0.58903608 0.5946389  0.59587935 0.60532012 0.60628581\n",
      " 0.60836711 0.58395769 0.59162519 0.60208161 0.6034969  0.62077164\n",
      " 0.63489944 0.6234107  0.62653265 0.62167905 0.62146259 0.62671583\n",
      " 0.62593326 0.62773147 0.6367726  0.63001256 0.63538231 0.64685437\n",
      " 0.65131671 0.65734412 0.67791565 0.70046018 0.69559831 0.69687204\n",
      " 0.72034904 0.7334029  0.82929226 0.82393918 0.84011498 0.87273306\n",
      " 0.90350287 0.98225067 0.95178889 0.98663805 1.         0.99348966\n",
      " 0.94424623 0.82816005 0.86516541 0.86146908 0.83641866 0.81974331\n",
      " 0.85415955 0.88269827 0.88883392 0.92270078 0.93919289 0.89936529\n",
      " 0.90516791 0.87679575 0.92264244 0.92911112 0.88768504 0.87902684\n",
      " 0.82105865 0.81609688 0.85167866 0.86600626 0.81175944 0.82277368\n",
      " 0.7806316  0.77405475 0.78860713 0.7477555  0.75245924 0.72529419\n",
      " 0.75742106 0.81598031 0.86437456 0.88680253 0.88224868 0.88035052\n",
      " 0.86715513 0.85586625 0.80190414 0.77987516]\n",
      "2 day output [[0.7504629]]\n",
      "3 day input [0.54732692 0.53029365 0.54967463 0.53675394 0.54240677 0.5640855\n",
      " 0.56590872 0.56816486 0.55980635 0.56876425 0.58457375 0.58857815\n",
      " 0.5872212  0.58580591 0.58678827 0.60289746 0.60368836 0.60451255\n",
      " 0.58903608 0.5946389  0.59587935 0.60532012 0.60628581 0.60836711\n",
      " 0.58395769 0.59162519 0.60208161 0.6034969  0.62077164 0.63489944\n",
      " 0.6234107  0.62653265 0.62167905 0.62146259 0.62671583 0.62593326\n",
      " 0.62773147 0.6367726  0.63001256 0.63538231 0.64685437 0.65131671\n",
      " 0.65734412 0.67791565 0.70046018 0.69559831 0.69687204 0.72034904\n",
      " 0.7334029  0.82929226 0.82393918 0.84011498 0.87273306 0.90350287\n",
      " 0.98225067 0.95178889 0.98663805 1.         0.99348966 0.94424623\n",
      " 0.82816005 0.86516541 0.86146908 0.83641866 0.81974331 0.85415955\n",
      " 0.88269827 0.88883392 0.92270078 0.93919289 0.89936529 0.90516791\n",
      " 0.87679575 0.92264244 0.92911112 0.88768504 0.87902684 0.82105865\n",
      " 0.81609688 0.85167866 0.86600626 0.81175944 0.82277368 0.7806316\n",
      " 0.77405475 0.78860713 0.7477555  0.75245924 0.72529419 0.75742106\n",
      " 0.81598031 0.86437456 0.88680253 0.88224868 0.88035052 0.86715513\n",
      " 0.85586625 0.80190414 0.77987516 0.75046289]\n",
      "3 day output [[0.7186653]]\n",
      "4 day input [0.53029365 0.54967463 0.53675394 0.54240677 0.5640855  0.56590872\n",
      " 0.56816486 0.55980635 0.56876425 0.58457375 0.58857815 0.5872212\n",
      " 0.58580591 0.58678827 0.60289746 0.60368836 0.60451255 0.58903608\n",
      " 0.5946389  0.59587935 0.60532012 0.60628581 0.60836711 0.58395769\n",
      " 0.59162519 0.60208161 0.6034969  0.62077164 0.63489944 0.6234107\n",
      " 0.62653265 0.62167905 0.62146259 0.62671583 0.62593326 0.62773147\n",
      " 0.6367726  0.63001256 0.63538231 0.64685437 0.65131671 0.65734412\n",
      " 0.67791565 0.70046018 0.69559831 0.69687204 0.72034904 0.7334029\n",
      " 0.82929226 0.82393918 0.84011498 0.87273306 0.90350287 0.98225067\n",
      " 0.95178889 0.98663805 1.         0.99348966 0.94424623 0.82816005\n",
      " 0.86516541 0.86146908 0.83641866 0.81974331 0.85415955 0.88269827\n",
      " 0.88883392 0.92270078 0.93919289 0.89936529 0.90516791 0.87679575\n",
      " 0.92264244 0.92911112 0.88768504 0.87902684 0.82105865 0.81609688\n",
      " 0.85167866 0.86600626 0.81175944 0.82277368 0.7806316  0.77405475\n",
      " 0.78860713 0.7477555  0.75245924 0.72529419 0.75742106 0.81598031\n",
      " 0.86437456 0.88680253 0.88224868 0.88035052 0.86715513 0.85586625\n",
      " 0.80190414 0.77987516 0.75046289 0.7186653 ]\n",
      "4 day output [[0.6871526]]\n",
      "5 day input [0.54967463 0.53675394 0.54240677 0.5640855  0.56590872 0.56816486\n",
      " 0.55980635 0.56876425 0.58457375 0.58857815 0.5872212  0.58580591\n",
      " 0.58678827 0.60289746 0.60368836 0.60451255 0.58903608 0.5946389\n",
      " 0.59587935 0.60532012 0.60628581 0.60836711 0.58395769 0.59162519\n",
      " 0.60208161 0.6034969  0.62077164 0.63489944 0.6234107  0.62653265\n",
      " 0.62167905 0.62146259 0.62671583 0.62593326 0.62773147 0.6367726\n",
      " 0.63001256 0.63538231 0.64685437 0.65131671 0.65734412 0.67791565\n",
      " 0.70046018 0.69559831 0.69687204 0.72034904 0.7334029  0.82929226\n",
      " 0.82393918 0.84011498 0.87273306 0.90350287 0.98225067 0.95178889\n",
      " 0.98663805 1.         0.99348966 0.94424623 0.82816005 0.86516541\n",
      " 0.86146908 0.83641866 0.81974331 0.85415955 0.88269827 0.88883392\n",
      " 0.92270078 0.93919289 0.89936529 0.90516791 0.87679575 0.92264244\n",
      " 0.92911112 0.88768504 0.87902684 0.82105865 0.81609688 0.85167866\n",
      " 0.86600626 0.81175944 0.82277368 0.7806316  0.77405475 0.78860713\n",
      " 0.7477555  0.75245924 0.72529419 0.75742106 0.81598031 0.86437456\n",
      " 0.88680253 0.88224868 0.88035052 0.86715513 0.85586625 0.80190414\n",
      " 0.77987516 0.75046289 0.7186653  0.68715262]\n",
      "5 day output [[0.6572065]]\n",
      "6 day input [0.53675394 0.54240677 0.5640855  0.56590872 0.56816486 0.55980635\n",
      " 0.56876425 0.58457375 0.58857815 0.5872212  0.58580591 0.58678827\n",
      " 0.60289746 0.60368836 0.60451255 0.58903608 0.5946389  0.59587935\n",
      " 0.60532012 0.60628581 0.60836711 0.58395769 0.59162519 0.60208161\n",
      " 0.6034969  0.62077164 0.63489944 0.6234107  0.62653265 0.62167905\n",
      " 0.62146259 0.62671583 0.62593326 0.62773147 0.6367726  0.63001256\n",
      " 0.63538231 0.64685437 0.65131671 0.65734412 0.67791565 0.70046018\n",
      " 0.69559831 0.69687204 0.72034904 0.7334029  0.82929226 0.82393918\n",
      " 0.84011498 0.87273306 0.90350287 0.98225067 0.95178889 0.98663805\n",
      " 1.         0.99348966 0.94424623 0.82816005 0.86516541 0.86146908\n",
      " 0.83641866 0.81974331 0.85415955 0.88269827 0.88883392 0.92270078\n",
      " 0.93919289 0.89936529 0.90516791 0.87679575 0.92264244 0.92911112\n",
      " 0.88768504 0.87902684 0.82105865 0.81609688 0.85167866 0.86600626\n",
      " 0.81175944 0.82277368 0.7806316  0.77405475 0.78860713 0.7477555\n",
      " 0.75245924 0.72529419 0.75742106 0.81598031 0.86437456 0.88680253\n",
      " 0.88224868 0.88035052 0.86715513 0.85586625 0.80190414 0.77987516\n",
      " 0.75046289 0.7186653  0.68715262 0.65720648]\n",
      "6 day output [[0.6294747]]\n",
      "7 day input [0.54240677 0.5640855  0.56590872 0.56816486 0.55980635 0.56876425\n",
      " 0.58457375 0.58857815 0.5872212  0.58580591 0.58678827 0.60289746\n",
      " 0.60368836 0.60451255 0.58903608 0.5946389  0.59587935 0.60532012\n",
      " 0.60628581 0.60836711 0.58395769 0.59162519 0.60208161 0.6034969\n",
      " 0.62077164 0.63489944 0.6234107  0.62653265 0.62167905 0.62146259\n",
      " 0.62671583 0.62593326 0.62773147 0.6367726  0.63001256 0.63538231\n",
      " 0.64685437 0.65131671 0.65734412 0.67791565 0.70046018 0.69559831\n",
      " 0.69687204 0.72034904 0.7334029  0.82929226 0.82393918 0.84011498\n",
      " 0.87273306 0.90350287 0.98225067 0.95178889 0.98663805 1.\n",
      " 0.99348966 0.94424623 0.82816005 0.86516541 0.86146908 0.83641866\n",
      " 0.81974331 0.85415955 0.88269827 0.88883392 0.92270078 0.93919289\n",
      " 0.89936529 0.90516791 0.87679575 0.92264244 0.92911112 0.88768504\n",
      " 0.87902684 0.82105865 0.81609688 0.85167866 0.86600626 0.81175944\n",
      " 0.82277368 0.7806316  0.77405475 0.78860713 0.7477555  0.75245924\n",
      " 0.72529419 0.75742106 0.81598031 0.86437456 0.88680253 0.88224868\n",
      " 0.88035052 0.86715513 0.85586625 0.80190414 0.77987516 0.75046289\n",
      " 0.7186653  0.68715262 0.65720648 0.6294747 ]\n",
      "7 day output [[0.6043031]]\n",
      "8 day input [0.5640855  0.56590872 0.56816486 0.55980635 0.56876425 0.58457375\n",
      " 0.58857815 0.5872212  0.58580591 0.58678827 0.60289746 0.60368836\n",
      " 0.60451255 0.58903608 0.5946389  0.59587935 0.60532012 0.60628581\n",
      " 0.60836711 0.58395769 0.59162519 0.60208161 0.6034969  0.62077164\n",
      " 0.63489944 0.6234107  0.62653265 0.62167905 0.62146259 0.62671583\n",
      " 0.62593326 0.62773147 0.6367726  0.63001256 0.63538231 0.64685437\n",
      " 0.65131671 0.65734412 0.67791565 0.70046018 0.69559831 0.69687204\n",
      " 0.72034904 0.7334029  0.82929226 0.82393918 0.84011498 0.87273306\n",
      " 0.90350287 0.98225067 0.95178889 0.98663805 1.         0.99348966\n",
      " 0.94424623 0.82816005 0.86516541 0.86146908 0.83641866 0.81974331\n",
      " 0.85415955 0.88269827 0.88883392 0.92270078 0.93919289 0.89936529\n",
      " 0.90516791 0.87679575 0.92264244 0.92911112 0.88768504 0.87902684\n",
      " 0.82105865 0.81609688 0.85167866 0.86600626 0.81175944 0.82277368\n",
      " 0.7806316  0.77405475 0.78860713 0.7477555  0.75245924 0.72529419\n",
      " 0.75742106 0.81598031 0.86437456 0.88680253 0.88224868 0.88035052\n",
      " 0.86715513 0.85586625 0.80190414 0.77987516 0.75046289 0.7186653\n",
      " 0.68715262 0.65720648 0.6294747  0.60430312]\n"
     ]
    },
    {
     "name": "stdout",
     "output_type": "stream",
     "text": [
      "8 day output [[0.58183646]]\n",
      "9 day input [0.56590872 0.56816486 0.55980635 0.56876425 0.58457375 0.58857815\n",
      " 0.5872212  0.58580591 0.58678827 0.60289746 0.60368836 0.60451255\n",
      " 0.58903608 0.5946389  0.59587935 0.60532012 0.60628581 0.60836711\n",
      " 0.58395769 0.59162519 0.60208161 0.6034969  0.62077164 0.63489944\n",
      " 0.6234107  0.62653265 0.62167905 0.62146259 0.62671583 0.62593326\n",
      " 0.62773147 0.6367726  0.63001256 0.63538231 0.64685437 0.65131671\n",
      " 0.65734412 0.67791565 0.70046018 0.69559831 0.69687204 0.72034904\n",
      " 0.7334029  0.82929226 0.82393918 0.84011498 0.87273306 0.90350287\n",
      " 0.98225067 0.95178889 0.98663805 1.         0.99348966 0.94424623\n",
      " 0.82816005 0.86516541 0.86146908 0.83641866 0.81974331 0.85415955\n",
      " 0.88269827 0.88883392 0.92270078 0.93919289 0.89936529 0.90516791\n",
      " 0.87679575 0.92264244 0.92911112 0.88768504 0.87902684 0.82105865\n",
      " 0.81609688 0.85167866 0.86600626 0.81175944 0.82277368 0.7806316\n",
      " 0.77405475 0.78860713 0.7477555  0.75245924 0.72529419 0.75742106\n",
      " 0.81598031 0.86437456 0.88680253 0.88224868 0.88035052 0.86715513\n",
      " 0.85586625 0.80190414 0.77987516 0.75046289 0.7186653  0.68715262\n",
      " 0.65720648 0.6294747  0.60430312 0.58183646]\n",
      "9 day output [[0.5620515]]\n",
      "10 day input [0.56816486 0.55980635 0.56876425 0.58457375 0.58857815 0.5872212\n",
      " 0.58580591 0.58678827 0.60289746 0.60368836 0.60451255 0.58903608\n",
      " 0.5946389  0.59587935 0.60532012 0.60628581 0.60836711 0.58395769\n",
      " 0.59162519 0.60208161 0.6034969  0.62077164 0.63489944 0.6234107\n",
      " 0.62653265 0.62167905 0.62146259 0.62671583 0.62593326 0.62773147\n",
      " 0.6367726  0.63001256 0.63538231 0.64685437 0.65131671 0.65734412\n",
      " 0.67791565 0.70046018 0.69559831 0.69687204 0.72034904 0.7334029\n",
      " 0.82929226 0.82393918 0.84011498 0.87273306 0.90350287 0.98225067\n",
      " 0.95178889 0.98663805 1.         0.99348966 0.94424623 0.82816005\n",
      " 0.86516541 0.86146908 0.83641866 0.81974331 0.85415955 0.88269827\n",
      " 0.88883392 0.92270078 0.93919289 0.89936529 0.90516791 0.87679575\n",
      " 0.92264244 0.92911112 0.88768504 0.87902684 0.82105865 0.81609688\n",
      " 0.85167866 0.86600626 0.81175944 0.82277368 0.7806316  0.77405475\n",
      " 0.78860713 0.7477555  0.75245924 0.72529419 0.75742106 0.81598031\n",
      " 0.86437456 0.88680253 0.88224868 0.88035052 0.86715513 0.85586625\n",
      " 0.80190414 0.77987516 0.75046289 0.7186653  0.68715262 0.65720648\n",
      " 0.6294747  0.60430312 0.58183646 0.56205148]\n",
      "10 day output [[0.54477996]]\n",
      "11 day input [0.55980635 0.56876425 0.58457375 0.58857815 0.5872212  0.58580591\n",
      " 0.58678827 0.60289746 0.60368836 0.60451255 0.58903608 0.5946389\n",
      " 0.59587935 0.60532012 0.60628581 0.60836711 0.58395769 0.59162519\n",
      " 0.60208161 0.6034969  0.62077164 0.63489944 0.6234107  0.62653265\n",
      " 0.62167905 0.62146259 0.62671583 0.62593326 0.62773147 0.6367726\n",
      " 0.63001256 0.63538231 0.64685437 0.65131671 0.65734412 0.67791565\n",
      " 0.70046018 0.69559831 0.69687204 0.72034904 0.7334029  0.82929226\n",
      " 0.82393918 0.84011498 0.87273306 0.90350287 0.98225067 0.95178889\n",
      " 0.98663805 1.         0.99348966 0.94424623 0.82816005 0.86516541\n",
      " 0.86146908 0.83641866 0.81974331 0.85415955 0.88269827 0.88883392\n",
      " 0.92270078 0.93919289 0.89936529 0.90516791 0.87679575 0.92264244\n",
      " 0.92911112 0.88768504 0.87902684 0.82105865 0.81609688 0.85167866\n",
      " 0.86600626 0.81175944 0.82277368 0.7806316  0.77405475 0.78860713\n",
      " 0.7477555  0.75245924 0.72529419 0.75742106 0.81598031 0.86437456\n",
      " 0.88680253 0.88224868 0.88035052 0.86715513 0.85586625 0.80190414\n",
      " 0.77987516 0.75046289 0.7186653  0.68715262 0.65720648 0.6294747\n",
      " 0.60430312 0.58183646 0.56205148 0.54477996]\n",
      "11 day output [[0.5297434]]\n",
      "12 day input [0.56876425 0.58457375 0.58857815 0.5872212  0.58580591 0.58678827\n",
      " 0.60289746 0.60368836 0.60451255 0.58903608 0.5946389  0.59587935\n",
      " 0.60532012 0.60628581 0.60836711 0.58395769 0.59162519 0.60208161\n",
      " 0.6034969  0.62077164 0.63489944 0.6234107  0.62653265 0.62167905\n",
      " 0.62146259 0.62671583 0.62593326 0.62773147 0.6367726  0.63001256\n",
      " 0.63538231 0.64685437 0.65131671 0.65734412 0.67791565 0.70046018\n",
      " 0.69559831 0.69687204 0.72034904 0.7334029  0.82929226 0.82393918\n",
      " 0.84011498 0.87273306 0.90350287 0.98225067 0.95178889 0.98663805\n",
      " 1.         0.99348966 0.94424623 0.82816005 0.86516541 0.86146908\n",
      " 0.83641866 0.81974331 0.85415955 0.88269827 0.88883392 0.92270078\n",
      " 0.93919289 0.89936529 0.90516791 0.87679575 0.92264244 0.92911112\n",
      " 0.88768504 0.87902684 0.82105865 0.81609688 0.85167866 0.86600626\n",
      " 0.81175944 0.82277368 0.7806316  0.77405475 0.78860713 0.7477555\n",
      " 0.75245924 0.72529419 0.75742106 0.81598031 0.86437456 0.88680253\n",
      " 0.88224868 0.88035052 0.86715513 0.85586625 0.80190414 0.77987516\n",
      " 0.75046289 0.7186653  0.68715262 0.65720648 0.6294747  0.60430312\n",
      " 0.58183646 0.56205148 0.54477996 0.52974337]\n",
      "12 day output [[0.5165916]]\n",
      "13 day input [0.58457375 0.58857815 0.5872212  0.58580591 0.58678827 0.60289746\n",
      " 0.60368836 0.60451255 0.58903608 0.5946389  0.59587935 0.60532012\n",
      " 0.60628581 0.60836711 0.58395769 0.59162519 0.60208161 0.6034969\n",
      " 0.62077164 0.63489944 0.6234107  0.62653265 0.62167905 0.62146259\n",
      " 0.62671583 0.62593326 0.62773147 0.6367726  0.63001256 0.63538231\n",
      " 0.64685437 0.65131671 0.65734412 0.67791565 0.70046018 0.69559831\n",
      " 0.69687204 0.72034904 0.7334029  0.82929226 0.82393918 0.84011498\n",
      " 0.87273306 0.90350287 0.98225067 0.95178889 0.98663805 1.\n",
      " 0.99348966 0.94424623 0.82816005 0.86516541 0.86146908 0.83641866\n",
      " 0.81974331 0.85415955 0.88269827 0.88883392 0.92270078 0.93919289\n",
      " 0.89936529 0.90516791 0.87679575 0.92264244 0.92911112 0.88768504\n",
      " 0.87902684 0.82105865 0.81609688 0.85167866 0.86600626 0.81175944\n",
      " 0.82277368 0.7806316  0.77405475 0.78860713 0.7477555  0.75245924\n",
      " 0.72529419 0.75742106 0.81598031 0.86437456 0.88680253 0.88224868\n",
      " 0.88035052 0.86715513 0.85586625 0.80190414 0.77987516 0.75046289\n",
      " 0.7186653  0.68715262 0.65720648 0.6294747  0.60430312 0.58183646\n",
      " 0.56205148 0.54477996 0.52974337 0.51659161]\n",
      "13 day output [[0.5049426]]\n",
      "14 day input [0.58857815 0.5872212  0.58580591 0.58678827 0.60289746 0.60368836\n",
      " 0.60451255 0.58903608 0.5946389  0.59587935 0.60532012 0.60628581\n",
      " 0.60836711 0.58395769 0.59162519 0.60208161 0.6034969  0.62077164\n",
      " 0.63489944 0.6234107  0.62653265 0.62167905 0.62146259 0.62671583\n",
      " 0.62593326 0.62773147 0.6367726  0.63001256 0.63538231 0.64685437\n",
      " 0.65131671 0.65734412 0.67791565 0.70046018 0.69559831 0.69687204\n",
      " 0.72034904 0.7334029  0.82929226 0.82393918 0.84011498 0.87273306\n",
      " 0.90350287 0.98225067 0.95178889 0.98663805 1.         0.99348966\n",
      " 0.94424623 0.82816005 0.86516541 0.86146908 0.83641866 0.81974331\n",
      " 0.85415955 0.88269827 0.88883392 0.92270078 0.93919289 0.89936529\n",
      " 0.90516791 0.87679575 0.92264244 0.92911112 0.88768504 0.87902684\n",
      " 0.82105865 0.81609688 0.85167866 0.86600626 0.81175944 0.82277368\n",
      " 0.7806316  0.77405475 0.78860713 0.7477555  0.75245924 0.72529419\n",
      " 0.75742106 0.81598031 0.86437456 0.88680253 0.88224868 0.88035052\n",
      " 0.86715513 0.85586625 0.80190414 0.77987516 0.75046289 0.7186653\n",
      " 0.68715262 0.65720648 0.6294747  0.60430312 0.58183646 0.56205148\n",
      " 0.54477996 0.52974337 0.51659161 0.5049426 ]\n",
      "14 day output [[0.49441704]]\n",
      "15 day input [0.5872212  0.58580591 0.58678827 0.60289746 0.60368836 0.60451255\n",
      " 0.58903608 0.5946389  0.59587935 0.60532012 0.60628581 0.60836711\n",
      " 0.58395769 0.59162519 0.60208161 0.6034969  0.62077164 0.63489944\n",
      " 0.6234107  0.62653265 0.62167905 0.62146259 0.62671583 0.62593326\n",
      " 0.62773147 0.6367726  0.63001256 0.63538231 0.64685437 0.65131671\n",
      " 0.65734412 0.67791565 0.70046018 0.69559831 0.69687204 0.72034904\n",
      " 0.7334029  0.82929226 0.82393918 0.84011498 0.87273306 0.90350287\n",
      " 0.98225067 0.95178889 0.98663805 1.         0.99348966 0.94424623\n",
      " 0.82816005 0.86516541 0.86146908 0.83641866 0.81974331 0.85415955\n",
      " 0.88269827 0.88883392 0.92270078 0.93919289 0.89936529 0.90516791\n",
      " 0.87679575 0.92264244 0.92911112 0.88768504 0.87902684 0.82105865\n",
      " 0.81609688 0.85167866 0.86600626 0.81175944 0.82277368 0.7806316\n",
      " 0.77405475 0.78860713 0.7477555  0.75245924 0.72529419 0.75742106\n",
      " 0.81598031 0.86437456 0.88680253 0.88224868 0.88035052 0.86715513\n",
      " 0.85586625 0.80190414 0.77987516 0.75046289 0.7186653  0.68715262\n",
      " 0.65720648 0.6294747  0.60430312 0.58183646 0.56205148 0.54477996\n",
      " 0.52974337 0.51659161 0.5049426  0.49441704]\n",
      "15 day output [[0.4846674]]\n",
      "16 day input [0.58580591 0.58678827 0.60289746 0.60368836 0.60451255 0.58903608\n",
      " 0.5946389  0.59587935 0.60532012 0.60628581 0.60836711 0.58395769\n",
      " 0.59162519 0.60208161 0.6034969  0.62077164 0.63489944 0.6234107\n",
      " 0.62653265 0.62167905 0.62146259 0.62671583 0.62593326 0.62773147\n",
      " 0.6367726  0.63001256 0.63538231 0.64685437 0.65131671 0.65734412\n",
      " 0.67791565 0.70046018 0.69559831 0.69687204 0.72034904 0.7334029\n",
      " 0.82929226 0.82393918 0.84011498 0.87273306 0.90350287 0.98225067\n",
      " 0.95178889 0.98663805 1.         0.99348966 0.94424623 0.82816005\n",
      " 0.86516541 0.86146908 0.83641866 0.81974331 0.85415955 0.88269827\n",
      " 0.88883392 0.92270078 0.93919289 0.89936529 0.90516791 0.87679575\n",
      " 0.92264244 0.92911112 0.88768504 0.87902684 0.82105865 0.81609688\n",
      " 0.85167866 0.86600626 0.81175944 0.82277368 0.7806316  0.77405475\n",
      " 0.78860713 0.7477555  0.75245924 0.72529419 0.75742106 0.81598031\n",
      " 0.86437456 0.88680253 0.88224868 0.88035052 0.86715513 0.85586625\n",
      " 0.80190414 0.77987516 0.75046289 0.7186653  0.68715262 0.65720648\n",
      " 0.6294747  0.60430312 0.58183646 0.56205148 0.54477996 0.52974337\n",
      " 0.51659161 0.5049426  0.49441704 0.48466739]\n",
      "16 day output [[0.47539723]]\n",
      "17 day input [0.58678827 0.60289746 0.60368836 0.60451255 0.58903608 0.5946389\n",
      " 0.59587935 0.60532012 0.60628581 0.60836711 0.58395769 0.59162519\n",
      " 0.60208161 0.6034969  0.62077164 0.63489944 0.6234107  0.62653265\n",
      " 0.62167905 0.62146259 0.62671583 0.62593326 0.62773147 0.6367726\n",
      " 0.63001256 0.63538231 0.64685437 0.65131671 0.65734412 0.67791565\n",
      " 0.70046018 0.69559831 0.69687204 0.72034904 0.7334029  0.82929226\n",
      " 0.82393918 0.84011498 0.87273306 0.90350287 0.98225067 0.95178889\n",
      " 0.98663805 1.         0.99348966 0.94424623 0.82816005 0.86516541\n",
      " 0.86146908 0.83641866 0.81974331 0.85415955 0.88269827 0.88883392\n",
      " 0.92270078 0.93919289 0.89936529 0.90516791 0.87679575 0.92264244\n",
      " 0.92911112 0.88768504 0.87902684 0.82105865 0.81609688 0.85167866\n",
      " 0.86600626 0.81175944 0.82277368 0.7806316  0.77405475 0.78860713\n",
      " 0.7477555  0.75245924 0.72529419 0.75742106 0.81598031 0.86437456\n",
      " 0.88680253 0.88224868 0.88035052 0.86715513 0.85586625 0.80190414\n",
      " 0.77987516 0.75046289 0.7186653  0.68715262 0.65720648 0.6294747\n",
      " 0.60430312 0.58183646 0.56205148 0.54477996 0.52974337 0.51659161\n",
      " 0.5049426  0.49441704 0.48466739 0.47539723]\n",
      "17 day output [[0.46637294]]\n",
      "18 day input [0.60289746 0.60368836 0.60451255 0.58903608 0.5946389  0.59587935\n",
      " 0.60532012 0.60628581 0.60836711 0.58395769 0.59162519 0.60208161\n",
      " 0.6034969  0.62077164 0.63489944 0.6234107  0.62653265 0.62167905\n",
      " 0.62146259 0.62671583 0.62593326 0.62773147 0.6367726  0.63001256\n",
      " 0.63538231 0.64685437 0.65131671 0.65734412 0.67791565 0.70046018\n",
      " 0.69559831 0.69687204 0.72034904 0.7334029  0.82929226 0.82393918\n",
      " 0.84011498 0.87273306 0.90350287 0.98225067 0.95178889 0.98663805\n",
      " 1.         0.99348966 0.94424623 0.82816005 0.86516541 0.86146908\n",
      " 0.83641866 0.81974331 0.85415955 0.88269827 0.88883392 0.92270078\n",
      " 0.93919289 0.89936529 0.90516791 0.87679575 0.92264244 0.92911112\n",
      " 0.88768504 0.87902684 0.82105865 0.81609688 0.85167866 0.86600626\n",
      " 0.81175944 0.82277368 0.7806316  0.77405475 0.78860713 0.7477555\n",
      " 0.75245924 0.72529419 0.75742106 0.81598031 0.86437456 0.88680253\n",
      " 0.88224868 0.88035052 0.86715513 0.85586625 0.80190414 0.77987516\n",
      " 0.75046289 0.7186653  0.68715262 0.65720648 0.6294747  0.60430312\n",
      " 0.58183646 0.56205148 0.54477996 0.52974337 0.51659161 0.5049426\n",
      " 0.49441704 0.48466739 0.47539723 0.46637294]\n"
     ]
    },
    {
     "name": "stdout",
     "output_type": "stream",
     "text": [
      "18 day output [[0.45742762]]\n",
      "19 day input [0.60368836 0.60451255 0.58903608 0.5946389  0.59587935 0.60532012\n",
      " 0.60628581 0.60836711 0.58395769 0.59162519 0.60208161 0.6034969\n",
      " 0.62077164 0.63489944 0.6234107  0.62653265 0.62167905 0.62146259\n",
      " 0.62671583 0.62593326 0.62773147 0.6367726  0.63001256 0.63538231\n",
      " 0.64685437 0.65131671 0.65734412 0.67791565 0.70046018 0.69559831\n",
      " 0.69687204 0.72034904 0.7334029  0.82929226 0.82393918 0.84011498\n",
      " 0.87273306 0.90350287 0.98225067 0.95178889 0.98663805 1.\n",
      " 0.99348966 0.94424623 0.82816005 0.86516541 0.86146908 0.83641866\n",
      " 0.81974331 0.85415955 0.88269827 0.88883392 0.92270078 0.93919289\n",
      " 0.89936529 0.90516791 0.87679575 0.92264244 0.92911112 0.88768504\n",
      " 0.87902684 0.82105865 0.81609688 0.85167866 0.86600626 0.81175944\n",
      " 0.82277368 0.7806316  0.77405475 0.78860713 0.7477555  0.75245924\n",
      " 0.72529419 0.75742106 0.81598031 0.86437456 0.88680253 0.88224868\n",
      " 0.88035052 0.86715513 0.85586625 0.80190414 0.77987516 0.75046289\n",
      " 0.7186653  0.68715262 0.65720648 0.6294747  0.60430312 0.58183646\n",
      " 0.56205148 0.54477996 0.52974337 0.51659161 0.5049426  0.49441704\n",
      " 0.48466739 0.47539723 0.46637294 0.45742762]\n",
      "19 day output [[0.44845885]]\n",
      "20 day input [0.60451255 0.58903608 0.5946389  0.59587935 0.60532012 0.60628581\n",
      " 0.60836711 0.58395769 0.59162519 0.60208161 0.6034969  0.62077164\n",
      " 0.63489944 0.6234107  0.62653265 0.62167905 0.62146259 0.62671583\n",
      " 0.62593326 0.62773147 0.6367726  0.63001256 0.63538231 0.64685437\n",
      " 0.65131671 0.65734412 0.67791565 0.70046018 0.69559831 0.69687204\n",
      " 0.72034904 0.7334029  0.82929226 0.82393918 0.84011498 0.87273306\n",
      " 0.90350287 0.98225067 0.95178889 0.98663805 1.         0.99348966\n",
      " 0.94424623 0.82816005 0.86516541 0.86146908 0.83641866 0.81974331\n",
      " 0.85415955 0.88269827 0.88883392 0.92270078 0.93919289 0.89936529\n",
      " 0.90516791 0.87679575 0.92264244 0.92911112 0.88768504 0.87902684\n",
      " 0.82105865 0.81609688 0.85167866 0.86600626 0.81175944 0.82277368\n",
      " 0.7806316  0.77405475 0.78860713 0.7477555  0.75245924 0.72529419\n",
      " 0.75742106 0.81598031 0.86437456 0.88680253 0.88224868 0.88035052\n",
      " 0.86715513 0.85586625 0.80190414 0.77987516 0.75046289 0.7186653\n",
      " 0.68715262 0.65720648 0.6294747  0.60430312 0.58183646 0.56205148\n",
      " 0.54477996 0.52974337 0.51659161 0.5049426  0.49441704 0.48466739\n",
      " 0.47539723 0.46637294 0.45742762 0.44845885]\n",
      "20 day output [[0.43942192]]\n",
      "21 day input [0.58903608 0.5946389  0.59587935 0.60532012 0.60628581 0.60836711\n",
      " 0.58395769 0.59162519 0.60208161 0.6034969  0.62077164 0.63489944\n",
      " 0.6234107  0.62653265 0.62167905 0.62146259 0.62671583 0.62593326\n",
      " 0.62773147 0.6367726  0.63001256 0.63538231 0.64685437 0.65131671\n",
      " 0.65734412 0.67791565 0.70046018 0.69559831 0.69687204 0.72034904\n",
      " 0.7334029  0.82929226 0.82393918 0.84011498 0.87273306 0.90350287\n",
      " 0.98225067 0.95178889 0.98663805 1.         0.99348966 0.94424623\n",
      " 0.82816005 0.86516541 0.86146908 0.83641866 0.81974331 0.85415955\n",
      " 0.88269827 0.88883392 0.92270078 0.93919289 0.89936529 0.90516791\n",
      " 0.87679575 0.92264244 0.92911112 0.88768504 0.87902684 0.82105865\n",
      " 0.81609688 0.85167866 0.86600626 0.81175944 0.82277368 0.7806316\n",
      " 0.77405475 0.78860713 0.7477555  0.75245924 0.72529419 0.75742106\n",
      " 0.81598031 0.86437456 0.88680253 0.88224868 0.88035052 0.86715513\n",
      " 0.85586625 0.80190414 0.77987516 0.75046289 0.7186653  0.68715262\n",
      " 0.65720648 0.6294747  0.60430312 0.58183646 0.56205148 0.54477996\n",
      " 0.52974337 0.51659161 0.5049426  0.49441704 0.48466739 0.47539723\n",
      " 0.46637294 0.45742762 0.44845885 0.43942192]\n",
      "21 day output [[0.43031952]]\n",
      "22 day input [0.5946389  0.59587935 0.60532012 0.60628581 0.60836711 0.58395769\n",
      " 0.59162519 0.60208161 0.6034969  0.62077164 0.63489944 0.6234107\n",
      " 0.62653265 0.62167905 0.62146259 0.62671583 0.62593326 0.62773147\n",
      " 0.6367726  0.63001256 0.63538231 0.64685437 0.65131671 0.65734412\n",
      " 0.67791565 0.70046018 0.69559831 0.69687204 0.72034904 0.7334029\n",
      " 0.82929226 0.82393918 0.84011498 0.87273306 0.90350287 0.98225067\n",
      " 0.95178889 0.98663805 1.         0.99348966 0.94424623 0.82816005\n",
      " 0.86516541 0.86146908 0.83641866 0.81974331 0.85415955 0.88269827\n",
      " 0.88883392 0.92270078 0.93919289 0.89936529 0.90516791 0.87679575\n",
      " 0.92264244 0.92911112 0.88768504 0.87902684 0.82105865 0.81609688\n",
      " 0.85167866 0.86600626 0.81175944 0.82277368 0.7806316  0.77405475\n",
      " 0.78860713 0.7477555  0.75245924 0.72529419 0.75742106 0.81598031\n",
      " 0.86437456 0.88680253 0.88224868 0.88035052 0.86715513 0.85586625\n",
      " 0.80190414 0.77987516 0.75046289 0.7186653  0.68715262 0.65720648\n",
      " 0.6294747  0.60430312 0.58183646 0.56205148 0.54477996 0.52974337\n",
      " 0.51659161 0.5049426  0.49441704 0.48466739 0.47539723 0.46637294\n",
      " 0.45742762 0.44845885 0.43942192 0.43031952]\n",
      "22 day output [[0.42118976]]\n",
      "23 day input [0.59587935 0.60532012 0.60628581 0.60836711 0.58395769 0.59162519\n",
      " 0.60208161 0.6034969  0.62077164 0.63489944 0.6234107  0.62653265\n",
      " 0.62167905 0.62146259 0.62671583 0.62593326 0.62773147 0.6367726\n",
      " 0.63001256 0.63538231 0.64685437 0.65131671 0.65734412 0.67791565\n",
      " 0.70046018 0.69559831 0.69687204 0.72034904 0.7334029  0.82929226\n",
      " 0.82393918 0.84011498 0.87273306 0.90350287 0.98225067 0.95178889\n",
      " 0.98663805 1.         0.99348966 0.94424623 0.82816005 0.86516541\n",
      " 0.86146908 0.83641866 0.81974331 0.85415955 0.88269827 0.88883392\n",
      " 0.92270078 0.93919289 0.89936529 0.90516791 0.87679575 0.92264244\n",
      " 0.92911112 0.88768504 0.87902684 0.82105865 0.81609688 0.85167866\n",
      " 0.86600626 0.81175944 0.82277368 0.7806316  0.77405475 0.78860713\n",
      " 0.7477555  0.75245924 0.72529419 0.75742106 0.81598031 0.86437456\n",
      " 0.88680253 0.88224868 0.88035052 0.86715513 0.85586625 0.80190414\n",
      " 0.77987516 0.75046289 0.7186653  0.68715262 0.65720648 0.6294747\n",
      " 0.60430312 0.58183646 0.56205148 0.54477996 0.52974337 0.51659161\n",
      " 0.5049426  0.49441704 0.48466739 0.47539723 0.46637294 0.45742762\n",
      " 0.44845885 0.43942192 0.43031952 0.42118976]\n",
      "23 day output [[0.41209495]]\n",
      "24 day input [0.60532012 0.60628581 0.60836711 0.58395769 0.59162519 0.60208161\n",
      " 0.6034969  0.62077164 0.63489944 0.6234107  0.62653265 0.62167905\n",
      " 0.62146259 0.62671583 0.62593326 0.62773147 0.6367726  0.63001256\n",
      " 0.63538231 0.64685437 0.65131671 0.65734412 0.67791565 0.70046018\n",
      " 0.69559831 0.69687204 0.72034904 0.7334029  0.82929226 0.82393918\n",
      " 0.84011498 0.87273306 0.90350287 0.98225067 0.95178889 0.98663805\n",
      " 1.         0.99348966 0.94424623 0.82816005 0.86516541 0.86146908\n",
      " 0.83641866 0.81974331 0.85415955 0.88269827 0.88883392 0.92270078\n",
      " 0.93919289 0.89936529 0.90516791 0.87679575 0.92264244 0.92911112\n",
      " 0.88768504 0.87902684 0.82105865 0.81609688 0.85167866 0.86600626\n",
      " 0.81175944 0.82277368 0.7806316  0.77405475 0.78860713 0.7477555\n",
      " 0.75245924 0.72529419 0.75742106 0.81598031 0.86437456 0.88680253\n",
      " 0.88224868 0.88035052 0.86715513 0.85586625 0.80190414 0.77987516\n",
      " 0.75046289 0.7186653  0.68715262 0.65720648 0.6294747  0.60430312\n",
      " 0.58183646 0.56205148 0.54477996 0.52974337 0.51659161 0.5049426\n",
      " 0.49441704 0.48466739 0.47539723 0.46637294 0.45742762 0.44845885\n",
      " 0.43942192 0.43031952 0.42118976 0.41209495]\n",
      "24 day output [[0.40310895]]\n",
      "25 day input [0.60628581 0.60836711 0.58395769 0.59162519 0.60208161 0.6034969\n",
      " 0.62077164 0.63489944 0.6234107  0.62653265 0.62167905 0.62146259\n",
      " 0.62671583 0.62593326 0.62773147 0.6367726  0.63001256 0.63538231\n",
      " 0.64685437 0.65131671 0.65734412 0.67791565 0.70046018 0.69559831\n",
      " 0.69687204 0.72034904 0.7334029  0.82929226 0.82393918 0.84011498\n",
      " 0.87273306 0.90350287 0.98225067 0.95178889 0.98663805 1.\n",
      " 0.99348966 0.94424623 0.82816005 0.86516541 0.86146908 0.83641866\n",
      " 0.81974331 0.85415955 0.88269827 0.88883392 0.92270078 0.93919289\n",
      " 0.89936529 0.90516791 0.87679575 0.92264244 0.92911112 0.88768504\n",
      " 0.87902684 0.82105865 0.81609688 0.85167866 0.86600626 0.81175944\n",
      " 0.82277368 0.7806316  0.77405475 0.78860713 0.7477555  0.75245924\n",
      " 0.72529419 0.75742106 0.81598031 0.86437456 0.88680253 0.88224868\n",
      " 0.88035052 0.86715513 0.85586625 0.80190414 0.77987516 0.75046289\n",
      " 0.7186653  0.68715262 0.65720648 0.6294747  0.60430312 0.58183646\n",
      " 0.56205148 0.54477996 0.52974337 0.51659161 0.5049426  0.49441704\n",
      " 0.48466739 0.47539723 0.46637294 0.45742762 0.44845885 0.43942192\n",
      " 0.43031952 0.42118976 0.41209495 0.40310895]\n",
      "25 day output [[0.39430892]]\n",
      "26 day input [0.60836711 0.58395769 0.59162519 0.60208161 0.6034969  0.62077164\n",
      " 0.63489944 0.6234107  0.62653265 0.62167905 0.62146259 0.62671583\n",
      " 0.62593326 0.62773147 0.6367726  0.63001256 0.63538231 0.64685437\n",
      " 0.65131671 0.65734412 0.67791565 0.70046018 0.69559831 0.69687204\n",
      " 0.72034904 0.7334029  0.82929226 0.82393918 0.84011498 0.87273306\n",
      " 0.90350287 0.98225067 0.95178889 0.98663805 1.         0.99348966\n",
      " 0.94424623 0.82816005 0.86516541 0.86146908 0.83641866 0.81974331\n",
      " 0.85415955 0.88269827 0.88883392 0.92270078 0.93919289 0.89936529\n",
      " 0.90516791 0.87679575 0.92264244 0.92911112 0.88768504 0.87902684\n",
      " 0.82105865 0.81609688 0.85167866 0.86600626 0.81175944 0.82277368\n",
      " 0.7806316  0.77405475 0.78860713 0.7477555  0.75245924 0.72529419\n",
      " 0.75742106 0.81598031 0.86437456 0.88680253 0.88224868 0.88035052\n",
      " 0.86715513 0.85586625 0.80190414 0.77987516 0.75046289 0.7186653\n",
      " 0.68715262 0.65720648 0.6294747  0.60430312 0.58183646 0.56205148\n",
      " 0.54477996 0.52974337 0.51659161 0.5049426  0.49441704 0.48466739\n",
      " 0.47539723 0.46637294 0.45742762 0.44845885 0.43942192 0.43031952\n",
      " 0.42118976 0.41209495 0.40310895 0.39430892]\n"
     ]
    },
    {
     "name": "stdout",
     "output_type": "stream",
     "text": [
      "26 day output [[0.38576534]]\n",
      "27 day input [0.58395769 0.59162519 0.60208161 0.6034969  0.62077164 0.63489944\n",
      " 0.6234107  0.62653265 0.62167905 0.62146259 0.62671583 0.62593326\n",
      " 0.62773147 0.6367726  0.63001256 0.63538231 0.64685437 0.65131671\n",
      " 0.65734412 0.67791565 0.70046018 0.69559831 0.69687204 0.72034904\n",
      " 0.7334029  0.82929226 0.82393918 0.84011498 0.87273306 0.90350287\n",
      " 0.98225067 0.95178889 0.98663805 1.         0.99348966 0.94424623\n",
      " 0.82816005 0.86516541 0.86146908 0.83641866 0.81974331 0.85415955\n",
      " 0.88269827 0.88883392 0.92270078 0.93919289 0.89936529 0.90516791\n",
      " 0.87679575 0.92264244 0.92911112 0.88768504 0.87902684 0.82105865\n",
      " 0.81609688 0.85167866 0.86600626 0.81175944 0.82277368 0.7806316\n",
      " 0.77405475 0.78860713 0.7477555  0.75245924 0.72529419 0.75742106\n",
      " 0.81598031 0.86437456 0.88680253 0.88224868 0.88035052 0.86715513\n",
      " 0.85586625 0.80190414 0.77987516 0.75046289 0.7186653  0.68715262\n",
      " 0.65720648 0.6294747  0.60430312 0.58183646 0.56205148 0.54477996\n",
      " 0.52974337 0.51659161 0.5049426  0.49441704 0.48466739 0.47539723\n",
      " 0.46637294 0.45742762 0.44845885 0.43942192 0.43031952 0.42118976\n",
      " 0.41209495 0.40310895 0.39430892 0.38576534]\n",
      "27 day output [[0.37753788]]\n",
      "28 day input [0.59162519 0.60208161 0.6034969  0.62077164 0.63489944 0.6234107\n",
      " 0.62653265 0.62167905 0.62146259 0.62671583 0.62593326 0.62773147\n",
      " 0.6367726  0.63001256 0.63538231 0.64685437 0.65131671 0.65734412\n",
      " 0.67791565 0.70046018 0.69559831 0.69687204 0.72034904 0.7334029\n",
      " 0.82929226 0.82393918 0.84011498 0.87273306 0.90350287 0.98225067\n",
      " 0.95178889 0.98663805 1.         0.99348966 0.94424623 0.82816005\n",
      " 0.86516541 0.86146908 0.83641866 0.81974331 0.85415955 0.88269827\n",
      " 0.88883392 0.92270078 0.93919289 0.89936529 0.90516791 0.87679575\n",
      " 0.92264244 0.92911112 0.88768504 0.87902684 0.82105865 0.81609688\n",
      " 0.85167866 0.86600626 0.81175944 0.82277368 0.7806316  0.77405475\n",
      " 0.78860713 0.7477555  0.75245924 0.72529419 0.75742106 0.81598031\n",
      " 0.86437456 0.88680253 0.88224868 0.88035052 0.86715513 0.85586625\n",
      " 0.80190414 0.77987516 0.75046289 0.7186653  0.68715262 0.65720648\n",
      " 0.6294747  0.60430312 0.58183646 0.56205148 0.54477996 0.52974337\n",
      " 0.51659161 0.5049426  0.49441704 0.48466739 0.47539723 0.46637294\n",
      " 0.45742762 0.44845885 0.43942192 0.43031952 0.42118976 0.41209495\n",
      " 0.40310895 0.39430892 0.38576534 0.37753788]\n",
      "28 day output [[0.36967018]]\n",
      "29 day input [0.60208161 0.6034969  0.62077164 0.63489944 0.6234107  0.62653265\n",
      " 0.62167905 0.62146259 0.62671583 0.62593326 0.62773147 0.6367726\n",
      " 0.63001256 0.63538231 0.64685437 0.65131671 0.65734412 0.67791565\n",
      " 0.70046018 0.69559831 0.69687204 0.72034904 0.7334029  0.82929226\n",
      " 0.82393918 0.84011498 0.87273306 0.90350287 0.98225067 0.95178889\n",
      " 0.98663805 1.         0.99348966 0.94424623 0.82816005 0.86516541\n",
      " 0.86146908 0.83641866 0.81974331 0.85415955 0.88269827 0.88883392\n",
      " 0.92270078 0.93919289 0.89936529 0.90516791 0.87679575 0.92264244\n",
      " 0.92911112 0.88768504 0.87902684 0.82105865 0.81609688 0.85167866\n",
      " 0.86600626 0.81175944 0.82277368 0.7806316  0.77405475 0.78860713\n",
      " 0.7477555  0.75245924 0.72529419 0.75742106 0.81598031 0.86437456\n",
      " 0.88680253 0.88224868 0.88035052 0.86715513 0.85586625 0.80190414\n",
      " 0.77987516 0.75046289 0.7186653  0.68715262 0.65720648 0.6294747\n",
      " 0.60430312 0.58183646 0.56205148 0.54477996 0.52974337 0.51659161\n",
      " 0.5049426  0.49441704 0.48466739 0.47539723 0.46637294 0.45742762\n",
      " 0.44845885 0.43942192 0.43031952 0.42118976 0.41209495 0.40310895\n",
      " 0.39430892 0.38576534 0.37753788 0.36967018]\n",
      "29 day output [[0.36218938]]\n",
      "[[0.8019041419029236], [0.7798751592636108], [0.7504628896713257], [0.7186653017997742], [0.687152624130249], [0.6572064757347107], [0.6294746994972229], [0.6043031215667725], [0.581836462020874], [0.5620514750480652], [0.5447799563407898], [0.5297433733940125], [0.5165916085243225], [0.5049425959587097], [0.4944170415401459], [0.4846673905849457], [0.4753972291946411], [0.46637293696403503], [0.45742762088775635], [0.44845885038375854], [0.4394219219684601], [0.43031951785087585], [0.4211897552013397], [0.41209495067596436], [0.40310895442962646], [0.3943089246749878], [0.38576534390449524], [0.37753787636756897], [0.36967018246650696], [0.362189382314682]]\n"
     ]
    }
   ],
   "source": [
    "# demonstrate prediction for next 10 days\n",
    "from numpy import array\n",
    "\n",
    "lst_output=[]\n",
    "n_steps=100\n",
    "i=0\n",
    "while(i<30):\n",
    "    \n",
    "    if(len(temp_input)>100):\n",
    "        #print(temp_input)\n",
    "        x_input=np.array(temp_input[1:])\n",
    "        print(\"{} day input {}\".format(i,x_input))\n",
    "        x_input=x_input.reshape(1,-1)\n",
    "        x_input = x_input.reshape((1, n_steps, 1))\n",
    "        #print(x_input)\n",
    "        yhat = model.predict(x_input, verbose=0)\n",
    "        print(\"{} day output {}\".format(i,yhat))\n",
    "        temp_input.extend(yhat[0].tolist())\n",
    "        temp_input=temp_input[1:]\n",
    "        #print(temp_input)\n",
    "        lst_output.extend(yhat.tolist())\n",
    "        i=i+1\n",
    "    else:\n",
    "        x_input = x_input.reshape((1, n_steps,1))\n",
    "        yhat = model.predict(x_input, verbose=0)\n",
    "        print(yhat[0])\n",
    "        temp_input.extend(yhat[0].tolist())\n",
    "        print(len(temp_input))\n",
    "        lst_output.extend(yhat.tolist())\n",
    "        i=i+1\n",
    "    \n",
    "\n",
    "print(lst_output)"
   ]
  },
  {
   "cell_type": "code",
   "execution_count": 86,
   "id": "f100a0e5",
   "metadata": {},
   "outputs": [],
   "source": [
    "day_new=np.arange(1,101)\n",
    "day_pred=np.arange(101,131)"
   ]
  },
  {
   "cell_type": "code",
   "execution_count": 87,
   "id": "30b9f40c",
   "metadata": {},
   "outputs": [
    {
     "data": {
      "text/plain": [
       "1764"
      ]
     },
     "execution_count": 87,
     "metadata": {},
     "output_type": "execute_result"
    }
   ],
   "source": [
    "import matplotlib.pyplot as plt\n",
    "len(df1)"
   ]
  },
  {
   "cell_type": "code",
   "execution_count": 89,
   "id": "07b8acd9",
   "metadata": {},
   "outputs": [
    {
     "data": {
      "text/plain": [
       "[<matplotlib.lines.Line2D at 0x1ccc84439c8>]"
      ]
     },
     "execution_count": 89,
     "metadata": {},
     "output_type": "execute_result"
    },
    {
     "data": {
      "image/png": "[encoded data removed]",
      "text/plain": [
       "<Figure size 432x288 with 1 Axes>"
      ]
     },
     "metadata": {
      "needs_background": "light"
     },
     "output_type": "display_data"
    }
   ],
   "source": [
    "plt.plot(day_new,scaler.inverse_transform(df1[1664:]))\n",
    "plt.plot(day_pred,scaler.inverse_transform(lst_output))"
   ]
  },
  {
   "cell_type": "code",
   "execution_count": 90,
   "id": "0fa1a030",
   "metadata": {},
   "outputs": [
    {
     "data": {
      "text/plain": [
       "[<matplotlib.lines.Line2D at 0x1ccca533e48>]"
      ]
     },
     "execution_count": 90,
     "metadata": {},
     "output_type": "execute_result"
    },
    {
     "data": {
      "image/png": "[encoded data removed]",
      "text/plain": [
       "<Figure size 432x288 with 1 Axes>"
      ]
     },
     "metadata": {
      "needs_background": "light"
     },
     "output_type": "display_data"
    }
   ],
   "source": [
    "df3=df1.tolist()\n",
    "df3.extend(lst_output)\n",
    "plt.plot(df3[1200:])"
   ]
  },
  {
   "cell_type": "code",
   "execution_count": 91,
   "id": "7566e28b",
   "metadata": {},
   "outputs": [],
   "source": [
    "df3=scaler.inverse_transform(df3).tolist()"
   ]
  },
  {
   "cell_type": "code",
   "execution_count": 92,
   "id": "98eb78a8",
   "metadata": {},
   "outputs": [
    {
     "data": {
      "text/plain": [
       "[<matplotlib.lines.Line2D at 0x1ccc83c6208>]"
      ]
     },
     "execution_count": 92,
     "metadata": {},
     "output_type": "execute_result"
    },
    {
     "data": {
      "image/png": "[encoded data removed]",
      "text/plain": [
       "<Figure size 432x288 with 1 Axes>"
      ]
     },
     "metadata": {
      "needs_background": "light"
     },
     "output_type": "display_data"
    }
   ],
   "source": [
    "plt.plot(df3)"
   ]
  },
  {
   "cell_type": "code",
   "execution_count": null,
   "id": "57db3b8e",
   "metadata": {},
   "outputs": [],
   "source": []
  }
 ],
 "metadata": {
  "kernelspec": {
   "display_name": "Python 3 (ipykernel)",
   "language": "python",
   "name": "python3"
  },
  "language_info": {
   "codemirror_mode": {
    "name": "ipython",
    "version": 3
   },
   "file_extension": ".py",
   "mimetype": "text/x-python",
   "name": "python",
   "nbconvert_exporter": "python",
   "pygments_lexer": "ipython3",
   "version": "3.7.4"
  }
 },
 "nbformat": 4,
 "nbformat_minor": 5
}
