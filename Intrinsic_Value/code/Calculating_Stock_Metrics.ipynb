{
 "cells": [
  {
   "cell_type": "markdown",
   "metadata": {
    "colab_type": "text",
    "id": "view-in-github"
   },
   "source": [
    "<a href=\"https://colab.research.google.com/github/RyC37/Value-Investing-In-Python/blob/master/Calculating_Stock_Metrics.ipynb\" target=\"_parent\"><img src=\"https://colab.research.google.com/assets/colab-badge.svg\" alt=\"Open In Colab\"/></a>"
   ]
  },
  {
   "cell_type": "code",
   "execution_count": 2,
   "metadata": {
    "colab": {},
    "colab_type": "code",
    "id": "pUVMRN-3IJU7"
   },
   "outputs": [],
   "source": [
    "import pandas as pd\n",
    "# !pip install yfinance\n",
    "import yfinance as yf"
   ]
  },
  {
   "cell_type": "markdown",
   "metadata": {
    "colab_type": "text",
    "id": "YbpgXGAJIJVE"
   },
   "source": [
    "### 1.Load Data"
   ]
  },
  {
   "cell_type": "code",
   "execution_count": 4,
   "metadata": {
    "colab": {},
    "colab_type": "code",
    "id": "7uaPKUZHIJVH"
   },
   "outputs": [],
   "source": [
    "aapl = pd.read_csv('../data/AAPL Key Ratios.csv', skiprows=2, index_col='Unnamed: 0')"
   ]
  },
  {
   "cell_type": "code",
   "execution_count": 5,
   "metadata": {
    "colab": {
     "base_uri": "https://localhost:8080/",
     "height": 360
    },
    "colab_type": "code",
    "id": "V3GgVINrIJVM",
    "outputId": "84b8da44-ead2-492a-9e1e-54bce1a42fd5"
   },
   "outputs": [
    {
     "data": {
      "text/html": [
       "<div>\n",
       "<style scoped>\n",
       "    .dataframe tbody tr th:only-of-type {\n",
       "        vertical-align: middle;\n",
       "    }\n",
       "\n",
       "    .dataframe tbody tr th {\n",
       "        vertical-align: top;\n",
       "    }\n",
       "\n",
       "    .dataframe thead th {\n",
       "        text-align: right;\n",
       "    }\n",
       "</style>\n",
       "<table border=\"1\" class=\"dataframe\">\n",
       "  <thead>\n",
       "    <tr style=\"text-align: right;\">\n",
       "      <th></th>\n",
       "      <th>2010-09</th>\n",
       "      <th>2011-09</th>\n",
       "      <th>2012-09</th>\n",
       "      <th>2013-09</th>\n",
       "      <th>2014-09</th>\n",
       "      <th>2015-09</th>\n",
       "      <th>2016-09</th>\n",
       "      <th>2017-09</th>\n",
       "      <th>2018-09</th>\n",
       "      <th>2019-09</th>\n",
       "      <th>TTM</th>\n",
       "    </tr>\n",
       "  </thead>\n",
       "  <tbody>\n",
       "    <tr>\n",
       "      <th>Revenue USD Mil</th>\n",
       "      <td>65,225</td>\n",
       "      <td>108,249</td>\n",
       "      <td>156,508</td>\n",
       "      <td>170,910</td>\n",
       "      <td>182,795</td>\n",
       "      <td>233,715</td>\n",
       "      <td>215,639</td>\n",
       "      <td>229,234</td>\n",
       "      <td>265,595</td>\n",
       "      <td>260,174</td>\n",
       "      <td>260,174</td>\n",
       "    </tr>\n",
       "    <tr>\n",
       "      <th>Gross Margin %</th>\n",
       "      <td>39.4</td>\n",
       "      <td>40.5</td>\n",
       "      <td>43.9</td>\n",
       "      <td>37.6</td>\n",
       "      <td>38.6</td>\n",
       "      <td>40.1</td>\n",
       "      <td>39.1</td>\n",
       "      <td>38.5</td>\n",
       "      <td>38.3</td>\n",
       "      <td>37.8</td>\n",
       "      <td>37.8</td>\n",
       "    </tr>\n",
       "    <tr>\n",
       "      <th>Operating Income USD Mil</th>\n",
       "      <td>18,385</td>\n",
       "      <td>33,790</td>\n",
       "      <td>55,241</td>\n",
       "      <td>48,999</td>\n",
       "      <td>52,503</td>\n",
       "      <td>71,230</td>\n",
       "      <td>60,024</td>\n",
       "      <td>61,344</td>\n",
       "      <td>70,898</td>\n",
       "      <td>63,930</td>\n",
       "      <td>63,930</td>\n",
       "    </tr>\n",
       "    <tr>\n",
       "      <th>Operating Margin %</th>\n",
       "      <td>28.2</td>\n",
       "      <td>31.2</td>\n",
       "      <td>35.3</td>\n",
       "      <td>28.7</td>\n",
       "      <td>28.7</td>\n",
       "      <td>30.5</td>\n",
       "      <td>27.8</td>\n",
       "      <td>26.8</td>\n",
       "      <td>26.7</td>\n",
       "      <td>24.6</td>\n",
       "      <td>24.6</td>\n",
       "    </tr>\n",
       "    <tr>\n",
       "      <th>Net Income USD Mil</th>\n",
       "      <td>14,013</td>\n",
       "      <td>25,922</td>\n",
       "      <td>41,733</td>\n",
       "      <td>37,037</td>\n",
       "      <td>39,510</td>\n",
       "      <td>53,394</td>\n",
       "      <td>45,687</td>\n",
       "      <td>48,351</td>\n",
       "      <td>59,531</td>\n",
       "      <td>55,256</td>\n",
       "      <td>55,256</td>\n",
       "    </tr>\n",
       "  </tbody>\n",
       "</table>\n",
       "</div>"
      ],
      "text/plain": [
       "                         2010-09  2011-09  2012-09  2013-09  2014-09  2015-09  \\\n",
       "Revenue USD Mil           65,225  108,249  156,508  170,910  182,795  233,715   \n",
       "Gross Margin %              39.4     40.5     43.9     37.6     38.6     40.1   \n",
       "Operating Income USD Mil  18,385   33,790   55,241   48,999   52,503   71,230   \n",
       "Operating Margin %          28.2     31.2     35.3     28.7     28.7     30.5   \n",
       "Net Income USD Mil        14,013   25,922   41,733   37,037   39,510   53,394   \n",
       "\n",
       "                          2016-09  2017-09  2018-09  2019-09      TTM  \n",
       "Revenue USD Mil           215,639  229,234  265,595  260,174  260,174  \n",
       "Gross Margin %               39.1     38.5     38.3     37.8     37.8  \n",
       "Operating Income USD Mil   60,024   61,344   70,898   63,930   63,930  \n",
       "Operating Margin %           27.8     26.8     26.7     24.6     24.6  \n",
       "Net Income USD Mil         45,687   48,351   59,531   55,256   55,256  "
      ]
     },
     "execution_count": 5,
     "metadata": {},
     "output_type": "execute_result"
    }
   ],
   "source": [
    "aapl.head()"
   ]
  },
  {
   "cell_type": "markdown",
   "metadata": {
    "colab_type": "text",
    "id": "AYdrkRSRIJVT"
   },
   "source": [
    "### 2.Read Metrics From Financial Data\n",
    "\n",
    "##### (1)Shares Outstanding"
   ]
  },
  {
   "cell_type": "code",
   "execution_count": 6,
   "metadata": {
    "colab": {
     "base_uri": "https://localhost:8080/",
     "height": 34
    },
    "colab_type": "code",
    "id": "j_vFXw--IJVU",
    "outputId": "fc6f0543-f630-4026-d01e-aa40cdb0487b"
   },
   "outputs": [
    {
     "data": {
      "text/plain": [
       "'4,649'"
      ]
     },
     "execution_count": 6,
     "metadata": {},
     "output_type": "execute_result"
    }
   ],
   "source": [
    "# Read the latest data point\n",
    "aapl.loc['Shares Mil', '2019-09']"
   ]
  },
  {
   "cell_type": "code",
   "execution_count": 7,
   "metadata": {
    "colab": {
     "base_uri": "https://localhost:8080/",
     "height": 34
    },
    "colab_type": "code",
    "id": "cEnOFDWVIJVa",
    "outputId": "2d0f567f-2cdb-4d13-f89d-3274afe6c5ef"
   },
   "outputs": [
    {
     "data": {
      "text/plain": [
       "4649.0"
      ]
     },
     "execution_count": 7,
     "metadata": {},
     "output_type": "execute_result"
    }
   ],
   "source": [
    "# Convert to number, could also use int()\n",
    "float(aapl.loc['Shares Mil', '2019-09'].replace(',',''))"
   ]
  },
  {
   "cell_type": "code",
   "execution_count": 8,
   "metadata": {
    "colab": {
     "base_uri": "https://localhost:8080/",
     "height": 221
    },
    "colab_type": "code",
    "id": "W3kum0TuIJVh",
    "outputId": "bfec8eca-f699-4bbf-e5c1-40f531ff727e"
   },
   "outputs": [
    {
     "data": {
      "text/plain": [
       "2010-09    6,473\n",
       "2011-09    6,557\n",
       "2012-09    6,617\n",
       "2013-09    6,522\n",
       "2014-09    6,123\n",
       "2015-09    5,793\n",
       "2016-09    5,500\n",
       "2017-09    5,252\n",
       "2018-09    5,000\n",
       "2019-09    4,649\n",
       "TTM        4,649\n",
       "Name: Shares Mil, dtype: object"
      ]
     },
     "execution_count": 8,
     "metadata": {},
     "output_type": "execute_result"
    }
   ],
   "source": [
    "# Read the historical data\n",
    "aapl.loc['Shares Mil', ]"
   ]
  },
  {
   "cell_type": "code",
   "execution_count": 9,
   "metadata": {
    "colab": {
     "base_uri": "https://localhost:8080/",
     "height": 221
    },
    "colab_type": "code",
    "id": "24xzTg-oIJVo",
    "outputId": "a50446d8-3aa5-4c79-9a0e-34481cd2e0bd"
   },
   "outputs": [
    {
     "data": {
      "text/plain": [
       "2010-09    6473.0\n",
       "2011-09    6557.0\n",
       "2012-09    6617.0\n",
       "2013-09    6522.0\n",
       "2014-09    6123.0\n",
       "2015-09    5793.0\n",
       "2016-09    5500.0\n",
       "2017-09    5252.0\n",
       "2018-09    5000.0\n",
       "2019-09    4649.0\n",
       "TTM        4649.0\n",
       "Name: Shares Mil, dtype: float64"
      ]
     },
     "execution_count": 9,
     "metadata": {},
     "output_type": "execute_result"
    }
   ],
   "source": [
    "# Convert data type to float\n",
    "aapl.loc['Shares Mil', ].str.replace(',','').astype(float)"
   ]
  },
  {
   "cell_type": "markdown",
   "metadata": {
    "colab_type": "text",
    "id": "UqttGWPBIJVv"
   },
   "source": [
    "##### (2)EPS"
   ]
  },
  {
   "cell_type": "code",
   "execution_count": 10,
   "metadata": {
    "colab": {
     "base_uri": "https://localhost:8080/",
     "height": 34
    },
    "colab_type": "code",
    "id": "sN3kc5ERIJVw",
    "outputId": "aab3de88-f291-41b3-a5d9-e701db0b3a65"
   },
   "outputs": [
    {
     "data": {
      "text/plain": [
       "11.89"
      ]
     },
     "execution_count": 10,
     "metadata": {},
     "output_type": "execute_result"
    }
   ],
   "source": [
    "float(aapl.loc['Earnings Per Share USD', '2019-09'])"
   ]
  },
  {
   "cell_type": "code",
   "execution_count": 11,
   "metadata": {
    "colab": {
     "base_uri": "https://localhost:8080/",
     "height": 221
    },
    "colab_type": "code",
    "id": "dxPWUzEWIJVy",
    "outputId": "ae592d52-adf9-41a9-a422-3263b9916a69"
   },
   "outputs": [
    {
     "data": {
      "text/plain": [
       "2010-09     2.16\n",
       "2011-09     3.95\n",
       "2012-09     6.31\n",
       "2013-09     5.68\n",
       "2014-09     6.45\n",
       "2015-09     9.22\n",
       "2016-09     8.31\n",
       "2017-09     9.21\n",
       "2018-09    11.91\n",
       "2019-09    11.89\n",
       "TTM        11.89\n",
       "Name: Earnings Per Share USD, dtype: float64"
      ]
     },
     "execution_count": 11,
     "metadata": {},
     "output_type": "execute_result"
    }
   ],
   "source": [
    "aapl.loc['Earnings Per Share USD', ].astype(float)"
   ]
  },
  {
   "cell_type": "markdown",
   "metadata": {
    "colab_type": "text",
    "id": "OdZJbvJgIJV3"
   },
   "source": [
    "##### (3)Dividend Rate"
   ]
  },
  {
   "cell_type": "code",
   "execution_count": 12,
   "metadata": {
    "colab": {},
    "colab_type": "code",
    "id": "sLaNDRjJIJV4"
   },
   "outputs": [],
   "source": [
    "def search_value(index_name, date):\n",
    "    '''This function return a specific stock metric of at a specific date\n",
    "    from aapl dataframe\n",
    "    '''\n",
    "    return float(aapl.loc[index_name, date])"
   ]
  },
  {
   "cell_type": "code",
   "execution_count": 13,
   "metadata": {
    "colab": {
     "base_uri": "https://localhost:8080/",
     "height": 34
    },
    "colab_type": "code",
    "id": "YGck0iJLIJV_",
    "outputId": "07980dfc-a1e0-464f-b44a-aac71e719f6c"
   },
   "outputs": [
    {
     "data": {
      "text/plain": [
       "3.0"
      ]
     },
     "execution_count": 13,
     "metadata": {},
     "output_type": "execute_result"
    }
   ],
   "source": [
    "search_value('Dividends USD', '2019-09')"
   ]
  },
  {
   "cell_type": "code",
   "execution_count": 14,
   "metadata": {
    "colab": {},
    "colab_type": "code",
    "id": "sa0SIZO7IJWB"
   },
   "outputs": [],
   "source": [
    "def historical_value(index_name):\n",
    "    return aapl.loc[index_name, ].astype(float)"
   ]
  },
  {
   "cell_type": "code",
   "execution_count": 15,
   "metadata": {
    "colab": {
     "base_uri": "https://localhost:8080/",
     "height": 221
    },
    "colab_type": "code",
    "id": "lBuLI-XmIJWD",
    "outputId": "966f7c3f-11aa-46ae-f05e-83215b7e778e"
   },
   "outputs": [
    {
     "data": {
      "text/plain": [
       "2010-09     NaN\n",
       "2011-09     NaN\n",
       "2012-09    0.38\n",
       "2013-09    1.63\n",
       "2014-09    1.81\n",
       "2015-09    1.98\n",
       "2016-09    2.18\n",
       "2017-09    2.40\n",
       "2018-09    2.72\n",
       "2019-09    3.00\n",
       "TTM        3.00\n",
       "Name: Dividends USD, dtype: float64"
      ]
     },
     "execution_count": 15,
     "metadata": {},
     "output_type": "execute_result"
    }
   ],
   "source": [
    "historical_value('Dividends USD')"
   ]
  },
  {
   "cell_type": "code",
   "execution_count": 0,
   "metadata": {
    "colab": {},
    "colab_type": "code",
    "id": "iggPHMMBIJWF"
   },
   "outputs": [],
   "source": [
    "# NaN manipulation will be introduced later"
   ]
  },
  {
   "cell_type": "markdown",
   "metadata": {
    "colab_type": "text",
    "id": "6IrS3Vk1IJWG"
   },
   "source": [
    "##### (4)Dividend Yield"
   ]
  },
  {
   "cell_type": "code",
   "execution_count": 16,
   "metadata": {
    "colab": {
     "base_uri": "https://localhost:8080/",
     "height": 34
    },
    "colab_type": "code",
    "id": "rBBJbfElIJWI",
    "outputId": "73402a6a-589a-4dca-92c8-2fafdb1900ec"
   },
   "outputs": [
    {
     "data": {
      "text/plain": [
       "25.1"
      ]
     },
     "execution_count": 16,
     "metadata": {},
     "output_type": "execute_result"
    }
   ],
   "source": [
    "search_value('Payout Ratio % *', '2019-09')"
   ]
  },
  {
   "cell_type": "code",
   "execution_count": 17,
   "metadata": {
    "colab": {
     "base_uri": "https://localhost:8080/",
     "height": 221
    },
    "colab_type": "code",
    "id": "YPvaan_AIJWM",
    "outputId": "e148542b-31d0-4ae2-8cb8-4b5d98c62085"
   },
   "outputs": [
    {
     "data": {
      "text/plain": [
       "2010-09     NaN\n",
       "2011-09     NaN\n",
       "2012-09     NaN\n",
       "2013-09    27.4\n",
       "2014-09    28.5\n",
       "2015-09    22.3\n",
       "2016-09    24.8\n",
       "2017-09    26.5\n",
       "2018-09    23.7\n",
       "2019-09    25.1\n",
       "TTM        25.2\n",
       "Name: Payout Ratio % *, dtype: float64"
      ]
     },
     "execution_count": 17,
     "metadata": {},
     "output_type": "execute_result"
    }
   ],
   "source": [
    "historical_value('Payout Ratio % *')"
   ]
  },
  {
   "cell_type": "markdown",
   "metadata": {
    "colab_type": "text",
    "id": "t5MmSkvwIJWO"
   },
   "source": [
    "##### (5)Debt/Equity Ratio"
   ]
  },
  {
   "cell_type": "code",
   "execution_count": 18,
   "metadata": {
    "colab": {
     "base_uri": "https://localhost:8080/",
     "height": 34
    },
    "colab_type": "code",
    "id": "GsK8JpzXIJWO",
    "outputId": "d6effc84-92da-4a68-a0b2-6b0e459bde39"
   },
   "outputs": [
    {
     "data": {
      "text/plain": [
       "1.01"
      ]
     },
     "execution_count": 18,
     "metadata": {},
     "output_type": "execute_result"
    }
   ],
   "source": [
    "search_value('Debt/Equity', '2019-09')"
   ]
  },
  {
   "cell_type": "code",
   "execution_count": 19,
   "metadata": {
    "colab": {
     "base_uri": "https://localhost:8080/",
     "height": 221
    },
    "colab_type": "code",
    "id": "arXQQOGVIJWQ",
    "outputId": "fc10a2b3-3a2e-44f2-f355-416dfd8798a0"
   },
   "outputs": [
    {
     "data": {
      "text/plain": [
       "2010-09     NaN\n",
       "2011-09     NaN\n",
       "2012-09     NaN\n",
       "2013-09    0.14\n",
       "2014-09    0.26\n",
       "2015-09    0.45\n",
       "2016-09    0.59\n",
       "2017-09    0.73\n",
       "2018-09    0.87\n",
       "2019-09    1.01\n",
       "TTM        1.01\n",
       "Name: Debt/Equity, dtype: float64"
      ]
     },
     "execution_count": 19,
     "metadata": {},
     "output_type": "execute_result"
    }
   ],
   "source": [
    "historical_value('Debt/Equity')"
   ]
  },
  {
   "cell_type": "markdown",
   "metadata": {
    "colab_type": "text",
    "id": "7KazUwjrIJWT"
   },
   "source": [
    "##### (6)Book Value Per Share"
   ]
  },
  {
   "cell_type": "code",
   "execution_count": 20,
   "metadata": {
    "colab": {
     "base_uri": "https://localhost:8080/",
     "height": 34
    },
    "colab_type": "code",
    "id": "h6RqEP8WIJWU",
    "outputId": "922c45d2-db1d-41a5-e603-c4c50f4c5162"
   },
   "outputs": [
    {
     "data": {
      "text/plain": [
       "21.71"
      ]
     },
     "execution_count": 20,
     "metadata": {},
     "output_type": "execute_result"
    }
   ],
   "source": [
    "search_value('Book Value Per Share * USD', '2019-09')"
   ]
  },
  {
   "cell_type": "code",
   "execution_count": 21,
   "metadata": {
    "colab": {
     "base_uri": "https://localhost:8080/",
     "height": 221
    },
    "colab_type": "code",
    "id": "FYlRNB-gIJWW",
    "outputId": "d3851fff-ee4a-4c08-9852-8a402c156213"
   },
   "outputs": [
    {
     "data": {
      "text/plain": [
       "2010-09     7.45\n",
       "2011-09    11.78\n",
       "2012-09    16.99\n",
       "2013-09    19.60\n",
       "2014-09    20.62\n",
       "2015-09    22.53\n",
       "2016-09    23.71\n",
       "2017-09    25.83\n",
       "2018-09    24.17\n",
       "2019-09    21.71\n",
       "TTM        20.64\n",
       "Name: Book Value Per Share * USD, dtype: float64"
      ]
     },
     "execution_count": 21,
     "metadata": {},
     "output_type": "execute_result"
    }
   ],
   "source": [
    "historical_value('Book Value Per Share * USD')"
   ]
  },
  {
   "cell_type": "markdown",
   "metadata": {
    "colab_type": "text",
    "id": "JGDD-821IJWZ"
   },
   "source": [
    "##### (7)ROE (Return on Equity)"
   ]
  },
  {
   "cell_type": "code",
   "execution_count": 22,
   "metadata": {
    "colab": {
     "base_uri": "https://localhost:8080/",
     "height": 34
    },
    "colab_type": "code",
    "id": "a_5z0KgZIJWZ",
    "outputId": "db1ad314-2bad-479b-e5fa-82a71651c013"
   },
   "outputs": [
    {
     "data": {
      "text/plain": [
       "55.92"
      ]
     },
     "execution_count": 22,
     "metadata": {},
     "output_type": "execute_result"
    }
   ],
   "source": [
    "search_value('Return on Equity %', '2019-09')"
   ]
  },
  {
   "cell_type": "code",
   "execution_count": 23,
   "metadata": {
    "colab": {
     "base_uri": "https://localhost:8080/",
     "height": 221
    },
    "colab_type": "code",
    "id": "RTYuiIBpIJWb",
    "outputId": "7e7c41f5-1365-4925-d933-81ebf2cd65b6"
   },
   "outputs": [
    {
     "data": {
      "text/plain": [
       "2010-09    35.28\n",
       "2011-09    41.67\n",
       "2012-09    42.84\n",
       "2013-09    30.64\n",
       "2014-09    33.61\n",
       "2015-09    46.25\n",
       "2016-09    36.90\n",
       "2017-09    36.87\n",
       "2018-09    49.36\n",
       "2019-09    55.92\n",
       "TTM        55.92\n",
       "Name: Return on Equity %, dtype: float64"
      ]
     },
     "execution_count": 23,
     "metadata": {},
     "output_type": "execute_result"
    }
   ],
   "source": [
    "historical_value('Return on Equity %')"
   ]
  },
  {
   "cell_type": "markdown",
   "metadata": {
    "colab_type": "text",
    "id": "okzk5BQrIJWd"
   },
   "source": [
    "##### (8)Current Ratio"
   ]
  },
  {
   "cell_type": "code",
   "execution_count": 24,
   "metadata": {
    "colab": {
     "base_uri": "https://localhost:8080/",
     "height": 34
    },
    "colab_type": "code",
    "id": "ynvMbpk0IJWd",
    "outputId": "6e6c5ef3-8105-4d5d-b25a-57d87d6e6c6a"
   },
   "outputs": [
    {
     "data": {
      "text/plain": [
       "1.54"
      ]
     },
     "execution_count": 24,
     "metadata": {},
     "output_type": "execute_result"
    }
   ],
   "source": [
    "search_value('Current Ratio', '2019-09')"
   ]
  },
  {
   "cell_type": "code",
   "execution_count": 25,
   "metadata": {
    "colab": {
     "base_uri": "https://localhost:8080/",
     "height": 221
    },
    "colab_type": "code",
    "id": "m09tKRPqIJWf",
    "outputId": "78660853-ab7b-439f-c3a7-c812cfd922f6"
   },
   "outputs": [
    {
     "data": {
      "text/plain": [
       "2010-09    2.01\n",
       "2011-09    1.61\n",
       "2012-09    1.50\n",
       "2013-09    1.68\n",
       "2014-09    1.08\n",
       "2015-09    1.11\n",
       "2016-09    1.35\n",
       "2017-09    1.28\n",
       "2018-09    1.12\n",
       "2019-09    1.54\n",
       "TTM        1.54\n",
       "Name: Current Ratio, dtype: float64"
      ]
     },
     "execution_count": 25,
     "metadata": {},
     "output_type": "execute_result"
    }
   ],
   "source": [
    "historical_value('Current Ratio')"
   ]
  },
  {
   "cell_type": "markdown",
   "metadata": {
    "colab_type": "text",
    "id": "miWi8QhJIJWh"
   },
   "source": [
    "### 3.Get Stock Price"
   ]
  },
  {
   "cell_type": "code",
   "execution_count": 26,
   "metadata": {
    "colab": {},
    "colab_type": "code",
    "id": "ohiyR2huIJWh"
   },
   "outputs": [],
   "source": [
    "apple = yf.Ticker('AAPL')"
   ]
  },
  {
   "cell_type": "code",
   "execution_count": 27,
   "metadata": {
    "colab": {},
    "colab_type": "code",
    "id": "G2eWT2MCIJWi"
   },
   "outputs": [],
   "source": [
    "apple_price = apple.history(period='max')"
   ]
  },
  {
   "cell_type": "markdown",
   "metadata": {
    "colab_type": "text",
    "id": "7P0lQIxeIJWj"
   },
   "source": [
    "### 4.Calculate P/E & P/BV\n",
    "\n",
    "##### (1) Latest P/E"
   ]
  },
  {
   "cell_type": "code",
   "execution_count": 28,
   "metadata": {
    "colab": {
     "base_uri": "https://localhost:8080/",
     "height": 34
    },
    "colab_type": "code",
    "id": "NO-ekSyoIJWk",
    "outputId": "c33fac86-41ba-4b20-fbf8-9038f6fdbdd8"
   },
   "outputs": [
    {
     "name": "stdout",
     "output_type": "stream",
     "text": [
      "6.460469264358507\n"
     ]
    }
   ],
   "source": [
    "latest_price = apple_price.loc['2020-01-14','Close']\n",
    "latest_eps = search_value('Earnings Per Share USD', '2019-09')\n",
    "latest_PtoE = latest_price/latest_eps\n",
    "print(latest_PtoE)"
   ]
  },
  {
   "cell_type": "markdown",
   "metadata": {
    "colab_type": "text",
    "id": "3sYRzw9OIJWl"
   },
   "source": [
    "##### (2) Latest P/BV"
   ]
  },
  {
   "cell_type": "code",
   "execution_count": 29,
   "metadata": {
    "colab": {
     "base_uri": "https://localhost:8080/",
     "height": 34
    },
    "colab_type": "code",
    "id": "UlF_ATanIJWl",
    "outputId": "fa22cd43-dcee-47d8-ddf5-49c190d620c3"
   },
   "outputs": [
    {
     "name": "stdout",
     "output_type": "stream",
     "text": [
      "3.538230288034208\n"
     ]
    }
   ],
   "source": [
    "latest_price = apple_price.loc['2020-01-14','Close']\n",
    "latest_eps = search_value('Book Value Per Share * USD', '2019-09')\n",
    "latest_PtoBV = latest_price/latest_eps\n",
    "print(latest_PtoBV)"
   ]
  },
  {
   "cell_type": "markdown",
   "metadata": {
    "colab_type": "text",
    "id": "cf9H7tWeIJWn"
   },
   "source": [
    "### 5.Formatting\n",
    "\n",
    "##### (1) Traspose Dataframe\n",
    "For the convenience of calculation, we want to transpose the dataframe. Such that the time would be rows and metrics would be columns."
   ]
  },
  {
   "cell_type": "code",
   "execution_count": 30,
   "metadata": {
    "colab": {},
    "colab_type": "code",
    "id": "kRxRWL1ZIJWn"
   },
   "outputs": [],
   "source": [
    "aapl = aapl.T"
   ]
  },
  {
   "cell_type": "code",
   "execution_count": 31,
   "metadata": {
    "colab": {
     "base_uri": "https://localhost:8080/",
     "height": 423
    },
    "colab_type": "code",
    "id": "nV-mDFZ_IJWp",
    "outputId": "fcb75144-0c57-4858-d96c-c55ce0095dc8"
   },
   "outputs": [
    {
     "data": {
      "text/html": [
       "<div>\n",
       "<style scoped>\n",
       "    .dataframe tbody tr th:only-of-type {\n",
       "        vertical-align: middle;\n",
       "    }\n",
       "\n",
       "    .dataframe tbody tr th {\n",
       "        vertical-align: top;\n",
       "    }\n",
       "\n",
       "    .dataframe thead th {\n",
       "        text-align: right;\n",
       "    }\n",
       "</style>\n",
       "<table border=\"1\" class=\"dataframe\">\n",
       "  <thead>\n",
       "    <tr style=\"text-align: right;\">\n",
       "      <th></th>\n",
       "      <th>Revenue USD Mil</th>\n",
       "      <th>Gross Margin %</th>\n",
       "      <th>Operating Income USD Mil</th>\n",
       "      <th>Operating Margin %</th>\n",
       "      <th>Net Income USD Mil</th>\n",
       "      <th>Earnings Per Share USD</th>\n",
       "      <th>Dividends USD</th>\n",
       "      <th>Payout Ratio % *</th>\n",
       "      <th>Shares Mil</th>\n",
       "      <th>Book Value Per Share * USD</th>\n",
       "      <th>...</th>\n",
       "      <th>Key Ratios -&gt; Efficiency Ratios</th>\n",
       "      <th>Efficiency</th>\n",
       "      <th>Days Sales Outstanding</th>\n",
       "      <th>Days Inventory</th>\n",
       "      <th>Payables Period</th>\n",
       "      <th>Cash Conversion Cycle</th>\n",
       "      <th>Receivables Turnover</th>\n",
       "      <th>Inventory Turnover</th>\n",
       "      <th>Fixed Assets Turnover</th>\n",
       "      <th>Asset Turnover</th>\n",
       "    </tr>\n",
       "  </thead>\n",
       "  <tbody>\n",
       "    <tr>\n",
       "      <th>2010-09</th>\n",
       "      <td>65,225</td>\n",
       "      <td>39.4</td>\n",
       "      <td>18,385</td>\n",
       "      <td>28.2</td>\n",
       "      <td>14,013</td>\n",
       "      <td>2.16</td>\n",
       "      <td>NaN</td>\n",
       "      <td>NaN</td>\n",
       "      <td>6,473</td>\n",
       "      <td>7.45</td>\n",
       "      <td>...</td>\n",
       "      <td>NaN</td>\n",
       "      <td>2010-09</td>\n",
       "      <td>24.82</td>\n",
       "      <td>6.95</td>\n",
       "      <td>81.30</td>\n",
       "      <td>-49.53</td>\n",
       "      <td>14.71</td>\n",
       "      <td>52.51</td>\n",
       "      <td>16.89</td>\n",
       "      <td>1.06</td>\n",
       "    </tr>\n",
       "    <tr>\n",
       "      <th>2011-09</th>\n",
       "      <td>108,249</td>\n",
       "      <td>40.5</td>\n",
       "      <td>33,790</td>\n",
       "      <td>31.2</td>\n",
       "      <td>25,922</td>\n",
       "      <td>3.95</td>\n",
       "      <td>NaN</td>\n",
       "      <td>NaN</td>\n",
       "      <td>6,557</td>\n",
       "      <td>11.78</td>\n",
       "      <td>...</td>\n",
       "      <td>NaN</td>\n",
       "      <td>2011-09</td>\n",
       "      <td>18.34</td>\n",
       "      <td>5.17</td>\n",
       "      <td>75.48</td>\n",
       "      <td>-51.96</td>\n",
       "      <td>19.90</td>\n",
       "      <td>70.53</td>\n",
       "      <td>17.26</td>\n",
       "      <td>1.13</td>\n",
       "    </tr>\n",
       "    <tr>\n",
       "      <th>2012-09</th>\n",
       "      <td>156,508</td>\n",
       "      <td>43.9</td>\n",
       "      <td>55,241</td>\n",
       "      <td>35.3</td>\n",
       "      <td>41,733</td>\n",
       "      <td>6.31</td>\n",
       "      <td>0.38</td>\n",
       "      <td>NaN</td>\n",
       "      <td>6,617</td>\n",
       "      <td>16.99</td>\n",
       "      <td>...</td>\n",
       "      <td>NaN</td>\n",
       "      <td>2012-09</td>\n",
       "      <td>19.01</td>\n",
       "      <td>3.26</td>\n",
       "      <td>74.38</td>\n",
       "      <td>-52.13</td>\n",
       "      <td>19.20</td>\n",
       "      <td>112.12</td>\n",
       "      <td>13.48</td>\n",
       "      <td>1.07</td>\n",
       "    </tr>\n",
       "    <tr>\n",
       "      <th>2013-09</th>\n",
       "      <td>170,910</td>\n",
       "      <td>37.6</td>\n",
       "      <td>48,999</td>\n",
       "      <td>28.7</td>\n",
       "      <td>37,037</td>\n",
       "      <td>5.68</td>\n",
       "      <td>1.63</td>\n",
       "      <td>27.4</td>\n",
       "      <td>6,522</td>\n",
       "      <td>19.60</td>\n",
       "      <td>...</td>\n",
       "      <td>NaN</td>\n",
       "      <td>2013-09</td>\n",
       "      <td>25.66</td>\n",
       "      <td>4.37</td>\n",
       "      <td>74.54</td>\n",
       "      <td>-44.50</td>\n",
       "      <td>14.22</td>\n",
       "      <td>83.45</td>\n",
       "      <td>10.67</td>\n",
       "      <td>0.89</td>\n",
       "    </tr>\n",
       "    <tr>\n",
       "      <th>2014-09</th>\n",
       "      <td>182,795</td>\n",
       "      <td>38.6</td>\n",
       "      <td>52,503</td>\n",
       "      <td>28.7</td>\n",
       "      <td>39,510</td>\n",
       "      <td>6.45</td>\n",
       "      <td>1.81</td>\n",
       "      <td>28.5</td>\n",
       "      <td>6,123</td>\n",
       "      <td>20.62</td>\n",
       "      <td>...</td>\n",
       "      <td>NaN</td>\n",
       "      <td>2014-09</td>\n",
       "      <td>30.51</td>\n",
       "      <td>6.30</td>\n",
       "      <td>85.45</td>\n",
       "      <td>-48.64</td>\n",
       "      <td>11.96</td>\n",
       "      <td>57.94</td>\n",
       "      <td>9.82</td>\n",
       "      <td>0.83</td>\n",
       "    </tr>\n",
       "  </tbody>\n",
       "</table>\n",
       "<p>5 rows × 101 columns</p>\n",
       "</div>"
      ],
      "text/plain": [
       "        Revenue USD Mil Gross Margin % Operating Income USD Mil  \\\n",
       "2010-09          65,225           39.4                   18,385   \n",
       "2011-09         108,249           40.5                   33,790   \n",
       "2012-09         156,508           43.9                   55,241   \n",
       "2013-09         170,910           37.6                   48,999   \n",
       "2014-09         182,795           38.6                   52,503   \n",
       "\n",
       "        Operating Margin % Net Income USD Mil Earnings Per Share USD  \\\n",
       "2010-09               28.2             14,013                   2.16   \n",
       "2011-09               31.2             25,922                   3.95   \n",
       "2012-09               35.3             41,733                   6.31   \n",
       "2013-09               28.7             37,037                   5.68   \n",
       "2014-09               28.7             39,510                   6.45   \n",
       "\n",
       "        Dividends USD Payout Ratio % * Shares Mil Book Value Per Share * USD  \\\n",
       "2010-09           NaN              NaN      6,473                       7.45   \n",
       "2011-09           NaN              NaN      6,557                      11.78   \n",
       "2012-09          0.38              NaN      6,617                      16.99   \n",
       "2013-09          1.63             27.4      6,522                      19.60   \n",
       "2014-09          1.81             28.5      6,123                      20.62   \n",
       "\n",
       "         ... Key Ratios -> Efficiency Ratios Efficiency  \\\n",
       "2010-09  ...                             NaN    2010-09   \n",
       "2011-09  ...                             NaN    2011-09   \n",
       "2012-09  ...                             NaN    2012-09   \n",
       "2013-09  ...                             NaN    2013-09   \n",
       "2014-09  ...                             NaN    2014-09   \n",
       "\n",
       "        Days Sales Outstanding Days Inventory Payables Period  \\\n",
       "2010-09                  24.82           6.95           81.30   \n",
       "2011-09                  18.34           5.17           75.48   \n",
       "2012-09                  19.01           3.26           74.38   \n",
       "2013-09                  25.66           4.37           74.54   \n",
       "2014-09                  30.51           6.30           85.45   \n",
       "\n",
       "        Cash Conversion Cycle Receivables Turnover Inventory Turnover  \\\n",
       "2010-09                -49.53                14.71              52.51   \n",
       "2011-09                -51.96                19.90              70.53   \n",
       "2012-09                -52.13                19.20             112.12   \n",
       "2013-09                -44.50                14.22              83.45   \n",
       "2014-09                -48.64                11.96              57.94   \n",
       "\n",
       "        Fixed Assets Turnover Asset Turnover  \n",
       "2010-09                 16.89           1.06  \n",
       "2011-09                 17.26           1.13  \n",
       "2012-09                 13.48           1.07  \n",
       "2013-09                 10.67           0.89  \n",
       "2014-09                  9.82           0.83  \n",
       "\n",
       "[5 rows x 101 columns]"
      ]
     },
     "execution_count": 31,
     "metadata": {},
     "output_type": "execute_result"
    }
   ],
   "source": [
    "aapl.head()"
   ]
  },
  {
   "cell_type": "markdown",
   "metadata": {
    "colab_type": "text",
    "id": "Vkp6AyXAIJWr"
   },
   "source": [
    "##### (2) Extract metrics we need\n",
    "The financial data contains a lot of metrics, we are not going to use most of them. So, let's create a smaller dataframe with whatever metrics we will use."
   ]
  },
  {
   "cell_type": "code",
   "execution_count": 32,
   "metadata": {
    "colab": {
     "base_uri": "https://localhost:8080/",
     "height": 357
    },
    "colab_type": "code",
    "id": "l9qYfm3KIJWr",
    "outputId": "d61526f0-f7d3-4615-e5af-7e2ee9d2f8be"
   },
   "outputs": [
    {
     "data": {
      "text/html": [
       "<div>\n",
       "<style scoped>\n",
       "    .dataframe tbody tr th:only-of-type {\n",
       "        vertical-align: middle;\n",
       "    }\n",
       "\n",
       "    .dataframe tbody tr th {\n",
       "        vertical-align: top;\n",
       "    }\n",
       "\n",
       "    .dataframe thead th {\n",
       "        text-align: right;\n",
       "    }\n",
       "</style>\n",
       "<table border=\"1\" class=\"dataframe\">\n",
       "  <thead>\n",
       "    <tr style=\"text-align: right;\">\n",
       "      <th></th>\n",
       "      <th>Shares Mil</th>\n",
       "      <th>Earnings Per Share USD</th>\n",
       "      <th>Dividends USD</th>\n",
       "      <th>Payout Ratio % *</th>\n",
       "      <th>Debt/Equity</th>\n",
       "      <th>Book Value Per Share * USD</th>\n",
       "      <th>Return on Equity %</th>\n",
       "      <th>Current Ratio</th>\n",
       "    </tr>\n",
       "  </thead>\n",
       "  <tbody>\n",
       "    <tr>\n",
       "      <th>2010-09</th>\n",
       "      <td>6,473</td>\n",
       "      <td>2.16</td>\n",
       "      <td>NaN</td>\n",
       "      <td>NaN</td>\n",
       "      <td>NaN</td>\n",
       "      <td>7.45</td>\n",
       "      <td>35.28</td>\n",
       "      <td>2.01</td>\n",
       "    </tr>\n",
       "    <tr>\n",
       "      <th>2011-09</th>\n",
       "      <td>6,557</td>\n",
       "      <td>3.95</td>\n",
       "      <td>NaN</td>\n",
       "      <td>NaN</td>\n",
       "      <td>NaN</td>\n",
       "      <td>11.78</td>\n",
       "      <td>41.67</td>\n",
       "      <td>1.61</td>\n",
       "    </tr>\n",
       "    <tr>\n",
       "      <th>2012-09</th>\n",
       "      <td>6,617</td>\n",
       "      <td>6.31</td>\n",
       "      <td>0.38</td>\n",
       "      <td>NaN</td>\n",
       "      <td>NaN</td>\n",
       "      <td>16.99</td>\n",
       "      <td>42.84</td>\n",
       "      <td>1.50</td>\n",
       "    </tr>\n",
       "    <tr>\n",
       "      <th>2013-09</th>\n",
       "      <td>6,522</td>\n",
       "      <td>5.68</td>\n",
       "      <td>1.63</td>\n",
       "      <td>27.4</td>\n",
       "      <td>0.14</td>\n",
       "      <td>19.60</td>\n",
       "      <td>30.64</td>\n",
       "      <td>1.68</td>\n",
       "    </tr>\n",
       "    <tr>\n",
       "      <th>2014-09</th>\n",
       "      <td>6,123</td>\n",
       "      <td>6.45</td>\n",
       "      <td>1.81</td>\n",
       "      <td>28.5</td>\n",
       "      <td>0.26</td>\n",
       "      <td>20.62</td>\n",
       "      <td>33.61</td>\n",
       "      <td>1.08</td>\n",
       "    </tr>\n",
       "  </tbody>\n",
       "</table>\n",
       "</div>"
      ],
      "text/plain": [
       "        Shares Mil Earnings Per Share USD Dividends USD Payout Ratio % *  \\\n",
       "2010-09      6,473                   2.16           NaN              NaN   \n",
       "2011-09      6,557                   3.95           NaN              NaN   \n",
       "2012-09      6,617                   6.31          0.38              NaN   \n",
       "2013-09      6,522                   5.68          1.63             27.4   \n",
       "2014-09      6,123                   6.45          1.81             28.5   \n",
       "\n",
       "        Debt/Equity Book Value Per Share * USD Return on Equity %  \\\n",
       "2010-09         NaN                       7.45              35.28   \n",
       "2011-09         NaN                      11.78              41.67   \n",
       "2012-09         NaN                      16.99              42.84   \n",
       "2013-09        0.14                      19.60              30.64   \n",
       "2014-09        0.26                      20.62              33.61   \n",
       "\n",
       "        Current Ratio  \n",
       "2010-09          2.01  \n",
       "2011-09          1.61  \n",
       "2012-09          1.50  \n",
       "2013-09          1.68  \n",
       "2014-09          1.08  "
      ]
     },
     "execution_count": 32,
     "metadata": {},
     "output_type": "execute_result"
    }
   ],
   "source": [
    "col_names = ['Shares Mil','Earnings Per Share USD','Dividends USD',\n",
    "            'Payout Ratio % *', 'Debt/Equity', 'Book Value Per Share * USD',\n",
    "            'Return on Equity %', 'Current Ratio']\n",
    "aapl_df = aapl[col_names]\n",
    "aapl_df.head()"
   ]
  },
  {
   "cell_type": "markdown",
   "metadata": {
    "colab_type": "text",
    "id": "Y5Tc4CImIJWt"
   },
   "source": [
    "Now we have a concise dataframe `aapl_df`, which is easier to use. But the awkward name of columns still puzzles me. Let's get rid of special symbols and unify the name style by renaming them.\n",
    "\n",
    "##### (3) Rename Columns"
   ]
  },
  {
   "cell_type": "code",
   "execution_count": 33,
   "metadata": {
    "colab": {
     "base_uri": "https://localhost:8080/",
     "height": 309
    },
    "colab_type": "code",
    "id": "vOY7_ZngIJWt",
    "outputId": "067904c5-2cd1-4ee9-b1af-c3759937e5b1"
   },
   "outputs": [
    {
     "data": {
      "text/html": [
       "<div>\n",
       "<style scoped>\n",
       "    .dataframe tbody tr th:only-of-type {\n",
       "        vertical-align: middle;\n",
       "    }\n",
       "\n",
       "    .dataframe tbody tr th {\n",
       "        vertical-align: top;\n",
       "    }\n",
       "\n",
       "    .dataframe thead th {\n",
       "        text-align: right;\n",
       "    }\n",
       "</style>\n",
       "<table border=\"1\" class=\"dataframe\">\n",
       "  <thead>\n",
       "    <tr style=\"text-align: right;\">\n",
       "      <th></th>\n",
       "      <th>shares_outstanding</th>\n",
       "      <th>earning_per_share</th>\n",
       "      <th>dividend_rate</th>\n",
       "      <th>dividend_yield</th>\n",
       "      <th>debt_to_equity</th>\n",
       "      <th>book_value_per_share</th>\n",
       "      <th>return_on_equity</th>\n",
       "      <th>current_ratio</th>\n",
       "    </tr>\n",
       "  </thead>\n",
       "  <tbody>\n",
       "    <tr>\n",
       "      <th>2010-09</th>\n",
       "      <td>6,473</td>\n",
       "      <td>2.16</td>\n",
       "      <td>NaN</td>\n",
       "      <td>NaN</td>\n",
       "      <td>NaN</td>\n",
       "      <td>7.45</td>\n",
       "      <td>35.28</td>\n",
       "      <td>2.01</td>\n",
       "    </tr>\n",
       "    <tr>\n",
       "      <th>2011-09</th>\n",
       "      <td>6,557</td>\n",
       "      <td>3.95</td>\n",
       "      <td>NaN</td>\n",
       "      <td>NaN</td>\n",
       "      <td>NaN</td>\n",
       "      <td>11.78</td>\n",
       "      <td>41.67</td>\n",
       "      <td>1.61</td>\n",
       "    </tr>\n",
       "    <tr>\n",
       "      <th>2012-09</th>\n",
       "      <td>6,617</td>\n",
       "      <td>6.31</td>\n",
       "      <td>0.38</td>\n",
       "      <td>NaN</td>\n",
       "      <td>NaN</td>\n",
       "      <td>16.99</td>\n",
       "      <td>42.84</td>\n",
       "      <td>1.50</td>\n",
       "    </tr>\n",
       "    <tr>\n",
       "      <th>2013-09</th>\n",
       "      <td>6,522</td>\n",
       "      <td>5.68</td>\n",
       "      <td>1.63</td>\n",
       "      <td>27.4</td>\n",
       "      <td>0.14</td>\n",
       "      <td>19.60</td>\n",
       "      <td>30.64</td>\n",
       "      <td>1.68</td>\n",
       "    </tr>\n",
       "    <tr>\n",
       "      <th>2014-09</th>\n",
       "      <td>6,123</td>\n",
       "      <td>6.45</td>\n",
       "      <td>1.81</td>\n",
       "      <td>28.5</td>\n",
       "      <td>0.26</td>\n",
       "      <td>20.62</td>\n",
       "      <td>33.61</td>\n",
       "      <td>1.08</td>\n",
       "    </tr>\n",
       "  </tbody>\n",
       "</table>\n",
       "</div>"
      ],
      "text/plain": [
       "        shares_outstanding earning_per_share dividend_rate dividend_yield  \\\n",
       "2010-09              6,473              2.16           NaN            NaN   \n",
       "2011-09              6,557              3.95           NaN            NaN   \n",
       "2012-09              6,617              6.31          0.38            NaN   \n",
       "2013-09              6,522              5.68          1.63           27.4   \n",
       "2014-09              6,123              6.45          1.81           28.5   \n",
       "\n",
       "        debt_to_equity book_value_per_share return_on_equity current_ratio  \n",
       "2010-09            NaN                 7.45            35.28          2.01  \n",
       "2011-09            NaN                11.78            41.67          1.61  \n",
       "2012-09            NaN                16.99            42.84          1.50  \n",
       "2013-09           0.14                19.60            30.64          1.68  \n",
       "2014-09           0.26                20.62            33.61          1.08  "
      ]
     },
     "execution_count": 33,
     "metadata": {},
     "output_type": "execute_result"
    }
   ],
   "source": [
    "new_col = ['shares_outstanding', 'earning_per_share', 'dividend_rate', \n",
    "           'dividend_yield', 'debt_to_equity', 'book_value_per_share',\n",
    "          'return_on_equity', 'current_ratio']\n",
    "aapl_df.columns = new_col\n",
    "aapl_df.head()"
   ]
  },
  {
   "cell_type": "markdown",
   "metadata": {
    "colab_type": "text",
    "id": "XsMSAdIdIJWv"
   },
   "source": [
    "Now the dataframe looks great! Attention, do not get the order of new column (`new_col`) names wrong. It should be in exactly the same order as current column."
   ]
  }
 ],
 "metadata": {
  "colab": {
   "include_colab_link": true,
   "name": "Calculating-Stock-Metrics.ipynb",
   "provenance": []
  },
  "kernelspec": {
   "display_name": "Python 3 (ipykernel)",
   "language": "python",
   "name": "python3"
  },
  "language_info": {
   "codemirror_mode": {
    "name": "ipython",
    "version": 3
   },
   "file_extension": ".py",
   "mimetype": "text/x-python",
   "name": "python",
   "nbconvert_exporter": "python",
   "pygments_lexer": "ipython3",
   "version": "3.9.0"
  }
 },
 "nbformat": 4,
 "nbformat_minor": 1
}
