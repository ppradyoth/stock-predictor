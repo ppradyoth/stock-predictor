{
 "cells": [
  {
   "cell_type": "code",
   "execution_count": 1,
   "metadata": {
    "colab": {},
    "colab_type": "code",
    "id": "vKmWaIZht5MF"
   },
   "outputs": [],
   "source": [
    "import pandas as pd"
   ]
  },
  {
   "cell_type": "markdown",
   "metadata": {
    "colab_type": "text",
    "id": "o9cWlM8ft5MP"
   },
   "source": [
    "### Import Data"
   ]
  },
  {
   "cell_type": "code",
   "execution_count": 2,
   "metadata": {
    "colab": {},
    "colab_type": "code",
    "id": "Y1q7r9qJt5MS"
   },
   "outputs": [],
   "source": [
    "# Load Data\n",
    "aapl = pd.read_csv('../data/aapl_concise.csv', index_col='Unnamed: 0')"
   ]
  },
  {
   "cell_type": "code",
   "execution_count": 3,
   "metadata": {
    "colab": {},
    "colab_type": "code",
    "id": "TkicZvIjt5MY",
    "outputId": "74fc251f-4569-42d3-f84d-7135f7999c81"
   },
   "outputs": [
    {
     "data": {
      "text/html": [
       "<div>\n",
       "<style scoped>\n",
       "    .dataframe tbody tr th:only-of-type {\n",
       "        vertical-align: middle;\n",
       "    }\n",
       "\n",
       "    .dataframe tbody tr th {\n",
       "        vertical-align: top;\n",
       "    }\n",
       "\n",
       "    .dataframe thead th {\n",
       "        text-align: right;\n",
       "    }\n",
       "</style>\n",
       "<table border=\"1\" class=\"dataframe\">\n",
       "  <thead>\n",
       "    <tr style=\"text-align: right;\">\n",
       "      <th></th>\n",
       "      <th>shares_outstanding</th>\n",
       "      <th>earning_per_share</th>\n",
       "      <th>dividend_rate</th>\n",
       "      <th>dividend_yield</th>\n",
       "      <th>debt_to_equity</th>\n",
       "      <th>book_value_per_share</th>\n",
       "      <th>return_on_equity</th>\n",
       "      <th>current_ratio</th>\n",
       "    </tr>\n",
       "  </thead>\n",
       "  <tbody>\n",
       "    <tr>\n",
       "      <th>2010-09</th>\n",
       "      <td>6,473</td>\n",
       "      <td>2.16</td>\n",
       "      <td>NaN</td>\n",
       "      <td>NaN</td>\n",
       "      <td>NaN</td>\n",
       "      <td>7.45</td>\n",
       "      <td>35.28</td>\n",
       "      <td>2.01</td>\n",
       "    </tr>\n",
       "    <tr>\n",
       "      <th>2011-09</th>\n",
       "      <td>6,557</td>\n",
       "      <td>3.95</td>\n",
       "      <td>NaN</td>\n",
       "      <td>NaN</td>\n",
       "      <td>NaN</td>\n",
       "      <td>11.78</td>\n",
       "      <td>41.67</td>\n",
       "      <td>1.61</td>\n",
       "    </tr>\n",
       "    <tr>\n",
       "      <th>2012-09</th>\n",
       "      <td>6,617</td>\n",
       "      <td>6.31</td>\n",
       "      <td>0.38</td>\n",
       "      <td>NaN</td>\n",
       "      <td>NaN</td>\n",
       "      <td>16.99</td>\n",
       "      <td>42.84</td>\n",
       "      <td>1.50</td>\n",
       "    </tr>\n",
       "    <tr>\n",
       "      <th>2013-09</th>\n",
       "      <td>6,522</td>\n",
       "      <td>5.68</td>\n",
       "      <td>1.63</td>\n",
       "      <td>27.4</td>\n",
       "      <td>0.14</td>\n",
       "      <td>19.60</td>\n",
       "      <td>30.64</td>\n",
       "      <td>1.68</td>\n",
       "    </tr>\n",
       "    <tr>\n",
       "      <th>2014-09</th>\n",
       "      <td>6,123</td>\n",
       "      <td>6.45</td>\n",
       "      <td>1.81</td>\n",
       "      <td>28.5</td>\n",
       "      <td>0.26</td>\n",
       "      <td>20.62</td>\n",
       "      <td>33.61</td>\n",
       "      <td>1.08</td>\n",
       "    </tr>\n",
       "  </tbody>\n",
       "</table>\n",
       "</div>"
      ],
      "text/plain": [
       "        shares_outstanding  earning_per_share  dividend_rate  dividend_yield  \\\n",
       "2010-09              6,473               2.16            NaN             NaN   \n",
       "2011-09              6,557               3.95            NaN             NaN   \n",
       "2012-09              6,617               6.31           0.38             NaN   \n",
       "2013-09              6,522               5.68           1.63            27.4   \n",
       "2014-09              6,123               6.45           1.81            28.5   \n",
       "\n",
       "         debt_to_equity  book_value_per_share  return_on_equity  current_ratio  \n",
       "2010-09             NaN                  7.45             35.28           2.01  \n",
       "2011-09             NaN                 11.78             41.67           1.61  \n",
       "2012-09             NaN                 16.99             42.84           1.50  \n",
       "2013-09            0.14                 19.60             30.64           1.68  \n",
       "2014-09            0.26                 20.62             33.61           1.08  "
      ]
     },
     "execution_count": 3,
     "metadata": {},
     "output_type": "execute_result"
    }
   ],
   "source": [
    "aapl.head()"
   ]
  },
  {
   "cell_type": "markdown",
   "metadata": {
    "colab_type": "text",
    "id": "KUnVi0fzt5Mg"
   },
   "source": [
    "### Calculate Intrinsic Value (Simple way)\n",
    "\n",
    "##### (1) Estimate future dividends"
   ]
  },
  {
   "cell_type": "code",
   "execution_count": 4,
   "metadata": {
    "colab": {},
    "colab_type": "code",
    "id": "JJzRV2RCt5Mi",
    "outputId": "6bd9717b-d02e-453f-dcb8-aa6d0f827bc7"
   },
   "outputs": [
    {
     "name": "stdout",
     "output_type": "stream",
     "text": [
      "2.1222222222222222\n"
     ]
    }
   ],
   "source": [
    "# Last 10-year's average dividends\n",
    "dvd_avg = aapl['dividend_rate'].mean()\n",
    "print(dvd_avg)"
   ]
  },
  {
   "cell_type": "code",
   "execution_count": 5,
   "metadata": {
    "colab": {},
    "colab_type": "code",
    "id": "J3gkQqyht5Mm",
    "outputId": "2f5a9031-bc56-465b-d322-1740969d5eae"
   },
   "outputs": [
    {
     "data": {
      "text/plain": [
       "2.0122202476874578"
      ]
     },
     "execution_count": 5,
     "metadata": {},
     "output_type": "execute_result"
    }
   ],
   "source": [
    "risk_free_rate = 0.0179\n",
    "# The discounted capital for the dividend of 3-year later\n",
    "dvd_avg/(1+risk_free_rate)**3\n",
    "# The discounted capital for the dividend of 10-year later\n",
    "# dvd_avg/(1+risk_free_rate)**10"
   ]
  },
  {
   "cell_type": "code",
   "execution_count": 6,
   "metadata": {
    "colab": {},
    "colab_type": "code",
    "id": "OwiDxfWgt5Mr",
    "outputId": "af6fd92a-04f8-4ebf-c75d-6968c801fd76"
   },
   "outputs": [
    {
     "name": "stdout",
     "output_type": "stream",
     "text": [
      "19.27420500514451\n"
     ]
    }
   ],
   "source": [
    "dvd_total = 0\n",
    "for i in range(1,11):\n",
    "    dvd_total = dvd_total + dvd_avg/(1+risk_free_rate)**i\n",
    "print(dvd_total)"
   ]
  },
  {
   "cell_type": "markdown",
   "metadata": {
    "colab_type": "text",
    "id": "HdPRblpSt5My"
   },
   "source": [
    "##### (2) Estimate future book value"
   ]
  },
  {
   "cell_type": "code",
   "execution_count": 7,
   "metadata": {
    "colab": {},
    "colab_type": "code",
    "id": "3_gnH46zt5Mz"
   },
   "outputs": [],
   "source": [
    "# Average growth rate\n",
    "book_value = aapl['book_value_per_share']"
   ]
  },
  {
   "cell_type": "code",
   "execution_count": 8,
   "metadata": {
    "colab": {},
    "colab_type": "code",
    "id": "2NY9FN6Vt5M3",
    "outputId": "6f48dd0e-df08-4ed2-ae83-a86a58af6119"
   },
   "outputs": [
    {
     "name": "stdout",
     "output_type": "stream",
     "text": [
      "1.1261895823169403\n"
     ]
    }
   ],
   "source": [
    "# 9th root\n",
    "book_value = aapl['book_value_per_share']\n",
    "growth_rate_of_9y= book_value['2019-09']/book_value['2010-09']\n",
    "avg_growth_rate = growth_rate_of_9y**(1/9)\n",
    "print(avg_growth_rate)"
   ]
  },
  {
   "cell_type": "code",
   "execution_count": 10,
   "metadata": {
    "colab": {},
    "colab_type": "code",
    "id": "RRj0EFept5M5",
    "outputId": "7c356ff7-aca7-4253-cd9f-8c91f0fa07ae"
   },
   "outputs": [
    {
     "name": "stdout",
     "output_type": "stream",
     "text": [
      "71.24836125032327\n"
     ]
    }
   ],
   "source": [
    "# Book value per share in next 10 years\n",
    "bvps_pred = book_value['2019-09']*(avg_growth_rate**10)\n",
    "print(bvps_pred)"
   ]
  },
  {
   "cell_type": "markdown",
   "metadata": {
    "colab_type": "text",
    "id": "5_6dXpsft5M-"
   },
   "source": [
    "##### (3) Combine 2 parts"
   ]
  },
  {
   "cell_type": "code",
   "execution_count": 11,
   "metadata": {
    "colab": {},
    "colab_type": "code",
    "id": "9h0wN_6Nt5NB",
    "outputId": "2e0c48ab-b147-4aa3-f349-567cbd132cb3"
   },
   "outputs": [
    {
     "name": "stdout",
     "output_type": "stream",
     "text": [
      "90.52256625546778\n"
     ]
    }
   ],
   "source": [
    "aapl_intrinsic = bvps_pred + dvd_total\n",
    "print(aapl_intrinsic)"
   ]
  },
  {
   "cell_type": "code",
   "execution_count": 12,
   "metadata": {
    "colab": {},
    "colab_type": "code",
    "id": "3ISxO0nZt5NG"
   },
   "outputs": [],
   "source": [
    "# ignore TTM for now\n",
    "aapl = aapl.drop(aapl.tail(1).index)"
   ]
  },
  {
   "cell_type": "code",
   "execution_count": 13,
   "metadata": {
    "colab": {},
    "colab_type": "code",
    "id": "m-KJxMd3t5NN",
    "outputId": "9aedf36c-e247-4745-8087-b4385fd24723"
   },
   "outputs": [
    {
     "data": {
      "text/plain": [
       "<AxesSubplot:title={'center':\"Apple's Dividends in Last 10 Years\"}>"
      ]
     },
     "execution_count": 13,
     "metadata": {},
     "output_type": "execute_result"
    },
    {
     "data": {
      "image/png": "[encoded data removed]",
      "text/plain": [
       "<Figure size 720x432 with 1 Axes>"
      ]
     },
     "metadata": {
      "needs_background": "light"
     },
     "output_type": "display_data"
    }
   ],
   "source": [
    "aapl['dividend_rate'].plot(figsize=(10,6), title=\"Apple's Dividends in Last 10 Years\")"
   ]
  },
  {
   "cell_type": "code",
   "execution_count": 14,
   "metadata": {
    "colab": {},
    "colab_type": "code",
    "id": "yE50TSvyt5NP",
    "outputId": "0a382879-45fd-49d2-bb18-a14f420c2c21"
   },
   "outputs": [
    {
     "data": {
      "text/plain": [
       "<AxesSubplot:title={'center':\"Apple's Book Value in Last 10 Years\"}>"
      ]
     },
     "execution_count": 14,
     "metadata": {},
     "output_type": "execute_result"
    },
    {
     "data": {
      "image/png": "[encoded data removed]",
      "text/plain": [
       "<Figure size 720x432 with 1 Axes>"
      ]
     },
     "metadata": {
      "needs_background": "light"
     },
     "output_type": "display_data"
    }
   ],
   "source": [
    "aapl['book_value_per_share'].plot(figsize=(10,6), title=\"Apple's Book Value in Last 10 Years\")"
   ]
  },
  {
   "cell_type": "markdown",
   "metadata": {
    "colab_type": "text",
    "id": "RPNtcnRft5NR"
   },
   "source": [
    "### Calculate Intrinsic Value using Linear Regression"
   ]
  },
  {
   "cell_type": "code",
   "execution_count": 16,
   "metadata": {
    "colab": {},
    "colab_type": "code",
    "id": "j2kQv859t5NR"
   },
   "outputs": [],
   "source": [
    "import statsmodels.api as sm"
   ]
  },
  {
   "cell_type": "markdown",
   "metadata": {
    "colab_type": "text",
    "id": "UN2eyIMkt5NT"
   },
   "source": [
    "##### (1) House Keeping"
   ]
  },
  {
   "cell_type": "code",
   "execution_count": 17,
   "metadata": {
    "colab": {},
    "colab_type": "code",
    "id": "uCALdjI3t5NT"
   },
   "outputs": [],
   "source": [
    "# 'year_index' as the order of the year\n",
    "aapl['year_index'] = range(1, len(aapl) + 1)\n",
    "# add intercept\n",
    "aapl['intercept'] = 1"
   ]
  },
  {
   "cell_type": "markdown",
   "metadata": {
    "colab_type": "text",
    "id": "HMA6aLT6t5NV"
   },
   "source": [
    "##### (2) Book Value per Share"
   ]
  },
  {
   "cell_type": "code",
   "execution_count": 18,
   "metadata": {
    "colab": {},
    "colab_type": "code",
    "id": "_YCywohOt5NX"
   },
   "outputs": [],
   "source": [
    "# modeling\n",
    "bvps_model = sm.OLS(aapl['book_value_per_share'], aapl[['year_index','intercept']]).fit()"
   ]
  },
  {
   "cell_type": "code",
   "execution_count": 19,
   "metadata": {
    "colab": {},
    "colab_type": "code",
    "id": "34rFjajCt5NY",
    "outputId": "49bdc281-e004-49c9-f156-187e6f5a8e56"
   },
   "outputs": [
    {
     "name": "stdout",
     "output_type": "stream",
     "text": [
      "41.81709090909092\n"
     ]
    }
   ],
   "source": [
    "bvps_pred_lr = bvps_model.predict([19,1])[0]\n",
    "print(bvps_pred_lr)"
   ]
  },
  {
   "cell_type": "markdown",
   "metadata": {
    "colab_type": "text",
    "id": "lmJBNOSgt5Na"
   },
   "source": [
    "##### (3) Dividends"
   ]
  },
  {
   "cell_type": "code",
   "execution_count": 20,
   "metadata": {
    "colab": {},
    "colab_type": "code",
    "id": "XBMbK5KDt5Nb"
   },
   "outputs": [],
   "source": [
    "aapl_new = aapl.dropna(subset = ['dividend_rate'])"
   ]
  },
  {
   "cell_type": "code",
   "execution_count": 21,
   "metadata": {
    "colab": {},
    "colab_type": "code",
    "id": "gvyaQMKKt5Nd"
   },
   "outputs": [],
   "source": [
    "# modeling\n",
    "dvd_model = sm.OLS(aapl_new['dividend_rate'], aapl_new[['year_index','intercept']]).fit()"
   ]
  },
  {
   "cell_type": "code",
   "execution_count": 22,
   "metadata": {
    "colab": {},
    "colab_type": "code",
    "id": "Fs8FMODet5Nf",
    "outputId": "6fadb7c8-dfbf-4b27-bb2c-a9d002daa4da"
   },
   "outputs": [
    {
     "data": {
      "text/plain": [
       "5.845833333333332"
      ]
     },
     "execution_count": 22,
     "metadata": {},
     "output_type": "execute_result"
    }
   ],
   "source": [
    "# predict future dvd\n",
    "dvd_model.predict([19,1])[0]"
   ]
  },
  {
   "cell_type": "code",
   "execution_count": 23,
   "metadata": {
    "colab": {},
    "colab_type": "code",
    "id": "CjhxWJ5ft5Nh",
    "outputId": "0ec5e216-bba2-4d89-8299-daaab5facb26"
   },
   "outputs": [
    {
     "name": "stdout",
     "output_type": "stream",
     "text": [
      "40.15163616617433\n"
     ]
    }
   ],
   "source": [
    "dvd_total_lr = 0\n",
    "current_year_order = 9\n",
    "for i in range(1,11):\n",
    "    dvd_new = dvd_model.predict([current_year_order + i,1])[0]\n",
    "    dvd_total_lr = dvd_total_lr + dvd_new/(1+risk_free_rate)**i\n",
    "print(dvd_total_lr)"
   ]
  },
  {
   "cell_type": "code",
   "execution_count": 24,
   "metadata": {
    "colab": {},
    "colab_type": "code",
    "id": "cZRoLNzft5Nj",
    "outputId": "b41762ef-c7f4-4c23-ea93-30491f982f52"
   },
   "outputs": [
    {
     "name": "stdout",
     "output_type": "stream",
     "text": [
      "81.96872707526525\n"
     ]
    }
   ],
   "source": [
    "aapl_intrinsic_lr = dvd_total_lr + bvps_pred_lr\n",
    "print(aapl_intrinsic_lr)"
   ]
  }
 ],
 "metadata": {
  "colab": {
   "collapsed_sections": [],
   "name": "Calculate-Intrinsic-Value.ipynb",
   "provenance": []
  },
  "kernelspec": {
   "display_name": "Python 3 (ipykernel)",
   "language": "python",
   "name": "python3"
  },
  "language_info": {
   "codemirror_mode": {
    "name": "ipython",
    "version": 3
   },
   "file_extension": ".py",
   "mimetype": "text/x-python",
   "name": "python",
   "nbconvert_exporter": "python",
   "pygments_lexer": "ipython3",
   "version": "3.9.0"
  }
 },
 "nbformat": 4,
 "nbformat_minor": 1
}
