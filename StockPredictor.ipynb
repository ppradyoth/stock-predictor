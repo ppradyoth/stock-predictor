{
 "cells": [
  {
   "cell_type": "markdown",
   "id": "023290fc",
   "metadata": {},
   "source": [
    "# Industry Driven Elective"
   ]
  },
  {
   "cell_type": "markdown",
   "id": "2e586b7e",
   "metadata": {},
   "source": [
    "## Artificial Intelligence and Machine Learning (IS6E106) offered by Nokia"
   ]
  },
  {
   "cell_type": "markdown",
   "id": "bd651cfb",
   "metadata": {},
   "source": [
    "### Project: Stock Price Prediction"
   ]
  },
  {
   "cell_type": "markdown",
   "id": "57a15b79",
   "metadata": {},
   "source": [
    "The challenge of this project is to accurately predict the future closing value of a given stock across a given period of time in the future."
   ]
  },
  {
   "cell_type": "code",
   "execution_count": 79,
   "id": "2bb7823a",
   "metadata": {},
   "outputs": [],
   "source": [
    "# prerequisite installation\n",
    "#!pip3 install yfinance\n",
    "#!pip3 install matplotlib\n",
    "#!pip3 install numpy\n",
    "#!pip3 install pandas\n",
    "#!pip3 install visualize"
   ]
  },
  {
   "cell_type": "markdown",
   "id": "03494a73",
   "metadata": {},
   "source": [
    "## Retrieving the data"
   ]
  },
  {
   "cell_type": "code",
   "execution_count": 80,
   "id": "e1ef9423",
   "metadata": {},
   "outputs": [
    {
     "name": "stdout",
     "output_type": "stream",
     "text": [
      "[*********************100%***********************]  1 of 1 completed\n"
     ]
    },
    {
     "name": "stderr",
     "output_type": "stream",
     "text": [
      "C:\\Users\\netta\\AppData\\Local\\Temp\\ipykernel_19700\\755208413.py:6: UserWarning:\n",
      "\n",
      "Matplotlib is currently using agg, which is a non-GUI backend, so cannot show the figure.\n",
      "\n"
     ]
    },
    {
     "data": {
      "image/png": "[encoded data removed]",
      "text/plain": [
       "<Figure size 432x288 with 1 Axes>"
      ]
     },
     "metadata": {
      "needs_background": "light"
     },
     "output_type": "display_data"
    }
   ],
   "source": [
    "import datetime\n",
    "import yfinance as yf\n",
    "import matplotlib.pyplot as plt\n",
    "data = yf.download('TSLA','2015-01-01','2022-01-01')\n",
    "data[\"Adj Close\"].plot()\n",
    "plt.show()"
   ]
  },
  {
   "cell_type": "code",
   "execution_count": 81,
   "id": "a80d2709",
   "metadata": {},
   "outputs": [],
   "source": [
    "data.to_csv('tesla.csv',index = False)"
   ]
  },
  {
   "cell_type": "markdown",
   "id": "5bc303e3",
   "metadata": {},
   "source": [
    "## Normalising the data"
   ]
  },
  {
   "cell_type": "code",
   "execution_count": 82,
   "id": "6f670727",
   "metadata": {},
   "outputs": [
    {
     "name": "stdout",
     "output_type": "stream",
     "text": [
      "        Open       High        Low      Close  Adj Close    Volume\n",
      "0  44.618000  45.136002  44.450001  44.481998  44.481998  11487500\n",
      "1  44.574001  44.650002  42.652000  43.862000  43.862000  23822000\n",
      "2  42.910000  43.299999  41.431999  42.018002  42.018002  26842500\n",
      "3  42.012001  42.840000  40.841999  42.256001  42.256001  31309500\n",
      "4  42.669998  42.956001  41.956001  42.189999  42.189999  14842000\n",
      "\n",
      "\n",
      "Open   --- mean : 191.2357847771677   \t Std:  268.57589583959066   \t Max:  1234.4100341796875   \t Min:  28.464000701904297\n",
      "High   --- mean : 195.3130371651682   \t Std:  274.4522511077426   \t Max:  1243.489990234375   \t Min:  30.99399948120117\n",
      "Low    --- mean : 186.9265443083921   \t Std:  262.2841396234461   \t Max:  1217.0   \t Min:  28.209999084472656\n",
      "Close  --- mean : 191.40155297558323   \t Std:  268.83513567701107   \t Max:  1229.9100341796875   \t Min:  28.733999252319336\n",
      "Volume --- mean : 38275839.51247165   \t Std:  28152650.760726396   \t Max:  304694000   \t Min:  3540000\n"
     ]
    }
   ],
   "source": [
    "import pandas as pd\n",
    "import numpy as np\n",
    "\n",
    "data = pd.read_csv('tesla.csv')\n",
    "print(data.head())\n",
    "\n",
    "print(\"\\n\")\n",
    "print(\"Open   --- mean :\", np.mean(data['Open']),  \"  \\t Std: \", np.std(data['Open']),  \"  \\t Max: \", np.max(data['Open']),  \"  \\t Min: \", np.min(data['Open']))\n",
    "print(\"High   --- mean :\", np.mean(data['High']),  \"  \\t Std: \", np.std(data['High']),  \"  \\t Max: \", np.max(data['High']),  \"  \\t Min: \", np.min(data['High']))\n",
    "print(\"Low    --- mean :\", np.mean(data['Low']),   \"  \\t Std: \", np.std(data['Low']),   \"  \\t Max: \", np.max(data['Low']),   \"  \\t Min: \", np.min(data['Low']))\n",
    "print(\"Close  --- mean :\", np.mean(data['Close']), \"  \\t Std: \", np.std(data['Close']), \"  \\t Max: \", np.max(data['Close']), \"  \\t Min: \", np.min(data['Close']))\n",
    "print(\"Volume --- mean :\", np.mean(data['Volume']),\"  \\t Std: \", np.std(data['Volume']),\"  \\t Max: \", np.max(data['Volume']),\"  \\t Min: \", np.min(data['Volume']))"
   ]
  },
  {
   "cell_type": "code",
   "execution_count": 83,
   "id": "7326a420",
   "metadata": {},
   "outputs": [],
   "source": [
    "data1=data"
   ]
  },
  {
   "cell_type": "code",
   "execution_count": 84,
   "id": "028caa49",
   "metadata": {},
   "outputs": [
    {
     "name": "stdout",
     "output_type": "stream",
     "text": [
      "        Open        Low      Close  Adj Close    Volume\n",
      "0  44.618000  44.450001  44.481998  44.481998  11487500\n",
      "1  44.574001  42.652000  43.862000  43.862000  23822000\n",
      "2  42.910000  41.431999  42.018002  42.018002  26842500\n",
      "3  42.012001  40.841999  42.256001  42.256001  31309500\n",
      "4  42.669998  41.956001  42.189999  42.189999  14842000\n",
      "---\n",
      "             Open          Low        Close    Adj Close    Volume\n",
      "1759  1073.670044  1070.719971  1093.939941  1093.939941  23715300\n",
      "1760  1109.489990  1078.420044  1088.469971  1088.469971  20108000\n",
      "1761  1098.640015  1064.140015  1086.189941  1086.189941  18718000\n",
      "1762  1061.329956  1053.150024  1070.339966  1070.339966  15680300\n",
      "1763  1073.439941  1054.589966  1056.780029  1056.780029  13577900\n"
     ]
    }
   ],
   "source": [
    "data.pop('High')\n",
    "#Print the dataframe head and tail\n",
    "print(data.head())\n",
    "print(\"---\")\n",
    "print(data.tail())"
   ]
  },
  {
   "cell_type": "code",
   "execution_count": 85,
   "id": "3f584fe1",
   "metadata": {},
   "outputs": [
    {
     "name": "stdout",
     "output_type": "stream",
     "text": [
      "        Open      Close  Adj Close    Volume\n",
      "0  44.618000  44.481998  44.481998  11487500\n",
      "1  44.574001  43.862000  43.862000  23822000\n",
      "2  42.910000  42.018002  42.018002  26842500\n",
      "3  42.012001  42.256001  42.256001  31309500\n",
      "4  42.669998  42.189999  42.189999  14842000\n",
      "---\n",
      "             Open        Close    Adj Close    Volume\n",
      "1759  1073.670044  1093.939941  1093.939941  23715300\n",
      "1760  1109.489990  1088.469971  1088.469971  20108000\n",
      "1761  1098.640015  1086.189941  1086.189941  18718000\n",
      "1762  1061.329956  1070.339966  1070.339966  15680300\n",
      "1763  1073.439941  1056.780029  1056.780029  13577900\n"
     ]
    }
   ],
   "source": [
    "data.pop('Low')\n",
    "#Print the dataframe head and tail\n",
    "print(data.head())\n",
    "print(\"---\")\n",
    "print(data.tail())"
   ]
  },
  {
   "cell_type": "code",
   "execution_count": 86,
   "id": "883b8238",
   "metadata": {},
   "outputs": [
    {
     "name": "stdout",
     "output_type": "stream",
     "text": [
      "        Open      Close    Volume\n",
      "0  44.618000  44.481998  11487500\n",
      "1  44.574001  43.862000  23822000\n",
      "2  42.910000  42.018002  26842500\n",
      "3  42.012001  42.256001  31309500\n",
      "4  42.669998  42.189999  14842000\n",
      "---\n",
      "             Open        Close    Volume\n",
      "1759  1073.670044  1093.939941  23715300\n",
      "1760  1109.489990  1088.469971  20108000\n",
      "1761  1098.640015  1086.189941  18718000\n",
      "1762  1061.329956  1070.339966  15680300\n",
      "1763  1073.439941  1056.780029  13577900\n"
     ]
    }
   ],
   "source": [
    "data.pop('Adj Close')\n",
    "#Print the dataframe head and tail\n",
    "print(data.head())\n",
    "print(\"---\")\n",
    "print(data.tail())"
   ]
  },
  {
   "cell_type": "code",
   "execution_count": 87,
   "id": "fdcd9b3c",
   "metadata": {},
   "outputs": [
    {
     "data": {
      "text/plain": [
       "<AxesSubplot:>"
      ]
     },
     "execution_count": 87,
     "metadata": {},
     "output_type": "execute_result"
    },
    {
     "data": {
      "image/png": "[encoded data removed]",
      "text/plain": [
       "<Figure size 432x288 with 1 Axes>"
      ]
     },
     "metadata": {
      "needs_background": "light"
     },
     "output_type": "display_data"
    }
   ],
   "source": [
    "import matplotlib.pyplot as plt\n",
    "data.plot()"
   ]
  },
  {
   "cell_type": "markdown",
   "id": "4cb2282e",
   "metadata": {},
   "source": [
    "# Normalize the data retrieved"
   ]
  },
  {
   "cell_type": "code",
   "execution_count": 88,
   "id": "f7a1ae27",
   "metadata": {},
   "outputs": [
    {
     "name": "stdout",
     "output_type": "stream",
     "text": [
      "        Open      Close    Volume\n",
      "0  44.618000  44.481998  11487500\n",
      "1  44.574001  43.862000  23822000\n",
      "2  42.910000  42.018002  26842500\n",
      "3  42.012001  42.256001  31309500\n",
      "4  42.669998  42.189999  14842000\n",
      "\n",
      "\n",
      "Open   --- mean : 191.2357847771677  \t Std:  268.57589583959066   Max:  1234.4100341796875  \t Min:  28.464000701904297\n",
      "Close  --- mean : 191.40155297558323  \t Std:  268.83513567701107   Max:  1229.9100341796875  \t Min:  28.733999252319336\n",
      "Volume --- mean : 38275839.51247165  \t Std:  28152650.760726396   Max:  304694000  \t Min:  3540000\n"
     ]
    }
   ],
   "source": [
    "from sklearn import preprocessing\n",
    "preprocessing.normalize(data)\n",
    "print(data.head())\n",
    "print(\"\\n\")\n",
    "print(\"Open   --- mean :\", np.mean(data['Open']),  \" \\t Std: \", np.std(data['Open']),  \"  Max: \", np.max(data['Open']),  \" \\t Min: \", np.min(data['Open']))\n",
    "print(\"Close  --- mean :\", np.mean(data['Close']), \" \\t Std: \", np.std(data['Close']), \"  Max: \", np.max(data['Close']), \" \\t Min: \", np.min(data['Close']))\n",
    "print(\"Volume --- mean :\", np.mean(data['Volume']),\" \\t Std: \", np.std(data['Volume']),\"  Max: \", np.max(data['Volume']),\" \\t Min: \", np.min(data['Volume']))"
   ]
  },
  {
   "cell_type": "code",
   "execution_count": 89,
   "id": "6b6b9797",
   "metadata": {},
   "outputs": [],
   "source": [
    "#Log the normalised data for future resuablilty\n",
    "data.to_csv('tesla_preprocessed.csv',index= False)"
   ]
  },
  {
   "cell_type": "markdown",
   "id": "f1979d8f",
   "metadata": {},
   "source": [
    "# #Checkpoint 2:Benchmark Model"
   ]
  },
  {
   "cell_type": "code",
   "execution_count": 90,
   "id": "5cec361b",
   "metadata": {},
   "outputs": [
    {
     "data": {
      "text/html": [
       "<div>\n",
       "<style scoped>\n",
       "    .dataframe tbody tr th:only-of-type {\n",
       "        vertical-align: middle;\n",
       "    }\n",
       "\n",
       "    .dataframe tbody tr th {\n",
       "        vertical-align: top;\n",
       "    }\n",
       "\n",
       "    .dataframe thead th {\n",
       "        text-align: right;\n",
       "    }\n",
       "</style>\n",
       "<table border=\"1\" class=\"dataframe\">\n",
       "  <thead>\n",
       "    <tr style=\"text-align: right;\">\n",
       "      <th></th>\n",
       "      <th>Open</th>\n",
       "      <th>Close</th>\n",
       "      <th>Volume</th>\n",
       "    </tr>\n",
       "  </thead>\n",
       "  <tbody>\n",
       "    <tr>\n",
       "      <th>0</th>\n",
       "      <td>44.618000</td>\n",
       "      <td>44.481998</td>\n",
       "      <td>11487500</td>\n",
       "    </tr>\n",
       "    <tr>\n",
       "      <th>1</th>\n",
       "      <td>44.574001</td>\n",
       "      <td>43.862000</td>\n",
       "      <td>23822000</td>\n",
       "    </tr>\n",
       "    <tr>\n",
       "      <th>2</th>\n",
       "      <td>42.910000</td>\n",
       "      <td>42.018002</td>\n",
       "      <td>26842500</td>\n",
       "    </tr>\n",
       "    <tr>\n",
       "      <th>3</th>\n",
       "      <td>42.012001</td>\n",
       "      <td>42.256001</td>\n",
       "      <td>31309500</td>\n",
       "    </tr>\n",
       "    <tr>\n",
       "      <th>4</th>\n",
       "      <td>42.669998</td>\n",
       "      <td>42.189999</td>\n",
       "      <td>14842000</td>\n",
       "    </tr>\n",
       "  </tbody>\n",
       "</table>\n",
       "</div>"
      ],
      "text/plain": [
       "        Open      Close    Volume\n",
       "0  44.618000  44.481998  11487500\n",
       "1  44.574001  43.862000  23822000\n",
       "2  42.910000  42.018002  26842500\n",
       "3  42.012001  42.256001  31309500\n",
       "4  42.669998  42.189999  14842000"
      ]
     },
     "metadata": {},
     "output_type": "display_data"
    }
   ],
   "source": [
    "import math\n",
    "import pandas as pd\n",
    "import numpy as np\n",
    "from IPython.display import display\n",
    "from sklearn import linear_model\n",
    "from sklearn.model_selection import train_test_split\n",
    "from sklearn.metrics import mean_squared_error\n",
    "from sklearn.model_selection import TimeSeriesSplit\n",
    "\n",
    "import visualize as vs\n",
    "\n",
    "\n",
    "data = pd.read_csv('tesla_preprocessed.csv')\n",
    "display(data.head())"
   ]
  },
  {
   "cell_type": "markdown",
   "id": "7c911eef",
   "metadata": {},
   "source": [
    "#  Regression model  "
   ]
  },
  {
   "cell_type": "code",
   "execution_count": 96,
   "id": "84a56633",
   "metadata": {},
   "outputs": [
    {
     "ename": "ImportError",
     "evalue": "cannot import name 'download_potlyjs' from 'plotly.offline' (C:\\Users\\netta\\AppData\\Local\\Packages\\PythonSoftwareFoundation.Python.3.10_qbz5n2kfra8p0\\LocalCache\\local-packages\\Python310\\site-packages\\plotly\\offline\\__init__.py)",
     "output_type": "error",
     "traceback": [
      "\u001b[1;31m---------------------------------------------------------------------------\u001b[0m",
      "\u001b[1;31mImportError\u001b[0m                               Traceback (most recent call last)",
      "\u001b[1;32mc:\\Users\\netta\\OneDrive\\Documents\\GitHub\\stock-predictor\\StockPredictor.ipynb Cell 22'\u001b[0m in \u001b[0;36m<cell line: 37>\u001b[1;34m()\u001b[0m\n\u001b[0;32m     <a href='vscode-notebook-cell:/c%3A/Users/netta/OneDrive/Documents/GitHub/stock-predictor/StockPredictor.ipynb#ch0000021?line=34'>35</a>\u001b[0m \u001b[39mimport\u001b[39;00m \u001b[39mplotly\u001b[39;00m\u001b[39m.\u001b[39;00m\u001b[39mgraph_objs\u001b[39;00m \u001b[39mas\u001b[39;00m \u001b[39mgo\u001b[39;00m\n\u001b[0;32m     <a href='vscode-notebook-cell:/c%3A/Users/netta/OneDrive/Documents/GitHub/stock-predictor/StockPredictor.ipynb#ch0000021?line=35'>36</a>\u001b[0m \u001b[39mfrom\u001b[39;00m \u001b[39mplotly\u001b[39;00m\u001b[39m.\u001b[39;00m\u001b[39moffline\u001b[39;00m \u001b[39mimport\u001b[39;00m plot\n\u001b[1;32m---> <a href='vscode-notebook-cell:/c%3A/Users/netta/OneDrive/Documents/GitHub/stock-predictor/StockPredictor.ipynb#ch0000021?line=36'>37</a>\u001b[0m \u001b[39mfrom\u001b[39;00m \u001b[39mplotly\u001b[39;00m\u001b[39m.\u001b[39;00m\u001b[39moffline\u001b[39;00m \u001b[39mimport\u001b[39;00m download_potlyjs,init_notebook_mode,plot,iplot\n\u001b[0;32m     <a href='vscode-notebook-cell:/c%3A/Users/netta/OneDrive/Documents/GitHub/stock-predictor/StockPredictor.ipynb#ch0000021?line=37'>38</a>\u001b[0m init_notebook_mode(connected\u001b[39m=\u001b[39m\u001b[39mTrue\u001b[39;00m)\n\u001b[0;32m     <a href='vscode-notebook-cell:/c%3A/Users/netta/OneDrive/Documents/GitHub/stock-predictor/StockPredictor.ipynb#ch0000021?line=39'>40</a>\u001b[0m trace0\u001b[39m=\u001b[39m go\u001b[39m.\u001b[39mScatter(\n\u001b[0;32m     <a href='vscode-notebook-cell:/c%3A/Users/netta/OneDrive/Documents/GitHub/stock-predictor/StockPredictor.ipynb#ch0000021?line=40'>41</a>\u001b[0m       x\u001b[39m=\u001b[39mX_train\u001b[39m.\u001b[39mT[\u001b[39m0\u001b[39m],\n\u001b[0;32m     <a href='vscode-notebook-cell:/c%3A/Users/netta/OneDrive/Documents/GitHub/stock-predictor/StockPredictor.ipynb#ch0000021?line=41'>42</a>\u001b[0m       y\u001b[39m=\u001b[39my_train,\n\u001b[0;32m     <a href='vscode-notebook-cell:/c%3A/Users/netta/OneDrive/Documents/GitHub/stock-predictor/StockPredictor.ipynb#ch0000021?line=42'>43</a>\u001b[0m       mode\u001b[39m=\u001b[39m\u001b[39m'\u001b[39m\u001b[39mmarkers\u001b[39m\u001b[39m'\u001b[39m,\n\u001b[0;32m     <a href='vscode-notebook-cell:/c%3A/Users/netta/OneDrive/Documents/GitHub/stock-predictor/StockPredictor.ipynb#ch0000021?line=43'>44</a>\u001b[0m       name\u001b[39m=\u001b[39m\u001b[39m'\u001b[39m\u001b[39mActual\u001b[39m\u001b[39m'\u001b[39m\n\u001b[0;32m     <a href='vscode-notebook-cell:/c%3A/Users/netta/OneDrive/Documents/GitHub/stock-predictor/StockPredictor.ipynb#ch0000021?line=44'>45</a>\u001b[0m )\n",
      "\u001b[1;31mImportError\u001b[0m: cannot import name 'download_potlyjs' from 'plotly.offline' (C:\\Users\\netta\\AppData\\Local\\Packages\\PythonSoftwareFoundation.Python.3.10_qbz5n2kfra8p0\\LocalCache\\local-packages\\Python310\\site-packages\\plotly\\offline\\__init__.py)"
     ]
    }
   ],
   "source": [
    "#building regression model\n",
    "from sklearn.model_selection import train_test_split\n",
    "#For preprocessing\n",
    "from sklearn.preprocessing import MinMaxScaler\n",
    "from sklearn.preprocessing import StandardScaler\n",
    "#For model evaluation\n",
    "from sklearn.metrics import mean_squared_error as mse\n",
    "from sklearn.metrics import r2_score\n",
    "\n",
    "X=np.array(data.index).reshape(-1,1)\n",
    "Y=data['Close']\n",
    "\n",
    "\n",
    "X_train, X_test, y_train, y_test= train_test_split(X,Y,test_size=0.3,random_state=101)\n",
    "\n",
    "#print(\"x_train\", X_train.shape)\n",
    "#print(\"y_train\", y_train.shape)\n",
    "#print(\"x_test\", X_test.shape)\n",
    "#print(\"y_test\", y_test.shape)\n",
    "\n",
    "\n",
    "\n",
    "#feature scaling\n",
    "scaler=StandardScaler().fit(X_train)\n",
    "\n",
    "\n",
    "from sklearn.linear_model import LinearRegression\n",
    "#creating linear model\n",
    "lm=LinearRegression()\n",
    "lm.fit(X_train,y_train)\n",
    "\n",
    "#plot actual and predicted values for train dataset\n",
    "from plotly.graph_objects import layout\n",
    "import chart_studio.plotly as py\n",
    "import plotly.graph_objs as go\n",
    "from plotly.offline import plot\n",
    "from plotly.offline import download_potlyjs,init_notebook_mode,plot,iplot\n",
    "init_notebook_mode(connected=True)\n",
    "\n",
    "trace0= go.Scatter(\n",
    "      x=X_train.T[0],\n",
    "      y=y_train,\n",
    "      mode='markers',\n",
    "      name='Actual'\n",
    ")\n",
    "\n",
    "trace1=go.Scatter(\n",
    "    x=X_train.T[0],\n",
    "    y=lm.predict(X_train).T,\n",
    "    mode='lines',name='Predicted'\n",
    "\n",
    ")\n",
    "\n",
    "tesla_data=[trace0,trace1]\n",
    "layout.xaxis.title.text='Day'\n",
    "plot2=go.Figure(data=tesla_data,layout=layout)\n",
    "\n",
    "iplot(plot2)\n",
    "\n",
    "\n",
    "\n",
    "\n",
    "\n",
    "\n",
    "\n",
    "\n",
    "\n",
    "\n"
   ]
  },
  {
   "cell_type": "code",
   "execution_count": 97,
   "id": "aba10001",
   "metadata": {},
   "outputs": [
    {
     "name": "stdout",
     "output_type": "stream",
     "text": [
      "\n",
      "Metric            Train                Test        \n",
      "r2_score  0.549857615956233\t0.47140402290973704\n",
      "MSE       33396.479994498324\t35683.42279816926\n",
      "\n"
     ]
    }
   ],
   "source": [
    "#Caclualte scores for model evaluation\n",
    "scores=f'''\n",
    "{'Metric'.ljust(10)} {'Train'.center(20)}{'Test'.center(20)}\n",
    "{'r2_score'.ljust(10)}{r2_score(y_train,lm.predict(X_train))}\\t{r2_score(y_test,lm.predict(X_test))}\n",
    "{'MSE'.ljust(10)}{mse(y_train,lm.predict(X_train))}\\t{mse(y_test,lm.predict(X_test))}\n",
    "'''\n",
    "\n",
    "print(scores)\n",
    "\n",
    "\n",
    "\n",
    "\n"
   ]
  },
  {
   "cell_type": "code",
   "execution_count": null,
   "id": "bfd4454a",
   "metadata": {},
   "outputs": [],
   "source": []
  }
 ],
 "metadata": {
  "interpreter": {
   "hash": "c6aa14a00b40555ac2a7fd5e270a9e688c0b41109db1bfd5a6ad978481b675eb"
  },
  "kernelspec": {
   "display_name": "Python 3.10.4 64-bit (windows store)",
   "language": "python",
   "name": "python3"
  },
  "language_info": {
   "codemirror_mode": {
    "name": "ipython",
    "version": 3
   },
   "file_extension": ".py",
   "mimetype": "text/x-python",
   "name": "python",
   "nbconvert_exporter": "python",
   "pygments_lexer": "ipython3",
   "version": "3.10.4"
  }
 },
 "nbformat": 4,
 "nbformat_minor": 5
}
