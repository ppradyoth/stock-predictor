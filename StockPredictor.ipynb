{
 "cells": [
  {
   "cell_type": "markdown",
   "id": "023290fc",
   "metadata": {},
   "source": [
    "# Industry Driven Elective"
   ]
  },
  {
   "cell_type": "markdown",
   "id": "2e586b7e",
   "metadata": {},
   "source": [
    "## Artificial Intelligence and Machine Learning (IS6E106) offered by Nokia"
   ]
  },
  {
   "cell_type": "markdown",
   "id": "bd651cfb",
   "metadata": {},
   "source": [
    "### Project: Stock Price Prediction"
   ]
  },
  {
   "cell_type": "markdown",
   "id": "57a15b79",
   "metadata": {},
   "source": [
    "The challenge of this project is to accurately predict the future closing value of a given stock across a given period of time in the future."
   ]
  },
  {
   "cell_type": "code",
   "execution_count": 28,
   "id": "2bb7823a",
   "metadata": {},
   "outputs": [],
   "source": [
    "# prerequisite installation\n",
    "#!pip3 install yfinance\n",
    "#!pip3 install matplotlib\n",
    "#!pip3 install numpy\n",
    "#!pip3 install pandas\n",
    "#!pip3 install visualize"
   ]
  },
  {
   "cell_type": "markdown",
   "id": "03494a73",
   "metadata": {},
   "source": [
    "## Retrieving the data"
   ]
  },
  {
   "cell_type": "code",
   "execution_count": 40,
   "id": "f22f8444",
   "metadata": {},
   "outputs": [],
   "source": [
    "import datetime\n",
    "import yfinance as yf\n",
    "import matplotlib.pyplot as plt"
   ]
  },
  {
   "cell_type": "code",
   "execution_count": 42,
   "id": "e1ef9423",
   "metadata": {},
   "outputs": [
    {
     "name": "stdout",
     "output_type": "stream",
     "text": [
      "[*********************100%***********************]  1 of 1 completed\n"
     ]
    }
   ],
   "source": [
    "data = yf.download('TSLA','2015-01-01','2022-01-01')"
   ]
  },
  {
   "cell_type": "code",
   "execution_count": 43,
   "id": "e32aaf2c",
   "metadata": {},
   "outputs": [
    {
     "data": {
      "image/png": "[encoded data removed]",
      "text/plain": [
       "<Figure size 432x288 with 1 Axes>"
      ]
     },
     "metadata": {
      "needs_background": "light"
     },
     "output_type": "display_data"
    }
   ],
   "source": [
    "data[\"Adj Close\"].plot()\n",
    "plt.show()"
   ]
  },
  {
   "cell_type": "code",
   "execution_count": 44,
   "id": "bfc5bdce",
   "metadata": {},
   "outputs": [],
   "source": [
    "df_max_scaled = data.copy()\n",
    "column = 'Adj Close'\n",
    "df_max_scaled[column] = (df_max_scaled[column] /df_max_scaled[column].abs().max())*100"
   ]
  },
  {
   "cell_type": "code",
   "execution_count": 45,
   "id": "5e643ef0",
   "metadata": {},
   "outputs": [
    {
     "data": {
      "image/png": "[encoded data removed]",
      "text/plain": [
       "<Figure size 432x288 with 1 Axes>"
      ]
     },
     "metadata": {
      "needs_background": "light"
     },
     "output_type": "display_data"
    }
   ],
   "source": [
    "df_max_scaled[\"Adj Close\"].plot()\n",
    "plt.show()"
   ]
  },
  {
   "cell_type": "markdown",
   "id": "5bc303e3",
   "metadata": {},
   "source": [
    "## Normalising the data"
   ]
  },
  {
   "cell_type": "code",
   "execution_count": 47,
   "id": "95199368",
   "metadata": {},
   "outputs": [],
   "source": [
    "import pandas as pd\n",
    "import numpy as np"
   ]
  },
  {
   "cell_type": "code",
   "execution_count": 48,
   "id": "6f670727",
   "metadata": {},
   "outputs": [
    {
     "name": "stdout",
     "output_type": "stream",
     "text": [
      "        Open       High        Low      Close  Adj Close    Volume\n",
      "0  44.618000  45.136002  44.450001  44.481998  44.481998  11487500\n",
      "1  44.574001  44.650002  42.652000  43.862000  43.862000  23822000\n",
      "2  42.910000  43.299999  41.431999  42.018002  42.018002  26842500\n",
      "3  42.012001  42.840000  40.841999  42.256001  42.256001  31309500\n",
      "4  42.669998  42.956001  41.956001  42.189999  42.189999  14842000\n",
      "\n",
      "\n",
      "Open   --- mean : 191.2357847771677   \t Std:  268.57589583959066   \t Max:  1234.4100341796875   \t Min:  28.464000701904297\n",
      "High   --- mean : 195.3130371651682   \t Std:  274.4522511077426   \t Max:  1243.489990234375   \t Min:  30.99399948120117\n",
      "Low    --- mean : 186.9265443083921   \t Std:  262.2841396234461   \t Max:  1217.0   \t Min:  28.209999084472656\n",
      "Close  --- mean : 191.40155297558323   \t Std:  268.83513567701107   \t Max:  1229.9100341796875   \t Min:  28.733999252319336\n",
      "Volume --- mean : 38275839.51247165   \t Std:  28152650.760726396   \t Max:  304694000   \t Min:  3540000\n"
     ]
    }
   ],
   "source": [
    "data = pd.read_csv('tesla.csv')\n",
    "print(data.head())\n",
    "\n",
    "print(\"\\n\")\n",
    "print(\"Open   --- mean :\", np.mean(data['Open']),  \"  \\t Std: \", np.std(data['Open']),  \"  \\t Max: \", np.max(data['Open']),  \"  \\t Min: \", np.min(data['Open']))\n",
    "print(\"High   --- mean :\", np.mean(data['High']),  \"  \\t Std: \", np.std(data['High']),  \"  \\t Max: \", np.max(data['High']),  \"  \\t Min: \", np.min(data['High']))\n",
    "print(\"Low    --- mean :\", np.mean(data['Low']),   \"  \\t Std: \", np.std(data['Low']),   \"  \\t Max: \", np.max(data['Low']),   \"  \\t Min: \", np.min(data['Low']))\n",
    "print(\"Close  --- mean :\", np.mean(data['Close']), \"  \\t Std: \", np.std(data['Close']), \"  \\t Max: \", np.max(data['Close']), \"  \\t Min: \", np.min(data['Close']))\n",
    "print(\"Volume --- mean :\", np.mean(data['Volume']),\"  \\t Std: \", np.std(data['Volume']),\"  \\t Max: \", np.max(data['Volume']),\"  \\t Min: \", np.min(data['Volume']))"
   ]
  },
  {
   "cell_type": "code",
   "execution_count": 64,
   "id": "7326a420",
   "metadata": {},
   "outputs": [],
   "source": [
    "data1=data"
   ]
  },
  {
   "cell_type": "code",
   "execution_count": 65,
   "id": "028caa49",
   "metadata": {},
   "outputs": [
    {
     "name": "stdout",
     "output_type": "stream",
     "text": [
      "        Open        Low      Close  Adj Close    Volume\n",
      "0  44.618000  44.450001  44.481998  44.481998  11487500\n",
      "1  44.574001  42.652000  43.862000  43.862000  23822000\n",
      "2  42.910000  41.431999  42.018002  42.018002  26842500\n",
      "3  42.012001  40.841999  42.256001  42.256001  31309500\n",
      "4  42.669998  41.956001  42.189999  42.189999  14842000\n",
      "---\n",
      "             Open          Low        Close    Adj Close    Volume\n",
      "1759  1073.670044  1070.719971  1093.939941  1093.939941  23715300\n",
      "1760  1109.489990  1078.420044  1088.469971  1088.469971  20108000\n",
      "1761  1098.640015  1064.140015  1086.189941  1086.189941  18718000\n",
      "1762  1061.329956  1053.150024  1070.339966  1070.339966  15680300\n",
      "1763  1073.439941  1054.589966  1056.780029  1056.780029  13577900\n"
     ]
    }
   ],
   "source": [
    "data.pop('High')\n",
    "#Print the dataframe head and tail\n",
    "print(data.head())\n",
    "print(\"---\")\n",
    "print(data.tail())"
   ]
  },
  {
   "cell_type": "code",
   "execution_count": 66,
   "id": "3f584fe1",
   "metadata": {},
   "outputs": [
    {
     "name": "stdout",
     "output_type": "stream",
     "text": [
      "        Open      Close  Adj Close    Volume\n",
      "0  44.618000  44.481998  44.481998  11487500\n",
      "1  44.574001  43.862000  43.862000  23822000\n",
      "2  42.910000  42.018002  42.018002  26842500\n",
      "3  42.012001  42.256001  42.256001  31309500\n",
      "4  42.669998  42.189999  42.189999  14842000\n",
      "---\n",
      "             Open        Close    Adj Close    Volume\n",
      "1759  1073.670044  1093.939941  1093.939941  23715300\n",
      "1760  1109.489990  1088.469971  1088.469971  20108000\n",
      "1761  1098.640015  1086.189941  1086.189941  18718000\n",
      "1762  1061.329956  1070.339966  1070.339966  15680300\n",
      "1763  1073.439941  1056.780029  1056.780029  13577900\n"
     ]
    }
   ],
   "source": [
    "data.pop('Low')\n",
    "#Print the dataframe head and tail\n",
    "print(data.head())\n",
    "print(\"---\")\n",
    "print(data.tail())"
   ]
  },
  {
   "cell_type": "code",
   "execution_count": 38,
   "id": "883b8238",
   "metadata": {},
   "outputs": [
    {
     "name": "stdout",
     "output_type": "stream",
     "text": [
      "                 Open       High        Low      Close    Volume\n",
      "Date                                                            \n",
      "2014-12-31  44.618000  45.136002  44.450001  44.481998  11487500\n",
      "2015-01-02  44.574001  44.650002  42.652000  43.862000  23822000\n",
      "2015-01-05  42.910000  43.299999  41.431999  42.018002  26842500\n",
      "2015-01-06  42.012001  42.840000  40.841999  42.256001  31309500\n",
      "2015-01-07  42.669998  42.956001  41.956001  42.189999  14842000\n",
      "---\n",
      "                   Open         High          Low        Close    Volume\n",
      "Date                                                                    \n",
      "2021-12-27  1073.670044  1117.000000  1070.719971  1093.939941  23715300\n",
      "2021-12-28  1109.489990  1119.000000  1078.420044  1088.469971  20108000\n",
      "2021-12-29  1098.640015  1104.000000  1064.140015  1086.189941  18718000\n",
      "2021-12-30  1061.329956  1095.550049  1053.150024  1070.339966  15680300\n",
      "2021-12-31  1073.439941  1082.000000  1054.589966  1056.780029  13577900\n"
     ]
    }
   ],
   "source": [
    "data.pop('Adj Close')\n",
    "#Print the dataframe head and tail\n",
    "print(data.head())\n",
    "print(\"---\")\n",
    "print(data.tail())"
   ]
  },
  {
   "cell_type": "code",
   "execution_count": 56,
   "id": "fdcd9b3c",
   "metadata": {},
   "outputs": [
    {
     "data": {
      "image/png": "[encoded data removed]",
      "text/plain": [
       "<Figure size 432x288 with 1 Axes>"
      ]
     },
     "metadata": {
      "needs_background": "light"
     },
     "output_type": "display_data"
    }
   ],
   "source": [
    "data[\"Open\"].plot()\n",
    "data[\"Close\"].plot()\n",
    "data[\"High\"].plot()\n",
    "data[\"Low\"].plot()\n",
    "plt.legend()\n",
    "plt.show()"
   ]
  }
 ],
 "metadata": {
  "interpreter": {
   "hash": "e37e7d159c6cc95772cbc32303f78803e9172746377e1c14e7df5171d628489b"
  },
  "kernelspec": {
   "display_name": "Python 3 (ipykernel)",
   "language": "python",
   "name": "python3"
  },
  "language_info": {
   "codemirror_mode": {
    "name": "ipython",
    "version": 3
   },
   "file_extension": ".py",
   "mimetype": "text/x-python",
   "name": "python",
   "nbconvert_exporter": "python",
   "pygments_lexer": "ipython3",
   "version": "3.9.0"
  }
 },
 "nbformat": 4,
 "nbformat_minor": 5
}
