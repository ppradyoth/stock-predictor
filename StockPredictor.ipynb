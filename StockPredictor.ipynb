{
 "cells": [
  {
   "cell_type": "markdown",
   "id": "023290fc",
   "metadata": {},
   "source": [
    "# Industry Driven Elective"
   ]
  },
  {
   "cell_type": "markdown",
   "id": "2e586b7e",
   "metadata": {},
   "source": [
    "## Artificial Intelligence and Machine Learning (IS6E106) offered by Nokia"
   ]
  },
  {
   "cell_type": "markdown",
   "id": "bd651cfb",
   "metadata": {},
   "source": [
    "### Project: Stock Price Prediction"
   ]
  },
  {
   "cell_type": "markdown",
   "id": "57a15b79",
   "metadata": {},
   "source": [
    "The challenge of this project is to accurately predict the future closing value of a given stock across a given period of time in the future."
   ]
  },
  {
   "cell_type": "markdown",
   "id": "e1970be7",
   "metadata": {},
   "source": [
    "# Introduction\n",
    "\n",
    "\n",
    "<br></br>\n",
    "We explore a Machine Learning algorithm called Recurrent Neural Network (RNN), it's a common Deep Learning technique used for continuous data pattern recognition. Recurrent Neural Network take into account how data changes over time, it's typically used for time-series data (stock prices, sensor readings, etc). Recurrent Neural Network can also be used for video analysis.\n",
    "\n",
    "\n",
    "<br></br>\n",
    "Suppose you are provided with a dataset consisting of stock prices for Google Inc, used to train a model and predict future stock prices as shown below.\n",
    "\n",
    "\n",
    "<br></br>\n",
    "<div align=\"center\"><img src=\"https://raw.githubusercontent.com/AMoazeni/Machine-Learning-Stock-Market-Prediction/master/Jupyter%20Notebook/Images/01%20-%20Google%20Stock%20Price%20Prediction.png\" alt=\"Google-Stock\"></div>\n",
    "\n",
    "\n",
    "<br></br>\n",
    "For improved predictions, you can train this model on stock price data for more companies in the same sector, region, subsidiaries, etc. Sentiment analysis of the web, news, and social media may also be useful in your predictions. The open-source developer Sentdex has created a really useful tool for [S&P 500 Sentiment Analysis](http://sentdex.com/financial-analysis/).\n",
    "\n",
    "\n",
    "<br></br>\n",
    "<br></br>\n",
    "\n",
    "# Recurrent Neural Networks\n",
    "\n",
    "<br></br>\n",
    "As we try to model Machine Learning to behave like brains, weights represent long-term memory in the Temporal Lobe. Recognition of patterns and images is done by the Occipital Lobe which works similar to Convolution Neural Networks. Recurrent Neural Networks are like short-term memory which remembers recent memory and can create context similar to the Frontal Lobe. The Parietal Lobe is responsible for spacial recognition like Botlzman Machines. Recurrent Neural Networks connect neurons to themselves through time, creating a feedback loop that preserves short-term and long-term memory awareness.\n",
    "\n",
    "<br></br>\n",
    "<div align=\"center\"><img src=\"https://raw.githubusercontent.com/AMoazeni/Machine-Learning-Stock-Market-Prediction/master/Jupyter%20Notebook/Images/02%20-%20Brain%20Diagram.png\" width=\"400\" alt=\"Brain\"></div>\n",
    "\n",
    "\n",
    "<br></br>\n",
    "The following diagram represents the old-school way to describe RNNs, which shows a Feedback Loop (temporal loop) structure that connects hidden layers to themselves and the output layer which gives them a short-term memory.\n",
    "\n",
    "\n",
    "### Compact Form Representation\n",
    "\n",
    "<br></br>\n",
    "<div align=\"center\"><img src=\"https://raw.githubusercontent.com/AMoazeni/Machine-Learning-Stock-Market-Prediction/master/Jupyter%20Notebook/Images/03%20-%20Old%20RNN%20Representation.png\" alt=\"RNN\"></div>\n",
    "\n",
    "\n",
    "\n",
    "### Expanded Form Representation\n",
    "\n",
    "<br></br>\n",
    "<div align=\"center\"><img src=\"https://raw.githubusercontent.com/AMoazeni/Machine-Learning-Stock-Market-Prediction/master/Jupyter%20Notebook/Images/04%20-%20Expanded%20%20RNN%20Representation.png\" width=\"400\" alt=\"RNN-2\"></div>\n",
    "\n",
    "\n",
    "<br></br>\n",
    "A more modern representation shows the following RNN types and use examples: \n",
    "\n",
    "1. One-To-Many: Computer description of an image. CNN used to classify images and then RNN used to make sense of images and generate context.\n",
    "\n",
    "2. Many-To-One: Sentiment Analysis of text (gague the positivity or negativity of text)\n",
    "\n",
    "3. Many-to-Many: Google translate of language who's vocabulary changes based on the gender of the subject. Also subtitling of a movie.\n",
    "\n",
    "\n",
    "<br></br>\n",
    "<div align=\"center\"><img src=\"https://raw.githubusercontent.com/AMoazeni/Machine-Learning-Stock-Market-Prediction/master/Jupyter%20Notebook/Images/05%20-%20RNN%20Examples.png\" width=\"600\" alt=\"RNN-Example\"></div>\n",
    "\n",
    "\n",
    "<br></br>\n",
    "Check out Andrej Karpathy's Blog (Director of AI at Tesla) on [Github](http://karpathy.github.io/) and [Medium](https://medium.com/@karpathy/).\n",
    "\n",
    "\n",
    "<br></br>\n",
    "Here is the movie script writen by an AI trained with an LSTM Recurrent Neural Network: [Sunspring by Benjamin the Artificial Intelligence](https://www.youtube.com/watch?v=LY7x2Ihqjmc).\n",
    "\n",
    "\n",
    "\n",
    "<br></br>\n",
    "<br></br>\n",
    "\n",
    "# RNN Gradient Problem (Expanding or Vanishing)\n",
    "\n",
    "<br></br>\n",
    "The gradient is used to update the weights in an RNN by looking back a certain number of user defined steps. The lower the gradient, the harder it is to update the weights (vanishing gradient) of nodes further back in time. Especially because previous layers are used as inputs for future layers. This means old neurons are training much slower that more current neurons. It's like a domino effect.\n",
    "\n",
    "<br></br>\n",
    "<div align=\"center\"><img src=\"https://raw.githubusercontent.com/AMoazeni/Machine-Learning-Stock-Market-Prediction/master/Jupyter%20Notebook/Images/06%20-%20RNN%20Vanish%20Gradient.png\" alt=\"RNN-Vanishing\"></div>\n",
    "\n",
    "\n",
    "\n",
    "<br></br>\n",
    "<br></br>\n",
    "\n",
    "# Expanding Gradient Solutions\n",
    "\n",
    "\n",
    "### 1. Truncated Back-propagation\n",
    "Stop back-propagation after a certain point (not an optimal because not updating all the weights). Better than doing nothing which can produce an irrelevant network.\n",
    "\n",
    "\n",
    "### 2. Penalties\n",
    "The gradient can be penalized and artificially reduced.\n",
    "\n",
    "\n",
    "### 3. Gradient Clipping\n",
    "A maximum limit for the gradient which stops it from rising more.\n",
    "\n",
    "\n",
    "\n",
    "<br></br>\n",
    "<br></br>\n",
    "\n",
    "# Vanishing Gradient Solutions\n",
    "\n",
    "### 1. Weight Initialization\n",
    "You can be smart about how you initialize weights to minimize the vanishing gradient problem.\n",
    "\n",
    "\n",
    "### 2. Echo State Network\n",
    "Designed to solve vanishing gradient problem. It's a recurrent neural network with a sparsely connected hidden layer (with typically 1% connectivity). The connectivity and weights of hidden neurons are fixed and randomly assigned.\n",
    "\n",
    "\n",
    "### 3. Long Short-Term Memory Networks (LSTM)\n",
    "Most popular RNN structure to tackle this problem.\n",
    "\n",
    "\n",
    "\n",
    "<br></br>\n",
    "<br></br>\n",
    "\n",
    "# LSTM\n",
    "\n",
    "<br></br>\n",
    "When the weight of an RNN gradient 'W_rec' is less than 1 we get Vanishing Gradient, when 'W_rec' is more than 1 we get Expanding Gradient, thus we can set 'W_rec = 1'.\n",
    "\n",
    "\n",
    "<br></br>\n",
    "<div align=\"center\"><img src=\"https://raw.githubusercontent.com/AMoazeni/Machine-Learning-Stock-Market-Prediction/master/Jupyter%20Notebook/Images/07%20-%20LSTM.png\" alt=\"LSTM\"></div>\n",
    "\n",
    "\n",
    "<br></br>\n",
    "- Circles represent Layers (Vectors).\n",
    "\n",
    "- 'C' represents Memory Cells Layers.\n",
    "\n",
    "- 'h' represents Output Layers (Hidden States).\n",
    "\n",
    "- 'X' represents Input Layers.\n",
    "\n",
    "- Lines represent values being transferred.\n",
    "\n",
    "- Concatenated lines represent pipelines running in parallel.\n",
    "\n",
    "- Forks are when Data is copied.\n",
    "\n",
    "- Pointwise Element-by-Element Operation (X) represents valves (from left-to-right: Forget Valve, Memory Valve, Output Valve).\n",
    "\n",
    "- Valves can be open, closed or partially open as decided by an Activation Function.\n",
    "\n",
    "- Pointwise Element-by-Element Operation (+) represent a Tee pipe joint, allowing stuff through if the corresponding valve is activated.\n",
    "\n",
    "- Pointwise Element-by-Element Operation (Tanh) Tangent function that outputs (values between -1 to 1).\n",
    "\n",
    "- Sigma Layer Operation Sigmoid Activation Function (values from 0 to 1).\n",
    "\n",
    "\n",
    "<br></br>\n",
    "<div align=\"center\"><img src=\"https://raw.githubusercontent.com/AMoazeni/Machine-Learning-Stock-Market-Prediction/master/Jupyter%20Notebook/Images/08%20-%20LSTM%20Cell.png\" alt=\"LSTM-Cell\"></div>\n",
    "\n",
    "\n",
    "\n",
    "<br></br>\n",
    "<br></br>\n",
    "\n",
    "# LSTM Step 1\n",
    "\n",
    "New Value 'X_t' and value from previous node 'h_t-1' decide if the forget valve should be opened or closed (Sigmoid).\n",
    "\n",
    "<div align=\"center\"><img src=\"https://raw.githubusercontent.com/AMoazeni/Machine-Learning-Stock-Market-Prediction/master/Jupyter%20Notebook/Images/09%20-%20LSTM%20Step%201.png\" width=\"600\" alt=\"LSTM-Step-1\"></div>\n",
    "\n",
    "\n",
    "\n",
    "<br></br>\n",
    "<br></br>\n",
    "\n",
    "# LSTM Step 2\n",
    "\n",
    "New Value 'X_t' and value from Previous Node 'h_t-1'. Together they decide if the memory valve should be opened or closed (Sigmoid). To what extent to let values through (Tanh from -1 to 1).\n",
    "\n",
    "<div align=\"center\"><img src=\"https://raw.githubusercontent.com/AMoazeni/Machine-Learning-Stock-Market-Prediction/master/Jupyter%20Notebook/Images/10%20-%20LSTM%20Step%202.png\" width=\"600\" alt=\"LSTM-Step-2\"></div>\n",
    "\n",
    "\n",
    "\n",
    "<br></br>\n",
    "<br></br>\n",
    "\n",
    "# LSTM Step 3\n",
    "\n",
    "Decide the extent to which a memory cell 'C_t' should be updated from the previous memory cell 'C_t-1'. Forget and memory valves used to decide this. You can update memory completely, not at all or only partially.\n",
    "\n",
    "<div align=\"center\"><img src=\"https://raw.githubusercontent.com/AMoazeni/Machine-Learning-Stock-Market-Prediction/master/Jupyter%20Notebook/Images/11%20-%20LSTM%20Step%203.png\" width=\"600\" alt=\"LSTM-Step-3\"></div>\n",
    "\n",
    "\n",
    "\n",
    "<br></br>\n",
    "<br></br>\n",
    "\n",
    "# LSTM Step 4\n",
    "\n",
    "New value 'X_t' and value from previous node 'h_t-1' decides which part of the memory pipeline, and to what extent they will be used as an Output 'h_t'.\n",
    "\n",
    "<div align=\"center\"><img src=\"https://raw.githubusercontent.com/AMoazeni/Machine-Learning-Stock-Market-Prediction/master/Jupyter%20Notebook/Images/12%20-%20LSTM%20Step%204.png\" width=\"600\" alt=\"LSTM-Step-4\"></div>\n",
    "\n",
    "\n",
    "\n",
    "<br></br>\n",
    "<br></br>\n",
    "\n",
    "# LSTM Variation 1 (Add Peep holes)\n",
    "\n",
    "Sigmoid layer activation functions now have additional information about the current state of the Memory Cell. So valve decisions are made, taking into account memory cell state.\n",
    "\n",
    "<div align=\"center\"><img src=\"https://raw.githubusercontent.com/AMoazeni/Machine-Learning-Stock-Market-Prediction/master/Jupyter%20Notebook/Images/13%20-%20LSTM%20Var%201.png\" width=\"600\" alt=\"LSTM-Var-1\"></div>\n",
    "\n",
    "\n",
    "\n",
    "<br></br>\n",
    "<br></br>\n",
    "\n",
    "# LSTM Variation 2 (Connect Forget & Memory Valves)\n",
    "\n",
    "Forget and memory valves can make a combined decision. They're connected with a '-1' multiplier so one opens when the other closes.\n",
    "\n",
    "<div align=\"center\"><img src=\"https://raw.githubusercontent.com/AMoazeni/Machine-Learning-Stock-Market-Prediction/master/Jupyter%20Notebook/Images/14%20-%20LSTM%20Var%202.png\" width=\"600\" alt=\"LSTM-Var-2\"></div>\n",
    "\n",
    "\n",
    "\n",
    "<br></br>\n",
    "<br></br>\n",
    "\n",
    "# LSTM Variation 3 (GRU: Gated Recurring Units)\n",
    "\n",
    "The memory pipeline is replaced by the hidden pipeline. Simpler but less flexible in terms of how many things are being monitored and controlled.\n",
    "\n",
    "<div align=\"center\"><img src=\"https://raw.githubusercontent.com/AMoazeni/Machine-Learning-Stock-Market-Prediction/master/Jupyter%20Notebook/Images/15%20-%20LSTM%20Var%203.png\" width=\"600\" alt=\"LSTM-Var-3\"></div>\n",
    "\n",
    "\n",
    "\n",
    "\n",
    "<br></br>\n",
    "<br></br>\n",
    "<br></br>\n",
    "<br></br>\n"
   ]
  },
  {
   "cell_type": "code",
   "execution_count": 1,
   "id": "2bb7823a",
   "metadata": {},
   "outputs": [],
   "source": [
    "# prerequisite installation\n",
    "#!pip3 install yfinance\n",
    "#!pip3 install matplotlib\n",
    "#!pip3 install numpy\n",
    "#!pip3 install pandas\n",
    "#!pip3 install visualize"
   ]
  },
  {
   "cell_type": "markdown",
   "id": "03494a73",
   "metadata": {},
   "source": [
    "## Retrieving the data"
   ]
  },
  {
   "cell_type": "code",
   "execution_count": 2,
   "id": "e1ef9423",
   "metadata": {},
   "outputs": [
    {
     "name": "stdout",
     "output_type": "stream",
     "text": [
      "[*********************100%***********************]  1 of 1 completed\n"
     ]
    },
    {
     "data": {
      "image/png": "[encoded data removed]",
      "text/plain": [
       "<Figure size 432x288 with 1 Axes>"
      ]
     },
     "metadata": {
      "needs_background": "light"
     },
     "output_type": "display_data"
    }
   ],
   "source": [
    "import datetime\n",
    "import yfinance as yf\n",
    "import matplotlib.pyplot as plt\n",
    "data = yf.download('TSLA','2015-01-01','2022-01-01')\n",
    "data[\"Adj Close\"].plot()\n",
    "plt.show()"
   ]
  },
  {
   "cell_type": "code",
   "execution_count": 3,
   "id": "a80d2709",
   "metadata": {},
   "outputs": [],
   "source": [
    "data.to_csv('tesla.csv',index = False)"
   ]
  },
  {
   "cell_type": "markdown",
   "id": "5bc303e3",
   "metadata": {},
   "source": [
    "## Normalising the data"
   ]
  },
  {
   "cell_type": "code",
   "execution_count": 4,
   "id": "6f670727",
   "metadata": {},
   "outputs": [
    {
     "name": "stdout",
     "output_type": "stream",
     "text": [
      "        Open       High        Low      Close  Adj Close    Volume\n",
      "0  44.618000  45.136002  44.450001  44.481998  44.481998  11487500\n",
      "1  44.574001  44.650002  42.652000  43.862000  43.862000  23822000\n",
      "2  42.910000  43.299999  41.431999  42.018002  42.018002  26842500\n",
      "3  42.012001  42.840000  40.841999  42.256001  42.256001  31309500\n",
      "4  42.669998  42.956001  41.956001  42.189999  42.189999  14842000\n",
      "\n",
      "\n",
      "Open   --- mean : 191.2357847771677   \t Std:  268.57589583959066   \t Max:  1234.4100341796875   \t Min:  28.464000701904297\n",
      "High   --- mean : 195.3130371651682   \t Std:  274.4522511077426   \t Max:  1243.489990234375   \t Min:  30.99399948120117\n",
      "Low    --- mean : 186.9265443083921   \t Std:  262.2841396234461   \t Max:  1217.0   \t Min:  28.209999084472656\n",
      "Close  --- mean : 191.40155297558323   \t Std:  268.83513567701107   \t Max:  1229.9100341796875   \t Min:  28.733999252319336\n",
      "Volume --- mean : 38275839.51247165   \t Std:  28152650.760726396   \t Max:  304694000   \t Min:  3540000\n"
     ]
    }
   ],
   "source": [
    "import pandas as pd\n",
    "import numpy as np\n",
    "\n",
    "data = pd.read_csv('tesla.csv')\n",
    "print(data.head())\n",
    "\n",
    "print(\"\\n\")\n",
    "print(\"Open   --- mean :\", np.mean(data['Open']),  \"  \\t Std: \", np.std(data['Open']),  \"  \\t Max: \", np.max(data['Open']),  \"  \\t Min: \", np.min(data['Open']))\n",
    "print(\"High   --- mean :\", np.mean(data['High']),  \"  \\t Std: \", np.std(data['High']),  \"  \\t Max: \", np.max(data['High']),  \"  \\t Min: \", np.min(data['High']))\n",
    "print(\"Low    --- mean :\", np.mean(data['Low']),   \"  \\t Std: \", np.std(data['Low']),   \"  \\t Max: \", np.max(data['Low']),   \"  \\t Min: \", np.min(data['Low']))\n",
    "print(\"Close  --- mean :\", np.mean(data['Close']), \"  \\t Std: \", np.std(data['Close']), \"  \\t Max: \", np.max(data['Close']), \"  \\t Min: \", np.min(data['Close']))\n",
    "print(\"Volume --- mean :\", np.mean(data['Volume']),\"  \\t Std: \", np.std(data['Volume']),\"  \\t Max: \", np.max(data['Volume']),\"  \\t Min: \", np.min(data['Volume']))"
   ]
  },
  {
   "cell_type": "code",
   "execution_count": 5,
   "id": "7326a420",
   "metadata": {},
   "outputs": [],
   "source": [
    "data1=data"
   ]
  },
  {
   "cell_type": "code",
   "execution_count": 6,
   "id": "028caa49",
   "metadata": {},
   "outputs": [
    {
     "name": "stdout",
     "output_type": "stream",
     "text": [
      "        Open        Low      Close  Adj Close    Volume\n",
      "0  44.618000  44.450001  44.481998  44.481998  11487500\n",
      "1  44.574001  42.652000  43.862000  43.862000  23822000\n",
      "2  42.910000  41.431999  42.018002  42.018002  26842500\n",
      "3  42.012001  40.841999  42.256001  42.256001  31309500\n",
      "4  42.669998  41.956001  42.189999  42.189999  14842000\n",
      "---\n",
      "             Open          Low        Close    Adj Close    Volume\n",
      "1759  1073.670044  1070.719971  1093.939941  1093.939941  23715300\n",
      "1760  1109.489990  1078.420044  1088.469971  1088.469971  20108000\n",
      "1761  1098.640015  1064.140015  1086.189941  1086.189941  18718000\n",
      "1762  1061.329956  1053.150024  1070.339966  1070.339966  15680300\n",
      "1763  1073.439941  1054.589966  1056.780029  1056.780029  13577900\n"
     ]
    }
   ],
   "source": [
    "data.pop('High')\n",
    "#Print the dataframe head and tail\n",
    "print(data.head())\n",
    "print(\"---\")\n",
    "print(data.tail())"
   ]
  },
  {
   "cell_type": "code",
   "execution_count": 7,
   "id": "3f584fe1",
   "metadata": {},
   "outputs": [
    {
     "name": "stdout",
     "output_type": "stream",
     "text": [
      "        Open      Close  Adj Close    Volume\n",
      "0  44.618000  44.481998  44.481998  11487500\n",
      "1  44.574001  43.862000  43.862000  23822000\n",
      "2  42.910000  42.018002  42.018002  26842500\n",
      "3  42.012001  42.256001  42.256001  31309500\n",
      "4  42.669998  42.189999  42.189999  14842000\n",
      "---\n",
      "             Open        Close    Adj Close    Volume\n",
      "1759  1073.670044  1093.939941  1093.939941  23715300\n",
      "1760  1109.489990  1088.469971  1088.469971  20108000\n",
      "1761  1098.640015  1086.189941  1086.189941  18718000\n",
      "1762  1061.329956  1070.339966  1070.339966  15680300\n",
      "1763  1073.439941  1056.780029  1056.780029  13577900\n"
     ]
    }
   ],
   "source": [
    "data.pop('Low')\n",
    "#Print the dataframe head and tail\n",
    "print(data.head())\n",
    "print(\"---\")\n",
    "print(data.tail())"
   ]
  },
  {
   "cell_type": "code",
   "execution_count": 8,
   "id": "883b8238",
   "metadata": {},
   "outputs": [
    {
     "name": "stdout",
     "output_type": "stream",
     "text": [
      "        Open      Close    Volume\n",
      "0  44.618000  44.481998  11487500\n",
      "1  44.574001  43.862000  23822000\n",
      "2  42.910000  42.018002  26842500\n",
      "3  42.012001  42.256001  31309500\n",
      "4  42.669998  42.189999  14842000\n",
      "---\n",
      "             Open        Close    Volume\n",
      "1759  1073.670044  1093.939941  23715300\n",
      "1760  1109.489990  1088.469971  20108000\n",
      "1761  1098.640015  1086.189941  18718000\n",
      "1762  1061.329956  1070.339966  15680300\n",
      "1763  1073.439941  1056.780029  13577900\n"
     ]
    }
   ],
   "source": [
    "data.pop('Adj Close')\n",
    "#Print the dataframe head and tail\n",
    "print(data.head())\n",
    "print(\"---\")\n",
    "print(data.tail())"
   ]
  },
  {
   "cell_type": "code",
   "execution_count": 9,
   "id": "fdcd9b3c",
   "metadata": {},
   "outputs": [
    {
     "data": {
      "text/plain": [
       "<AxesSubplot:>"
      ]
     },
     "execution_count": 9,
     "metadata": {},
     "output_type": "execute_result"
    },
    {
     "data": {
      "image/png": "[encoded data removed]",
      "text/plain": [
       "<Figure size 432x288 with 1 Axes>"
      ]
     },
     "metadata": {
      "needs_background": "light"
     },
     "output_type": "display_data"
    }
   ],
   "source": [
    "import matplotlib.pyplot as plt\n",
    "data.plot()"
   ]
  },
  {
   "cell_type": "markdown",
   "id": "4cb2282e",
   "metadata": {},
   "source": [
    "# Normalize the data retrieved"
   ]
  },
  {
   "cell_type": "code",
   "execution_count": 10,
   "id": "f7a1ae27",
   "metadata": {},
   "outputs": [
    {
     "name": "stdout",
     "output_type": "stream",
     "text": [
      "        Open      Close    Volume\n",
      "0  44.618000  44.481998  11487500\n",
      "1  44.574001  43.862000  23822000\n",
      "2  42.910000  42.018002  26842500\n",
      "3  42.012001  42.256001  31309500\n",
      "4  42.669998  42.189999  14842000\n",
      "\n",
      "\n",
      "Open   --- mean : 191.2357847771677  \t Std:  268.57589583959066   Max:  1234.4100341796875  \t Min:  28.464000701904297\n",
      "Close  --- mean : 191.40155297558323  \t Std:  268.83513567701107   Max:  1229.9100341796875  \t Min:  28.733999252319336\n",
      "Volume --- mean : 38275839.51247165  \t Std:  28152650.760726396   Max:  304694000  \t Min:  3540000\n"
     ]
    }
   ],
   "source": [
    "from sklearn import preprocessing\n",
    "preprocessing.normalize(data)\n",
    "print(data.head())\n",
    "print(\"\\n\")\n",
    "print(\"Open   --- mean :\", np.mean(data['Open']),  \" \\t Std: \", np.std(data['Open']),  \"  Max: \", np.max(data['Open']),  \" \\t Min: \", np.min(data['Open']))\n",
    "print(\"Close  --- mean :\", np.mean(data['Close']), \" \\t Std: \", np.std(data['Close']), \"  Max: \", np.max(data['Close']), \" \\t Min: \", np.min(data['Close']))\n",
    "print(\"Volume --- mean :\", np.mean(data['Volume']),\" \\t Std: \", np.std(data['Volume']),\"  Max: \", np.max(data['Volume']),\" \\t Min: \", np.min(data['Volume']))"
   ]
  },
  {
   "cell_type": "code",
   "execution_count": 11,
   "id": "6b6b9797",
   "metadata": {},
   "outputs": [],
   "source": [
    "#Log the normalised data for future resuablilty\n",
    "data.to_csv('tesla_preprocessed.csv',index= False)"
   ]
  },
  {
   "cell_type": "markdown",
   "id": "f1979d8f",
   "metadata": {},
   "source": [
    "# #Checkpoint 2:Benchmark Model"
   ]
  },
  {
   "cell_type": "code",
   "execution_count": 12,
   "id": "5cec361b",
   "metadata": {},
   "outputs": [
    {
     "data": {
      "text/html": [
       "<div>\n",
       "<style scoped>\n",
       "    .dataframe tbody tr th:only-of-type {\n",
       "        vertical-align: middle;\n",
       "    }\n",
       "\n",
       "    .dataframe tbody tr th {\n",
       "        vertical-align: top;\n",
       "    }\n",
       "\n",
       "    .dataframe thead th {\n",
       "        text-align: right;\n",
       "    }\n",
       "</style>\n",
       "<table border=\"1\" class=\"dataframe\">\n",
       "  <thead>\n",
       "    <tr style=\"text-align: right;\">\n",
       "      <th></th>\n",
       "      <th>Open</th>\n",
       "      <th>Close</th>\n",
       "      <th>Volume</th>\n",
       "    </tr>\n",
       "  </thead>\n",
       "  <tbody>\n",
       "    <tr>\n",
       "      <th>0</th>\n",
       "      <td>44.618000</td>\n",
       "      <td>44.481998</td>\n",
       "      <td>11487500</td>\n",
       "    </tr>\n",
       "    <tr>\n",
       "      <th>1</th>\n",
       "      <td>44.574001</td>\n",
       "      <td>43.862000</td>\n",
       "      <td>23822000</td>\n",
       "    </tr>\n",
       "    <tr>\n",
       "      <th>2</th>\n",
       "      <td>42.910000</td>\n",
       "      <td>42.018002</td>\n",
       "      <td>26842500</td>\n",
       "    </tr>\n",
       "    <tr>\n",
       "      <th>3</th>\n",
       "      <td>42.012001</td>\n",
       "      <td>42.256001</td>\n",
       "      <td>31309500</td>\n",
       "    </tr>\n",
       "    <tr>\n",
       "      <th>4</th>\n",
       "      <td>42.669998</td>\n",
       "      <td>42.189999</td>\n",
       "      <td>14842000</td>\n",
       "    </tr>\n",
       "  </tbody>\n",
       "</table>\n",
       "</div>"
      ],
      "text/plain": [
       "        Open      Close    Volume\n",
       "0  44.618000  44.481998  11487500\n",
       "1  44.574001  43.862000  23822000\n",
       "2  42.910000  42.018002  26842500\n",
       "3  42.012001  42.256001  31309500\n",
       "4  42.669998  42.189999  14842000"
      ]
     },
     "metadata": {},
     "output_type": "display_data"
    }
   ],
   "source": [
    "\n",
    "import math\n",
    "import pandas as pd\n",
    "import numpy as np\n",
    "import sklearn\n",
    "from IPython.display import display\n",
    "from sklearn import linear_model\n",
    "from sklearn.model_selection import train_test_split\n",
    "from sklearn.metrics import mean_squared_error\n",
    "from sklearn.model_selection import TimeSeriesSplit\n",
    "from sklearn.linear_model import LinearRegression\n",
    "import visualize as vs\n",
    "\n",
    "\n",
    "data = pd.read_csv('tesla_preprocessed.csv')\n",
    "display(data.head())"
   ]
  },
  {
   "cell_type": "code",
   "execution_count": 13,
   "id": "84a56633",
   "metadata": {},
   "outputs": [
    {
     "name": "stdout",
     "output_type": "stream",
     "text": [
      "x_train (1181, 3)\n",
      "y_train (1181, 3)\n",
      "x_test (583, 3)\n",
      "y_test (583, 3)\n"
     ]
    }
   ],
   "source": [
    "X_train, X_test, y_train, y_test = sklearn.model_selection.train_test_split(data,data, test_size=0.33)\n",
    "\n",
    "print(\"x_train\", X_train.shape)\n",
    "print(\"y_train\", y_train.shape)\n",
    "print(\"x_test\", X_test.shape)\n",
    "print(\"y_test\", y_test.shape)"
   ]
  },
  {
   "cell_type": "code",
   "execution_count": 14,
   "id": "d1dd248a",
   "metadata": {},
   "outputs": [
    {
     "name": "stdout",
     "output_type": "stream",
     "text": [
      "x_train (1234, 1)\n",
      "y_train (1234,)\n",
      "x_test (530, 1)\n",
      "y_test (530,)\n"
     ]
    },
    {
     "data": {
      "text/plain": [
       "LinearRegression()"
      ]
     },
     "execution_count": 14,
     "metadata": {},
     "output_type": "execute_result"
    }
   ],
   "source": [
    "import numpy as np\n",
    "#building regression model\n",
    "from sklearn.model_selection import train_test_split\n",
    "#For preprocessing\n",
    "from sklearn.preprocessing import MinMaxScaler\n",
    "from sklearn.preprocessing import StandardScaler\n",
    "#For model evaluation\n",
    "from sklearn.metrics import mean_squared_error as mse\n",
    "from sklearn.metrics import r2_score\n",
    "\n",
    "X=np.array(data.index).reshape(-1,1)\n",
    "Y=data['Close']\n",
    "\n",
    "\n",
    "X_train, X_test, y_train, y_test= train_test_split(X,Y,test_size=0.3,random_state=101)\n",
    "\n",
    "print(\"x_train\", X_train.shape)\n",
    "print(\"y_train\", y_train.shape)\n",
    "print(\"x_test\", X_test.shape)\n",
    "print(\"y_test\", y_test.shape)\n",
    "\n",
    "\n",
    "\n",
    "#feature scaling\n",
    "scaler=StandardScaler().fit(X_train)\n",
    "\n",
    "\n",
    "from sklearn.linear_model import LinearRegression\n",
    "#creating linear model\n",
    "lm=LinearRegression()\n",
    "lm.fit(X_train,y_train)\n",
    "\n"
   ]
  },
  {
   "cell_type": "code",
   "execution_count": 16,
   "id": "f6ff271d",
   "metadata": {},
   "outputs": [
    {
     "data": {
      "text/html": [
       "        <script type=\"text/javascript\">\n",
       "        window.PlotlyConfig = {MathJaxConfig: 'local'};\n",
       "        if (window.MathJax && window.MathJax.Hub && window.MathJax.Hub.Config) {window.MathJax.Hub.Config({SVG: {font: \"STIX-Web\"}});}\n",
       "        if (typeof require !== 'undefined') {\n",
       "        require.undef(\"plotly\");\n",
       "        requirejs.config({\n",
       "            paths: {\n",
       "                'plotly': ['https://cdn.plot.ly/plotly-2.12.1.min']\n",
       "            }\n",
       "        });\n",
       "        require(['plotly'], function(Plotly) {\n",
       "            window._Plotly = Plotly;\n",
       "        });\n",
       "        }\n",
       "        </script>\n",
       "        "
      ]
     },
     "metadata": {},
     "output_type": "display_data"
    },
    {
     "ename": "ValueError",
     "evalue": "\n    Invalid value of type 'builtins.module' received for the 'layout' property of \n        Received value: <module 'plotly.graph_objs.layout' from 'c:\\\\users\\\\lavaa\\\\appdata\\\\local\\\\programs\\\\python\\\\python37\\\\lib\\\\site-packages\\\\plotly\\\\graph_objs\\\\layout\\\\__init__.py'>\n\n    The 'layout' property is an instance of Layout\n    that may be specified as:\n      - An instance of :class:`plotly.graph_objs.Layout`\n      - A dict of string/value properties that will be passed\n        to the Layout constructor\n\n        Supported dict properties:\n            \n            activeshape\n                :class:`plotly.graph_objects.layout.Activeshape\n                ` instance or dict with compatible properties\n            annotations\n                A tuple of\n                :class:`plotly.graph_objects.layout.Annotation`\n                instances or dicts with compatible properties\n            annotationdefaults\n                When used in a template (as\n                layout.template.layout.annotationdefaults),\n                sets the default property values to use for\n                elements of layout.annotations\n            autosize\n                Determines whether or not a layout width or\n                height that has been left undefined by the user\n                is initialized on each relayout. Note that,\n                regardless of this attribute, an undefined\n                layout width or height is always initialized on\n                the first call to plot.\n            autotypenumbers\n                Using \"strict\" a numeric string in trace data\n                is not converted to a number. Using *convert\n                types* a numeric string in trace data may be\n                treated as a number during automatic axis\n                `type` detection. This is the default value;\n                however it could be overridden for individual\n                axes.\n            bargap\n                Sets the gap (in plot fraction) between bars of\n                adjacent location coordinates.\n            bargroupgap\n                Sets the gap (in plot fraction) between bars of\n                the same location coordinate.\n            barmode\n                Determines how bars at the same location\n                coordinate are displayed on the graph. With\n                \"stack\", the bars are stacked on top of one\n                another With \"relative\", the bars are stacked\n                on top of one another, with negative values\n                below the axis, positive values above With\n                \"group\", the bars are plotted next to one\n                another centered around the shared location.\n                With \"overlay\", the bars are plotted over one\n                another, you might need to an \"opacity\" to see\n                multiple bars.\n            barnorm\n                Sets the normalization for bar traces on the\n                graph. With \"fraction\", the value of each bar\n                is divided by the sum of all values at that\n                location coordinate. \"percent\" is the same but\n                multiplied by 100 to show percentages.\n            boxgap\n                Sets the gap (in plot fraction) between boxes\n                of adjacent location coordinates. Has no effect\n                on traces that have \"width\" set.\n            boxgroupgap\n                Sets the gap (in plot fraction) between boxes\n                of the same location coordinate. Has no effect\n                on traces that have \"width\" set.\n            boxmode\n                Determines how boxes at the same location\n                coordinate are displayed on the graph. If\n                \"group\", the boxes are plotted next to one\n                another centered around the shared location. If\n                \"overlay\", the boxes are plotted over one\n                another, you might need to set \"opacity\" to see\n                them multiple boxes. Has no effect on traces\n                that have \"width\" set.\n            calendar\n                Sets the default calendar system to use for\n                interpreting and displaying dates throughout\n                the plot.\n            clickmode\n                Determines the mode of single click\n                interactions. \"event\" is the default value and\n                emits the `plotly_click` event. In addition\n                this mode emits the `plotly_selected` event in\n                drag modes \"lasso\" and \"select\", but with no\n                event data attached (kept for compatibility\n                reasons). The \"select\" flag enables selecting\n                single data points via click. This mode also\n                supports persistent selections, meaning that\n                pressing Shift while clicking, adds to /\n                subtracts from an existing selection. \"select\"\n                with `hovermode`: \"x\" can be confusing,\n                consider explicitly setting `hovermode`:\n                \"closest\" when using this feature. Selection\n                events are sent accordingly as long as \"event\"\n                flag is set as well. When the \"event\" flag is\n                missing, `plotly_click` and `plotly_selected`\n                events are not fired.\n            coloraxis\n                :class:`plotly.graph_objects.layout.Coloraxis`\n                instance or dict with compatible properties\n            colorscale\n                :class:`plotly.graph_objects.layout.Colorscale`\n                instance or dict with compatible properties\n            colorway\n                Sets the default trace colors.\n            computed\n                Placeholder for exporting automargin-impacting\n                values namely `margin.t`, `margin.b`,\n                `margin.l` and `margin.r` in \"full-json\" mode.\n            datarevision\n                If provided, a changed value tells\n                `Plotly.react` that one or more data arrays has\n                changed. This way you can modify arrays in-\n                place rather than making a complete new copy\n                for an incremental change. If NOT provided,\n                `Plotly.react` assumes that data arrays are\n                being treated as immutable, thus any data array\n                with a different identity from its predecessor\n                contains new data.\n            dragmode\n                Determines the mode of drag interactions.\n                \"select\" and \"lasso\" apply only to scatter\n                traces with markers or text. \"orbit\" and\n                \"turntable\" apply only to 3D scenes.\n            editrevision\n                Controls persistence of user-driven changes in\n                `editable: true` configuration, other than\n                trace names and axis titles. Defaults to\n                `layout.uirevision`.\n            extendfunnelareacolors\n                If `true`, the funnelarea slice colors (whether\n                given by `funnelareacolorway` or inherited from\n                `colorway`) will be extended to three times its\n                original length by first repeating every color\n                20% lighter then each color 20% darker. This is\n                intended to reduce the likelihood of reusing\n                the same color when you have many slices, but\n                you can set `false` to disable. Colors provided\n                in the trace, using `marker.colors`, are never\n                extended.\n            extendiciclecolors\n                If `true`, the icicle slice colors (whether\n                given by `iciclecolorway` or inherited from\n                `colorway`) will be extended to three times its\n                original length by first repeating every color\n                20% lighter then each color 20% darker. This is\n                intended to reduce the likelihood of reusing\n                the same color when you have many slices, but\n                you can set `false` to disable. Colors provided\n                in the trace, using `marker.colors`, are never\n                extended.\n            extendpiecolors\n                If `true`, the pie slice colors (whether given\n                by `piecolorway` or inherited from `colorway`)\n                will be extended to three times its original\n                length by first repeating every color 20%\n                lighter then each color 20% darker. This is\n                intended to reduce the likelihood of reusing\n                the same color when you have many slices, but\n                you can set `false` to disable. Colors provided\n                in the trace, using `marker.colors`, are never\n                extended.\n            extendsunburstcolors\n                If `true`, the sunburst slice colors (whether\n                given by `sunburstcolorway` or inherited from\n                `colorway`) will be extended to three times its\n                original length by first repeating every color\n                20% lighter then each color 20% darker. This is\n                intended to reduce the likelihood of reusing\n                the same color when you have many slices, but\n                you can set `false` to disable. Colors provided\n                in the trace, using `marker.colors`, are never\n                extended.\n            extendtreemapcolors\n                If `true`, the treemap slice colors (whether\n                given by `treemapcolorway` or inherited from\n                `colorway`) will be extended to three times its\n                original length by first repeating every color\n                20% lighter then each color 20% darker. This is\n                intended to reduce the likelihood of reusing\n                the same color when you have many slices, but\n                you can set `false` to disable. Colors provided\n                in the trace, using `marker.colors`, are never\n                extended.\n            font\n                Sets the global font. Note that fonts used in\n                traces and other layout components inherit from\n                the global font.\n            funnelareacolorway\n                Sets the default funnelarea slice colors.\n                Defaults to the main `colorway` used for trace\n                colors. If you specify a new list here it can\n                still be extended with lighter and darker\n                colors, see `extendfunnelareacolors`.\n            funnelgap\n                Sets the gap (in plot fraction) between bars of\n                adjacent location coordinates.\n            funnelgroupgap\n                Sets the gap (in plot fraction) between bars of\n                the same location coordinate.\n            funnelmode\n                Determines how bars at the same location\n                coordinate are displayed on the graph. With\n                \"stack\", the bars are stacked on top of one\n                another With \"group\", the bars are plotted next\n                to one another centered around the shared\n                location. With \"overlay\", the bars are plotted\n                over one another, you might need to an\n                \"opacity\" to see multiple bars.\n            geo\n                :class:`plotly.graph_objects.layout.Geo`\n                instance or dict with compatible properties\n            grid\n                :class:`plotly.graph_objects.layout.Grid`\n                instance or dict with compatible properties\n            height\n                Sets the plot's height (in px).\n            hiddenlabels\n                hiddenlabels is the funnelarea & pie chart\n                analog of visible:'legendonly' but it can\n                contain many labels, and can simultaneously\n                hide slices from several pies/funnelarea charts\n            hiddenlabelssrc\n                Sets the source reference on Chart Studio Cloud\n                for `hiddenlabels`.\n            hidesources\n                Determines whether or not a text link citing\n                the data source is placed at the bottom-right\n                cored of the figure. Has only an effect only on\n                graphs that have been generated via forked\n                graphs from the Chart Studio Cloud (at\n                https://chart-studio.plotly.com or on-premise).\n            hoverdistance\n                Sets the default distance (in pixels) to look\n                for data to add hover labels (-1 means no\n                cutoff, 0 means no looking for data). This is\n                only a real distance for hovering on point-like\n                objects, like scatter points. For area-like\n                objects (bars, scatter fills, etc) hovering is\n                on inside the area and off outside, but these\n                objects will not supersede hover on point-like\n                objects in case of conflict.\n            hoverlabel\n                :class:`plotly.graph_objects.layout.Hoverlabel`\n                instance or dict with compatible properties\n            hovermode\n                Determines the mode of hover interactions. If\n                \"closest\", a single hoverlabel will appear for\n                the \"closest\" point within the `hoverdistance`.\n                If \"x\" (or \"y\"), multiple hoverlabels will\n                appear for multiple points at the \"closest\" x-\n                (or y-) coordinate within the `hoverdistance`,\n                with the caveat that no more than one\n                hoverlabel will appear per trace. If *x\n                unified* (or *y unified*), a single hoverlabel\n                will appear multiple points at the closest x-\n                (or y-) coordinate within the `hoverdistance`\n                with the caveat that no more than one\n                hoverlabel will appear per trace. In this mode,\n                spikelines are enabled by default perpendicular\n                to the specified axis. If false, hover\n                interactions are disabled.\n            iciclecolorway\n                Sets the default icicle slice colors. Defaults\n                to the main `colorway` used for trace colors.\n                If you specify a new list here it can still be\n                extended with lighter and darker colors, see\n                `extendiciclecolors`.\n            images\n                A tuple of\n                :class:`plotly.graph_objects.layout.Image`\n                instances or dicts with compatible properties\n            imagedefaults\n                When used in a template (as\n                layout.template.layout.imagedefaults), sets the\n                default property values to use for elements of\n                layout.images\n            legend\n                :class:`plotly.graph_objects.layout.Legend`\n                instance or dict with compatible properties\n            mapbox\n                :class:`plotly.graph_objects.layout.Mapbox`\n                instance or dict with compatible properties\n            margin\n                :class:`plotly.graph_objects.layout.Margin`\n                instance or dict with compatible properties\n            meta\n                Assigns extra meta information that can be used\n                in various `text` attributes. Attributes such\n                as the graph, axis and colorbar `title.text`,\n                annotation `text` `trace.name` in legend items,\n                `rangeselector`, `updatemenus` and `sliders`\n                `label` text all support `meta`. One can access\n                `meta` fields using template strings:\n                `%{meta[i]}` where `i` is the index of the\n                `meta` item in question. `meta` can also be an\n                object for example `{key: value}` which can be\n                accessed %{meta[key]}.\n            metasrc\n                Sets the source reference on Chart Studio Cloud\n                for `meta`.\n            modebar\n                :class:`plotly.graph_objects.layout.Modebar`\n                instance or dict with compatible properties\n            newshape\n                :class:`plotly.graph_objects.layout.Newshape`\n                instance or dict with compatible properties\n            paper_bgcolor\n                Sets the background color of the paper where\n                the graph is drawn.\n            piecolorway\n                Sets the default pie slice colors. Defaults to\n                the main `colorway` used for trace colors. If\n                you specify a new list here it can still be\n                extended with lighter and darker colors, see\n                `extendpiecolors`.\n            plot_bgcolor\n                Sets the background color of the plotting area\n                in-between x and y axes.\n            polar\n                :class:`plotly.graph_objects.layout.Polar`\n                instance or dict with compatible properties\n            scene\n                :class:`plotly.graph_objects.layout.Scene`\n                instance or dict with compatible properties\n            selectdirection\n                When `dragmode` is set to \"select\", this limits\n                the selection of the drag to horizontal,\n                vertical or diagonal. \"h\" only allows\n                horizontal selection, \"v\" only vertical, \"d\"\n                only diagonal and \"any\" sets no limit.\n            selectionrevision\n                Controls persistence of user-driven changes in\n                selected points from all traces.\n            separators\n                Sets the decimal and thousand separators. For\n                example, *. * puts a '.' before decimals and a\n                space between thousands. In English locales,\n                dflt is \".,\" but other locales may alter this\n                default.\n            shapes\n                A tuple of\n                :class:`plotly.graph_objects.layout.Shape`\n                instances or dicts with compatible properties\n            shapedefaults\n                When used in a template (as\n                layout.template.layout.shapedefaults), sets the\n                default property values to use for elements of\n                layout.shapes\n            showlegend\n                Determines whether or not a legend is drawn.\n                Default is `true` if there is a trace to show\n                and any of these: a) Two or more traces would\n                by default be shown in the legend. b) One pie\n                trace is shown in the legend. c) One trace is\n                explicitly given with `showlegend: true`.\n            sliders\n                A tuple of\n                :class:`plotly.graph_objects.layout.Slider`\n                instances or dicts with compatible properties\n            sliderdefaults\n                When used in a template (as\n                layout.template.layout.sliderdefaults), sets\n                the default property values to use for elements\n                of layout.sliders\n            smith\n                :class:`plotly.graph_objects.layout.Smith`\n                instance or dict with compatible properties\n            spikedistance\n                Sets the default distance (in pixels) to look\n                for data to draw spikelines to (-1 means no\n                cutoff, 0 means no looking for data). As with\n                hoverdistance, distance does not apply to area-\n                like objects. In addition, some objects can be\n                hovered on but will not generate spikelines,\n                such as scatter fills.\n            sunburstcolorway\n                Sets the default sunburst slice colors.\n                Defaults to the main `colorway` used for trace\n                colors. If you specify a new list here it can\n                still be extended with lighter and darker\n                colors, see `extendsunburstcolors`.\n            template\n                Default attributes to be applied to the plot.\n                This should be a dict with format: `{'layout':\n                layoutTemplate, 'data': {trace_type:\n                [traceTemplate, ...], ...}}` where\n                `layoutTemplate` is a dict matching the\n                structure of `figure.layout` and\n                `traceTemplate` is a dict matching the\n                structure of the trace with type `trace_type`\n                (e.g. 'scatter'). Alternatively, this may be\n                specified as an instance of\n                plotly.graph_objs.layout.Template.  Trace\n                templates are applied cyclically to traces of\n                each type. Container arrays (eg `annotations`)\n                have special handling: An object ending in\n                `defaults` (eg `annotationdefaults`) is applied\n                to each array item. But if an item has a\n                `templateitemname` key we look in the template\n                array for an item with matching `name` and\n                apply that instead. If no matching `name` is\n                found we mark the item invisible. Any named\n                template item not referenced is appended to the\n                end of the array, so this can be used to add a\n                watermark annotation or a logo image, for\n                example. To omit one of these items on the\n                plot, make an item with matching\n                `templateitemname` and `visible: false`.\n            ternary\n                :class:`plotly.graph_objects.layout.Ternary`\n                instance or dict with compatible properties\n            title\n                :class:`plotly.graph_objects.layout.Title`\n                instance or dict with compatible properties\n            titlefont\n                Deprecated: Please use layout.title.font\n                instead. Sets the title font. Note that the\n                title's font used to be customized by the now\n                deprecated `titlefont` attribute.\n            transition\n                Sets transition options used during\n                Plotly.react updates.\n            treemapcolorway\n                Sets the default treemap slice colors. Defaults\n                to the main `colorway` used for trace colors.\n                If you specify a new list here it can still be\n                extended with lighter and darker colors, see\n                `extendtreemapcolors`.\n            uirevision\n                Used to allow user interactions with the plot\n                to persist after `Plotly.react` calls that are\n                unaware of these interactions. If `uirevision`\n                is omitted, or if it is given and it changed\n                from the previous `Plotly.react` call, the\n                exact new figure is used. If `uirevision` is\n                truthy and did NOT change, any attribute that\n                has been affected by user interactions and did\n                not receive a different value in the new figure\n                will keep the interaction value.\n                `layout.uirevision` attribute serves as the\n                default for `uirevision` attributes in various\n                sub-containers. For finer control you can set\n                these sub-attributes directly. For example, if\n                your app separately controls the data on the x\n                and y axes you might set\n                `xaxis.uirevision=*time*` and\n                `yaxis.uirevision=*cost*`. Then if only the y\n                data is changed, you can update\n                `yaxis.uirevision=*quantity*` and the y axis\n                range will reset but the x axis range will\n                retain any user-driven zoom.\n            uniformtext\n                :class:`plotly.graph_objects.layout.Uniformtext\n                ` instance or dict with compatible properties\n            updatemenus\n                A tuple of\n                :class:`plotly.graph_objects.layout.Updatemenu`\n                instances or dicts with compatible properties\n            updatemenudefaults\n                When used in a template (as\n                layout.template.layout.updatemenudefaults),\n                sets the default property values to use for\n                elements of layout.updatemenus\n            violingap\n                Sets the gap (in plot fraction) between violins\n                of adjacent location coordinates. Has no effect\n                on traces that have \"width\" set.\n            violingroupgap\n                Sets the gap (in plot fraction) between violins\n                of the same location coordinate. Has no effect\n                on traces that have \"width\" set.\n            violinmode\n                Determines how violins at the same location\n                coordinate are displayed on the graph. If\n                \"group\", the violins are plotted next to one\n                another centered around the shared location. If\n                \"overlay\", the violins are plotted over one\n                another, you might need to set \"opacity\" to see\n                them multiple violins. Has no effect on traces\n                that have \"width\" set.\n            waterfallgap\n                Sets the gap (in plot fraction) between bars of\n                adjacent location coordinates.\n            waterfallgroupgap\n                Sets the gap (in plot fraction) between bars of\n                the same location coordinate.\n            waterfallmode\n                Determines how bars at the same location\n                coordinate are displayed on the graph. With\n                \"group\", the bars are plotted next to one\n                another centered around the shared location.\n                With \"overlay\", the bars are plotted over one\n                another, you might need to an \"opacity\" to see\n                multiple bars.\n            width\n                Sets the plot's width (in px).\n            xaxis\n                :class:`plotly.graph_objects.layout.XAxis`\n                instance or dict with compatible properties\n            yaxis\n                :class:`plotly.graph_objects.layout.YAxis`\n                instance or dict with compatible properties\n",
     "output_type": "error",
     "traceback": [
      "\u001b[1;31m---------------------------------------------------------------------------\u001b[0m",
      "\u001b[1;31mValueError\u001b[0m                                Traceback (most recent call last)",
      "\u001b[1;32m~\\AppData\\Local\\Temp\\ipykernel_12504\\2009428929.py\u001b[0m in \u001b[0;36m<module>\u001b[1;34m\u001b[0m\n\u001b[0;32m     23\u001b[0m \u001b[0mtesla_data\u001b[0m\u001b[1;33m=\u001b[0m\u001b[1;33m[\u001b[0m\u001b[0mtrace0\u001b[0m\u001b[1;33m,\u001b[0m\u001b[0mtrace1\u001b[0m\u001b[1;33m]\u001b[0m\u001b[1;33m\u001b[0m\u001b[1;33m\u001b[0m\u001b[0m\n\u001b[0;32m     24\u001b[0m \u001b[0mlayout\u001b[0m\u001b[1;33m.\u001b[0m\u001b[0mxaxis\u001b[0m\u001b[1;33m.\u001b[0m\u001b[0mtitle\u001b[0m\u001b[1;33m.\u001b[0m\u001b[0mtext\u001b[0m\u001b[1;33m=\u001b[0m\u001b[1;34m'Day'\u001b[0m\u001b[1;33m\u001b[0m\u001b[1;33m\u001b[0m\u001b[0m\n\u001b[1;32m---> 25\u001b[1;33m \u001b[0mplot2\u001b[0m\u001b[1;33m=\u001b[0m\u001b[0mgo\u001b[0m\u001b[1;33m.\u001b[0m\u001b[0mFigure\u001b[0m\u001b[1;33m(\u001b[0m\u001b[0mdata\u001b[0m\u001b[1;33m=\u001b[0m\u001b[0mtesla_data\u001b[0m\u001b[1;33m,\u001b[0m\u001b[0mlayout\u001b[0m\u001b[1;33m=\u001b[0m\u001b[0mlayout\u001b[0m\u001b[1;33m)\u001b[0m\u001b[1;33m\u001b[0m\u001b[1;33m\u001b[0m\u001b[0m\n\u001b[0m\u001b[0;32m     26\u001b[0m \u001b[1;33m\u001b[0m\u001b[0m\n\u001b[0;32m     27\u001b[0m \u001b[0miplot\u001b[0m\u001b[1;33m(\u001b[0m\u001b[0mplot2\u001b[0m\u001b[1;33m)\u001b[0m\u001b[1;33m\u001b[0m\u001b[1;33m\u001b[0m\u001b[0m\n",
      "\u001b[1;32mc:\\users\\lavaa\\appdata\\local\\programs\\python\\python37\\lib\\site-packages\\plotly\\graph_objs\\_figure.py\u001b[0m in \u001b[0;36m__init__\u001b[1;34m(self, data, layout, frames, skip_invalid, **kwargs)\u001b[0m\n\u001b[0;32m    592\u001b[0m             \u001b[1;32mis\u001b[0m \u001b[0minvalid\u001b[0m \u001b[0mAND\u001b[0m \u001b[0mskip_invalid\u001b[0m \u001b[1;32mis\u001b[0m \u001b[1;32mFalse\u001b[0m\u001b[1;33m\u001b[0m\u001b[1;33m\u001b[0m\u001b[0m\n\u001b[0;32m    593\u001b[0m         \"\"\"\n\u001b[1;32m--> 594\u001b[1;33m         \u001b[0msuper\u001b[0m\u001b[1;33m(\u001b[0m\u001b[0mFigure\u001b[0m\u001b[1;33m,\u001b[0m \u001b[0mself\u001b[0m\u001b[1;33m)\u001b[0m\u001b[1;33m.\u001b[0m\u001b[0m__init__\u001b[0m\u001b[1;33m(\u001b[0m\u001b[0mdata\u001b[0m\u001b[1;33m,\u001b[0m \u001b[0mlayout\u001b[0m\u001b[1;33m,\u001b[0m \u001b[0mframes\u001b[0m\u001b[1;33m,\u001b[0m \u001b[0mskip_invalid\u001b[0m\u001b[1;33m,\u001b[0m \u001b[1;33m**\u001b[0m\u001b[0mkwargs\u001b[0m\u001b[1;33m)\u001b[0m\u001b[1;33m\u001b[0m\u001b[1;33m\u001b[0m\u001b[0m\n\u001b[0m\u001b[0;32m    595\u001b[0m \u001b[1;33m\u001b[0m\u001b[0m\n\u001b[0;32m    596\u001b[0m     \u001b[1;32mdef\u001b[0m \u001b[0mupdate\u001b[0m\u001b[1;33m(\u001b[0m\u001b[0mself\u001b[0m\u001b[1;33m,\u001b[0m \u001b[0mdict1\u001b[0m\u001b[1;33m=\u001b[0m\u001b[1;32mNone\u001b[0m\u001b[1;33m,\u001b[0m \u001b[0moverwrite\u001b[0m\u001b[1;33m=\u001b[0m\u001b[1;32mFalse\u001b[0m\u001b[1;33m,\u001b[0m \u001b[1;33m**\u001b[0m\u001b[0mkwargs\u001b[0m\u001b[1;33m)\u001b[0m \u001b[1;33m->\u001b[0m \u001b[1;34m\"Figure\"\u001b[0m\u001b[1;33m:\u001b[0m\u001b[1;33m\u001b[0m\u001b[1;33m\u001b[0m\u001b[0m\n",
      "\u001b[1;32mc:\\users\\lavaa\\appdata\\local\\programs\\python\\python37\\lib\\site-packages\\plotly\\basedatatypes.py\u001b[0m in \u001b[0;36m__init__\u001b[1;34m(self, data, layout_plotly, frames, skip_invalid, **kwargs)\u001b[0m\n\u001b[0;32m    556\u001b[0m         \u001b[1;31m# ### Import Layout ###\u001b[0m\u001b[1;33m\u001b[0m\u001b[1;33m\u001b[0m\u001b[1;33m\u001b[0m\u001b[0m\n\u001b[0;32m    557\u001b[0m         self._layout_obj = self._layout_validator.validate_coerce(\n\u001b[1;32m--> 558\u001b[1;33m             \u001b[0mlayout\u001b[0m\u001b[1;33m,\u001b[0m \u001b[0mskip_invalid\u001b[0m\u001b[1;33m=\u001b[0m\u001b[0mskip_invalid\u001b[0m\u001b[1;33m,\u001b[0m \u001b[0m_validate\u001b[0m\u001b[1;33m=\u001b[0m\u001b[0mself\u001b[0m\u001b[1;33m.\u001b[0m\u001b[0m_validate\u001b[0m\u001b[1;33m\u001b[0m\u001b[1;33m\u001b[0m\u001b[0m\n\u001b[0m\u001b[0;32m    559\u001b[0m         )\n\u001b[0;32m    560\u001b[0m \u001b[1;33m\u001b[0m\u001b[0m\n",
      "\u001b[1;32mc:\\users\\lavaa\\appdata\\local\\programs\\python\\python37\\lib\\site-packages\\_plotly_utils\\basevalidators.py\u001b[0m in \u001b[0;36mvalidate_coerce\u001b[1;34m(self, v, skip_invalid, _validate)\u001b[0m\n\u001b[0;32m   2467\u001b[0m                 \u001b[0mv\u001b[0m \u001b[1;33m=\u001b[0m \u001b[0mself\u001b[0m\u001b[1;33m.\u001b[0m\u001b[0mdata_class\u001b[0m\u001b[1;33m(\u001b[0m\u001b[1;33m)\u001b[0m\u001b[1;33m\u001b[0m\u001b[1;33m\u001b[0m\u001b[0m\n\u001b[0;32m   2468\u001b[0m             \u001b[1;32melse\u001b[0m\u001b[1;33m:\u001b[0m\u001b[1;33m\u001b[0m\u001b[1;33m\u001b[0m\u001b[0m\n\u001b[1;32m-> 2469\u001b[1;33m                 \u001b[0mself\u001b[0m\u001b[1;33m.\u001b[0m\u001b[0mraise_invalid_val\u001b[0m\u001b[1;33m(\u001b[0m\u001b[0mv\u001b[0m\u001b[1;33m)\u001b[0m\u001b[1;33m\u001b[0m\u001b[1;33m\u001b[0m\u001b[0m\n\u001b[0m\u001b[0;32m   2470\u001b[0m \u001b[1;33m\u001b[0m\u001b[0m\n\u001b[0;32m   2471\u001b[0m         \u001b[0mv\u001b[0m\u001b[1;33m.\u001b[0m\u001b[0m_plotly_name\u001b[0m \u001b[1;33m=\u001b[0m \u001b[0mself\u001b[0m\u001b[1;33m.\u001b[0m\u001b[0mplotly_name\u001b[0m\u001b[1;33m\u001b[0m\u001b[1;33m\u001b[0m\u001b[0m\n",
      "\u001b[1;32mc:\\users\\lavaa\\appdata\\local\\programs\\python\\python37\\lib\\site-packages\\_plotly_utils\\basevalidators.py\u001b[0m in \u001b[0;36mraise_invalid_val\u001b[1;34m(self, v, inds)\u001b[0m\n\u001b[0;32m    296\u001b[0m                 \u001b[0mtyp\u001b[0m\u001b[1;33m=\u001b[0m\u001b[0mtype_str\u001b[0m\u001b[1;33m(\u001b[0m\u001b[0mv\u001b[0m\u001b[1;33m)\u001b[0m\u001b[1;33m,\u001b[0m\u001b[1;33m\u001b[0m\u001b[1;33m\u001b[0m\u001b[0m\n\u001b[0;32m    297\u001b[0m                 \u001b[0mv\u001b[0m\u001b[1;33m=\u001b[0m\u001b[0mrepr\u001b[0m\u001b[1;33m(\u001b[0m\u001b[0mv\u001b[0m\u001b[1;33m)\u001b[0m\u001b[1;33m,\u001b[0m\u001b[1;33m\u001b[0m\u001b[1;33m\u001b[0m\u001b[0m\n\u001b[1;32m--> 298\u001b[1;33m                 \u001b[0mvalid_clr_desc\u001b[0m\u001b[1;33m=\u001b[0m\u001b[0mself\u001b[0m\u001b[1;33m.\u001b[0m\u001b[0mdescription\u001b[0m\u001b[1;33m(\u001b[0m\u001b[1;33m)\u001b[0m\u001b[1;33m,\u001b[0m\u001b[1;33m\u001b[0m\u001b[1;33m\u001b[0m\u001b[0m\n\u001b[0m\u001b[0;32m    299\u001b[0m             )\n\u001b[0;32m    300\u001b[0m         )\n",
      "\u001b[1;31mValueError\u001b[0m: \n    Invalid value of type 'builtins.module' received for the 'layout' property of \n        Received value: <module 'plotly.graph_objs.layout' from 'c:\\\\users\\\\lavaa\\\\appdata\\\\local\\\\programs\\\\python\\\\python37\\\\lib\\\\site-packages\\\\plotly\\\\graph_objs\\\\layout\\\\__init__.py'>\n\n    The 'layout' property is an instance of Layout\n    that may be specified as:\n      - An instance of :class:`plotly.graph_objs.Layout`\n      - A dict of string/value properties that will be passed\n        to the Layout constructor\n\n        Supported dict properties:\n            \n            activeshape\n                :class:`plotly.graph_objects.layout.Activeshape\n                ` instance or dict with compatible properties\n            annotations\n                A tuple of\n                :class:`plotly.graph_objects.layout.Annotation`\n                instances or dicts with compatible properties\n            annotationdefaults\n                When used in a template (as\n                layout.template.layout.annotationdefaults),\n                sets the default property values to use for\n                elements of layout.annotations\n            autosize\n                Determines whether or not a layout width or\n                height that has been left undefined by the user\n                is initialized on each relayout. Note that,\n                regardless of this attribute, an undefined\n                layout width or height is always initialized on\n                the first call to plot.\n            autotypenumbers\n                Using \"strict\" a numeric string in trace data\n                is not converted to a number. Using *convert\n                types* a numeric string in trace data may be\n                treated as a number during automatic axis\n                `type` detection. This is the default value;\n                however it could be overridden for individual\n                axes.\n            bargap\n                Sets the gap (in plot fraction) between bars of\n                adjacent location coordinates.\n            bargroupgap\n                Sets the gap (in plot fraction) between bars of\n                the same location coordinate.\n            barmode\n                Determines how bars at the same location\n                coordinate are displayed on the graph. With\n                \"stack\", the bars are stacked on top of one\n                another With \"relative\", the bars are stacked\n                on top of one another, with negative values\n                below the axis, positive values above With\n                \"group\", the bars are plotted next to one\n                another centered around the shared location.\n                With \"overlay\", the bars are plotted over one\n                another, you might need to an \"opacity\" to see\n                multiple bars.\n            barnorm\n                Sets the normalization for bar traces on the\n                graph. With \"fraction\", the value of each bar\n                is divided by the sum of all values at that\n                location coordinate. \"percent\" is the same but\n                multiplied by 100 to show percentages.\n            boxgap\n                Sets the gap (in plot fraction) between boxes\n                of adjacent location coordinates. Has no effect\n                on traces that have \"width\" set.\n            boxgroupgap\n                Sets the gap (in plot fraction) between boxes\n                of the same location coordinate. Has no effect\n                on traces that have \"width\" set.\n            boxmode\n                Determines how boxes at the same location\n                coordinate are displayed on the graph. If\n                \"group\", the boxes are plotted next to one\n                another centered around the shared location. If\n                \"overlay\", the boxes are plotted over one\n                another, you might need to set \"opacity\" to see\n                them multiple boxes. Has no effect on traces\n                that have \"width\" set.\n            calendar\n                Sets the default calendar system to use for\n                interpreting and displaying dates throughout\n                the plot.\n            clickmode\n                Determines the mode of single click\n                interactions. \"event\" is the default value and\n                emits the `plotly_click` event. In addition\n                this mode emits the `plotly_selected` event in\n                drag modes \"lasso\" and \"select\", but with no\n                event data attached (kept for compatibility\n                reasons). The \"select\" flag enables selecting\n                single data points via click. This mode also\n                supports persistent selections, meaning that\n                pressing Shift while clicking, adds to /\n                subtracts from an existing selection. \"select\"\n                with `hovermode`: \"x\" can be confusing,\n                consider explicitly setting `hovermode`:\n                \"closest\" when using this feature. Selection\n                events are sent accordingly as long as \"event\"\n                flag is set as well. When the \"event\" flag is\n                missing, `plotly_click` and `plotly_selected`\n                events are not fired.\n            coloraxis\n                :class:`plotly.graph_objects.layout.Coloraxis`\n                instance or dict with compatible properties\n            colorscale\n                :class:`plotly.graph_objects.layout.Colorscale`\n                instance or dict with compatible properties\n            colorway\n                Sets the default trace colors.\n            computed\n                Placeholder for exporting automargin-impacting\n                values namely `margin.t`, `margin.b`,\n                `margin.l` and `margin.r` in \"full-json\" mode.\n            datarevision\n                If provided, a changed value tells\n                `Plotly.react` that one or more data arrays has\n                changed. This way you can modify arrays in-\n                place rather than making a complete new copy\n                for an incremental change. If NOT provided,\n                `Plotly.react` assumes that data arrays are\n                being treated as immutable, thus any data array\n                with a different identity from its predecessor\n                contains new data.\n            dragmode\n                Determines the mode of drag interactions.\n                \"select\" and \"lasso\" apply only to scatter\n                traces with markers or text. \"orbit\" and\n                \"turntable\" apply only to 3D scenes.\n            editrevision\n                Controls persistence of user-driven changes in\n                `editable: true` configuration, other than\n                trace names and axis titles. Defaults to\n                `layout.uirevision`.\n            extendfunnelareacolors\n                If `true`, the funnelarea slice colors (whether\n                given by `funnelareacolorway` or inherited from\n                `colorway`) will be extended to three times its\n                original length by first repeating every color\n                20% lighter then each color 20% darker. This is\n                intended to reduce the likelihood of reusing\n                the same color when you have many slices, but\n                you can set `false` to disable. Colors provided\n                in the trace, using `marker.colors`, are never\n                extended.\n            extendiciclecolors\n                If `true`, the icicle slice colors (whether\n                given by `iciclecolorway` or inherited from\n                `colorway`) will be extended to three times its\n                original length by first repeating every color\n                20% lighter then each color 20% darker. This is\n                intended to reduce the likelihood of reusing\n                the same color when you have many slices, but\n                you can set `false` to disable. Colors provided\n                in the trace, using `marker.colors`, are never\n                extended.\n            extendpiecolors\n                If `true`, the pie slice colors (whether given\n                by `piecolorway` or inherited from `colorway`)\n                will be extended to three times its original\n                length by first repeating every color 20%\n                lighter then each color 20% darker. This is\n                intended to reduce the likelihood of reusing\n                the same color when you have many slices, but\n                you can set `false` to disable. Colors provided\n                in the trace, using `marker.colors`, are never\n                extended.\n            extendsunburstcolors\n                If `true`, the sunburst slice colors (whether\n                given by `sunburstcolorway` or inherited from\n                `colorway`) will be extended to three times its\n                original length by first repeating every color\n                20% lighter then each color 20% darker. This is\n                intended to reduce the likelihood of reusing\n                the same color when you have many slices, but\n                you can set `false` to disable. Colors provided\n                in the trace, using `marker.colors`, are never\n                extended.\n            extendtreemapcolors\n                If `true`, the treemap slice colors (whether\n                given by `treemapcolorway` or inherited from\n                `colorway`) will be extended to three times its\n                original length by first repeating every color\n                20% lighter then each color 20% darker. This is\n                intended to reduce the likelihood of reusing\n                the same color when you have many slices, but\n                you can set `false` to disable. Colors provided\n                in the trace, using `marker.colors`, are never\n                extended.\n            font\n                Sets the global font. Note that fonts used in\n                traces and other layout components inherit from\n                the global font.\n            funnelareacolorway\n                Sets the default funnelarea slice colors.\n                Defaults to the main `colorway` used for trace\n                colors. If you specify a new list here it can\n                still be extended with lighter and darker\n                colors, see `extendfunnelareacolors`.\n            funnelgap\n                Sets the gap (in plot fraction) between bars of\n                adjacent location coordinates.\n            funnelgroupgap\n                Sets the gap (in plot fraction) between bars of\n                the same location coordinate.\n            funnelmode\n                Determines how bars at the same location\n                coordinate are displayed on the graph. With\n                \"stack\", the bars are stacked on top of one\n                another With \"group\", the bars are plotted next\n                to one another centered around the shared\n                location. With \"overlay\", the bars are plotted\n                over one another, you might need to an\n                \"opacity\" to see multiple bars.\n            geo\n                :class:`plotly.graph_objects.layout.Geo`\n                instance or dict with compatible properties\n            grid\n                :class:`plotly.graph_objects.layout.Grid`\n                instance or dict with compatible properties\n            height\n                Sets the plot's height (in px).\n            hiddenlabels\n                hiddenlabels is the funnelarea & pie chart\n                analog of visible:'legendonly' but it can\n                contain many labels, and can simultaneously\n                hide slices from several pies/funnelarea charts\n            hiddenlabelssrc\n                Sets the source reference on Chart Studio Cloud\n                for `hiddenlabels`.\n            hidesources\n                Determines whether or not a text link citing\n                the data source is placed at the bottom-right\n                cored of the figure. Has only an effect only on\n                graphs that have been generated via forked\n                graphs from the Chart Studio Cloud (at\n                https://chart-studio.plotly.com or on-premise).\n            hoverdistance\n                Sets the default distance (in pixels) to look\n                for data to add hover labels (-1 means no\n                cutoff, 0 means no looking for data). This is\n                only a real distance for hovering on point-like\n                objects, like scatter points. For area-like\n                objects (bars, scatter fills, etc) hovering is\n                on inside the area and off outside, but these\n                objects will not supersede hover on point-like\n                objects in case of conflict.\n            hoverlabel\n                :class:`plotly.graph_objects.layout.Hoverlabel`\n                instance or dict with compatible properties\n            hovermode\n                Determines the mode of hover interactions. If\n                \"closest\", a single hoverlabel will appear for\n                the \"closest\" point within the `hoverdistance`.\n                If \"x\" (or \"y\"), multiple hoverlabels will\n                appear for multiple points at the \"closest\" x-\n                (or y-) coordinate within the `hoverdistance`,\n                with the caveat that no more than one\n                hoverlabel will appear per trace. If *x\n                unified* (or *y unified*), a single hoverlabel\n                will appear multiple points at the closest x-\n                (or y-) coordinate within the `hoverdistance`\n                with the caveat that no more than one\n                hoverlabel will appear per trace. In this mode,\n                spikelines are enabled by default perpendicular\n                to the specified axis. If false, hover\n                interactions are disabled.\n            iciclecolorway\n                Sets the default icicle slice colors. Defaults\n                to the main `colorway` used for trace colors.\n                If you specify a new list here it can still be\n                extended with lighter and darker colors, see\n                `extendiciclecolors`.\n            images\n                A tuple of\n                :class:`plotly.graph_objects.layout.Image`\n                instances or dicts with compatible properties\n            imagedefaults\n                When used in a template (as\n                layout.template.layout.imagedefaults), sets the\n                default property values to use for elements of\n                layout.images\n            legend\n                :class:`plotly.graph_objects.layout.Legend`\n                instance or dict with compatible properties\n            mapbox\n                :class:`plotly.graph_objects.layout.Mapbox`\n                instance or dict with compatible properties\n            margin\n                :class:`plotly.graph_objects.layout.Margin`\n                instance or dict with compatible properties\n            meta\n                Assigns extra meta information that can be used\n                in various `text` attributes. Attributes such\n                as the graph, axis and colorbar `title.text`,\n                annotation `text` `trace.name` in legend items,\n                `rangeselector`, `updatemenus` and `sliders`\n                `label` text all support `meta`. One can access\n                `meta` fields using template strings:\n                `%{meta[i]}` where `i` is the index of the\n                `meta` item in question. `meta` can also be an\n                object for example `{key: value}` which can be\n                accessed %{meta[key]}.\n            metasrc\n                Sets the source reference on Chart Studio Cloud\n                for `meta`.\n            modebar\n                :class:`plotly.graph_objects.layout.Modebar`\n                instance or dict with compatible properties\n            newshape\n                :class:`plotly.graph_objects.layout.Newshape`\n                instance or dict with compatible properties\n            paper_bgcolor\n                Sets the background color of the paper where\n                the graph is drawn.\n            piecolorway\n                Sets the default pie slice colors. Defaults to\n                the main `colorway` used for trace colors. If\n                you specify a new list here it can still be\n                extended with lighter and darker colors, see\n                `extendpiecolors`.\n            plot_bgcolor\n                Sets the background color of the plotting area\n                in-between x and y axes.\n            polar\n                :class:`plotly.graph_objects.layout.Polar`\n                instance or dict with compatible properties\n            scene\n                :class:`plotly.graph_objects.layout.Scene`\n                instance or dict with compatible properties\n            selectdirection\n                When `dragmode` is set to \"select\", this limits\n                the selection of the drag to horizontal,\n                vertical or diagonal. \"h\" only allows\n                horizontal selection, \"v\" only vertical, \"d\"\n                only diagonal and \"any\" sets no limit.\n            selectionrevision\n                Controls persistence of user-driven changes in\n                selected points from all traces.\n            separators\n                Sets the decimal and thousand separators. For\n                example, *. * puts a '.' before decimals and a\n                space between thousands. In English locales,\n                dflt is \".,\" but other locales may alter this\n                default.\n            shapes\n                A tuple of\n                :class:`plotly.graph_objects.layout.Shape`\n                instances or dicts with compatible properties\n            shapedefaults\n                When used in a template (as\n                layout.template.layout.shapedefaults), sets the\n                default property values to use for elements of\n                layout.shapes\n            showlegend\n                Determines whether or not a legend is drawn.\n                Default is `true` if there is a trace to show\n                and any of these: a) Two or more traces would\n                by default be shown in the legend. b) One pie\n                trace is shown in the legend. c) One trace is\n                explicitly given with `showlegend: true`.\n            sliders\n                A tuple of\n                :class:`plotly.graph_objects.layout.Slider`\n                instances or dicts with compatible properties\n            sliderdefaults\n                When used in a template (as\n                layout.template.layout.sliderdefaults), sets\n                the default property values to use for elements\n                of layout.sliders\n            smith\n                :class:`plotly.graph_objects.layout.Smith`\n                instance or dict with compatible properties\n            spikedistance\n                Sets the default distance (in pixels) to look\n                for data to draw spikelines to (-1 means no\n                cutoff, 0 means no looking for data). As with\n                hoverdistance, distance does not apply to area-\n                like objects. In addition, some objects can be\n                hovered on but will not generate spikelines,\n                such as scatter fills.\n            sunburstcolorway\n                Sets the default sunburst slice colors.\n                Defaults to the main `colorway` used for trace\n                colors. If you specify a new list here it can\n                still be extended with lighter and darker\n                colors, see `extendsunburstcolors`.\n            template\n                Default attributes to be applied to the plot.\n                This should be a dict with format: `{'layout':\n                layoutTemplate, 'data': {trace_type:\n                [traceTemplate, ...], ...}}` where\n                `layoutTemplate` is a dict matching the\n                structure of `figure.layout` and\n                `traceTemplate` is a dict matching the\n                structure of the trace with type `trace_type`\n                (e.g. 'scatter'). Alternatively, this may be\n                specified as an instance of\n                plotly.graph_objs.layout.Template.  Trace\n                templates are applied cyclically to traces of\n                each type. Container arrays (eg `annotations`)\n                have special handling: An object ending in\n                `defaults` (eg `annotationdefaults`) is applied\n                to each array item. But if an item has a\n                `templateitemname` key we look in the template\n                array for an item with matching `name` and\n                apply that instead. If no matching `name` is\n                found we mark the item invisible. Any named\n                template item not referenced is appended to the\n                end of the array, so this can be used to add a\n                watermark annotation or a logo image, for\n                example. To omit one of these items on the\n                plot, make an item with matching\n                `templateitemname` and `visible: false`.\n            ternary\n                :class:`plotly.graph_objects.layout.Ternary`\n                instance or dict with compatible properties\n            title\n                :class:`plotly.graph_objects.layout.Title`\n                instance or dict with compatible properties\n            titlefont\n                Deprecated: Please use layout.title.font\n                instead. Sets the title font. Note that the\n                title's font used to be customized by the now\n                deprecated `titlefont` attribute.\n            transition\n                Sets transition options used during\n                Plotly.react updates.\n            treemapcolorway\n                Sets the default treemap slice colors. Defaults\n                to the main `colorway` used for trace colors.\n                If you specify a new list here it can still be\n                extended with lighter and darker colors, see\n                `extendtreemapcolors`.\n            uirevision\n                Used to allow user interactions with the plot\n                to persist after `Plotly.react` calls that are\n                unaware of these interactions. If `uirevision`\n                is omitted, or if it is given and it changed\n                from the previous `Plotly.react` call, the\n                exact new figure is used. If `uirevision` is\n                truthy and did NOT change, any attribute that\n                has been affected by user interactions and did\n                not receive a different value in the new figure\n                will keep the interaction value.\n                `layout.uirevision` attribute serves as the\n                default for `uirevision` attributes in various\n                sub-containers. For finer control you can set\n                these sub-attributes directly. For example, if\n                your app separately controls the data on the x\n                and y axes you might set\n                `xaxis.uirevision=*time*` and\n                `yaxis.uirevision=*cost*`. Then if only the y\n                data is changed, you can update\n                `yaxis.uirevision=*quantity*` and the y axis\n                range will reset but the x axis range will\n                retain any user-driven zoom.\n            uniformtext\n                :class:`plotly.graph_objects.layout.Uniformtext\n                ` instance or dict with compatible properties\n            updatemenus\n                A tuple of\n                :class:`plotly.graph_objects.layout.Updatemenu`\n                instances or dicts with compatible properties\n            updatemenudefaults\n                When used in a template (as\n                layout.template.layout.updatemenudefaults),\n                sets the default property values to use for\n                elements of layout.updatemenus\n            violingap\n                Sets the gap (in plot fraction) between violins\n                of adjacent location coordinates. Has no effect\n                on traces that have \"width\" set.\n            violingroupgap\n                Sets the gap (in plot fraction) between violins\n                of the same location coordinate. Has no effect\n                on traces that have \"width\" set.\n            violinmode\n                Determines how violins at the same location\n                coordinate are displayed on the graph. If\n                \"group\", the violins are plotted next to one\n                another centered around the shared location. If\n                \"overlay\", the violins are plotted over one\n                another, you might need to set \"opacity\" to see\n                them multiple violins. Has no effect on traces\n                that have \"width\" set.\n            waterfallgap\n                Sets the gap (in plot fraction) between bars of\n                adjacent location coordinates.\n            waterfallgroupgap\n                Sets the gap (in plot fraction) between bars of\n                the same location coordinate.\n            waterfallmode\n                Determines how bars at the same location\n                coordinate are displayed on the graph. With\n                \"group\", the bars are plotted next to one\n                another centered around the shared location.\n                With \"overlay\", the bars are plotted over one\n                another, you might need to an \"opacity\" to see\n                multiple bars.\n            width\n                Sets the plot's width (in px).\n            xaxis\n                :class:`plotly.graph_objects.layout.XAxis`\n                instance or dict with compatible properties\n            yaxis\n                :class:`plotly.graph_objects.layout.YAxis`\n                instance or dict with compatible properties\n"
     ]
    }
   ],
   "source": [
    "#plot actual and predicted values for train dataset\n",
    "from plotly.graph_objects import layout\n",
    "import chart_studio.plotly as py\n",
    "import plotly.graph_objs as go\n",
    "from plotly.offline import plot\n",
    "from plotly.offline import init_notebook_mode,plot,iplot\n",
    "init_notebook_mode(connected=True)\n",
    "\n",
    "trace0= go.Scatter(\n",
    "      x=X_train.T[0],\n",
    "      y=y_train,\n",
    "      mode='markers',\n",
    "      name='Actual'\n",
    ")\n",
    "\n",
    "trace1=go.Scatter(\n",
    "    x=X_train.T[0],\n",
    "    y=lm.predict(X_train).T,\n",
    "    mode='lines',name='Predicted'\n",
    "\n",
    ")\n",
    "\n",
    "tesla_data=[trace0,trace1]\n",
    "layout.xaxis.title.text='Day'\n",
    "plot2=go.Figure(data=tesla_data,layout=layout)\n",
    "\n",
    "iplot(plot2)"
   ]
  },
  {
   "cell_type": "code",
   "execution_count": 18,
   "id": "298d73e9",
   "metadata": {},
   "outputs": [
    {
     "ename": "NameError",
     "evalue": "name 'LinearRegressionModel' is not defined",
     "output_type": "error",
     "traceback": [
      "\u001b[1;31m---------------------------------------------------------------------------\u001b[0m",
      "\u001b[1;31mNameError\u001b[0m                                 Traceback (most recent call last)",
      "\u001b[1;32m~\\AppData\\Local\\Temp\\ipykernel_12504\\1374111657.py\u001b[0m in \u001b[0;36m<module>\u001b[1;34m\u001b[0m\n\u001b[0;32m      1\u001b[0m \u001b[1;32mfrom\u001b[0m \u001b[0msklearn\u001b[0m\u001b[1;33m.\u001b[0m\u001b[0mlinear_model\u001b[0m \u001b[1;32mimport\u001b[0m \u001b[0mLinearRegression\u001b[0m\u001b[1;33m\u001b[0m\u001b[1;33m\u001b[0m\u001b[0m\n\u001b[1;32m----> 2\u001b[1;33m \u001b[0mmodel\u001b[0m \u001b[1;33m=\u001b[0m \u001b[0mLinearRegressionModel\u001b[0m\u001b[1;33m.\u001b[0m\u001b[0mbuild_model\u001b[0m\u001b[1;33m(\u001b[0m\u001b[0mX_train\u001b[0m\u001b[1;33m,\u001b[0m\u001b[0my_train\u001b[0m\u001b[1;33m)\u001b[0m\u001b[1;33m\u001b[0m\u001b[1;33m\u001b[0m\u001b[0m\n\u001b[0m",
      "\u001b[1;31mNameError\u001b[0m: name 'LinearRegressionModel' is not defined"
     ]
    }
   ],
   "source": [
    "from sklearn.linear_model import LinearRegression\n",
    "model = LinearRegressionModel.build_model(X_train,y_train)"
   ]
  },
  {
   "cell_type": "code",
   "execution_count": 26,
   "id": "bfd4454a",
   "metadata": {},
   "outputs": [
    {
     "name": "stdout",
     "output_type": "stream",
     "text": [
      "intercept: -153.9408029867544\n",
      "slope: [0.39551479]\n"
     ]
    }
   ],
   "source": [
    "regressor = LinearRegression()\n",
    "regressor.fit(X_train,y_train)\n",
    "print(f\"intercept: {regressor.intercept_}\")\n",
    "print(f\"slope: {regressor.coef_}\")"
   ]
  },
  {
   "cell_type": "code",
   "execution_count": 27,
   "id": "3e07746a",
   "metadata": {},
   "outputs": [],
   "source": [
    "predictions = regressor.predict(X_test)"
   ]
  },
  {
   "cell_type": "code",
   "execution_count": 28,
   "id": "d3e7e9c9",
   "metadata": {},
   "outputs": [
    {
     "ename": "TypeError",
     "evalue": "'numpy.bool_' object is not iterable",
     "output_type": "error",
     "traceback": [
      "\u001b[1;31m---------------------------------------------------------------------------\u001b[0m",
      "\u001b[1;31mTypeError\u001b[0m                                 Traceback (most recent call last)",
      "\u001b[1;32m~\\AppData\\Local\\Temp\\ipykernel_12504\\1184298530.py\u001b[0m in \u001b[0;36m<module>\u001b[1;34m\u001b[0m\n\u001b[0;32m      5\u001b[0m \u001b[0mplt\u001b[0m\u001b[1;33m.\u001b[0m\u001b[0mxscale\u001b[0m\u001b[1;33m(\u001b[0m\u001b[1;34m'log'\u001b[0m\u001b[1;33m)\u001b[0m\u001b[1;33m\u001b[0m\u001b[1;33m\u001b[0m\u001b[0m\n\u001b[0;32m      6\u001b[0m \u001b[1;33m\u001b[0m\u001b[0m\n\u001b[1;32m----> 7\u001b[1;33m \u001b[0mp1\u001b[0m \u001b[1;33m=\u001b[0m \u001b[0mmax\u001b[0m\u001b[1;33m(\u001b[0m\u001b[0mmax\u001b[0m\u001b[1;33m(\u001b[0m\u001b[0mpredictions\u001b[0m\u001b[1;33m.\u001b[0m\u001b[0mall\u001b[0m\u001b[1;33m(\u001b[0m\u001b[1;33m)\u001b[0m\u001b[1;33m)\u001b[0m\u001b[1;33m,\u001b[0m \u001b[0mmax\u001b[0m\u001b[1;33m(\u001b[0m\u001b[0mX_test\u001b[0m\u001b[1;33m)\u001b[0m\u001b[1;33m)\u001b[0m\u001b[1;33m\u001b[0m\u001b[1;33m\u001b[0m\u001b[0m\n\u001b[0m\u001b[0;32m      8\u001b[0m \u001b[0mp2\u001b[0m \u001b[1;33m=\u001b[0m \u001b[0mmin\u001b[0m\u001b[1;33m(\u001b[0m\u001b[0mmin\u001b[0m\u001b[1;33m(\u001b[0m\u001b[0mpredictions\u001b[0m\u001b[1;33m.\u001b[0m\u001b[0mall\u001b[0m\u001b[1;33m(\u001b[0m\u001b[1;33m)\u001b[0m\u001b[1;33m)\u001b[0m\u001b[1;33m,\u001b[0m \u001b[0mmin\u001b[0m\u001b[1;33m(\u001b[0m\u001b[0mX_test\u001b[0m\u001b[1;33m)\u001b[0m\u001b[1;33m)\u001b[0m\u001b[1;33m\u001b[0m\u001b[1;33m\u001b[0m\u001b[0m\n\u001b[0;32m      9\u001b[0m \u001b[0mplt\u001b[0m\u001b[1;33m.\u001b[0m\u001b[0mplot\u001b[0m\u001b[1;33m(\u001b[0m\u001b[1;33m[\u001b[0m\u001b[0mp1\u001b[0m\u001b[1;33m,\u001b[0m \u001b[0mp2\u001b[0m\u001b[1;33m]\u001b[0m\u001b[1;33m,\u001b[0m \u001b[1;33m[\u001b[0m\u001b[0mp1\u001b[0m\u001b[1;33m,\u001b[0m \u001b[0mp2\u001b[0m\u001b[1;33m]\u001b[0m\u001b[1;33m,\u001b[0m \u001b[1;34m'b-'\u001b[0m\u001b[1;33m)\u001b[0m\u001b[1;33m\u001b[0m\u001b[1;33m\u001b[0m\u001b[0m\n",
      "\u001b[1;31mTypeError\u001b[0m: 'numpy.bool_' object is not iterable"
     ]
    },
    {
     "data": {
      "image/png": "[encoded data removed]",
      "text/plain": [
       "<Figure size 720x720 with 1 Axes>"
      ]
     },
     "metadata": {
      "needs_background": "light"
     },
     "output_type": "display_data"
    }
   ],
   "source": [
    "import matplotlib.pyplot as plt\n",
    "plt.figure(figsize=(10,10))\n",
    "plt.scatter(X_test, predictions, c='crimson')\n",
    "plt.yscale('log')\n",
    "plt.xscale('log')\n",
    "\n",
    "p1 = max(max(predictions.all()), max(X_test))\n",
    "p2 = min(min(predictions.all()), min(X_test))\n",
    "plt.plot([p1, p2], [p1, p2], 'b-')\n",
    "plt.xlabel('True Values', fontsize=15)\n",
    "plt.ylabel('Predictions', fontsize=15)\n",
    "plt.axis('equal')\n",
    "plt.show()"
   ]
  },
  {
   "cell_type": "markdown",
   "id": "85602e48",
   "metadata": {},
   "source": [
    "# Evaluating the Algorithm\n",
    "The final step is to evaluate the performance of algorithm. This step is particularly important to compare how well different algorithms perform on a particular dataset. For regression algorithms, three evaluation metrics are commonly used:\n",
    "\n",
    "Mean Absolute Error (MAE) is the mean of the absolute value of the errors.\n",
    "\n",
    "Mean Squared Error (MSE) is the mean of the squared errors.\n",
    "\n",
    "Root Mean Squared Error (RMSE) is the square root of the mean of the squared errors."
   ]
  },
  {
   "cell_type": "code",
   "execution_count": 29,
   "id": "1811efec",
   "metadata": {},
   "outputs": [
    {
     "name": "stdout",
     "output_type": "stream",
     "text": [
      "Mean Absolute Error: 152.502269112843\n",
      "Mean Squared Error: 35683.42279816926\n",
      "Root Mean Squared Error: 188.90056325529912\n"
     ]
    }
   ],
   "source": [
    "from sklearn import metrics\n",
    "print('Mean Absolute Error:', metrics.mean_absolute_error(y_test, predictions))\n",
    "print('Mean Squared Error:', metrics.mean_squared_error(y_test, predictions))\n",
    "print('Root Mean Squared Error:', np.sqrt(metrics.mean_squared_error(y_test, predictions)))"
   ]
  },
  {
   "cell_type": "code",
   "execution_count": 30,
   "id": "b3ba445c",
   "metadata": {},
   "outputs": [
    {
     "name": "stdout",
     "output_type": "stream",
     "text": [
      "Train Score: 606501.8073 MSE (778.7823 RMSE)\n",
      "Test Score: 35683.42279817 MSE (188.90056326 RMSE)\n"
     ]
    }
   ],
   "source": [
    "trainScore = mean_squared_error(X_train, y_train)\n",
    "print('Train Score: %.4f MSE (%.4f RMSE)' % (trainScore, math.sqrt(trainScore)))\n",
    "\n",
    "testScore = mean_squared_error(predictions, y_test)\n",
    "print('Test Score: %.8f MSE (%.8f RMSE)' % (testScore, math.sqrt(testScore)))"
   ]
  },
  {
   "cell_type": "markdown",
   "id": "a8623efd",
   "metadata": {},
   "source": [
    "# Checkpoint #3\n",
    "Long-Sort Term Memory Model\n",
    "In this section we will use LSTM to train and test on our data set.\n",
    "\n",
    "Basic LSTM Model\n",
    "First lets make a basic LSTM model.\n",
    "\n",
    "Step 1 : import keras libraries for smooth implementaion of lstm"
   ]
  },
  {
   "cell_type": "code",
   "execution_count": 31,
   "id": "cbe838f6",
   "metadata": {},
   "outputs": [
    {
     "ename": "ModuleNotFoundError",
     "evalue": "No module named 'talib'",
     "output_type": "error",
     "traceback": [
      "\u001b[1;31m---------------------------------------------------------------------------\u001b[0m",
      "\u001b[1;31mModuleNotFoundError\u001b[0m                       Traceback (most recent call last)",
      "\u001b[1;32m~\\AppData\\Local\\Temp\\ipykernel_12504\\2994682205.py\u001b[0m in \u001b[0;36m<module>\u001b[1;34m\u001b[0m\n\u001b[0;32m     13\u001b[0m \u001b[1;33m\u001b[0m\u001b[0m\n\u001b[0;32m     14\u001b[0m \u001b[1;32mimport\u001b[0m \u001b[0mvisualize\u001b[0m \u001b[1;32mas\u001b[0m \u001b[0mvs\u001b[0m\u001b[1;33m\u001b[0m\u001b[1;33m\u001b[0m\u001b[0m\n\u001b[1;32m---> 15\u001b[1;33m \u001b[1;32mimport\u001b[0m \u001b[0mstock_data\u001b[0m \u001b[1;32mas\u001b[0m \u001b[0msd\u001b[0m\u001b[1;33m\u001b[0m\u001b[1;33m\u001b[0m\u001b[0m\n\u001b[0m\u001b[0;32m     16\u001b[0m \u001b[1;32mimport\u001b[0m \u001b[0mLinearRegressionModel\u001b[0m\u001b[1;33m\u001b[0m\u001b[1;33m\u001b[0m\u001b[0m\n\u001b[0;32m     17\u001b[0m \u001b[1;33m\u001b[0m\u001b[0m\n",
      "\u001b[1;32mc:\\users\\lavaa\\appdata\\local\\programs\\python\\python37\\lib\\site-packages\\stock_data\\__init__.py\u001b[0m in \u001b[0;36m<module>\u001b[1;34m\u001b[0m\n\u001b[1;32m----> 1\u001b[1;33m \u001b[1;32mfrom\u001b[0m \u001b[1;33m.\u001b[0m\u001b[0mrsi\u001b[0m \u001b[1;32mimport\u001b[0m \u001b[0mrsi\u001b[0m\u001b[1;33m\u001b[0m\u001b[1;33m\u001b[0m\u001b[0m\n\u001b[0m\u001b[0;32m      2\u001b[0m \u001b[1;32mfrom\u001b[0m \u001b[1;33m.\u001b[0m\u001b[0mrolling_sharpe\u001b[0m \u001b[1;32mimport\u001b[0m \u001b[0mrolling_sharpe\u001b[0m\u001b[1;33m\u001b[0m\u001b[1;33m\u001b[0m\u001b[0m\n\u001b[0;32m      3\u001b[0m \u001b[1;32mfrom\u001b[0m \u001b[1;33m.\u001b[0m\u001b[0mbeta\u001b[0m \u001b[1;32mimport\u001b[0m \u001b[0mbeta\u001b[0m\u001b[1;33m\u001b[0m\u001b[1;33m\u001b[0m\u001b[0m\n\u001b[0;32m      4\u001b[0m \u001b[1;32mfrom\u001b[0m \u001b[1;33m.\u001b[0m\u001b[0malpha\u001b[0m \u001b[1;32mimport\u001b[0m \u001b[0malpha\u001b[0m\u001b[1;33m\u001b[0m\u001b[1;33m\u001b[0m\u001b[0m\n\u001b[0;32m      5\u001b[0m \u001b[1;32mfrom\u001b[0m \u001b[1;33m.\u001b[0m\u001b[0mr_squared\u001b[0m \u001b[1;32mimport\u001b[0m \u001b[0mr_squared\u001b[0m\u001b[1;33m\u001b[0m\u001b[1;33m\u001b[0m\u001b[0m\n",
      "\u001b[1;32mc:\\users\\lavaa\\appdata\\local\\programs\\python\\python37\\lib\\site-packages\\stock_data\\rsi.py\u001b[0m in \u001b[0;36m<module>\u001b[1;34m\u001b[0m\n\u001b[1;32m----> 1\u001b[1;33m \u001b[1;32mimport\u001b[0m \u001b[0mtalib\u001b[0m \u001b[1;32mas\u001b[0m \u001b[0mta\u001b[0m\u001b[1;33m\u001b[0m\u001b[1;33m\u001b[0m\u001b[0m\n\u001b[0m\u001b[0;32m      2\u001b[0m \u001b[1;32mimport\u001b[0m \u001b[0mdatetime\u001b[0m\u001b[1;33m\u001b[0m\u001b[1;33m\u001b[0m\u001b[0m\n\u001b[0;32m      3\u001b[0m \u001b[1;32mfrom\u001b[0m \u001b[0mpandas_datareader\u001b[0m \u001b[1;32mimport\u001b[0m \u001b[0mDataReader\u001b[0m\u001b[1;33m\u001b[0m\u001b[1;33m\u001b[0m\u001b[0m\n\u001b[0;32m      4\u001b[0m \u001b[1;33m\u001b[0m\u001b[0m\n\u001b[0;32m      5\u001b[0m \u001b[1;31m# Defining a class\u001b[0m\u001b[1;33m\u001b[0m\u001b[1;33m\u001b[0m\u001b[1;33m\u001b[0m\u001b[0m\n",
      "\u001b[1;31mModuleNotFoundError\u001b[0m: No module named 'talib'"
     ]
    }
   ],
   "source": [
    "import math\n",
    "import pandas as pd\n",
    "import numpy as np\n",
    "from IPython.display import display\n",
    "\n",
    "from keras.layers.core import Dense, Activation, Dropout\n",
    "from keras.layers import LSTM\n",
    "from keras.models import Sequential\n",
    "from keras.metrics import mean_squared_error\n",
    "from sklearn.model_selection import StratifiedKFold\n",
    "\n",
    "import time #helper libraries\n",
    "\n",
    "import visualize as vs\n",
    "import stock_data as sd\n",
    "import LinearRegressionModel\n",
    "\n",
    "stocks = pd.read_csv('tesla_preprocessed.csv')\n",
    "stocks_data = stocks.drop(['Item'], axis =1)\n",
    "\n",
    "display(stocks_data.head())"
   ]
  },
  {
   "cell_type": "code",
   "execution_count": 32,
   "id": "0443e5b8",
   "metadata": {},
   "outputs": [],
   "source": [
    "from tensorflow.keras.models import Sequential\n",
    "from tensorflow.keras.layers import Dense\n",
    "from tensorflow.keras.layers import LSTM"
   ]
  },
  {
   "cell_type": "code",
   "execution_count": 33,
   "id": "8a84ebe1",
   "metadata": {},
   "outputs": [],
   "source": [
    "model=Sequential()\n",
    "model.add(LSTM(50,return_sequences=True,input_shape=(100,1)))\n",
    "model.add(LSTM(50,return_sequences=True))\n",
    "model.add(LSTM(50))\n",
    "model.add(Dense(1))\n",
    "model.compile(loss='mean_squared_error',optimizer='adam')"
   ]
  },
  {
   "cell_type": "code",
   "execution_count": 34,
   "id": "52321b3e",
   "metadata": {},
   "outputs": [
    {
     "name": "stdout",
     "output_type": "stream",
     "text": [
      "Model: \"sequential_1\"\n",
      "_________________________________________________________________\n",
      " Layer (type)                Output Shape              Param #   \n",
      "=================================================================\n",
      " lstm_3 (LSTM)               (None, 100, 50)           10400     \n",
      "                                                                 \n",
      " lstm_4 (LSTM)               (None, 100, 50)           20200     \n",
      "                                                                 \n",
      " lstm_5 (LSTM)               (None, 50)                20200     \n",
      "                                                                 \n",
      " dense_1 (Dense)             (None, 1)                 51        \n",
      "                                                                 \n",
      "=================================================================\n",
      "Total params: 50,851\n",
      "Trainable params: 50,851\n",
      "Non-trainable params: 0\n",
      "_________________________________________________________________\n"
     ]
    }
   ],
   "source": [
    "model.summary()"
   ]
  },
  {
   "cell_type": "code",
   "execution_count": 35,
   "id": "2da3fde7",
   "metadata": {},
   "outputs": [
    {
     "name": "stdout",
     "output_type": "stream",
     "text": [
      "Model: \"sequential_1\"\n",
      "_________________________________________________________________\n",
      " Layer (type)                Output Shape              Param #   \n",
      "=================================================================\n",
      " lstm_3 (LSTM)               (None, 100, 50)           10400     \n",
      "                                                                 \n",
      " lstm_4 (LSTM)               (None, 100, 50)           20200     \n",
      "                                                                 \n",
      " lstm_5 (LSTM)               (None, 50)                20200     \n",
      "                                                                 \n",
      " dense_1 (Dense)             (None, 1)                 51        \n",
      "                                                                 \n",
      "=================================================================\n",
      "Total params: 50,851\n",
      "Trainable params: 50,851\n",
      "Non-trainable params: 0\n",
      "_________________________________________________________________\n"
     ]
    }
   ],
   "source": [
    "\n",
    "model.summary()"
   ]
  },
  {
   "cell_type": "code",
   "execution_count": 36,
   "id": "4b0cb06a",
   "metadata": {},
   "outputs": [
    {
     "name": "stdout",
     "output_type": "stream",
     "text": [
      "Epoch 1/100\n",
      "WARNING:tensorflow:Model was constructed with shape (None, 100, 1) for input KerasTensor(type_spec=TensorSpec(shape=(None, 100, 1), dtype=tf.float32, name='lstm_3_input'), name='lstm_3_input', description=\"created by layer 'lstm_3_input'\"), but it was called on an input with incompatible shape (None, 1, 1).\n",
      "WARNING:tensorflow:Model was constructed with shape (None, 100, 1) for input KerasTensor(type_spec=TensorSpec(shape=(None, 100, 1), dtype=tf.float32, name='lstm_3_input'), name='lstm_3_input', description=\"created by layer 'lstm_3_input'\"), but it was called on an input with incompatible shape (None, 1, 1).\n",
      "16/20 [=======================>......] - ETA: 0s - loss: 110083.4688WARNING:tensorflow:Model was constructed with shape (None, 100, 1) for input KerasTensor(type_spec=TensorSpec(shape=(None, 100, 1), dtype=tf.float32, name='lstm_3_input'), name='lstm_3_input', description=\"created by layer 'lstm_3_input'\"), but it was called on an input with incompatible shape (None, 1, 1).\n",
      "20/20 [==============================] - 9s 92ms/step - loss: 113172.5156 - val_loss: 98651.1250\n",
      "Epoch 2/100\n",
      "20/20 [==============================] - 0s 25ms/step - loss: 112789.0312 - val_loss: 98001.2422\n",
      "Epoch 3/100\n",
      "20/20 [==============================] - 0s 21ms/step - loss: 111698.3828 - val_loss: 96739.8906\n",
      "Epoch 4/100\n",
      "20/20 [==============================] - 1s 34ms/step - loss: 110331.7109 - val_loss: 95659.7500\n",
      "Epoch 5/100\n",
      "20/20 [==============================] - 1s 26ms/step - loss: 109327.8438 - val_loss: 94993.2500\n",
      "Epoch 6/100\n",
      "20/20 [==============================] - 0s 14ms/step - loss: 108733.8438 - val_loss: 94563.6172\n",
      "Epoch 7/100\n",
      "20/20 [==============================] - 0s 10ms/step - loss: 108294.3750 - val_loss: 94195.9609\n",
      "Epoch 8/100\n",
      "20/20 [==============================] - 0s 9ms/step - loss: 107898.7266 - val_loss: 93874.0469\n",
      "Epoch 9/100\n",
      "20/20 [==============================] - 0s 12ms/step - loss: 107535.3984 - val_loss: 93562.1250\n",
      "Epoch 10/100\n",
      "20/20 [==============================] - 0s 11ms/step - loss: 107191.5625 - val_loss: 93262.5547\n",
      "Epoch 11/100\n",
      "20/20 [==============================] - 0s 10ms/step - loss: 106860.2891 - val_loss: 92970.6016\n",
      "Epoch 12/100\n",
      "20/20 [==============================] - 0s 10ms/step - loss: 106538.8359 - val_loss: 92686.6172\n",
      "Epoch 13/100\n",
      "20/20 [==============================] - 0s 9ms/step - loss: 106224.4531 - val_loss: 92412.1953\n",
      "Epoch 14/100\n",
      "20/20 [==============================] - 0s 9ms/step - loss: 105912.2891 - val_loss: 92156.0547\n",
      "Epoch 15/100\n",
      "20/20 [==============================] - 0s 10ms/step - loss: 105619.6797 - val_loss: 91881.4609\n",
      "Epoch 16/100\n",
      "20/20 [==============================] - 0s 8ms/step - loss: 105311.6719 - val_loss: 91621.6641\n",
      "Epoch 17/100\n",
      "20/20 [==============================] - 0s 13ms/step - loss: 105020.0000 - val_loss: 91360.7344\n",
      "Epoch 18/100\n",
      "20/20 [==============================] - 0s 10ms/step - loss: 104731.5000 - val_loss: 91104.6641\n",
      "Epoch 19/100\n",
      "20/20 [==============================] - 0s 8ms/step - loss: 104445.6562 - val_loss: 90860.5000\n",
      "Epoch 20/100\n",
      "20/20 [==============================] - 0s 9ms/step - loss: 104171.6250 - val_loss: 90621.4688\n",
      "Epoch 21/100\n",
      "20/20 [==============================] - 0s 10ms/step - loss: 103901.4688 - val_loss: 90379.4453\n",
      "Epoch 22/100\n",
      "20/20 [==============================] - 0s 7ms/step - loss: 103625.6172 - val_loss: 90146.5625\n",
      "Epoch 23/100\n",
      "20/20 [==============================] - 0s 7ms/step - loss: 103358.4922 - val_loss: 89912.1094\n",
      "Epoch 24/100\n",
      "20/20 [==============================] - 0s 8ms/step - loss: 103092.5469 - val_loss: 89680.1641\n",
      "Epoch 25/100\n",
      "20/20 [==============================] - 0s 11ms/step - loss: 102829.9531 - val_loss: 89447.2891\n",
      "Epoch 26/100\n",
      "20/20 [==============================] - 0s 9ms/step - loss: 102563.9375 - val_loss: 89217.7969\n",
      "Epoch 27/100\n",
      "20/20 [==============================] - 0s 7ms/step - loss: 102306.2266 - val_loss: 88992.5156\n",
      "Epoch 28/100\n",
      "20/20 [==============================] - 0s 7ms/step - loss: 102050.5938 - val_loss: 88768.5625\n",
      "Epoch 29/100\n",
      "20/20 [==============================] - 0s 7ms/step - loss: 101795.9531 - val_loss: 88547.8125\n",
      "Epoch 30/100\n",
      "20/20 [==============================] - 0s 8ms/step - loss: 101546.1094 - val_loss: 88329.9766\n",
      "Epoch 31/100\n",
      "20/20 [==============================] - 0s 8ms/step - loss: 101295.7891 - val_loss: 88114.1641\n",
      "Epoch 32/100\n",
      "20/20 [==============================] - 0s 7ms/step - loss: 101049.6172 - val_loss: 87899.3750\n",
      "Epoch 33/100\n",
      "20/20 [==============================] - 0s 8ms/step - loss: 100803.9688 - val_loss: 87684.6953\n",
      "Epoch 34/100\n",
      "20/20 [==============================] - 0s 8ms/step - loss: 100561.3594 - val_loss: 87475.2344\n",
      "Epoch 35/100\n",
      "20/20 [==============================] - 0s 7ms/step - loss: 100322.2109 - val_loss: 87267.7500\n",
      "Epoch 36/100\n",
      "20/20 [==============================] - 0s 7ms/step - loss: 100084.8125 - val_loss: 87054.3906\n",
      "Epoch 37/100\n",
      "20/20 [==============================] - 0s 8ms/step - loss: 99843.5312 - val_loss: 86845.8438\n",
      "Epoch 38/100\n",
      "20/20 [==============================] - 0s 7ms/step - loss: 99605.0625 - val_loss: 86638.6250\n",
      "Epoch 39/100\n",
      "20/20 [==============================] - 0s 7ms/step - loss: 99368.6719 - val_loss: 86440.9609\n",
      "Epoch 40/100\n",
      "20/20 [==============================] - 0s 7ms/step - loss: 99138.6094 - val_loss: 86237.8672\n",
      "Epoch 41/100\n",
      "20/20 [==============================] - 0s 8ms/step - loss: 98911.4219 - val_loss: 86040.1562\n",
      "Epoch 42/100\n",
      "20/20 [==============================] - 0s 9ms/step - loss: 98681.0469 - val_loss: 85844.9141\n",
      "Epoch 43/100\n",
      "20/20 [==============================] - 0s 8ms/step - loss: 98453.3906 - val_loss: 85646.3438\n",
      "Epoch 44/100\n",
      "20/20 [==============================] - 0s 8ms/step - loss: 98225.1484 - val_loss: 85448.4531\n",
      "Epoch 45/100\n",
      "20/20 [==============================] - 0s 8ms/step - loss: 97996.5859 - val_loss: 85261.0859\n",
      "Epoch 46/100\n",
      "20/20 [==============================] - 0s 8ms/step - loss: 97778.2188 - val_loss: 85064.9219\n",
      "Epoch 47/100\n",
      "20/20 [==============================] - 0s 7ms/step - loss: 97555.6484 - val_loss: 84873.8359\n",
      "Epoch 48/100\n",
      "20/20 [==============================] - 0s 10ms/step - loss: 97328.9688 - val_loss: 84677.2969\n",
      "Epoch 49/100\n",
      "20/20 [==============================] - 0s 8ms/step - loss: 97106.6172 - val_loss: 84487.6797\n",
      "Epoch 50/100\n",
      "20/20 [==============================] - 0s 10ms/step - loss: 96890.0469 - val_loss: 84297.9688\n",
      "Epoch 51/100\n",
      "20/20 [==============================] - 0s 11ms/step - loss: 96675.2812 - val_loss: 84113.2344\n",
      "Epoch 52/100\n",
      "20/20 [==============================] - 0s 9ms/step - loss: 96462.1172 - val_loss: 83932.9062\n",
      "Epoch 53/100\n",
      "20/20 [==============================] - 0s 9ms/step - loss: 96251.6875 - val_loss: 83748.7109\n",
      "Epoch 54/100\n",
      "20/20 [==============================] - 0s 9ms/step - loss: 96038.7266 - val_loss: 83573.9453\n",
      "Epoch 55/100\n",
      "20/20 [==============================] - 0s 8ms/step - loss: 95832.3906 - val_loss: 83390.9531\n",
      "Epoch 56/100\n",
      "20/20 [==============================] - 0s 8ms/step - loss: 95621.3125 - val_loss: 83214.9922\n",
      "Epoch 57/100\n",
      "20/20 [==============================] - 0s 7ms/step - loss: 95418.7578 - val_loss: 83037.9922\n",
      "Epoch 58/100\n",
      "20/20 [==============================] - 0s 8ms/step - loss: 95212.1328 - val_loss: 82869.2734\n",
      "Epoch 59/100\n",
      "20/20 [==============================] - 0s 7ms/step - loss: 95012.1328 - val_loss: 82693.5156\n",
      "Epoch 60/100\n",
      "20/20 [==============================] - 0s 8ms/step - loss: 94809.1250 - val_loss: 82520.8281\n",
      "Epoch 61/100\n",
      "20/20 [==============================] - 0s 8ms/step - loss: 94611.0391 - val_loss: 82349.8125\n",
      "Epoch 62/100\n",
      "20/20 [==============================] - 0s 8ms/step - loss: 94415.3750 - val_loss: 82181.5078\n",
      "Epoch 63/100\n",
      "20/20 [==============================] - 0s 8ms/step - loss: 94219.1406 - val_loss: 82021.3281\n",
      "Epoch 64/100\n",
      "20/20 [==============================] - 0s 9ms/step - loss: 94024.5859 - val_loss: 81854.4219\n",
      "Epoch 65/100\n",
      "20/20 [==============================] - 0s 8ms/step - loss: 93829.0859 - val_loss: 81683.3750\n",
      "Epoch 66/100\n",
      "20/20 [==============================] - 0s 8ms/step - loss: 93633.3516 - val_loss: 81520.5312\n",
      "Epoch 67/100\n"
     ]
    },
    {
     "name": "stdout",
     "output_type": "stream",
     "text": [
      "20/20 [==============================] - 0s 9ms/step - loss: 93445.6641 - val_loss: 81359.1094\n",
      "Epoch 68/100\n",
      "20/20 [==============================] - 0s 9ms/step - loss: 93255.7891 - val_loss: 81200.6484\n",
      "Epoch 69/100\n",
      "20/20 [==============================] - 0s 7ms/step - loss: 93070.7656 - val_loss: 81043.9453\n",
      "Epoch 70/100\n",
      "20/20 [==============================] - 0s 7ms/step - loss: 92882.3438 - val_loss: 80888.4141\n",
      "Epoch 71/100\n",
      "20/20 [==============================] - 0s 7ms/step - loss: 92699.0312 - val_loss: 80726.4609\n",
      "Epoch 72/100\n",
      "20/20 [==============================] - 0s 8ms/step - loss: 92509.8438 - val_loss: 80570.2812\n",
      "Epoch 73/100\n",
      "20/20 [==============================] - 0s 8ms/step - loss: 92332.7266 - val_loss: 80410.5469\n",
      "Epoch 74/100\n",
      "20/20 [==============================] - 0s 8ms/step - loss: 92145.3516 - val_loss: 80266.8281\n",
      "Epoch 75/100\n",
      "20/20 [==============================] - 0s 8ms/step - loss: 91970.8906 - val_loss: 80118.1250\n",
      "Epoch 76/100\n",
      "20/20 [==============================] - 0s 8ms/step - loss: 91796.0703 - val_loss: 79969.1172\n",
      "Epoch 77/100\n",
      "20/20 [==============================] - 0s 8ms/step - loss: 91620.5078 - val_loss: 79820.9297\n",
      "Epoch 78/100\n",
      "20/20 [==============================] - 0s 8ms/step - loss: 91446.6094 - val_loss: 79670.4609\n",
      "Epoch 79/100\n",
      "20/20 [==============================] - 0s 8ms/step - loss: 91269.2344 - val_loss: 79528.7344\n",
      "Epoch 80/100\n",
      "20/20 [==============================] - 0s 8ms/step - loss: 91097.9375 - val_loss: 79382.3281\n",
      "Epoch 81/100\n",
      "20/20 [==============================] - 0s 8ms/step - loss: 90924.9844 - val_loss: 79243.4062\n",
      "Epoch 82/100\n",
      "20/20 [==============================] - 0s 8ms/step - loss: 90756.6797 - val_loss: 79095.8125\n",
      "Epoch 83/100\n",
      "20/20 [==============================] - 0s 8ms/step - loss: 90585.4297 - val_loss: 78956.9688\n",
      "Epoch 84/100\n",
      "20/20 [==============================] - 0s 8ms/step - loss: 90421.0000 - val_loss: 78820.1016\n",
      "Epoch 85/100\n",
      "20/20 [==============================] - 0s 8ms/step - loss: 90254.1719 - val_loss: 78680.3281\n",
      "Epoch 86/100\n",
      "20/20 [==============================] - 0s 8ms/step - loss: 90091.4062 - val_loss: 78540.7500\n",
      "Epoch 87/100\n",
      "20/20 [==============================] - 0s 7ms/step - loss: 89924.4375 - val_loss: 78403.5469\n",
      "Epoch 88/100\n",
      "20/20 [==============================] - 0s 8ms/step - loss: 89756.6953 - val_loss: 78240.2500\n",
      "Epoch 89/100\n",
      "20/20 [==============================] - 0s 8ms/step - loss: 89572.6016 - val_loss: 78082.2812\n",
      "Epoch 90/100\n",
      "20/20 [==============================] - 0s 7ms/step - loss: 89389.1250 - val_loss: 77923.4766\n",
      "Epoch 91/100\n",
      "20/20 [==============================] - 0s 8ms/step - loss: 89201.2344 - val_loss: 77779.3203\n",
      "Epoch 92/100\n",
      "20/20 [==============================] - 0s 7ms/step - loss: 89024.6094 - val_loss: 77595.5000\n",
      "Epoch 93/100\n",
      "20/20 [==============================] - 0s 7ms/step - loss: 88895.4062 - val_loss: 77528.0391\n",
      "Epoch 94/100\n",
      "20/20 [==============================] - 0s 8ms/step - loss: 88707.9297 - val_loss: 78012.2344\n",
      "Epoch 95/100\n",
      "20/20 [==============================] - 0s 8ms/step - loss: 88672.0781 - val_loss: 77320.3203\n",
      "Epoch 96/100\n",
      "20/20 [==============================] - 0s 9ms/step - loss: 88461.6172 - val_loss: 77178.9141\n",
      "Epoch 97/100\n",
      "20/20 [==============================] - 0s 9ms/step - loss: 88308.7031 - val_loss: 77031.1719\n",
      "Epoch 98/100\n",
      "20/20 [==============================] - 0s 8ms/step - loss: 88129.0078 - val_loss: 76888.5078\n",
      "Epoch 99/100\n",
      "20/20 [==============================] - 0s 8ms/step - loss: 87957.3203 - val_loss: 76775.7266\n",
      "Epoch 100/100\n",
      "20/20 [==============================] - 0s 7ms/step - loss: 87794.2656 - val_loss: 76611.7812\n"
     ]
    },
    {
     "data": {
      "text/plain": [
       "<keras.callbacks.History at 0x29d1704a4c8>"
      ]
     },
     "execution_count": 36,
     "metadata": {},
     "output_type": "execute_result"
    }
   ],
   "source": [
    "model.fit(X_train,y_train,validation_data=(X_test,y_test),epochs=100,batch_size=64,verbose=1)"
   ]
  },
  {
   "cell_type": "code",
   "execution_count": 37,
   "id": "b8dd30f1",
   "metadata": {},
   "outputs": [
    {
     "data": {
      "text/plain": [
       "'2.9.0'"
      ]
     },
     "execution_count": 37,
     "metadata": {},
     "output_type": "execute_result"
    }
   ],
   "source": [
    "import tensorflow as tf\n",
    "\n",
    "tf.__version__"
   ]
  },
  {
   "cell_type": "code",
   "execution_count": 38,
   "id": "9e21f4f2",
   "metadata": {},
   "outputs": [
    {
     "name": "stdout",
     "output_type": "stream",
     "text": [
      "WARNING:tensorflow:Model was constructed with shape (None, 100, 1) for input KerasTensor(type_spec=TensorSpec(shape=(None, 100, 1), dtype=tf.float32, name='lstm_3_input'), name='lstm_3_input', description=\"created by layer 'lstm_3_input'\"), but it was called on an input with incompatible shape (None, 1, 1).\n",
      "39/39 [==============================] - 1s 2ms/step\n",
      "17/17 [==============================] - 0s 3ms/step\n"
     ]
    }
   ],
   "source": [
    "###Do the prediction and check performance metrics\n",
    "train_predict=model.predict(X_train)\n",
    "test_predict=model.predict(X_test)"
   ]
  },
  {
   "cell_type": "code",
   "execution_count": 39,
   "id": "e2b6c0a2",
   "metadata": {},
   "outputs": [],
   "source": [
    "##Transform back to original form\n",
    "train_predict=scaler.inverse_transform(train_predict)\n",
    "test_predict=scaler.inverse_transform(test_predict)"
   ]
  },
  {
   "cell_type": "code",
   "execution_count": null,
   "id": "f6883649",
   "metadata": {},
   "outputs": [],
   "source": [
    "### Calculate RMSE performance metrics\n",
    "import math\n",
    "from sklearn.metrics import mean_squared_error\n",
    "math.sqrt(mean_squared_error(y_train,train_predict))"
   ]
  },
  {
   "cell_type": "code",
   "execution_count": null,
   "id": "9fae31ae",
   "metadata": {},
   "outputs": [],
   "source": [
    "### Test Data RMSE\n",
    "math.sqrt(mean_squared_error(y_test,test_predict))"
   ]
  },
  {
   "cell_type": "code",
   "execution_count": null,
   "id": "a8fcf185",
   "metadata": {},
   "outputs": [],
   "source": [
    "### Plotting \n",
    "# shift train predictions for plotting\n",
    "import numpy\n",
    "look_back=100\n",
    "trainPredictPlot = numpy.empty_like(data)\n",
    "trainPredictPlot[:, :] = np.nan\n",
    "trainPredictPlot[look_back:len(train_predict)+look_back, :] = train_predict\n",
    "# shift test predictions for plotting\n",
    "testPredictPlot = numpy.empty_like(data)\n",
    "testPredictPlot[:, :] = numpy.nan\n",
    "testPredictPlot[len(train_predict)+(look_back*2)+1:len(data)-1, :] = test_predict\n",
    "# plot baseline and predictions\n",
    "plt.plot(scaler.inverse_transform(data))\n",
    "plt.plot(trainPredictPlot)\n",
    "plt.plot(testPredictPlot)\n",
    "plt.show()"
   ]
  },
  {
   "cell_type": "markdown",
   "id": "7c09e103",
   "metadata": {},
   "source": [
    "# Trying a different approach with LSTM\n"
   ]
  },
  {
   "cell_type": "code",
   "execution_count": 40,
   "id": "00122420",
   "metadata": {},
   "outputs": [],
   "source": [
    "import pandas as pd\n",
    "\n",
    "df=pd.read_csv('tesla.csv')"
   ]
  },
  {
   "cell_type": "code",
   "execution_count": 41,
   "id": "33f1cdbb",
   "metadata": {},
   "outputs": [
    {
     "data": {
      "text/html": [
       "<div>\n",
       "<style scoped>\n",
       "    .dataframe tbody tr th:only-of-type {\n",
       "        vertical-align: middle;\n",
       "    }\n",
       "\n",
       "    .dataframe tbody tr th {\n",
       "        vertical-align: top;\n",
       "    }\n",
       "\n",
       "    .dataframe thead th {\n",
       "        text-align: right;\n",
       "    }\n",
       "</style>\n",
       "<table border=\"1\" class=\"dataframe\">\n",
       "  <thead>\n",
       "    <tr style=\"text-align: right;\">\n",
       "      <th></th>\n",
       "      <th>Open</th>\n",
       "      <th>High</th>\n",
       "      <th>Low</th>\n",
       "      <th>Close</th>\n",
       "      <th>Adj Close</th>\n",
       "      <th>Volume</th>\n",
       "    </tr>\n",
       "  </thead>\n",
       "  <tbody>\n",
       "    <tr>\n",
       "      <th>0</th>\n",
       "      <td>44.618000</td>\n",
       "      <td>45.136002</td>\n",
       "      <td>44.450001</td>\n",
       "      <td>44.481998</td>\n",
       "      <td>44.481998</td>\n",
       "      <td>11487500</td>\n",
       "    </tr>\n",
       "    <tr>\n",
       "      <th>1</th>\n",
       "      <td>44.574001</td>\n",
       "      <td>44.650002</td>\n",
       "      <td>42.652000</td>\n",
       "      <td>43.862000</td>\n",
       "      <td>43.862000</td>\n",
       "      <td>23822000</td>\n",
       "    </tr>\n",
       "    <tr>\n",
       "      <th>2</th>\n",
       "      <td>42.910000</td>\n",
       "      <td>43.299999</td>\n",
       "      <td>41.431999</td>\n",
       "      <td>42.018002</td>\n",
       "      <td>42.018002</td>\n",
       "      <td>26842500</td>\n",
       "    </tr>\n",
       "    <tr>\n",
       "      <th>3</th>\n",
       "      <td>42.012001</td>\n",
       "      <td>42.840000</td>\n",
       "      <td>40.841999</td>\n",
       "      <td>42.256001</td>\n",
       "      <td>42.256001</td>\n",
       "      <td>31309500</td>\n",
       "    </tr>\n",
       "    <tr>\n",
       "      <th>4</th>\n",
       "      <td>42.669998</td>\n",
       "      <td>42.956001</td>\n",
       "      <td>41.956001</td>\n",
       "      <td>42.189999</td>\n",
       "      <td>42.189999</td>\n",
       "      <td>14842000</td>\n",
       "    </tr>\n",
       "  </tbody>\n",
       "</table>\n",
       "</div>"
      ],
      "text/plain": [
       "        Open       High        Low      Close  Adj Close    Volume\n",
       "0  44.618000  45.136002  44.450001  44.481998  44.481998  11487500\n",
       "1  44.574001  44.650002  42.652000  43.862000  43.862000  23822000\n",
       "2  42.910000  43.299999  41.431999  42.018002  42.018002  26842500\n",
       "3  42.012001  42.840000  40.841999  42.256001  42.256001  31309500\n",
       "4  42.669998  42.956001  41.956001  42.189999  42.189999  14842000"
      ]
     },
     "execution_count": 41,
     "metadata": {},
     "output_type": "execute_result"
    }
   ],
   "source": [
    "df.head()"
   ]
  },
  {
   "cell_type": "code",
   "execution_count": 42,
   "id": "2692d2ed",
   "metadata": {},
   "outputs": [
    {
     "data": {
      "text/html": [
       "<div>\n",
       "<style scoped>\n",
       "    .dataframe tbody tr th:only-of-type {\n",
       "        vertical-align: middle;\n",
       "    }\n",
       "\n",
       "    .dataframe tbody tr th {\n",
       "        vertical-align: top;\n",
       "    }\n",
       "\n",
       "    .dataframe thead th {\n",
       "        text-align: right;\n",
       "    }\n",
       "</style>\n",
       "<table border=\"1\" class=\"dataframe\">\n",
       "  <thead>\n",
       "    <tr style=\"text-align: right;\">\n",
       "      <th></th>\n",
       "      <th>Open</th>\n",
       "      <th>High</th>\n",
       "      <th>Low</th>\n",
       "      <th>Close</th>\n",
       "      <th>Adj Close</th>\n",
       "      <th>Volume</th>\n",
       "    </tr>\n",
       "  </thead>\n",
       "  <tbody>\n",
       "    <tr>\n",
       "      <th>1759</th>\n",
       "      <td>1073.670044</td>\n",
       "      <td>1117.000000</td>\n",
       "      <td>1070.719971</td>\n",
       "      <td>1093.939941</td>\n",
       "      <td>1093.939941</td>\n",
       "      <td>23715300</td>\n",
       "    </tr>\n",
       "    <tr>\n",
       "      <th>1760</th>\n",
       "      <td>1109.489990</td>\n",
       "      <td>1119.000000</td>\n",
       "      <td>1078.420044</td>\n",
       "      <td>1088.469971</td>\n",
       "      <td>1088.469971</td>\n",
       "      <td>20108000</td>\n",
       "    </tr>\n",
       "    <tr>\n",
       "      <th>1761</th>\n",
       "      <td>1098.640015</td>\n",
       "      <td>1104.000000</td>\n",
       "      <td>1064.140015</td>\n",
       "      <td>1086.189941</td>\n",
       "      <td>1086.189941</td>\n",
       "      <td>18718000</td>\n",
       "    </tr>\n",
       "    <tr>\n",
       "      <th>1762</th>\n",
       "      <td>1061.329956</td>\n",
       "      <td>1095.550049</td>\n",
       "      <td>1053.150024</td>\n",
       "      <td>1070.339966</td>\n",
       "      <td>1070.339966</td>\n",
       "      <td>15680300</td>\n",
       "    </tr>\n",
       "    <tr>\n",
       "      <th>1763</th>\n",
       "      <td>1073.439941</td>\n",
       "      <td>1082.000000</td>\n",
       "      <td>1054.589966</td>\n",
       "      <td>1056.780029</td>\n",
       "      <td>1056.780029</td>\n",
       "      <td>13577900</td>\n",
       "    </tr>\n",
       "  </tbody>\n",
       "</table>\n",
       "</div>"
      ],
      "text/plain": [
       "             Open         High          Low        Close    Adj Close  \\\n",
       "1759  1073.670044  1117.000000  1070.719971  1093.939941  1093.939941   \n",
       "1760  1109.489990  1119.000000  1078.420044  1088.469971  1088.469971   \n",
       "1761  1098.640015  1104.000000  1064.140015  1086.189941  1086.189941   \n",
       "1762  1061.329956  1095.550049  1053.150024  1070.339966  1070.339966   \n",
       "1763  1073.439941  1082.000000  1054.589966  1056.780029  1056.780029   \n",
       "\n",
       "        Volume  \n",
       "1759  23715300  \n",
       "1760  20108000  \n",
       "1761  18718000  \n",
       "1762  15680300  \n",
       "1763  13577900  "
      ]
     },
     "execution_count": 42,
     "metadata": {},
     "output_type": "execute_result"
    }
   ],
   "source": [
    "df.tail()"
   ]
  },
  {
   "cell_type": "code",
   "execution_count": 43,
   "id": "9507fdd2",
   "metadata": {},
   "outputs": [],
   "source": [
    "df1=df.reset_index()['Close']"
   ]
  },
  {
   "cell_type": "code",
   "execution_count": 44,
   "id": "b3c12aba",
   "metadata": {},
   "outputs": [
    {
     "data": {
      "text/plain": [
       "0         44.481998\n",
       "1         43.862000\n",
       "2         42.018002\n",
       "3         42.256001\n",
       "4         42.189999\n",
       "           ...     \n",
       "1759    1093.939941\n",
       "1760    1088.469971\n",
       "1761    1086.189941\n",
       "1762    1070.339966\n",
       "1763    1056.780029\n",
       "Name: Close, Length: 1764, dtype: float64"
      ]
     },
     "execution_count": 44,
     "metadata": {},
     "output_type": "execute_result"
    }
   ],
   "source": [
    "df1"
   ]
  },
  {
   "cell_type": "code",
   "execution_count": 45,
   "id": "545dc955",
   "metadata": {},
   "outputs": [
    {
     "data": {
      "text/plain": [
       "[<matplotlib.lines.Line2D at 0x29d16f36808>]"
      ]
     },
     "execution_count": 45,
     "metadata": {},
     "output_type": "execute_result"
    },
    {
     "data": {
      "image/png": "[encoded data removed]",
      "text/plain": [
       "<Figure size 432x288 with 1 Axes>"
      ]
     },
     "metadata": {
      "needs_background": "light"
     },
     "output_type": "display_data"
    }
   ],
   "source": [
    "import matplotlib.pyplot as plt\n",
    "plt.plot(df1)"
   ]
  },
  {
   "cell_type": "code",
   "execution_count": 46,
   "id": "74a66898",
   "metadata": {},
   "outputs": [
    {
     "data": {
      "text/plain": [
       "0         44.481998\n",
       "1         43.862000\n",
       "2         42.018002\n",
       "3         42.256001\n",
       "4         42.189999\n",
       "           ...     \n",
       "1759    1093.939941\n",
       "1760    1088.469971\n",
       "1761    1086.189941\n",
       "1762    1070.339966\n",
       "1763    1056.780029\n",
       "Name: Close, Length: 1764, dtype: float64"
      ]
     },
     "execution_count": 46,
     "metadata": {},
     "output_type": "execute_result"
    }
   ],
   "source": [
    "import numpy as np\n",
    "df1"
   ]
  },
  {
   "cell_type": "code",
   "execution_count": 47,
   "id": "7ca7c730",
   "metadata": {},
   "outputs": [],
   "source": [
    "from sklearn.preprocessing import MinMaxScaler\n",
    "scaler=MinMaxScaler(feature_range=(0,1))\n",
    "df1=scaler.fit_transform(np.array(df1).reshape(-1,1))"
   ]
  },
  {
   "cell_type": "code",
   "execution_count": 48,
   "id": "a0d3f4fe",
   "metadata": {},
   "outputs": [
    {
     "name": "stdout",
     "output_type": "stream",
     "text": [
      "[[0.01311048]\n",
      " [0.01259432]\n",
      " [0.01105916]\n",
      " ...\n",
      " [0.88035052]\n",
      " [0.86715513]\n",
      " [0.85586625]]\n"
     ]
    }
   ],
   "source": [
    "print(df1)"
   ]
  },
  {
   "cell_type": "code",
   "execution_count": 49,
   "id": "08570e94",
   "metadata": {},
   "outputs": [],
   "source": [
    "##splitting dataset into train and test split\n",
    "training_size=int(len(df1)*0.65)\n",
    "test_size=len(df1)-training_size\n",
    "train_data,test_data=df1[0:training_size,:],df1[training_size:len(df1),:1]"
   ]
  },
  {
   "cell_type": "code",
   "execution_count": 50,
   "id": "bf29a31b",
   "metadata": {},
   "outputs": [
    {
     "data": {
      "text/plain": [
       "(1146, 618)"
      ]
     },
     "execution_count": 50,
     "metadata": {},
     "output_type": "execute_result"
    }
   ],
   "source": [
    "training_size,test_size"
   ]
  },
  {
   "cell_type": "code",
   "execution_count": 51,
   "id": "906191e0",
   "metadata": {},
   "outputs": [
    {
     "data": {
      "text/plain": [
       "array([[0.01311048],\n",
       "       [0.01259432],\n",
       "       [0.01105916],\n",
       "       ...,\n",
       "       [0.01829374],\n",
       "       [0.01906632],\n",
       "       [0.01865006]])"
      ]
     },
     "execution_count": 51,
     "metadata": {},
     "output_type": "execute_result"
    }
   ],
   "source": [
    "train_data"
   ]
  },
  {
   "cell_type": "code",
   "execution_count": 52,
   "id": "d0ee1a61",
   "metadata": {},
   "outputs": [],
   "source": [
    "import numpy\n",
    "# convert an array of values into a dataset matrix\n",
    "def create_dataset(dataset, time_step=1):\n",
    "\tdataX, dataY = [], []\n",
    "\tfor i in range(len(dataset)-time_step-1):\n",
    "\t\ta = dataset[i:(i+time_step), 0]   ###i=0, 0,1,2,3-----99   100 \n",
    "\t\tdataX.append(a)\n",
    "\t\tdataY.append(dataset[i + time_step, 0])\n",
    "\treturn numpy.array(dataX), numpy.array(dataY)"
   ]
  },
  {
   "cell_type": "code",
   "execution_count": 53,
   "id": "69049133",
   "metadata": {},
   "outputs": [],
   "source": [
    "# reshape into X=t,t+1,t+2,t+3 and Y=t+4\n",
    "time_step = 100\n",
    "X_train, y_train = create_dataset(train_data, time_step)\n",
    "X_test, ytest = create_dataset(test_data, time_step)"
   ]
  },
  {
   "cell_type": "code",
   "execution_count": 54,
   "id": "0d68ab0b",
   "metadata": {},
   "outputs": [
    {
     "name": "stdout",
     "output_type": "stream",
     "text": [
      "(1045, 100)\n",
      "(1045,)\n"
     ]
    },
    {
     "data": {
      "text/plain": [
       "(None, None)"
      ]
     },
     "execution_count": 54,
     "metadata": {},
     "output_type": "execute_result"
    }
   ],
   "source": [
    "print(X_train.shape), print(y_train.shape)"
   ]
  },
  {
   "cell_type": "code",
   "execution_count": 55,
   "id": "07116b91",
   "metadata": {},
   "outputs": [
    {
     "name": "stdout",
     "output_type": "stream",
     "text": [
      "(517, 100)\n",
      "(517,)\n"
     ]
    },
    {
     "data": {
      "text/plain": [
       "(None, None)"
      ]
     },
     "execution_count": 55,
     "metadata": {},
     "output_type": "execute_result"
    }
   ],
   "source": [
    "print(X_test.shape), print(ytest.shape)"
   ]
  },
  {
   "cell_type": "code",
   "execution_count": 56,
   "id": "b062e9ee",
   "metadata": {},
   "outputs": [],
   "source": [
    "# reshape input to be [samples, time steps, features] which is required for LSTM\n",
    "X_train =X_train.reshape(X_train.shape[0],X_train.shape[1] , 1)\n",
    "X_test = X_test.reshape(X_test.shape[0],X_test.shape[1] , 1)"
   ]
  },
  {
   "cell_type": "code",
   "execution_count": 57,
   "id": "d437137b",
   "metadata": {},
   "outputs": [],
   "source": [
    "### Create the Stacked LSTM model\n",
    "from tensorflow.keras.models import Sequential\n",
    "from tensorflow.keras.layers import Dense\n",
    "from tensorflow.keras.layers import LSTM"
   ]
  },
  {
   "cell_type": "code",
   "execution_count": 58,
   "id": "327acacd",
   "metadata": {},
   "outputs": [],
   "source": [
    "model=Sequential()\n",
    "model.add(LSTM(50,return_sequences=True,input_shape=(100,1)))\n",
    "model.add(LSTM(50,return_sequences=True))\n",
    "model.add(LSTM(50))\n",
    "model.add(Dense(1))\n",
    "model.compile(loss='mean_squared_error',optimizer='adam')"
   ]
  },
  {
   "cell_type": "code",
   "execution_count": 59,
   "id": "a33032f8",
   "metadata": {},
   "outputs": [
    {
     "name": "stdout",
     "output_type": "stream",
     "text": [
      "Model: \"sequential_2\"\n",
      "_________________________________________________________________\n",
      " Layer (type)                Output Shape              Param #   \n",
      "=================================================================\n",
      " lstm_6 (LSTM)               (None, 100, 50)           10400     \n",
      "                                                                 \n",
      " lstm_7 (LSTM)               (None, 100, 50)           20200     \n",
      "                                                                 \n",
      " lstm_8 (LSTM)               (None, 50)                20200     \n",
      "                                                                 \n",
      " dense_2 (Dense)             (None, 1)                 51        \n",
      "                                                                 \n",
      "=================================================================\n",
      "Total params: 50,851\n",
      "Trainable params: 50,851\n",
      "Non-trainable params: 0\n",
      "_________________________________________________________________\n"
     ]
    }
   ],
   "source": [
    "model.summary()"
   ]
  },
  {
   "cell_type": "code",
   "execution_count": 60,
   "id": "9c6235d7",
   "metadata": {},
   "outputs": [
    {
     "name": "stdout",
     "output_type": "stream",
     "text": [
      "Model: \"sequential_2\"\n",
      "_________________________________________________________________\n",
      " Layer (type)                Output Shape              Param #   \n",
      "=================================================================\n",
      " lstm_6 (LSTM)               (None, 100, 50)           10400     \n",
      "                                                                 \n",
      " lstm_7 (LSTM)               (None, 100, 50)           20200     \n",
      "                                                                 \n",
      " lstm_8 (LSTM)               (None, 50)                20200     \n",
      "                                                                 \n",
      " dense_2 (Dense)             (None, 1)                 51        \n",
      "                                                                 \n",
      "=================================================================\n",
      "Total params: 50,851\n",
      "Trainable params: 50,851\n",
      "Non-trainable params: 0\n",
      "_________________________________________________________________\n"
     ]
    }
   ],
   "source": [
    "model.summary()"
   ]
  },
  {
   "cell_type": "code",
   "execution_count": 61,
   "id": "c8e6697c",
   "metadata": {
    "scrolled": true
   },
   "outputs": [
    {
     "name": "stdout",
     "output_type": "stream",
     "text": [
      "Epoch 1/100\n",
      "17/17 [==============================] - 10s 305ms/step - loss: 1.4070e-04 - val_loss: 0.1497\n",
      "Epoch 2/100\n",
      "17/17 [==============================] - 4s 233ms/step - loss: 5.2844e-05 - val_loss: 0.0663\n",
      "Epoch 3/100\n",
      "17/17 [==============================] - 4s 221ms/step - loss: 2.1489e-05 - val_loss: 0.0084\n",
      "Epoch 4/100\n",
      "17/17 [==============================] - 4s 217ms/step - loss: 1.3686e-05 - val_loss: 0.0169\n",
      "Epoch 5/100\n",
      "17/17 [==============================] - 4s 229ms/step - loss: 1.3575e-05 - val_loss: 0.0121\n",
      "Epoch 6/100\n",
      "17/17 [==============================] - 3s 200ms/step - loss: 1.2698e-05 - val_loss: 0.0097\n",
      "Epoch 7/100\n",
      "17/17 [==============================] - 3s 206ms/step - loss: 1.2339e-05 - val_loss: 0.0114\n",
      "Epoch 8/100\n",
      "17/17 [==============================] - 4s 227ms/step - loss: 1.1431e-05 - val_loss: 0.0080\n",
      "Epoch 9/100\n",
      "17/17 [==============================] - 4s 245ms/step - loss: 1.1481e-05 - val_loss: 0.0087\n",
      "Epoch 10/100\n",
      "17/17 [==============================] - 4s 234ms/step - loss: 1.1355e-05 - val_loss: 0.0074\n",
      "Epoch 11/100\n",
      "17/17 [==============================] - 3s 194ms/step - loss: 1.1571e-05 - val_loss: 0.0076\n",
      "Epoch 12/100\n",
      "17/17 [==============================] - 4s 220ms/step - loss: 1.0654e-05 - val_loss: 0.0070\n",
      "Epoch 13/100\n",
      "17/17 [==============================] - 3s 194ms/step - loss: 9.6450e-06 - val_loss: 0.0055\n",
      "Epoch 14/100\n",
      "17/17 [==============================] - 3s 191ms/step - loss: 9.6595e-06 - val_loss: 0.0046\n",
      "Epoch 15/100\n",
      "17/17 [==============================] - 5s 276ms/step - loss: 1.0413e-05 - val_loss: 0.0068\n",
      "Epoch 16/100\n",
      "17/17 [==============================] - 5s 301ms/step - loss: 9.3289e-06 - val_loss: 0.0061\n",
      "Epoch 17/100\n",
      "17/17 [==============================] - 5s 283ms/step - loss: 9.8579e-06 - val_loss: 0.0064\n",
      "Epoch 18/100\n",
      "17/17 [==============================] - 4s 225ms/step - loss: 9.6369e-06 - val_loss: 0.0041\n",
      "Epoch 19/100\n",
      "17/17 [==============================] - 4s 235ms/step - loss: 1.0117e-05 - val_loss: 0.0046\n",
      "Epoch 20/100\n",
      "17/17 [==============================] - 4s 208ms/step - loss: 8.9549e-06 - val_loss: 0.0045\n",
      "Epoch 21/100\n",
      "17/17 [==============================] - 3s 208ms/step - loss: 8.3455e-06 - val_loss: 0.0044\n",
      "Epoch 22/100\n",
      "17/17 [==============================] - 3s 196ms/step - loss: 7.9980e-06 - val_loss: 0.0036\n",
      "Epoch 23/100\n",
      "17/17 [==============================] - 4s 219ms/step - loss: 8.0729e-06 - val_loss: 0.0049\n",
      "Epoch 24/100\n",
      "17/17 [==============================] - 4s 208ms/step - loss: 8.0683e-06 - val_loss: 0.0039\n",
      "Epoch 25/100\n",
      "17/17 [==============================] - 3s 208ms/step - loss: 8.0589e-06 - val_loss: 0.0044\n",
      "Epoch 26/100\n",
      "17/17 [==============================] - 5s 303ms/step - loss: 7.7451e-06 - val_loss: 0.0037\n",
      "Epoch 27/100\n",
      "17/17 [==============================] - 4s 258ms/step - loss: 7.4363e-06 - val_loss: 0.0032\n",
      "Epoch 28/100\n",
      "17/17 [==============================] - 4s 263ms/step - loss: 1.1076e-05 - val_loss: 0.0051\n",
      "Epoch 29/100\n",
      "17/17 [==============================] - 4s 239ms/step - loss: 9.3226e-06 - val_loss: 0.0043\n",
      "Epoch 30/100\n",
      "17/17 [==============================] - 4s 239ms/step - loss: 6.9085e-06 - val_loss: 0.0027\n",
      "Epoch 31/100\n",
      "17/17 [==============================] - 4s 236ms/step - loss: 8.5333e-06 - val_loss: 0.0041\n",
      "Epoch 32/100\n",
      "17/17 [==============================] - 4s 226ms/step - loss: 1.0316e-05 - val_loss: 0.0053\n",
      "Epoch 33/100\n",
      "17/17 [==============================] - 4s 205ms/step - loss: 9.8293e-06 - val_loss: 0.0039\n",
      "Epoch 34/100\n",
      "17/17 [==============================] - 3s 206ms/step - loss: 9.0461e-06 - val_loss: 0.0032\n",
      "Epoch 35/100\n",
      "17/17 [==============================] - 4s 205ms/step - loss: 6.9362e-06 - val_loss: 0.0030\n",
      "Epoch 36/100\n",
      "17/17 [==============================] - 4s 209ms/step - loss: 6.3259e-06 - val_loss: 0.0028\n",
      "Epoch 37/100\n",
      "17/17 [==============================] - 3s 202ms/step - loss: 5.8890e-06 - val_loss: 0.0026\n",
      "Epoch 38/100\n",
      "17/17 [==============================] - 4s 213ms/step - loss: 6.4926e-06 - val_loss: 0.0036\n",
      "Epoch 39/100\n",
      "17/17 [==============================] - 3s 202ms/step - loss: 6.1187e-06 - val_loss: 0.0030\n",
      "Epoch 40/100\n",
      "17/17 [==============================] - 4s 220ms/step - loss: 6.3106e-06 - val_loss: 0.0031\n",
      "Epoch 41/100\n",
      "17/17 [==============================] - 4s 222ms/step - loss: 6.3910e-06 - val_loss: 0.0024\n",
      "Epoch 42/100\n",
      "17/17 [==============================] - 4s 215ms/step - loss: 5.5449e-06 - val_loss: 0.0027\n",
      "Epoch 43/100\n",
      "17/17 [==============================] - 4s 215ms/step - loss: 6.0716e-06 - val_loss: 0.0029\n",
      "Epoch 44/100\n",
      "17/17 [==============================] - 4s 240ms/step - loss: 5.5491e-06 - val_loss: 0.0024\n",
      "Epoch 45/100\n",
      "17/17 [==============================] - 4s 238ms/step - loss: 5.4354e-06 - val_loss: 0.0025\n",
      "Epoch 46/100\n",
      "17/17 [==============================] - 4s 226ms/step - loss: 6.5862e-06 - val_loss: 0.0024\n",
      "Epoch 47/100\n",
      "17/17 [==============================] - 4s 214ms/step - loss: 6.0504e-06 - val_loss: 0.0023\n",
      "Epoch 48/100\n",
      "17/17 [==============================] - 3s 200ms/step - loss: 5.8368e-06 - val_loss: 0.0027\n",
      "Epoch 49/100\n",
      "17/17 [==============================] - 3s 206ms/step - loss: 5.5235e-06 - val_loss: 0.0038\n",
      "Epoch 50/100\n",
      "17/17 [==============================] - 3s 206ms/step - loss: 5.4065e-06 - val_loss: 0.0016\n",
      "Epoch 51/100\n",
      "17/17 [==============================] - 4s 218ms/step - loss: 5.6429e-06 - val_loss: 0.0017\n",
      "Epoch 52/100\n",
      "17/17 [==============================] - 4s 208ms/step - loss: 8.0315e-06 - val_loss: 0.0028\n",
      "Epoch 53/100\n",
      "17/17 [==============================] - 4s 235ms/step - loss: 5.5524e-06 - val_loss: 0.0049\n",
      "Epoch 54/100\n",
      "17/17 [==============================] - 4s 222ms/step - loss: 5.2652e-06 - val_loss: 0.0018\n",
      "Epoch 55/100\n",
      "17/17 [==============================] - 4s 222ms/step - loss: 5.0215e-06 - val_loss: 0.0029\n",
      "Epoch 56/100\n",
      "17/17 [==============================] - 4s 226ms/step - loss: 4.6175e-06 - val_loss: 0.0019\n",
      "Epoch 57/100\n",
      "17/17 [==============================] - 4s 218ms/step - loss: 5.1780e-06 - val_loss: 0.0021\n",
      "Epoch 58/100\n",
      "17/17 [==============================] - 4s 213ms/step - loss: 4.5989e-06 - val_loss: 0.0030\n",
      "Epoch 59/100\n",
      "17/17 [==============================] - 4s 251ms/step - loss: 4.4616e-06 - val_loss: 0.0020\n",
      "Epoch 60/100\n",
      "17/17 [==============================] - 3s 197ms/step - loss: 4.4171e-06 - val_loss: 0.0027\n",
      "Epoch 61/100\n",
      "17/17 [==============================] - 3s 205ms/step - loss: 4.5442e-06 - val_loss: 0.0020\n",
      "Epoch 62/100\n",
      "17/17 [==============================] - 4s 232ms/step - loss: 4.4479e-06 - val_loss: 0.0016\n",
      "Epoch 63/100\n",
      "17/17 [==============================] - 4s 237ms/step - loss: 4.5145e-06 - val_loss: 0.0021\n",
      "Epoch 64/100\n",
      "17/17 [==============================] - 4s 232ms/step - loss: 4.7611e-06 - val_loss: 0.0039\n",
      "Epoch 65/100\n",
      "17/17 [==============================] - 4s 215ms/step - loss: 4.8955e-06 - val_loss: 0.0023\n",
      "Epoch 66/100\n",
      "17/17 [==============================] - 4s 218ms/step - loss: 4.8148e-06 - val_loss: 0.0018\n",
      "Epoch 67/100\n",
      "17/17 [==============================] - 3s 201ms/step - loss: 4.0839e-06 - val_loss: 0.0014\n",
      "Epoch 68/100\n",
      "17/17 [==============================] - 4s 211ms/step - loss: 4.3453e-06 - val_loss: 0.0019\n",
      "Epoch 69/100\n",
      "17/17 [==============================] - 4s 211ms/step - loss: 5.6530e-06 - val_loss: 0.0027\n",
      "Epoch 70/100\n",
      "17/17 [==============================] - 4s 245ms/step - loss: 4.4324e-06 - val_loss: 0.0021\n",
      "Epoch 71/100\n",
      "17/17 [==============================] - 4s 212ms/step - loss: 4.0741e-06 - val_loss: 0.0018\n",
      "Epoch 72/100\n",
      "17/17 [==============================] - 3s 209ms/step - loss: 4.0852e-06 - val_loss: 0.0021\n",
      "Epoch 73/100\n",
      "17/17 [==============================] - 4s 245ms/step - loss: 3.9659e-06 - val_loss: 0.0013\n",
      "Epoch 74/100\n",
      "17/17 [==============================] - 4s 215ms/step - loss: 4.5629e-06 - val_loss: 0.0014\n",
      "Epoch 75/100\n",
      "17/17 [==============================] - 4s 226ms/step - loss: 4.6165e-06 - val_loss: 0.0034\n",
      "Epoch 76/100\n",
      "17/17 [==============================] - 4s 237ms/step - loss: 5.1054e-06 - val_loss: 0.0014\n",
      "Epoch 77/100\n",
      "17/17 [==============================] - 4s 252ms/step - loss: 3.9803e-06 - val_loss: 0.0018\n",
      "Epoch 78/100\n"
     ]
    },
    {
     "name": "stdout",
     "output_type": "stream",
     "text": [
      "17/17 [==============================] - 4s 228ms/step - loss: 3.9809e-06 - val_loss: 0.0024\n",
      "Epoch 79/100\n",
      "17/17 [==============================] - 4s 227ms/step - loss: 3.7993e-06 - val_loss: 0.0017\n",
      "Epoch 80/100\n",
      "17/17 [==============================] - 6s 365ms/step - loss: 3.6770e-06 - val_loss: 0.0017\n",
      "Epoch 81/100\n",
      "17/17 [==============================] - 5s 303ms/step - loss: 3.6778e-06 - val_loss: 0.0020\n",
      "Epoch 82/100\n",
      "17/17 [==============================] - 4s 269ms/step - loss: 4.3932e-06 - val_loss: 0.0028\n",
      "Epoch 83/100\n",
      "17/17 [==============================] - 4s 244ms/step - loss: 3.8975e-06 - val_loss: 0.0016\n",
      "Epoch 84/100\n",
      "17/17 [==============================] - 4s 220ms/step - loss: 3.5577e-06 - val_loss: 0.0026\n",
      "Epoch 85/100\n",
      "17/17 [==============================] - 4s 209ms/step - loss: 4.0078e-06 - val_loss: 0.0014\n",
      "Epoch 86/100\n",
      "17/17 [==============================] - 4s 219ms/step - loss: 4.1725e-06 - val_loss: 0.0017\n",
      "Epoch 87/100\n",
      "17/17 [==============================] - 4s 233ms/step - loss: 3.7112e-06 - val_loss: 0.0019\n",
      "Epoch 88/100\n",
      "17/17 [==============================] - 4s 237ms/step - loss: 5.8044e-06 - val_loss: 0.0013\n",
      "Epoch 89/100\n",
      "17/17 [==============================] - 4s 223ms/step - loss: 4.0806e-06 - val_loss: 0.0020\n",
      "Epoch 90/100\n",
      "17/17 [==============================] - 4s 224ms/step - loss: 3.9252e-06 - val_loss: 9.1257e-04\n",
      "Epoch 91/100\n",
      "17/17 [==============================] - 4s 229ms/step - loss: 3.4243e-06 - val_loss: 0.0013\n",
      "Epoch 92/100\n",
      "17/17 [==============================] - 5s 312ms/step - loss: 3.5538e-06 - val_loss: 0.0019\n",
      "Epoch 93/100\n",
      "17/17 [==============================] - 5s 274ms/step - loss: 3.2424e-06 - val_loss: 0.0018\n",
      "Epoch 94/100\n",
      "17/17 [==============================] - 5s 286ms/step - loss: 3.2128e-06 - val_loss: 0.0034\n",
      "Epoch 95/100\n",
      "17/17 [==============================] - 4s 266ms/step - loss: 4.7232e-06 - val_loss: 0.0024\n",
      "Epoch 96/100\n",
      "17/17 [==============================] - 4s 243ms/step - loss: 3.2541e-06 - val_loss: 0.0012\n",
      "Epoch 97/100\n",
      "17/17 [==============================] - 4s 240ms/step - loss: 3.4540e-06 - val_loss: 0.0013\n",
      "Epoch 98/100\n",
      "17/17 [==============================] - 4s 246ms/step - loss: 4.3535e-06 - val_loss: 0.0017\n",
      "Epoch 99/100\n",
      "17/17 [==============================] - 5s 267ms/step - loss: 3.6018e-06 - val_loss: 0.0015\n",
      "Epoch 100/100\n",
      "17/17 [==============================] - 4s 213ms/step - loss: 3.5713e-06 - val_loss: 0.0016\n"
     ]
    },
    {
     "data": {
      "text/plain": [
       "<keras.callbacks.History at 0x29d16e16f88>"
      ]
     },
     "execution_count": 61,
     "metadata": {},
     "output_type": "execute_result"
    }
   ],
   "source": [
    "model.fit(X_train,y_train,validation_data=(X_test,ytest),epochs=100,batch_size=64,verbose=1)"
   ]
  },
  {
   "cell_type": "code",
   "execution_count": 62,
   "id": "c05c43e0",
   "metadata": {},
   "outputs": [
    {
     "data": {
      "text/plain": [
       "'2.9.0'"
      ]
     },
     "execution_count": 62,
     "metadata": {},
     "output_type": "execute_result"
    }
   ],
   "source": [
    "import tensorflow as tf\n",
    "tf.__version__"
   ]
  },
  {
   "cell_type": "code",
   "execution_count": 63,
   "id": "d4dd4ad2",
   "metadata": {},
   "outputs": [
    {
     "name": "stdout",
     "output_type": "stream",
     "text": [
      "33/33 [==============================] - 4s 47ms/step\n",
      "17/17 [==============================] - 1s 40ms/step\n"
     ]
    }
   ],
   "source": [
    "###Do the prediction and check performance metrics\n",
    "train_predict=model.predict(X_train)\n",
    "test_predict=model.predict(X_test)"
   ]
  },
  {
   "cell_type": "code",
   "execution_count": 64,
   "id": "c196d36e",
   "metadata": {},
   "outputs": [],
   "source": [
    "##Transformback to original form\n",
    "train_predict=scaler.inverse_transform(train_predict)\n",
    "test_predict=scaler.inverse_transform(test_predict)"
   ]
  },
  {
   "cell_type": "code",
   "execution_count": 65,
   "id": "1a6fe236",
   "metadata": {},
   "outputs": [
    {
     "data": {
      "text/plain": [
       "56.3417876662996"
      ]
     },
     "execution_count": 65,
     "metadata": {},
     "output_type": "execute_result"
    }
   ],
   "source": [
    "### Calculate RMSE performance metrics\n",
    "import math\n",
    "from sklearn.metrics import mean_squared_error\n",
    "math.sqrt(mean_squared_error(y_train,train_predict))"
   ]
  },
  {
   "cell_type": "code",
   "execution_count": 66,
   "id": "aea74e03",
   "metadata": {},
   "outputs": [
    {
     "data": {
      "text/plain": [
       "565.1234990101754"
      ]
     },
     "execution_count": 66,
     "metadata": {},
     "output_type": "execute_result"
    }
   ],
   "source": [
    "### Test Data RMSE\n",
    "math.sqrt(mean_squared_error(ytest,test_predict))"
   ]
  },
  {
   "cell_type": "code",
   "execution_count": 67,
   "id": "fcb97f90",
   "metadata": {},
   "outputs": [
    {
     "name": "stderr",
     "output_type": "stream",
     "text": [
      "c:\\users\\lavaa\\appdata\\local\\programs\\python\\python37\\lib\\site-packages\\ipykernel_launcher.py:15: UserWarning:\n",
      "\n",
      "Matplotlib is currently using agg, which is a non-GUI backend, so cannot show the figure.\n",
      "\n"
     ]
    },
    {
     "data": {
      "image/png": "[encoded data removed]",
      "text/plain": [
       "<Figure size 432x288 with 1 Axes>"
      ]
     },
     "metadata": {
      "needs_background": "light"
     },
     "output_type": "display_data"
    }
   ],
   "source": [
    "### Plotting \n",
    "# shift train predictions for plotting\n",
    "look_back=100\n",
    "trainPredictPlot = numpy.empty_like(df1)\n",
    "trainPredictPlot[:, :] = np.nan\n",
    "trainPredictPlot[look_back:len(train_predict)+look_back, :] = train_predict\n",
    "# shift test predictions for plotting\n",
    "testPredictPlot = numpy.empty_like(df1)\n",
    "testPredictPlot[:, :] = numpy.nan\n",
    "testPredictPlot[len(train_predict)+(look_back*2)+1:len(df1)-1, :] = test_predict\n",
    "# plot baseline and predictions\n",
    "plt.plot(scaler.inverse_transform(df1))\n",
    "plt.plot(trainPredictPlot)\n",
    "plt.plot(testPredictPlot)\n",
    "plt.show()"
   ]
  },
  {
   "cell_type": "code",
   "execution_count": 68,
   "id": "b0758838",
   "metadata": {},
   "outputs": [
    {
     "data": {
      "text/plain": [
       "618"
      ]
     },
     "execution_count": 68,
     "metadata": {},
     "output_type": "execute_result"
    }
   ],
   "source": [
    "len(test_data)"
   ]
  },
  {
   "cell_type": "code",
   "execution_count": 69,
   "id": "a1bffef8",
   "metadata": {},
   "outputs": [
    {
     "data": {
      "text/plain": [
       "(1, 100)"
      ]
     },
     "execution_count": 69,
     "metadata": {},
     "output_type": "execute_result"
    }
   ],
   "source": [
    "x_input=test_data[518:].reshape(1,-1)\n",
    "x_input.shape"
   ]
  },
  {
   "cell_type": "code",
   "execution_count": 70,
   "id": "df2b3dcf",
   "metadata": {},
   "outputs": [],
   "source": [
    "temp_input=list(x_input)\n",
    "temp_input=temp_input[0].tolist()"
   ]
  },
  {
   "cell_type": "code",
   "execution_count": 71,
   "id": "07b9f814",
   "metadata": {},
   "outputs": [
    {
     "data": {
      "text/plain": [
       "[0.5653509463439819,\n",
       " 0.5773641669346289,\n",
       " 0.5731349641016312,\n",
       " 0.5473269233993586,\n",
       " 0.5302936490560712,\n",
       " 0.5496746286833633,\n",
       " 0.5367539417232805,\n",
       " 0.5424067676747327,\n",
       " 0.5640855035720223,\n",
       " 0.5659087188025348,\n",
       " 0.5681648593629982,\n",
       " 0.5598063517250172,\n",
       " 0.5687642475310851,\n",
       " 0.5845737456247789,\n",
       " 0.588578152488328,\n",
       " 0.5872211958056592,\n",
       " 0.5858059059916778,\n",
       " 0.5867882704757084,\n",
       " 0.6028974626534457,\n",
       " 0.6036883643859204,\n",
       " 0.604512548523456,\n",
       " 0.5890360777316985,\n",
       " 0.5946389038563115,\n",
       " 0.5958793467148514,\n",
       " 0.6053201168648773,\n",
       " 0.6062858147399613,\n",
       " 0.6083671083449833,\n",
       " 0.5839576908477456,\n",
       " 0.5916251947812662,\n",
       " 0.6020816118203833,\n",
       " 0.6034969016343648,\n",
       " 0.6207716385560472,\n",
       " 0.634899435156777,\n",
       " 0.6234107046196221,\n",
       " 0.6265326450271551,\n",
       " 0.6216790541126508,\n",
       " 0.6214625914476753,\n",
       " 0.6267158252870697,\n",
       " 0.6259332568590682,\n",
       " 0.6277314721761611,\n",
       " 0.6367725994012968,\n",
       " 0.630012561837212,\n",
       " 0.6353823095007352,\n",
       " 0.6468543734289437,\n",
       " 0.6513167055358632,\n",
       " 0.6573441236859537,\n",
       " 0.6779156479706107,\n",
       " 0.7004601837149697,\n",
       " 0.6955983103088244,\n",
       " 0.696872035572425,\n",
       " 0.7203490375996395,\n",
       " 0.7334029049927976,\n",
       " 0.8292922578658308,\n",
       " 0.8239391768112541,\n",
       " 0.8401149846119451,\n",
       " 0.8727330627051421,\n",
       " 0.9035028748415745,\n",
       " 0.9822506712260004,\n",
       " 0.9517888864780847,\n",
       " 0.9866380544054931,\n",
       " 1.0,\n",
       " 0.9934896566931193,\n",
       " 0.9442462296731661,\n",
       " 0.8281600463397786,\n",
       " 0.8651654059868038,\n",
       " 0.8614690773246036,\n",
       " 0.836418655949745,\n",
       " 0.8197433071961494,\n",
       " 0.854159549793607,\n",
       " 0.8826982720958279,\n",
       " 0.8888339215784061,\n",
       " 0.9227007758346162,\n",
       " 0.939192893515465,\n",
       " 0.8993652875449503,\n",
       " 0.9051679097255921,\n",
       " 0.8767957518871715,\n",
       " 0.9226424427033036,\n",
       " 0.9291111194878182,\n",
       " 0.8876850434434074,\n",
       " 0.8790268417213831,\n",
       " 0.8210586481692841,\n",
       " 0.8160968767351242,\n",
       " 0.851678664076527,\n",
       " 0.8660062567332858,\n",
       " 0.8117594425696388,\n",
       " 0.8227736828801411,\n",
       " 0.7806316032178503,\n",
       " 0.7740547459136801,\n",
       " 0.7886071345398875,\n",
       " 0.7477554975629761,\n",
       " 0.7524592414354586,\n",
       " 0.7252941932376851,\n",
       " 0.7574210636824507,\n",
       " 0.8159803120981634,\n",
       " 0.8643745550671611,\n",
       " 0.8868025261745592,\n",
       " 0.8822486801569306,\n",
       " 0.8803505159989911,\n",
       " 0.8671551348682845,\n",
       " 0.8558662511999907]"
      ]
     },
     "execution_count": 71,
     "metadata": {},
     "output_type": "execute_result"
    }
   ],
   "source": [
    "temp_input"
   ]
  },
  {
   "cell_type": "code",
   "execution_count": 72,
   "id": "b614b45f",
   "metadata": {},
   "outputs": [
    {
     "name": "stdout",
     "output_type": "stream",
     "text": [
      "[0.8132129]\n",
      "101\n",
      "1 day input [0.57736417 0.57313496 0.54732692 0.53029365 0.54967463 0.53675394\n",
      " 0.54240677 0.5640855  0.56590872 0.56816486 0.55980635 0.56876425\n",
      " 0.58457375 0.58857815 0.5872212  0.58580591 0.58678827 0.60289746\n",
      " 0.60368836 0.60451255 0.58903608 0.5946389  0.59587935 0.60532012\n",
      " 0.60628581 0.60836711 0.58395769 0.59162519 0.60208161 0.6034969\n",
      " 0.62077164 0.63489944 0.6234107  0.62653265 0.62167905 0.62146259\n",
      " 0.62671583 0.62593326 0.62773147 0.6367726  0.63001256 0.63538231\n",
      " 0.64685437 0.65131671 0.65734412 0.67791565 0.70046018 0.69559831\n",
      " 0.69687204 0.72034904 0.7334029  0.82929226 0.82393918 0.84011498\n",
      " 0.87273306 0.90350287 0.98225067 0.95178889 0.98663805 1.\n",
      " 0.99348966 0.94424623 0.82816005 0.86516541 0.86146908 0.83641866\n",
      " 0.81974331 0.85415955 0.88269827 0.88883392 0.92270078 0.93919289\n",
      " 0.89936529 0.90516791 0.87679575 0.92264244 0.92911112 0.88768504\n",
      " 0.87902684 0.82105865 0.81609688 0.85167866 0.86600626 0.81175944\n",
      " 0.82277368 0.7806316  0.77405475 0.78860713 0.7477555  0.75245924\n",
      " 0.72529419 0.75742106 0.81598031 0.86437456 0.88680253 0.88224868\n",
      " 0.88035052 0.86715513 0.85586625 0.81321287]\n",
      "1 day output [[0.7969443]]\n",
      "2 day input [0.57313496 0.54732692 0.53029365 0.54967463 0.53675394 0.54240677\n",
      " 0.5640855  0.56590872 0.56816486 0.55980635 0.56876425 0.58457375\n",
      " 0.58857815 0.5872212  0.58580591 0.58678827 0.60289746 0.60368836\n",
      " 0.60451255 0.58903608 0.5946389  0.59587935 0.60532012 0.60628581\n",
      " 0.60836711 0.58395769 0.59162519 0.60208161 0.6034969  0.62077164\n",
      " 0.63489944 0.6234107  0.62653265 0.62167905 0.62146259 0.62671583\n",
      " 0.62593326 0.62773147 0.6367726  0.63001256 0.63538231 0.64685437\n",
      " 0.65131671 0.65734412 0.67791565 0.70046018 0.69559831 0.69687204\n",
      " 0.72034904 0.7334029  0.82929226 0.82393918 0.84011498 0.87273306\n",
      " 0.90350287 0.98225067 0.95178889 0.98663805 1.         0.99348966\n",
      " 0.94424623 0.82816005 0.86516541 0.86146908 0.83641866 0.81974331\n",
      " 0.85415955 0.88269827 0.88883392 0.92270078 0.93919289 0.89936529\n",
      " 0.90516791 0.87679575 0.92264244 0.92911112 0.88768504 0.87902684\n",
      " 0.82105865 0.81609688 0.85167866 0.86600626 0.81175944 0.82277368\n",
      " 0.7806316  0.77405475 0.78860713 0.7477555  0.75245924 0.72529419\n",
      " 0.75742106 0.81598031 0.86437456 0.88680253 0.88224868 0.88035052\n",
      " 0.86715513 0.85586625 0.81321287 0.79694432]\n",
      "2 day output [[0.77448034]]\n",
      "3 day input [0.54732692 0.53029365 0.54967463 0.53675394 0.54240677 0.5640855\n",
      " 0.56590872 0.56816486 0.55980635 0.56876425 0.58457375 0.58857815\n",
      " 0.5872212  0.58580591 0.58678827 0.60289746 0.60368836 0.60451255\n",
      " 0.58903608 0.5946389  0.59587935 0.60532012 0.60628581 0.60836711\n",
      " 0.58395769 0.59162519 0.60208161 0.6034969  0.62077164 0.63489944\n",
      " 0.6234107  0.62653265 0.62167905 0.62146259 0.62671583 0.62593326\n",
      " 0.62773147 0.6367726  0.63001256 0.63538231 0.64685437 0.65131671\n",
      " 0.65734412 0.67791565 0.70046018 0.69559831 0.69687204 0.72034904\n",
      " 0.7334029  0.82929226 0.82393918 0.84011498 0.87273306 0.90350287\n",
      " 0.98225067 0.95178889 0.98663805 1.         0.99348966 0.94424623\n",
      " 0.82816005 0.86516541 0.86146908 0.83641866 0.81974331 0.85415955\n",
      " 0.88269827 0.88883392 0.92270078 0.93919289 0.89936529 0.90516791\n",
      " 0.87679575 0.92264244 0.92911112 0.88768504 0.87902684 0.82105865\n",
      " 0.81609688 0.85167866 0.86600626 0.81175944 0.82277368 0.7806316\n",
      " 0.77405475 0.78860713 0.7477555  0.75245924 0.72529419 0.75742106\n",
      " 0.81598031 0.86437456 0.88680253 0.88224868 0.88035052 0.86715513\n",
      " 0.85586625 0.81321287 0.79694432 0.77448034]\n",
      "3 day output [[0.74978906]]\n",
      "4 day input [0.53029365 0.54967463 0.53675394 0.54240677 0.5640855  0.56590872\n",
      " 0.56816486 0.55980635 0.56876425 0.58457375 0.58857815 0.5872212\n",
      " 0.58580591 0.58678827 0.60289746 0.60368836 0.60451255 0.58903608\n",
      " 0.5946389  0.59587935 0.60532012 0.60628581 0.60836711 0.58395769\n",
      " 0.59162519 0.60208161 0.6034969  0.62077164 0.63489944 0.6234107\n",
      " 0.62653265 0.62167905 0.62146259 0.62671583 0.62593326 0.62773147\n",
      " 0.6367726  0.63001256 0.63538231 0.64685437 0.65131671 0.65734412\n",
      " 0.67791565 0.70046018 0.69559831 0.69687204 0.72034904 0.7334029\n",
      " 0.82929226 0.82393918 0.84011498 0.87273306 0.90350287 0.98225067\n",
      " 0.95178889 0.98663805 1.         0.99348966 0.94424623 0.82816005\n",
      " 0.86516541 0.86146908 0.83641866 0.81974331 0.85415955 0.88269827\n",
      " 0.88883392 0.92270078 0.93919289 0.89936529 0.90516791 0.87679575\n",
      " 0.92264244 0.92911112 0.88768504 0.87902684 0.82105865 0.81609688\n",
      " 0.85167866 0.86600626 0.81175944 0.82277368 0.7806316  0.77405475\n",
      " 0.78860713 0.7477555  0.75245924 0.72529419 0.75742106 0.81598031\n",
      " 0.86437456 0.88680253 0.88224868 0.88035052 0.86715513 0.85586625\n",
      " 0.81321287 0.79694432 0.77448034 0.74978906]\n",
      "4 day output [[0.72502905]]\n",
      "5 day input [0.54967463 0.53675394 0.54240677 0.5640855  0.56590872 0.56816486\n",
      " 0.55980635 0.56876425 0.58457375 0.58857815 0.5872212  0.58580591\n",
      " 0.58678827 0.60289746 0.60368836 0.60451255 0.58903608 0.5946389\n",
      " 0.59587935 0.60532012 0.60628581 0.60836711 0.58395769 0.59162519\n",
      " 0.60208161 0.6034969  0.62077164 0.63489944 0.6234107  0.62653265\n",
      " 0.62167905 0.62146259 0.62671583 0.62593326 0.62773147 0.6367726\n",
      " 0.63001256 0.63538231 0.64685437 0.65131671 0.65734412 0.67791565\n",
      " 0.70046018 0.69559831 0.69687204 0.72034904 0.7334029  0.82929226\n",
      " 0.82393918 0.84011498 0.87273306 0.90350287 0.98225067 0.95178889\n",
      " 0.98663805 1.         0.99348966 0.94424623 0.82816005 0.86516541\n",
      " 0.86146908 0.83641866 0.81974331 0.85415955 0.88269827 0.88883392\n",
      " 0.92270078 0.93919289 0.89936529 0.90516791 0.87679575 0.92264244\n",
      " 0.92911112 0.88768504 0.87902684 0.82105865 0.81609688 0.85167866\n",
      " 0.86600626 0.81175944 0.82277368 0.7806316  0.77405475 0.78860713\n",
      " 0.7477555  0.75245924 0.72529419 0.75742106 0.81598031 0.86437456\n",
      " 0.88680253 0.88224868 0.88035052 0.86715513 0.85586625 0.81321287\n",
      " 0.79694432 0.77448034 0.74978906 0.72502905]\n",
      "5 day output [[0.70123553]]\n",
      "6 day input [0.53675394 0.54240677 0.5640855  0.56590872 0.56816486 0.55980635\n",
      " 0.56876425 0.58457375 0.58857815 0.5872212  0.58580591 0.58678827\n",
      " 0.60289746 0.60368836 0.60451255 0.58903608 0.5946389  0.59587935\n",
      " 0.60532012 0.60628581 0.60836711 0.58395769 0.59162519 0.60208161\n",
      " 0.6034969  0.62077164 0.63489944 0.6234107  0.62653265 0.62167905\n",
      " 0.62146259 0.62671583 0.62593326 0.62773147 0.6367726  0.63001256\n",
      " 0.63538231 0.64685437 0.65131671 0.65734412 0.67791565 0.70046018\n",
      " 0.69559831 0.69687204 0.72034904 0.7334029  0.82929226 0.82393918\n",
      " 0.84011498 0.87273306 0.90350287 0.98225067 0.95178889 0.98663805\n",
      " 1.         0.99348966 0.94424623 0.82816005 0.86516541 0.86146908\n",
      " 0.83641866 0.81974331 0.85415955 0.88269827 0.88883392 0.92270078\n",
      " 0.93919289 0.89936529 0.90516791 0.87679575 0.92264244 0.92911112\n",
      " 0.88768504 0.87902684 0.82105865 0.81609688 0.85167866 0.86600626\n",
      " 0.81175944 0.82277368 0.7806316  0.77405475 0.78860713 0.7477555\n",
      " 0.75245924 0.72529419 0.75742106 0.81598031 0.86437456 0.88680253\n",
      " 0.88224868 0.88035052 0.86715513 0.85586625 0.81321287 0.79694432\n",
      " 0.77448034 0.74978906 0.72502905 0.70123553]\n",
      "6 day output [[0.6789025]]\n",
      "7 day input [0.54240677 0.5640855  0.56590872 0.56816486 0.55980635 0.56876425\n",
      " 0.58457375 0.58857815 0.5872212  0.58580591 0.58678827 0.60289746\n",
      " 0.60368836 0.60451255 0.58903608 0.5946389  0.59587935 0.60532012\n",
      " 0.60628581 0.60836711 0.58395769 0.59162519 0.60208161 0.6034969\n",
      " 0.62077164 0.63489944 0.6234107  0.62653265 0.62167905 0.62146259\n",
      " 0.62671583 0.62593326 0.62773147 0.6367726  0.63001256 0.63538231\n",
      " 0.64685437 0.65131671 0.65734412 0.67791565 0.70046018 0.69559831\n",
      " 0.69687204 0.72034904 0.7334029  0.82929226 0.82393918 0.84011498\n",
      " 0.87273306 0.90350287 0.98225067 0.95178889 0.98663805 1.\n",
      " 0.99348966 0.94424623 0.82816005 0.86516541 0.86146908 0.83641866\n",
      " 0.81974331 0.85415955 0.88269827 0.88883392 0.92270078 0.93919289\n",
      " 0.89936529 0.90516791 0.87679575 0.92264244 0.92911112 0.88768504\n",
      " 0.87902684 0.82105865 0.81609688 0.85167866 0.86600626 0.81175944\n",
      " 0.82277368 0.7806316  0.77405475 0.78860713 0.7477555  0.75245924\n",
      " 0.72529419 0.75742106 0.81598031 0.86437456 0.88680253 0.88224868\n",
      " 0.88035052 0.86715513 0.85586625 0.81321287 0.79694432 0.77448034\n",
      " 0.74978906 0.72502905 0.70123553 0.67890251]\n",
      "7 day output [[0.6582699]]\n",
      "8 day input [0.5640855  0.56590872 0.56816486 0.55980635 0.56876425 0.58457375\n",
      " 0.58857815 0.5872212  0.58580591 0.58678827 0.60289746 0.60368836\n",
      " 0.60451255 0.58903608 0.5946389  0.59587935 0.60532012 0.60628581\n",
      " 0.60836711 0.58395769 0.59162519 0.60208161 0.6034969  0.62077164\n",
      " 0.63489944 0.6234107  0.62653265 0.62167905 0.62146259 0.62671583\n",
      " 0.62593326 0.62773147 0.6367726  0.63001256 0.63538231 0.64685437\n",
      " 0.65131671 0.65734412 0.67791565 0.70046018 0.69559831 0.69687204\n",
      " 0.72034904 0.7334029  0.82929226 0.82393918 0.84011498 0.87273306\n",
      " 0.90350287 0.98225067 0.95178889 0.98663805 1.         0.99348966\n",
      " 0.94424623 0.82816005 0.86516541 0.86146908 0.83641866 0.81974331\n",
      " 0.85415955 0.88269827 0.88883392 0.92270078 0.93919289 0.89936529\n",
      " 0.90516791 0.87679575 0.92264244 0.92911112 0.88768504 0.87902684\n",
      " 0.82105865 0.81609688 0.85167866 0.86600626 0.81175944 0.82277368\n",
      " 0.7806316  0.77405475 0.78860713 0.7477555  0.75245924 0.72529419\n",
      " 0.75742106 0.81598031 0.86437456 0.88680253 0.88224868 0.88035052\n",
      " 0.86715513 0.85586625 0.81321287 0.79694432 0.77448034 0.74978906\n",
      " 0.72502905 0.70123553 0.67890251 0.65826988]\n",
      "8 day output [[0.639432]]\n",
      "9 day input [0.56590872 0.56816486 0.55980635 0.56876425 0.58457375 0.58857815\n",
      " 0.5872212  0.58580591 0.58678827 0.60289746 0.60368836 0.60451255\n",
      " 0.58903608 0.5946389  0.59587935 0.60532012 0.60628581 0.60836711\n",
      " 0.58395769 0.59162519 0.60208161 0.6034969  0.62077164 0.63489944\n",
      " 0.6234107  0.62653265 0.62167905 0.62146259 0.62671583 0.62593326\n",
      " 0.62773147 0.6367726  0.63001256 0.63538231 0.64685437 0.65131671\n",
      " 0.65734412 0.67791565 0.70046018 0.69559831 0.69687204 0.72034904\n",
      " 0.7334029  0.82929226 0.82393918 0.84011498 0.87273306 0.90350287\n",
      " 0.98225067 0.95178889 0.98663805 1.         0.99348966 0.94424623\n",
      " 0.82816005 0.86516541 0.86146908 0.83641866 0.81974331 0.85415955\n",
      " 0.88269827 0.88883392 0.92270078 0.93919289 0.89936529 0.90516791\n",
      " 0.87679575 0.92264244 0.92911112 0.88768504 0.87902684 0.82105865\n",
      " 0.81609688 0.85167866 0.86600626 0.81175944 0.82277368 0.7806316\n",
      " 0.77405475 0.78860713 0.7477555  0.75245924 0.72529419 0.75742106\n",
      " 0.81598031 0.86437456 0.88680253 0.88224868 0.88035052 0.86715513\n",
      " 0.85586625 0.81321287 0.79694432 0.77448034 0.74978906 0.72502905\n",
      " 0.70123553 0.67890251 0.65826988 0.63943201]\n"
     ]
    },
    {
     "name": "stdout",
     "output_type": "stream",
     "text": [
      "9 day output [[0.62237656]]\n",
      "10 day input [0.56816486 0.55980635 0.56876425 0.58457375 0.58857815 0.5872212\n",
      " 0.58580591 0.58678827 0.60289746 0.60368836 0.60451255 0.58903608\n",
      " 0.5946389  0.59587935 0.60532012 0.60628581 0.60836711 0.58395769\n",
      " 0.59162519 0.60208161 0.6034969  0.62077164 0.63489944 0.6234107\n",
      " 0.62653265 0.62167905 0.62146259 0.62671583 0.62593326 0.62773147\n",
      " 0.6367726  0.63001256 0.63538231 0.64685437 0.65131671 0.65734412\n",
      " 0.67791565 0.70046018 0.69559831 0.69687204 0.72034904 0.7334029\n",
      " 0.82929226 0.82393918 0.84011498 0.87273306 0.90350287 0.98225067\n",
      " 0.95178889 0.98663805 1.         0.99348966 0.94424623 0.82816005\n",
      " 0.86516541 0.86146908 0.83641866 0.81974331 0.85415955 0.88269827\n",
      " 0.88883392 0.92270078 0.93919289 0.89936529 0.90516791 0.87679575\n",
      " 0.92264244 0.92911112 0.88768504 0.87902684 0.82105865 0.81609688\n",
      " 0.85167866 0.86600626 0.81175944 0.82277368 0.7806316  0.77405475\n",
      " 0.78860713 0.7477555  0.75245924 0.72529419 0.75742106 0.81598031\n",
      " 0.86437456 0.88680253 0.88224868 0.88035052 0.86715513 0.85586625\n",
      " 0.81321287 0.79694432 0.77448034 0.74978906 0.72502905 0.70123553\n",
      " 0.67890251 0.65826988 0.63943201 0.62237656]\n",
      "10 day output [[0.6070065]]\n",
      "11 day input [0.55980635 0.56876425 0.58457375 0.58857815 0.5872212  0.58580591\n",
      " 0.58678827 0.60289746 0.60368836 0.60451255 0.58903608 0.5946389\n",
      " 0.59587935 0.60532012 0.60628581 0.60836711 0.58395769 0.59162519\n",
      " 0.60208161 0.6034969  0.62077164 0.63489944 0.6234107  0.62653265\n",
      " 0.62167905 0.62146259 0.62671583 0.62593326 0.62773147 0.6367726\n",
      " 0.63001256 0.63538231 0.64685437 0.65131671 0.65734412 0.67791565\n",
      " 0.70046018 0.69559831 0.69687204 0.72034904 0.7334029  0.82929226\n",
      " 0.82393918 0.84011498 0.87273306 0.90350287 0.98225067 0.95178889\n",
      " 0.98663805 1.         0.99348966 0.94424623 0.82816005 0.86516541\n",
      " 0.86146908 0.83641866 0.81974331 0.85415955 0.88269827 0.88883392\n",
      " 0.92270078 0.93919289 0.89936529 0.90516791 0.87679575 0.92264244\n",
      " 0.92911112 0.88768504 0.87902684 0.82105865 0.81609688 0.85167866\n",
      " 0.86600626 0.81175944 0.82277368 0.7806316  0.77405475 0.78860713\n",
      " 0.7477555  0.75245924 0.72529419 0.75742106 0.81598031 0.86437456\n",
      " 0.88680253 0.88224868 0.88035052 0.86715513 0.85586625 0.81321287\n",
      " 0.79694432 0.77448034 0.74978906 0.72502905 0.70123553 0.67890251\n",
      " 0.65826988 0.63943201 0.62237656 0.60700649]\n",
      "11 day output [[0.59316015]]\n",
      "12 day input [0.56876425 0.58457375 0.58857815 0.5872212  0.58580591 0.58678827\n",
      " 0.60289746 0.60368836 0.60451255 0.58903608 0.5946389  0.59587935\n",
      " 0.60532012 0.60628581 0.60836711 0.58395769 0.59162519 0.60208161\n",
      " 0.6034969  0.62077164 0.63489944 0.6234107  0.62653265 0.62167905\n",
      " 0.62146259 0.62671583 0.62593326 0.62773147 0.6367726  0.63001256\n",
      " 0.63538231 0.64685437 0.65131671 0.65734412 0.67791565 0.70046018\n",
      " 0.69559831 0.69687204 0.72034904 0.7334029  0.82929226 0.82393918\n",
      " 0.84011498 0.87273306 0.90350287 0.98225067 0.95178889 0.98663805\n",
      " 1.         0.99348966 0.94424623 0.82816005 0.86516541 0.86146908\n",
      " 0.83641866 0.81974331 0.85415955 0.88269827 0.88883392 0.92270078\n",
      " 0.93919289 0.89936529 0.90516791 0.87679575 0.92264244 0.92911112\n",
      " 0.88768504 0.87902684 0.82105865 0.81609688 0.85167866 0.86600626\n",
      " 0.81175944 0.82277368 0.7806316  0.77405475 0.78860713 0.7477555\n",
      " 0.75245924 0.72529419 0.75742106 0.81598031 0.86437456 0.88680253\n",
      " 0.88224868 0.88035052 0.86715513 0.85586625 0.81321287 0.79694432\n",
      " 0.77448034 0.74978906 0.72502905 0.70123553 0.67890251 0.65826988\n",
      " 0.63943201 0.62237656 0.60700649 0.59316015]\n",
      "12 day output [[0.58063483]]\n",
      "13 day input [0.58457375 0.58857815 0.5872212  0.58580591 0.58678827 0.60289746\n",
      " 0.60368836 0.60451255 0.58903608 0.5946389  0.59587935 0.60532012\n",
      " 0.60628581 0.60836711 0.58395769 0.59162519 0.60208161 0.6034969\n",
      " 0.62077164 0.63489944 0.6234107  0.62653265 0.62167905 0.62146259\n",
      " 0.62671583 0.62593326 0.62773147 0.6367726  0.63001256 0.63538231\n",
      " 0.64685437 0.65131671 0.65734412 0.67791565 0.70046018 0.69559831\n",
      " 0.69687204 0.72034904 0.7334029  0.82929226 0.82393918 0.84011498\n",
      " 0.87273306 0.90350287 0.98225067 0.95178889 0.98663805 1.\n",
      " 0.99348966 0.94424623 0.82816005 0.86516541 0.86146908 0.83641866\n",
      " 0.81974331 0.85415955 0.88269827 0.88883392 0.92270078 0.93919289\n",
      " 0.89936529 0.90516791 0.87679575 0.92264244 0.92911112 0.88768504\n",
      " 0.87902684 0.82105865 0.81609688 0.85167866 0.86600626 0.81175944\n",
      " 0.82277368 0.7806316  0.77405475 0.78860713 0.7477555  0.75245924\n",
      " 0.72529419 0.75742106 0.81598031 0.86437456 0.88680253 0.88224868\n",
      " 0.88035052 0.86715513 0.85586625 0.81321287 0.79694432 0.77448034\n",
      " 0.74978906 0.72502905 0.70123553 0.67890251 0.65826988 0.63943201\n",
      " 0.62237656 0.60700649 0.59316015 0.58063483]\n",
      "13 day output [[0.5692079]]\n",
      "14 day input [0.58857815 0.5872212  0.58580591 0.58678827 0.60289746 0.60368836\n",
      " 0.60451255 0.58903608 0.5946389  0.59587935 0.60532012 0.60628581\n",
      " 0.60836711 0.58395769 0.59162519 0.60208161 0.6034969  0.62077164\n",
      " 0.63489944 0.6234107  0.62653265 0.62167905 0.62146259 0.62671583\n",
      " 0.62593326 0.62773147 0.6367726  0.63001256 0.63538231 0.64685437\n",
      " 0.65131671 0.65734412 0.67791565 0.70046018 0.69559831 0.69687204\n",
      " 0.72034904 0.7334029  0.82929226 0.82393918 0.84011498 0.87273306\n",
      " 0.90350287 0.98225067 0.95178889 0.98663805 1.         0.99348966\n",
      " 0.94424623 0.82816005 0.86516541 0.86146908 0.83641866 0.81974331\n",
      " 0.85415955 0.88269827 0.88883392 0.92270078 0.93919289 0.89936529\n",
      " 0.90516791 0.87679575 0.92264244 0.92911112 0.88768504 0.87902684\n",
      " 0.82105865 0.81609688 0.85167866 0.86600626 0.81175944 0.82277368\n",
      " 0.7806316  0.77405475 0.78860713 0.7477555  0.75245924 0.72529419\n",
      " 0.75742106 0.81598031 0.86437456 0.88680253 0.88224868 0.88035052\n",
      " 0.86715513 0.85586625 0.81321287 0.79694432 0.77448034 0.74978906\n",
      " 0.72502905 0.70123553 0.67890251 0.65826988 0.63943201 0.62237656\n",
      " 0.60700649 0.59316015 0.58063483 0.56920791]\n",
      "14 day output [[0.55865633]]\n",
      "15 day input [0.5872212  0.58580591 0.58678827 0.60289746 0.60368836 0.60451255\n",
      " 0.58903608 0.5946389  0.59587935 0.60532012 0.60628581 0.60836711\n",
      " 0.58395769 0.59162519 0.60208161 0.6034969  0.62077164 0.63489944\n",
      " 0.6234107  0.62653265 0.62167905 0.62146259 0.62671583 0.62593326\n",
      " 0.62773147 0.6367726  0.63001256 0.63538231 0.64685437 0.65131671\n",
      " 0.65734412 0.67791565 0.70046018 0.69559831 0.69687204 0.72034904\n",
      " 0.7334029  0.82929226 0.82393918 0.84011498 0.87273306 0.90350287\n",
      " 0.98225067 0.95178889 0.98663805 1.         0.99348966 0.94424623\n",
      " 0.82816005 0.86516541 0.86146908 0.83641866 0.81974331 0.85415955\n",
      " 0.88269827 0.88883392 0.92270078 0.93919289 0.89936529 0.90516791\n",
      " 0.87679575 0.92264244 0.92911112 0.88768504 0.87902684 0.82105865\n",
      " 0.81609688 0.85167866 0.86600626 0.81175944 0.82277368 0.7806316\n",
      " 0.77405475 0.78860713 0.7477555  0.75245924 0.72529419 0.75742106\n",
      " 0.81598031 0.86437456 0.88680253 0.88224868 0.88035052 0.86715513\n",
      " 0.85586625 0.81321287 0.79694432 0.77448034 0.74978906 0.72502905\n",
      " 0.70123553 0.67890251 0.65826988 0.63943201 0.62237656 0.60700649\n",
      " 0.59316015 0.58063483 0.56920791 0.55865633]\n",
      "15 day output [[0.54877216]]\n",
      "16 day input [0.58580591 0.58678827 0.60289746 0.60368836 0.60451255 0.58903608\n",
      " 0.5946389  0.59587935 0.60532012 0.60628581 0.60836711 0.58395769\n",
      " 0.59162519 0.60208161 0.6034969  0.62077164 0.63489944 0.6234107\n",
      " 0.62653265 0.62167905 0.62146259 0.62671583 0.62593326 0.62773147\n",
      " 0.6367726  0.63001256 0.63538231 0.64685437 0.65131671 0.65734412\n",
      " 0.67791565 0.70046018 0.69559831 0.69687204 0.72034904 0.7334029\n",
      " 0.82929226 0.82393918 0.84011498 0.87273306 0.90350287 0.98225067\n",
      " 0.95178889 0.98663805 1.         0.99348966 0.94424623 0.82816005\n",
      " 0.86516541 0.86146908 0.83641866 0.81974331 0.85415955 0.88269827\n",
      " 0.88883392 0.92270078 0.93919289 0.89936529 0.90516791 0.87679575\n",
      " 0.92264244 0.92911112 0.88768504 0.87902684 0.82105865 0.81609688\n",
      " 0.85167866 0.86600626 0.81175944 0.82277368 0.7806316  0.77405475\n",
      " 0.78860713 0.7477555  0.75245924 0.72529419 0.75742106 0.81598031\n",
      " 0.86437456 0.88680253 0.88224868 0.88035052 0.86715513 0.85586625\n",
      " 0.81321287 0.79694432 0.77448034 0.74978906 0.72502905 0.70123553\n",
      " 0.67890251 0.65826988 0.63943201 0.62237656 0.60700649 0.59316015\n",
      " 0.58063483 0.56920791 0.55865633 0.54877216]\n",
      "16 day output [[0.53937274]]\n",
      "17 day input [0.58678827 0.60289746 0.60368836 0.60451255 0.58903608 0.5946389\n",
      " 0.59587935 0.60532012 0.60628581 0.60836711 0.58395769 0.59162519\n",
      " 0.60208161 0.6034969  0.62077164 0.63489944 0.6234107  0.62653265\n",
      " 0.62167905 0.62146259 0.62671583 0.62593326 0.62773147 0.6367726\n",
      " 0.63001256 0.63538231 0.64685437 0.65131671 0.65734412 0.67791565\n",
      " 0.70046018 0.69559831 0.69687204 0.72034904 0.7334029  0.82929226\n",
      " 0.82393918 0.84011498 0.87273306 0.90350287 0.98225067 0.95178889\n",
      " 0.98663805 1.         0.99348966 0.94424623 0.82816005 0.86516541\n",
      " 0.86146908 0.83641866 0.81974331 0.85415955 0.88269827 0.88883392\n",
      " 0.92270078 0.93919289 0.89936529 0.90516791 0.87679575 0.92264244\n",
      " 0.92911112 0.88768504 0.87902684 0.82105865 0.81609688 0.85167866\n",
      " 0.86600626 0.81175944 0.82277368 0.7806316  0.77405475 0.78860713\n",
      " 0.7477555  0.75245924 0.72529419 0.75742106 0.81598031 0.86437456\n",
      " 0.88680253 0.88224868 0.88035052 0.86715513 0.85586625 0.81321287\n",
      " 0.79694432 0.77448034 0.74978906 0.72502905 0.70123553 0.67890251\n",
      " 0.65826988 0.63943201 0.62237656 0.60700649 0.59316015 0.58063483\n",
      " 0.56920791 0.55865633 0.54877216 0.53937274]\n",
      "17 day output [[0.53030735]]\n",
      "18 day input [0.60289746 0.60368836 0.60451255 0.58903608 0.5946389  0.59587935\n",
      " 0.60532012 0.60628581 0.60836711 0.58395769 0.59162519 0.60208161\n",
      " 0.6034969  0.62077164 0.63489944 0.6234107  0.62653265 0.62167905\n",
      " 0.62146259 0.62671583 0.62593326 0.62773147 0.6367726  0.63001256\n",
      " 0.63538231 0.64685437 0.65131671 0.65734412 0.67791565 0.70046018\n",
      " 0.69559831 0.69687204 0.72034904 0.7334029  0.82929226 0.82393918\n",
      " 0.84011498 0.87273306 0.90350287 0.98225067 0.95178889 0.98663805\n",
      " 1.         0.99348966 0.94424623 0.82816005 0.86516541 0.86146908\n",
      " 0.83641866 0.81974331 0.85415955 0.88269827 0.88883392 0.92270078\n",
      " 0.93919289 0.89936529 0.90516791 0.87679575 0.92264244 0.92911112\n",
      " 0.88768504 0.87902684 0.82105865 0.81609688 0.85167866 0.86600626\n",
      " 0.81175944 0.82277368 0.7806316  0.77405475 0.78860713 0.7477555\n",
      " 0.75245924 0.72529419 0.75742106 0.81598031 0.86437456 0.88680253\n",
      " 0.88224868 0.88035052 0.86715513 0.85586625 0.81321287 0.79694432\n",
      " 0.77448034 0.74978906 0.72502905 0.70123553 0.67890251 0.65826988\n",
      " 0.63943201 0.62237656 0.60700649 0.59316015 0.58063483 0.56920791\n",
      " 0.55865633 0.54877216 0.53937274 0.53030735]\n"
     ]
    },
    {
     "name": "stdout",
     "output_type": "stream",
     "text": [
      "18 day output [[0.5214602]]\n",
      "19 day input [0.60368836 0.60451255 0.58903608 0.5946389  0.59587935 0.60532012\n",
      " 0.60628581 0.60836711 0.58395769 0.59162519 0.60208161 0.6034969\n",
      " 0.62077164 0.63489944 0.6234107  0.62653265 0.62167905 0.62146259\n",
      " 0.62671583 0.62593326 0.62773147 0.6367726  0.63001256 0.63538231\n",
      " 0.64685437 0.65131671 0.65734412 0.67791565 0.70046018 0.69559831\n",
      " 0.69687204 0.72034904 0.7334029  0.82929226 0.82393918 0.84011498\n",
      " 0.87273306 0.90350287 0.98225067 0.95178889 0.98663805 1.\n",
      " 0.99348966 0.94424623 0.82816005 0.86516541 0.86146908 0.83641866\n",
      " 0.81974331 0.85415955 0.88269827 0.88883392 0.92270078 0.93919289\n",
      " 0.89936529 0.90516791 0.87679575 0.92264244 0.92911112 0.88768504\n",
      " 0.87902684 0.82105865 0.81609688 0.85167866 0.86600626 0.81175944\n",
      " 0.82277368 0.7806316  0.77405475 0.78860713 0.7477555  0.75245924\n",
      " 0.72529419 0.75742106 0.81598031 0.86437456 0.88680253 0.88224868\n",
      " 0.88035052 0.86715513 0.85586625 0.81321287 0.79694432 0.77448034\n",
      " 0.74978906 0.72502905 0.70123553 0.67890251 0.65826988 0.63943201\n",
      " 0.62237656 0.60700649 0.59316015 0.58063483 0.56920791 0.55865633\n",
      " 0.54877216 0.53937274 0.53030735 0.52146018]\n",
      "19 day output [[0.51274955]]\n",
      "20 day input [0.60451255 0.58903608 0.5946389  0.59587935 0.60532012 0.60628581\n",
      " 0.60836711 0.58395769 0.59162519 0.60208161 0.6034969  0.62077164\n",
      " 0.63489944 0.6234107  0.62653265 0.62167905 0.62146259 0.62671583\n",
      " 0.62593326 0.62773147 0.6367726  0.63001256 0.63538231 0.64685437\n",
      " 0.65131671 0.65734412 0.67791565 0.70046018 0.69559831 0.69687204\n",
      " 0.72034904 0.7334029  0.82929226 0.82393918 0.84011498 0.87273306\n",
      " 0.90350287 0.98225067 0.95178889 0.98663805 1.         0.99348966\n",
      " 0.94424623 0.82816005 0.86516541 0.86146908 0.83641866 0.81974331\n",
      " 0.85415955 0.88269827 0.88883392 0.92270078 0.93919289 0.89936529\n",
      " 0.90516791 0.87679575 0.92264244 0.92911112 0.88768504 0.87902684\n",
      " 0.82105865 0.81609688 0.85167866 0.86600626 0.81175944 0.82277368\n",
      " 0.7806316  0.77405475 0.78860713 0.7477555  0.75245924 0.72529419\n",
      " 0.75742106 0.81598031 0.86437456 0.88680253 0.88224868 0.88035052\n",
      " 0.86715513 0.85586625 0.81321287 0.79694432 0.77448034 0.74978906\n",
      " 0.72502905 0.70123553 0.67890251 0.65826988 0.63943201 0.62237656\n",
      " 0.60700649 0.59316015 0.58063483 0.56920791 0.55865633 0.54877216\n",
      " 0.53937274 0.53030735 0.52146018 0.51274955]\n",
      "20 day output [[0.50412464]]\n",
      "21 day input [0.58903608 0.5946389  0.59587935 0.60532012 0.60628581 0.60836711\n",
      " 0.58395769 0.59162519 0.60208161 0.6034969  0.62077164 0.63489944\n",
      " 0.6234107  0.62653265 0.62167905 0.62146259 0.62671583 0.62593326\n",
      " 0.62773147 0.6367726  0.63001256 0.63538231 0.64685437 0.65131671\n",
      " 0.65734412 0.67791565 0.70046018 0.69559831 0.69687204 0.72034904\n",
      " 0.7334029  0.82929226 0.82393918 0.84011498 0.87273306 0.90350287\n",
      " 0.98225067 0.95178889 0.98663805 1.         0.99348966 0.94424623\n",
      " 0.82816005 0.86516541 0.86146908 0.83641866 0.81974331 0.85415955\n",
      " 0.88269827 0.88883392 0.92270078 0.93919289 0.89936529 0.90516791\n",
      " 0.87679575 0.92264244 0.92911112 0.88768504 0.87902684 0.82105865\n",
      " 0.81609688 0.85167866 0.86600626 0.81175944 0.82277368 0.7806316\n",
      " 0.77405475 0.78860713 0.7477555  0.75245924 0.72529419 0.75742106\n",
      " 0.81598031 0.86437456 0.88680253 0.88224868 0.88035052 0.86715513\n",
      " 0.85586625 0.81321287 0.79694432 0.77448034 0.74978906 0.72502905\n",
      " 0.70123553 0.67890251 0.65826988 0.63943201 0.62237656 0.60700649\n",
      " 0.59316015 0.58063483 0.56920791 0.55865633 0.54877216 0.53937274\n",
      " 0.53030735 0.52146018 0.51274955 0.50412464]\n",
      "21 day output [[0.4955622]]\n",
      "22 day input [0.5946389  0.59587935 0.60532012 0.60628581 0.60836711 0.58395769\n",
      " 0.59162519 0.60208161 0.6034969  0.62077164 0.63489944 0.6234107\n",
      " 0.62653265 0.62167905 0.62146259 0.62671583 0.62593326 0.62773147\n",
      " 0.6367726  0.63001256 0.63538231 0.64685437 0.65131671 0.65734412\n",
      " 0.67791565 0.70046018 0.69559831 0.69687204 0.72034904 0.7334029\n",
      " 0.82929226 0.82393918 0.84011498 0.87273306 0.90350287 0.98225067\n",
      " 0.95178889 0.98663805 1.         0.99348966 0.94424623 0.82816005\n",
      " 0.86516541 0.86146908 0.83641866 0.81974331 0.85415955 0.88269827\n",
      " 0.88883392 0.92270078 0.93919289 0.89936529 0.90516791 0.87679575\n",
      " 0.92264244 0.92911112 0.88768504 0.87902684 0.82105865 0.81609688\n",
      " 0.85167866 0.86600626 0.81175944 0.82277368 0.7806316  0.77405475\n",
      " 0.78860713 0.7477555  0.75245924 0.72529419 0.75742106 0.81598031\n",
      " 0.86437456 0.88680253 0.88224868 0.88035052 0.86715513 0.85586625\n",
      " 0.81321287 0.79694432 0.77448034 0.74978906 0.72502905 0.70123553\n",
      " 0.67890251 0.65826988 0.63943201 0.62237656 0.60700649 0.59316015\n",
      " 0.58063483 0.56920791 0.55865633 0.54877216 0.53937274 0.53030735\n",
      " 0.52146018 0.51274955 0.50412464 0.4955622 ]\n",
      "22 day output [[0.48705983]]\n",
      "23 day input [0.59587935 0.60532012 0.60628581 0.60836711 0.58395769 0.59162519\n",
      " 0.60208161 0.6034969  0.62077164 0.63489944 0.6234107  0.62653265\n",
      " 0.62167905 0.62146259 0.62671583 0.62593326 0.62773147 0.6367726\n",
      " 0.63001256 0.63538231 0.64685437 0.65131671 0.65734412 0.67791565\n",
      " 0.70046018 0.69559831 0.69687204 0.72034904 0.7334029  0.82929226\n",
      " 0.82393918 0.84011498 0.87273306 0.90350287 0.98225067 0.95178889\n",
      " 0.98663805 1.         0.99348966 0.94424623 0.82816005 0.86516541\n",
      " 0.86146908 0.83641866 0.81974331 0.85415955 0.88269827 0.88883392\n",
      " 0.92270078 0.93919289 0.89936529 0.90516791 0.87679575 0.92264244\n",
      " 0.92911112 0.88768504 0.87902684 0.82105865 0.81609688 0.85167866\n",
      " 0.86600626 0.81175944 0.82277368 0.7806316  0.77405475 0.78860713\n",
      " 0.7477555  0.75245924 0.72529419 0.75742106 0.81598031 0.86437456\n",
      " 0.88680253 0.88224868 0.88035052 0.86715513 0.85586625 0.81321287\n",
      " 0.79694432 0.77448034 0.74978906 0.72502905 0.70123553 0.67890251\n",
      " 0.65826988 0.63943201 0.62237656 0.60700649 0.59316015 0.58063483\n",
      " 0.56920791 0.55865633 0.54877216 0.53937274 0.53030735 0.52146018\n",
      " 0.51274955 0.50412464 0.4955622  0.48705983]\n",
      "23 day output [[0.4786314]]\n",
      "24 day input [0.60532012 0.60628581 0.60836711 0.58395769 0.59162519 0.60208161\n",
      " 0.6034969  0.62077164 0.63489944 0.6234107  0.62653265 0.62167905\n",
      " 0.62146259 0.62671583 0.62593326 0.62773147 0.6367726  0.63001256\n",
      " 0.63538231 0.64685437 0.65131671 0.65734412 0.67791565 0.70046018\n",
      " 0.69559831 0.69687204 0.72034904 0.7334029  0.82929226 0.82393918\n",
      " 0.84011498 0.87273306 0.90350287 0.98225067 0.95178889 0.98663805\n",
      " 1.         0.99348966 0.94424623 0.82816005 0.86516541 0.86146908\n",
      " 0.83641866 0.81974331 0.85415955 0.88269827 0.88883392 0.92270078\n",
      " 0.93919289 0.89936529 0.90516791 0.87679575 0.92264244 0.92911112\n",
      " 0.88768504 0.87902684 0.82105865 0.81609688 0.85167866 0.86600626\n",
      " 0.81175944 0.82277368 0.7806316  0.77405475 0.78860713 0.7477555\n",
      " 0.75245924 0.72529419 0.75742106 0.81598031 0.86437456 0.88680253\n",
      " 0.88224868 0.88035052 0.86715513 0.85586625 0.81321287 0.79694432\n",
      " 0.77448034 0.74978906 0.72502905 0.70123553 0.67890251 0.65826988\n",
      " 0.63943201 0.62237656 0.60700649 0.59316015 0.58063483 0.56920791\n",
      " 0.55865633 0.54877216 0.53937274 0.53030735 0.52146018 0.51274955\n",
      " 0.50412464 0.4955622  0.48705983 0.47863141]\n",
      "24 day output [[0.47030064]]\n",
      "25 day input [0.60628581 0.60836711 0.58395769 0.59162519 0.60208161 0.6034969\n",
      " 0.62077164 0.63489944 0.6234107  0.62653265 0.62167905 0.62146259\n",
      " 0.62671583 0.62593326 0.62773147 0.6367726  0.63001256 0.63538231\n",
      " 0.64685437 0.65131671 0.65734412 0.67791565 0.70046018 0.69559831\n",
      " 0.69687204 0.72034904 0.7334029  0.82929226 0.82393918 0.84011498\n",
      " 0.87273306 0.90350287 0.98225067 0.95178889 0.98663805 1.\n",
      " 0.99348966 0.94424623 0.82816005 0.86516541 0.86146908 0.83641866\n",
      " 0.81974331 0.85415955 0.88269827 0.88883392 0.92270078 0.93919289\n",
      " 0.89936529 0.90516791 0.87679575 0.92264244 0.92911112 0.88768504\n",
      " 0.87902684 0.82105865 0.81609688 0.85167866 0.86600626 0.81175944\n",
      " 0.82277368 0.7806316  0.77405475 0.78860713 0.7477555  0.75245924\n",
      " 0.72529419 0.75742106 0.81598031 0.86437456 0.88680253 0.88224868\n",
      " 0.88035052 0.86715513 0.85586625 0.81321287 0.79694432 0.77448034\n",
      " 0.74978906 0.72502905 0.70123553 0.67890251 0.65826988 0.63943201\n",
      " 0.62237656 0.60700649 0.59316015 0.58063483 0.56920791 0.55865633\n",
      " 0.54877216 0.53937274 0.53030735 0.52146018 0.51274955 0.50412464\n",
      " 0.4955622  0.48705983 0.47863141 0.47030064]\n",
      "25 day output [[0.46209726]]\n",
      "26 day input [0.60836711 0.58395769 0.59162519 0.60208161 0.6034969  0.62077164\n",
      " 0.63489944 0.6234107  0.62653265 0.62167905 0.62146259 0.62671583\n",
      " 0.62593326 0.62773147 0.6367726  0.63001256 0.63538231 0.64685437\n",
      " 0.65131671 0.65734412 0.67791565 0.70046018 0.69559831 0.69687204\n",
      " 0.72034904 0.7334029  0.82929226 0.82393918 0.84011498 0.87273306\n",
      " 0.90350287 0.98225067 0.95178889 0.98663805 1.         0.99348966\n",
      " 0.94424623 0.82816005 0.86516541 0.86146908 0.83641866 0.81974331\n",
      " 0.85415955 0.88269827 0.88883392 0.92270078 0.93919289 0.89936529\n",
      " 0.90516791 0.87679575 0.92264244 0.92911112 0.88768504 0.87902684\n",
      " 0.82105865 0.81609688 0.85167866 0.86600626 0.81175944 0.82277368\n",
      " 0.7806316  0.77405475 0.78860713 0.7477555  0.75245924 0.72529419\n",
      " 0.75742106 0.81598031 0.86437456 0.88680253 0.88224868 0.88035052\n",
      " 0.86715513 0.85586625 0.81321287 0.79694432 0.77448034 0.74978906\n",
      " 0.72502905 0.70123553 0.67890251 0.65826988 0.63943201 0.62237656\n",
      " 0.60700649 0.59316015 0.58063483 0.56920791 0.55865633 0.54877216\n",
      " 0.53937274 0.53030735 0.52146018 0.51274955 0.50412464 0.4955622\n",
      " 0.48705983 0.47863141 0.47030064 0.46209726]\n",
      "26 day output [[0.4540515]]\n",
      "27 day input [0.58395769 0.59162519 0.60208161 0.6034969  0.62077164 0.63489944\n",
      " 0.6234107  0.62653265 0.62167905 0.62146259 0.62671583 0.62593326\n",
      " 0.62773147 0.6367726  0.63001256 0.63538231 0.64685437 0.65131671\n",
      " 0.65734412 0.67791565 0.70046018 0.69559831 0.69687204 0.72034904\n",
      " 0.7334029  0.82929226 0.82393918 0.84011498 0.87273306 0.90350287\n",
      " 0.98225067 0.95178889 0.98663805 1.         0.99348966 0.94424623\n",
      " 0.82816005 0.86516541 0.86146908 0.83641866 0.81974331 0.85415955\n",
      " 0.88269827 0.88883392 0.92270078 0.93919289 0.89936529 0.90516791\n",
      " 0.87679575 0.92264244 0.92911112 0.88768504 0.87902684 0.82105865\n",
      " 0.81609688 0.85167866 0.86600626 0.81175944 0.82277368 0.7806316\n",
      " 0.77405475 0.78860713 0.7477555  0.75245924 0.72529419 0.75742106\n",
      " 0.81598031 0.86437456 0.88680253 0.88224868 0.88035052 0.86715513\n",
      " 0.85586625 0.81321287 0.79694432 0.77448034 0.74978906 0.72502905\n",
      " 0.70123553 0.67890251 0.65826988 0.63943201 0.62237656 0.60700649\n",
      " 0.59316015 0.58063483 0.56920791 0.55865633 0.54877216 0.53937274\n",
      " 0.53030735 0.52146018 0.51274955 0.50412464 0.4955622  0.48705983\n",
      " 0.47863141 0.47030064 0.46209726 0.45405149]\n",
      "27 day output [[0.4461916]]\n",
      "28 day input [0.59162519 0.60208161 0.6034969  0.62077164 0.63489944 0.6234107\n",
      " 0.62653265 0.62167905 0.62146259 0.62671583 0.62593326 0.62773147\n",
      " 0.6367726  0.63001256 0.63538231 0.64685437 0.65131671 0.65734412\n",
      " 0.67791565 0.70046018 0.69559831 0.69687204 0.72034904 0.7334029\n",
      " 0.82929226 0.82393918 0.84011498 0.87273306 0.90350287 0.98225067\n",
      " 0.95178889 0.98663805 1.         0.99348966 0.94424623 0.82816005\n",
      " 0.86516541 0.86146908 0.83641866 0.81974331 0.85415955 0.88269827\n",
      " 0.88883392 0.92270078 0.93919289 0.89936529 0.90516791 0.87679575\n",
      " 0.92264244 0.92911112 0.88768504 0.87902684 0.82105865 0.81609688\n",
      " 0.85167866 0.86600626 0.81175944 0.82277368 0.7806316  0.77405475\n",
      " 0.78860713 0.7477555  0.75245924 0.72529419 0.75742106 0.81598031\n",
      " 0.86437456 0.88680253 0.88224868 0.88035052 0.86715513 0.85586625\n",
      " 0.81321287 0.79694432 0.77448034 0.74978906 0.72502905 0.70123553\n",
      " 0.67890251 0.65826988 0.63943201 0.62237656 0.60700649 0.59316015\n",
      " 0.58063483 0.56920791 0.55865633 0.54877216 0.53937274 0.53030735\n",
      " 0.52146018 0.51274955 0.50412464 0.4955622  0.48705983 0.47863141\n",
      " 0.47030064 0.46209726 0.45405149 0.44619161]\n",
      "28 day output [[0.43854153]]\n",
      "29 day input [0.60208161 0.6034969  0.62077164 0.63489944 0.6234107  0.62653265\n",
      " 0.62167905 0.62146259 0.62671583 0.62593326 0.62773147 0.6367726\n",
      " 0.63001256 0.63538231 0.64685437 0.65131671 0.65734412 0.67791565\n",
      " 0.70046018 0.69559831 0.69687204 0.72034904 0.7334029  0.82929226\n",
      " 0.82393918 0.84011498 0.87273306 0.90350287 0.98225067 0.95178889\n",
      " 0.98663805 1.         0.99348966 0.94424623 0.82816005 0.86516541\n",
      " 0.86146908 0.83641866 0.81974331 0.85415955 0.88269827 0.88883392\n",
      " 0.92270078 0.93919289 0.89936529 0.90516791 0.87679575 0.92264244\n",
      " 0.92911112 0.88768504 0.87902684 0.82105865 0.81609688 0.85167866\n",
      " 0.86600626 0.81175944 0.82277368 0.7806316  0.77405475 0.78860713\n",
      " 0.7477555  0.75245924 0.72529419 0.75742106 0.81598031 0.86437456\n",
      " 0.88680253 0.88224868 0.88035052 0.86715513 0.85586625 0.81321287\n",
      " 0.79694432 0.77448034 0.74978906 0.72502905 0.70123553 0.67890251\n",
      " 0.65826988 0.63943201 0.62237656 0.60700649 0.59316015 0.58063483\n",
      " 0.56920791 0.55865633 0.54877216 0.53937274 0.53030735 0.52146018\n",
      " 0.51274955 0.50412464 0.4955622  0.48705983 0.47863141 0.47030064\n",
      " 0.46209726 0.45405149 0.44619161 0.43854153]\n"
     ]
    },
    {
     "name": "stdout",
     "output_type": "stream",
     "text": [
      "29 day output [[0.4311192]]\n",
      "[[0.8132128715515137], [0.7969443202018738], [0.7744803428649902], [0.7497890591621399], [0.7250290513038635], [0.7012355327606201], [0.6789025068283081], [0.6582698822021484], [0.6394320130348206], [0.622376561164856], [0.6070064902305603], [0.5931601524353027], [0.5806348323822021], [0.5692079067230225], [0.5586563348770142], [0.5487721562385559], [0.5393727421760559], [0.5303073525428772], [0.5214601755142212], [0.5127495527267456], [0.504124641418457], [0.49556219577789307], [0.4870598316192627], [0.4786314070224762], [0.4703006446361542], [0.46209725737571716], [0.45405149459838867], [0.44619160890579224], [0.4385415315628052], [0.4311192035675049]]\n"
     ]
    }
   ],
   "source": [
    "# demonstrate prediction for next 10 days\n",
    "from numpy import array\n",
    "\n",
    "lst_output=[]\n",
    "n_steps=100\n",
    "i=0\n",
    "while(i<30):\n",
    "    \n",
    "    if(len(temp_input)>100):\n",
    "        #print(temp_input)\n",
    "        x_input=np.array(temp_input[1:])\n",
    "        print(\"{} day input {}\".format(i,x_input))\n",
    "        x_input=x_input.reshape(1,-1)\n",
    "        x_input = x_input.reshape((1, n_steps, 1))\n",
    "        #print(x_input)\n",
    "        yhat = model.predict(x_input, verbose=0)\n",
    "        print(\"{} day output {}\".format(i,yhat))\n",
    "        temp_input.extend(yhat[0].tolist())\n",
    "        temp_input=temp_input[1:]\n",
    "        #print(temp_input)\n",
    "        lst_output.extend(yhat.tolist())\n",
    "        i=i+1\n",
    "    else:\n",
    "        x_input = x_input.reshape((1, n_steps,1))\n",
    "        yhat = model.predict(x_input, verbose=0)\n",
    "        print(yhat[0])\n",
    "        temp_input.extend(yhat[0].tolist())\n",
    "        print(len(temp_input))\n",
    "        lst_output.extend(yhat.tolist())\n",
    "        i=i+1\n",
    "    \n",
    "\n",
    "print(lst_output)"
   ]
  },
  {
   "cell_type": "code",
   "execution_count": 73,
   "id": "f100a0e5",
   "metadata": {},
   "outputs": [],
   "source": [
    "day_new=np.arange(1,101)\n",
    "day_pred=np.arange(101,131)"
   ]
  },
  {
   "cell_type": "code",
   "execution_count": 74,
   "id": "30b9f40c",
   "metadata": {},
   "outputs": [
    {
     "data": {
      "text/plain": [
       "1764"
      ]
     },
     "execution_count": 74,
     "metadata": {},
     "output_type": "execute_result"
    }
   ],
   "source": [
    "import matplotlib.pyplot as plt\n",
    "len(df1)"
   ]
  },
  {
   "cell_type": "code",
   "execution_count": 75,
   "id": "07b8acd9",
   "metadata": {},
   "outputs": [
    {
     "data": {
      "text/plain": [
       "[<matplotlib.lines.Line2D at 0x29d29b09a88>]"
      ]
     },
     "execution_count": 75,
     "metadata": {},
     "output_type": "execute_result"
    },
    {
     "data": {
      "image/png": "[encoded data removed]",
      "text/plain": [
       "<Figure size 432x288 with 1 Axes>"
      ]
     },
     "metadata": {
      "needs_background": "light"
     },
     "output_type": "display_data"
    }
   ],
   "source": [
    "plt.plot(day_new,scaler.inverse_transform(df1[1664:]))\n",
    "plt.plot(day_pred,scaler.inverse_transform(lst_output))"
   ]
  },
  {
   "cell_type": "code",
   "execution_count": 76,
   "id": "0fa1a030",
   "metadata": {},
   "outputs": [
    {
     "data": {
      "text/plain": [
       "[<matplotlib.lines.Line2D at 0x29d29b23548>]"
      ]
     },
     "execution_count": 76,
     "metadata": {},
     "output_type": "execute_result"
    },
    {
     "data": {
      "image/png": "[encoded data removed]",
      "text/plain": [
       "<Figure size 432x288 with 1 Axes>"
      ]
     },
     "metadata": {
      "needs_background": "light"
     },
     "output_type": "display_data"
    }
   ],
   "source": [
    "df3=df1.tolist()\n",
    "df3.extend(lst_output)\n",
    "plt.plot(df3[1200:])"
   ]
  },
  {
   "cell_type": "code",
   "execution_count": 77,
   "id": "7566e28b",
   "metadata": {},
   "outputs": [],
   "source": [
    "df3=scaler.inverse_transform(df3).tolist()"
   ]
  },
  {
   "cell_type": "code",
   "execution_count": 78,
   "id": "98eb78a8",
   "metadata": {},
   "outputs": [
    {
     "data": {
      "text/plain": [
       "[<matplotlib.lines.Line2D at 0x29d29bb4188>]"
      ]
     },
     "execution_count": 78,
     "metadata": {},
     "output_type": "execute_result"
    },
    {
     "data": {
      "image/png": "[encoded data removed]",
      "text/plain": [
       "<Figure size 432x288 with 1 Axes>"
      ]
     },
     "metadata": {
      "needs_background": "light"
     },
     "output_type": "display_data"
    }
   ],
   "source": [
    "plt.plot(df3)"
   ]
  },
  {
   "cell_type": "code",
   "execution_count": 79,
   "id": "57db3b8e",
   "metadata": {},
   "outputs": [],
   "source": [
    "# IMPORTING IMPORTANT LIBRARIES\n",
    "import pandas as pd\n",
    "import matplotlib.pyplot as plt\n",
    "import numpy as np \n",
    "import math\n",
    "from sklearn.preprocessing import MinMaxScaler\n",
    "from sklearn.metrics import mean_squared_error\n",
    "import tensorflow as tf\n",
    "from keras.models import Sequential\n",
    "from keras.layers import Dense, Activation\n",
    "from keras.layers import LSTM\n",
    "\n",
    "# FUNCTION TO CREATE 1D DATA INTO TIME SERIES DATASET\n",
    "def new_dataset(dataset, step_size):\n",
    "\tdata_X, data_Y = [], []\n",
    "\tfor i in range(len(dataset)-step_size-1):\n",
    "\t\ta = dataset[i:(i+step_size), 0]\n",
    "\t\tdata_X.append(a)\n",
    "\t\tdata_Y.append(dataset[i + step_size, 0])\n",
    "\treturn np.array(data_X), np.array(data_Y)\n",
    "\n",
    "# THIS FUNCTION CAN BE USED TO CREATE A TIME SERIES DATASET FROM ANY 1D ARRAY\t"
   ]
  },
  {
   "cell_type": "code",
   "execution_count": 81,
   "id": "55ce10ed",
   "metadata": {},
   "outputs": [],
   "source": [
    "# FOR REPRODUCIBILITY\n",
    "np.random.seed(7)\n",
    "\n",
    "# IMPORTING DATASET \n",
    "dataset = pd.read_csv('tesla.csv', usecols=[1,2,3,4])\n",
    "dataset = dataset.reindex(index = dataset.index[::-1])\n",
    "\n",
    "# CREATING OWN INDEX FOR FLEXIBILITY\n",
    "obs = np.arange(1, len(dataset) + 1, 1)"
   ]
  },
  {
   "cell_type": "code",
   "execution_count": 82,
   "id": "ab8329ee",
   "metadata": {},
   "outputs": [
    {
     "name": "stderr",
     "output_type": "stream",
     "text": [
      "c:\\users\\lavaa\\appdata\\local\\programs\\python\\python37\\lib\\site-packages\\ipykernel_launcher.py:11: UserWarning:\n",
      "\n",
      "Matplotlib is currently using agg, which is a non-GUI backend, so cannot show the figure.\n",
      "\n"
     ]
    },
    {
     "data": {
      "image/png": "[encoded data removed]",
      "text/plain": [
       "<Figure size 432x288 with 1 Axes>"
      ]
     },
     "metadata": {
      "needs_background": "light"
     },
     "output_type": "display_data"
    }
   ],
   "source": [
    "# TAKING DIFFERENT INDICATORS FOR PREDICTION\n",
    "OHLC_avg = dataset.mean(axis = 1)\n",
    "HLC_avg = dataset[['High', 'Low', 'Close']].mean(axis = 1)\n",
    "close_val = dataset[['Close']]\n",
    "\n",
    "# PLOTTING ALL INDICATORS IN ONE PLOT\n",
    "plt.plot(obs, OHLC_avg, 'r', label = 'OHLC avg')\n",
    "plt.plot(obs, HLC_avg, 'b', label = 'HLC avg')\n",
    "plt.plot(obs, close_val, 'g', label = 'Closing price')\n",
    "plt.legend(loc = 'upper right')\n",
    "plt.show()"
   ]
  },
  {
   "cell_type": "code",
   "execution_count": 83,
   "id": "1c2f438e",
   "metadata": {},
   "outputs": [],
   "source": [
    "# PREPARATION OF TIME SERIES DATASE\n",
    "OHLC_avg = np.reshape(OHLC_avg.values, (len(OHLC_avg),1)) # 1664\n",
    "scaler = MinMaxScaler(feature_range=(0, 1))\n",
    "OHLC_avg = scaler.fit_transform(OHLC_avg)\n",
    "\n",
    "# TRAIN-TEST SPLIT\n",
    "train_OHLC = int(len(OHLC_avg) * 0.75)\n",
    "test_OHLC = len(OHLC_avg) - train_OHLC\n",
    "train_OHLC, test_OHLC = OHLC_avg[0:train_OHLC,:], OHLC_avg[train_OHLC:len(OHLC_avg),:]\n",
    "\n",
    "# TIME-SERIES DATASET (FOR TIME T, VALUES FOR TIME T+1)\n",
    "trainX, trainY = new_dataset(train_OHLC, 1)\n",
    "testX, testY = new_dataset(test_OHLC, 1)\n",
    "\n",
    "# RESHAPING TRAIN AND TEST DATA\n",
    "trainX = np.reshape(trainX, (trainX.shape[0], 1, trainX.shape[1]))\n",
    "testX = np.reshape(testX, (testX.shape[0], 1, testX.shape[1]))\n",
    "step_size = 1"
   ]
  },
  {
   "cell_type": "code",
   "execution_count": 84,
   "id": "75b835d1",
   "metadata": {},
   "outputs": [
    {
     "name": "stdout",
     "output_type": "stream",
     "text": [
      "Epoch 1/5\n",
      "1321/1321 - 5s - loss: 0.0105 - 5s/epoch - 4ms/step\n",
      "Epoch 2/5\n",
      "1321/1321 - 3s - loss: 2.6924e-04 - 3s/epoch - 3ms/step\n",
      "Epoch 3/5\n",
      "1321/1321 - 4s - loss: 1.7459e-04 - 4s/epoch - 3ms/step\n",
      "Epoch 4/5\n",
      "1321/1321 - 5s - loss: 1.6090e-04 - 5s/epoch - 4ms/step\n",
      "Epoch 5/5\n",
      "1321/1321 - 3s - loss: 1.8359e-04 - 3s/epoch - 2ms/step\n",
      "42/42 [==============================] - 1s 2ms/step\n",
      "14/14 [==============================] - 0s 2ms/step\n",
      "Train RMSE: 12.50\n",
      "Test RMSE: 1.41\n",
      "1/1 [==============================] - 0s 16ms/step\n",
      "Last Day Value: 43.32948303222656\n",
      "Next Day Value: 42.29911804199219\n"
     ]
    },
    {
     "name": "stderr",
     "output_type": "stream",
     "text": [
      "c:\\users\\lavaa\\appdata\\local\\programs\\python\\python37\\lib\\site-packages\\ipykernel_launcher.py:51: UserWarning:\n",
      "\n",
      "Matplotlib is currently using agg, which is a non-GUI backend, so cannot show the figure.\n",
      "\n",
      "c:\\users\\lavaa\\appdata\\local\\programs\\python\\python37\\lib\\site-packages\\ipykernel_launcher.py:57: DeprecationWarning:\n",
      "\n",
      "np.asscalar(a) is deprecated since NumPy v1.16, use a.item() instead\n",
      "\n",
      "c:\\users\\lavaa\\appdata\\local\\programs\\python\\python37\\lib\\site-packages\\ipykernel_launcher.py:58: DeprecationWarning:\n",
      "\n",
      "np.asscalar(a) is deprecated since NumPy v1.16, use a.item() instead\n",
      "\n"
     ]
    },
    {
     "data": {
      "image/png": "[encoded data removed]",
      "text/plain": [
       "<Figure size 432x288 with 1 Axes>"
      ]
     },
     "metadata": {
      "needs_background": "light"
     },
     "output_type": "display_data"
    }
   ],
   "source": [
    "# LSTM MODEL\n",
    "model = Sequential()\n",
    "model.add(LSTM(32, input_shape=(1, step_size), return_sequences = True))\n",
    "model.add(LSTM(16))\n",
    "model.add(Dense(1))\n",
    "model.add(Activation('linear'))\n",
    "\n",
    "# MODEL COMPILING AND TRAINING\n",
    "model.compile(loss='mean_squared_error', optimizer='adam') # Try SGD, adam, adagrad and compare!!!\n",
    "model.fit(trainX, trainY, epochs=5, batch_size=1, verbose=2)\n",
    "\n",
    "# PREDICTION\n",
    "trainPredict = model.predict(trainX)\n",
    "testPredict = model.predict(testX)\n",
    "\n",
    "# DE-NORMALIZING FOR PLOTTING\n",
    "trainPredict = scaler.inverse_transform(trainPredict)\n",
    "trainY = scaler.inverse_transform([trainY])\n",
    "testPredict = scaler.inverse_transform(testPredict)\n",
    "testY = scaler.inverse_transform([testY])\n",
    "\n",
    "\n",
    "# TRAINING RMSE\n",
    "trainScore = math.sqrt(mean_squared_error(trainY[0], trainPredict[:,0]))\n",
    "print('Train RMSE: %.2f' % (trainScore))\n",
    "\n",
    "# TEST RMSE\n",
    "testScore = math.sqrt(mean_squared_error(testY[0], testPredict[:,0]))\n",
    "print('Test RMSE: %.2f' % (testScore))\n",
    "\n",
    "# CREATING SIMILAR DATASET TO PLOT TRAINING PREDICTIONS\n",
    "trainPredictPlot = np.empty_like(OHLC_avg)\n",
    "trainPredictPlot[:, :] = np.nan\n",
    "trainPredictPlot[step_size:len(trainPredict)+step_size, :] = trainPredict\n",
    "\n",
    "# CREATING SIMILAR DATASSET TO PLOT TEST PREDICTIONS\n",
    "testPredictPlot = np.empty_like(OHLC_avg)\n",
    "testPredictPlot[:, :] = np.nan\n",
    "testPredictPlot[len(trainPredict)+(step_size*2)+1:len(OHLC_avg)-1, :] = testPredict\n",
    "\n",
    "# DE-NORMALIZING MAIN DATASET \n",
    "OHLC_avg = scaler.inverse_transform(OHLC_avg)\n",
    "\n",
    "# PLOT OF MAIN OHLC VALUES, TRAIN PREDICTIONS AND TEST PREDICTIONS\n",
    "plt.plot(OHLC_avg, 'g', label = 'original dataset')\n",
    "plt.plot(trainPredictPlot, 'r', label = 'training set')\n",
    "plt.plot(testPredictPlot, 'b', label = 'predicted stock price/test set')\n",
    "plt.legend(loc = 'upper left')\n",
    "plt.xlabel('Time in Days')\n",
    "plt.ylabel('OHLC Value of Tesla Stocks')\n",
    "plt.show()\n",
    "\n",
    "# PREDICT FUTURE VALUES\n",
    "last_val = testPredict[-1]\n",
    "last_val_scaled = last_val/last_val\n",
    "next_val = model.predict(np.reshape(last_val_scaled, (1,1,1)))\n",
    "print (\"Last Day Value:\", np.asscalar(last_val))\n",
    "print (\"Next Day Value:\", np.asscalar(last_val*next_val))\n",
    "# print np.append(last_val, next_val)"
   ]
  },
  {
   "cell_type": "markdown",
   "id": "a1e9841a",
   "metadata": {},
   "source": [
    "# Trying out RNN based LSTM"
   ]
  },
  {
   "cell_type": "code",
   "execution_count": 93,
   "id": "19ff94aa",
   "metadata": {},
   "outputs": [
    {
     "data": {
      "text/html": [
       "<div>\n",
       "<style scoped>\n",
       "    .dataframe tbody tr th:only-of-type {\n",
       "        vertical-align: middle;\n",
       "    }\n",
       "\n",
       "    .dataframe tbody tr th {\n",
       "        vertical-align: top;\n",
       "    }\n",
       "\n",
       "    .dataframe thead th {\n",
       "        text-align: right;\n",
       "    }\n",
       "</style>\n",
       "<table border=\"1\" class=\"dataframe\">\n",
       "  <thead>\n",
       "    <tr style=\"text-align: right;\">\n",
       "      <th></th>\n",
       "      <th>Open</th>\n",
       "      <th>High</th>\n",
       "      <th>Low</th>\n",
       "      <th>Close</th>\n",
       "      <th>Adj Close</th>\n",
       "      <th>Volume</th>\n",
       "    </tr>\n",
       "  </thead>\n",
       "  <tbody>\n",
       "    <tr>\n",
       "      <th>0</th>\n",
       "      <td>44.618000</td>\n",
       "      <td>45.136002</td>\n",
       "      <td>44.450001</td>\n",
       "      <td>44.481998</td>\n",
       "      <td>44.481998</td>\n",
       "      <td>11487500</td>\n",
       "    </tr>\n",
       "    <tr>\n",
       "      <th>1</th>\n",
       "      <td>44.574001</td>\n",
       "      <td>44.650002</td>\n",
       "      <td>42.652000</td>\n",
       "      <td>43.862000</td>\n",
       "      <td>43.862000</td>\n",
       "      <td>23822000</td>\n",
       "    </tr>\n",
       "    <tr>\n",
       "      <th>2</th>\n",
       "      <td>42.910000</td>\n",
       "      <td>43.299999</td>\n",
       "      <td>41.431999</td>\n",
       "      <td>42.018002</td>\n",
       "      <td>42.018002</td>\n",
       "      <td>26842500</td>\n",
       "    </tr>\n",
       "    <tr>\n",
       "      <th>3</th>\n",
       "      <td>42.012001</td>\n",
       "      <td>42.840000</td>\n",
       "      <td>40.841999</td>\n",
       "      <td>42.256001</td>\n",
       "      <td>42.256001</td>\n",
       "      <td>31309500</td>\n",
       "    </tr>\n",
       "    <tr>\n",
       "      <th>4</th>\n",
       "      <td>42.669998</td>\n",
       "      <td>42.956001</td>\n",
       "      <td>41.956001</td>\n",
       "      <td>42.189999</td>\n",
       "      <td>42.189999</td>\n",
       "      <td>14842000</td>\n",
       "    </tr>\n",
       "    <tr>\n",
       "      <th>...</th>\n",
       "      <td>...</td>\n",
       "      <td>...</td>\n",
       "      <td>...</td>\n",
       "      <td>...</td>\n",
       "      <td>...</td>\n",
       "      <td>...</td>\n",
       "    </tr>\n",
       "    <tr>\n",
       "      <th>1759</th>\n",
       "      <td>1073.670044</td>\n",
       "      <td>1117.000000</td>\n",
       "      <td>1070.719971</td>\n",
       "      <td>1093.939941</td>\n",
       "      <td>1093.939941</td>\n",
       "      <td>23715300</td>\n",
       "    </tr>\n",
       "    <tr>\n",
       "      <th>1760</th>\n",
       "      <td>1109.489990</td>\n",
       "      <td>1119.000000</td>\n",
       "      <td>1078.420044</td>\n",
       "      <td>1088.469971</td>\n",
       "      <td>1088.469971</td>\n",
       "      <td>20108000</td>\n",
       "    </tr>\n",
       "    <tr>\n",
       "      <th>1761</th>\n",
       "      <td>1098.640015</td>\n",
       "      <td>1104.000000</td>\n",
       "      <td>1064.140015</td>\n",
       "      <td>1086.189941</td>\n",
       "      <td>1086.189941</td>\n",
       "      <td>18718000</td>\n",
       "    </tr>\n",
       "    <tr>\n",
       "      <th>1762</th>\n",
       "      <td>1061.329956</td>\n",
       "      <td>1095.550049</td>\n",
       "      <td>1053.150024</td>\n",
       "      <td>1070.339966</td>\n",
       "      <td>1070.339966</td>\n",
       "      <td>15680300</td>\n",
       "    </tr>\n",
       "    <tr>\n",
       "      <th>1763</th>\n",
       "      <td>1073.439941</td>\n",
       "      <td>1082.000000</td>\n",
       "      <td>1054.589966</td>\n",
       "      <td>1056.780029</td>\n",
       "      <td>1056.780029</td>\n",
       "      <td>13577900</td>\n",
       "    </tr>\n",
       "  </tbody>\n",
       "</table>\n",
       "<p>1764 rows × 6 columns</p>\n",
       "</div>"
      ],
      "text/plain": [
       "             Open         High          Low        Close    Adj Close  \\\n",
       "0       44.618000    45.136002    44.450001    44.481998    44.481998   \n",
       "1       44.574001    44.650002    42.652000    43.862000    43.862000   \n",
       "2       42.910000    43.299999    41.431999    42.018002    42.018002   \n",
       "3       42.012001    42.840000    40.841999    42.256001    42.256001   \n",
       "4       42.669998    42.956001    41.956001    42.189999    42.189999   \n",
       "...           ...          ...          ...          ...          ...   \n",
       "1759  1073.670044  1117.000000  1070.719971  1093.939941  1093.939941   \n",
       "1760  1109.489990  1119.000000  1078.420044  1088.469971  1088.469971   \n",
       "1761  1098.640015  1104.000000  1064.140015  1086.189941  1086.189941   \n",
       "1762  1061.329956  1095.550049  1053.150024  1070.339966  1070.339966   \n",
       "1763  1073.439941  1082.000000  1054.589966  1056.780029  1056.780029   \n",
       "\n",
       "        Volume  \n",
       "0     11487500  \n",
       "1     23822000  \n",
       "2     26842500  \n",
       "3     31309500  \n",
       "4     14842000  \n",
       "...        ...  \n",
       "1759  23715300  \n",
       "1760  20108000  \n",
       "1761  18718000  \n",
       "1762  15680300  \n",
       "1763  13577900  \n",
       "\n",
       "[1764 rows x 6 columns]"
      ]
     },
     "metadata": {},
     "output_type": "display_data"
    }
   ],
   "source": [
    "# Recurrent Neural Network\n",
    "\n",
    "# Part 1 - Data Preprocessing\n",
    "\n",
    "# Importing the libraries\n",
    "import numpy as np\n",
    "import matplotlib.pyplot as plt\n",
    "import pandas as pd\n",
    "\n",
    "# Importing the training set\n",
    "dataset_train = pd.read_csv('tesla.csv')\n",
    "# '.values' need the 2nd Column Opening Price as a Numpy array (not vector)\n",
    "# '1:2' is used because the upper bound is ignored\n",
    "training_set = dataset_train.iloc[:, 1:2].values\n",
    "\n",
    "# Feature Scaling\n",
    "# Use Normalization (versus Standardization) for RNNs with Sigmoid Activation Functions\n",
    "# 'MinMaxScalar' is a Normalization Library\n",
    "from sklearn.preprocessing import MinMaxScaler\n",
    "# 'feature_range = (0,1)' makes sure that training data is scaled to have values between 0 and 1\n",
    "sc = MinMaxScaler(feature_range = (0, 1))\n",
    "training_set_scaled = sc.fit_transform(training_set)\n",
    "\n",
    "# Creating a data structure with 60 timesteps (look back 60 days) and 1 output\n",
    "# This tells the RNN what to remember (Number of timesteps) when predicting the next Stock Price\n",
    "# The wrong number of timesteps can lead to Overfitting or bogus results\n",
    "# 'x_train' Input with 60 previous days' stock prices\n",
    "X_train = []\n",
    "# 'y_train' Output with next day's stock price\n",
    "y_train = []\n",
    "for i in range(60, 1258):\n",
    "    X_train.append(training_set_scaled[i-60:i, 0])\n",
    "    y_train.append(training_set_scaled[i, 0])\n",
    "X_train, y_train = np.array(X_train), np.array(y_train)\n",
    "\n",
    "# Reshaping (add more dimensions)\n",
    "# This lets you add more indicators that may potentially have corelation with Stock Prices\n",
    "# Keras RNNs expects an input shape (Batch Size, Timesteps, input_dim)\n",
    "# '.shape[0]' is the number of Rows (Batch Size)\n",
    "# '.shape[1]' is the number of Columns (timesteps)\n",
    "# 'input_dim' is the number of factors that may affect stock prices\n",
    "X_train = np.reshape(X_train, (X_train.shape[0], X_train.shape[1], 1))\n",
    "\n",
    "# Show the dataset we're working with\n",
    "display(dataset_train)\n",
    "#dataset_train.to_csv('tesla_train.csv',index = False)"
   ]
  },
  {
   "cell_type": "code",
   "execution_count": 94,
   "id": "aa01129f",
   "metadata": {},
   "outputs": [
    {
     "name": "stdout",
     "output_type": "stream",
     "text": [
      "Epoch 1/100\n",
      "38/38 [==============================] - 16s 97ms/step - loss: 1.2817e-04\n",
      "Epoch 2/100\n",
      "38/38 [==============================] - 4s 100ms/step - loss: 4.0940e-05\n",
      "Epoch 3/100\n",
      "38/38 [==============================] - 4s 105ms/step - loss: 2.4339e-05\n",
      "Epoch 4/100\n",
      "38/38 [==============================] - 4s 97ms/step - loss: 2.0147e-05\n",
      "Epoch 5/100\n",
      "38/38 [==============================] - 4s 99ms/step - loss: 2.0944e-05\n",
      "Epoch 6/100\n",
      "38/38 [==============================] - 4s 94ms/step - loss: 1.8088e-05\n",
      "Epoch 7/100\n",
      "38/38 [==============================] - 4s 102ms/step - loss: 1.8871e-05\n",
      "Epoch 8/100\n",
      "38/38 [==============================] - 4s 107ms/step - loss: 1.6983e-05\n",
      "Epoch 9/100\n",
      "38/38 [==============================] - 4s 111ms/step - loss: 1.6925e-05\n",
      "Epoch 10/100\n",
      "38/38 [==============================] - 7s 193ms/step - loss: 1.6075e-05\n",
      "Epoch 11/100\n",
      "38/38 [==============================] - 6s 150ms/step - loss: 1.5291e-05\n",
      "Epoch 12/100\n",
      "38/38 [==============================] - 4s 94ms/step - loss: 1.6680e-05\n",
      "Epoch 13/100\n",
      "38/38 [==============================] - 4s 98ms/step - loss: 1.4726e-05\n",
      "Epoch 14/100\n",
      "38/38 [==============================] - 4s 100ms/step - loss: 1.4245e-05\n",
      "Epoch 15/100\n",
      "38/38 [==============================] - 4s 97ms/step - loss: 1.3621e-05\n",
      "Epoch 16/100\n",
      "38/38 [==============================] - 4s 107ms/step - loss: 1.2368e-05\n",
      "Epoch 17/100\n",
      "38/38 [==============================] - 4s 106ms/step - loss: 1.2092e-05\n",
      "Epoch 18/100\n",
      "38/38 [==============================] - 4s 106ms/step - loss: 1.2209e-05\n",
      "Epoch 19/100\n",
      "38/38 [==============================] - 5s 125ms/step - loss: 1.0860e-05\n",
      "Epoch 20/100\n",
      "38/38 [==============================] - 5s 133ms/step - loss: 1.1690e-05\n",
      "Epoch 21/100\n",
      "38/38 [==============================] - 5s 121ms/step - loss: 9.8206e-06\n",
      "Epoch 22/100\n",
      "38/38 [==============================] - 6s 154ms/step - loss: 1.0876e-05\n",
      "Epoch 23/100\n",
      "38/38 [==============================] - 6s 148ms/step - loss: 9.3815e-06\n",
      "Epoch 24/100\n",
      "38/38 [==============================] - 7s 193ms/step - loss: 8.9944e-06\n",
      "Epoch 25/100\n",
      "38/38 [==============================] - 11s 300ms/step - loss: 1.0442e-05\n",
      "Epoch 26/100\n",
      "38/38 [==============================] - 9s 233ms/step - loss: 9.7547e-06\n",
      "Epoch 27/100\n",
      "38/38 [==============================] - 7s 182ms/step - loss: 8.9925e-06\n",
      "Epoch 28/100\n",
      "38/38 [==============================] - 8s 202ms/step - loss: 8.7956e-06\n",
      "Epoch 29/100\n",
      "38/38 [==============================] - 6s 169ms/step - loss: 9.4586e-06\n",
      "Epoch 30/100\n",
      "38/38 [==============================] - 4s 112ms/step - loss: 9.5885e-06\n",
      "Epoch 31/100\n",
      "38/38 [==============================] - 5s 125ms/step - loss: 8.8010e-06\n",
      "Epoch 32/100\n",
      "38/38 [==============================] - 5s 130ms/step - loss: 8.5028e-06\n",
      "Epoch 33/100\n",
      "38/38 [==============================] - 5s 125ms/step - loss: 1.1075e-05\n",
      "Epoch 34/100\n",
      "38/38 [==============================] - 5s 129ms/step - loss: 9.7604e-06\n",
      "Epoch 35/100\n",
      "38/38 [==============================] - 5s 127ms/step - loss: 1.0054e-05\n",
      "Epoch 36/100\n",
      "38/38 [==============================] - 5s 139ms/step - loss: 9.9828e-06\n",
      "Epoch 37/100\n",
      "38/38 [==============================] - 5s 138ms/step - loss: 8.7860e-06\n",
      "Epoch 38/100\n",
      "38/38 [==============================] - 6s 145ms/step - loss: 8.2574e-06\n",
      "Epoch 39/100\n",
      "38/38 [==============================] - 5s 121ms/step - loss: 7.3662e-06\n",
      "Epoch 40/100\n",
      "38/38 [==============================] - 5s 124ms/step - loss: 7.0573e-06\n",
      "Epoch 41/100\n",
      "38/38 [==============================] - 6s 145ms/step - loss: 7.5447e-06\n",
      "Epoch 42/100\n",
      "38/38 [==============================] - 4s 103ms/step - loss: 6.8635e-06\n",
      "Epoch 43/100\n",
      "38/38 [==============================] - 4s 97ms/step - loss: 7.4815e-06\n",
      "Epoch 44/100\n",
      "38/38 [==============================] - 4s 101ms/step - loss: 8.6972e-06\n",
      "Epoch 45/100\n",
      "38/38 [==============================] - 4s 97ms/step - loss: 8.0234e-06\n",
      "Epoch 46/100\n",
      "38/38 [==============================] - 5s 120ms/step - loss: 7.9715e-06\n",
      "Epoch 47/100\n",
      "38/38 [==============================] - 4s 115ms/step - loss: 7.3975e-06\n",
      "Epoch 48/100\n",
      "38/38 [==============================] - 4s 97ms/step - loss: 7.3206e-06\n",
      "Epoch 49/100\n",
      "38/38 [==============================] - 4s 100ms/step - loss: 6.7937e-06\n",
      "Epoch 50/100\n",
      "38/38 [==============================] - 4s 99ms/step - loss: 7.3817e-06\n",
      "Epoch 51/100\n",
      "38/38 [==============================] - 4s 97ms/step - loss: 6.6212e-06\n",
      "Epoch 52/100\n",
      "38/38 [==============================] - 4s 104ms/step - loss: 6.9061e-06\n",
      "Epoch 53/100\n",
      "38/38 [==============================] - 4s 102ms/step - loss: 6.4282e-06\n",
      "Epoch 54/100\n",
      "38/38 [==============================] - 4s 100ms/step - loss: 6.4140e-06\n",
      "Epoch 55/100\n",
      "38/38 [==============================] - 4s 108ms/step - loss: 6.5355e-06\n",
      "Epoch 56/100\n",
      "38/38 [==============================] - 4s 112ms/step - loss: 6.7553e-06\n",
      "Epoch 57/100\n",
      "38/38 [==============================] - 4s 108ms/step - loss: 5.8673e-06\n",
      "Epoch 58/100\n",
      "38/38 [==============================] - 4s 109ms/step - loss: 6.4938e-06\n",
      "Epoch 59/100\n",
      "38/38 [==============================] - 4s 114ms/step - loss: 6.1248e-06\n",
      "Epoch 60/100\n",
      "38/38 [==============================] - 5s 131ms/step - loss: 6.7953e-06\n",
      "Epoch 61/100\n",
      "38/38 [==============================] - 7s 174ms/step - loss: 6.4042e-06\n",
      "Epoch 62/100\n",
      "38/38 [==============================] - 6s 146ms/step - loss: 6.0651e-06\n",
      "Epoch 63/100\n",
      "38/38 [==============================] - 5s 135ms/step - loss: 5.8167e-06\n",
      "Epoch 64/100\n",
      "38/38 [==============================] - 5s 124ms/step - loss: 6.4798e-06\n",
      "Epoch 65/100\n",
      "38/38 [==============================] - 4s 118ms/step - loss: 7.1841e-06\n",
      "Epoch 66/100\n",
      "38/38 [==============================] - 5s 119ms/step - loss: 5.9536e-06\n",
      "Epoch 67/100\n",
      "38/38 [==============================] - 5s 120ms/step - loss: 5.4858e-06\n",
      "Epoch 68/100\n",
      "38/38 [==============================] - 4s 110ms/step - loss: 6.2598e-06\n",
      "Epoch 69/100\n",
      "38/38 [==============================] - 4s 106ms/step - loss: 5.9125e-06\n",
      "Epoch 70/100\n",
      "38/38 [==============================] - 4s 98ms/step - loss: 5.5344e-06\n",
      "Epoch 71/100\n",
      "38/38 [==============================] - 4s 94ms/step - loss: 5.3615e-06\n",
      "Epoch 72/100\n",
      "38/38 [==============================] - 4s 107ms/step - loss: 6.7575e-06\n",
      "Epoch 73/100\n",
      "38/38 [==============================] - 4s 93ms/step - loss: 5.8663e-06\n",
      "Epoch 74/100\n",
      "38/38 [==============================] - 4s 93ms/step - loss: 6.1742e-06\n",
      "Epoch 75/100\n",
      "38/38 [==============================] - 4s 100ms/step - loss: 5.8488e-06\n",
      "Epoch 76/100\n",
      "38/38 [==============================] - 4s 92ms/step - loss: 6.2344e-06\n",
      "Epoch 77/100\n",
      "38/38 [==============================] - 4s 95ms/step - loss: 5.7857e-06\n",
      "Epoch 78/100\n",
      "38/38 [==============================] - 4s 94ms/step - loss: 5.6307e-06\n",
      "Epoch 79/100\n",
      "38/38 [==============================] - 4s 99ms/step - loss: 4.8256e-06\n",
      "Epoch 80/100\n",
      "38/38 [==============================] - 4s 102ms/step - loss: 4.9903e-06\n",
      "Epoch 81/100\n",
      "38/38 [==============================] - 4s 102ms/step - loss: 5.3440e-06\n",
      "Epoch 82/100\n",
      "38/38 [==============================] - 4s 98ms/step - loss: 7.1481e-06\n",
      "Epoch 83/100\n",
      "38/38 [==============================] - 4s 101ms/step - loss: 5.2582e-06\n",
      "Epoch 84/100\n",
      "38/38 [==============================] - 4s 104ms/step - loss: 5.3439e-06\n",
      "Epoch 85/100\n",
      "38/38 [==============================] - 4s 109ms/step - loss: 5.1671e-06\n",
      "Epoch 86/100\n",
      "38/38 [==============================] - 5s 138ms/step - loss: 4.8131e-06\n",
      "Epoch 87/100\n",
      "38/38 [==============================] - 10s 254ms/step - loss: 5.4318e-06\n",
      "Epoch 88/100\n",
      "38/38 [==============================] - 6s 164ms/step - loss: 5.0709e-06\n",
      "Epoch 89/100\n",
      "38/38 [==============================] - 9s 229ms/step - loss: 4.7527e-06\n",
      "Epoch 90/100\n",
      "38/38 [==============================] - 6s 154ms/step - loss: 5.6018e-06\n",
      "Epoch 91/100\n",
      "38/38 [==============================] - 5s 121ms/step - loss: 5.1312e-06\n",
      "Epoch 92/100\n",
      "38/38 [==============================] - 4s 111ms/step - loss: 4.7273e-06\n",
      "Epoch 93/100\n",
      "38/38 [==============================] - 5s 123ms/step - loss: 5.1305e-06\n",
      "Epoch 94/100\n",
      "38/38 [==============================] - 5s 119ms/step - loss: 5.2006e-06\n",
      "Epoch 95/100\n"
     ]
    },
    {
     "name": "stdout",
     "output_type": "stream",
     "text": [
      "38/38 [==============================] - 4s 103ms/step - loss: 4.6957e-06\n",
      "Epoch 96/100\n",
      "38/38 [==============================] - 4s 100ms/step - loss: 4.9374e-06\n",
      "Epoch 97/100\n",
      "38/38 [==============================] - 4s 97ms/step - loss: 5.0694e-06\n",
      "Epoch 98/100\n",
      "38/38 [==============================] - 4s 92ms/step - loss: 4.6165e-06\n",
      "Epoch 99/100\n",
      "38/38 [==============================] - 4s 94ms/step - loss: 4.8058e-06\n",
      "Epoch 100/100\n",
      "38/38 [==============================] - 4s 94ms/step - loss: 5.2970e-06\n"
     ]
    },
    {
     "data": {
      "text/plain": [
       "<keras.callbacks.History at 0x29d3ca47bc8>"
      ]
     },
     "execution_count": 94,
     "metadata": {},
     "output_type": "execute_result"
    }
   ],
   "source": [
    "# Part 2 - Building the RNN\n",
    "# Building a robust stacked LSTM with dropout regularization\n",
    "\n",
    "# Importing the Keras libraries and packages\n",
    "from keras.models import Sequential\n",
    "from keras.layers import Dense\n",
    "from keras.layers import LSTM\n",
    "from keras.layers import Dropout\n",
    "\n",
    "# Initialising the RNN.\n",
    "# Regression is when you predict a continuous value\n",
    "regressor = Sequential()\n",
    "\n",
    "# Adding the first LSTM layer and some Dropout regularisation\n",
    "# 'units' is the number of LSTM Memory Cells (Neurons) for higher dimensionality\n",
    "# 'return_sequences = True' because we will add more stacked LSTM Layers\n",
    "# 'input_shape' of x_train\n",
    "regressor.add(LSTM(units = 50, return_sequences = True, input_shape = (X_train.shape[1], 1)))\n",
    "# 20% of Neurons will be ignored (10 out of 50 Neurons) to prevent Overfitting\n",
    "regressor.add(Dropout(0.2))\n",
    "\n",
    "# Adding a second LSTM layer and some Dropout regularisation\n",
    "# Not need to specify input_shape for second Layer, it knows that we have 50 Neurons from the previous layer\n",
    "regressor.add(LSTM(units = 50, return_sequences = True))\n",
    "regressor.add(Dropout(0.2))\n",
    "\n",
    "# Adding a third LSTM layer and some Dropout regularisation\n",
    "regressor.add(LSTM(units = 50, return_sequences = True))\n",
    "regressor.add(Dropout(0.2))\n",
    "\n",
    "# Adding a fourth LSTM layer and some Dropout regularisation\n",
    "# This is the last LSTM Layer. 'return_sequences = false' by default so we leave it out.\n",
    "regressor.add(LSTM(units = 50))\n",
    "regressor.add(Dropout(0.2))\n",
    "\n",
    "# Adding the output layer\n",
    "# 'units = 1' because Output layer has one dimension\n",
    "regressor.add(Dense(units = 1))\n",
    "\n",
    "# Compiling the RNN\n",
    "# Keras documentation recommends 'RMSprop' as a good optimizer for RNNs\n",
    "# Trial and error suggests that 'adam' optimizer is a good choice\n",
    "# loss = 'mean_squared_error' which is good for Regression vs. 'Binary Cross Entropy' previously used for Classification\n",
    "regressor.compile(optimizer = 'adam', loss = 'mean_squared_error')\n",
    "\n",
    "# Fitting the RNN to the Training set\n",
    "# 'X_train' Independent variables\n",
    "# 'y_train' Output Truths that we compare X_train to.\n",
    "regressor.fit(X_train, y_train, epochs = 100, batch_size = 32)\n",
    "\n"
   ]
  },
  {
   "cell_type": "code",
   "execution_count": 96,
   "id": "c537ce1a",
   "metadata": {},
   "outputs": [
    {
     "name": "stdout",
     "output_type": "stream",
     "text": [
      "1/1 [==============================] - 0s 55ms/step\n"
     ]
    },
    {
     "name": "stderr",
     "output_type": "stream",
     "text": [
      "c:\\users\\lavaa\\appdata\\local\\programs\\python\\python37\\lib\\site-packages\\ipykernel_launcher.py:39: UserWarning:\n",
      "\n",
      "Matplotlib is currently using agg, which is a non-GUI backend, so cannot show the figure.\n",
      "\n"
     ]
    },
    {
     "data": {
      "image/png": "[encoded data removed]",
      "text/plain": [
       "<Figure size 432x288 with 1 Axes>"
      ]
     },
     "metadata": {
      "needs_background": "light"
     },
     "output_type": "display_data"
    }
   ],
   "source": [
    "# Part 3 - Making the predictions and visualising the results\n",
    "\n",
    "# Getting the real stock price of 2017\n",
    "dataset_test = pd.read_csv('tesla_train.csv')\n",
    "real_stock_price = dataset_test.iloc[:, 1:2].values\n",
    "\n",
    "# Getting the predicted stock price of 2017\n",
    "# We need 60 previous inputs for each day of the Test_set in 2017\n",
    "# Combine 'dataset_train' and 'dataset_test'\n",
    "# 'axis = 0' for Vertical Concatenation to add rows to the bottom\n",
    "dataset_total = pd.concat((dataset_train['Open'], dataset_test['Open']), axis = 0)\n",
    "# Extract Stock Prices for Test time period, plus 60 days previous\n",
    "inputs = dataset_total[len(dataset_total) - len(dataset_test) - 60:].values\n",
    "# 'reshape' function to get it into a NumPy format\n",
    "inputs = inputs.reshape(-1,1)\n",
    "# Inputs need to be scaled to match the model trained on Scaled Feature\n",
    "inputs = sc.transform(inputs)\n",
    "# The following is pasted from above and modified for Testing, romove all 'Ys'\n",
    "X_test = []\n",
    "\n",
    "for i in range(60, 80):\n",
    "    X_test.append(inputs[i-60:i, 0])\n",
    "\n",
    "X_test = np.array(X_test)\n",
    "# We need a 3D input so add another dimension\n",
    "X_test = np.reshape(X_test, (X_test.shape[0], X_test.shape[1], 1))\n",
    "# Predict the Stock Price\n",
    "predicted_stock_price = regressor.predict(X_test)\n",
    "# We need to inverse the scaling of our prediction to get a Dollar amount\n",
    "predicted_stock_price = sc.inverse_transform(predicted_stock_price)\n",
    "\n",
    "# Visualising the results\n",
    "plt.plot(real_stock_price, color = 'red', label = 'Real Tesla Stock Price')\n",
    "plt.plot(predicted_stock_price, color = 'blue', label = 'Predicted Tesla Stock Price')\n",
    "plt.title('Tesla Stock Price Prediction')\n",
    "plt.xlabel('Time')\n",
    "plt.ylabel('Tesla Stock Price')\n",
    "plt.legend()\n",
    "plt.show()\n"
   ]
  },
  {
   "cell_type": "code",
   "execution_count": null,
   "id": "9bb3453b",
   "metadata": {},
   "outputs": [],
   "source": []
  }
 ],
 "metadata": {
  "kernelspec": {
   "display_name": "Python 3 (ipykernel)",
   "language": "python",
   "name": "python3"
  },
  "language_info": {
   "codemirror_mode": {
    "name": "ipython",
    "version": 3
   },
   "file_extension": ".py",
   "mimetype": "text/x-python",
   "name": "python",
   "nbconvert_exporter": "python",
   "pygments_lexer": "ipython3",
   "version": "3.7.4"
  }
 },
 "nbformat": 4,
 "nbformat_minor": 5
}
