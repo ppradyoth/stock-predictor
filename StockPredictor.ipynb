{
 "cells": [
  {
   "cell_type": "markdown",
   "id": "023290fc",
   "metadata": {},
   "source": [
    "# Industry Driven Elective"
   ]
  },
  {
   "cell_type": "markdown",
   "id": "2e586b7e",
   "metadata": {},
   "source": [
    "## Artificial Intelligence and Machine Learning (IS6E106) offered by Nokia"
   ]
  },
  {
   "cell_type": "markdown",
   "id": "bd651cfb",
   "metadata": {},
   "source": [
    "### Project: Stock Price Prediction"
   ]
  },
  {
   "cell_type": "markdown",
   "id": "57a15b79",
   "metadata": {},
   "source": [
    "The challenge of this project is to accurately predict the future closing value of a given stock across a given period of time in the future."
   ]
  },
  {
   "cell_type": "markdown",
   "id": "e1970be7",
   "metadata": {},
   "source": [
    "# Introduction\n",
    "\n",
    "\n",
    "<br></br>\n",
    "This article explores a Machine Learning algorithm called Recurrent Neural Network (RNN), it's a common Deep Learning technique used for continuous data pattern recognition. Recurrent Neural Network take into account how data changes over time, it's typically used for time-series data (stock prices, sensor readings, etc). Recurrent Neural Network can also be used for video analysis.\n",
    "\n",
    "\n",
    "<br></br>\n",
    "You are provided with a dataset consisting of stock prices for Google Inc, used to train a model and predict future stock prices as shown below.\n",
    "\n",
    "\n",
    "<br></br>\n",
    "<div align=\"center\"><img src=\"https://raw.githubusercontent.com/AMoazeni/Machine-Learning-Stock-Market-Prediction/master/Jupyter%20Notebook/Images/01%20-%20Google%20Stock%20Price%20Prediction.png\" alt=\"Google-Stock\"></div>\n",
    "\n",
    "\n",
    "<br></br>\n",
    "For improved predictions, you can train this model on stock price data for more companies in the same sector, region, subsidiaries, etc. Sentiment analysis of the web, news, and social media may also be useful in your predictions. The open-source developer Sentdex has created a really useful tool for [S&P 500 Sentiment Analysis](http://sentdex.com/financial-analysis/).\n",
    "\n",
    "\n",
    "<br></br>\n",
    "<br></br>\n",
    "\n",
    "# Recurrent Neural Networks\n",
    "\n",
    "<br></br>\n",
    "As we try to model Machine Learning to behave like brains, weights represent long-term memory in the Temporal Lobe. Recognition of patterns and images is done by the Occipital Lobe which works similar to Convolution Neural Networks. Recurrent Neural Networks are like short-term memory which remembers recent memory and can create context similar to the Frontal Lobe. The Parietal Lobe is responsible for spacial recognition like Botlzman Machines. Recurrent Neural Networks connect neurons to themselves through time, creating a feedback loop that preserves short-term and long-term memory awareness.\n",
    "\n",
    "<br></br>\n",
    "<div align=\"center\"><img src=\"https://raw.githubusercontent.com/AMoazeni/Machine-Learning-Stock-Market-Prediction/master/Jupyter%20Notebook/Images/02%20-%20Brain%20Diagram.png\" width=\"400\" alt=\"Brain\"></div>\n",
    "\n",
    "\n",
    "<br></br>\n",
    "The following diagram represents the old-school way to describe RNNs, which shows a Feedback Loop (temporal loop) structure that connects hidden layers to themselves and the output layer which gives them a short-term memory.\n",
    "\n",
    "\n",
    "### Compact Form Representation\n",
    "\n",
    "<br></br>\n",
    "<div align=\"center\"><img src=\"https://raw.githubusercontent.com/AMoazeni/Machine-Learning-Stock-Market-Prediction/master/Jupyter%20Notebook/Images/03%20-%20Old%20RNN%20Representation.png\" alt=\"RNN\"></div>\n",
    "\n",
    "\n",
    "\n",
    "### Expanded Form Representation\n",
    "\n",
    "<br></br>\n",
    "<div align=\"center\"><img src=\"https://raw.githubusercontent.com/AMoazeni/Machine-Learning-Stock-Market-Prediction/master/Jupyter%20Notebook/Images/04%20-%20Expanded%20%20RNN%20Representation.png\" width=\"400\" alt=\"RNN-2\"></div>\n",
    "\n",
    "\n",
    "<br></br>\n",
    "A more modern representation shows the following RNN types and use examples: \n",
    "\n",
    "1. One-To-Many: Computer description of an image. CNN used to classify images and then RNN used to make sense of images and generate context.\n",
    "\n",
    "2. Many-To-One: Sentiment Analysis of text (gague the positivity or negativity of text)\n",
    "\n",
    "3. Many-to-Many: Google translate of language who's vocabulary changes based on the gender of the subject. Also subtitling of a movie.\n",
    "\n",
    "\n",
    "<br></br>\n",
    "<div align=\"center\"><img src=\"https://raw.githubusercontent.com/AMoazeni/Machine-Learning-Stock-Market-Prediction/master/Jupyter%20Notebook/Images/05%20-%20RNN%20Examples.png\" width=\"600\" alt=\"RNN-Example\"></div>\n",
    "\n",
    "\n",
    "<br></br>\n",
    "Check out Andrej Karpathy's Blog (Director of AI at Tesla) on [Github](http://karpathy.github.io/) and [Medium](https://medium.com/@karpathy/).\n",
    "\n",
    "\n",
    "<br></br>\n",
    "Here is the movie script writen by an AI trained with an LSTM Recurrent Neural Network: [Sunspring by Benjamin the Artificial Intelligence](https://www.youtube.com/watch?v=LY7x2Ihqjmc).\n",
    "\n",
    "\n",
    "\n",
    "<br></br>\n",
    "<br></br>\n",
    "\n",
    "# RNN Gradient Problem (Expanding or Vanishing)\n",
    "\n",
    "<br></br>\n",
    "The gradient is used to update the weights in an RNN by looking back a certain number of user defined steps. The lower the gradient, the harder it is to update the weights (vanishing gradient) of nodes further back in time. Especially because previous layers are used as inputs for future layers. This means old neurons are training much slower that more current neurons. It's like a domino effect.\n",
    "\n",
    "<br></br>\n",
    "<div align=\"center\"><img src=\"https://raw.githubusercontent.com/AMoazeni/Machine-Learning-Stock-Market-Prediction/master/Jupyter%20Notebook/Images/06%20-%20RNN%20Vanish%20Gradient.png\" alt=\"RNN-Vanishing\"></div>\n",
    "\n",
    "\n",
    "\n",
    "<br></br>\n",
    "<br></br>\n",
    "\n",
    "# Expanding Gradient Solutions\n",
    "\n",
    "\n",
    "### 1. Truncated Back-propagation\n",
    "Stop back-propagation after a certain point (not an optimal because not updating all the weights). Better than doing nothing which can produce an irrelevant network.\n",
    "\n",
    "\n",
    "### 2. Penalties\n",
    "The gradient can be penalized and artificially reduced.\n",
    "\n",
    "\n",
    "### 3. Gradient Clipping\n",
    "A maximum limit for the gradient which stops it from rising more.\n",
    "\n",
    "\n",
    "\n",
    "<br></br>\n",
    "<br></br>\n",
    "\n",
    "# Vanishing Gradient Solutions\n",
    "\n",
    "### 1. Weight Initialization\n",
    "You can be smart about how you initialize weights to minimize the vanishing gradient problem.\n",
    "\n",
    "\n",
    "### 2. Echo State Network\n",
    "Designed to solve vanishing gradient problem. It's a recurrent neural network with a sparsely connected hidden layer (with typically 1% connectivity). The connectivity and weights of hidden neurons are fixed and randomly assigned.\n",
    "\n",
    "\n",
    "### 3. Long Short-Term Memory Networks (LSTM)\n",
    "Most popular RNN structure to tackle this problem.\n",
    "\n",
    "\n",
    "\n",
    "<br></br>\n",
    "<br></br>\n",
    "\n",
    "# LSTM\n",
    "\n",
    "<br></br>\n",
    "When the weight of an RNN gradient 'W_rec' is less than 1 we get Vanishing Gradient, when 'W_rec' is more than 1 we get Expanding Gradient, thus we can set 'W_rec = 1'.\n",
    "\n",
    "\n",
    "<br></br>\n",
    "<div align=\"center\"><img src=\"https://raw.githubusercontent.com/AMoazeni/Machine-Learning-Stock-Market-Prediction/master/Jupyter%20Notebook/Images/07%20-%20LSTM.png\" alt=\"LSTM\"></div>\n",
    "\n",
    "\n",
    "<br></br>\n",
    "- Circles represent Layers (Vectors).\n",
    "\n",
    "- 'C' represents Memory Cells Layers.\n",
    "\n",
    "- 'h' represents Output Layers (Hidden States).\n",
    "\n",
    "- 'X' represents Input Layers.\n",
    "\n",
    "- Lines represent values being transferred.\n",
    "\n",
    "- Concatenated lines represent pipelines running in parallel.\n",
    "\n",
    "- Forks are when Data is copied.\n",
    "\n",
    "- Pointwise Element-by-Element Operation (X) represents valves (from left-to-right: Forget Valve, Memory Valve, Output Valve).\n",
    "\n",
    "- Valves can be open, closed or partially open as decided by an Activation Function.\n",
    "\n",
    "- Pointwise Element-by-Element Operation (+) represent a Tee pipe joint, allowing stuff through if the corresponding valve is activated.\n",
    "\n",
    "- Pointwise Element-by-Element Operation (Tanh) Tangent function that outputs (values between -1 to 1).\n",
    "\n",
    "- Sigma Layer Operation Sigmoid Activation Function (values from 0 to 1).\n",
    "\n",
    "\n",
    "<br></br>\n",
    "<div align=\"center\"><img src=\"https://raw.githubusercontent.com/AMoazeni/Machine-Learning-Stock-Market-Prediction/master/Jupyter%20Notebook/Images/08%20-%20LSTM%20Cell.png\" alt=\"LSTM-Cell\"></div>\n",
    "\n",
    "\n",
    "\n",
    "<br></br>\n",
    "<br></br>\n",
    "\n",
    "# LSTM Step 1\n",
    "\n",
    "New Value 'X_t' and value from previous node 'h_t-1' decide if the forget valve should be opened or closed (Sigmoid).\n",
    "\n",
    "<div align=\"center\"><img src=\"https://raw.githubusercontent.com/AMoazeni/Machine-Learning-Stock-Market-Prediction/master/Jupyter%20Notebook/Images/09%20-%20LSTM%20Step%201.png\" width=\"600\" alt=\"LSTM-Step-1\"></div>\n",
    "\n",
    "\n",
    "\n",
    "<br></br>\n",
    "<br></br>\n",
    "\n",
    "# LSTM Step 2\n",
    "\n",
    "New Value 'X_t' and value from Previous Node 'h_t-1'. Together they decide if the memory valve should be opened or closed (Sigmoid). To what extent to let values through (Tanh from -1 to 1).\n",
    "\n",
    "<div align=\"center\"><img src=\"https://raw.githubusercontent.com/AMoazeni/Machine-Learning-Stock-Market-Prediction/master/Jupyter%20Notebook/Images/10%20-%20LSTM%20Step%202.png\" width=\"600\" alt=\"LSTM-Step-2\"></div>\n",
    "\n",
    "\n",
    "\n",
    "<br></br>\n",
    "<br></br>\n",
    "\n",
    "# LSTM Step 3\n",
    "\n",
    "Decide the extent to which a memory cell 'C_t' should be updated from the previous memory cell 'C_t-1'. Forget and memory valves used to decide this. You can update memory completely, not at all or only partially.\n",
    "\n",
    "<div align=\"center\"><img src=\"https://raw.githubusercontent.com/AMoazeni/Machine-Learning-Stock-Market-Prediction/master/Jupyter%20Notebook/Images/11%20-%20LSTM%20Step%203.png\" width=\"600\" alt=\"LSTM-Step-3\"></div>\n",
    "\n",
    "\n",
    "\n",
    "<br></br>\n",
    "<br></br>\n",
    "\n",
    "# LSTM Step 4\n",
    "\n",
    "New value 'X_t' and value from previous node 'h_t-1' decides which part of the memory pipeline, and to what extent they will be used as an Output 'h_t'.\n",
    "\n",
    "<div align=\"center\"><img src=\"https://raw.githubusercontent.com/AMoazeni/Machine-Learning-Stock-Market-Prediction/master/Jupyter%20Notebook/Images/12%20-%20LSTM%20Step%204.png\" width=\"600\" alt=\"LSTM-Step-4\"></div>\n",
    "\n",
    "\n",
    "\n",
    "<br></br>\n",
    "<br></br>\n",
    "\n",
    "# LSTM Variation 1 (Add Peep holes)\n",
    "\n",
    "Sigmoid layer activation functions now have additional information about the current state of the Memory Cell. So valve decisions are made, taking into account memory cell state.\n",
    "\n",
    "<div align=\"center\"><img src=\"https://raw.githubusercontent.com/AMoazeni/Machine-Learning-Stock-Market-Prediction/master/Jupyter%20Notebook/Images/13%20-%20LSTM%20Var%201.png\" width=\"600\" alt=\"LSTM-Var-1\"></div>\n",
    "\n",
    "\n",
    "\n",
    "<br></br>\n",
    "<br></br>\n",
    "\n",
    "# LSTM Variation 2 (Connect Forget & Memory Valves)\n",
    "\n",
    "Forget and memory valves can make a combined decision. They're connected with a '-1' multiplier so one opens when the other closes.\n",
    "\n",
    "<div align=\"center\"><img src=\"https://raw.githubusercontent.com/AMoazeni/Machine-Learning-Stock-Market-Prediction/master/Jupyter%20Notebook/Images/14%20-%20LSTM%20Var%202.png\" width=\"600\" alt=\"LSTM-Var-2\"></div>\n",
    "\n",
    "\n",
    "\n",
    "<br></br>\n",
    "<br></br>\n",
    "\n",
    "# LSTM Variation 3 (GRU: Gated Recurring Units)\n",
    "\n",
    "The memory pipeline is replaced by the hidden pipeline. Simpler but less flexible in terms of how many things are being monitored and controlled.\n",
    "\n",
    "<div align=\"center\"><img src=\"https://raw.githubusercontent.com/AMoazeni/Machine-Learning-Stock-Market-Prediction/master/Jupyter%20Notebook/Images/15%20-%20LSTM%20Var%203.png\" width=\"600\" alt=\"LSTM-Var-3\"></div>\n",
    "\n",
    "\n",
    "\n",
    "\n",
    "<br></br>\n",
    "<br></br>\n",
    "<br></br>\n",
    "<br></br>\n"
   ]
  },
  {
   "cell_type": "code",
   "execution_count": 1,
   "id": "2bb7823a",
   "metadata": {},
   "outputs": [],
   "source": [
    "# prerequisite installation\n",
    "#!pip3 install yfinance\n",
    "#!pip3 install matplotlib\n",
    "#!pip3 install numpy\n",
    "#!pip3 install pandas\n",
    "#!pip3 install visualize"
   ]
  },
  {
   "cell_type": "markdown",
   "id": "03494a73",
   "metadata": {},
   "source": [
    "## Retrieving the data"
   ]
  },
  {
   "cell_type": "code",
   "execution_count": 2,
   "id": "e1ef9423",
   "metadata": {},
   "outputs": [
    {
     "name": "stdout",
     "output_type": "stream",
     "text": [
      "[*********************100%***********************]  1 of 1 completed\n"
     ]
    },
    {
     "data": {
      "image/png": "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",
      "text/plain": [
       "<Figure size 432x288 with 1 Axes>"
      ]
     },
     "metadata": {
      "needs_background": "light"
     },
     "output_type": "display_data"
    }
   ],
   "source": [
    "import datetime\n",
    "import yfinance as yf\n",
    "import matplotlib.pyplot as plt\n",
    "data = yf.download('TSLA','2015-01-01','2022-01-01')\n",
    "data[\"Adj Close\"].plot()\n",
    "plt.show()"
   ]
  },
  {
   "cell_type": "code",
   "execution_count": 3,
   "id": "a80d2709",
   "metadata": {},
   "outputs": [],
   "source": [
    "data.to_csv('tesla.csv',index = False)"
   ]
  },
  {
   "cell_type": "markdown",
   "id": "5bc303e3",
   "metadata": {},
   "source": [
    "## Normalising the data"
   ]
  },
  {
   "cell_type": "code",
   "execution_count": 4,
   "id": "6f670727",
   "metadata": {},
   "outputs": [
    {
     "name": "stdout",
     "output_type": "stream",
     "text": [
      "        Open       High        Low      Close  Adj Close    Volume\n",
      "0  44.618000  45.136002  44.450001  44.481998  44.481998  11487500\n",
      "1  44.574001  44.650002  42.652000  43.862000  43.862000  23822000\n",
      "2  42.910000  43.299999  41.431999  42.018002  42.018002  26842500\n",
      "3  42.012001  42.840000  40.841999  42.256001  42.256001  31309500\n",
      "4  42.669998  42.956001  41.956001  42.189999  42.189999  14842000\n",
      "\n",
      "\n",
      "Open   --- mean : 191.2357847771677   \t Std:  268.57589583959066   \t Max:  1234.4100341796875   \t Min:  28.464000701904297\n",
      "High   --- mean : 195.3130371651682   \t Std:  274.4522511077426   \t Max:  1243.489990234375   \t Min:  30.99399948120117\n",
      "Low    --- mean : 186.9265443083921   \t Std:  262.2841396234461   \t Max:  1217.0   \t Min:  28.209999084472656\n",
      "Close  --- mean : 191.40155297558323   \t Std:  268.83513567701107   \t Max:  1229.9100341796875   \t Min:  28.733999252319336\n",
      "Volume --- mean : 38275839.51247165   \t Std:  28152650.760726396   \t Max:  304694000   \t Min:  3540000\n"
     ]
    }
   ],
   "source": [
    "import pandas as pd\n",
    "import numpy as np\n",
    "\n",
    "data = pd.read_csv('tesla.csv')\n",
    "print(data.head())\n",
    "\n",
    "print(\"\\n\")\n",
    "print(\"Open   --- mean :\", np.mean(data['Open']),  \"  \\t Std: \", np.std(data['Open']),  \"  \\t Max: \", np.max(data['Open']),  \"  \\t Min: \", np.min(data['Open']))\n",
    "print(\"High   --- mean :\", np.mean(data['High']),  \"  \\t Std: \", np.std(data['High']),  \"  \\t Max: \", np.max(data['High']),  \"  \\t Min: \", np.min(data['High']))\n",
    "print(\"Low    --- mean :\", np.mean(data['Low']),   \"  \\t Std: \", np.std(data['Low']),   \"  \\t Max: \", np.max(data['Low']),   \"  \\t Min: \", np.min(data['Low']))\n",
    "print(\"Close  --- mean :\", np.mean(data['Close']), \"  \\t Std: \", np.std(data['Close']), \"  \\t Max: \", np.max(data['Close']), \"  \\t Min: \", np.min(data['Close']))\n",
    "print(\"Volume --- mean :\", np.mean(data['Volume']),\"  \\t Std: \", np.std(data['Volume']),\"  \\t Max: \", np.max(data['Volume']),\"  \\t Min: \", np.min(data['Volume']))"
   ]
  },
  {
   "cell_type": "code",
   "execution_count": 5,
   "id": "7326a420",
   "metadata": {},
   "outputs": [],
   "source": [
    "data1=data"
   ]
  },
  {
   "cell_type": "code",
   "execution_count": 6,
   "id": "028caa49",
   "metadata": {},
   "outputs": [
    {
     "name": "stdout",
     "output_type": "stream",
     "text": [
      "        Open        Low      Close  Adj Close    Volume\n",
      "0  44.618000  44.450001  44.481998  44.481998  11487500\n",
      "1  44.574001  42.652000  43.862000  43.862000  23822000\n",
      "2  42.910000  41.431999  42.018002  42.018002  26842500\n",
      "3  42.012001  40.841999  42.256001  42.256001  31309500\n",
      "4  42.669998  41.956001  42.189999  42.189999  14842000\n",
      "---\n",
      "             Open          Low        Close    Adj Close    Volume\n",
      "1759  1073.670044  1070.719971  1093.939941  1093.939941  23715300\n",
      "1760  1109.489990  1078.420044  1088.469971  1088.469971  20108000\n",
      "1761  1098.640015  1064.140015  1086.189941  1086.189941  18718000\n",
      "1762  1061.329956  1053.150024  1070.339966  1070.339966  15680300\n",
      "1763  1073.439941  1054.589966  1056.780029  1056.780029  13577900\n"
     ]
    }
   ],
   "source": [
    "data.pop('High')\n",
    "#Print the dataframe head and tail\n",
    "print(data.head())\n",
    "print(\"---\")\n",
    "print(data.tail())"
   ]
  },
  {
   "cell_type": "code",
   "execution_count": 7,
   "id": "3f584fe1",
   "metadata": {},
   "outputs": [
    {
     "name": "stdout",
     "output_type": "stream",
     "text": [
      "        Open      Close  Adj Close    Volume\n",
      "0  44.618000  44.481998  44.481998  11487500\n",
      "1  44.574001  43.862000  43.862000  23822000\n",
      "2  42.910000  42.018002  42.018002  26842500\n",
      "3  42.012001  42.256001  42.256001  31309500\n",
      "4  42.669998  42.189999  42.189999  14842000\n",
      "---\n",
      "             Open        Close    Adj Close    Volume\n",
      "1759  1073.670044  1093.939941  1093.939941  23715300\n",
      "1760  1109.489990  1088.469971  1088.469971  20108000\n",
      "1761  1098.640015  1086.189941  1086.189941  18718000\n",
      "1762  1061.329956  1070.339966  1070.339966  15680300\n",
      "1763  1073.439941  1056.780029  1056.780029  13577900\n"
     ]
    }
   ],
   "source": [
    "data.pop('Low')\n",
    "#Print the dataframe head and tail\n",
    "print(data.head())\n",
    "print(\"---\")\n",
    "print(data.tail())"
   ]
  },
  {
   "cell_type": "code",
   "execution_count": 8,
   "id": "883b8238",
   "metadata": {},
   "outputs": [
    {
     "name": "stdout",
     "output_type": "stream",
     "text": [
      "        Open      Close    Volume\n",
      "0  44.618000  44.481998  11487500\n",
      "1  44.574001  43.862000  23822000\n",
      "2  42.910000  42.018002  26842500\n",
      "3  42.012001  42.256001  31309500\n",
      "4  42.669998  42.189999  14842000\n",
      "---\n",
      "             Open        Close    Volume\n",
      "1759  1073.670044  1093.939941  23715300\n",
      "1760  1109.489990  1088.469971  20108000\n",
      "1761  1098.640015  1086.189941  18718000\n",
      "1762  1061.329956  1070.339966  15680300\n",
      "1763  1073.439941  1056.780029  13577900\n"
     ]
    }
   ],
   "source": [
    "data.pop('Adj Close')\n",
    "#Print the dataframe head and tail\n",
    "print(data.head())\n",
    "print(\"---\")\n",
    "print(data.tail())"
   ]
  },
  {
   "cell_type": "code",
   "execution_count": 9,
   "id": "fdcd9b3c",
   "metadata": {},
   "outputs": [
    {
     "data": {
      "text/plain": [
       "<AxesSubplot:>"
      ]
     },
     "execution_count": 9,
     "metadata": {},
     "output_type": "execute_result"
    },
    {
     "data": {
      "image/png": "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",
      "text/plain": [
       "<Figure size 432x288 with 1 Axes>"
      ]
     },
     "metadata": {
      "needs_background": "light"
     },
     "output_type": "display_data"
    }
   ],
   "source": [
    "import matplotlib.pyplot as plt\n",
    "data.plot()"
   ]
  },
  {
   "cell_type": "markdown",
   "id": "4cb2282e",
   "metadata": {},
   "source": [
    "# Normalize the data retrieved"
   ]
  },
  {
   "cell_type": "code",
   "execution_count": 10,
   "id": "f7a1ae27",
   "metadata": {},
   "outputs": [
    {
     "name": "stdout",
     "output_type": "stream",
     "text": [
      "        Open      Close    Volume\n",
      "0  44.618000  44.481998  11487500\n",
      "1  44.574001  43.862000  23822000\n",
      "2  42.910000  42.018002  26842500\n",
      "3  42.012001  42.256001  31309500\n",
      "4  42.669998  42.189999  14842000\n",
      "\n",
      "\n",
      "Open   --- mean : 191.2357847771677  \t Std:  268.57589583959066   Max:  1234.4100341796875  \t Min:  28.464000701904297\n",
      "Close  --- mean : 191.40155297558323  \t Std:  268.83513567701107   Max:  1229.9100341796875  \t Min:  28.733999252319336\n",
      "Volume --- mean : 38275839.51247165  \t Std:  28152650.760726396   Max:  304694000  \t Min:  3540000\n"
     ]
    }
   ],
   "source": [
    "from sklearn import preprocessing\n",
    "preprocessing.normalize(data)\n",
    "print(data.head())\n",
    "print(\"\\n\")\n",
    "print(\"Open   --- mean :\", np.mean(data['Open']),  \" \\t Std: \", np.std(data['Open']),  \"  Max: \", np.max(data['Open']),  \" \\t Min: \", np.min(data['Open']))\n",
    "print(\"Close  --- mean :\", np.mean(data['Close']), \" \\t Std: \", np.std(data['Close']), \"  Max: \", np.max(data['Close']), \" \\t Min: \", np.min(data['Close']))\n",
    "print(\"Volume --- mean :\", np.mean(data['Volume']),\" \\t Std: \", np.std(data['Volume']),\"  Max: \", np.max(data['Volume']),\" \\t Min: \", np.min(data['Volume']))"
   ]
  },
  {
   "cell_type": "code",
   "execution_count": 11,
   "id": "6b6b9797",
   "metadata": {},
   "outputs": [],
   "source": [
    "#Log the normalised data for future resuablilty\n",
    "data.to_csv('tesla_preprocessed.csv',index= False)"
   ]
  },
  {
   "cell_type": "markdown",
   "id": "f1979d8f",
   "metadata": {},
   "source": [
    "# #Checkpoint 2:Benchmark Model"
   ]
  },
  {
   "cell_type": "code",
   "execution_count": 12,
   "id": "5cec361b",
   "metadata": {},
   "outputs": [
    {
     "data": {
      "text/html": [
       "<div>\n",
       "<style scoped>\n",
       "    .dataframe tbody tr th:only-of-type {\n",
       "        vertical-align: middle;\n",
       "    }\n",
       "\n",
       "    .dataframe tbody tr th {\n",
       "        vertical-align: top;\n",
       "    }\n",
       "\n",
       "    .dataframe thead th {\n",
       "        text-align: right;\n",
       "    }\n",
       "</style>\n",
       "<table border=\"1\" class=\"dataframe\">\n",
       "  <thead>\n",
       "    <tr style=\"text-align: right;\">\n",
       "      <th></th>\n",
       "      <th>Open</th>\n",
       "      <th>Close</th>\n",
       "      <th>Volume</th>\n",
       "    </tr>\n",
       "  </thead>\n",
       "  <tbody>\n",
       "    <tr>\n",
       "      <th>0</th>\n",
       "      <td>44.618000</td>\n",
       "      <td>44.481998</td>\n",
       "      <td>11487500</td>\n",
       "    </tr>\n",
       "    <tr>\n",
       "      <th>1</th>\n",
       "      <td>44.574001</td>\n",
       "      <td>43.862000</td>\n",
       "      <td>23822000</td>\n",
       "    </tr>\n",
       "    <tr>\n",
       "      <th>2</th>\n",
       "      <td>42.910000</td>\n",
       "      <td>42.018002</td>\n",
       "      <td>26842500</td>\n",
       "    </tr>\n",
       "    <tr>\n",
       "      <th>3</th>\n",
       "      <td>42.012001</td>\n",
       "      <td>42.256001</td>\n",
       "      <td>31309500</td>\n",
       "    </tr>\n",
       "    <tr>\n",
       "      <th>4</th>\n",
       "      <td>42.669998</td>\n",
       "      <td>42.189999</td>\n",
       "      <td>14842000</td>\n",
       "    </tr>\n",
       "  </tbody>\n",
       "</table>\n",
       "</div>"
      ],
      "text/plain": [
       "        Open      Close    Volume\n",
       "0  44.618000  44.481998  11487500\n",
       "1  44.574001  43.862000  23822000\n",
       "2  42.910000  42.018002  26842500\n",
       "3  42.012001  42.256001  31309500\n",
       "4  42.669998  42.189999  14842000"
      ]
     },
     "metadata": {},
     "output_type": "display_data"
    }
   ],
   "source": [
    "\n",
    "import math\n",
    "import pandas as pd\n",
    "import numpy as np\n",
    "import sklearn\n",
    "from IPython.display import display\n",
    "from sklearn import linear_model\n",
    "from sklearn.model_selection import train_test_split\n",
    "from sklearn.metrics import mean_squared_error\n",
    "from sklearn.model_selection import TimeSeriesSplit\n",
    "from sklearn.linear_model import LinearRegression\n",
    "import visualize as vs\n",
    "\n",
    "\n",
    "data = pd.read_csv('tesla_preprocessed.csv')\n",
    "display(data.head())"
   ]
  },
  {
   "cell_type": "code",
   "execution_count": 13,
   "id": "84a56633",
   "metadata": {},
   "outputs": [
    {
     "name": "stdout",
     "output_type": "stream",
     "text": [
      "x_train (1181, 3)\n",
      "y_train (1181, 3)\n",
      "x_test (583, 3)\n",
      "y_test (583, 3)\n"
     ]
    }
   ],
   "source": [
    "X_train, X_test, y_train, y_test = sklearn.model_selection.train_test_split(data,data, test_size=0.33)\n",
    "\n",
    "print(\"x_train\", X_train.shape)\n",
    "print(\"y_train\", y_train.shape)\n",
    "print(\"x_test\", X_test.shape)\n",
    "print(\"y_test\", y_test.shape)"
   ]
  },
  {
   "cell_type": "code",
   "execution_count": 14,
   "id": "d1dd248a",
   "metadata": {},
   "outputs": [
    {
     "name": "stdout",
     "output_type": "stream",
     "text": [
      "x_train (1234, 1)\n",
      "y_train (1234,)\n",
      "x_test (530, 1)\n",
      "y_test (530,)\n"
     ]
    },
    {
     "data": {
      "text/plain": [
       "LinearRegression()"
      ]
     },
     "execution_count": 14,
     "metadata": {},
     "output_type": "execute_result"
    }
   ],
   "source": [
    "import numpy as np\n",
    "#building regression model\n",
    "from sklearn.model_selection import train_test_split\n",
    "#For preprocessing\n",
    "from sklearn.preprocessing import MinMaxScaler\n",
    "from sklearn.preprocessing import StandardScaler\n",
    "#For model evaluation\n",
    "from sklearn.metrics import mean_squared_error as mse\n",
    "from sklearn.metrics import r2_score\n",
    "\n",
    "X=np.array(data.index).reshape(-1,1)\n",
    "Y=data['Close']\n",
    "\n",
    "\n",
    "X_train, X_test, y_train, y_test= train_test_split(X,Y,test_size=0.3,random_state=101)\n",
    "\n",
    "print(\"x_train\", X_train.shape)\n",
    "print(\"y_train\", y_train.shape)\n",
    "print(\"x_test\", X_test.shape)\n",
    "print(\"y_test\", y_test.shape)\n",
    "\n",
    "\n",
    "\n",
    "#feature scaling\n",
    "scaler=StandardScaler().fit(X_train)\n",
    "\n",
    "\n",
    "from sklearn.linear_model import LinearRegression\n",
    "#creating linear model\n",
    "lm=LinearRegression()\n",
    "lm.fit(X_train,y_train)\n",
    "\n"
   ]
  },
  {
   "cell_type": "code",
   "execution_count": 16,
   "id": "f6ff271d",
   "metadata": {},
   "outputs": [
    {
     "data": {
      "text/html": [
       "        <script type=\"text/javascript\">\n",
       "        window.PlotlyConfig = {MathJaxConfig: 'local'};\n",
       "        if (window.MathJax && window.MathJax.Hub && window.MathJax.Hub.Config) {window.MathJax.Hub.Config({SVG: {font: \"STIX-Web\"}});}\n",
       "        if (typeof require !== 'undefined') {\n",
       "        require.undef(\"plotly\");\n",
       "        requirejs.config({\n",
       "            paths: {\n",
       "                'plotly': ['https://cdn.plot.ly/plotly-2.12.1.min']\n",
       "            }\n",
       "        });\n",
       "        require(['plotly'], function(Plotly) {\n",
       "            window._Plotly = Plotly;\n",
       "        });\n",
       "        }\n",
       "        </script>\n",
       "        "
      ]
     },
     "metadata": {},
     "output_type": "display_data"
    },
    {
     "ename": "ValueError",
     "evalue": "\n    Invalid value of type 'builtins.module' received for the 'layout' property of \n        Received value: <module 'plotly.graph_objs.layout' from 'c:\\\\users\\\\lavaa\\\\appdata\\\\local\\\\programs\\\\python\\\\python37\\\\lib\\\\site-packages\\\\plotly\\\\graph_objs\\\\layout\\\\__init__.py'>\n\n    The 'layout' property is an instance of Layout\n    that may be specified as:\n      - An instance of :class:`plotly.graph_objs.Layout`\n      - A dict of string/value properties that will be passed\n        to the Layout constructor\n\n        Supported dict properties:\n            \n            activeshape\n                :class:`plotly.graph_objects.layout.Activeshape\n                ` instance or dict with compatible properties\n            annotations\n                A tuple of\n                :class:`plotly.graph_objects.layout.Annotation`\n                instances or dicts with compatible properties\n            annotationdefaults\n                When used in a template (as\n                layout.template.layout.annotationdefaults),\n                sets the default property values to use for\n                elements of layout.annotations\n            autosize\n                Determines whether or not a layout width or\n                height that has been left undefined by the user\n                is initialized on each relayout. Note that,\n                regardless of this attribute, an undefined\n                layout width or height is always initialized on\n                the first call to plot.\n            autotypenumbers\n                Using \"strict\" a numeric string in trace data\n                is not converted to a number. Using *convert\n                types* a numeric string in trace data may be\n                treated as a number during automatic axis\n                `type` detection. This is the default value;\n                however it could be overridden for individual\n                axes.\n            bargap\n                Sets the gap (in plot fraction) between bars of\n                adjacent location coordinates.\n            bargroupgap\n                Sets the gap (in plot fraction) between bars of\n                the same location coordinate.\n            barmode\n                Determines how bars at the same location\n                coordinate are displayed on the graph. With\n                \"stack\", the bars are stacked on top of one\n                another With \"relative\", the bars are stacked\n                on top of one another, with negative values\n                below the axis, positive values above With\n                \"group\", the bars are plotted next to one\n                another centered around the shared location.\n                With \"overlay\", the bars are plotted over one\n                another, you might need to an \"opacity\" to see\n                multiple bars.\n            barnorm\n                Sets the normalization for bar traces on the\n                graph. With \"fraction\", the value of each bar\n                is divided by the sum of all values at that\n                location coordinate. \"percent\" is the same but\n                multiplied by 100 to show percentages.\n            boxgap\n                Sets the gap (in plot fraction) between boxes\n                of adjacent location coordinates. Has no effect\n                on traces that have \"width\" set.\n            boxgroupgap\n                Sets the gap (in plot fraction) between boxes\n                of the same location coordinate. Has no effect\n                on traces that have \"width\" set.\n            boxmode\n                Determines how boxes at the same location\n                coordinate are displayed on the graph. If\n                \"group\", the boxes are plotted next to one\n                another centered around the shared location. If\n                \"overlay\", the boxes are plotted over one\n                another, you might need to set \"opacity\" to see\n                them multiple boxes. Has no effect on traces\n                that have \"width\" set.\n            calendar\n                Sets the default calendar system to use for\n                interpreting and displaying dates throughout\n                the plot.\n            clickmode\n                Determines the mode of single click\n                interactions. \"event\" is the default value and\n                emits the `plotly_click` event. In addition\n                this mode emits the `plotly_selected` event in\n                drag modes \"lasso\" and \"select\", but with no\n                event data attached (kept for compatibility\n                reasons). The \"select\" flag enables selecting\n                single data points via click. This mode also\n                supports persistent selections, meaning that\n                pressing Shift while clicking, adds to /\n                subtracts from an existing selection. \"select\"\n                with `hovermode`: \"x\" can be confusing,\n                consider explicitly setting `hovermode`:\n                \"closest\" when using this feature. Selection\n                events are sent accordingly as long as \"event\"\n                flag is set as well. When the \"event\" flag is\n                missing, `plotly_click` and `plotly_selected`\n                events are not fired.\n            coloraxis\n                :class:`plotly.graph_objects.layout.Coloraxis`\n                instance or dict with compatible properties\n            colorscale\n                :class:`plotly.graph_objects.layout.Colorscale`\n                instance or dict with compatible properties\n            colorway\n                Sets the default trace colors.\n            computed\n                Placeholder for exporting automargin-impacting\n                values namely `margin.t`, `margin.b`,\n                `margin.l` and `margin.r` in \"full-json\" mode.\n            datarevision\n                If provided, a changed value tells\n                `Plotly.react` that one or more data arrays has\n                changed. This way you can modify arrays in-\n                place rather than making a complete new copy\n                for an incremental change. If NOT provided,\n                `Plotly.react` assumes that data arrays are\n                being treated as immutable, thus any data array\n                with a different identity from its predecessor\n                contains new data.\n            dragmode\n                Determines the mode of drag interactions.\n                \"select\" and \"lasso\" apply only to scatter\n                traces with markers or text. \"orbit\" and\n                \"turntable\" apply only to 3D scenes.\n            editrevision\n                Controls persistence of user-driven changes in\n                `editable: true` configuration, other than\n                trace names and axis titles. Defaults to\n                `layout.uirevision`.\n            extendfunnelareacolors\n                If `true`, the funnelarea slice colors (whether\n                given by `funnelareacolorway` or inherited from\n                `colorway`) will be extended to three times its\n                original length by first repeating every color\n                20% lighter then each color 20% darker. This is\n                intended to reduce the likelihood of reusing\n                the same color when you have many slices, but\n                you can set `false` to disable. Colors provided\n                in the trace, using `marker.colors`, are never\n                extended.\n            extendiciclecolors\n                If `true`, the icicle slice colors (whether\n                given by `iciclecolorway` or inherited from\n                `colorway`) will be extended to three times its\n                original length by first repeating every color\n                20% lighter then each color 20% darker. This is\n                intended to reduce the likelihood of reusing\n                the same color when you have many slices, but\n                you can set `false` to disable. Colors provided\n                in the trace, using `marker.colors`, are never\n                extended.\n            extendpiecolors\n                If `true`, the pie slice colors (whether given\n                by `piecolorway` or inherited from `colorway`)\n                will be extended to three times its original\n                length by first repeating every color 20%\n                lighter then each color 20% darker. This is\n                intended to reduce the likelihood of reusing\n                the same color when you have many slices, but\n                you can set `false` to disable. Colors provided\n                in the trace, using `marker.colors`, are never\n                extended.\n            extendsunburstcolors\n                If `true`, the sunburst slice colors (whether\n                given by `sunburstcolorway` or inherited from\n                `colorway`) will be extended to three times its\n                original length by first repeating every color\n                20% lighter then each color 20% darker. This is\n                intended to reduce the likelihood of reusing\n                the same color when you have many slices, but\n                you can set `false` to disable. Colors provided\n                in the trace, using `marker.colors`, are never\n                extended.\n            extendtreemapcolors\n                If `true`, the treemap slice colors (whether\n                given by `treemapcolorway` or inherited from\n                `colorway`) will be extended to three times its\n                original length by first repeating every color\n                20% lighter then each color 20% darker. This is\n                intended to reduce the likelihood of reusing\n                the same color when you have many slices, but\n                you can set `false` to disable. Colors provided\n                in the trace, using `marker.colors`, are never\n                extended.\n            font\n                Sets the global font. Note that fonts used in\n                traces and other layout components inherit from\n                the global font.\n            funnelareacolorway\n                Sets the default funnelarea slice colors.\n                Defaults to the main `colorway` used for trace\n                colors. If you specify a new list here it can\n                still be extended with lighter and darker\n                colors, see `extendfunnelareacolors`.\n            funnelgap\n                Sets the gap (in plot fraction) between bars of\n                adjacent location coordinates.\n            funnelgroupgap\n                Sets the gap (in plot fraction) between bars of\n                the same location coordinate.\n            funnelmode\n                Determines how bars at the same location\n                coordinate are displayed on the graph. With\n                \"stack\", the bars are stacked on top of one\n                another With \"group\", the bars are plotted next\n                to one another centered around the shared\n                location. With \"overlay\", the bars are plotted\n                over one another, you might need to an\n                \"opacity\" to see multiple bars.\n            geo\n                :class:`plotly.graph_objects.layout.Geo`\n                instance or dict with compatible properties\n            grid\n                :class:`plotly.graph_objects.layout.Grid`\n                instance or dict with compatible properties\n            height\n                Sets the plot's height (in px).\n            hiddenlabels\n                hiddenlabels is the funnelarea & pie chart\n                analog of visible:'legendonly' but it can\n                contain many labels, and can simultaneously\n                hide slices from several pies/funnelarea charts\n            hiddenlabelssrc\n                Sets the source reference on Chart Studio Cloud\n                for `hiddenlabels`.\n            hidesources\n                Determines whether or not a text link citing\n                the data source is placed at the bottom-right\n                cored of the figure. Has only an effect only on\n                graphs that have been generated via forked\n                graphs from the Chart Studio Cloud (at\n                https://chart-studio.plotly.com or on-premise).\n            hoverdistance\n                Sets the default distance (in pixels) to look\n                for data to add hover labels (-1 means no\n                cutoff, 0 means no looking for data). This is\n                only a real distance for hovering on point-like\n                objects, like scatter points. For area-like\n                objects (bars, scatter fills, etc) hovering is\n                on inside the area and off outside, but these\n                objects will not supersede hover on point-like\n                objects in case of conflict.\n            hoverlabel\n                :class:`plotly.graph_objects.layout.Hoverlabel`\n                instance or dict with compatible properties\n            hovermode\n                Determines the mode of hover interactions. If\n                \"closest\", a single hoverlabel will appear for\n                the \"closest\" point within the `hoverdistance`.\n                If \"x\" (or \"y\"), multiple hoverlabels will\n                appear for multiple points at the \"closest\" x-\n                (or y-) coordinate within the `hoverdistance`,\n                with the caveat that no more than one\n                hoverlabel will appear per trace. If *x\n                unified* (or *y unified*), a single hoverlabel\n                will appear multiple points at the closest x-\n                (or y-) coordinate within the `hoverdistance`\n                with the caveat that no more than one\n                hoverlabel will appear per trace. In this mode,\n                spikelines are enabled by default perpendicular\n                to the specified axis. If false, hover\n                interactions are disabled.\n            iciclecolorway\n                Sets the default icicle slice colors. Defaults\n                to the main `colorway` used for trace colors.\n                If you specify a new list here it can still be\n                extended with lighter and darker colors, see\n                `extendiciclecolors`.\n            images\n                A tuple of\n                :class:`plotly.graph_objects.layout.Image`\n                instances or dicts with compatible properties\n            imagedefaults\n                When used in a template (as\n                layout.template.layout.imagedefaults), sets the\n                default property values to use for elements of\n                layout.images\n            legend\n                :class:`plotly.graph_objects.layout.Legend`\n                instance or dict with compatible properties\n            mapbox\n                :class:`plotly.graph_objects.layout.Mapbox`\n                instance or dict with compatible properties\n            margin\n                :class:`plotly.graph_objects.layout.Margin`\n                instance or dict with compatible properties\n            meta\n                Assigns extra meta information that can be used\n                in various `text` attributes. Attributes such\n                as the graph, axis and colorbar `title.text`,\n                annotation `text` `trace.name` in legend items,\n                `rangeselector`, `updatemenus` and `sliders`\n                `label` text all support `meta`. One can access\n                `meta` fields using template strings:\n                `%{meta[i]}` where `i` is the index of the\n                `meta` item in question. `meta` can also be an\n                object for example `{key: value}` which can be\n                accessed %{meta[key]}.\n            metasrc\n                Sets the source reference on Chart Studio Cloud\n                for `meta`.\n            modebar\n                :class:`plotly.graph_objects.layout.Modebar`\n                instance or dict with compatible properties\n            newshape\n                :class:`plotly.graph_objects.layout.Newshape`\n                instance or dict with compatible properties\n            paper_bgcolor\n                Sets the background color of the paper where\n                the graph is drawn.\n            piecolorway\n                Sets the default pie slice colors. Defaults to\n                the main `colorway` used for trace colors. If\n                you specify a new list here it can still be\n                extended with lighter and darker colors, see\n                `extendpiecolors`.\n            plot_bgcolor\n                Sets the background color of the plotting area\n                in-between x and y axes.\n            polar\n                :class:`plotly.graph_objects.layout.Polar`\n                instance or dict with compatible properties\n            scene\n                :class:`plotly.graph_objects.layout.Scene`\n                instance or dict with compatible properties\n            selectdirection\n                When `dragmode` is set to \"select\", this limits\n                the selection of the drag to horizontal,\n                vertical or diagonal. \"h\" only allows\n                horizontal selection, \"v\" only vertical, \"d\"\n                only diagonal and \"any\" sets no limit.\n            selectionrevision\n                Controls persistence of user-driven changes in\n                selected points from all traces.\n            separators\n                Sets the decimal and thousand separators. For\n                example, *. * puts a '.' before decimals and a\n                space between thousands. In English locales,\n                dflt is \".,\" but other locales may alter this\n                default.\n            shapes\n                A tuple of\n                :class:`plotly.graph_objects.layout.Shape`\n                instances or dicts with compatible properties\n            shapedefaults\n                When used in a template (as\n                layout.template.layout.shapedefaults), sets the\n                default property values to use for elements of\n                layout.shapes\n            showlegend\n                Determines whether or not a legend is drawn.\n                Default is `true` if there is a trace to show\n                and any of these: a) Two or more traces would\n                by default be shown in the legend. b) One pie\n                trace is shown in the legend. c) One trace is\n                explicitly given with `showlegend: true`.\n            sliders\n                A tuple of\n                :class:`plotly.graph_objects.layout.Slider`\n                instances or dicts with compatible properties\n            sliderdefaults\n                When used in a template (as\n                layout.template.layout.sliderdefaults), sets\n                the default property values to use for elements\n                of layout.sliders\n            smith\n                :class:`plotly.graph_objects.layout.Smith`\n                instance or dict with compatible properties\n            spikedistance\n                Sets the default distance (in pixels) to look\n                for data to draw spikelines to (-1 means no\n                cutoff, 0 means no looking for data). As with\n                hoverdistance, distance does not apply to area-\n                like objects. In addition, some objects can be\n                hovered on but will not generate spikelines,\n                such as scatter fills.\n            sunburstcolorway\n                Sets the default sunburst slice colors.\n                Defaults to the main `colorway` used for trace\n                colors. If you specify a new list here it can\n                still be extended with lighter and darker\n                colors, see `extendsunburstcolors`.\n            template\n                Default attributes to be applied to the plot.\n                This should be a dict with format: `{'layout':\n                layoutTemplate, 'data': {trace_type:\n                [traceTemplate, ...], ...}}` where\n                `layoutTemplate` is a dict matching the\n                structure of `figure.layout` and\n                `traceTemplate` is a dict matching the\n                structure of the trace with type `trace_type`\n                (e.g. 'scatter'). Alternatively, this may be\n                specified as an instance of\n                plotly.graph_objs.layout.Template.  Trace\n                templates are applied cyclically to traces of\n                each type. Container arrays (eg `annotations`)\n                have special handling: An object ending in\n                `defaults` (eg `annotationdefaults`) is applied\n                to each array item. But if an item has a\n                `templateitemname` key we look in the template\n                array for an item with matching `name` and\n                apply that instead. If no matching `name` is\n                found we mark the item invisible. Any named\n                template item not referenced is appended to the\n                end of the array, so this can be used to add a\n                watermark annotation or a logo image, for\n                example. To omit one of these items on the\n                plot, make an item with matching\n                `templateitemname` and `visible: false`.\n            ternary\n                :class:`plotly.graph_objects.layout.Ternary`\n                instance or dict with compatible properties\n            title\n                :class:`plotly.graph_objects.layout.Title`\n                instance or dict with compatible properties\n            titlefont\n                Deprecated: Please use layout.title.font\n                instead. Sets the title font. Note that the\n                title's font used to be customized by the now\n                deprecated `titlefont` attribute.\n            transition\n                Sets transition options used during\n                Plotly.react updates.\n            treemapcolorway\n                Sets the default treemap slice colors. Defaults\n                to the main `colorway` used for trace colors.\n                If you specify a new list here it can still be\n                extended with lighter and darker colors, see\n                `extendtreemapcolors`.\n            uirevision\n                Used to allow user interactions with the plot\n                to persist after `Plotly.react` calls that are\n                unaware of these interactions. If `uirevision`\n                is omitted, or if it is given and it changed\n                from the previous `Plotly.react` call, the\n                exact new figure is used. If `uirevision` is\n                truthy and did NOT change, any attribute that\n                has been affected by user interactions and did\n                not receive a different value in the new figure\n                will keep the interaction value.\n                `layout.uirevision` attribute serves as the\n                default for `uirevision` attributes in various\n                sub-containers. For finer control you can set\n                these sub-attributes directly. For example, if\n                your app separately controls the data on the x\n                and y axes you might set\n                `xaxis.uirevision=*time*` and\n                `yaxis.uirevision=*cost*`. Then if only the y\n                data is changed, you can update\n                `yaxis.uirevision=*quantity*` and the y axis\n                range will reset but the x axis range will\n                retain any user-driven zoom.\n            uniformtext\n                :class:`plotly.graph_objects.layout.Uniformtext\n                ` instance or dict with compatible properties\n            updatemenus\n                A tuple of\n                :class:`plotly.graph_objects.layout.Updatemenu`\n                instances or dicts with compatible properties\n            updatemenudefaults\n                When used in a template (as\n                layout.template.layout.updatemenudefaults),\n                sets the default property values to use for\n                elements of layout.updatemenus\n            violingap\n                Sets the gap (in plot fraction) between violins\n                of adjacent location coordinates. Has no effect\n                on traces that have \"width\" set.\n            violingroupgap\n                Sets the gap (in plot fraction) between violins\n                of the same location coordinate. Has no effect\n                on traces that have \"width\" set.\n            violinmode\n                Determines how violins at the same location\n                coordinate are displayed on the graph. If\n                \"group\", the violins are plotted next to one\n                another centered around the shared location. If\n                \"overlay\", the violins are plotted over one\n                another, you might need to set \"opacity\" to see\n                them multiple violins. Has no effect on traces\n                that have \"width\" set.\n            waterfallgap\n                Sets the gap (in plot fraction) between bars of\n                adjacent location coordinates.\n            waterfallgroupgap\n                Sets the gap (in plot fraction) between bars of\n                the same location coordinate.\n            waterfallmode\n                Determines how bars at the same location\n                coordinate are displayed on the graph. With\n                \"group\", the bars are plotted next to one\n                another centered around the shared location.\n                With \"overlay\", the bars are plotted over one\n                another, you might need to an \"opacity\" to see\n                multiple bars.\n            width\n                Sets the plot's width (in px).\n            xaxis\n                :class:`plotly.graph_objects.layout.XAxis`\n                instance or dict with compatible properties\n            yaxis\n                :class:`plotly.graph_objects.layout.YAxis`\n                instance or dict with compatible properties\n",
     "output_type": "error",
     "traceback": [
      "\u001b[1;31m---------------------------------------------------------------------------\u001b[0m",
      "\u001b[1;31mValueError\u001b[0m                                Traceback (most recent call last)",
      "\u001b[1;32m~\\AppData\\Local\\Temp\\ipykernel_12504\\2009428929.py\u001b[0m in \u001b[0;36m<module>\u001b[1;34m\u001b[0m\n\u001b[0;32m     23\u001b[0m \u001b[0mtesla_data\u001b[0m\u001b[1;33m=\u001b[0m\u001b[1;33m[\u001b[0m\u001b[0mtrace0\u001b[0m\u001b[1;33m,\u001b[0m\u001b[0mtrace1\u001b[0m\u001b[1;33m]\u001b[0m\u001b[1;33m\u001b[0m\u001b[1;33m\u001b[0m\u001b[0m\n\u001b[0;32m     24\u001b[0m \u001b[0mlayout\u001b[0m\u001b[1;33m.\u001b[0m\u001b[0mxaxis\u001b[0m\u001b[1;33m.\u001b[0m\u001b[0mtitle\u001b[0m\u001b[1;33m.\u001b[0m\u001b[0mtext\u001b[0m\u001b[1;33m=\u001b[0m\u001b[1;34m'Day'\u001b[0m\u001b[1;33m\u001b[0m\u001b[1;33m\u001b[0m\u001b[0m\n\u001b[1;32m---> 25\u001b[1;33m \u001b[0mplot2\u001b[0m\u001b[1;33m=\u001b[0m\u001b[0mgo\u001b[0m\u001b[1;33m.\u001b[0m\u001b[0mFigure\u001b[0m\u001b[1;33m(\u001b[0m\u001b[0mdata\u001b[0m\u001b[1;33m=\u001b[0m\u001b[0mtesla_data\u001b[0m\u001b[1;33m,\u001b[0m\u001b[0mlayout\u001b[0m\u001b[1;33m=\u001b[0m\u001b[0mlayout\u001b[0m\u001b[1;33m)\u001b[0m\u001b[1;33m\u001b[0m\u001b[1;33m\u001b[0m\u001b[0m\n\u001b[0m\u001b[0;32m     26\u001b[0m \u001b[1;33m\u001b[0m\u001b[0m\n\u001b[0;32m     27\u001b[0m \u001b[0miplot\u001b[0m\u001b[1;33m(\u001b[0m\u001b[0mplot2\u001b[0m\u001b[1;33m)\u001b[0m\u001b[1;33m\u001b[0m\u001b[1;33m\u001b[0m\u001b[0m\n",
      "\u001b[1;32mc:\\users\\lavaa\\appdata\\local\\programs\\python\\python37\\lib\\site-packages\\plotly\\graph_objs\\_figure.py\u001b[0m in \u001b[0;36m__init__\u001b[1;34m(self, data, layout, frames, skip_invalid, **kwargs)\u001b[0m\n\u001b[0;32m    592\u001b[0m             \u001b[1;32mis\u001b[0m \u001b[0minvalid\u001b[0m \u001b[0mAND\u001b[0m \u001b[0mskip_invalid\u001b[0m \u001b[1;32mis\u001b[0m \u001b[1;32mFalse\u001b[0m\u001b[1;33m\u001b[0m\u001b[1;33m\u001b[0m\u001b[0m\n\u001b[0;32m    593\u001b[0m         \"\"\"\n\u001b[1;32m--> 594\u001b[1;33m         \u001b[0msuper\u001b[0m\u001b[1;33m(\u001b[0m\u001b[0mFigure\u001b[0m\u001b[1;33m,\u001b[0m \u001b[0mself\u001b[0m\u001b[1;33m)\u001b[0m\u001b[1;33m.\u001b[0m\u001b[0m__init__\u001b[0m\u001b[1;33m(\u001b[0m\u001b[0mdata\u001b[0m\u001b[1;33m,\u001b[0m \u001b[0mlayout\u001b[0m\u001b[1;33m,\u001b[0m \u001b[0mframes\u001b[0m\u001b[1;33m,\u001b[0m \u001b[0mskip_invalid\u001b[0m\u001b[1;33m,\u001b[0m \u001b[1;33m**\u001b[0m\u001b[0mkwargs\u001b[0m\u001b[1;33m)\u001b[0m\u001b[1;33m\u001b[0m\u001b[1;33m\u001b[0m\u001b[0m\n\u001b[0m\u001b[0;32m    595\u001b[0m \u001b[1;33m\u001b[0m\u001b[0m\n\u001b[0;32m    596\u001b[0m     \u001b[1;32mdef\u001b[0m \u001b[0mupdate\u001b[0m\u001b[1;33m(\u001b[0m\u001b[0mself\u001b[0m\u001b[1;33m,\u001b[0m \u001b[0mdict1\u001b[0m\u001b[1;33m=\u001b[0m\u001b[1;32mNone\u001b[0m\u001b[1;33m,\u001b[0m \u001b[0moverwrite\u001b[0m\u001b[1;33m=\u001b[0m\u001b[1;32mFalse\u001b[0m\u001b[1;33m,\u001b[0m \u001b[1;33m**\u001b[0m\u001b[0mkwargs\u001b[0m\u001b[1;33m)\u001b[0m \u001b[1;33m->\u001b[0m \u001b[1;34m\"Figure\"\u001b[0m\u001b[1;33m:\u001b[0m\u001b[1;33m\u001b[0m\u001b[1;33m\u001b[0m\u001b[0m\n",
      "\u001b[1;32mc:\\users\\lavaa\\appdata\\local\\programs\\python\\python37\\lib\\site-packages\\plotly\\basedatatypes.py\u001b[0m in \u001b[0;36m__init__\u001b[1;34m(self, data, layout_plotly, frames, skip_invalid, **kwargs)\u001b[0m\n\u001b[0;32m    556\u001b[0m         \u001b[1;31m# ### Import Layout ###\u001b[0m\u001b[1;33m\u001b[0m\u001b[1;33m\u001b[0m\u001b[1;33m\u001b[0m\u001b[0m\n\u001b[0;32m    557\u001b[0m         self._layout_obj = self._layout_validator.validate_coerce(\n\u001b[1;32m--> 558\u001b[1;33m             \u001b[0mlayout\u001b[0m\u001b[1;33m,\u001b[0m \u001b[0mskip_invalid\u001b[0m\u001b[1;33m=\u001b[0m\u001b[0mskip_invalid\u001b[0m\u001b[1;33m,\u001b[0m \u001b[0m_validate\u001b[0m\u001b[1;33m=\u001b[0m\u001b[0mself\u001b[0m\u001b[1;33m.\u001b[0m\u001b[0m_validate\u001b[0m\u001b[1;33m\u001b[0m\u001b[1;33m\u001b[0m\u001b[0m\n\u001b[0m\u001b[0;32m    559\u001b[0m         )\n\u001b[0;32m    560\u001b[0m \u001b[1;33m\u001b[0m\u001b[0m\n",
      "\u001b[1;32mc:\\users\\lavaa\\appdata\\local\\programs\\python\\python37\\lib\\site-packages\\_plotly_utils\\basevalidators.py\u001b[0m in \u001b[0;36mvalidate_coerce\u001b[1;34m(self, v, skip_invalid, _validate)\u001b[0m\n\u001b[0;32m   2467\u001b[0m                 \u001b[0mv\u001b[0m \u001b[1;33m=\u001b[0m \u001b[0mself\u001b[0m\u001b[1;33m.\u001b[0m\u001b[0mdata_class\u001b[0m\u001b[1;33m(\u001b[0m\u001b[1;33m)\u001b[0m\u001b[1;33m\u001b[0m\u001b[1;33m\u001b[0m\u001b[0m\n\u001b[0;32m   2468\u001b[0m             \u001b[1;32melse\u001b[0m\u001b[1;33m:\u001b[0m\u001b[1;33m\u001b[0m\u001b[1;33m\u001b[0m\u001b[0m\n\u001b[1;32m-> 2469\u001b[1;33m                 \u001b[0mself\u001b[0m\u001b[1;33m.\u001b[0m\u001b[0mraise_invalid_val\u001b[0m\u001b[1;33m(\u001b[0m\u001b[0mv\u001b[0m\u001b[1;33m)\u001b[0m\u001b[1;33m\u001b[0m\u001b[1;33m\u001b[0m\u001b[0m\n\u001b[0m\u001b[0;32m   2470\u001b[0m \u001b[1;33m\u001b[0m\u001b[0m\n\u001b[0;32m   2471\u001b[0m         \u001b[0mv\u001b[0m\u001b[1;33m.\u001b[0m\u001b[0m_plotly_name\u001b[0m \u001b[1;33m=\u001b[0m \u001b[0mself\u001b[0m\u001b[1;33m.\u001b[0m\u001b[0mplotly_name\u001b[0m\u001b[1;33m\u001b[0m\u001b[1;33m\u001b[0m\u001b[0m\n",
      "\u001b[1;32mc:\\users\\lavaa\\appdata\\local\\programs\\python\\python37\\lib\\site-packages\\_plotly_utils\\basevalidators.py\u001b[0m in \u001b[0;36mraise_invalid_val\u001b[1;34m(self, v, inds)\u001b[0m\n\u001b[0;32m    296\u001b[0m                 \u001b[0mtyp\u001b[0m\u001b[1;33m=\u001b[0m\u001b[0mtype_str\u001b[0m\u001b[1;33m(\u001b[0m\u001b[0mv\u001b[0m\u001b[1;33m)\u001b[0m\u001b[1;33m,\u001b[0m\u001b[1;33m\u001b[0m\u001b[1;33m\u001b[0m\u001b[0m\n\u001b[0;32m    297\u001b[0m                 \u001b[0mv\u001b[0m\u001b[1;33m=\u001b[0m\u001b[0mrepr\u001b[0m\u001b[1;33m(\u001b[0m\u001b[0mv\u001b[0m\u001b[1;33m)\u001b[0m\u001b[1;33m,\u001b[0m\u001b[1;33m\u001b[0m\u001b[1;33m\u001b[0m\u001b[0m\n\u001b[1;32m--> 298\u001b[1;33m                 \u001b[0mvalid_clr_desc\u001b[0m\u001b[1;33m=\u001b[0m\u001b[0mself\u001b[0m\u001b[1;33m.\u001b[0m\u001b[0mdescription\u001b[0m\u001b[1;33m(\u001b[0m\u001b[1;33m)\u001b[0m\u001b[1;33m,\u001b[0m\u001b[1;33m\u001b[0m\u001b[1;33m\u001b[0m\u001b[0m\n\u001b[0m\u001b[0;32m    299\u001b[0m             )\n\u001b[0;32m    300\u001b[0m         )\n",
      "\u001b[1;31mValueError\u001b[0m: \n    Invalid value of type 'builtins.module' received for the 'layout' property of \n        Received value: <module 'plotly.graph_objs.layout' from 'c:\\\\users\\\\lavaa\\\\appdata\\\\local\\\\programs\\\\python\\\\python37\\\\lib\\\\site-packages\\\\plotly\\\\graph_objs\\\\layout\\\\__init__.py'>\n\n    The 'layout' property is an instance of Layout\n    that may be specified as:\n      - An instance of :class:`plotly.graph_objs.Layout`\n      - A dict of string/value properties that will be passed\n        to the Layout constructor\n\n        Supported dict properties:\n            \n            activeshape\n                :class:`plotly.graph_objects.layout.Activeshape\n                ` instance or dict with compatible properties\n            annotations\n                A tuple of\n                :class:`plotly.graph_objects.layout.Annotation`\n                instances or dicts with compatible properties\n            annotationdefaults\n                When used in a template (as\n                layout.template.layout.annotationdefaults),\n                sets the default property values to use for\n                elements of layout.annotations\n            autosize\n                Determines whether or not a layout width or\n                height that has been left undefined by the user\n                is initialized on each relayout. Note that,\n                regardless of this attribute, an undefined\n                layout width or height is always initialized on\n                the first call to plot.\n            autotypenumbers\n                Using \"strict\" a numeric string in trace data\n                is not converted to a number. Using *convert\n                types* a numeric string in trace data may be\n                treated as a number during automatic axis\n                `type` detection. This is the default value;\n                however it could be overridden for individual\n                axes.\n            bargap\n                Sets the gap (in plot fraction) between bars of\n                adjacent location coordinates.\n            bargroupgap\n                Sets the gap (in plot fraction) between bars of\n                the same location coordinate.\n            barmode\n                Determines how bars at the same location\n                coordinate are displayed on the graph. With\n                \"stack\", the bars are stacked on top of one\n                another With \"relative\", the bars are stacked\n                on top of one another, with negative values\n                below the axis, positive values above With\n                \"group\", the bars are plotted next to one\n                another centered around the shared location.\n                With \"overlay\", the bars are plotted over one\n                another, you might need to an \"opacity\" to see\n                multiple bars.\n            barnorm\n                Sets the normalization for bar traces on the\n                graph. With \"fraction\", the value of each bar\n                is divided by the sum of all values at that\n                location coordinate. \"percent\" is the same but\n                multiplied by 100 to show percentages.\n            boxgap\n                Sets the gap (in plot fraction) between boxes\n                of adjacent location coordinates. Has no effect\n                on traces that have \"width\" set.\n            boxgroupgap\n                Sets the gap (in plot fraction) between boxes\n                of the same location coordinate. Has no effect\n                on traces that have \"width\" set.\n            boxmode\n                Determines how boxes at the same location\n                coordinate are displayed on the graph. If\n                \"group\", the boxes are plotted next to one\n                another centered around the shared location. If\n                \"overlay\", the boxes are plotted over one\n                another, you might need to set \"opacity\" to see\n                them multiple boxes. Has no effect on traces\n                that have \"width\" set.\n            calendar\n                Sets the default calendar system to use for\n                interpreting and displaying dates throughout\n                the plot.\n            clickmode\n                Determines the mode of single click\n                interactions. \"event\" is the default value and\n                emits the `plotly_click` event. In addition\n                this mode emits the `plotly_selected` event in\n                drag modes \"lasso\" and \"select\", but with no\n                event data attached (kept for compatibility\n                reasons). The \"select\" flag enables selecting\n                single data points via click. This mode also\n                supports persistent selections, meaning that\n                pressing Shift while clicking, adds to /\n                subtracts from an existing selection. \"select\"\n                with `hovermode`: \"x\" can be confusing,\n                consider explicitly setting `hovermode`:\n                \"closest\" when using this feature. Selection\n                events are sent accordingly as long as \"event\"\n                flag is set as well. When the \"event\" flag is\n                missing, `plotly_click` and `plotly_selected`\n                events are not fired.\n            coloraxis\n                :class:`plotly.graph_objects.layout.Coloraxis`\n                instance or dict with compatible properties\n            colorscale\n                :class:`plotly.graph_objects.layout.Colorscale`\n                instance or dict with compatible properties\n            colorway\n                Sets the default trace colors.\n            computed\n                Placeholder for exporting automargin-impacting\n                values namely `margin.t`, `margin.b`,\n                `margin.l` and `margin.r` in \"full-json\" mode.\n            datarevision\n                If provided, a changed value tells\n                `Plotly.react` that one or more data arrays has\n                changed. This way you can modify arrays in-\n                place rather than making a complete new copy\n                for an incremental change. If NOT provided,\n                `Plotly.react` assumes that data arrays are\n                being treated as immutable, thus any data array\n                with a different identity from its predecessor\n                contains new data.\n            dragmode\n                Determines the mode of drag interactions.\n                \"select\" and \"lasso\" apply only to scatter\n                traces with markers or text. \"orbit\" and\n                \"turntable\" apply only to 3D scenes.\n            editrevision\n                Controls persistence of user-driven changes in\n                `editable: true` configuration, other than\n                trace names and axis titles. Defaults to\n                `layout.uirevision`.\n            extendfunnelareacolors\n                If `true`, the funnelarea slice colors (whether\n                given by `funnelareacolorway` or inherited from\n                `colorway`) will be extended to three times its\n                original length by first repeating every color\n                20% lighter then each color 20% darker. This is\n                intended to reduce the likelihood of reusing\n                the same color when you have many slices, but\n                you can set `false` to disable. Colors provided\n                in the trace, using `marker.colors`, are never\n                extended.\n            extendiciclecolors\n                If `true`, the icicle slice colors (whether\n                given by `iciclecolorway` or inherited from\n                `colorway`) will be extended to three times its\n                original length by first repeating every color\n                20% lighter then each color 20% darker. This is\n                intended to reduce the likelihood of reusing\n                the same color when you have many slices, but\n                you can set `false` to disable. Colors provided\n                in the trace, using `marker.colors`, are never\n                extended.\n            extendpiecolors\n                If `true`, the pie slice colors (whether given\n                by `piecolorway` or inherited from `colorway`)\n                will be extended to three times its original\n                length by first repeating every color 20%\n                lighter then each color 20% darker. This is\n                intended to reduce the likelihood of reusing\n                the same color when you have many slices, but\n                you can set `false` to disable. Colors provided\n                in the trace, using `marker.colors`, are never\n                extended.\n            extendsunburstcolors\n                If `true`, the sunburst slice colors (whether\n                given by `sunburstcolorway` or inherited from\n                `colorway`) will be extended to three times its\n                original length by first repeating every color\n                20% lighter then each color 20% darker. This is\n                intended to reduce the likelihood of reusing\n                the same color when you have many slices, but\n                you can set `false` to disable. Colors provided\n                in the trace, using `marker.colors`, are never\n                extended.\n            extendtreemapcolors\n                If `true`, the treemap slice colors (whether\n                given by `treemapcolorway` or inherited from\n                `colorway`) will be extended to three times its\n                original length by first repeating every color\n                20% lighter then each color 20% darker. This is\n                intended to reduce the likelihood of reusing\n                the same color when you have many slices, but\n                you can set `false` to disable. Colors provided\n                in the trace, using `marker.colors`, are never\n                extended.\n            font\n                Sets the global font. Note that fonts used in\n                traces and other layout components inherit from\n                the global font.\n            funnelareacolorway\n                Sets the default funnelarea slice colors.\n                Defaults to the main `colorway` used for trace\n                colors. If you specify a new list here it can\n                still be extended with lighter and darker\n                colors, see `extendfunnelareacolors`.\n            funnelgap\n                Sets the gap (in plot fraction) between bars of\n                adjacent location coordinates.\n            funnelgroupgap\n                Sets the gap (in plot fraction) between bars of\n                the same location coordinate.\n            funnelmode\n                Determines how bars at the same location\n                coordinate are displayed on the graph. With\n                \"stack\", the bars are stacked on top of one\n                another With \"group\", the bars are plotted next\n                to one another centered around the shared\n                location. With \"overlay\", the bars are plotted\n                over one another, you might need to an\n                \"opacity\" to see multiple bars.\n            geo\n                :class:`plotly.graph_objects.layout.Geo`\n                instance or dict with compatible properties\n            grid\n                :class:`plotly.graph_objects.layout.Grid`\n                instance or dict with compatible properties\n            height\n                Sets the plot's height (in px).\n            hiddenlabels\n                hiddenlabels is the funnelarea & pie chart\n                analog of visible:'legendonly' but it can\n                contain many labels, and can simultaneously\n                hide slices from several pies/funnelarea charts\n            hiddenlabelssrc\n                Sets the source reference on Chart Studio Cloud\n                for `hiddenlabels`.\n            hidesources\n                Determines whether or not a text link citing\n                the data source is placed at the bottom-right\n                cored of the figure. Has only an effect only on\n                graphs that have been generated via forked\n                graphs from the Chart Studio Cloud (at\n                https://chart-studio.plotly.com or on-premise).\n            hoverdistance\n                Sets the default distance (in pixels) to look\n                for data to add hover labels (-1 means no\n                cutoff, 0 means no looking for data). This is\n                only a real distance for hovering on point-like\n                objects, like scatter points. For area-like\n                objects (bars, scatter fills, etc) hovering is\n                on inside the area and off outside, but these\n                objects will not supersede hover on point-like\n                objects in case of conflict.\n            hoverlabel\n                :class:`plotly.graph_objects.layout.Hoverlabel`\n                instance or dict with compatible properties\n            hovermode\n                Determines the mode of hover interactions. If\n                \"closest\", a single hoverlabel will appear for\n                the \"closest\" point within the `hoverdistance`.\n                If \"x\" (or \"y\"), multiple hoverlabels will\n                appear for multiple points at the \"closest\" x-\n                (or y-) coordinate within the `hoverdistance`,\n                with the caveat that no more than one\n                hoverlabel will appear per trace. If *x\n                unified* (or *y unified*), a single hoverlabel\n                will appear multiple points at the closest x-\n                (or y-) coordinate within the `hoverdistance`\n                with the caveat that no more than one\n                hoverlabel will appear per trace. In this mode,\n                spikelines are enabled by default perpendicular\n                to the specified axis. If false, hover\n                interactions are disabled.\n            iciclecolorway\n                Sets the default icicle slice colors. Defaults\n                to the main `colorway` used for trace colors.\n                If you specify a new list here it can still be\n                extended with lighter and darker colors, see\n                `extendiciclecolors`.\n            images\n                A tuple of\n                :class:`plotly.graph_objects.layout.Image`\n                instances or dicts with compatible properties\n            imagedefaults\n                When used in a template (as\n                layout.template.layout.imagedefaults), sets the\n                default property values to use for elements of\n                layout.images\n            legend\n                :class:`plotly.graph_objects.layout.Legend`\n                instance or dict with compatible properties\n            mapbox\n                :class:`plotly.graph_objects.layout.Mapbox`\n                instance or dict with compatible properties\n            margin\n                :class:`plotly.graph_objects.layout.Margin`\n                instance or dict with compatible properties\n            meta\n                Assigns extra meta information that can be used\n                in various `text` attributes. Attributes such\n                as the graph, axis and colorbar `title.text`,\n                annotation `text` `trace.name` in legend items,\n                `rangeselector`, `updatemenus` and `sliders`\n                `label` text all support `meta`. One can access\n                `meta` fields using template strings:\n                `%{meta[i]}` where `i` is the index of the\n                `meta` item in question. `meta` can also be an\n                object for example `{key: value}` which can be\n                accessed %{meta[key]}.\n            metasrc\n                Sets the source reference on Chart Studio Cloud\n                for `meta`.\n            modebar\n                :class:`plotly.graph_objects.layout.Modebar`\n                instance or dict with compatible properties\n            newshape\n                :class:`plotly.graph_objects.layout.Newshape`\n                instance or dict with compatible properties\n            paper_bgcolor\n                Sets the background color of the paper where\n                the graph is drawn.\n            piecolorway\n                Sets the default pie slice colors. Defaults to\n                the main `colorway` used for trace colors. If\n                you specify a new list here it can still be\n                extended with lighter and darker colors, see\n                `extendpiecolors`.\n            plot_bgcolor\n                Sets the background color of the plotting area\n                in-between x and y axes.\n            polar\n                :class:`plotly.graph_objects.layout.Polar`\n                instance or dict with compatible properties\n            scene\n                :class:`plotly.graph_objects.layout.Scene`\n                instance or dict with compatible properties\n            selectdirection\n                When `dragmode` is set to \"select\", this limits\n                the selection of the drag to horizontal,\n                vertical or diagonal. \"h\" only allows\n                horizontal selection, \"v\" only vertical, \"d\"\n                only diagonal and \"any\" sets no limit.\n            selectionrevision\n                Controls persistence of user-driven changes in\n                selected points from all traces.\n            separators\n                Sets the decimal and thousand separators. For\n                example, *. * puts a '.' before decimals and a\n                space between thousands. In English locales,\n                dflt is \".,\" but other locales may alter this\n                default.\n            shapes\n                A tuple of\n                :class:`plotly.graph_objects.layout.Shape`\n                instances or dicts with compatible properties\n            shapedefaults\n                When used in a template (as\n                layout.template.layout.shapedefaults), sets the\n                default property values to use for elements of\n                layout.shapes\n            showlegend\n                Determines whether or not a legend is drawn.\n                Default is `true` if there is a trace to show\n                and any of these: a) Two or more traces would\n                by default be shown in the legend. b) One pie\n                trace is shown in the legend. c) One trace is\n                explicitly given with `showlegend: true`.\n            sliders\n                A tuple of\n                :class:`plotly.graph_objects.layout.Slider`\n                instances or dicts with compatible properties\n            sliderdefaults\n                When used in a template (as\n                layout.template.layout.sliderdefaults), sets\n                the default property values to use for elements\n                of layout.sliders\n            smith\n                :class:`plotly.graph_objects.layout.Smith`\n                instance or dict with compatible properties\n            spikedistance\n                Sets the default distance (in pixels) to look\n                for data to draw spikelines to (-1 means no\n                cutoff, 0 means no looking for data). As with\n                hoverdistance, distance does not apply to area-\n                like objects. In addition, some objects can be\n                hovered on but will not generate spikelines,\n                such as scatter fills.\n            sunburstcolorway\n                Sets the default sunburst slice colors.\n                Defaults to the main `colorway` used for trace\n                colors. If you specify a new list here it can\n                still be extended with lighter and darker\n                colors, see `extendsunburstcolors`.\n            template\n                Default attributes to be applied to the plot.\n                This should be a dict with format: `{'layout':\n                layoutTemplate, 'data': {trace_type:\n                [traceTemplate, ...], ...}}` where\n                `layoutTemplate` is a dict matching the\n                structure of `figure.layout` and\n                `traceTemplate` is a dict matching the\n                structure of the trace with type `trace_type`\n                (e.g. 'scatter'). Alternatively, this may be\n                specified as an instance of\n                plotly.graph_objs.layout.Template.  Trace\n                templates are applied cyclically to traces of\n                each type. Container arrays (eg `annotations`)\n                have special handling: An object ending in\n                `defaults` (eg `annotationdefaults`) is applied\n                to each array item. But if an item has a\n                `templateitemname` key we look in the template\n                array for an item with matching `name` and\n                apply that instead. If no matching `name` is\n                found we mark the item invisible. Any named\n                template item not referenced is appended to the\n                end of the array, so this can be used to add a\n                watermark annotation or a logo image, for\n                example. To omit one of these items on the\n                plot, make an item with matching\n                `templateitemname` and `visible: false`.\n            ternary\n                :class:`plotly.graph_objects.layout.Ternary`\n                instance or dict with compatible properties\n            title\n                :class:`plotly.graph_objects.layout.Title`\n                instance or dict with compatible properties\n            titlefont\n                Deprecated: Please use layout.title.font\n                instead. Sets the title font. Note that the\n                title's font used to be customized by the now\n                deprecated `titlefont` attribute.\n            transition\n                Sets transition options used during\n                Plotly.react updates.\n            treemapcolorway\n                Sets the default treemap slice colors. Defaults\n                to the main `colorway` used for trace colors.\n                If you specify a new list here it can still be\n                extended with lighter and darker colors, see\n                `extendtreemapcolors`.\n            uirevision\n                Used to allow user interactions with the plot\n                to persist after `Plotly.react` calls that are\n                unaware of these interactions. If `uirevision`\n                is omitted, or if it is given and it changed\n                from the previous `Plotly.react` call, the\n                exact new figure is used. If `uirevision` is\n                truthy and did NOT change, any attribute that\n                has been affected by user interactions and did\n                not receive a different value in the new figure\n                will keep the interaction value.\n                `layout.uirevision` attribute serves as the\n                default for `uirevision` attributes in various\n                sub-containers. For finer control you can set\n                these sub-attributes directly. For example, if\n                your app separately controls the data on the x\n                and y axes you might set\n                `xaxis.uirevision=*time*` and\n                `yaxis.uirevision=*cost*`. Then if only the y\n                data is changed, you can update\n                `yaxis.uirevision=*quantity*` and the y axis\n                range will reset but the x axis range will\n                retain any user-driven zoom.\n            uniformtext\n                :class:`plotly.graph_objects.layout.Uniformtext\n                ` instance or dict with compatible properties\n            updatemenus\n                A tuple of\n                :class:`plotly.graph_objects.layout.Updatemenu`\n                instances or dicts with compatible properties\n            updatemenudefaults\n                When used in a template (as\n                layout.template.layout.updatemenudefaults),\n                sets the default property values to use for\n                elements of layout.updatemenus\n            violingap\n                Sets the gap (in plot fraction) between violins\n                of adjacent location coordinates. Has no effect\n                on traces that have \"width\" set.\n            violingroupgap\n                Sets the gap (in plot fraction) between violins\n                of the same location coordinate. Has no effect\n                on traces that have \"width\" set.\n            violinmode\n                Determines how violins at the same location\n                coordinate are displayed on the graph. If\n                \"group\", the violins are plotted next to one\n                another centered around the shared location. If\n                \"overlay\", the violins are plotted over one\n                another, you might need to set \"opacity\" to see\n                them multiple violins. Has no effect on traces\n                that have \"width\" set.\n            waterfallgap\n                Sets the gap (in plot fraction) between bars of\n                adjacent location coordinates.\n            waterfallgroupgap\n                Sets the gap (in plot fraction) between bars of\n                the same location coordinate.\n            waterfallmode\n                Determines how bars at the same location\n                coordinate are displayed on the graph. With\n                \"group\", the bars are plotted next to one\n                another centered around the shared location.\n                With \"overlay\", the bars are plotted over one\n                another, you might need to an \"opacity\" to see\n                multiple bars.\n            width\n                Sets the plot's width (in px).\n            xaxis\n                :class:`plotly.graph_objects.layout.XAxis`\n                instance or dict with compatible properties\n            yaxis\n                :class:`plotly.graph_objects.layout.YAxis`\n                instance or dict with compatible properties\n"
     ]
    }
   ],
   "source": [
    "#plot actual and predicted values for train dataset\n",
    "from plotly.graph_objects import layout\n",
    "import chart_studio.plotly as py\n",
    "import plotly.graph_objs as go\n",
    "from plotly.offline import plot\n",
    "from plotly.offline import init_notebook_mode,plot,iplot\n",
    "init_notebook_mode(connected=True)\n",
    "\n",
    "trace0= go.Scatter(\n",
    "      x=X_train.T[0],\n",
    "      y=y_train,\n",
    "      mode='markers',\n",
    "      name='Actual'\n",
    ")\n",
    "\n",
    "trace1=go.Scatter(\n",
    "    x=X_train.T[0],\n",
    "    y=lm.predict(X_train).T,\n",
    "    mode='lines',name='Predicted'\n",
    "\n",
    ")\n",
    "\n",
    "tesla_data=[trace0,trace1]\n",
    "layout.xaxis.title.text='Day'\n",
    "plot2=go.Figure(data=tesla_data,layout=layout)\n",
    "\n",
    "iplot(plot2)"
   ]
  },
  {
   "cell_type": "code",
   "execution_count": 18,
   "id": "298d73e9",
   "metadata": {},
   "outputs": [
    {
     "ename": "NameError",
     "evalue": "name 'LinearRegressionModel' is not defined",
     "output_type": "error",
     "traceback": [
      "\u001b[1;31m---------------------------------------------------------------------------\u001b[0m",
      "\u001b[1;31mNameError\u001b[0m                                 Traceback (most recent call last)",
      "\u001b[1;32m~\\AppData\\Local\\Temp\\ipykernel_12504\\1374111657.py\u001b[0m in \u001b[0;36m<module>\u001b[1;34m\u001b[0m\n\u001b[0;32m      1\u001b[0m \u001b[1;32mfrom\u001b[0m \u001b[0msklearn\u001b[0m\u001b[1;33m.\u001b[0m\u001b[0mlinear_model\u001b[0m \u001b[1;32mimport\u001b[0m \u001b[0mLinearRegression\u001b[0m\u001b[1;33m\u001b[0m\u001b[1;33m\u001b[0m\u001b[0m\n\u001b[1;32m----> 2\u001b[1;33m \u001b[0mmodel\u001b[0m \u001b[1;33m=\u001b[0m \u001b[0mLinearRegressionModel\u001b[0m\u001b[1;33m.\u001b[0m\u001b[0mbuild_model\u001b[0m\u001b[1;33m(\u001b[0m\u001b[0mX_train\u001b[0m\u001b[1;33m,\u001b[0m\u001b[0my_train\u001b[0m\u001b[1;33m)\u001b[0m\u001b[1;33m\u001b[0m\u001b[1;33m\u001b[0m\u001b[0m\n\u001b[0m",
      "\u001b[1;31mNameError\u001b[0m: name 'LinearRegressionModel' is not defined"
     ]
    }
   ],
   "source": [
    "from sklearn.linear_model import LinearRegression\n",
    "model = LinearRegressionModel.build_model(X_train,y_train)"
   ]
  },
  {
   "cell_type": "code",
   "execution_count": 26,
   "id": "bfd4454a",
   "metadata": {},
   "outputs": [
    {
     "name": "stdout",
     "output_type": "stream",
     "text": [
      "intercept: -153.9408029867544\n",
      "slope: [0.39551479]\n"
     ]
    }
   ],
   "source": [
    "regressor = LinearRegression()\n",
    "regressor.fit(X_train,y_train)\n",
    "print(f\"intercept: {regressor.intercept_}\")\n",
    "print(f\"slope: {regressor.coef_}\")"
   ]
  },
  {
   "cell_type": "code",
   "execution_count": 27,
   "id": "3e07746a",
   "metadata": {},
   "outputs": [],
   "source": [
    "predictions = regressor.predict(X_test)"
   ]
  },
  {
   "cell_type": "code",
   "execution_count": 28,
   "id": "d3e7e9c9",
   "metadata": {},
   "outputs": [
    {
     "ename": "TypeError",
     "evalue": "'numpy.bool_' object is not iterable",
     "output_type": "error",
     "traceback": [
      "\u001b[1;31m---------------------------------------------------------------------------\u001b[0m",
      "\u001b[1;31mTypeError\u001b[0m                                 Traceback (most recent call last)",
      "\u001b[1;32m~\\AppData\\Local\\Temp\\ipykernel_12504\\1184298530.py\u001b[0m in \u001b[0;36m<module>\u001b[1;34m\u001b[0m\n\u001b[0;32m      5\u001b[0m \u001b[0mplt\u001b[0m\u001b[1;33m.\u001b[0m\u001b[0mxscale\u001b[0m\u001b[1;33m(\u001b[0m\u001b[1;34m'log'\u001b[0m\u001b[1;33m)\u001b[0m\u001b[1;33m\u001b[0m\u001b[1;33m\u001b[0m\u001b[0m\n\u001b[0;32m      6\u001b[0m \u001b[1;33m\u001b[0m\u001b[0m\n\u001b[1;32m----> 7\u001b[1;33m \u001b[0mp1\u001b[0m \u001b[1;33m=\u001b[0m \u001b[0mmax\u001b[0m\u001b[1;33m(\u001b[0m\u001b[0mmax\u001b[0m\u001b[1;33m(\u001b[0m\u001b[0mpredictions\u001b[0m\u001b[1;33m.\u001b[0m\u001b[0mall\u001b[0m\u001b[1;33m(\u001b[0m\u001b[1;33m)\u001b[0m\u001b[1;33m)\u001b[0m\u001b[1;33m,\u001b[0m \u001b[0mmax\u001b[0m\u001b[1;33m(\u001b[0m\u001b[0mX_test\u001b[0m\u001b[1;33m)\u001b[0m\u001b[1;33m)\u001b[0m\u001b[1;33m\u001b[0m\u001b[1;33m\u001b[0m\u001b[0m\n\u001b[0m\u001b[0;32m      8\u001b[0m \u001b[0mp2\u001b[0m \u001b[1;33m=\u001b[0m \u001b[0mmin\u001b[0m\u001b[1;33m(\u001b[0m\u001b[0mmin\u001b[0m\u001b[1;33m(\u001b[0m\u001b[0mpredictions\u001b[0m\u001b[1;33m.\u001b[0m\u001b[0mall\u001b[0m\u001b[1;33m(\u001b[0m\u001b[1;33m)\u001b[0m\u001b[1;33m)\u001b[0m\u001b[1;33m,\u001b[0m \u001b[0mmin\u001b[0m\u001b[1;33m(\u001b[0m\u001b[0mX_test\u001b[0m\u001b[1;33m)\u001b[0m\u001b[1;33m)\u001b[0m\u001b[1;33m\u001b[0m\u001b[1;33m\u001b[0m\u001b[0m\n\u001b[0;32m      9\u001b[0m \u001b[0mplt\u001b[0m\u001b[1;33m.\u001b[0m\u001b[0mplot\u001b[0m\u001b[1;33m(\u001b[0m\u001b[1;33m[\u001b[0m\u001b[0mp1\u001b[0m\u001b[1;33m,\u001b[0m \u001b[0mp2\u001b[0m\u001b[1;33m]\u001b[0m\u001b[1;33m,\u001b[0m \u001b[1;33m[\u001b[0m\u001b[0mp1\u001b[0m\u001b[1;33m,\u001b[0m \u001b[0mp2\u001b[0m\u001b[1;33m]\u001b[0m\u001b[1;33m,\u001b[0m \u001b[1;34m'b-'\u001b[0m\u001b[1;33m)\u001b[0m\u001b[1;33m\u001b[0m\u001b[1;33m\u001b[0m\u001b[0m\n",
      "\u001b[1;31mTypeError\u001b[0m: 'numpy.bool_' object is not iterable"
     ]
    },
    {
     "data": {
      "image/png": "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",
      "text/plain": [
       "<Figure size 720x720 with 1 Axes>"
      ]
     },
     "metadata": {
      "needs_background": "light"
     },
     "output_type": "display_data"
    }
   ],
   "source": [
    "import matplotlib.pyplot as plt\n",
    "plt.figure(figsize=(10,10))\n",
    "plt.scatter(X_test, predictions, c='crimson')\n",
    "plt.yscale('log')\n",
    "plt.xscale('log')\n",
    "\n",
    "p1 = max(max(predictions.all()), max(X_test))\n",
    "p2 = min(min(predictions.all()), min(X_test))\n",
    "plt.plot([p1, p2], [p1, p2], 'b-')\n",
    "plt.xlabel('True Values', fontsize=15)\n",
    "plt.ylabel('Predictions', fontsize=15)\n",
    "plt.axis('equal')\n",
    "plt.show()"
   ]
  },
  {
   "cell_type": "markdown",
   "id": "85602e48",
   "metadata": {},
   "source": [
    "# Evaluating the Algorithm\n",
    "The final step is to evaluate the performance of algorithm. This step is particularly important to compare how well different algorithms perform on a particular dataset. For regression algorithms, three evaluation metrics are commonly used:\n",
    "\n",
    "Mean Absolute Error (MAE) is the mean of the absolute value of the errors.\n",
    "\n",
    "Mean Squared Error (MSE) is the mean of the squared errors.\n",
    "\n",
    "Root Mean Squared Error (RMSE) is the square root of the mean of the squared errors."
   ]
  },
  {
   "cell_type": "code",
   "execution_count": 29,
   "id": "1811efec",
   "metadata": {},
   "outputs": [
    {
     "name": "stdout",
     "output_type": "stream",
     "text": [
      "Mean Absolute Error: 152.502269112843\n",
      "Mean Squared Error: 35683.42279816926\n",
      "Root Mean Squared Error: 188.90056325529912\n"
     ]
    }
   ],
   "source": [
    "from sklearn import metrics\n",
    "print('Mean Absolute Error:', metrics.mean_absolute_error(y_test, predictions))\n",
    "print('Mean Squared Error:', metrics.mean_squared_error(y_test, predictions))\n",
    "print('Root Mean Squared Error:', np.sqrt(metrics.mean_squared_error(y_test, predictions)))"
   ]
  },
  {
   "cell_type": "code",
   "execution_count": 30,
   "id": "b3ba445c",
   "metadata": {},
   "outputs": [
    {
     "name": "stdout",
     "output_type": "stream",
     "text": [
      "Train Score: 606501.8073 MSE (778.7823 RMSE)\n",
      "Test Score: 35683.42279817 MSE (188.90056326 RMSE)\n"
     ]
    }
   ],
   "source": [
    "trainScore = mean_squared_error(X_train, y_train)\n",
    "print('Train Score: %.4f MSE (%.4f RMSE)' % (trainScore, math.sqrt(trainScore)))\n",
    "\n",
    "testScore = mean_squared_error(predictions, y_test)\n",
    "print('Test Score: %.8f MSE (%.8f RMSE)' % (testScore, math.sqrt(testScore)))"
   ]
  },
  {
   "cell_type": "markdown",
   "id": "a8623efd",
   "metadata": {},
   "source": [
    "# Checkpoint #3\n",
    "Long-Sort Term Memory Model\n",
    "In this section we will use LSTM to train and test on our data set.\n",
    "\n",
    "Basic LSTM Model\n",
    "First lets make a basic LSTM model.\n",
    "\n",
    "Step 1 : import keras libraries for smooth implementaion of lstm"
   ]
  },
  {
   "cell_type": "code",
   "execution_count": 31,
   "id": "cbe838f6",
   "metadata": {},
   "outputs": [
    {
     "ename": "ModuleNotFoundError",
     "evalue": "No module named 'talib'",
     "output_type": "error",
     "traceback": [
      "\u001b[1;31m---------------------------------------------------------------------------\u001b[0m",
      "\u001b[1;31mModuleNotFoundError\u001b[0m                       Traceback (most recent call last)",
      "\u001b[1;32m~\\AppData\\Local\\Temp\\ipykernel_12504\\2994682205.py\u001b[0m in \u001b[0;36m<module>\u001b[1;34m\u001b[0m\n\u001b[0;32m     13\u001b[0m \u001b[1;33m\u001b[0m\u001b[0m\n\u001b[0;32m     14\u001b[0m \u001b[1;32mimport\u001b[0m \u001b[0mvisualize\u001b[0m \u001b[1;32mas\u001b[0m \u001b[0mvs\u001b[0m\u001b[1;33m\u001b[0m\u001b[1;33m\u001b[0m\u001b[0m\n\u001b[1;32m---> 15\u001b[1;33m \u001b[1;32mimport\u001b[0m \u001b[0mstock_data\u001b[0m \u001b[1;32mas\u001b[0m \u001b[0msd\u001b[0m\u001b[1;33m\u001b[0m\u001b[1;33m\u001b[0m\u001b[0m\n\u001b[0m\u001b[0;32m     16\u001b[0m \u001b[1;32mimport\u001b[0m \u001b[0mLinearRegressionModel\u001b[0m\u001b[1;33m\u001b[0m\u001b[1;33m\u001b[0m\u001b[0m\n\u001b[0;32m     17\u001b[0m \u001b[1;33m\u001b[0m\u001b[0m\n",
      "\u001b[1;32mc:\\users\\lavaa\\appdata\\local\\programs\\python\\python37\\lib\\site-packages\\stock_data\\__init__.py\u001b[0m in \u001b[0;36m<module>\u001b[1;34m\u001b[0m\n\u001b[1;32m----> 1\u001b[1;33m \u001b[1;32mfrom\u001b[0m \u001b[1;33m.\u001b[0m\u001b[0mrsi\u001b[0m \u001b[1;32mimport\u001b[0m \u001b[0mrsi\u001b[0m\u001b[1;33m\u001b[0m\u001b[1;33m\u001b[0m\u001b[0m\n\u001b[0m\u001b[0;32m      2\u001b[0m \u001b[1;32mfrom\u001b[0m \u001b[1;33m.\u001b[0m\u001b[0mrolling_sharpe\u001b[0m \u001b[1;32mimport\u001b[0m \u001b[0mrolling_sharpe\u001b[0m\u001b[1;33m\u001b[0m\u001b[1;33m\u001b[0m\u001b[0m\n\u001b[0;32m      3\u001b[0m \u001b[1;32mfrom\u001b[0m \u001b[1;33m.\u001b[0m\u001b[0mbeta\u001b[0m \u001b[1;32mimport\u001b[0m \u001b[0mbeta\u001b[0m\u001b[1;33m\u001b[0m\u001b[1;33m\u001b[0m\u001b[0m\n\u001b[0;32m      4\u001b[0m \u001b[1;32mfrom\u001b[0m \u001b[1;33m.\u001b[0m\u001b[0malpha\u001b[0m \u001b[1;32mimport\u001b[0m \u001b[0malpha\u001b[0m\u001b[1;33m\u001b[0m\u001b[1;33m\u001b[0m\u001b[0m\n\u001b[0;32m      5\u001b[0m \u001b[1;32mfrom\u001b[0m \u001b[1;33m.\u001b[0m\u001b[0mr_squared\u001b[0m \u001b[1;32mimport\u001b[0m \u001b[0mr_squared\u001b[0m\u001b[1;33m\u001b[0m\u001b[1;33m\u001b[0m\u001b[0m\n",
      "\u001b[1;32mc:\\users\\lavaa\\appdata\\local\\programs\\python\\python37\\lib\\site-packages\\stock_data\\rsi.py\u001b[0m in \u001b[0;36m<module>\u001b[1;34m\u001b[0m\n\u001b[1;32m----> 1\u001b[1;33m \u001b[1;32mimport\u001b[0m \u001b[0mtalib\u001b[0m \u001b[1;32mas\u001b[0m \u001b[0mta\u001b[0m\u001b[1;33m\u001b[0m\u001b[1;33m\u001b[0m\u001b[0m\n\u001b[0m\u001b[0;32m      2\u001b[0m \u001b[1;32mimport\u001b[0m \u001b[0mdatetime\u001b[0m\u001b[1;33m\u001b[0m\u001b[1;33m\u001b[0m\u001b[0m\n\u001b[0;32m      3\u001b[0m \u001b[1;32mfrom\u001b[0m \u001b[0mpandas_datareader\u001b[0m \u001b[1;32mimport\u001b[0m \u001b[0mDataReader\u001b[0m\u001b[1;33m\u001b[0m\u001b[1;33m\u001b[0m\u001b[0m\n\u001b[0;32m      4\u001b[0m \u001b[1;33m\u001b[0m\u001b[0m\n\u001b[0;32m      5\u001b[0m \u001b[1;31m# Defining a class\u001b[0m\u001b[1;33m\u001b[0m\u001b[1;33m\u001b[0m\u001b[1;33m\u001b[0m\u001b[0m\n",
      "\u001b[1;31mModuleNotFoundError\u001b[0m: No module named 'talib'"
     ]
    }
   ],
   "source": [
    "import math\n",
    "import pandas as pd\n",
    "import numpy as np\n",
    "from IPython.display import display\n",
    "\n",
    "from keras.layers.core import Dense, Activation, Dropout\n",
    "from keras.layers import LSTM\n",
    "from keras.models import Sequential\n",
    "from keras.metrics import mean_squared_error\n",
    "from sklearn.model_selection import StratifiedKFold\n",
    "\n",
    "import time #helper libraries\n",
    "\n",
    "import visualize as vs\n",
    "import stock_data as sd\n",
    "import LinearRegressionModel\n",
    "\n",
    "stocks = pd.read_csv('tesla_preprocessed.csv')\n",
    "stocks_data = stocks.drop(['Item'], axis =1)\n",
    "\n",
    "display(stocks_data.head())"
   ]
  },
  {
   "cell_type": "code",
   "execution_count": 32,
   "id": "0443e5b8",
   "metadata": {},
   "outputs": [],
   "source": [
    "from tensorflow.keras.models import Sequential\n",
    "from tensorflow.keras.layers import Dense\n",
    "from tensorflow.keras.layers import LSTM"
   ]
  },
  {
   "cell_type": "code",
   "execution_count": 33,
   "id": "8a84ebe1",
   "metadata": {},
   "outputs": [],
   "source": [
    "model=Sequential()\n",
    "model.add(LSTM(50,return_sequences=True,input_shape=(100,1)))\n",
    "model.add(LSTM(50,return_sequences=True))\n",
    "model.add(LSTM(50))\n",
    "model.add(Dense(1))\n",
    "model.compile(loss='mean_squared_error',optimizer='adam')"
   ]
  },
  {
   "cell_type": "code",
   "execution_count": 34,
   "id": "52321b3e",
   "metadata": {},
   "outputs": [
    {
     "name": "stdout",
     "output_type": "stream",
     "text": [
      "Model: \"sequential_1\"\n",
      "_________________________________________________________________\n",
      " Layer (type)                Output Shape              Param #   \n",
      "=================================================================\n",
      " lstm_3 (LSTM)               (None, 100, 50)           10400     \n",
      "                                                                 \n",
      " lstm_4 (LSTM)               (None, 100, 50)           20200     \n",
      "                                                                 \n",
      " lstm_5 (LSTM)               (None, 50)                20200     \n",
      "                                                                 \n",
      " dense_1 (Dense)             (None, 1)                 51        \n",
      "                                                                 \n",
      "=================================================================\n",
      "Total params: 50,851\n",
      "Trainable params: 50,851\n",
      "Non-trainable params: 0\n",
      "_________________________________________________________________\n"
     ]
    }
   ],
   "source": [
    "model.summary()"
   ]
  },
  {
   "cell_type": "code",
   "execution_count": 35,
   "id": "2da3fde7",
   "metadata": {},
   "outputs": [
    {
     "name": "stdout",
     "output_type": "stream",
     "text": [
      "Model: \"sequential_1\"\n",
      "_________________________________________________________________\n",
      " Layer (type)                Output Shape              Param #   \n",
      "=================================================================\n",
      " lstm_3 (LSTM)               (None, 100, 50)           10400     \n",
      "                                                                 \n",
      " lstm_4 (LSTM)               (None, 100, 50)           20200     \n",
      "                                                                 \n",
      " lstm_5 (LSTM)               (None, 50)                20200     \n",
      "                                                                 \n",
      " dense_1 (Dense)             (None, 1)                 51        \n",
      "                                                                 \n",
      "=================================================================\n",
      "Total params: 50,851\n",
      "Trainable params: 50,851\n",
      "Non-trainable params: 0\n",
      "_________________________________________________________________\n"
     ]
    }
   ],
   "source": [
    "\n",
    "model.summary()"
   ]
  },
  {
   "cell_type": "code",
   "execution_count": 36,
   "id": "4b0cb06a",
   "metadata": {},
   "outputs": [
    {
     "name": "stdout",
     "output_type": "stream",
     "text": [
      "Epoch 1/100\n",
      "WARNING:tensorflow:Model was constructed with shape (None, 100, 1) for input KerasTensor(type_spec=TensorSpec(shape=(None, 100, 1), dtype=tf.float32, name='lstm_3_input'), name='lstm_3_input', description=\"created by layer 'lstm_3_input'\"), but it was called on an input with incompatible shape (None, 1, 1).\n",
      "WARNING:tensorflow:Model was constructed with shape (None, 100, 1) for input KerasTensor(type_spec=TensorSpec(shape=(None, 100, 1), dtype=tf.float32, name='lstm_3_input'), name='lstm_3_input', description=\"created by layer 'lstm_3_input'\"), but it was called on an input with incompatible shape (None, 1, 1).\n",
      "16/20 [=======================>......] - ETA: 0s - loss: 110083.4688WARNING:tensorflow:Model was constructed with shape (None, 100, 1) for input KerasTensor(type_spec=TensorSpec(shape=(None, 100, 1), dtype=tf.float32, name='lstm_3_input'), name='lstm_3_input', description=\"created by layer 'lstm_3_input'\"), but it was called on an input with incompatible shape (None, 1, 1).\n",
      "20/20 [==============================] - 9s 92ms/step - loss: 113172.5156 - val_loss: 98651.1250\n",
      "Epoch 2/100\n",
      "20/20 [==============================] - 0s 25ms/step - loss: 112789.0312 - val_loss: 98001.2422\n",
      "Epoch 3/100\n",
      "20/20 [==============================] - 0s 21ms/step - loss: 111698.3828 - val_loss: 96739.8906\n",
      "Epoch 4/100\n",
      "20/20 [==============================] - 1s 34ms/step - loss: 110331.7109 - val_loss: 95659.7500\n",
      "Epoch 5/100\n",
      "20/20 [==============================] - 1s 26ms/step - loss: 109327.8438 - val_loss: 94993.2500\n",
      "Epoch 6/100\n",
      "20/20 [==============================] - 0s 14ms/step - loss: 108733.8438 - val_loss: 94563.6172\n",
      "Epoch 7/100\n",
      "20/20 [==============================] - 0s 10ms/step - loss: 108294.3750 - val_loss: 94195.9609\n",
      "Epoch 8/100\n",
      "20/20 [==============================] - 0s 9ms/step - loss: 107898.7266 - val_loss: 93874.0469\n",
      "Epoch 9/100\n",
      "20/20 [==============================] - 0s 12ms/step - loss: 107535.3984 - val_loss: 93562.1250\n",
      "Epoch 10/100\n",
      "20/20 [==============================] - 0s 11ms/step - loss: 107191.5625 - val_loss: 93262.5547\n",
      "Epoch 11/100\n",
      "20/20 [==============================] - 0s 10ms/step - loss: 106860.2891 - val_loss: 92970.6016\n",
      "Epoch 12/100\n",
      "20/20 [==============================] - 0s 10ms/step - loss: 106538.8359 - val_loss: 92686.6172\n",
      "Epoch 13/100\n",
      "20/20 [==============================] - 0s 9ms/step - loss: 106224.4531 - val_loss: 92412.1953\n",
      "Epoch 14/100\n",
      "20/20 [==============================] - 0s 9ms/step - loss: 105912.2891 - val_loss: 92156.0547\n",
      "Epoch 15/100\n",
      "20/20 [==============================] - 0s 10ms/step - loss: 105619.6797 - val_loss: 91881.4609\n",
      "Epoch 16/100\n",
      "20/20 [==============================] - 0s 8ms/step - loss: 105311.6719 - val_loss: 91621.6641\n",
      "Epoch 17/100\n",
      "20/20 [==============================] - 0s 13ms/step - loss: 105020.0000 - val_loss: 91360.7344\n",
      "Epoch 18/100\n",
      "20/20 [==============================] - 0s 10ms/step - loss: 104731.5000 - val_loss: 91104.6641\n",
      "Epoch 19/100\n",
      "20/20 [==============================] - 0s 8ms/step - loss: 104445.6562 - val_loss: 90860.5000\n",
      "Epoch 20/100\n",
      "20/20 [==============================] - 0s 9ms/step - loss: 104171.6250 - val_loss: 90621.4688\n",
      "Epoch 21/100\n",
      "20/20 [==============================] - 0s 10ms/step - loss: 103901.4688 - val_loss: 90379.4453\n",
      "Epoch 22/100\n",
      "20/20 [==============================] - 0s 7ms/step - loss: 103625.6172 - val_loss: 90146.5625\n",
      "Epoch 23/100\n",
      "20/20 [==============================] - 0s 7ms/step - loss: 103358.4922 - val_loss: 89912.1094\n",
      "Epoch 24/100\n",
      "20/20 [==============================] - 0s 8ms/step - loss: 103092.5469 - val_loss: 89680.1641\n",
      "Epoch 25/100\n",
      "20/20 [==============================] - 0s 11ms/step - loss: 102829.9531 - val_loss: 89447.2891\n",
      "Epoch 26/100\n",
      "20/20 [==============================] - 0s 9ms/step - loss: 102563.9375 - val_loss: 89217.7969\n",
      "Epoch 27/100\n",
      "20/20 [==============================] - 0s 7ms/step - loss: 102306.2266 - val_loss: 88992.5156\n",
      "Epoch 28/100\n",
      "20/20 [==============================] - 0s 7ms/step - loss: 102050.5938 - val_loss: 88768.5625\n",
      "Epoch 29/100\n",
      "20/20 [==============================] - 0s 7ms/step - loss: 101795.9531 - val_loss: 88547.8125\n",
      "Epoch 30/100\n",
      "20/20 [==============================] - 0s 8ms/step - loss: 101546.1094 - val_loss: 88329.9766\n",
      "Epoch 31/100\n",
      "20/20 [==============================] - 0s 8ms/step - loss: 101295.7891 - val_loss: 88114.1641\n",
      "Epoch 32/100\n",
      "20/20 [==============================] - 0s 7ms/step - loss: 101049.6172 - val_loss: 87899.3750\n",
      "Epoch 33/100\n",
      "20/20 [==============================] - 0s 8ms/step - loss: 100803.9688 - val_loss: 87684.6953\n",
      "Epoch 34/100\n",
      "20/20 [==============================] - 0s 8ms/step - loss: 100561.3594 - val_loss: 87475.2344\n",
      "Epoch 35/100\n",
      "20/20 [==============================] - 0s 7ms/step - loss: 100322.2109 - val_loss: 87267.7500\n",
      "Epoch 36/100\n",
      "20/20 [==============================] - 0s 7ms/step - loss: 100084.8125 - val_loss: 87054.3906\n",
      "Epoch 37/100\n",
      "20/20 [==============================] - 0s 8ms/step - loss: 99843.5312 - val_loss: 86845.8438\n",
      "Epoch 38/100\n",
      "20/20 [==============================] - 0s 7ms/step - loss: 99605.0625 - val_loss: 86638.6250\n",
      "Epoch 39/100\n",
      "20/20 [==============================] - 0s 7ms/step - loss: 99368.6719 - val_loss: 86440.9609\n",
      "Epoch 40/100\n",
      "20/20 [==============================] - 0s 7ms/step - loss: 99138.6094 - val_loss: 86237.8672\n",
      "Epoch 41/100\n",
      "20/20 [==============================] - 0s 8ms/step - loss: 98911.4219 - val_loss: 86040.1562\n",
      "Epoch 42/100\n",
      "20/20 [==============================] - 0s 9ms/step - loss: 98681.0469 - val_loss: 85844.9141\n",
      "Epoch 43/100\n",
      "20/20 [==============================] - 0s 8ms/step - loss: 98453.3906 - val_loss: 85646.3438\n",
      "Epoch 44/100\n",
      "20/20 [==============================] - 0s 8ms/step - loss: 98225.1484 - val_loss: 85448.4531\n",
      "Epoch 45/100\n",
      "20/20 [==============================] - 0s 8ms/step - loss: 97996.5859 - val_loss: 85261.0859\n",
      "Epoch 46/100\n",
      "20/20 [==============================] - 0s 8ms/step - loss: 97778.2188 - val_loss: 85064.9219\n",
      "Epoch 47/100\n",
      "20/20 [==============================] - 0s 7ms/step - loss: 97555.6484 - val_loss: 84873.8359\n",
      "Epoch 48/100\n",
      "20/20 [==============================] - 0s 10ms/step - loss: 97328.9688 - val_loss: 84677.2969\n",
      "Epoch 49/100\n",
      "20/20 [==============================] - 0s 8ms/step - loss: 97106.6172 - val_loss: 84487.6797\n",
      "Epoch 50/100\n",
      "20/20 [==============================] - 0s 10ms/step - loss: 96890.0469 - val_loss: 84297.9688\n",
      "Epoch 51/100\n",
      "20/20 [==============================] - 0s 11ms/step - loss: 96675.2812 - val_loss: 84113.2344\n",
      "Epoch 52/100\n",
      "20/20 [==============================] - 0s 9ms/step - loss: 96462.1172 - val_loss: 83932.9062\n",
      "Epoch 53/100\n",
      "20/20 [==============================] - 0s 9ms/step - loss: 96251.6875 - val_loss: 83748.7109\n",
      "Epoch 54/100\n",
      "20/20 [==============================] - 0s 9ms/step - loss: 96038.7266 - val_loss: 83573.9453\n",
      "Epoch 55/100\n",
      "20/20 [==============================] - 0s 8ms/step - loss: 95832.3906 - val_loss: 83390.9531\n",
      "Epoch 56/100\n",
      "20/20 [==============================] - 0s 8ms/step - loss: 95621.3125 - val_loss: 83214.9922\n",
      "Epoch 57/100\n",
      "20/20 [==============================] - 0s 7ms/step - loss: 95418.7578 - val_loss: 83037.9922\n",
      "Epoch 58/100\n",
      "20/20 [==============================] - 0s 8ms/step - loss: 95212.1328 - val_loss: 82869.2734\n",
      "Epoch 59/100\n",
      "20/20 [==============================] - 0s 7ms/step - loss: 95012.1328 - val_loss: 82693.5156\n",
      "Epoch 60/100\n",
      "20/20 [==============================] - 0s 8ms/step - loss: 94809.1250 - val_loss: 82520.8281\n",
      "Epoch 61/100\n",
      "20/20 [==============================] - 0s 8ms/step - loss: 94611.0391 - val_loss: 82349.8125\n",
      "Epoch 62/100\n",
      "20/20 [==============================] - 0s 8ms/step - loss: 94415.3750 - val_loss: 82181.5078\n",
      "Epoch 63/100\n",
      "20/20 [==============================] - 0s 8ms/step - loss: 94219.1406 - val_loss: 82021.3281\n",
      "Epoch 64/100\n",
      "20/20 [==============================] - 0s 9ms/step - loss: 94024.5859 - val_loss: 81854.4219\n",
      "Epoch 65/100\n",
      "20/20 [==============================] - 0s 8ms/step - loss: 93829.0859 - val_loss: 81683.3750\n",
      "Epoch 66/100\n",
      "20/20 [==============================] - 0s 8ms/step - loss: 93633.3516 - val_loss: 81520.5312\n",
      "Epoch 67/100\n"
     ]
    },
    {
     "name": "stdout",
     "output_type": "stream",
     "text": [
      "20/20 [==============================] - 0s 9ms/step - loss: 93445.6641 - val_loss: 81359.1094\n",
      "Epoch 68/100\n",
      "20/20 [==============================] - 0s 9ms/step - loss: 93255.7891 - val_loss: 81200.6484\n",
      "Epoch 69/100\n",
      "20/20 [==============================] - 0s 7ms/step - loss: 93070.7656 - val_loss: 81043.9453\n",
      "Epoch 70/100\n",
      "20/20 [==============================] - 0s 7ms/step - loss: 92882.3438 - val_loss: 80888.4141\n",
      "Epoch 71/100\n",
      "20/20 [==============================] - 0s 7ms/step - loss: 92699.0312 - val_loss: 80726.4609\n",
      "Epoch 72/100\n",
      "20/20 [==============================] - 0s 8ms/step - loss: 92509.8438 - val_loss: 80570.2812\n",
      "Epoch 73/100\n",
      "20/20 [==============================] - 0s 8ms/step - loss: 92332.7266 - val_loss: 80410.5469\n",
      "Epoch 74/100\n",
      "20/20 [==============================] - 0s 8ms/step - loss: 92145.3516 - val_loss: 80266.8281\n",
      "Epoch 75/100\n",
      "20/20 [==============================] - 0s 8ms/step - loss: 91970.8906 - val_loss: 80118.1250\n",
      "Epoch 76/100\n",
      "20/20 [==============================] - 0s 8ms/step - loss: 91796.0703 - val_loss: 79969.1172\n",
      "Epoch 77/100\n",
      "20/20 [==============================] - 0s 8ms/step - loss: 91620.5078 - val_loss: 79820.9297\n",
      "Epoch 78/100\n",
      "20/20 [==============================] - 0s 8ms/step - loss: 91446.6094 - val_loss: 79670.4609\n",
      "Epoch 79/100\n",
      "20/20 [==============================] - 0s 8ms/step - loss: 91269.2344 - val_loss: 79528.7344\n",
      "Epoch 80/100\n",
      "20/20 [==============================] - 0s 8ms/step - loss: 91097.9375 - val_loss: 79382.3281\n",
      "Epoch 81/100\n",
      "20/20 [==============================] - 0s 8ms/step - loss: 90924.9844 - val_loss: 79243.4062\n",
      "Epoch 82/100\n",
      "20/20 [==============================] - 0s 8ms/step - loss: 90756.6797 - val_loss: 79095.8125\n",
      "Epoch 83/100\n",
      "20/20 [==============================] - 0s 8ms/step - loss: 90585.4297 - val_loss: 78956.9688\n",
      "Epoch 84/100\n",
      "20/20 [==============================] - 0s 8ms/step - loss: 90421.0000 - val_loss: 78820.1016\n",
      "Epoch 85/100\n",
      "20/20 [==============================] - 0s 8ms/step - loss: 90254.1719 - val_loss: 78680.3281\n",
      "Epoch 86/100\n",
      "20/20 [==============================] - 0s 8ms/step - loss: 90091.4062 - val_loss: 78540.7500\n",
      "Epoch 87/100\n",
      "20/20 [==============================] - 0s 7ms/step - loss: 89924.4375 - val_loss: 78403.5469\n",
      "Epoch 88/100\n",
      "20/20 [==============================] - 0s 8ms/step - loss: 89756.6953 - val_loss: 78240.2500\n",
      "Epoch 89/100\n",
      "20/20 [==============================] - 0s 8ms/step - loss: 89572.6016 - val_loss: 78082.2812\n",
      "Epoch 90/100\n",
      "20/20 [==============================] - 0s 7ms/step - loss: 89389.1250 - val_loss: 77923.4766\n",
      "Epoch 91/100\n",
      "20/20 [==============================] - 0s 8ms/step - loss: 89201.2344 - val_loss: 77779.3203\n",
      "Epoch 92/100\n",
      "20/20 [==============================] - 0s 7ms/step - loss: 89024.6094 - val_loss: 77595.5000\n",
      "Epoch 93/100\n",
      "20/20 [==============================] - 0s 7ms/step - loss: 88895.4062 - val_loss: 77528.0391\n",
      "Epoch 94/100\n",
      "20/20 [==============================] - 0s 8ms/step - loss: 88707.9297 - val_loss: 78012.2344\n",
      "Epoch 95/100\n",
      "20/20 [==============================] - 0s 8ms/step - loss: 88672.0781 - val_loss: 77320.3203\n",
      "Epoch 96/100\n",
      "20/20 [==============================] - 0s 9ms/step - loss: 88461.6172 - val_loss: 77178.9141\n",
      "Epoch 97/100\n",
      "20/20 [==============================] - 0s 9ms/step - loss: 88308.7031 - val_loss: 77031.1719\n",
      "Epoch 98/100\n",
      "20/20 [==============================] - 0s 8ms/step - loss: 88129.0078 - val_loss: 76888.5078\n",
      "Epoch 99/100\n",
      "20/20 [==============================] - 0s 8ms/step - loss: 87957.3203 - val_loss: 76775.7266\n",
      "Epoch 100/100\n",
      "20/20 [==============================] - 0s 7ms/step - loss: 87794.2656 - val_loss: 76611.7812\n"
     ]
    },
    {
     "data": {
      "text/plain": [
       "<keras.callbacks.History at 0x29d1704a4c8>"
      ]
     },
     "execution_count": 36,
     "metadata": {},
     "output_type": "execute_result"
    }
   ],
   "source": [
    "model.fit(X_train,y_train,validation_data=(X_test,y_test),epochs=100,batch_size=64,verbose=1)"
   ]
  },
  {
   "cell_type": "code",
   "execution_count": 37,
   "id": "b8dd30f1",
   "metadata": {},
   "outputs": [
    {
     "data": {
      "text/plain": [
       "'2.9.0'"
      ]
     },
     "execution_count": 37,
     "metadata": {},
     "output_type": "execute_result"
    }
   ],
   "source": [
    "import tensorflow as tf\n",
    "\n",
    "tf.__version__"
   ]
  },
  {
   "cell_type": "code",
   "execution_count": 38,
   "id": "9e21f4f2",
   "metadata": {},
   "outputs": [
    {
     "name": "stdout",
     "output_type": "stream",
     "text": [
      "WARNING:tensorflow:Model was constructed with shape (None, 100, 1) for input KerasTensor(type_spec=TensorSpec(shape=(None, 100, 1), dtype=tf.float32, name='lstm_3_input'), name='lstm_3_input', description=\"created by layer 'lstm_3_input'\"), but it was called on an input with incompatible shape (None, 1, 1).\n",
      "39/39 [==============================] - 1s 2ms/step\n",
      "17/17 [==============================] - 0s 3ms/step\n"
     ]
    }
   ],
   "source": [
    "###Do the prediction and check performance metrics\n",
    "train_predict=model.predict(X_train)\n",
    "test_predict=model.predict(X_test)"
   ]
  },
  {
   "cell_type": "code",
   "execution_count": 39,
   "id": "e2b6c0a2",
   "metadata": {},
   "outputs": [],
   "source": [
    "##Transform back to original form\n",
    "train_predict=scaler.inverse_transform(train_predict)\n",
    "test_predict=scaler.inverse_transform(test_predict)"
   ]
  },
  {
   "cell_type": "code",
   "execution_count": null,
   "id": "f6883649",
   "metadata": {},
   "outputs": [],
   "source": [
    "### Calculate RMSE performance metrics\n",
    "import math\n",
    "from sklearn.metrics import mean_squared_error\n",
    "math.sqrt(mean_squared_error(y_train,train_predict))"
   ]
  },
  {
   "cell_type": "code",
   "execution_count": null,
   "id": "9fae31ae",
   "metadata": {},
   "outputs": [],
   "source": [
    "### Test Data RMSE\n",
    "math.sqrt(mean_squared_error(y_test,test_predict))"
   ]
  },
  {
   "cell_type": "code",
   "execution_count": null,
   "id": "a8fcf185",
   "metadata": {},
   "outputs": [],
   "source": [
    "### Plotting \n",
    "# shift train predictions for plotting\n",
    "import numpy\n",
    "look_back=100\n",
    "trainPredictPlot = numpy.empty_like(data)\n",
    "trainPredictPlot[:, :] = np.nan\n",
    "trainPredictPlot[look_back:len(train_predict)+look_back, :] = train_predict\n",
    "# shift test predictions for plotting\n",
    "testPredictPlot = numpy.empty_like(data)\n",
    "testPredictPlot[:, :] = numpy.nan\n",
    "testPredictPlot[len(train_predict)+(look_back*2)+1:len(data)-1, :] = test_predict\n",
    "# plot baseline and predictions\n",
    "plt.plot(scaler.inverse_transform(data))\n",
    "plt.plot(trainPredictPlot)\n",
    "plt.plot(testPredictPlot)\n",
    "plt.show()"
   ]
  },
  {
   "cell_type": "markdown",
   "id": "7c09e103",
   "metadata": {},
   "source": [
    "# Trying a different approach with LSTM\n"
   ]
  },
  {
   "cell_type": "code",
   "execution_count": 40,
   "id": "00122420",
   "metadata": {},
   "outputs": [],
   "source": [
    "import pandas as pd\n",
    "\n",
    "df=pd.read_csv('tesla.csv')"
   ]
  },
  {
   "cell_type": "code",
   "execution_count": 41,
   "id": "33f1cdbb",
   "metadata": {},
   "outputs": [
    {
     "data": {
      "text/html": [
       "<div>\n",
       "<style scoped>\n",
       "    .dataframe tbody tr th:only-of-type {\n",
       "        vertical-align: middle;\n",
       "    }\n",
       "\n",
       "    .dataframe tbody tr th {\n",
       "        vertical-align: top;\n",
       "    }\n",
       "\n",
       "    .dataframe thead th {\n",
       "        text-align: right;\n",
       "    }\n",
       "</style>\n",
       "<table border=\"1\" class=\"dataframe\">\n",
       "  <thead>\n",
       "    <tr style=\"text-align: right;\">\n",
       "      <th></th>\n",
       "      <th>Open</th>\n",
       "      <th>High</th>\n",
       "      <th>Low</th>\n",
       "      <th>Close</th>\n",
       "      <th>Adj Close</th>\n",
       "      <th>Volume</th>\n",
       "    </tr>\n",
       "  </thead>\n",
       "  <tbody>\n",
       "    <tr>\n",
       "      <th>0</th>\n",
       "      <td>44.618000</td>\n",
       "      <td>45.136002</td>\n",
       "      <td>44.450001</td>\n",
       "      <td>44.481998</td>\n",
       "      <td>44.481998</td>\n",
       "      <td>11487500</td>\n",
       "    </tr>\n",
       "    <tr>\n",
       "      <th>1</th>\n",
       "      <td>44.574001</td>\n",
       "      <td>44.650002</td>\n",
       "      <td>42.652000</td>\n",
       "      <td>43.862000</td>\n",
       "      <td>43.862000</td>\n",
       "      <td>23822000</td>\n",
       "    </tr>\n",
       "    <tr>\n",
       "      <th>2</th>\n",
       "      <td>42.910000</td>\n",
       "      <td>43.299999</td>\n",
       "      <td>41.431999</td>\n",
       "      <td>42.018002</td>\n",
       "      <td>42.018002</td>\n",
       "      <td>26842500</td>\n",
       "    </tr>\n",
       "    <tr>\n",
       "      <th>3</th>\n",
       "      <td>42.012001</td>\n",
       "      <td>42.840000</td>\n",
       "      <td>40.841999</td>\n",
       "      <td>42.256001</td>\n",
       "      <td>42.256001</td>\n",
       "      <td>31309500</td>\n",
       "    </tr>\n",
       "    <tr>\n",
       "      <th>4</th>\n",
       "      <td>42.669998</td>\n",
       "      <td>42.956001</td>\n",
       "      <td>41.956001</td>\n",
       "      <td>42.189999</td>\n",
       "      <td>42.189999</td>\n",
       "      <td>14842000</td>\n",
       "    </tr>\n",
       "  </tbody>\n",
       "</table>\n",
       "</div>"
      ],
      "text/plain": [
       "        Open       High        Low      Close  Adj Close    Volume\n",
       "0  44.618000  45.136002  44.450001  44.481998  44.481998  11487500\n",
       "1  44.574001  44.650002  42.652000  43.862000  43.862000  23822000\n",
       "2  42.910000  43.299999  41.431999  42.018002  42.018002  26842500\n",
       "3  42.012001  42.840000  40.841999  42.256001  42.256001  31309500\n",
       "4  42.669998  42.956001  41.956001  42.189999  42.189999  14842000"
      ]
     },
     "execution_count": 41,
     "metadata": {},
     "output_type": "execute_result"
    }
   ],
   "source": [
    "df.head()"
   ]
  },
  {
   "cell_type": "code",
   "execution_count": 42,
   "id": "2692d2ed",
   "metadata": {},
   "outputs": [
    {
     "data": {
      "text/html": [
       "<div>\n",
       "<style scoped>\n",
       "    .dataframe tbody tr th:only-of-type {\n",
       "        vertical-align: middle;\n",
       "    }\n",
       "\n",
       "    .dataframe tbody tr th {\n",
       "        vertical-align: top;\n",
       "    }\n",
       "\n",
       "    .dataframe thead th {\n",
       "        text-align: right;\n",
       "    }\n",
       "</style>\n",
       "<table border=\"1\" class=\"dataframe\">\n",
       "  <thead>\n",
       "    <tr style=\"text-align: right;\">\n",
       "      <th></th>\n",
       "      <th>Open</th>\n",
       "      <th>High</th>\n",
       "      <th>Low</th>\n",
       "      <th>Close</th>\n",
       "      <th>Adj Close</th>\n",
       "      <th>Volume</th>\n",
       "    </tr>\n",
       "  </thead>\n",
       "  <tbody>\n",
       "    <tr>\n",
       "      <th>1759</th>\n",
       "      <td>1073.670044</td>\n",
       "      <td>1117.000000</td>\n",
       "      <td>1070.719971</td>\n",
       "      <td>1093.939941</td>\n",
       "      <td>1093.939941</td>\n",
       "      <td>23715300</td>\n",
       "    </tr>\n",
       "    <tr>\n",
       "      <th>1760</th>\n",
       "      <td>1109.489990</td>\n",
       "      <td>1119.000000</td>\n",
       "      <td>1078.420044</td>\n",
       "      <td>1088.469971</td>\n",
       "      <td>1088.469971</td>\n",
       "      <td>20108000</td>\n",
       "    </tr>\n",
       "    <tr>\n",
       "      <th>1761</th>\n",
       "      <td>1098.640015</td>\n",
       "      <td>1104.000000</td>\n",
       "      <td>1064.140015</td>\n",
       "      <td>1086.189941</td>\n",
       "      <td>1086.189941</td>\n",
       "      <td>18718000</td>\n",
       "    </tr>\n",
       "    <tr>\n",
       "      <th>1762</th>\n",
       "      <td>1061.329956</td>\n",
       "      <td>1095.550049</td>\n",
       "      <td>1053.150024</td>\n",
       "      <td>1070.339966</td>\n",
       "      <td>1070.339966</td>\n",
       "      <td>15680300</td>\n",
       "    </tr>\n",
       "    <tr>\n",
       "      <th>1763</th>\n",
       "      <td>1073.439941</td>\n",
       "      <td>1082.000000</td>\n",
       "      <td>1054.589966</td>\n",
       "      <td>1056.780029</td>\n",
       "      <td>1056.780029</td>\n",
       "      <td>13577900</td>\n",
       "    </tr>\n",
       "  </tbody>\n",
       "</table>\n",
       "</div>"
      ],
      "text/plain": [
       "             Open         High          Low        Close    Adj Close  \\\n",
       "1759  1073.670044  1117.000000  1070.719971  1093.939941  1093.939941   \n",
       "1760  1109.489990  1119.000000  1078.420044  1088.469971  1088.469971   \n",
       "1761  1098.640015  1104.000000  1064.140015  1086.189941  1086.189941   \n",
       "1762  1061.329956  1095.550049  1053.150024  1070.339966  1070.339966   \n",
       "1763  1073.439941  1082.000000  1054.589966  1056.780029  1056.780029   \n",
       "\n",
       "        Volume  \n",
       "1759  23715300  \n",
       "1760  20108000  \n",
       "1761  18718000  \n",
       "1762  15680300  \n",
       "1763  13577900  "
      ]
     },
     "execution_count": 42,
     "metadata": {},
     "output_type": "execute_result"
    }
   ],
   "source": [
    "df.tail()"
   ]
  },
  {
   "cell_type": "code",
   "execution_count": 43,
   "id": "9507fdd2",
   "metadata": {},
   "outputs": [],
   "source": [
    "df1=df.reset_index()['Close']"
   ]
  },
  {
   "cell_type": "code",
   "execution_count": 44,
   "id": "b3c12aba",
   "metadata": {},
   "outputs": [
    {
     "data": {
      "text/plain": [
       "0         44.481998\n",
       "1         43.862000\n",
       "2         42.018002\n",
       "3         42.256001\n",
       "4         42.189999\n",
       "           ...     \n",
       "1759    1093.939941\n",
       "1760    1088.469971\n",
       "1761    1086.189941\n",
       "1762    1070.339966\n",
       "1763    1056.780029\n",
       "Name: Close, Length: 1764, dtype: float64"
      ]
     },
     "execution_count": 44,
     "metadata": {},
     "output_type": "execute_result"
    }
   ],
   "source": [
    "df1"
   ]
  },
  {
   "cell_type": "code",
   "execution_count": 45,
   "id": "545dc955",
   "metadata": {},
   "outputs": [
    {
     "data": {
      "text/plain": [
       "[<matplotlib.lines.Line2D at 0x29d16f36808>]"
      ]
     },
     "execution_count": 45,
     "metadata": {},
     "output_type": "execute_result"
    },
    {
     "data": {
      "image/png": "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",
      "text/plain": [
       "<Figure size 432x288 with 1 Axes>"
      ]
     },
     "metadata": {
      "needs_background": "light"
     },
     "output_type": "display_data"
    }
   ],
   "source": [
    "import matplotlib.pyplot as plt\n",
    "plt.plot(df1)"
   ]
  },
  {
   "cell_type": "code",
   "execution_count": 46,
   "id": "74a66898",
   "metadata": {},
   "outputs": [
    {
     "data": {
      "text/plain": [
       "0         44.481998\n",
       "1         43.862000\n",
       "2         42.018002\n",
       "3         42.256001\n",
       "4         42.189999\n",
       "           ...     \n",
       "1759    1093.939941\n",
       "1760    1088.469971\n",
       "1761    1086.189941\n",
       "1762    1070.339966\n",
       "1763    1056.780029\n",
       "Name: Close, Length: 1764, dtype: float64"
      ]
     },
     "execution_count": 46,
     "metadata": {},
     "output_type": "execute_result"
    }
   ],
   "source": [
    "import numpy as np\n",
    "df1"
   ]
  },
  {
   "cell_type": "code",
   "execution_count": 47,
   "id": "7ca7c730",
   "metadata": {},
   "outputs": [],
   "source": [
    "from sklearn.preprocessing import MinMaxScaler\n",
    "scaler=MinMaxScaler(feature_range=(0,1))\n",
    "df1=scaler.fit_transform(np.array(df1).reshape(-1,1))"
   ]
  },
  {
   "cell_type": "code",
   "execution_count": 48,
   "id": "a0d3f4fe",
   "metadata": {},
   "outputs": [
    {
     "name": "stdout",
     "output_type": "stream",
     "text": [
      "[[0.01311048]\n",
      " [0.01259432]\n",
      " [0.01105916]\n",
      " ...\n",
      " [0.88035052]\n",
      " [0.86715513]\n",
      " [0.85586625]]\n"
     ]
    }
   ],
   "source": [
    "print(df1)"
   ]
  },
  {
   "cell_type": "code",
   "execution_count": 49,
   "id": "08570e94",
   "metadata": {},
   "outputs": [],
   "source": [
    "##splitting dataset into train and test split\n",
    "training_size=int(len(df1)*0.65)\n",
    "test_size=len(df1)-training_size\n",
    "train_data,test_data=df1[0:training_size,:],df1[training_size:len(df1),:1]"
   ]
  },
  {
   "cell_type": "code",
   "execution_count": 50,
   "id": "bf29a31b",
   "metadata": {},
   "outputs": [
    {
     "data": {
      "text/plain": [
       "(1146, 618)"
      ]
     },
     "execution_count": 50,
     "metadata": {},
     "output_type": "execute_result"
    }
   ],
   "source": [
    "training_size,test_size"
   ]
  },
  {
   "cell_type": "code",
   "execution_count": 51,
   "id": "906191e0",
   "metadata": {},
   "outputs": [
    {
     "data": {
      "text/plain": [
       "array([[0.01311048],\n",
       "       [0.01259432],\n",
       "       [0.01105916],\n",
       "       ...,\n",
       "       [0.01829374],\n",
       "       [0.01906632],\n",
       "       [0.01865006]])"
      ]
     },
     "execution_count": 51,
     "metadata": {},
     "output_type": "execute_result"
    }
   ],
   "source": [
    "train_data"
   ]
  },
  {
   "cell_type": "code",
   "execution_count": 52,
   "id": "d0ee1a61",
   "metadata": {},
   "outputs": [],
   "source": [
    "import numpy\n",
    "# convert an array of values into a dataset matrix\n",
    "def create_dataset(dataset, time_step=1):\n",
    "\tdataX, dataY = [], []\n",
    "\tfor i in range(len(dataset)-time_step-1):\n",
    "\t\ta = dataset[i:(i+time_step), 0]   ###i=0, 0,1,2,3-----99   100 \n",
    "\t\tdataX.append(a)\n",
    "\t\tdataY.append(dataset[i + time_step, 0])\n",
    "\treturn numpy.array(dataX), numpy.array(dataY)"
   ]
  },
  {
   "cell_type": "code",
   "execution_count": 53,
   "id": "69049133",
   "metadata": {},
   "outputs": [],
   "source": [
    "# reshape into X=t,t+1,t+2,t+3 and Y=t+4\n",
    "time_step = 100\n",
    "X_train, y_train = create_dataset(train_data, time_step)\n",
    "X_test, ytest = create_dataset(test_data, time_step)"
   ]
  },
  {
   "cell_type": "code",
   "execution_count": 54,
   "id": "0d68ab0b",
   "metadata": {},
   "outputs": [
    {
     "name": "stdout",
     "output_type": "stream",
     "text": [
      "(1045, 100)\n",
      "(1045,)\n"
     ]
    },
    {
     "data": {
      "text/plain": [
       "(None, None)"
      ]
     },
     "execution_count": 54,
     "metadata": {},
     "output_type": "execute_result"
    }
   ],
   "source": [
    "print(X_train.shape), print(y_train.shape)"
   ]
  },
  {
   "cell_type": "code",
   "execution_count": 55,
   "id": "07116b91",
   "metadata": {},
   "outputs": [
    {
     "name": "stdout",
     "output_type": "stream",
     "text": [
      "(517, 100)\n",
      "(517,)\n"
     ]
    },
    {
     "data": {
      "text/plain": [
       "(None, None)"
      ]
     },
     "execution_count": 55,
     "metadata": {},
     "output_type": "execute_result"
    }
   ],
   "source": [
    "print(X_test.shape), print(ytest.shape)"
   ]
  },
  {
   "cell_type": "code",
   "execution_count": 56,
   "id": "b062e9ee",
   "metadata": {},
   "outputs": [],
   "source": [
    "# reshape input to be [samples, time steps, features] which is required for LSTM\n",
    "X_train =X_train.reshape(X_train.shape[0],X_train.shape[1] , 1)\n",
    "X_test = X_test.reshape(X_test.shape[0],X_test.shape[1] , 1)"
   ]
  },
  {
   "cell_type": "code",
   "execution_count": 57,
   "id": "d437137b",
   "metadata": {},
   "outputs": [],
   "source": [
    "### Create the Stacked LSTM model\n",
    "from tensorflow.keras.models import Sequential\n",
    "from tensorflow.keras.layers import Dense\n",
    "from tensorflow.keras.layers import LSTM"
   ]
  },
  {
   "cell_type": "code",
   "execution_count": 58,
   "id": "327acacd",
   "metadata": {},
   "outputs": [],
   "source": [
    "model=Sequential()\n",
    "model.add(LSTM(50,return_sequences=True,input_shape=(100,1)))\n",
    "model.add(LSTM(50,return_sequences=True))\n",
    "model.add(LSTM(50))\n",
    "model.add(Dense(1))\n",
    "model.compile(loss='mean_squared_error',optimizer='adam')"
   ]
  },
  {
   "cell_type": "code",
   "execution_count": 59,
   "id": "a33032f8",
   "metadata": {},
   "outputs": [
    {
     "name": "stdout",
     "output_type": "stream",
     "text": [
      "Model: \"sequential_2\"\n",
      "_________________________________________________________________\n",
      " Layer (type)                Output Shape              Param #   \n",
      "=================================================================\n",
      " lstm_6 (LSTM)               (None, 100, 50)           10400     \n",
      "                                                                 \n",
      " lstm_7 (LSTM)               (None, 100, 50)           20200     \n",
      "                                                                 \n",
      " lstm_8 (LSTM)               (None, 50)                20200     \n",
      "                                                                 \n",
      " dense_2 (Dense)             (None, 1)                 51        \n",
      "                                                                 \n",
      "=================================================================\n",
      "Total params: 50,851\n",
      "Trainable params: 50,851\n",
      "Non-trainable params: 0\n",
      "_________________________________________________________________\n"
     ]
    }
   ],
   "source": [
    "model.summary()"
   ]
  },
  {
   "cell_type": "code",
   "execution_count": 60,
   "id": "9c6235d7",
   "metadata": {},
   "outputs": [
    {
     "name": "stdout",
     "output_type": "stream",
     "text": [
      "Model: \"sequential_2\"\n",
      "_________________________________________________________________\n",
      " Layer (type)                Output Shape              Param #   \n",
      "=================================================================\n",
      " lstm_6 (LSTM)               (None, 100, 50)           10400     \n",
      "                                                                 \n",
      " lstm_7 (LSTM)               (None, 100, 50)           20200     \n",
      "                                                                 \n",
      " lstm_8 (LSTM)               (None, 50)                20200     \n",
      "                                                                 \n",
      " dense_2 (Dense)             (None, 1)                 51        \n",
      "                                                                 \n",
      "=================================================================\n",
      "Total params: 50,851\n",
      "Trainable params: 50,851\n",
      "Non-trainable params: 0\n",
      "_________________________________________________________________\n"
     ]
    }
   ],
   "source": [
    "model.summary()"
   ]
  },
  {
   "cell_type": "code",
   "execution_count": 61,
   "id": "c8e6697c",
   "metadata": {
    "scrolled": true
   },
   "outputs": [
    {
     "name": "stdout",
     "output_type": "stream",
     "text": [
      "Epoch 1/100\n",
      "17/17 [==============================] - 10s 305ms/step - loss: 1.4070e-04 - val_loss: 0.1497\n",
      "Epoch 2/100\n",
      "17/17 [==============================] - 4s 233ms/step - loss: 5.2844e-05 - val_loss: 0.0663\n",
      "Epoch 3/100\n",
      "17/17 [==============================] - 4s 221ms/step - loss: 2.1489e-05 - val_loss: 0.0084\n",
      "Epoch 4/100\n",
      "17/17 [==============================] - 4s 217ms/step - loss: 1.3686e-05 - val_loss: 0.0169\n",
      "Epoch 5/100\n",
      "17/17 [==============================] - 4s 229ms/step - loss: 1.3575e-05 - val_loss: 0.0121\n",
      "Epoch 6/100\n",
      "17/17 [==============================] - 3s 200ms/step - loss: 1.2698e-05 - val_loss: 0.0097\n",
      "Epoch 7/100\n",
      "17/17 [==============================] - 3s 206ms/step - loss: 1.2339e-05 - val_loss: 0.0114\n",
      "Epoch 8/100\n",
      "17/17 [==============================] - 4s 227ms/step - loss: 1.1431e-05 - val_loss: 0.0080\n",
      "Epoch 9/100\n",
      "17/17 [==============================] - 4s 245ms/step - loss: 1.1481e-05 - val_loss: 0.0087\n",
      "Epoch 10/100\n",
      "17/17 [==============================] - 4s 234ms/step - loss: 1.1355e-05 - val_loss: 0.0074\n",
      "Epoch 11/100\n",
      "17/17 [==============================] - 3s 194ms/step - loss: 1.1571e-05 - val_loss: 0.0076\n",
      "Epoch 12/100\n",
      "17/17 [==============================] - 4s 220ms/step - loss: 1.0654e-05 - val_loss: 0.0070\n",
      "Epoch 13/100\n",
      "17/17 [==============================] - 3s 194ms/step - loss: 9.6450e-06 - val_loss: 0.0055\n",
      "Epoch 14/100\n",
      "17/17 [==============================] - 3s 191ms/step - loss: 9.6595e-06 - val_loss: 0.0046\n",
      "Epoch 15/100\n",
      "17/17 [==============================] - 5s 276ms/step - loss: 1.0413e-05 - val_loss: 0.0068\n",
      "Epoch 16/100\n",
      "17/17 [==============================] - 5s 301ms/step - loss: 9.3289e-06 - val_loss: 0.0061\n",
      "Epoch 17/100\n",
      "17/17 [==============================] - 5s 283ms/step - loss: 9.8579e-06 - val_loss: 0.0064\n",
      "Epoch 18/100\n",
      "17/17 [==============================] - 4s 225ms/step - loss: 9.6369e-06 - val_loss: 0.0041\n",
      "Epoch 19/100\n",
      "17/17 [==============================] - 4s 235ms/step - loss: 1.0117e-05 - val_loss: 0.0046\n",
      "Epoch 20/100\n",
      "17/17 [==============================] - 4s 208ms/step - loss: 8.9549e-06 - val_loss: 0.0045\n",
      "Epoch 21/100\n",
      "17/17 [==============================] - 3s 208ms/step - loss: 8.3455e-06 - val_loss: 0.0044\n",
      "Epoch 22/100\n",
      "17/17 [==============================] - 3s 196ms/step - loss: 7.9980e-06 - val_loss: 0.0036\n",
      "Epoch 23/100\n",
      "17/17 [==============================] - 4s 219ms/step - loss: 8.0729e-06 - val_loss: 0.0049\n",
      "Epoch 24/100\n",
      "17/17 [==============================] - 4s 208ms/step - loss: 8.0683e-06 - val_loss: 0.0039\n",
      "Epoch 25/100\n",
      "17/17 [==============================] - 3s 208ms/step - loss: 8.0589e-06 - val_loss: 0.0044\n",
      "Epoch 26/100\n",
      "17/17 [==============================] - 5s 303ms/step - loss: 7.7451e-06 - val_loss: 0.0037\n",
      "Epoch 27/100\n",
      "17/17 [==============================] - 4s 258ms/step - loss: 7.4363e-06 - val_loss: 0.0032\n",
      "Epoch 28/100\n",
      "17/17 [==============================] - 4s 263ms/step - loss: 1.1076e-05 - val_loss: 0.0051\n",
      "Epoch 29/100\n",
      "17/17 [==============================] - 4s 239ms/step - loss: 9.3226e-06 - val_loss: 0.0043\n",
      "Epoch 30/100\n",
      "17/17 [==============================] - 4s 239ms/step - loss: 6.9085e-06 - val_loss: 0.0027\n",
      "Epoch 31/100\n",
      "17/17 [==============================] - 4s 236ms/step - loss: 8.5333e-06 - val_loss: 0.0041\n",
      "Epoch 32/100\n",
      "17/17 [==============================] - 4s 226ms/step - loss: 1.0316e-05 - val_loss: 0.0053\n",
      "Epoch 33/100\n",
      "17/17 [==============================] - 4s 205ms/step - loss: 9.8293e-06 - val_loss: 0.0039\n",
      "Epoch 34/100\n",
      "17/17 [==============================] - 3s 206ms/step - loss: 9.0461e-06 - val_loss: 0.0032\n",
      "Epoch 35/100\n",
      "17/17 [==============================] - 4s 205ms/step - loss: 6.9362e-06 - val_loss: 0.0030\n",
      "Epoch 36/100\n",
      "17/17 [==============================] - 4s 209ms/step - loss: 6.3259e-06 - val_loss: 0.0028\n",
      "Epoch 37/100\n",
      "17/17 [==============================] - 3s 202ms/step - loss: 5.8890e-06 - val_loss: 0.0026\n",
      "Epoch 38/100\n",
      "17/17 [==============================] - 4s 213ms/step - loss: 6.4926e-06 - val_loss: 0.0036\n",
      "Epoch 39/100\n",
      "17/17 [==============================] - 3s 202ms/step - loss: 6.1187e-06 - val_loss: 0.0030\n",
      "Epoch 40/100\n",
      "17/17 [==============================] - 4s 220ms/step - loss: 6.3106e-06 - val_loss: 0.0031\n",
      "Epoch 41/100\n",
      "17/17 [==============================] - 4s 222ms/step - loss: 6.3910e-06 - val_loss: 0.0024\n",
      "Epoch 42/100\n",
      "17/17 [==============================] - 4s 215ms/step - loss: 5.5449e-06 - val_loss: 0.0027\n",
      "Epoch 43/100\n",
      "17/17 [==============================] - 4s 215ms/step - loss: 6.0716e-06 - val_loss: 0.0029\n",
      "Epoch 44/100\n",
      "17/17 [==============================] - 4s 240ms/step - loss: 5.5491e-06 - val_loss: 0.0024\n",
      "Epoch 45/100\n",
      "17/17 [==============================] - 4s 238ms/step - loss: 5.4354e-06 - val_loss: 0.0025\n",
      "Epoch 46/100\n",
      "17/17 [==============================] - 4s 226ms/step - loss: 6.5862e-06 - val_loss: 0.0024\n",
      "Epoch 47/100\n",
      "17/17 [==============================] - 4s 214ms/step - loss: 6.0504e-06 - val_loss: 0.0023\n",
      "Epoch 48/100\n",
      "17/17 [==============================] - 3s 200ms/step - loss: 5.8368e-06 - val_loss: 0.0027\n",
      "Epoch 49/100\n",
      "17/17 [==============================] - 3s 206ms/step - loss: 5.5235e-06 - val_loss: 0.0038\n",
      "Epoch 50/100\n",
      "17/17 [==============================] - 3s 206ms/step - loss: 5.4065e-06 - val_loss: 0.0016\n",
      "Epoch 51/100\n",
      "17/17 [==============================] - 4s 218ms/step - loss: 5.6429e-06 - val_loss: 0.0017\n",
      "Epoch 52/100\n",
      "17/17 [==============================] - 4s 208ms/step - loss: 8.0315e-06 - val_loss: 0.0028\n",
      "Epoch 53/100\n",
      "17/17 [==============================] - 4s 235ms/step - loss: 5.5524e-06 - val_loss: 0.0049\n",
      "Epoch 54/100\n",
      "17/17 [==============================] - 4s 222ms/step - loss: 5.2652e-06 - val_loss: 0.0018\n",
      "Epoch 55/100\n",
      "17/17 [==============================] - 4s 222ms/step - loss: 5.0215e-06 - val_loss: 0.0029\n",
      "Epoch 56/100\n",
      "17/17 [==============================] - 4s 226ms/step - loss: 4.6175e-06 - val_loss: 0.0019\n",
      "Epoch 57/100\n",
      "17/17 [==============================] - 4s 218ms/step - loss: 5.1780e-06 - val_loss: 0.0021\n",
      "Epoch 58/100\n",
      "17/17 [==============================] - 4s 213ms/step - loss: 4.5989e-06 - val_loss: 0.0030\n",
      "Epoch 59/100\n",
      "17/17 [==============================] - 4s 251ms/step - loss: 4.4616e-06 - val_loss: 0.0020\n",
      "Epoch 60/100\n",
      "17/17 [==============================] - 3s 197ms/step - loss: 4.4171e-06 - val_loss: 0.0027\n",
      "Epoch 61/100\n",
      "17/17 [==============================] - 3s 205ms/step - loss: 4.5442e-06 - val_loss: 0.0020\n",
      "Epoch 62/100\n",
      "17/17 [==============================] - 4s 232ms/step - loss: 4.4479e-06 - val_loss: 0.0016\n",
      "Epoch 63/100\n",
      "17/17 [==============================] - 4s 237ms/step - loss: 4.5145e-06 - val_loss: 0.0021\n",
      "Epoch 64/100\n",
      "17/17 [==============================] - 4s 232ms/step - loss: 4.7611e-06 - val_loss: 0.0039\n",
      "Epoch 65/100\n",
      "17/17 [==============================] - 4s 215ms/step - loss: 4.8955e-06 - val_loss: 0.0023\n",
      "Epoch 66/100\n",
      "17/17 [==============================] - 4s 218ms/step - loss: 4.8148e-06 - val_loss: 0.0018\n",
      "Epoch 67/100\n",
      "17/17 [==============================] - 3s 201ms/step - loss: 4.0839e-06 - val_loss: 0.0014\n",
      "Epoch 68/100\n",
      "17/17 [==============================] - 4s 211ms/step - loss: 4.3453e-06 - val_loss: 0.0019\n",
      "Epoch 69/100\n",
      "17/17 [==============================] - 4s 211ms/step - loss: 5.6530e-06 - val_loss: 0.0027\n",
      "Epoch 70/100\n",
      "17/17 [==============================] - 4s 245ms/step - loss: 4.4324e-06 - val_loss: 0.0021\n",
      "Epoch 71/100\n",
      "17/17 [==============================] - 4s 212ms/step - loss: 4.0741e-06 - val_loss: 0.0018\n",
      "Epoch 72/100\n",
      "17/17 [==============================] - 3s 209ms/step - loss: 4.0852e-06 - val_loss: 0.0021\n",
      "Epoch 73/100\n",
      "17/17 [==============================] - 4s 245ms/step - loss: 3.9659e-06 - val_loss: 0.0013\n",
      "Epoch 74/100\n",
      "17/17 [==============================] - 4s 215ms/step - loss: 4.5629e-06 - val_loss: 0.0014\n",
      "Epoch 75/100\n",
      "17/17 [==============================] - 4s 226ms/step - loss: 4.6165e-06 - val_loss: 0.0034\n",
      "Epoch 76/100\n",
      "17/17 [==============================] - 4s 237ms/step - loss: 5.1054e-06 - val_loss: 0.0014\n",
      "Epoch 77/100\n",
      "17/17 [==============================] - 4s 252ms/step - loss: 3.9803e-06 - val_loss: 0.0018\n",
      "Epoch 78/100\n"
     ]
    },
    {
     "name": "stdout",
     "output_type": "stream",
     "text": [
      "17/17 [==============================] - 4s 228ms/step - loss: 3.9809e-06 - val_loss: 0.0024\n",
      "Epoch 79/100\n",
      "17/17 [==============================] - 4s 227ms/step - loss: 3.7993e-06 - val_loss: 0.0017\n",
      "Epoch 80/100\n",
      "17/17 [==============================] - 6s 365ms/step - loss: 3.6770e-06 - val_loss: 0.0017\n",
      "Epoch 81/100\n",
      "17/17 [==============================] - 5s 303ms/step - loss: 3.6778e-06 - val_loss: 0.0020\n",
      "Epoch 82/100\n",
      "17/17 [==============================] - 4s 269ms/step - loss: 4.3932e-06 - val_loss: 0.0028\n",
      "Epoch 83/100\n",
      "17/17 [==============================] - 4s 244ms/step - loss: 3.8975e-06 - val_loss: 0.0016\n",
      "Epoch 84/100\n",
      "17/17 [==============================] - 4s 220ms/step - loss: 3.5577e-06 - val_loss: 0.0026\n",
      "Epoch 85/100\n",
      "17/17 [==============================] - 4s 209ms/step - loss: 4.0078e-06 - val_loss: 0.0014\n",
      "Epoch 86/100\n",
      "17/17 [==============================] - 4s 219ms/step - loss: 4.1725e-06 - val_loss: 0.0017\n",
      "Epoch 87/100\n",
      "17/17 [==============================] - 4s 233ms/step - loss: 3.7112e-06 - val_loss: 0.0019\n",
      "Epoch 88/100\n",
      "17/17 [==============================] - 4s 237ms/step - loss: 5.8044e-06 - val_loss: 0.0013\n",
      "Epoch 89/100\n",
      "17/17 [==============================] - 4s 223ms/step - loss: 4.0806e-06 - val_loss: 0.0020\n",
      "Epoch 90/100\n",
      "17/17 [==============================] - 4s 224ms/step - loss: 3.9252e-06 - val_loss: 9.1257e-04\n",
      "Epoch 91/100\n",
      "17/17 [==============================] - 4s 229ms/step - loss: 3.4243e-06 - val_loss: 0.0013\n",
      "Epoch 92/100\n",
      "17/17 [==============================] - 5s 312ms/step - loss: 3.5538e-06 - val_loss: 0.0019\n",
      "Epoch 93/100\n",
      "17/17 [==============================] - 5s 274ms/step - loss: 3.2424e-06 - val_loss: 0.0018\n",
      "Epoch 94/100\n",
      "17/17 [==============================] - 5s 286ms/step - loss: 3.2128e-06 - val_loss: 0.0034\n",
      "Epoch 95/100\n",
      "17/17 [==============================] - 4s 266ms/step - loss: 4.7232e-06 - val_loss: 0.0024\n",
      "Epoch 96/100\n",
      "17/17 [==============================] - 4s 243ms/step - loss: 3.2541e-06 - val_loss: 0.0012\n",
      "Epoch 97/100\n",
      "17/17 [==============================] - 4s 240ms/step - loss: 3.4540e-06 - val_loss: 0.0013\n",
      "Epoch 98/100\n",
      "17/17 [==============================] - 4s 246ms/step - loss: 4.3535e-06 - val_loss: 0.0017\n",
      "Epoch 99/100\n",
      "17/17 [==============================] - 5s 267ms/step - loss: 3.6018e-06 - val_loss: 0.0015\n",
      "Epoch 100/100\n",
      "17/17 [==============================] - 4s 213ms/step - loss: 3.5713e-06 - val_loss: 0.0016\n"
     ]
    },
    {
     "data": {
      "text/plain": [
       "<keras.callbacks.History at 0x29d16e16f88>"
      ]
     },
     "execution_count": 61,
     "metadata": {},
     "output_type": "execute_result"
    }
   ],
   "source": [
    "model.fit(X_train,y_train,validation_data=(X_test,ytest),epochs=100,batch_size=64,verbose=1)"
   ]
  },
  {
   "cell_type": "code",
   "execution_count": 62,
   "id": "c05c43e0",
   "metadata": {},
   "outputs": [
    {
     "data": {
      "text/plain": [
       "'2.9.0'"
      ]
     },
     "execution_count": 62,
     "metadata": {},
     "output_type": "execute_result"
    }
   ],
   "source": [
    "import tensorflow as tf\n",
    "tf.__version__"
   ]
  },
  {
   "cell_type": "code",
   "execution_count": 63,
   "id": "d4dd4ad2",
   "metadata": {},
   "outputs": [
    {
     "name": "stdout",
     "output_type": "stream",
     "text": [
      "33/33 [==============================] - 4s 47ms/step\n",
      "17/17 [==============================] - 1s 40ms/step\n"
     ]
    }
   ],
   "source": [
    "###Do the prediction and check performance metrics\n",
    "train_predict=model.predict(X_train)\n",
    "test_predict=model.predict(X_test)"
   ]
  },
  {
   "cell_type": "code",
   "execution_count": 64,
   "id": "c196d36e",
   "metadata": {},
   "outputs": [],
   "source": [
    "##Transformback to original form\n",
    "train_predict=scaler.inverse_transform(train_predict)\n",
    "test_predict=scaler.inverse_transform(test_predict)"
   ]
  },
  {
   "cell_type": "code",
   "execution_count": 65,
   "id": "1a6fe236",
   "metadata": {},
   "outputs": [
    {
     "data": {
      "text/plain": [
       "56.3417876662996"
      ]
     },
     "execution_count": 65,
     "metadata": {},
     "output_type": "execute_result"
    }
   ],
   "source": [
    "### Calculate RMSE performance metrics\n",
    "import math\n",
    "from sklearn.metrics import mean_squared_error\n",
    "math.sqrt(mean_squared_error(y_train,train_predict))"
   ]
  },
  {
   "cell_type": "code",
   "execution_count": 66,
   "id": "aea74e03",
   "metadata": {},
   "outputs": [
    {
     "data": {
      "text/plain": [
       "565.1234990101754"
      ]
     },
     "execution_count": 66,
     "metadata": {},
     "output_type": "execute_result"
    }
   ],
   "source": [
    "### Test Data RMSE\n",
    "math.sqrt(mean_squared_error(ytest,test_predict))"
   ]
  },
  {
   "cell_type": "code",
   "execution_count": 67,
   "id": "fcb97f90",
   "metadata": {},
   "outputs": [
    {
     "name": "stderr",
     "output_type": "stream",
     "text": [
      "c:\\users\\lavaa\\appdata\\local\\programs\\python\\python37\\lib\\site-packages\\ipykernel_launcher.py:15: UserWarning:\n",
      "\n",
      "Matplotlib is currently using agg, which is a non-GUI backend, so cannot show the figure.\n",
      "\n"
     ]
    },
    {
     "data": {
<<<<<<< Updated upstream
      "image/png": "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\n",
=======
      "image/png": "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",
>>>>>>> Stashed changes
      "text/plain": [
       "<Figure size 432x288 with 1 Axes>"
      ]
     },
     "metadata": {
      "needs_background": "light"
     },
     "output_type": "display_data"
    }
   ],
   "source": [
    "### Plotting \n",
    "# shift train predictions for plotting\n",
    "look_back=100\n",
    "trainPredictPlot = numpy.empty_like(df1)\n",
    "trainPredictPlot[:, :] = np.nan\n",
    "trainPredictPlot[look_back:len(train_predict)+look_back, :] = train_predict\n",
    "# shift test predictions for plotting\n",
    "testPredictPlot = numpy.empty_like(df1)\n",
    "testPredictPlot[:, :] = numpy.nan\n",
    "testPredictPlot[len(train_predict)+(look_back*2)+1:len(df1)-1, :] = test_predict\n",
    "# plot baseline and predictions\n",
    "plt.plot(scaler.inverse_transform(df1))\n",
    "plt.plot(trainPredictPlot)\n",
    "plt.plot(testPredictPlot)\n",
    "plt.show()"
   ]
  },
  {
   "cell_type": "code",
   "execution_count": 68,
   "id": "b0758838",
   "metadata": {},
   "outputs": [
    {
     "data": {
      "text/plain": [
       "618"
      ]
     },
     "execution_count": 68,
     "metadata": {},
     "output_type": "execute_result"
    }
   ],
   "source": [
    "len(test_data)"
   ]
  },
  {
   "cell_type": "code",
   "execution_count": 69,
   "id": "a1bffef8",
   "metadata": {},
   "outputs": [
    {
     "data": {
      "text/plain": [
       "(1, 100)"
      ]
     },
     "execution_count": 69,
     "metadata": {},
     "output_type": "execute_result"
    }
   ],
   "source": [
    "x_input=test_data[518:].reshape(1,-1)\n",
    "x_input.shape"
   ]
  },
  {
   "cell_type": "code",
   "execution_count": 70,
   "id": "df2b3dcf",
   "metadata": {},
   "outputs": [],
   "source": [
    "temp_input=list(x_input)\n",
    "temp_input=temp_input[0].tolist()"
   ]
  },
  {
   "cell_type": "code",
   "execution_count": 71,
   "id": "07b9f814",
   "metadata": {},
   "outputs": [
    {
     "data": {
      "text/plain": [
       "[0.5653509463439819,\n",
       " 0.5773641669346289,\n",
       " 0.5731349641016312,\n",
       " 0.5473269233993586,\n",
       " 0.5302936490560712,\n",
       " 0.5496746286833633,\n",
       " 0.5367539417232805,\n",
       " 0.5424067676747327,\n",
       " 0.5640855035720223,\n",
       " 0.5659087188025348,\n",
       " 0.5681648593629982,\n",
       " 0.5598063517250172,\n",
       " 0.5687642475310851,\n",
       " 0.5845737456247789,\n",
       " 0.588578152488328,\n",
       " 0.5872211958056592,\n",
       " 0.5858059059916778,\n",
       " 0.5867882704757084,\n",
       " 0.6028974626534457,\n",
       " 0.6036883643859204,\n",
       " 0.604512548523456,\n",
       " 0.5890360777316985,\n",
       " 0.5946389038563115,\n",
       " 0.5958793467148514,\n",
       " 0.6053201168648773,\n",
       " 0.6062858147399613,\n",
       " 0.6083671083449833,\n",
       " 0.5839576908477456,\n",
       " 0.5916251947812662,\n",
       " 0.6020816118203833,\n",
       " 0.6034969016343648,\n",
       " 0.6207716385560472,\n",
       " 0.634899435156777,\n",
       " 0.6234107046196221,\n",
       " 0.6265326450271551,\n",
       " 0.6216790541126508,\n",
       " 0.6214625914476753,\n",
       " 0.6267158252870697,\n",
       " 0.6259332568590682,\n",
       " 0.6277314721761611,\n",
       " 0.6367725994012968,\n",
       " 0.630012561837212,\n",
       " 0.6353823095007352,\n",
       " 0.6468543734289437,\n",
       " 0.6513167055358632,\n",
       " 0.6573441236859537,\n",
       " 0.6779156479706107,\n",
       " 0.7004601837149697,\n",
       " 0.6955983103088244,\n",
       " 0.696872035572425,\n",
       " 0.7203490375996395,\n",
       " 0.7334029049927976,\n",
       " 0.8292922578658308,\n",
       " 0.8239391768112541,\n",
       " 0.8401149846119451,\n",
       " 0.8727330627051421,\n",
       " 0.9035028748415745,\n",
       " 0.9822506712260004,\n",
       " 0.9517888864780847,\n",
       " 0.9866380544054931,\n",
       " 1.0,\n",
       " 0.9934896566931193,\n",
       " 0.9442462296731661,\n",
       " 0.8281600463397786,\n",
       " 0.8651654059868038,\n",
       " 0.8614690773246036,\n",
       " 0.836418655949745,\n",
       " 0.8197433071961494,\n",
       " 0.854159549793607,\n",
       " 0.8826982720958279,\n",
       " 0.8888339215784061,\n",
       " 0.9227007758346162,\n",
       " 0.939192893515465,\n",
       " 0.8993652875449503,\n",
       " 0.9051679097255921,\n",
       " 0.8767957518871715,\n",
       " 0.9226424427033036,\n",
       " 0.9291111194878182,\n",
       " 0.8876850434434074,\n",
       " 0.8790268417213831,\n",
       " 0.8210586481692841,\n",
       " 0.8160968767351242,\n",
       " 0.851678664076527,\n",
       " 0.8660062567332858,\n",
       " 0.8117594425696388,\n",
       " 0.8227736828801411,\n",
       " 0.7806316032178503,\n",
       " 0.7740547459136801,\n",
       " 0.7886071345398875,\n",
       " 0.7477554975629761,\n",
       " 0.7524592414354586,\n",
       " 0.7252941932376851,\n",
       " 0.7574210636824507,\n",
       " 0.8159803120981634,\n",
       " 0.8643745550671611,\n",
       " 0.8868025261745592,\n",
       " 0.8822486801569306,\n",
       " 0.8803505159989911,\n",
       " 0.8671551348682845,\n",
       " 0.8558662511999907]"
      ]
     },
     "execution_count": 71,
     "metadata": {},
     "output_type": "execute_result"
    }
   ],
   "source": [
    "temp_input"
   ]
  },
  {
   "cell_type": "code",
   "execution_count": 72,
   "id": "b614b45f",
   "metadata": {},
   "outputs": [
    {
     "name": "stdout",
     "output_type": "stream",
     "text": [
      "[0.8132129]\n",
      "101\n",
      "1 day input [0.57736417 0.57313496 0.54732692 0.53029365 0.54967463 0.53675394\n",
      " 0.54240677 0.5640855  0.56590872 0.56816486 0.55980635 0.56876425\n",
      " 0.58457375 0.58857815 0.5872212  0.58580591 0.58678827 0.60289746\n",
      " 0.60368836 0.60451255 0.58903608 0.5946389  0.59587935 0.60532012\n",
      " 0.60628581 0.60836711 0.58395769 0.59162519 0.60208161 0.6034969\n",
      " 0.62077164 0.63489944 0.6234107  0.62653265 0.62167905 0.62146259\n",
      " 0.62671583 0.62593326 0.62773147 0.6367726  0.63001256 0.63538231\n",
      " 0.64685437 0.65131671 0.65734412 0.67791565 0.70046018 0.69559831\n",
      " 0.69687204 0.72034904 0.7334029  0.82929226 0.82393918 0.84011498\n",
      " 0.87273306 0.90350287 0.98225067 0.95178889 0.98663805 1.\n",
      " 0.99348966 0.94424623 0.82816005 0.86516541 0.86146908 0.83641866\n",
      " 0.81974331 0.85415955 0.88269827 0.88883392 0.92270078 0.93919289\n",
      " 0.89936529 0.90516791 0.87679575 0.92264244 0.92911112 0.88768504\n",
      " 0.87902684 0.82105865 0.81609688 0.85167866 0.86600626 0.81175944\n",
      " 0.82277368 0.7806316  0.77405475 0.78860713 0.7477555  0.75245924\n",
      " 0.72529419 0.75742106 0.81598031 0.86437456 0.88680253 0.88224868\n",
      " 0.88035052 0.86715513 0.85586625 0.81321287]\n",
      "1 day output [[0.7969443]]\n",
      "2 day input [0.57313496 0.54732692 0.53029365 0.54967463 0.53675394 0.54240677\n",
      " 0.5640855  0.56590872 0.56816486 0.55980635 0.56876425 0.58457375\n",
      " 0.58857815 0.5872212  0.58580591 0.58678827 0.60289746 0.60368836\n",
      " 0.60451255 0.58903608 0.5946389  0.59587935 0.60532012 0.60628581\n",
      " 0.60836711 0.58395769 0.59162519 0.60208161 0.6034969  0.62077164\n",
      " 0.63489944 0.6234107  0.62653265 0.62167905 0.62146259 0.62671583\n",
      " 0.62593326 0.62773147 0.6367726  0.63001256 0.63538231 0.64685437\n",
      " 0.65131671 0.65734412 0.67791565 0.70046018 0.69559831 0.69687204\n",
      " 0.72034904 0.7334029  0.82929226 0.82393918 0.84011498 0.87273306\n",
      " 0.90350287 0.98225067 0.95178889 0.98663805 1.         0.99348966\n",
      " 0.94424623 0.82816005 0.86516541 0.86146908 0.83641866 0.81974331\n",
      " 0.85415955 0.88269827 0.88883392 0.92270078 0.93919289 0.89936529\n",
      " 0.90516791 0.87679575 0.92264244 0.92911112 0.88768504 0.87902684\n",
      " 0.82105865 0.81609688 0.85167866 0.86600626 0.81175944 0.82277368\n",
      " 0.7806316  0.77405475 0.78860713 0.7477555  0.75245924 0.72529419\n",
      " 0.75742106 0.81598031 0.86437456 0.88680253 0.88224868 0.88035052\n",
      " 0.86715513 0.85586625 0.81321287 0.79694432]\n",
      "2 day output [[0.77448034]]\n",
      "3 day input [0.54732692 0.53029365 0.54967463 0.53675394 0.54240677 0.5640855\n",
      " 0.56590872 0.56816486 0.55980635 0.56876425 0.58457375 0.58857815\n",
      " 0.5872212  0.58580591 0.58678827 0.60289746 0.60368836 0.60451255\n",
      " 0.58903608 0.5946389  0.59587935 0.60532012 0.60628581 0.60836711\n",
      " 0.58395769 0.59162519 0.60208161 0.6034969  0.62077164 0.63489944\n",
      " 0.6234107  0.62653265 0.62167905 0.62146259 0.62671583 0.62593326\n",
      " 0.62773147 0.6367726  0.63001256 0.63538231 0.64685437 0.65131671\n",
      " 0.65734412 0.67791565 0.70046018 0.69559831 0.69687204 0.72034904\n",
      " 0.7334029  0.82929226 0.82393918 0.84011498 0.87273306 0.90350287\n",
      " 0.98225067 0.95178889 0.98663805 1.         0.99348966 0.94424623\n",
      " 0.82816005 0.86516541 0.86146908 0.83641866 0.81974331 0.85415955\n",
      " 0.88269827 0.88883392 0.92270078 0.93919289 0.89936529 0.90516791\n",
      " 0.87679575 0.92264244 0.92911112 0.88768504 0.87902684 0.82105865\n",
      " 0.81609688 0.85167866 0.86600626 0.81175944 0.82277368 0.7806316\n",
      " 0.77405475 0.78860713 0.7477555  0.75245924 0.72529419 0.75742106\n",
      " 0.81598031 0.86437456 0.88680253 0.88224868 0.88035052 0.86715513\n",
      " 0.85586625 0.81321287 0.79694432 0.77448034]\n",
      "3 day output [[0.74978906]]\n",
      "4 day input [0.53029365 0.54967463 0.53675394 0.54240677 0.5640855  0.56590872\n",
      " 0.56816486 0.55980635 0.56876425 0.58457375 0.58857815 0.5872212\n",
      " 0.58580591 0.58678827 0.60289746 0.60368836 0.60451255 0.58903608\n",
      " 0.5946389  0.59587935 0.60532012 0.60628581 0.60836711 0.58395769\n",
      " 0.59162519 0.60208161 0.6034969  0.62077164 0.63489944 0.6234107\n",
      " 0.62653265 0.62167905 0.62146259 0.62671583 0.62593326 0.62773147\n",
      " 0.6367726  0.63001256 0.63538231 0.64685437 0.65131671 0.65734412\n",
      " 0.67791565 0.70046018 0.69559831 0.69687204 0.72034904 0.7334029\n",
      " 0.82929226 0.82393918 0.84011498 0.87273306 0.90350287 0.98225067\n",
      " 0.95178889 0.98663805 1.         0.99348966 0.94424623 0.82816005\n",
      " 0.86516541 0.86146908 0.83641866 0.81974331 0.85415955 0.88269827\n",
      " 0.88883392 0.92270078 0.93919289 0.89936529 0.90516791 0.87679575\n",
      " 0.92264244 0.92911112 0.88768504 0.87902684 0.82105865 0.81609688\n",
      " 0.85167866 0.86600626 0.81175944 0.82277368 0.7806316  0.77405475\n",
      " 0.78860713 0.7477555  0.75245924 0.72529419 0.75742106 0.81598031\n",
      " 0.86437456 0.88680253 0.88224868 0.88035052 0.86715513 0.85586625\n",
      " 0.81321287 0.79694432 0.77448034 0.74978906]\n",
      "4 day output [[0.72502905]]\n",
      "5 day input [0.54967463 0.53675394 0.54240677 0.5640855  0.56590872 0.56816486\n",
      " 0.55980635 0.56876425 0.58457375 0.58857815 0.5872212  0.58580591\n",
      " 0.58678827 0.60289746 0.60368836 0.60451255 0.58903608 0.5946389\n",
      " 0.59587935 0.60532012 0.60628581 0.60836711 0.58395769 0.59162519\n",
      " 0.60208161 0.6034969  0.62077164 0.63489944 0.6234107  0.62653265\n",
      " 0.62167905 0.62146259 0.62671583 0.62593326 0.62773147 0.6367726\n",
      " 0.63001256 0.63538231 0.64685437 0.65131671 0.65734412 0.67791565\n",
      " 0.70046018 0.69559831 0.69687204 0.72034904 0.7334029  0.82929226\n",
      " 0.82393918 0.84011498 0.87273306 0.90350287 0.98225067 0.95178889\n",
      " 0.98663805 1.         0.99348966 0.94424623 0.82816005 0.86516541\n",
      " 0.86146908 0.83641866 0.81974331 0.85415955 0.88269827 0.88883392\n",
      " 0.92270078 0.93919289 0.89936529 0.90516791 0.87679575 0.92264244\n",
      " 0.92911112 0.88768504 0.87902684 0.82105865 0.81609688 0.85167866\n",
      " 0.86600626 0.81175944 0.82277368 0.7806316  0.77405475 0.78860713\n",
      " 0.7477555  0.75245924 0.72529419 0.75742106 0.81598031 0.86437456\n",
      " 0.88680253 0.88224868 0.88035052 0.86715513 0.85586625 0.81321287\n",
      " 0.79694432 0.77448034 0.74978906 0.72502905]\n",
      "5 day output [[0.70123553]]\n",
      "6 day input [0.53675394 0.54240677 0.5640855  0.56590872 0.56816486 0.55980635\n",
      " 0.56876425 0.58457375 0.58857815 0.5872212  0.58580591 0.58678827\n",
      " 0.60289746 0.60368836 0.60451255 0.58903608 0.5946389  0.59587935\n",
      " 0.60532012 0.60628581 0.60836711 0.58395769 0.59162519 0.60208161\n",
      " 0.6034969  0.62077164 0.63489944 0.6234107  0.62653265 0.62167905\n",
      " 0.62146259 0.62671583 0.62593326 0.62773147 0.6367726  0.63001256\n",
      " 0.63538231 0.64685437 0.65131671 0.65734412 0.67791565 0.70046018\n",
      " 0.69559831 0.69687204 0.72034904 0.7334029  0.82929226 0.82393918\n",
      " 0.84011498 0.87273306 0.90350287 0.98225067 0.95178889 0.98663805\n",
      " 1.         0.99348966 0.94424623 0.82816005 0.86516541 0.86146908\n",
      " 0.83641866 0.81974331 0.85415955 0.88269827 0.88883392 0.92270078\n",
      " 0.93919289 0.89936529 0.90516791 0.87679575 0.92264244 0.92911112\n",
      " 0.88768504 0.87902684 0.82105865 0.81609688 0.85167866 0.86600626\n",
      " 0.81175944 0.82277368 0.7806316  0.77405475 0.78860713 0.7477555\n",
      " 0.75245924 0.72529419 0.75742106 0.81598031 0.86437456 0.88680253\n",
      " 0.88224868 0.88035052 0.86715513 0.85586625 0.81321287 0.79694432\n",
      " 0.77448034 0.74978906 0.72502905 0.70123553]\n",
      "6 day output [[0.6789025]]\n",
      "7 day input [0.54240677 0.5640855  0.56590872 0.56816486 0.55980635 0.56876425\n",
      " 0.58457375 0.58857815 0.5872212  0.58580591 0.58678827 0.60289746\n",
      " 0.60368836 0.60451255 0.58903608 0.5946389  0.59587935 0.60532012\n",
      " 0.60628581 0.60836711 0.58395769 0.59162519 0.60208161 0.6034969\n",
      " 0.62077164 0.63489944 0.6234107  0.62653265 0.62167905 0.62146259\n",
      " 0.62671583 0.62593326 0.62773147 0.6367726  0.63001256 0.63538231\n",
      " 0.64685437 0.65131671 0.65734412 0.67791565 0.70046018 0.69559831\n",
      " 0.69687204 0.72034904 0.7334029  0.82929226 0.82393918 0.84011498\n",
      " 0.87273306 0.90350287 0.98225067 0.95178889 0.98663805 1.\n",
      " 0.99348966 0.94424623 0.82816005 0.86516541 0.86146908 0.83641866\n",
      " 0.81974331 0.85415955 0.88269827 0.88883392 0.92270078 0.93919289\n",
      " 0.89936529 0.90516791 0.87679575 0.92264244 0.92911112 0.88768504\n",
      " 0.87902684 0.82105865 0.81609688 0.85167866 0.86600626 0.81175944\n",
      " 0.82277368 0.7806316  0.77405475 0.78860713 0.7477555  0.75245924\n",
      " 0.72529419 0.75742106 0.81598031 0.86437456 0.88680253 0.88224868\n",
      " 0.88035052 0.86715513 0.85586625 0.81321287 0.79694432 0.77448034\n",
      " 0.74978906 0.72502905 0.70123553 0.67890251]\n",
      "7 day output [[0.6582699]]\n",
      "8 day input [0.5640855  0.56590872 0.56816486 0.55980635 0.56876425 0.58457375\n",
      " 0.58857815 0.5872212  0.58580591 0.58678827 0.60289746 0.60368836\n",
      " 0.60451255 0.58903608 0.5946389  0.59587935 0.60532012 0.60628581\n",
      " 0.60836711 0.58395769 0.59162519 0.60208161 0.6034969  0.62077164\n",
      " 0.63489944 0.6234107  0.62653265 0.62167905 0.62146259 0.62671583\n",
      " 0.62593326 0.62773147 0.6367726  0.63001256 0.63538231 0.64685437\n",
      " 0.65131671 0.65734412 0.67791565 0.70046018 0.69559831 0.69687204\n",
      " 0.72034904 0.7334029  0.82929226 0.82393918 0.84011498 0.87273306\n",
      " 0.90350287 0.98225067 0.95178889 0.98663805 1.         0.99348966\n",
      " 0.94424623 0.82816005 0.86516541 0.86146908 0.83641866 0.81974331\n",
      " 0.85415955 0.88269827 0.88883392 0.92270078 0.93919289 0.89936529\n",
      " 0.90516791 0.87679575 0.92264244 0.92911112 0.88768504 0.87902684\n",
      " 0.82105865 0.81609688 0.85167866 0.86600626 0.81175944 0.82277368\n",
      " 0.7806316  0.77405475 0.78860713 0.7477555  0.75245924 0.72529419\n",
      " 0.75742106 0.81598031 0.86437456 0.88680253 0.88224868 0.88035052\n",
      " 0.86715513 0.85586625 0.81321287 0.79694432 0.77448034 0.74978906\n",
      " 0.72502905 0.70123553 0.67890251 0.65826988]\n",
      "8 day output [[0.639432]]\n",
      "9 day input [0.56590872 0.56816486 0.55980635 0.56876425 0.58457375 0.58857815\n",
      " 0.5872212  0.58580591 0.58678827 0.60289746 0.60368836 0.60451255\n",
      " 0.58903608 0.5946389  0.59587935 0.60532012 0.60628581 0.60836711\n",
      " 0.58395769 0.59162519 0.60208161 0.6034969  0.62077164 0.63489944\n",
      " 0.6234107  0.62653265 0.62167905 0.62146259 0.62671583 0.62593326\n",
      " 0.62773147 0.6367726  0.63001256 0.63538231 0.64685437 0.65131671\n",
      " 0.65734412 0.67791565 0.70046018 0.69559831 0.69687204 0.72034904\n",
      " 0.7334029  0.82929226 0.82393918 0.84011498 0.87273306 0.90350287\n",
      " 0.98225067 0.95178889 0.98663805 1.         0.99348966 0.94424623\n",
      " 0.82816005 0.86516541 0.86146908 0.83641866 0.81974331 0.85415955\n",
      " 0.88269827 0.88883392 0.92270078 0.93919289 0.89936529 0.90516791\n",
      " 0.87679575 0.92264244 0.92911112 0.88768504 0.87902684 0.82105865\n",
      " 0.81609688 0.85167866 0.86600626 0.81175944 0.82277368 0.7806316\n",
      " 0.77405475 0.78860713 0.7477555  0.75245924 0.72529419 0.75742106\n",
      " 0.81598031 0.86437456 0.88680253 0.88224868 0.88035052 0.86715513\n",
      " 0.85586625 0.81321287 0.79694432 0.77448034 0.74978906 0.72502905\n",
      " 0.70123553 0.67890251 0.65826988 0.63943201]\n"
     ]
    },
    {
     "name": "stdout",
     "output_type": "stream",
     "text": [
      "9 day output [[0.62237656]]\n",
      "10 day input [0.56816486 0.55980635 0.56876425 0.58457375 0.58857815 0.5872212\n",
      " 0.58580591 0.58678827 0.60289746 0.60368836 0.60451255 0.58903608\n",
      " 0.5946389  0.59587935 0.60532012 0.60628581 0.60836711 0.58395769\n",
      " 0.59162519 0.60208161 0.6034969  0.62077164 0.63489944 0.6234107\n",
      " 0.62653265 0.62167905 0.62146259 0.62671583 0.62593326 0.62773147\n",
      " 0.6367726  0.63001256 0.63538231 0.64685437 0.65131671 0.65734412\n",
      " 0.67791565 0.70046018 0.69559831 0.69687204 0.72034904 0.7334029\n",
      " 0.82929226 0.82393918 0.84011498 0.87273306 0.90350287 0.98225067\n",
      " 0.95178889 0.98663805 1.         0.99348966 0.94424623 0.82816005\n",
      " 0.86516541 0.86146908 0.83641866 0.81974331 0.85415955 0.88269827\n",
      " 0.88883392 0.92270078 0.93919289 0.89936529 0.90516791 0.87679575\n",
      " 0.92264244 0.92911112 0.88768504 0.87902684 0.82105865 0.81609688\n",
      " 0.85167866 0.86600626 0.81175944 0.82277368 0.7806316  0.77405475\n",
      " 0.78860713 0.7477555  0.75245924 0.72529419 0.75742106 0.81598031\n",
      " 0.86437456 0.88680253 0.88224868 0.88035052 0.86715513 0.85586625\n",
      " 0.81321287 0.79694432 0.77448034 0.74978906 0.72502905 0.70123553\n",
      " 0.67890251 0.65826988 0.63943201 0.62237656]\n",
      "10 day output [[0.6070065]]\n",
      "11 day input [0.55980635 0.56876425 0.58457375 0.58857815 0.5872212  0.58580591\n",
      " 0.58678827 0.60289746 0.60368836 0.60451255 0.58903608 0.5946389\n",
      " 0.59587935 0.60532012 0.60628581 0.60836711 0.58395769 0.59162519\n",
      " 0.60208161 0.6034969  0.62077164 0.63489944 0.6234107  0.62653265\n",
      " 0.62167905 0.62146259 0.62671583 0.62593326 0.62773147 0.6367726\n",
      " 0.63001256 0.63538231 0.64685437 0.65131671 0.65734412 0.67791565\n",
      " 0.70046018 0.69559831 0.69687204 0.72034904 0.7334029  0.82929226\n",
      " 0.82393918 0.84011498 0.87273306 0.90350287 0.98225067 0.95178889\n",
      " 0.98663805 1.         0.99348966 0.94424623 0.82816005 0.86516541\n",
      " 0.86146908 0.83641866 0.81974331 0.85415955 0.88269827 0.88883392\n",
      " 0.92270078 0.93919289 0.89936529 0.90516791 0.87679575 0.92264244\n",
      " 0.92911112 0.88768504 0.87902684 0.82105865 0.81609688 0.85167866\n",
      " 0.86600626 0.81175944 0.82277368 0.7806316  0.77405475 0.78860713\n",
      " 0.7477555  0.75245924 0.72529419 0.75742106 0.81598031 0.86437456\n",
      " 0.88680253 0.88224868 0.88035052 0.86715513 0.85586625 0.81321287\n",
      " 0.79694432 0.77448034 0.74978906 0.72502905 0.70123553 0.67890251\n",
      " 0.65826988 0.63943201 0.62237656 0.60700649]\n",
      "11 day output [[0.59316015]]\n",
      "12 day input [0.56876425 0.58457375 0.58857815 0.5872212  0.58580591 0.58678827\n",
      " 0.60289746 0.60368836 0.60451255 0.58903608 0.5946389  0.59587935\n",
      " 0.60532012 0.60628581 0.60836711 0.58395769 0.59162519 0.60208161\n",
      " 0.6034969  0.62077164 0.63489944 0.6234107  0.62653265 0.62167905\n",
      " 0.62146259 0.62671583 0.62593326 0.62773147 0.6367726  0.63001256\n",
      " 0.63538231 0.64685437 0.65131671 0.65734412 0.67791565 0.70046018\n",
      " 0.69559831 0.69687204 0.72034904 0.7334029  0.82929226 0.82393918\n",
      " 0.84011498 0.87273306 0.90350287 0.98225067 0.95178889 0.98663805\n",
      " 1.         0.99348966 0.94424623 0.82816005 0.86516541 0.86146908\n",
      " 0.83641866 0.81974331 0.85415955 0.88269827 0.88883392 0.92270078\n",
      " 0.93919289 0.89936529 0.90516791 0.87679575 0.92264244 0.92911112\n",
      " 0.88768504 0.87902684 0.82105865 0.81609688 0.85167866 0.86600626\n",
      " 0.81175944 0.82277368 0.7806316  0.77405475 0.78860713 0.7477555\n",
      " 0.75245924 0.72529419 0.75742106 0.81598031 0.86437456 0.88680253\n",
      " 0.88224868 0.88035052 0.86715513 0.85586625 0.81321287 0.79694432\n",
      " 0.77448034 0.74978906 0.72502905 0.70123553 0.67890251 0.65826988\n",
      " 0.63943201 0.62237656 0.60700649 0.59316015]\n",
      "12 day output [[0.58063483]]\n",
      "13 day input [0.58457375 0.58857815 0.5872212  0.58580591 0.58678827 0.60289746\n",
      " 0.60368836 0.60451255 0.58903608 0.5946389  0.59587935 0.60532012\n",
      " 0.60628581 0.60836711 0.58395769 0.59162519 0.60208161 0.6034969\n",
      " 0.62077164 0.63489944 0.6234107  0.62653265 0.62167905 0.62146259\n",
      " 0.62671583 0.62593326 0.62773147 0.6367726  0.63001256 0.63538231\n",
      " 0.64685437 0.65131671 0.65734412 0.67791565 0.70046018 0.69559831\n",
      " 0.69687204 0.72034904 0.7334029  0.82929226 0.82393918 0.84011498\n",
      " 0.87273306 0.90350287 0.98225067 0.95178889 0.98663805 1.\n",
      " 0.99348966 0.94424623 0.82816005 0.86516541 0.86146908 0.83641866\n",
      " 0.81974331 0.85415955 0.88269827 0.88883392 0.92270078 0.93919289\n",
      " 0.89936529 0.90516791 0.87679575 0.92264244 0.92911112 0.88768504\n",
      " 0.87902684 0.82105865 0.81609688 0.85167866 0.86600626 0.81175944\n",
      " 0.82277368 0.7806316  0.77405475 0.78860713 0.7477555  0.75245924\n",
      " 0.72529419 0.75742106 0.81598031 0.86437456 0.88680253 0.88224868\n",
      " 0.88035052 0.86715513 0.85586625 0.81321287 0.79694432 0.77448034\n",
      " 0.74978906 0.72502905 0.70123553 0.67890251 0.65826988 0.63943201\n",
      " 0.62237656 0.60700649 0.59316015 0.58063483]\n",
      "13 day output [[0.5692079]]\n",
      "14 day input [0.58857815 0.5872212  0.58580591 0.58678827 0.60289746 0.60368836\n",
      " 0.60451255 0.58903608 0.5946389  0.59587935 0.60532012 0.60628581\n",
      " 0.60836711 0.58395769 0.59162519 0.60208161 0.6034969  0.62077164\n",
      " 0.63489944 0.6234107  0.62653265 0.62167905 0.62146259 0.62671583\n",
      " 0.62593326 0.62773147 0.6367726  0.63001256 0.63538231 0.64685437\n",
      " 0.65131671 0.65734412 0.67791565 0.70046018 0.69559831 0.69687204\n",
      " 0.72034904 0.7334029  0.82929226 0.82393918 0.84011498 0.87273306\n",
      " 0.90350287 0.98225067 0.95178889 0.98663805 1.         0.99348966\n",
      " 0.94424623 0.82816005 0.86516541 0.86146908 0.83641866 0.81974331\n",
      " 0.85415955 0.88269827 0.88883392 0.92270078 0.93919289 0.89936529\n",
      " 0.90516791 0.87679575 0.92264244 0.92911112 0.88768504 0.87902684\n",
      " 0.82105865 0.81609688 0.85167866 0.86600626 0.81175944 0.82277368\n",
      " 0.7806316  0.77405475 0.78860713 0.7477555  0.75245924 0.72529419\n",
      " 0.75742106 0.81598031 0.86437456 0.88680253 0.88224868 0.88035052\n",
      " 0.86715513 0.85586625 0.81321287 0.79694432 0.77448034 0.74978906\n",
      " 0.72502905 0.70123553 0.67890251 0.65826988 0.63943201 0.62237656\n",
      " 0.60700649 0.59316015 0.58063483 0.56920791]\n",
      "14 day output [[0.55865633]]\n",
      "15 day input [0.5872212  0.58580591 0.58678827 0.60289746 0.60368836 0.60451255\n",
      " 0.58903608 0.5946389  0.59587935 0.60532012 0.60628581 0.60836711\n",
      " 0.58395769 0.59162519 0.60208161 0.6034969  0.62077164 0.63489944\n",
      " 0.6234107  0.62653265 0.62167905 0.62146259 0.62671583 0.62593326\n",
      " 0.62773147 0.6367726  0.63001256 0.63538231 0.64685437 0.65131671\n",
      " 0.65734412 0.67791565 0.70046018 0.69559831 0.69687204 0.72034904\n",
      " 0.7334029  0.82929226 0.82393918 0.84011498 0.87273306 0.90350287\n",
      " 0.98225067 0.95178889 0.98663805 1.         0.99348966 0.94424623\n",
      " 0.82816005 0.86516541 0.86146908 0.83641866 0.81974331 0.85415955\n",
      " 0.88269827 0.88883392 0.92270078 0.93919289 0.89936529 0.90516791\n",
      " 0.87679575 0.92264244 0.92911112 0.88768504 0.87902684 0.82105865\n",
      " 0.81609688 0.85167866 0.86600626 0.81175944 0.82277368 0.7806316\n",
      " 0.77405475 0.78860713 0.7477555  0.75245924 0.72529419 0.75742106\n",
      " 0.81598031 0.86437456 0.88680253 0.88224868 0.88035052 0.86715513\n",
      " 0.85586625 0.81321287 0.79694432 0.77448034 0.74978906 0.72502905\n",
      " 0.70123553 0.67890251 0.65826988 0.63943201 0.62237656 0.60700649\n",
      " 0.59316015 0.58063483 0.56920791 0.55865633]\n",
      "15 day output [[0.54877216]]\n",
      "16 day input [0.58580591 0.58678827 0.60289746 0.60368836 0.60451255 0.58903608\n",
      " 0.5946389  0.59587935 0.60532012 0.60628581 0.60836711 0.58395769\n",
      " 0.59162519 0.60208161 0.6034969  0.62077164 0.63489944 0.6234107\n",
      " 0.62653265 0.62167905 0.62146259 0.62671583 0.62593326 0.62773147\n",
      " 0.6367726  0.63001256 0.63538231 0.64685437 0.65131671 0.65734412\n",
      " 0.67791565 0.70046018 0.69559831 0.69687204 0.72034904 0.7334029\n",
      " 0.82929226 0.82393918 0.84011498 0.87273306 0.90350287 0.98225067\n",
      " 0.95178889 0.98663805 1.         0.99348966 0.94424623 0.82816005\n",
      " 0.86516541 0.86146908 0.83641866 0.81974331 0.85415955 0.88269827\n",
      " 0.88883392 0.92270078 0.93919289 0.89936529 0.90516791 0.87679575\n",
      " 0.92264244 0.92911112 0.88768504 0.87902684 0.82105865 0.81609688\n",
      " 0.85167866 0.86600626 0.81175944 0.82277368 0.7806316  0.77405475\n",
      " 0.78860713 0.7477555  0.75245924 0.72529419 0.75742106 0.81598031\n",
      " 0.86437456 0.88680253 0.88224868 0.88035052 0.86715513 0.85586625\n",
      " 0.81321287 0.79694432 0.77448034 0.74978906 0.72502905 0.70123553\n",
      " 0.67890251 0.65826988 0.63943201 0.62237656 0.60700649 0.59316015\n",
      " 0.58063483 0.56920791 0.55865633 0.54877216]\n",
      "16 day output [[0.53937274]]\n",
      "17 day input [0.58678827 0.60289746 0.60368836 0.60451255 0.58903608 0.5946389\n",
      " 0.59587935 0.60532012 0.60628581 0.60836711 0.58395769 0.59162519\n",
      " 0.60208161 0.6034969  0.62077164 0.63489944 0.6234107  0.62653265\n",
      " 0.62167905 0.62146259 0.62671583 0.62593326 0.62773147 0.6367726\n",
      " 0.63001256 0.63538231 0.64685437 0.65131671 0.65734412 0.67791565\n",
      " 0.70046018 0.69559831 0.69687204 0.72034904 0.7334029  0.82929226\n",
      " 0.82393918 0.84011498 0.87273306 0.90350287 0.98225067 0.95178889\n",
      " 0.98663805 1.         0.99348966 0.94424623 0.82816005 0.86516541\n",
      " 0.86146908 0.83641866 0.81974331 0.85415955 0.88269827 0.88883392\n",
      " 0.92270078 0.93919289 0.89936529 0.90516791 0.87679575 0.92264244\n",
      " 0.92911112 0.88768504 0.87902684 0.82105865 0.81609688 0.85167866\n",
      " 0.86600626 0.81175944 0.82277368 0.7806316  0.77405475 0.78860713\n",
      " 0.7477555  0.75245924 0.72529419 0.75742106 0.81598031 0.86437456\n",
      " 0.88680253 0.88224868 0.88035052 0.86715513 0.85586625 0.81321287\n",
      " 0.79694432 0.77448034 0.74978906 0.72502905 0.70123553 0.67890251\n",
      " 0.65826988 0.63943201 0.62237656 0.60700649 0.59316015 0.58063483\n",
      " 0.56920791 0.55865633 0.54877216 0.53937274]\n",
      "17 day output [[0.53030735]]\n",
      "18 day input [0.60289746 0.60368836 0.60451255 0.58903608 0.5946389  0.59587935\n",
      " 0.60532012 0.60628581 0.60836711 0.58395769 0.59162519 0.60208161\n",
      " 0.6034969  0.62077164 0.63489944 0.6234107  0.62653265 0.62167905\n",
      " 0.62146259 0.62671583 0.62593326 0.62773147 0.6367726  0.63001256\n",
      " 0.63538231 0.64685437 0.65131671 0.65734412 0.67791565 0.70046018\n",
      " 0.69559831 0.69687204 0.72034904 0.7334029  0.82929226 0.82393918\n",
      " 0.84011498 0.87273306 0.90350287 0.98225067 0.95178889 0.98663805\n",
      " 1.         0.99348966 0.94424623 0.82816005 0.86516541 0.86146908\n",
      " 0.83641866 0.81974331 0.85415955 0.88269827 0.88883392 0.92270078\n",
      " 0.93919289 0.89936529 0.90516791 0.87679575 0.92264244 0.92911112\n",
      " 0.88768504 0.87902684 0.82105865 0.81609688 0.85167866 0.86600626\n",
      " 0.81175944 0.82277368 0.7806316  0.77405475 0.78860713 0.7477555\n",
      " 0.75245924 0.72529419 0.75742106 0.81598031 0.86437456 0.88680253\n",
      " 0.88224868 0.88035052 0.86715513 0.85586625 0.81321287 0.79694432\n",
      " 0.77448034 0.74978906 0.72502905 0.70123553 0.67890251 0.65826988\n",
      " 0.63943201 0.62237656 0.60700649 0.59316015 0.58063483 0.56920791\n",
      " 0.55865633 0.54877216 0.53937274 0.53030735]\n"
     ]
    },
    {
     "name": "stdout",
     "output_type": "stream",
     "text": [
      "18 day output [[0.5214602]]\n",
      "19 day input [0.60368836 0.60451255 0.58903608 0.5946389  0.59587935 0.60532012\n",
      " 0.60628581 0.60836711 0.58395769 0.59162519 0.60208161 0.6034969\n",
      " 0.62077164 0.63489944 0.6234107  0.62653265 0.62167905 0.62146259\n",
      " 0.62671583 0.62593326 0.62773147 0.6367726  0.63001256 0.63538231\n",
      " 0.64685437 0.65131671 0.65734412 0.67791565 0.70046018 0.69559831\n",
      " 0.69687204 0.72034904 0.7334029  0.82929226 0.82393918 0.84011498\n",
      " 0.87273306 0.90350287 0.98225067 0.95178889 0.98663805 1.\n",
      " 0.99348966 0.94424623 0.82816005 0.86516541 0.86146908 0.83641866\n",
      " 0.81974331 0.85415955 0.88269827 0.88883392 0.92270078 0.93919289\n",
      " 0.89936529 0.90516791 0.87679575 0.92264244 0.92911112 0.88768504\n",
      " 0.87902684 0.82105865 0.81609688 0.85167866 0.86600626 0.81175944\n",
      " 0.82277368 0.7806316  0.77405475 0.78860713 0.7477555  0.75245924\n",
      " 0.72529419 0.75742106 0.81598031 0.86437456 0.88680253 0.88224868\n",
      " 0.88035052 0.86715513 0.85586625 0.81321287 0.79694432 0.77448034\n",
      " 0.74978906 0.72502905 0.70123553 0.67890251 0.65826988 0.63943201\n",
      " 0.62237656 0.60700649 0.59316015 0.58063483 0.56920791 0.55865633\n",
      " 0.54877216 0.53937274 0.53030735 0.52146018]\n",
      "19 day output [[0.51274955]]\n",
      "20 day input [0.60451255 0.58903608 0.5946389  0.59587935 0.60532012 0.60628581\n",
      " 0.60836711 0.58395769 0.59162519 0.60208161 0.6034969  0.62077164\n",
      " 0.63489944 0.6234107  0.62653265 0.62167905 0.62146259 0.62671583\n",
      " 0.62593326 0.62773147 0.6367726  0.63001256 0.63538231 0.64685437\n",
      " 0.65131671 0.65734412 0.67791565 0.70046018 0.69559831 0.69687204\n",
      " 0.72034904 0.7334029  0.82929226 0.82393918 0.84011498 0.87273306\n",
      " 0.90350287 0.98225067 0.95178889 0.98663805 1.         0.99348966\n",
      " 0.94424623 0.82816005 0.86516541 0.86146908 0.83641866 0.81974331\n",
      " 0.85415955 0.88269827 0.88883392 0.92270078 0.93919289 0.89936529\n",
      " 0.90516791 0.87679575 0.92264244 0.92911112 0.88768504 0.87902684\n",
      " 0.82105865 0.81609688 0.85167866 0.86600626 0.81175944 0.82277368\n",
      " 0.7806316  0.77405475 0.78860713 0.7477555  0.75245924 0.72529419\n",
      " 0.75742106 0.81598031 0.86437456 0.88680253 0.88224868 0.88035052\n",
      " 0.86715513 0.85586625 0.81321287 0.79694432 0.77448034 0.74978906\n",
      " 0.72502905 0.70123553 0.67890251 0.65826988 0.63943201 0.62237656\n",
      " 0.60700649 0.59316015 0.58063483 0.56920791 0.55865633 0.54877216\n",
      " 0.53937274 0.53030735 0.52146018 0.51274955]\n",
      "20 day output [[0.50412464]]\n",
      "21 day input [0.58903608 0.5946389  0.59587935 0.60532012 0.60628581 0.60836711\n",
      " 0.58395769 0.59162519 0.60208161 0.6034969  0.62077164 0.63489944\n",
      " 0.6234107  0.62653265 0.62167905 0.62146259 0.62671583 0.62593326\n",
      " 0.62773147 0.6367726  0.63001256 0.63538231 0.64685437 0.65131671\n",
      " 0.65734412 0.67791565 0.70046018 0.69559831 0.69687204 0.72034904\n",
      " 0.7334029  0.82929226 0.82393918 0.84011498 0.87273306 0.90350287\n",
      " 0.98225067 0.95178889 0.98663805 1.         0.99348966 0.94424623\n",
      " 0.82816005 0.86516541 0.86146908 0.83641866 0.81974331 0.85415955\n",
      " 0.88269827 0.88883392 0.92270078 0.93919289 0.89936529 0.90516791\n",
      " 0.87679575 0.92264244 0.92911112 0.88768504 0.87902684 0.82105865\n",
      " 0.81609688 0.85167866 0.86600626 0.81175944 0.82277368 0.7806316\n",
      " 0.77405475 0.78860713 0.7477555  0.75245924 0.72529419 0.75742106\n",
      " 0.81598031 0.86437456 0.88680253 0.88224868 0.88035052 0.86715513\n",
      " 0.85586625 0.81321287 0.79694432 0.77448034 0.74978906 0.72502905\n",
      " 0.70123553 0.67890251 0.65826988 0.63943201 0.62237656 0.60700649\n",
      " 0.59316015 0.58063483 0.56920791 0.55865633 0.54877216 0.53937274\n",
      " 0.53030735 0.52146018 0.51274955 0.50412464]\n",
      "21 day output [[0.4955622]]\n",
      "22 day input [0.5946389  0.59587935 0.60532012 0.60628581 0.60836711 0.58395769\n",
      " 0.59162519 0.60208161 0.6034969  0.62077164 0.63489944 0.6234107\n",
      " 0.62653265 0.62167905 0.62146259 0.62671583 0.62593326 0.62773147\n",
      " 0.6367726  0.63001256 0.63538231 0.64685437 0.65131671 0.65734412\n",
      " 0.67791565 0.70046018 0.69559831 0.69687204 0.72034904 0.7334029\n",
      " 0.82929226 0.82393918 0.84011498 0.87273306 0.90350287 0.98225067\n",
      " 0.95178889 0.98663805 1.         0.99348966 0.94424623 0.82816005\n",
      " 0.86516541 0.86146908 0.83641866 0.81974331 0.85415955 0.88269827\n",
      " 0.88883392 0.92270078 0.93919289 0.89936529 0.90516791 0.87679575\n",
      " 0.92264244 0.92911112 0.88768504 0.87902684 0.82105865 0.81609688\n",
      " 0.85167866 0.86600626 0.81175944 0.82277368 0.7806316  0.77405475\n",
      " 0.78860713 0.7477555  0.75245924 0.72529419 0.75742106 0.81598031\n",
      " 0.86437456 0.88680253 0.88224868 0.88035052 0.86715513 0.85586625\n",
      " 0.81321287 0.79694432 0.77448034 0.74978906 0.72502905 0.70123553\n",
      " 0.67890251 0.65826988 0.63943201 0.62237656 0.60700649 0.59316015\n",
      " 0.58063483 0.56920791 0.55865633 0.54877216 0.53937274 0.53030735\n",
      " 0.52146018 0.51274955 0.50412464 0.4955622 ]\n",
      "22 day output [[0.48705983]]\n",
      "23 day input [0.59587935 0.60532012 0.60628581 0.60836711 0.58395769 0.59162519\n",
      " 0.60208161 0.6034969  0.62077164 0.63489944 0.6234107  0.62653265\n",
      " 0.62167905 0.62146259 0.62671583 0.62593326 0.62773147 0.6367726\n",
      " 0.63001256 0.63538231 0.64685437 0.65131671 0.65734412 0.67791565\n",
      " 0.70046018 0.69559831 0.69687204 0.72034904 0.7334029  0.82929226\n",
      " 0.82393918 0.84011498 0.87273306 0.90350287 0.98225067 0.95178889\n",
      " 0.98663805 1.         0.99348966 0.94424623 0.82816005 0.86516541\n",
      " 0.86146908 0.83641866 0.81974331 0.85415955 0.88269827 0.88883392\n",
      " 0.92270078 0.93919289 0.89936529 0.90516791 0.87679575 0.92264244\n",
      " 0.92911112 0.88768504 0.87902684 0.82105865 0.81609688 0.85167866\n",
      " 0.86600626 0.81175944 0.82277368 0.7806316  0.77405475 0.78860713\n",
      " 0.7477555  0.75245924 0.72529419 0.75742106 0.81598031 0.86437456\n",
      " 0.88680253 0.88224868 0.88035052 0.86715513 0.85586625 0.81321287\n",
      " 0.79694432 0.77448034 0.74978906 0.72502905 0.70123553 0.67890251\n",
      " 0.65826988 0.63943201 0.62237656 0.60700649 0.59316015 0.58063483\n",
      " 0.56920791 0.55865633 0.54877216 0.53937274 0.53030735 0.52146018\n",
      " 0.51274955 0.50412464 0.4955622  0.48705983]\n",
      "23 day output [[0.4786314]]\n",
      "24 day input [0.60532012 0.60628581 0.60836711 0.58395769 0.59162519 0.60208161\n",
      " 0.6034969  0.62077164 0.63489944 0.6234107  0.62653265 0.62167905\n",
      " 0.62146259 0.62671583 0.62593326 0.62773147 0.6367726  0.63001256\n",
      " 0.63538231 0.64685437 0.65131671 0.65734412 0.67791565 0.70046018\n",
      " 0.69559831 0.69687204 0.72034904 0.7334029  0.82929226 0.82393918\n",
      " 0.84011498 0.87273306 0.90350287 0.98225067 0.95178889 0.98663805\n",
      " 1.         0.99348966 0.94424623 0.82816005 0.86516541 0.86146908\n",
      " 0.83641866 0.81974331 0.85415955 0.88269827 0.88883392 0.92270078\n",
      " 0.93919289 0.89936529 0.90516791 0.87679575 0.92264244 0.92911112\n",
      " 0.88768504 0.87902684 0.82105865 0.81609688 0.85167866 0.86600626\n",
      " 0.81175944 0.82277368 0.7806316  0.77405475 0.78860713 0.7477555\n",
      " 0.75245924 0.72529419 0.75742106 0.81598031 0.86437456 0.88680253\n",
      " 0.88224868 0.88035052 0.86715513 0.85586625 0.81321287 0.79694432\n",
      " 0.77448034 0.74978906 0.72502905 0.70123553 0.67890251 0.65826988\n",
      " 0.63943201 0.62237656 0.60700649 0.59316015 0.58063483 0.56920791\n",
      " 0.55865633 0.54877216 0.53937274 0.53030735 0.52146018 0.51274955\n",
      " 0.50412464 0.4955622  0.48705983 0.47863141]\n",
      "24 day output [[0.47030064]]\n",
      "25 day input [0.60628581 0.60836711 0.58395769 0.59162519 0.60208161 0.6034969\n",
      " 0.62077164 0.63489944 0.6234107  0.62653265 0.62167905 0.62146259\n",
      " 0.62671583 0.62593326 0.62773147 0.6367726  0.63001256 0.63538231\n",
      " 0.64685437 0.65131671 0.65734412 0.67791565 0.70046018 0.69559831\n",
      " 0.69687204 0.72034904 0.7334029  0.82929226 0.82393918 0.84011498\n",
      " 0.87273306 0.90350287 0.98225067 0.95178889 0.98663805 1.\n",
      " 0.99348966 0.94424623 0.82816005 0.86516541 0.86146908 0.83641866\n",
      " 0.81974331 0.85415955 0.88269827 0.88883392 0.92270078 0.93919289\n",
      " 0.89936529 0.90516791 0.87679575 0.92264244 0.92911112 0.88768504\n",
      " 0.87902684 0.82105865 0.81609688 0.85167866 0.86600626 0.81175944\n",
      " 0.82277368 0.7806316  0.77405475 0.78860713 0.7477555  0.75245924\n",
      " 0.72529419 0.75742106 0.81598031 0.86437456 0.88680253 0.88224868\n",
      " 0.88035052 0.86715513 0.85586625 0.81321287 0.79694432 0.77448034\n",
      " 0.74978906 0.72502905 0.70123553 0.67890251 0.65826988 0.63943201\n",
      " 0.62237656 0.60700649 0.59316015 0.58063483 0.56920791 0.55865633\n",
      " 0.54877216 0.53937274 0.53030735 0.52146018 0.51274955 0.50412464\n",
      " 0.4955622  0.48705983 0.47863141 0.47030064]\n",
      "25 day output [[0.46209726]]\n",
      "26 day input [0.60836711 0.58395769 0.59162519 0.60208161 0.6034969  0.62077164\n",
      " 0.63489944 0.6234107  0.62653265 0.62167905 0.62146259 0.62671583\n",
      " 0.62593326 0.62773147 0.6367726  0.63001256 0.63538231 0.64685437\n",
      " 0.65131671 0.65734412 0.67791565 0.70046018 0.69559831 0.69687204\n",
      " 0.72034904 0.7334029  0.82929226 0.82393918 0.84011498 0.87273306\n",
      " 0.90350287 0.98225067 0.95178889 0.98663805 1.         0.99348966\n",
      " 0.94424623 0.82816005 0.86516541 0.86146908 0.83641866 0.81974331\n",
      " 0.85415955 0.88269827 0.88883392 0.92270078 0.93919289 0.89936529\n",
      " 0.90516791 0.87679575 0.92264244 0.92911112 0.88768504 0.87902684\n",
      " 0.82105865 0.81609688 0.85167866 0.86600626 0.81175944 0.82277368\n",
      " 0.7806316  0.77405475 0.78860713 0.7477555  0.75245924 0.72529419\n",
      " 0.75742106 0.81598031 0.86437456 0.88680253 0.88224868 0.88035052\n",
      " 0.86715513 0.85586625 0.81321287 0.79694432 0.77448034 0.74978906\n",
      " 0.72502905 0.70123553 0.67890251 0.65826988 0.63943201 0.62237656\n",
      " 0.60700649 0.59316015 0.58063483 0.56920791 0.55865633 0.54877216\n",
      " 0.53937274 0.53030735 0.52146018 0.51274955 0.50412464 0.4955622\n",
      " 0.48705983 0.47863141 0.47030064 0.46209726]\n",
      "26 day output [[0.4540515]]\n",
      "27 day input [0.58395769 0.59162519 0.60208161 0.6034969  0.62077164 0.63489944\n",
      " 0.6234107  0.62653265 0.62167905 0.62146259 0.62671583 0.62593326\n",
      " 0.62773147 0.6367726  0.63001256 0.63538231 0.64685437 0.65131671\n",
      " 0.65734412 0.67791565 0.70046018 0.69559831 0.69687204 0.72034904\n",
      " 0.7334029  0.82929226 0.82393918 0.84011498 0.87273306 0.90350287\n",
      " 0.98225067 0.95178889 0.98663805 1.         0.99348966 0.94424623\n",
      " 0.82816005 0.86516541 0.86146908 0.83641866 0.81974331 0.85415955\n",
      " 0.88269827 0.88883392 0.92270078 0.93919289 0.89936529 0.90516791\n",
      " 0.87679575 0.92264244 0.92911112 0.88768504 0.87902684 0.82105865\n",
      " 0.81609688 0.85167866 0.86600626 0.81175944 0.82277368 0.7806316\n",
      " 0.77405475 0.78860713 0.7477555  0.75245924 0.72529419 0.75742106\n",
      " 0.81598031 0.86437456 0.88680253 0.88224868 0.88035052 0.86715513\n",
      " 0.85586625 0.81321287 0.79694432 0.77448034 0.74978906 0.72502905\n",
      " 0.70123553 0.67890251 0.65826988 0.63943201 0.62237656 0.60700649\n",
      " 0.59316015 0.58063483 0.56920791 0.55865633 0.54877216 0.53937274\n",
      " 0.53030735 0.52146018 0.51274955 0.50412464 0.4955622  0.48705983\n",
      " 0.47863141 0.47030064 0.46209726 0.45405149]\n",
      "27 day output [[0.4461916]]\n",
      "28 day input [0.59162519 0.60208161 0.6034969  0.62077164 0.63489944 0.6234107\n",
      " 0.62653265 0.62167905 0.62146259 0.62671583 0.62593326 0.62773147\n",
      " 0.6367726  0.63001256 0.63538231 0.64685437 0.65131671 0.65734412\n",
      " 0.67791565 0.70046018 0.69559831 0.69687204 0.72034904 0.7334029\n",
      " 0.82929226 0.82393918 0.84011498 0.87273306 0.90350287 0.98225067\n",
      " 0.95178889 0.98663805 1.         0.99348966 0.94424623 0.82816005\n",
      " 0.86516541 0.86146908 0.83641866 0.81974331 0.85415955 0.88269827\n",
      " 0.88883392 0.92270078 0.93919289 0.89936529 0.90516791 0.87679575\n",
      " 0.92264244 0.92911112 0.88768504 0.87902684 0.82105865 0.81609688\n",
      " 0.85167866 0.86600626 0.81175944 0.82277368 0.7806316  0.77405475\n",
      " 0.78860713 0.7477555  0.75245924 0.72529419 0.75742106 0.81598031\n",
      " 0.86437456 0.88680253 0.88224868 0.88035052 0.86715513 0.85586625\n",
      " 0.81321287 0.79694432 0.77448034 0.74978906 0.72502905 0.70123553\n",
      " 0.67890251 0.65826988 0.63943201 0.62237656 0.60700649 0.59316015\n",
      " 0.58063483 0.56920791 0.55865633 0.54877216 0.53937274 0.53030735\n",
      " 0.52146018 0.51274955 0.50412464 0.4955622  0.48705983 0.47863141\n",
      " 0.47030064 0.46209726 0.45405149 0.44619161]\n",
      "28 day output [[0.43854153]]\n",
      "29 day input [0.60208161 0.6034969  0.62077164 0.63489944 0.6234107  0.62653265\n",
      " 0.62167905 0.62146259 0.62671583 0.62593326 0.62773147 0.6367726\n",
      " 0.63001256 0.63538231 0.64685437 0.65131671 0.65734412 0.67791565\n",
      " 0.70046018 0.69559831 0.69687204 0.72034904 0.7334029  0.82929226\n",
      " 0.82393918 0.84011498 0.87273306 0.90350287 0.98225067 0.95178889\n",
      " 0.98663805 1.         0.99348966 0.94424623 0.82816005 0.86516541\n",
      " 0.86146908 0.83641866 0.81974331 0.85415955 0.88269827 0.88883392\n",
      " 0.92270078 0.93919289 0.89936529 0.90516791 0.87679575 0.92264244\n",
      " 0.92911112 0.88768504 0.87902684 0.82105865 0.81609688 0.85167866\n",
      " 0.86600626 0.81175944 0.82277368 0.7806316  0.77405475 0.78860713\n",
      " 0.7477555  0.75245924 0.72529419 0.75742106 0.81598031 0.86437456\n",
      " 0.88680253 0.88224868 0.88035052 0.86715513 0.85586625 0.81321287\n",
      " 0.79694432 0.77448034 0.74978906 0.72502905 0.70123553 0.67890251\n",
      " 0.65826988 0.63943201 0.62237656 0.60700649 0.59316015 0.58063483\n",
      " 0.56920791 0.55865633 0.54877216 0.53937274 0.53030735 0.52146018\n",
      " 0.51274955 0.50412464 0.4955622  0.48705983 0.47863141 0.47030064\n",
      " 0.46209726 0.45405149 0.44619161 0.43854153]\n"
     ]
    },
    {
     "name": "stdout",
     "output_type": "stream",
     "text": [
      "29 day output [[0.4311192]]\n",
      "[[0.8132128715515137], [0.7969443202018738], [0.7744803428649902], [0.7497890591621399], [0.7250290513038635], [0.7012355327606201], [0.6789025068283081], [0.6582698822021484], [0.6394320130348206], [0.622376561164856], [0.6070064902305603], [0.5931601524353027], [0.5806348323822021], [0.5692079067230225], [0.5586563348770142], [0.5487721562385559], [0.5393727421760559], [0.5303073525428772], [0.5214601755142212], [0.5127495527267456], [0.504124641418457], [0.49556219577789307], [0.4870598316192627], [0.4786314070224762], [0.4703006446361542], [0.46209725737571716], [0.45405149459838867], [0.44619160890579224], [0.4385415315628052], [0.4311192035675049]]\n"
     ]
    }
   ],
   "source": [
    "# demonstrate prediction for next 10 days\n",
    "from numpy import array\n",
    "\n",
    "lst_output=[]\n",
    "n_steps=100\n",
    "i=0\n",
    "while(i<30):\n",
    "    \n",
    "    if(len(temp_input)>100):\n",
    "        #print(temp_input)\n",
    "        x_input=np.array(temp_input[1:])\n",
    "        print(\"{} day input {}\".format(i,x_input))\n",
    "        x_input=x_input.reshape(1,-1)\n",
    "        x_input = x_input.reshape((1, n_steps, 1))\n",
    "        #print(x_input)\n",
    "        yhat = model.predict(x_input, verbose=0)\n",
    "        print(\"{} day output {}\".format(i,yhat))\n",
    "        temp_input.extend(yhat[0].tolist())\n",
    "        temp_input=temp_input[1:]\n",
    "        #print(temp_input)\n",
    "        lst_output.extend(yhat.tolist())\n",
    "        i=i+1\n",
    "    else:\n",
    "        x_input = x_input.reshape((1, n_steps,1))\n",
    "        yhat = model.predict(x_input, verbose=0)\n",
    "        print(yhat[0])\n",
    "        temp_input.extend(yhat[0].tolist())\n",
    "        print(len(temp_input))\n",
    "        lst_output.extend(yhat.tolist())\n",
    "        i=i+1\n",
    "    \n",
    "\n",
    "print(lst_output)"
   ]
  },
  {
   "cell_type": "code",
   "execution_count": 73,
   "id": "f100a0e5",
   "metadata": {},
   "outputs": [],
   "source": [
    "day_new=np.arange(1,101)\n",
    "day_pred=np.arange(101,131)"
   ]
  },
  {
   "cell_type": "code",
   "execution_count": 74,
   "id": "30b9f40c",
   "metadata": {},
   "outputs": [
    {
     "data": {
      "text/plain": [
       "1764"
      ]
     },
     "execution_count": 74,
     "metadata": {},
     "output_type": "execute_result"
    }
   ],
   "source": [
    "import matplotlib.pyplot as plt\n",
    "len(df1)"
   ]
  },
  {
   "cell_type": "code",
   "execution_count": 75,
   "id": "07b8acd9",
   "metadata": {},
   "outputs": [
    {
     "data": {
      "text/plain": [
       "[<matplotlib.lines.Line2D at 0x29d29b09a88>]"
      ]
     },
     "execution_count": 75,
     "metadata": {},
     "output_type": "execute_result"
    },
    {
     "data": {
<<<<<<< Updated upstream
      "image/png": "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\n",
=======
      "image/png": "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",
>>>>>>> Stashed changes
      "text/plain": [
       "<Figure size 432x288 with 1 Axes>"
      ]
     },
     "metadata": {
      "needs_background": "light"
     },
     "output_type": "display_data"
    }
   ],
   "source": [
    "plt.plot(day_new,scaler.inverse_transform(df1[1664:]))\n",
    "plt.plot(day_pred,scaler.inverse_transform(lst_output))"
   ]
  },
  {
   "cell_type": "code",
   "execution_count": 76,
   "id": "0fa1a030",
   "metadata": {},
   "outputs": [
    {
     "data": {
      "text/plain": [
       "[<matplotlib.lines.Line2D at 0x29d29b23548>]"
      ]
     },
     "execution_count": 76,
     "metadata": {},
     "output_type": "execute_result"
    },
    {
     "data": {
<<<<<<< Updated upstream
      "image/png": "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\n",
=======
      "image/png": "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",
>>>>>>> Stashed changes
      "text/plain": [
       "<Figure size 432x288 with 1 Axes>"
      ]
     },
     "metadata": {
      "needs_background": "light"
     },
     "output_type": "display_data"
    }
   ],
   "source": [
    "df3=df1.tolist()\n",
    "df3.extend(lst_output)\n",
    "plt.plot(df3[1200:])"
   ]
  },
  {
   "cell_type": "code",
   "execution_count": 77,
   "id": "7566e28b",
   "metadata": {},
   "outputs": [],
   "source": [
    "df3=scaler.inverse_transform(df3).tolist()"
   ]
  },
  {
   "cell_type": "code",
   "execution_count": 78,
   "id": "98eb78a8",
   "metadata": {},
   "outputs": [
    {
     "data": {
      "text/plain": [
       "[<matplotlib.lines.Line2D at 0x29d29bb4188>]"
      ]
     },
     "execution_count": 78,
     "metadata": {},
     "output_type": "execute_result"
    },
    {
     "data": {
<<<<<<< Updated upstream
      "image/png": "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\n",
=======
      "image/png": "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",
>>>>>>> Stashed changes
      "text/plain": [
       "<Figure size 432x288 with 1 Axes>"
      ]
     },
     "metadata": {
      "needs_background": "light"
     },
     "output_type": "display_data"
    }
   ],
   "source": [
    "plt.plot(df3)"
   ]
  },
  {
   "cell_type": "code",
   "execution_count": 79,
   "id": "57db3b8e",
   "metadata": {},
   "outputs": [],
   "source": [
    "# IMPORTING IMPORTANT LIBRARIES\n",
    "import pandas as pd\n",
    "import matplotlib.pyplot as plt\n",
    "import numpy as np \n",
    "import math\n",
    "from sklearn.preprocessing import MinMaxScaler\n",
    "from sklearn.metrics import mean_squared_error\n",
    "import tensorflow as tf\n",
    "from keras.models import Sequential\n",
    "from keras.layers import Dense, Activation\n",
    "from keras.layers import LSTM\n",
    "\n",
    "# FUNCTION TO CREATE 1D DATA INTO TIME SERIES DATASET\n",
    "def new_dataset(dataset, step_size):\n",
    "\tdata_X, data_Y = [], []\n",
    "\tfor i in range(len(dataset)-step_size-1):\n",
    "\t\ta = dataset[i:(i+step_size), 0]\n",
    "\t\tdata_X.append(a)\n",
    "\t\tdata_Y.append(dataset[i + step_size, 0])\n",
    "\treturn np.array(data_X), np.array(data_Y)\n",
    "\n",
    "# THIS FUNCTION CAN BE USED TO CREATE A TIME SERIES DATASET FROM ANY 1D ARRAY\t"
   ]
  },
  {
   "cell_type": "code",
   "execution_count": 81,
   "id": "55ce10ed",
   "metadata": {},
   "outputs": [],
   "source": [
    "# FOR REPRODUCIBILITY\n",
    "np.random.seed(7)\n",
    "\n",
    "# IMPORTING DATASET \n",
    "dataset = pd.read_csv('tesla.csv', usecols=[1,2,3,4])\n",
    "dataset = dataset.reindex(index = dataset.index[::-1])\n",
    "\n",
    "# CREATING OWN INDEX FOR FLEXIBILITY\n",
    "obs = np.arange(1, len(dataset) + 1, 1)"
   ]
  },
  {
   "cell_type": "code",
   "execution_count": 82,
   "id": "ab8329ee",
   "metadata": {},
   "outputs": [
    {
     "name": "stderr",
     "output_type": "stream",
     "text": [
      "c:\\users\\lavaa\\appdata\\local\\programs\\python\\python37\\lib\\site-packages\\ipykernel_launcher.py:11: UserWarning:\n",
      "\n",
      "Matplotlib is currently using agg, which is a non-GUI backend, so cannot show the figure.\n",
      "\n"
     ]
    },
    {
     "data": {
      "image/png": "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\n",
      "text/plain": [
       "<Figure size 432x288 with 1 Axes>"
      ]
     },
     "metadata": {
      "needs_background": "light"
     },
     "output_type": "display_data"
    }
   ],
   "source": [
    "# TAKING DIFFERENT INDICATORS FOR PREDICTION\n",
    "OHLC_avg = dataset.mean(axis = 1)\n",
    "HLC_avg = dataset[['High', 'Low', 'Close']].mean(axis = 1)\n",
    "close_val = dataset[['Close']]\n",
    "\n",
    "# PLOTTING ALL INDICATORS IN ONE PLOT\n",
    "plt.plot(obs, OHLC_avg, 'r', label = 'OHLC avg')\n",
    "plt.plot(obs, HLC_avg, 'b', label = 'HLC avg')\n",
    "plt.plot(obs, close_val, 'g', label = 'Closing price')\n",
    "plt.legend(loc = 'upper right')\n",
    "plt.show()"
   ]
  },
  {
   "cell_type": "code",
   "execution_count": 83,
   "id": "1c2f438e",
   "metadata": {},
   "outputs": [],
   "source": [
    "# PREPARATION OF TIME SERIES DATASE\n",
    "OHLC_avg = np.reshape(OHLC_avg.values, (len(OHLC_avg),1)) # 1664\n",
    "scaler = MinMaxScaler(feature_range=(0, 1))\n",
    "OHLC_avg = scaler.fit_transform(OHLC_avg)\n",
    "\n",
    "# TRAIN-TEST SPLIT\n",
    "train_OHLC = int(len(OHLC_avg) * 0.75)\n",
    "test_OHLC = len(OHLC_avg) - train_OHLC\n",
    "train_OHLC, test_OHLC = OHLC_avg[0:train_OHLC,:], OHLC_avg[train_OHLC:len(OHLC_avg),:]\n",
    "\n",
    "# TIME-SERIES DATASET (FOR TIME T, VALUES FOR TIME T+1)\n",
    "trainX, trainY = new_dataset(train_OHLC, 1)\n",
    "testX, testY = new_dataset(test_OHLC, 1)\n",
    "\n",
    "# RESHAPING TRAIN AND TEST DATA\n",
    "trainX = np.reshape(trainX, (trainX.shape[0], 1, trainX.shape[1]))\n",
    "testX = np.reshape(testX, (testX.shape[0], 1, testX.shape[1]))\n",
    "step_size = 1"
   ]
  },
  {
   "cell_type": "code",
   "execution_count": 84,
   "id": "75b835d1",
   "metadata": {},
   "outputs": [
    {
     "name": "stdout",
     "output_type": "stream",
     "text": [
      "Epoch 1/5\n",
      "1321/1321 - 5s - loss: 0.0105 - 5s/epoch - 4ms/step\n",
      "Epoch 2/5\n",
      "1321/1321 - 3s - loss: 2.6924e-04 - 3s/epoch - 3ms/step\n",
      "Epoch 3/5\n",
      "1321/1321 - 4s - loss: 1.7459e-04 - 4s/epoch - 3ms/step\n",
      "Epoch 4/5\n",
      "1321/1321 - 5s - loss: 1.6090e-04 - 5s/epoch - 4ms/step\n",
      "Epoch 5/5\n",
      "1321/1321 - 3s - loss: 1.8359e-04 - 3s/epoch - 2ms/step\n",
      "42/42 [==============================] - 1s 2ms/step\n",
      "14/14 [==============================] - 0s 2ms/step\n",
      "Train RMSE: 12.50\n",
      "Test RMSE: 1.41\n",
      "1/1 [==============================] - 0s 16ms/step\n",
      "Last Day Value: 43.32948303222656\n",
      "Next Day Value: 42.29911804199219\n"
     ]
    },
    {
     "name": "stderr",
     "output_type": "stream",
     "text": [
      "c:\\users\\lavaa\\appdata\\local\\programs\\python\\python37\\lib\\site-packages\\ipykernel_launcher.py:51: UserWarning:\n",
      "\n",
      "Matplotlib is currently using agg, which is a non-GUI backend, so cannot show the figure.\n",
      "\n",
      "c:\\users\\lavaa\\appdata\\local\\programs\\python\\python37\\lib\\site-packages\\ipykernel_launcher.py:57: DeprecationWarning:\n",
      "\n",
      "np.asscalar(a) is deprecated since NumPy v1.16, use a.item() instead\n",
      "\n",
      "c:\\users\\lavaa\\appdata\\local\\programs\\python\\python37\\lib\\site-packages\\ipykernel_launcher.py:58: DeprecationWarning:\n",
      "\n",
      "np.asscalar(a) is deprecated since NumPy v1.16, use a.item() instead\n",
      "\n"
     ]
    },
    {
     "data": {
      "image/png": "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\n",
      "text/plain": [
       "<Figure size 432x288 with 1 Axes>"
      ]
     },
     "metadata": {
      "needs_background": "light"
     },
     "output_type": "display_data"
    }
   ],
   "source": [
    "# LSTM MODEL\n",
    "model = Sequential()\n",
    "model.add(LSTM(32, input_shape=(1, step_size), return_sequences = True))\n",
    "model.add(LSTM(16))\n",
    "model.add(Dense(1))\n",
    "model.add(Activation('linear'))\n",
    "\n",
    "# MODEL COMPILING AND TRAINING\n",
    "model.compile(loss='mean_squared_error', optimizer='adam') # Try SGD, adam, adagrad and compare!!!\n",
    "model.fit(trainX, trainY, epochs=5, batch_size=1, verbose=2)\n",
    "\n",
    "# PREDICTION\n",
    "trainPredict = model.predict(trainX)\n",
    "testPredict = model.predict(testX)\n",
    "\n",
    "# DE-NORMALIZING FOR PLOTTING\n",
    "trainPredict = scaler.inverse_transform(trainPredict)\n",
    "trainY = scaler.inverse_transform([trainY])\n",
    "testPredict = scaler.inverse_transform(testPredict)\n",
    "testY = scaler.inverse_transform([testY])\n",
    "\n",
    "\n",
    "# TRAINING RMSE\n",
    "trainScore = math.sqrt(mean_squared_error(trainY[0], trainPredict[:,0]))\n",
    "print('Train RMSE: %.2f' % (trainScore))\n",
    "\n",
    "# TEST RMSE\n",
    "testScore = math.sqrt(mean_squared_error(testY[0], testPredict[:,0]))\n",
    "print('Test RMSE: %.2f' % (testScore))\n",
    "\n",
    "# CREATING SIMILAR DATASET TO PLOT TRAINING PREDICTIONS\n",
    "trainPredictPlot = np.empty_like(OHLC_avg)\n",
    "trainPredictPlot[:, :] = np.nan\n",
    "trainPredictPlot[step_size:len(trainPredict)+step_size, :] = trainPredict\n",
    "\n",
    "# CREATING SIMILAR DATASSET TO PLOT TEST PREDICTIONS\n",
    "testPredictPlot = np.empty_like(OHLC_avg)\n",
    "testPredictPlot[:, :] = np.nan\n",
    "testPredictPlot[len(trainPredict)+(step_size*2)+1:len(OHLC_avg)-1, :] = testPredict\n",
    "\n",
    "# DE-NORMALIZING MAIN DATASET \n",
    "OHLC_avg = scaler.inverse_transform(OHLC_avg)\n",
    "\n",
    "# PLOT OF MAIN OHLC VALUES, TRAIN PREDICTIONS AND TEST PREDICTIONS\n",
    "plt.plot(OHLC_avg, 'g', label = 'original dataset')\n",
    "plt.plot(trainPredictPlot, 'r', label = 'training set')\n",
    "plt.plot(testPredictPlot, 'b', label = 'predicted stock price/test set')\n",
    "plt.legend(loc = 'upper left')\n",
    "plt.xlabel('Time in Days')\n",
    "plt.ylabel('OHLC Value of Tesla Stocks')\n",
    "plt.show()\n",
    "\n",
    "# PREDICT FUTURE VALUES\n",
    "last_val = testPredict[-1]\n",
    "last_val_scaled = last_val/last_val\n",
    "next_val = model.predict(np.reshape(last_val_scaled, (1,1,1)))\n",
    "print (\"Last Day Value:\", np.asscalar(last_val))\n",
    "print (\"Next Day Value:\", np.asscalar(last_val*next_val))\n",
    "# print np.append(last_val, next_val)"
   ]
  },
  {
   "cell_type": "markdown",
   "id": "a1e9841a",
   "metadata": {},
   "source": [
    "# Trying out RNN based LSTM"
   ]
  },
  {
   "cell_type": "code",
   "execution_count": 93,
   "id": "19ff94aa",
   "metadata": {},
   "outputs": [
    {
     "data": {
      "text/html": [
       "<div>\n",
       "<style scoped>\n",
       "    .dataframe tbody tr th:only-of-type {\n",
       "        vertical-align: middle;\n",
       "    }\n",
       "\n",
       "    .dataframe tbody tr th {\n",
       "        vertical-align: top;\n",
       "    }\n",
       "\n",
       "    .dataframe thead th {\n",
       "        text-align: right;\n",
       "    }\n",
       "</style>\n",
       "<table border=\"1\" class=\"dataframe\">\n",
       "  <thead>\n",
       "    <tr style=\"text-align: right;\">\n",
       "      <th></th>\n",
       "      <th>Open</th>\n",
       "      <th>High</th>\n",
       "      <th>Low</th>\n",
       "      <th>Close</th>\n",
       "      <th>Adj Close</th>\n",
       "      <th>Volume</th>\n",
       "    </tr>\n",
       "  </thead>\n",
       "  <tbody>\n",
       "    <tr>\n",
       "      <th>0</th>\n",
       "      <td>44.618000</td>\n",
       "      <td>45.136002</td>\n",
       "      <td>44.450001</td>\n",
       "      <td>44.481998</td>\n",
       "      <td>44.481998</td>\n",
       "      <td>11487500</td>\n",
       "    </tr>\n",
       "    <tr>\n",
       "      <th>1</th>\n",
       "      <td>44.574001</td>\n",
       "      <td>44.650002</td>\n",
       "      <td>42.652000</td>\n",
       "      <td>43.862000</td>\n",
       "      <td>43.862000</td>\n",
       "      <td>23822000</td>\n",
       "    </tr>\n",
       "    <tr>\n",
       "      <th>2</th>\n",
       "      <td>42.910000</td>\n",
       "      <td>43.299999</td>\n",
       "      <td>41.431999</td>\n",
       "      <td>42.018002</td>\n",
       "      <td>42.018002</td>\n",
       "      <td>26842500</td>\n",
       "    </tr>\n",
       "    <tr>\n",
       "      <th>3</th>\n",
       "      <td>42.012001</td>\n",
       "      <td>42.840000</td>\n",
       "      <td>40.841999</td>\n",
       "      <td>42.256001</td>\n",
       "      <td>42.256001</td>\n",
       "      <td>31309500</td>\n",
       "    </tr>\n",
       "    <tr>\n",
       "      <th>4</th>\n",
       "      <td>42.669998</td>\n",
       "      <td>42.956001</td>\n",
       "      <td>41.956001</td>\n",
       "      <td>42.189999</td>\n",
       "      <td>42.189999</td>\n",
       "      <td>14842000</td>\n",
       "    </tr>\n",
       "    <tr>\n",
       "      <th>...</th>\n",
       "      <td>...</td>\n",
       "      <td>...</td>\n",
       "      <td>...</td>\n",
       "      <td>...</td>\n",
       "      <td>...</td>\n",
       "      <td>...</td>\n",
       "    </tr>\n",
       "    <tr>\n",
       "      <th>1759</th>\n",
       "      <td>1073.670044</td>\n",
       "      <td>1117.000000</td>\n",
       "      <td>1070.719971</td>\n",
       "      <td>1093.939941</td>\n",
       "      <td>1093.939941</td>\n",
       "      <td>23715300</td>\n",
       "    </tr>\n",
       "    <tr>\n",
       "      <th>1760</th>\n",
       "      <td>1109.489990</td>\n",
       "      <td>1119.000000</td>\n",
       "      <td>1078.420044</td>\n",
       "      <td>1088.469971</td>\n",
       "      <td>1088.469971</td>\n",
       "      <td>20108000</td>\n",
       "    </tr>\n",
       "    <tr>\n",
       "      <th>1761</th>\n",
       "      <td>1098.640015</td>\n",
       "      <td>1104.000000</td>\n",
       "      <td>1064.140015</td>\n",
       "      <td>1086.189941</td>\n",
       "      <td>1086.189941</td>\n",
       "      <td>18718000</td>\n",
       "    </tr>\n",
       "    <tr>\n",
       "      <th>1762</th>\n",
       "      <td>1061.329956</td>\n",
       "      <td>1095.550049</td>\n",
       "      <td>1053.150024</td>\n",
       "      <td>1070.339966</td>\n",
       "      <td>1070.339966</td>\n",
       "      <td>15680300</td>\n",
       "    </tr>\n",
       "    <tr>\n",
       "      <th>1763</th>\n",
       "      <td>1073.439941</td>\n",
       "      <td>1082.000000</td>\n",
       "      <td>1054.589966</td>\n",
       "      <td>1056.780029</td>\n",
       "      <td>1056.780029</td>\n",
       "      <td>13577900</td>\n",
       "    </tr>\n",
       "  </tbody>\n",
       "</table>\n",
       "<p>1764 rows × 6 columns</p>\n",
       "</div>"
      ],
      "text/plain": [
       "             Open         High          Low        Close    Adj Close  \\\n",
       "0       44.618000    45.136002    44.450001    44.481998    44.481998   \n",
       "1       44.574001    44.650002    42.652000    43.862000    43.862000   \n",
       "2       42.910000    43.299999    41.431999    42.018002    42.018002   \n",
       "3       42.012001    42.840000    40.841999    42.256001    42.256001   \n",
       "4       42.669998    42.956001    41.956001    42.189999    42.189999   \n",
       "...           ...          ...          ...          ...          ...   \n",
       "1759  1073.670044  1117.000000  1070.719971  1093.939941  1093.939941   \n",
       "1760  1109.489990  1119.000000  1078.420044  1088.469971  1088.469971   \n",
       "1761  1098.640015  1104.000000  1064.140015  1086.189941  1086.189941   \n",
       "1762  1061.329956  1095.550049  1053.150024  1070.339966  1070.339966   \n",
       "1763  1073.439941  1082.000000  1054.589966  1056.780029  1056.780029   \n",
       "\n",
       "        Volume  \n",
       "0     11487500  \n",
       "1     23822000  \n",
       "2     26842500  \n",
       "3     31309500  \n",
       "4     14842000  \n",
       "...        ...  \n",
       "1759  23715300  \n",
       "1760  20108000  \n",
       "1761  18718000  \n",
       "1762  15680300  \n",
       "1763  13577900  \n",
       "\n",
       "[1764 rows x 6 columns]"
      ]
     },
     "metadata": {},
     "output_type": "display_data"
    }
   ],
   "source": [
    "# Recurrent Neural Network\n",
    "\n",
    "# Part 1 - Data Preprocessing\n",
    "\n",
    "# Importing the libraries\n",
    "import numpy as np\n",
    "import matplotlib.pyplot as plt\n",
    "import pandas as pd\n",
    "\n",
    "# Importing the training set\n",
    "dataset_train = pd.read_csv('tesla.csv')\n",
    "# '.values' need the 2nd Column Opening Price as a Numpy array (not vector)\n",
    "# '1:2' is used because the upper bound is ignored\n",
    "training_set = dataset_train.iloc[:, 1:2].values\n",
    "\n",
    "# Feature Scaling\n",
    "# Use Normalization (versus Standardization) for RNNs with Sigmoid Activation Functions\n",
    "# 'MinMaxScalar' is a Normalization Library\n",
    "from sklearn.preprocessing import MinMaxScaler\n",
    "# 'feature_range = (0,1)' makes sure that training data is scaled to have values between 0 and 1\n",
    "sc = MinMaxScaler(feature_range = (0, 1))\n",
    "training_set_scaled = sc.fit_transform(training_set)\n",
    "\n",
    "# Creating a data structure with 60 timesteps (look back 60 days) and 1 output\n",
    "# This tells the RNN what to remember (Number of timesteps) when predicting the next Stock Price\n",
    "# The wrong number of timesteps can lead to Overfitting or bogus results\n",
    "# 'x_train' Input with 60 previous days' stock prices\n",
    "X_train = []\n",
    "# 'y_train' Output with next day's stock price\n",
    "y_train = []\n",
    "for i in range(60, 1258):\n",
    "    X_train.append(training_set_scaled[i-60:i, 0])\n",
    "    y_train.append(training_set_scaled[i, 0])\n",
    "X_train, y_train = np.array(X_train), np.array(y_train)\n",
    "\n",
    "# Reshaping (add more dimensions)\n",
    "# This lets you add more indicators that may potentially have corelation with Stock Prices\n",
    "# Keras RNNs expects an input shape (Batch Size, Timesteps, input_dim)\n",
    "# '.shape[0]' is the number of Rows (Batch Size)\n",
    "# '.shape[1]' is the number of Columns (timesteps)\n",
    "# 'input_dim' is the number of factors that may affect stock prices\n",
    "X_train = np.reshape(X_train, (X_train.shape[0], X_train.shape[1], 1))\n",
    "\n",
    "# Show the dataset we're working with\n",
    "display(dataset_train)\n",
    "#dataset_train.to_csv('tesla_train.csv',index = False)"
   ]
  },
  {
   "cell_type": "code",
   "execution_count": 94,
   "id": "aa01129f",
   "metadata": {},
   "outputs": [
    {
     "name": "stdout",
     "output_type": "stream",
     "text": [
      "Epoch 1/100\n",
      "38/38 [==============================] - 16s 97ms/step - loss: 1.2817e-04\n",
      "Epoch 2/100\n",
      "38/38 [==============================] - 4s 100ms/step - loss: 4.0940e-05\n",
      "Epoch 3/100\n",
      "38/38 [==============================] - 4s 105ms/step - loss: 2.4339e-05\n",
      "Epoch 4/100\n",
      "38/38 [==============================] - 4s 97ms/step - loss: 2.0147e-05\n",
      "Epoch 5/100\n",
      "38/38 [==============================] - 4s 99ms/step - loss: 2.0944e-05\n",
      "Epoch 6/100\n",
      "38/38 [==============================] - 4s 94ms/step - loss: 1.8088e-05\n",
      "Epoch 7/100\n",
      "38/38 [==============================] - 4s 102ms/step - loss: 1.8871e-05\n",
      "Epoch 8/100\n",
      "38/38 [==============================] - 4s 107ms/step - loss: 1.6983e-05\n",
      "Epoch 9/100\n",
      "38/38 [==============================] - 4s 111ms/step - loss: 1.6925e-05\n",
      "Epoch 10/100\n",
      "38/38 [==============================] - 7s 193ms/step - loss: 1.6075e-05\n",
      "Epoch 11/100\n",
      "38/38 [==============================] - 6s 150ms/step - loss: 1.5291e-05\n",
      "Epoch 12/100\n",
      "38/38 [==============================] - 4s 94ms/step - loss: 1.6680e-05\n",
      "Epoch 13/100\n",
      "38/38 [==============================] - 4s 98ms/step - loss: 1.4726e-05\n",
      "Epoch 14/100\n",
      "38/38 [==============================] - 4s 100ms/step - loss: 1.4245e-05\n",
      "Epoch 15/100\n",
      "38/38 [==============================] - 4s 97ms/step - loss: 1.3621e-05\n",
      "Epoch 16/100\n",
      "38/38 [==============================] - 4s 107ms/step - loss: 1.2368e-05\n",
      "Epoch 17/100\n",
      "38/38 [==============================] - 4s 106ms/step - loss: 1.2092e-05\n",
      "Epoch 18/100\n",
      "38/38 [==============================] - 4s 106ms/step - loss: 1.2209e-05\n",
      "Epoch 19/100\n",
      "38/38 [==============================] - 5s 125ms/step - loss: 1.0860e-05\n",
      "Epoch 20/100\n",
      "38/38 [==============================] - 5s 133ms/step - loss: 1.1690e-05\n",
      "Epoch 21/100\n",
      "38/38 [==============================] - 5s 121ms/step - loss: 9.8206e-06\n",
      "Epoch 22/100\n",
      "38/38 [==============================] - 6s 154ms/step - loss: 1.0876e-05\n",
      "Epoch 23/100\n",
      "38/38 [==============================] - 6s 148ms/step - loss: 9.3815e-06\n",
      "Epoch 24/100\n",
      "38/38 [==============================] - 7s 193ms/step - loss: 8.9944e-06\n",
      "Epoch 25/100\n",
      "38/38 [==============================] - 11s 300ms/step - loss: 1.0442e-05\n",
      "Epoch 26/100\n",
      "38/38 [==============================] - 9s 233ms/step - loss: 9.7547e-06\n",
      "Epoch 27/100\n",
      "38/38 [==============================] - 7s 182ms/step - loss: 8.9925e-06\n",
      "Epoch 28/100\n",
      "38/38 [==============================] - 8s 202ms/step - loss: 8.7956e-06\n",
      "Epoch 29/100\n",
      "38/38 [==============================] - 6s 169ms/step - loss: 9.4586e-06\n",
      "Epoch 30/100\n",
      "38/38 [==============================] - 4s 112ms/step - loss: 9.5885e-06\n",
      "Epoch 31/100\n",
      "38/38 [==============================] - 5s 125ms/step - loss: 8.8010e-06\n",
      "Epoch 32/100\n",
      "38/38 [==============================] - 5s 130ms/step - loss: 8.5028e-06\n",
      "Epoch 33/100\n",
      "38/38 [==============================] - 5s 125ms/step - loss: 1.1075e-05\n",
      "Epoch 34/100\n",
      "38/38 [==============================] - 5s 129ms/step - loss: 9.7604e-06\n",
      "Epoch 35/100\n",
      "38/38 [==============================] - 5s 127ms/step - loss: 1.0054e-05\n",
      "Epoch 36/100\n",
      "38/38 [==============================] - 5s 139ms/step - loss: 9.9828e-06\n",
      "Epoch 37/100\n",
      "38/38 [==============================] - 5s 138ms/step - loss: 8.7860e-06\n",
      "Epoch 38/100\n",
      "38/38 [==============================] - 6s 145ms/step - loss: 8.2574e-06\n",
      "Epoch 39/100\n",
      "38/38 [==============================] - 5s 121ms/step - loss: 7.3662e-06\n",
      "Epoch 40/100\n",
      "38/38 [==============================] - 5s 124ms/step - loss: 7.0573e-06\n",
      "Epoch 41/100\n",
      "38/38 [==============================] - 6s 145ms/step - loss: 7.5447e-06\n",
      "Epoch 42/100\n",
      "38/38 [==============================] - 4s 103ms/step - loss: 6.8635e-06\n",
      "Epoch 43/100\n",
      "38/38 [==============================] - 4s 97ms/step - loss: 7.4815e-06\n",
      "Epoch 44/100\n",
      "38/38 [==============================] - 4s 101ms/step - loss: 8.6972e-06\n",
      "Epoch 45/100\n",
      "38/38 [==============================] - 4s 97ms/step - loss: 8.0234e-06\n",
      "Epoch 46/100\n",
      "38/38 [==============================] - 5s 120ms/step - loss: 7.9715e-06\n",
      "Epoch 47/100\n",
      "38/38 [==============================] - 4s 115ms/step - loss: 7.3975e-06\n",
      "Epoch 48/100\n",
      "38/38 [==============================] - 4s 97ms/step - loss: 7.3206e-06\n",
      "Epoch 49/100\n",
      "38/38 [==============================] - 4s 100ms/step - loss: 6.7937e-06\n",
      "Epoch 50/100\n",
      "38/38 [==============================] - 4s 99ms/step - loss: 7.3817e-06\n",
      "Epoch 51/100\n",
      "38/38 [==============================] - 4s 97ms/step - loss: 6.6212e-06\n",
      "Epoch 52/100\n",
      "38/38 [==============================] - 4s 104ms/step - loss: 6.9061e-06\n",
      "Epoch 53/100\n",
      "38/38 [==============================] - 4s 102ms/step - loss: 6.4282e-06\n",
      "Epoch 54/100\n",
      "38/38 [==============================] - 4s 100ms/step - loss: 6.4140e-06\n",
      "Epoch 55/100\n",
      "38/38 [==============================] - 4s 108ms/step - loss: 6.5355e-06\n",
      "Epoch 56/100\n",
      "38/38 [==============================] - 4s 112ms/step - loss: 6.7553e-06\n",
      "Epoch 57/100\n",
      "38/38 [==============================] - 4s 108ms/step - loss: 5.8673e-06\n",
      "Epoch 58/100\n",
      "38/38 [==============================] - 4s 109ms/step - loss: 6.4938e-06\n",
      "Epoch 59/100\n",
      "38/38 [==============================] - 4s 114ms/step - loss: 6.1248e-06\n",
      "Epoch 60/100\n",
      "38/38 [==============================] - 5s 131ms/step - loss: 6.7953e-06\n",
      "Epoch 61/100\n",
      "38/38 [==============================] - 7s 174ms/step - loss: 6.4042e-06\n",
      "Epoch 62/100\n",
      "38/38 [==============================] - 6s 146ms/step - loss: 6.0651e-06\n",
      "Epoch 63/100\n",
      "38/38 [==============================] - 5s 135ms/step - loss: 5.8167e-06\n",
      "Epoch 64/100\n",
      "38/38 [==============================] - 5s 124ms/step - loss: 6.4798e-06\n",
      "Epoch 65/100\n",
      "38/38 [==============================] - 4s 118ms/step - loss: 7.1841e-06\n",
      "Epoch 66/100\n",
      "38/38 [==============================] - 5s 119ms/step - loss: 5.9536e-06\n",
      "Epoch 67/100\n",
      "38/38 [==============================] - 5s 120ms/step - loss: 5.4858e-06\n",
      "Epoch 68/100\n",
      "38/38 [==============================] - 4s 110ms/step - loss: 6.2598e-06\n",
      "Epoch 69/100\n",
      "38/38 [==============================] - 4s 106ms/step - loss: 5.9125e-06\n",
      "Epoch 70/100\n",
      "38/38 [==============================] - 4s 98ms/step - loss: 5.5344e-06\n",
      "Epoch 71/100\n",
      "38/38 [==============================] - 4s 94ms/step - loss: 5.3615e-06\n",
      "Epoch 72/100\n",
      "38/38 [==============================] - 4s 107ms/step - loss: 6.7575e-06\n",
      "Epoch 73/100\n",
      "38/38 [==============================] - 4s 93ms/step - loss: 5.8663e-06\n",
      "Epoch 74/100\n",
      "38/38 [==============================] - 4s 93ms/step - loss: 6.1742e-06\n",
      "Epoch 75/100\n",
      "38/38 [==============================] - 4s 100ms/step - loss: 5.8488e-06\n",
      "Epoch 76/100\n",
      "38/38 [==============================] - 4s 92ms/step - loss: 6.2344e-06\n",
      "Epoch 77/100\n",
      "38/38 [==============================] - 4s 95ms/step - loss: 5.7857e-06\n",
      "Epoch 78/100\n",
      "38/38 [==============================] - 4s 94ms/step - loss: 5.6307e-06\n",
      "Epoch 79/100\n",
      "38/38 [==============================] - 4s 99ms/step - loss: 4.8256e-06\n",
      "Epoch 80/100\n",
      "38/38 [==============================] - 4s 102ms/step - loss: 4.9903e-06\n",
      "Epoch 81/100\n",
      "38/38 [==============================] - 4s 102ms/step - loss: 5.3440e-06\n",
      "Epoch 82/100\n",
      "38/38 [==============================] - 4s 98ms/step - loss: 7.1481e-06\n",
      "Epoch 83/100\n",
      "38/38 [==============================] - 4s 101ms/step - loss: 5.2582e-06\n",
      "Epoch 84/100\n",
      "38/38 [==============================] - 4s 104ms/step - loss: 5.3439e-06\n",
      "Epoch 85/100\n",
      "38/38 [==============================] - 4s 109ms/step - loss: 5.1671e-06\n",
      "Epoch 86/100\n",
      "38/38 [==============================] - 5s 138ms/step - loss: 4.8131e-06\n",
      "Epoch 87/100\n",
      "38/38 [==============================] - 10s 254ms/step - loss: 5.4318e-06\n",
      "Epoch 88/100\n",
      "38/38 [==============================] - 6s 164ms/step - loss: 5.0709e-06\n",
      "Epoch 89/100\n",
      "38/38 [==============================] - 9s 229ms/step - loss: 4.7527e-06\n",
      "Epoch 90/100\n",
      "38/38 [==============================] - 6s 154ms/step - loss: 5.6018e-06\n",
      "Epoch 91/100\n",
      "38/38 [==============================] - 5s 121ms/step - loss: 5.1312e-06\n",
      "Epoch 92/100\n",
      "38/38 [==============================] - 4s 111ms/step - loss: 4.7273e-06\n",
      "Epoch 93/100\n",
      "38/38 [==============================] - 5s 123ms/step - loss: 5.1305e-06\n",
      "Epoch 94/100\n",
      "38/38 [==============================] - 5s 119ms/step - loss: 5.2006e-06\n",
      "Epoch 95/100\n"
     ]
    },
    {
     "name": "stdout",
     "output_type": "stream",
     "text": [
      "38/38 [==============================] - 4s 103ms/step - loss: 4.6957e-06\n",
      "Epoch 96/100\n",
      "38/38 [==============================] - 4s 100ms/step - loss: 4.9374e-06\n",
      "Epoch 97/100\n",
      "38/38 [==============================] - 4s 97ms/step - loss: 5.0694e-06\n",
      "Epoch 98/100\n",
      "38/38 [==============================] - 4s 92ms/step - loss: 4.6165e-06\n",
      "Epoch 99/100\n",
      "38/38 [==============================] - 4s 94ms/step - loss: 4.8058e-06\n",
      "Epoch 100/100\n",
      "38/38 [==============================] - 4s 94ms/step - loss: 5.2970e-06\n"
     ]
    },
    {
     "data": {
      "text/plain": [
       "<keras.callbacks.History at 0x29d3ca47bc8>"
      ]
     },
     "execution_count": 94,
     "metadata": {},
     "output_type": "execute_result"
    }
   ],
   "source": [
    "# Part 2 - Building the RNN\n",
    "# Building a robust stacked LSTM with dropout regularization\n",
    "\n",
    "# Importing the Keras libraries and packages\n",
    "from keras.models import Sequential\n",
    "from keras.layers import Dense\n",
    "from keras.layers import LSTM\n",
    "from keras.layers import Dropout\n",
    "\n",
    "# Initialising the RNN\n",
    "# Regression is when you predict a continuous value\n",
    "regressor = Sequential()\n",
    "\n",
    "# Adding the first LSTM layer and some Dropout regularisation\n",
    "# 'units' is the number of LSTM Memory Cells (Neurons) for higher dimensionality\n",
    "# 'return_sequences = True' because we will add more stacked LSTM Layers\n",
    "# 'input_shape' of x_train\n",
    "regressor.add(LSTM(units = 50, return_sequences = True, input_shape = (X_train.shape[1], 1)))\n",
    "# 20% of Neurons will be ignored (10 out of 50 Neurons) to prevent Overfitting\n",
    "regressor.add(Dropout(0.2))\n",
    "\n",
    "# Adding a second LSTM layer and some Dropout regularisation\n",
    "# Not need to specify input_shape for second Layer, it knows that we have 50 Neurons from the previous layer\n",
    "regressor.add(LSTM(units = 50, return_sequences = True))\n",
    "regressor.add(Dropout(0.2))\n",
    "\n",
    "# Adding a third LSTM layer and some Dropout regularisation\n",
    "regressor.add(LSTM(units = 50, return_sequences = True))\n",
    "regressor.add(Dropout(0.2))\n",
    "\n",
    "# Adding a fourth LSTM layer and some Dropout regularisation\n",
    "# This is the last LSTM Layer. 'return_sequences = false' by default so we leave it out.\n",
    "regressor.add(LSTM(units = 50))\n",
    "regressor.add(Dropout(0.2))\n",
    "\n",
    "# Adding the output layer\n",
    "# 'units = 1' because Output layer has one dimension\n",
    "regressor.add(Dense(units = 1))\n",
    "\n",
    "# Compiling the RNN\n",
    "# Keras documentation recommends 'RMSprop' as a good optimizer for RNNs\n",
    "# Trial and error suggests that 'adam' optimizer is a good choice\n",
    "# loss = 'mean_squared_error' which is good for Regression vs. 'Binary Cross Entropy' previously used for Classification\n",
    "regressor.compile(optimizer = 'adam', loss = 'mean_squared_error')\n",
    "\n",
    "# Fitting the RNN to the Training set\n",
    "# 'X_train' Independent variables\n",
    "# 'y_train' Output Truths that we compare X_train to.\n",
    "regressor.fit(X_train, y_train, epochs = 100, batch_size = 32)\n",
    "\n"
   ]
  },
  {
   "cell_type": "code",
   "execution_count": 96,
   "id": "c537ce1a",
   "metadata": {},
   "outputs": [
    {
     "name": "stdout",
     "output_type": "stream",
     "text": [
      "1/1 [==============================] - 0s 55ms/step\n"
     ]
    },
    {
     "name": "stderr",
     "output_type": "stream",
     "text": [
      "c:\\users\\lavaa\\appdata\\local\\programs\\python\\python37\\lib\\site-packages\\ipykernel_launcher.py:39: UserWarning:\n",
      "\n",
      "Matplotlib is currently using agg, which is a non-GUI backend, so cannot show the figure.\n",
      "\n"
     ]
    },
    {
     "data": {
      "image/png": "iVBORw0KGgoAAAANSUhEUgAAAYsAAAEWCAYAAACXGLsWAAAAOXRFWHRTb2Z0d2FyZQBNYXRwbG90bGliIHZlcnNpb24zLjUuMiwgaHR0cHM6Ly9tYXRwbG90bGliLm9yZy8qNh9FAAAACXBIWXMAAAsTAAALEwEAmpwYAABBRElEQVR4nO3deXgUVfbw8e8hgCAgawaRXWRQtoRdkcUB2VRgdMQNERREHJefo4Mbioq4b+M2Iq8IoqjgguKCIiCDG8gioqIIKDsCsu+QcN4/bnV6SXcnJOnudHI+z5Onqm5VV510J3X63lt1S1QVY4wxJpoSiQ7AGGNM4WfJwhhjTI4sWRhjjMmRJQtjjDE5smRhjDEmR5YsjDHG5MiShUkYEZkjIkMSHUc0IqIickoM9ttRRJYX9H5jSURWi8jZ3vydIvJSHvfzk4icVZCxmdizZGFyTUT2BvwcFZEDAcv94xxLXxFZIiK7ReRPEZktIvW9dfeKyGtxjqeel1h878dqEbk90vaq+oWqNkpkDPmhqg+qao6JXkQmiMjokNc2UdU5sYjLxE7JRAdgkoeqlvfNi8hqYIiqzox3HN43/YnABcBsoDzQHciMdyxhVFLVDBE5A5glIktU9ZPADUSkpKpmFPEYTBFjNQuTbyJSQkRuF5FVIrJNRKaISBVvXRkRec0r3ykiC0Skeph9NPBqB9u8msIkEakU4ZDpwO+qOkudPar6jqquFZGewJ3Axd636++9/Z8kItNEZLuIrBSRqwOOneI1q6wSkT0iskhEaoeJsYOIrMtNE4qqfgP8BDQVkbNEZL2I3CYifwDjfWUB+64tIu+KyFbvPXguYN1VIvKziOwQkU9FpG5Ox89lDBE/N++4A0RkjbduRMh7EVR7896br73PeJ2IDBKRoUB/4Fbvs/jA2zawOes4EfmPiGz0fv4jIsd563wx3yIiW0Rkk4hcmZvf3RQ8SxamINwA/B3oDJwE7ACe99YNBCoCtYGqwDDgQJh9CPCQ9/rTvO3vjXC8xcCpIvKUiPxNRLJqPN436AeByapaXlXTvFVvAuu9/V8IPCgiXbx1NwOXAucAJwBXAfuDgnNJ6A3gHzk1oYhzJtAE+M4rPhGoAtQFhoZsnwJ8CKwB6gE1vXgRkb645HcBkAp84cURVS5jiPi5iUhj4AVggLeuKlArwrHqAtOBZ70Y04ElqjoWmAQ86n0WvcO8fARwuveaNKAtcFfA+hNxfz81gcHA8yJSOaff38SAqtqP/RzzD7AaONub/xnoGrCuBnAE18x5FfA10DzMPubgmrLC7f/vwHdRjn86MAXYChwEJgDlvXX3Aq8FbFsb10RVIaDsIWCCN78c6BvhOArcgTuRN40STz1v2524k+7PwI3eurOAw0CZgO3PAtZ782d4v0fJMPudDgwOWC6BS2R1CyCGaJ/bSODNgHXlvNf7PvOs99h7f6ZGeF8mAKOj/O2sAs4JWNcDWB0Q84HA9wXYApye6L//4vhjfRamINQFporI0YCyTKA68CruZP2m16z0GjBCVY8E7sBrmnoa6AhUwJ0Ud0Q6oKrOAy7yXtsGmIz7lnpHmM1PArar6p6AsjVAa2++Nu6kFclNwERV/THKNj7VNHxfwFZVPRjhNbWBNRFeVxd4WkSeCCgT3DftNfmMIdrndhKwzleoqvtEZFuU+KO9f9GcRPDvscYr89kW8rvsx/VRmTizZihTENYBvVS1UsBPGVXdoKpHVPU+VW0MtAfOA64Is48Hcd+Km6nqCcDluJNijlR1AfAu0NRXFLLJRqCKiFQIKKsDbAiIv0GUQ/QD/i4i/5ebeCKFGWXdOqCOiIT78rYOuCbkvS2rql8XQAwRPzdgEy4JACAix+OaoiLFH+n9y2lY6424pOVTxyszhYwlC1MQxgAP+DpeRSTVa2vH61No5rXL78Y1cxwNs48KwF5gl4jUBIZHOpjXmXq1iPzFWz4V6APM8zbZDNQTkRIAqroO1xT2kLgO9+a49m9fB+1LwP0i0tBr628uIoEnxo1AV+D/ROTaY3xvcuNb3Mn5YREp58V4prduDHCHiDTxfteKItKvgI4b8XMD3gbO897r0sAoIp8vJgFni8hFIlJSRKqKSLq3bjNwcpQY3gDu8o5dDdf8FdfLnk3uWLIwBeFpYBowQ0T24E7a7bx1J+JOPLtxbeT/wzVNhboPaAnsAj7C1RQi2YlLDj+IyF7gE2Aq8Ki3/i1vuk1EFnvzl+La9Dd6296j/st+n8T1f8zw4hwHlA08oKquxSWM26WAbyRU1UygN3AKsBbXEX+xt24q8AiuGW838CPQq4AOHfFzU9WfgOuA13GJbIcXV7j41+IuDrgF2A4swXVWg3svG3tXSb0X5uWjgYXAUuAH3MULo8NsZxJMVO3hR8YYY6KzmoUxxpgcWbIwxhiTI0sWxhhjcmTJwhhjTI6K5E151apV03r16iU6DGOMSSqLFi36U1VTw60rksmiXr16LFy4MNFhGGNMUhGRSKMCWDOUMcaYnFmyMMYYkyNLFsYYY3JUJPsswjly5Ajr16/n4MFIA38akzhlypShVq1alCpVKtGhGBNWsUkW69evp0KFCtSrVw+RXA1makxcqCrbtm1j/fr11K9fP9HhGBNWsWmGOnjwIFWrVrVEYQodEaFq1apW6zWFWrFJFoAlClNo2d+mKeyKVbIwxpikt3kzTJ4c98NasoijlJQU0tPTadq0Kb1792bnzp152s+ECRO4/vrrg8rGjx9Peno66enplC5dmmbNmpGens7tt9+e6/2eddZZx3Qz47x582jXrh3p6emcdtpp3HvvvQDMmTOHr7/Oy4PcYPXq1TRt2jTHbcqWLUt6ejqNGzdm2LBhHD2a/XlKGzdu5MILL8xTHMYUWjffDJdcAj/m5im/BafYdHAXBmXLlmXJkiUADBw4kOeff54RI0YUyL6vvPJKrrzySsDdwf75559TrVq1Atl3JAMHDmTKlCmkpaWRmZnJ8uXLAZcsypcvT/v27WN27AYNGrBkyRIyMjLo0qUL7733HhdccEHW+oyMDE466STefvvtmMVgTEKs8x6N/uefcT2s1SwS5IwzzmDDBvcI6FWrVtGzZ09atWpFx44d+eWXXwD44IMPaNeuHS1atODss89m8+bNx3ycxx57jDZt2tC8eXPuueceAPbt28e5555LWloaTZs2ZXKYKu21115L69atadKkSdbrQm3ZsoUaNWoArtbUuHFjVq9ezZgxY3jqqadIT0/niy++YPXq1XTp0oXmzZvTtWtX1q5dC8DmzZs5//zzSUtLIy0tLVtt5LfffqNFixYsWLAg4u9XsmRJ2rdvz8qVK5kwYQJ9+vShS5cudO3aNaiWkpmZyb///W+aNm1K8+bNefbZZwFYtGgRnTt3plWrVvTo0YNNmzYd4ztsTJz5atFxviCieNYsbroJvG/4BSY9Hf7zn1xtmpmZyaxZsxg8eDAAQ4cOZcyYMTRs2JD58+fzz3/+k9mzZ9OhQwfmzZuHiPDSSy/x6KOP8sQTT+Q6pBkzZrBixQq+/fZbVJU+ffowd+5ctm7dykknncRHH30EwK5du7K99oEHHqBKlSpkZmbStWtXli5dSvPmzYO2+de//kWjRo0466yz6NmzJwMHDqRevXoMGzaM8uXL8+9//xuA3r17M3DgQAYOHMjLL7/MjTfeyHvvvceNN95I586dmTp1KpmZmezdu5cdO3YAsHz5ci655BImTJhAWlpatvh89u/fz6xZsxg1ahSbN29m8eLFLF26lCpVqrB69eqs7caOHcvq1atZsmQJJUuWZPv27Rw5coQbbriB999/n9TUVCZPnsyIESN4+eWXc/0eGxN3RS1ZiMjLwHnAFlVt6pU9hnvW8GFgFXClqu701t0BDAYygRtV9VOvvCfuWcEpwEuq+nCsYo61AwcOkJ6ezoYNGzjttNPo1q0be/fu5euvv6Zfv35Z2x06dAhw94ZcfPHFbNq0icOHDx/zNfgzZsxgxowZtGjRAoC9e/eyYsUKOnbsyC233MJtt93GeeedR8eOHbO9dsqUKYwdO5aMjAw2bdrEsmXLsiWLkSNH0r9/f2bMmMHrr7/OG2+8wZw5c7Lt65tvvuHdd90jtQcMGMCtt94KwOzZs5k4cSLgaiYVK1Zkx44dbN26lb59+/Luu+/SuHHjsL/bqlWrSE9PR0To27cvvXr1YsKECXTr1o0qVapk237mzJkMGzaMkiXdn3yVKlX48ccf+fHHH+nWrRvgkrivpmRMofX772564EBcDxvLmsUE4DlgYkDZZ8AdqpohIo8AdwC3iUhj4BKgCXASMFNE/uq95nmgG+5h8QtEZJqqLstXZLmsARQ0X5/F/v376dGjB88//zyDBg2iUqVKWX0ZgW644QZuvvlm+vTpw5w5c7I6kHNLVbnjjju45pprsq1bvHgxH3/8MXfddRddu3Zl5MiRWet+//13Hn/8cRYsWEDlypUZNGhQxHsAGjRowLXXXsvVV19Namoq27ZtO6YYw6lYsSJ16tThyy+/jJgsfH0WocqVK5fr46gqTZo04ZtvvslrqMbE3x9/uGmcaxYx67NQ1bnA9pCyGaqa4S3OA2p5832BN1X1kKr+DqwE2no/K1X1N1U9DLzpbZvUjj/+eJ555hmeeOIJjj/+eOrXr89bb70FuBPY999/D7jmoZo1awLwyiuvHPNxevTowcsvv8zevXsB2LBhA1u2bGHjxo0cf/zxXH755QwfPpzFixcHvW737t2UK1eOihUrsnnzZqZPnx52/x999BGqCsCKFStISUmhUqVKVKhQgT179mRt1759e958800AJk2alFWT6dq1Ky+88ALgvtX7msNKly7N1KlTmThxIq+//vox/97hdOvWjRdffJGMDPfnt337dho1asTWrVuzksWRI0f46aefCuR4xsTcpEkgAlu2xOVwiezgvgrwnYVqAusC1q33yiKVZyMiQ0VkoYgs3Lp1awzCLVgtWrSgefPmvPHGG0yaNIlx48aRlpZGkyZNeP/99wG499576devH61atcrTlU3du3fnsssu44wzzqBZs2ZceOGF7Nmzhx9++IG2bduSnp7Offfdx1133RX0urS0NFq0aMGpp57KZZddxplnnhl2/6+++iqNGjUiPT2dAQMGMGnSJFJSUujduzdTp07N6uB+9tlnGT9+PM2bN+fVV1/l6aefBuDpp5/m888/p1mzZrRq1Yply/wVxnLlyvHhhx/y1FNPMW3atGP+3UMNGTKEOnXq0Lx5c9LS0nj99dcpXbo0b7/9NrfddhtpaWmkp6fn+ZJfY+Ju1iw39b5cxpr4vhnGZOci9YAPfX0WAeUjgNbABaqqIvIcME9VX/PWj8OfSHqq6hCvfADQTlWDbzII0bp1aw29X+Dnn3/mtNNOK4DfypjYsL9Rk6OjRyElJbhs2jTo3btAdi8ii1S1dbh1cb8aSkQG4Tq+u6o/U20AagdsVssrI0q5McYUL5mZ2cvi1NEd12Yo78qmW4E+qro/YNU04BIROU5E6gMNgW+BBUBDEakvIqVxneD5b5MwxphkFC5ZjB8PMWwh8olZshCRN4BvgEYisl5EBuOujqoAfCYiS0RkDICq/gRMAZYBnwDXqWqm1xl+PfAp8DMwxdvWGGOKn3DJ4pNP4tJvEbNmKFW9NEzxuCjbPwA8EKb8Y+DjAgzNGGOSU7hkAe6qqBiz4T6MMSZZREoWR47E/NCWLIwxJllEShaHD8f80JYs4ihwiPJ+/fqxf//+nF8UwaBBg7JGVB0yZEjQPQqh8jpkeL169fgzZGRL35DkderUITU1NWtY9MBxmKKZM2cO5513Xq5jOHr0KDfeeCNNmzalWbNmtGnTht+94Q4efPDBXO8nVOD7F22b+vXrk56eTsuWLSPe6T1y5EhmzpyZ51iMybUEJoviOZBgggQOUd6/f3/GjBnDzTffnLU+IyMja+yiY/HSSy9FXV+QQ4bPnz8fcM/UWLhwIc8991y+9xnN5MmT2bhxI0uXLqVEiRKsX78+a0iPBx98kDvvvDOmx3/ssce48MILmTFjBtdccw1Lly4NWp+ZmcmoUaNiGoMxWawZqvjp2LEjK1euZM6cOXTs2JE+ffrQuHFjMjMzGT58eNaw4i+++CLghgG5/vrradSoEWeffTZbAm7xD3xo0SeffELLli1JS0vLGqY7dMjwrVu38o9//IM2bdrQpk0bvvrqKwC2bdtG9+7dadKkCUOGDCG3N2xGGmL9rbfeomnTpqSlpdGpU6dsr/v2228544wzaNGiBe3bt896HkagTZs2UaNGDUqUcH+qtWrVonLlytx+++1ZAzP2798fgCeffJKmTZvStGlT/hMw/tfEiROz7tweMGBAtmPcfffdDBo0iMxI/4hAp06dWLlyJeBqXLfddhstW7bkrbfeCqqlLFiwgPbt25OWlkbbtm3Zs2dPxM/UmGNmNYv4SvAI5WRkZDB9+nR69uwJuEH9fvzxR+rXr8/YsWOpWLEiCxYs4NChQ5x55pl0796d7777juXLl7Ns2TI2b95M48aNueqqq4L2u3XrVq6++mrmzp1L/fr12b59O1WqVMk2ZPhll13Gv/71Lzp06MDatWvp0aMHP//8M/fddx8dOnRg5MiRfPTRR4wbF/HitSCRhlgfNWoUn376KTVr1gz7VMBTTz2VL774gpIlSzJz5kzuvPNO3nnnnaBtLrroIjp06MAXX3xB165dufzyy2nRogUPP/wwzz33XFZNbdGiRYwfP5758+ejqrRr147OnTtTunRpRo8ezddff021atXYvj1ouDKGDx/Onj17GD9+fNTnYH/wwQc0a9Ysa7lq1apZY2p98sknABw+fJiLL76YyZMn06ZNG3bv3k3ZsmUZN25c2M/0WEcRNibHZJGRAXlonciNYpksEsX3TRhczWLw4MF8/fXXtG3bNuvEMWPGDJYuXZr1TXXXrl2sWLGCuXPncumll5KSksJJJ51Ely5dsu1/3rx5dOrUKWtf4YbqBjdcd2Afx+7du9m7dy9z587NGkr83HPPpXLlyjn+TtGGWD/zzDMZNGgQF110UdBT7Hx27drFwIEDWbFiBSLCkTBV6Vq1arF8+XJmz57N7Nmz6dq1K2+99RZdu3YN2u7LL7/k/PPPz2qiuuCCC/jiiy8QEfr165c1tlbge3L//ffTrl07xo4dG/H3Gz58OKNHjyY1NTUoeV588cXZtl2+fDk1atSgTZs2AJxwwglA5M/UkoU5ZtGaoWbMgB494IcfIIdHE+dFsUwWCRqhPKjPIlDgsNqqyrPPPkuPHj2Ctvn444K71eTo0aPMmzePMmXKFMi+Ig2xPmbMGObPn89HH31Eq1atWLRoUdD6u+++m7/97W9MnTqV1atXc9ZZZ4U9xnHHHUevXr3o1asX1atX57333suWLPKiTZs2LFq0KKsGFo6vzyLUsQ6FHu4zNeaYZWSELz98GLwvesyaFZNkYX0WhUyPHj144YUXsr5l//rrr+zbt49OnToxefJkMjMz2bRpE59//nm2155++unMnTs362ohX5NL6JDh3bt3z3qsKJB1ou/UqVPWkODTp0/PempdNCeccELEIdZXrVpFu3btGDVqFKmpqaxbty7otYFDsE+YMCHs/hcvXszGjRsBl5iWLl1K3bp1AShVqlTW+9SxY0fee+899u/fz759+5g6dSodO3akS5cuvPXWW1nP2QhshurZsye333475557btD7k1eNGjVi06ZNWY+B3bNnDxkZGRE/U2OOWaRnWBw5Ar6WgAL4Ww7HkkUhM2TIEBo3bkzLli1p2rQp11xzDRkZGZx//vk0bNiQxo0bc8UVV3DGGWdke21qaipjx47lggsuIC0tLaupJHTI8GeeeYaFCxfSvHlzGjduzJgxYwC45557mDt3Lk2aNOHdd9+lTp06uYo50hDrw4cPp1mzZjRt2jSr0zfQrbfeyh133EGLFi2ynjMRasuWLfTu3Tvr2dklS5bk+uvdoMNDhw6lefPm9O/fn5YtWzJo0CDatm1Lu3btGDJkCC1atKBJkyaMGDGCzp07k5aWFnT1GUC/fv24+uqr6dOnDwfyOSBb6dKlmTx5MjfccANpaWl069aNgwcPRvxMjTlmIV+4uNQbKOPwYfDVdsP0DxaEmA5Rnig2RLlJRvY3anIUehHG4MEwbhw88wxs2wb33QdXXgl5fI58tCHKrWZhjDHJ6vjj3fTIEfAuLInVk/MsWRhjTLIqVcpNDx/2Xz67eXNMDlWskkVRbHIzRYP9bZo88W5W5Y47/DUL73n3BX6omOy1ECpTpgzbtm2zf0pT6Kgq27ZtK5BLmU0x8dBD2cs2bIDq1aFBg5gcstjcZ1GrVi3Wr1/P1q1bEx2KMdmUKVOGWrVqJToMU9h16wa7d0Pp0m458Ca9tWtjdvc2FKNkUapUKbtj1hiT3DIzXULwXRV19Kh/3a5d/j6MGCg2zVDGGJP0MjMhJcVfo0hJ8a/bvTumNQtLFsYYkyx8ycJ3U6clC2OMMdlEq1kcOmTJwhhjDP5k8fe/u+XQ0Y+tg9sYY0xWsmjSBMLdBpCMHdwi8rKIbBGRHwPKqojIZyKywptW9spFRJ4RkZUislREWga8ZqC3/QoRGRireI0xptDzJYtAkyb555O0GWoC0DOk7HZglqo2BGZ5ywC9gIbez1DgBXDJBbgHaAe0Be7xJRhjjCl2wiWLSy7xzydjslDVucD2kOK+wCve/CvA3wPKJ6ozD6gkIjWAHsBnqrpdVXcAn5E9ARljTPEQLlmUKAG+u/+TMVlEUF1VN3nzfwDVvfmaQOBA7eu9skjl2YjIUBFZKCIL83qXdkYGLF0Kf/6Zp5cbY0xshUsW4H8oUhFKFlnUDdJUYAM1qepYVW2tqq1TU1PztI/t2yEtDSZPLqiojDGmAEVKFj7bQxtzCk68k8Vmr3kJb+obeH0DUDtgu1peWaTymPDdQW9jDRpjCqWckkWJ2J3S450spgG+K5oGAu8HlF/hXRV1OrDLa676FOguIpW9ju3uXllMWLIwxhRqOSWLGD6uN2YNXCLyBnAWUE1E1uOuanoYmCIig4E1wEXe5h8D5wArgf3AlQCqul1E7gcWeNuNUtWY1bN8SdmShTGmUMopWQSOQlvAYpYsVPXSCKu6htlWgesi7OdlIG8PlD1G4QZyNMaYQiOBycKG+whgzVDGmEItUrJ44w03jWEzlCWLAJYsjDGFWqRkceKJbmrJIj4sWRhjCrVIyeK44/zrY8SSRQDr4DbGFGoZGeGThe8ObqtZxId1cBtjCrWcaha+Z3PHgCWLANYMZYwp1HzP4A7l+4ZbtmzMDm3JIoAlC2NMoRapZlG1qpteeGHMDm0PPwpgycIYU2ipuhpEuGRRowZs3gzVqsXs8JYsAlgHtzGm0DpwwE19ndmh/vKXmB7emqECWAe3MSai0aOhZcuct4uVDd4YqjXDPqUh5qxmEcCaoYwxEd19t5tu2+bvI4inXbvctEqV+B8bq1kEsWRhjMlm/354803/lUYrViQuDojpFU/RWLIIYMnCGJPNzTfDpZf6+wzOOAPWrYv+mlj47Tc3tWSReJYsjDHZbAjzvLU6deIfx5VXumm0UWdjyJJFAOvgNsZkE8PnWufJ8ccn5LC5ShYiUlZEGsU6mMJAxGoWxpgAe/cmOgLHd8Nds2YJOXyOyUJEegNLgE+85XQRmRbjuBLGkoUxJoivYznR9u6F1q0Tdvjc1CzuBdoCOwFUdQlQP2YRJZglC2NMkHPPzV7me35EPO3eDRUrxv+4ntwkiyOquiukrMieTkuUsGRhjAng61Du1s1ftn17/E8Uu3YV+mTxk4hcBqSISEMReRb4OsZxJYyIdXAbYwL4nhHx0Ucwbhx07gyHD8O+ffGNY9cuOOGE+B4zQG6SxQ1AE+AQ8DqwC7gphjEllDVDGWOC+JJFSgpcdRUMGOCWt22LbxwJbobK8ZowVd0PjPB+ijxLFsaYIBkZrn3aN9Kob6iPJUugbt34xHD0KOzZU7iboUTkMxGpFLBcWUQ+zc9BReRfIvKTiPwoIm+ISBkRqS8i80VkpYhMFpHS3rbHecsrvfX18nPsnFifhTEmyJEjwTfC+ZLGv/8dvxhWr3YnpkR0rHty0wxVTVV3+hZUdQeQ57FwRaQmcCPQWlWbAinAJcAjwFOqegqwAxjsvWQwsMMrf8rbLmasz8IYE+TwYf9jS8F/dVSfPvE5/r598OCDbr5z5/gcM4zcJIujIpJ1b7uI1CX/V0OVBMqKSEngeGAT0AV421v/CvB3b76vt4y3vquI717rgmfNUMaYIAcPBj9DIiXFjfx66FB8jj9okOtYB2jQID7HDCM3yWIE8KWIvCoirwFzgTvyekBV3QA8DqzFJYldwCJgp6p6PUmsB3yDttcE1nmvzfC2zzY+sIgMFZGFIrJw69ateQ3PkoUxJtihQ8E1C3CXzj7/fOyPPXcuvP22fzk0jjjKMVmo6idAS2Ay8CbQSlXz3GchIpVxtYX6wElAOaBnXvcXEOdYVW2tqq1TU1PzvB9LFsaYIKE1i0CxPlkkajj0MCImCxE51Zu2BOoAG72fOl5ZXp0N/K6qW1X1CPAucCZQyWuWAqgF+IZ63ADU9mIpCVQEYnbNmnVwG2OChKtZPPSQf12oH3+EzMyCOXZgx/q//lUw+8yjaDWLm73pE2F+Hs/HMdcCp4vI8V7fQ1dgGfA54I2UxUDgfW9+mreMt362auxO59bBbYwJEq5m4Rv5NXTcqKVL3UB/vg7p/AocxPCRmF7bk6OI91mo6lARKQHcpapfFdQBVXW+iLwNLAYygO+AscBHwJsiMtor83p0GAe8KiIrge24K6dixpqhjDFBwtUsApNF4GNOV61y08WLC+bYO3e66ebNUKpUwewzj6LelKeqR0XkOaBFQR5UVe8B7gkp/g03YGHotgeBfgV5/GgsWRhjghxLzeLgQTfNb0f07NkwYgSUK+duAvxLnu9WKDC5earHLBH5B/BuLJt/CgtLFsaYIIcOQfnywWW+b/lHjgSX+5bzWwvo29ffBBV67ATJzaWz1wBvAYdEZLeI7BGR3TGOK2EsWRhjgoSrWURKFr67u197De66K+/HDLxTO0GPUQ2Vm0tnK6hqCVUtraoneMuJG/owxixZGGOyqMIPP8C6dcHlvmQxf37k1z7wQN6Pu3atf75ChbzvpwBFu3S2oYi8743f9Lo3TEeRZ8nCGJNlxw43XbQouNx3khg2LLg8tKaRFx9+6IYY8bn88vzvswBE67N4GZiIu2O7D/AscEE8gkokSxbGmCy+foO77w4u9w1bHio/yWLfPli2zN2n4bNyJZx8ct73WYCiJYsKqvr/vPnHRKSArgUr3CxZGGOy+B5w1LhxcHlukkW1ark7xtGjULq0/0Y+X23ll18SOhZUqGh9FmVEpIWItPTu2C4bslwkxW6IQmNM0ol0RVJgsnjqKf+dvIHlO3bk7pvnvn3Bd3xPngypqdCoUd5ijpFoyWIT8CT+u7b/CFjOzx3chZ7VLIwxgL9mUa5ccHngt8qbb4ZOndy8r2bxz3+6BJCbTu7Au7TBJZl4P7I1F6Ldwf23eAZSWFgzlDEmS6RkcUFI9+1XX8EXX8Dw4W7ZlzTuuSfnS2jDJYbAkWYLidzcZ1GsWLIwxmSJ1AxVqhTcfntwWd++/vlmzdw03EBze/bAW2/ByJHuZOM7xvXX+7fp0SN/cceAJYsQliyMMQA8+ihc4g1FF1qzABgwIHjZd5ktwHXXuWm4k/6wYXDRRXD//e7RrHv2uPLADvEShe/UXPgiSjDr4DbGAHDbbf75cENuhEsgPr6T/aefwvTpwes2bfLPP/mku+oJggckLIRyTBYiMipkOUVEJsUupMSzmoUxJki4xOAbTDAnM2cGL4dehvv778e2vwTJTc2itojcASAix+EeVlR4Ht9UwKwZyhiTTbhRZCPVLB591E1ffNFNTzkleL1vZFqf334LPsaZZ+YtxhjLTbK4CmjmJYwPgM9V9d6YRpVAliyMMdmEa58uWzZ7Wd26/iuiLvSe5RY4dAdkTxaTJ7tply4waBC88kq+Qo2ViJfOhtx49zTwIvAVMFdEWqpqkbyj25KFMSZIpGdThEsggX0bvvnQ+ygOHoTq1d0DjQJVqgTjx+c5zFiLNtzHEyHLO4DGXrkCXWIVVCJZsjDG8MEH/vnevXP/usCmqdKl3U+4ZFGjRvZkEa6mUojYTXkh7GooY4q5vXuhTx//cm6eUtehA3z5Zfby8uX9l8b6HDjgksp557kRZn0K+cknN1dDPSgilQKWK3vPyS6yrGZhTDG2Zk3w8uhcnO6GDHHTjRuDy8uXD1+zKFPG1V5OP92VhQ6BXgjlpoO7l6ru9C2o6g7gnJhFlGDWDGVMMRfaIV25cs6v8d2xvXNncLkvWcyZA88+68oCn7z3zTfuhNOy8I/NmptncKeIyHGqeghARMoC+XwaeeFlycKYYi4wWVSvnrvX+J5mF3rndYUKLln07Ome5X3BBbA4Oa8Nyk2ymATMEhFfN/2VQOG8tqsAWLIwppgLTBbffpu71/huqAtNFr6axaFDbrlWLTftknzXB+XmGdyPAKOB07yf+1X10fwcVEQqicjbIvKLiPwsImeISBUR+UxEVnjTyt62IiLPiMhKEVka62dpFPI+JmNMrPmSRbduULt29G1r1HBT3+W14WoWW7Zkf90zz+QvxgTI7dhQ3wH/A+Z48/n1NPCJqp4KpAE/A7cDs1S1ITDLWwboBTT0foYCLxTA8aOymoUxxdjSpW46alTO3x5/+cWN9VSlirvE9p13gtdXrQorwgx4kVMSKoRyczXURcC3wIXARcB8EbkwrwcUkYpAJ2AcgKoe9jrQ++Jv3noF+Ls33xeYqM48oJKI1Mjr8XOOz5KFMcXWoUPuYUbg7pHIyQknwIknuhrFtGlw1lnB61NTI78uyeSmZjECaKOqA1X1CqAtcHcOr4mmPrAVGC8i34nISyJSDqiuqr7hGP8AfD1LNYF1Aa9f75XFhCULY4qx3bv985Hu3D4Woc/h/tvfkvYEk5tkUUJVAxvdtuXydZGUBFoCL6hqC2Af/iYnAFRVcXeJ55qIDBWRhSKycOvWrXkOzpKFMcVY4A10p56a//0FJpzly+Hdd/O/zwTJzUn/ExH5VEQGicgg4CNgeg6viWY9sF5V53vLb+OSx2Zf85I39SWoDUBgA18tryyIqo5V1daq2jo1UtUvFyxZGFOMBSaLlJT8769XL//8X//qxn9KUrm5Gmo4bhDB5t7PWFW9Na8HVNU/gHUi0sgr6gosA6YBA72ygcD73vw04ArvqqjTgV0BzVUFzq6GMqYYC2yGKggNGhTs/hIox/ssROQRVb0N9xyL0LK8ugGYJCKlgd9w926UAKaIyGBgDa4zHeBj3B3jK4H93rYxZTULY4qp0HGcTJbc3JTXDQhNDL3ClOWaqi4BWodZ1TXMtgpcl9djHStrhjKmGPPVLHr2TGwchVC051lcC/wTOFlElvqKgfK451oUSZYsjCnGfDWLl14quH1OnJi7kWsLuWg1i9dxHdkPEXy10h5V3R7TqBLIkoUxxZivZuEb66kgDBhQcPtKoGgd3EeADap6qaquAcoAFwBnxSOwRLEObmOKMV/NIvCJdwaIniw+AeoBiMgpwDfAycB1IvJw7ENLHKtZGFNM7d7tEkXoGE8marKorKq+QU0GAm+o6g24zu1zYx5ZglgzlDHF2J49BdsEVYRESxaBp8wuwGfgxnICjsYyqESyZGFMMbZ7d1KO2xQP0Tq4l4rI47i7pU8BZoAbXjwOcSWMJQtjijGrWUQUrWZxNfAnrt+iu6ru98obA4/HOK6EsQ5uY4qxPXusZhFBxJqFqh4AsnVkq+rXwNexDCrRrGZhTDGUmQlffpn7R6kWM9blH8KaoYwpgu68E+65J/o269e76ebNsY8nCVmyCGHJwpgi6KGH3JPvovE92uDOO2MfTxKyZBHCkoUxxdTevW569tmJjaOQys2os6m4QQMb4+7iBkBVu8QwroSxZGFMMXXokJsWxBPyiqDc1CwmAT/jHod6H7AaWBDDmBLKroYypojJ7bc/SxZR5SZZVFXVccARVf2fql6Fu0mvyLKahTFFiC8JhMrI8Dc9BW5XunTsY0pCuUkWR7zpJhE5V0RaAFViGFNCWTOUMUXMwYP++Wef9Q8WOGiQuwHP9w9/+LCbWs0irNwki9EiUhG4Bfg38BLwr5hGlUCWLIwpYn791T9/443+m+4mTXLTjRvd1Jqhosqxg1tVP/RmdwF/i204iWfJwpgiZnuYx++8+KJ//n//gz/+gFtuccuWLMKK9qS8ZwkeTDCIqt4Yk4gSzDq4jSli9u3LXjZsmH++f3+oVMm/bH0WYUWrWSyMWxSFjNUsjClC9u/PeZudO/3zVrMIK9rYUK+ElolICaC8qu6OaVQJZM1QxhQx4WoW0ViyCCvHDm4ReV1EThCRcsCPwDIRGR770BLDkoUxRcy110ZeFy4xlMyxK7dYys3VUI29msTfgem4m/OKxhPIw7BkYUwxceQIfPppoqNIGrlJFqVEpBQuWUxT1SNE6fjOLRFJEZHvRORDb7m+iMwXkZUiMllESnvlx3nLK7319fJ77OhxWbIwpsiI9s9csiR07gw1a8YvniSWm2TxIm6Ij3LAXBGpCxREn8X/4YYR8XkEeEpVTwF2AIO98sHADq/8KW+7mLFkYUwREnhDXiQdOrjpTTfBo4/GNJxklmOyUNVnVLWmqp6jzhryeb+FiNQCzsXd4IeICG4Ikbe9TV7B1WQA+nrLeOu7etvHhCULY4qQwKucIvnvf+GFF+CJJ2B4ke2OzbfcdHBXF5FxIjLdW24MDMzncf8D3Aoc9ZarAjtVNcNbXg/46oY1gXUA3vpd3vahcQ4VkYUisnCrb1z6PLBkYUwRsmuXmz4c8NDPu++Gb7/1L1ep4u67KGFPbIgmN+/OBOBT4CRv+VfgprweUETOA7ao6qK87iMcVR2rqq1VtXVqamqe92PJwpgixDfUR9WA75cjR0KbNomJJ4lFTBYi4rt+rJqqTsGrBXjf7jPzccwzgT4ishp4E9f89DRQKeCYtYAN3vwGoHZATBWBbfk4flSWLIwpQp580k0rVPCX2aWxeRKtZuGrp+0Tkap4V0CJyOm4pqA8UdU7VLWWqtYDLgFmq2p/4HPgQm+zgcD73vw0/M1eF3rbx+x0bsnCmCLkzDPdtHv3xMZRBERLsb5O5JtxJ+wGIvIVkIr/pF6QbgPeFJHRwHfAOK98HPCqiKwEtuMSTMxYsjCmCDlwAMqXhzLeQz5r105sPEksWrJIFZGbvfmpwMe4BHIIOBtYmt+Dq+ocYI43/xvQNsw2B4F++T1WblmyMCaJzZwJf/0r1Knjlvftg3LloGxZePNNaN48sfElsWjJIgUoj7+G4XN87MJJPEsWxiSxbt1c/8Ru71YwX7IAuPjixMVVBERLFptUdVTcIikkLFkYk+R8T8KD4GRh8iVaB3exfLKDJQtjklTgP64vYViyKDDRkkXXuEVRiFiyMCZJZQZc0e97dOrevZYsCkjEZKGqYZ5FWPRZsjAmSR0+nL1s1So46aTs5eaY2f3tISxZGJOkQpNFZiZs2QKnnJKYeIoYSxYhLFkYk6SOHAle3rLFTcuXj38sRZAlixCWLIxJUqE1i37e7VmWLAqEJYsQliyMSVKhz6746is3DRwXyuSZJYsQliyMSVL794cvt5pFgbBkEcKShTFJat8+Nw0d0sM3LpTJF0sWISxZGJOkrrvOTR95BJYuhYsucsu+JGLyxQZ2D2HJwpgktXixm556KtSrB888A5UrQ8+eCQ2rqLBkEcKShTFJKi0NatVyiQKgenUYMyahIRUl1gwVwpKFMUlq/3678imGLFmEsGRhTJI6cACOL9JPUEgoSxYhLFkYk6T273cPOTIxYckihCULY5KUJYuYsmQRwpKFMUno8GF3B3fFiomOpMiyZBHCkoUxSWjbNjetVi2xcRRhlixCWLIwJgn9+aebVq2a2DiKMEsWISxZGJOErGYRc3FPFiJSW0Q+F5FlIvKTiPyfV15FRD4TkRXetLJXLiLyjIisFJGlItIytvFZsjAm6VjNIuYSUbPIAG5R1cbA6cB1ItIYuB2YpaoNgVneMkAvoKH3MxR4IZbBlShhycKYpPHVV/DGG7BokVu2mkXMxH24D1XdBGzy5veIyM9ATaAvcJa32SvAHOA2r3yiqiowT0QqiUgNbz8FTgSOHo3Fno0xBa5Dh+Blq1nETEL7LESkHtACmA9UD0gAfwDVvfmawLqAl633ykL3NVREForIwq1bt+YjJqtZGBNXjz/uf1BRfjRsCMcdl//9mLASlixEpDzwDnCTqu4OXOfVIo7plK2qY1W1taq2Tk1NzUdcliyMiavhw10NoUIFf3NSbuzZ46YXXwwbNsC338YmPgMkKFmISClcopikqu96xZtFpIa3vgbgPW2dDUDtgJfX8spiFJslC2MSYu9e6NUr99sPHeqm550HJ50ElSrFJCzjJOJqKAHGAT+r6pMBq6YBA735gcD7AeVXeFdFnQ7silV/hYvPkoUxcXPkSPCySORtv/8eJk5086rw5ptuvma2VmkTA4l4nsWZwADgBxFZ4pXdCTwMTBGRwcAawHvMFR8D5wArgf3AlbEMzpKFMXF04EDw8pYtkJkJKSnZt01Pd9NHHvGPAXXuuXDWWbGM0HgScTXUl0Ckrw9dw2yvwHUxDSqAJQtj4ig0WQA8/DCMGBH5NcuW+eevvz56bcQUGLuDO4QlC2PiKFyyuOuu4OVDh2DAgOCyatVcZ7g9MjVuLFmEsGRhTBwFJouXXvLP+4bvABg3Dl57zb88fjxs3QotYzqYgwlhySKEJQtj4siXLN57D7p395cvX+6fnz3bPz9lCgwciIk/SxYhLFkYE0e+ZFG2LPzlL/7yuXP98zt2wOmnw4oV0K+f9VEkiCWLEJYsjImjn35y07Jl3d3X06a55cB+ix07XB/FKafEPz6TxZJFCBtI0Jg42uDdX9usmZv27g1nn+0un/UN0rZjB1SunJj4TBZLFiFKlLCBBI2Ji0mTYNQoKFky+O7rw4fddOZMN9282ZJFIWDJIoQlC2PiYMcOuPxyN9+iRfC6W29106uucu3CBw74b8IzCWPJIoQlC2Pi4L//9c/7+il86td30w0BQ8DZFVAJZ8kiRIkScPCgG3XAGBMDqv4O7HvvhRNPDF5foUL215x2WszDMtFZsghRwntH6ta1jm5jYsI3AGDZsnDPPdnX16jhnz/ttODLaE3CWLII4UsWBw+6EZONMQXoxRfhssvc/Pr14bcpGTBk3SOPQMeOsY/L5MiSRYgSAe9IPh64Z2Jt8WJ47DF3Nc3GjdG33bXLfYP99df4xBbO4cPuG0ioRYvg3Xezl+fGDz/A55+7y0yTwdKlbuA/gBdegCpVcn5N796xjcnkmiWLEIHJYseOxMVhonjuOWjVyl01c8897nkGq1e7jqYJE9yDcERc23enTu6yzFGjoFEj6NHDtTH27Alr1mTf986d8PHHbvC6o0fh66+hb1/XHDJ6tDu5X3UVfPQRfPNN7toqN21yN5yVLevi+vBDV64KrVvDP/4BzzwTfR9bt8IDD7htTzjB7ad5c+jSBZ580iWM8ePh+ecT336q6hLjwoUwbBh07gx//unet5QU+OMPVx7Nr78mNrmb7FS1yP20atVK82rUKFX31646c2aed2PyKzNTdf581bVrVW+6SfX881WHDlW9+GL/B3TNNaqPPeZfDvwpWzZ4+eKLVStWzL7dlVeqjh2rOnCg6osvqlao4MpPOSX8fkN/0tNV//xTddMm1YwMf+yrVrnp0aOqJUpkf11amvu9Asuuvlp1zx63j927VV99VXXnTrd82mm5iwdUp0xRHTJE9f77Vb/7TvXjj+P72Y0eHT4uEdWJE+MbizkmwEKNcF5N+Ik9Fj/5SRaBf+dTpuR5N8GOHlVdtsydAGbPLqCdFhH/+5/qu++qHjrkL1uxIucT9JYtbtvMTNUGDVx5jx5uescdqkeOqM6d67bbtctt++uvqt9/716zYEHk/XfurFqmjJsfNkx15UrVd95xy9Wrq44Zo9q/f/jX1q4dvHzyyW7avLnql1+qtmmT/TXPPBM5lrZt3R8iqJYqpfrLL6qzZqlOmKB6+HDw73HccZH3062b6ksvqX7yieo557j3+PDh2HymVav6j/v556pXXaV67bX27SsJREsW4tYXLa1bt9aFCxfm6bUPPQR33unmX3gh59pykIwM1zRx8CD88ourRi9ZAvPnBz8+slIld8VH//6u3Xb7dldNnz7d7WPkSNcJWDKHZ1MdPeqaH0qVyjm2hQth8GBo0MA9cezcc11TTiIsXAgffAD798Pjj7uyJk3ctfQzZvjv3O3SBerVc89Y3r0bunVzYwm1bQsVK/r3d/Cgey+OP/7Y4ti+3Q19fdxxrrnqhx/c53H22W5diRLuOL6B6zIy3HFKl3bLqnDbba7vBFxz2IYwj4cvVw7WrnX73rMHfvvNXT0xZoz7W3j6afd7b9gAQ4ZEjnfNGqhTJ3z5779DmzauuW3RIrefOXPc396SJeH3V768a8pLTYWrrw7/dLrDh93DiGbNctuec07wQH5ffgllyrg7rEuWhLFj4cEH3d/2q6/aoH9JRkQWqWrrsOssWQRQ5ZHOH3P7F+cCcN+9ysiTX4PatV37d5Mm7h8jYHu2b3f/7OPGRe5obdnSdcg2aeJGzmzSBL77Lnosf/0rtG8P7dq5f7omTdwJc9ky15myb59LFBUrwttvuxNF6D+mKrzzjhupM5QI3HIL9OnjTlRTprgT88UXQ4cOrk1+xQp3MkhJcaN+VqniTiwXXgi1arn979zpEuFf/pL9ZBpozRp3I9b338Onn/rLGzSAVauCtz3xRHfSSYbOzbVrIS0NXn4Zzj/fJYPy5d26X391703Tprnf35NPuveyf393s9qUKfD66/C3v7kTdl5Ovn/84e6Cfu459zns3+/6Udavd19SwPXnzJjh+ntGjnSJ5pdfwnfcnXKKS8xVqrjtQqWkuP6T0AcWmUIvWrJIeJNRLH7y3Ay1cqU+WuauoNr7a1wWXJ1v3Fi1dWvVWrWyV/WbNlV96inVDz9UXbxY9bff/G3OoT74QPWJJ1Q7dXJNFy++qLp3r+r+/a7tOlJzQo0aqpUqqZYsmb1d/fTTVX/4wbWdjxgRvK5JE9cH8Mcfrgmia9fIxwj9KVnSNS2kpPjL6tRx5aHNL6mprm/hvvtcP8All6j27u3frlo11S5dXPPEqlWuiW7fPtV581Q/+kh182Z/27+JrS1bVB9+2DW1+T6f+vWzf/5PPuma9urVU/3rX4PXtW/v73vp29c1i5mkhTVD5d7j9+xh+Cj/HaSXtlrOpNb/Qdatdf8e06cHv+CCC+CMM+CKK4LH48+vXbvct/AtW9zwzLt3u2/zzZq56v7hw675ZOVKuPlm963w0KHs+3niCbj22uxj62zf7q7AKVnS1SZOOMF9Ix4wwF1ZNHo09OrltvV9m1V1tYBrrnHfTps1c+vmznVNLatWuZpGOFdc4Wo43bq5uE3hMnGiq1GsWeOaA++/39XwwjVxbt/u/jYbNXI1EVNkWDPUMXj0UdcM3bGju6px9OgITeH79rnmltz0F8TLzJnuZAyuiWnkSJcE4m3vXpc4TjkF5s1zl07m1P9iEi8z0zVN1a2b6EhMgkRLFvYfHCIjw03bt3f9ehGVKxeXeI7J2We7WkGlSsEdwPFWvrxrxwfo2jVxcZhjk5JiicJElDQ35YlITxFZLiIrReT2WB3HlyyS9otw3bqJTRTGmCIpKZKFiKQAzwO9gMbApSLSOBbH8iWLwtS6ZIwxiZYUyQJoC6xU1d9U9TDwJtA3FgdK+pqFMcbEQLIki5rAuoDl9V5ZFhEZKiILRWTh1nyMAOi7d86ShTHG+CVLssiRqo5V1daq2jo1NTXP+/E9Ja9EkXlnjDEm/5LllLgBqB2wXMsrK3C+y2T374/F3o0xJjklS7JYADQUkfoiUhq4BJiWw2vypGpVN02WRwQYY0w8JEXLvKpmiMj1wKdACvCyqv4Ui2MNG+aGeBo+PBZ7N8aY5JQUyQJAVT8GPo71ccqUcXdxG2OM8UuWZihjjDEJZMnCGGNMjixZGGOMyZElC2OMMTmyZGGMMSZHliyMMcbkyJKFMcaYHFmyMMYYk6Mi+VhVEdkKrMnHLqoBfxZQOLFmscaGxRobyRQrJFe8BRFrXVUNOxJrkUwW+SUiCyM9h7awsVhjw2KNjWSKFZIr3ljHas1QxhhjcmTJwhhjTI4sWYQ3NtEBHAOLNTYs1thIplghueKNaazWZ2GMMSZHVrMwxhiTI0sWxhhjcmTJIoCI9BSR5SKyUkRuLwTx1BaRz0VkmYj8JCL/55XfKyIbRGSJ93NOwGvu8OJfLiI94hzvahH5wYtpoVdWRUQ+E5EV3rSyVy4i8owX61IRaRnHOBsFvHdLRGS3iNxUmN5XEXlZRLaIyI8BZcf8XorIQG/7FSIyMI6xPiYiv3jxTBWRSl55PRE5EPAejwl4TSvv72el9/tInGI95s89HueKCLFODohztYgs8cpj/76qqv24fpsUYBVwMlAa+B5onOCYagAtvfkKwK9AY+Be4N9htm/sxX0cUN/7fVLiGO9qoFpI2aPA7d787cAj3vw5wHRAgNOB+Qn83P8A6ham9xXoBLQEfszrewlUAX7zppW9+cpxirU7UNKbfyQg1nqB24Xs51svfvF+n15xivWYPvd4nSvCxRqy/glgZLzeV6tZ+LUFVqrqb6p6GHgT6JvIgFR1k6ou9ub3AD8DNaO8pC/wpqoeUtXfgZW43yuR+gKvePOvAH8PKJ+ozjygkojUSEB8XYFVqhrtjv+4v6+qOhfYHiaOY3kvewCfqep2Vd0BfAb0jEesqjpDVTO8xXlArWj78OI9QVXnqTvDTcT/+8U01igife5xOVdEi9WrHVwEvBFtHwX5vlqy8KsJrAtYXk/0E3NciUg9oAUw3yu63qviv+xrjiDxv4MCM0RkkYgM9cqqq+omb/4PoLo3n+hYfS4h+B+uML6vPsf6XhaWuK/CfaP1qS8i34nI/0Sko1dWExefT7xjPZbPvTC8rx2Bzaq6IqAspu+rJYskICLlgXeAm1R1N/AC0ABIBzbhqqOFQQdVbQn0Aq4TkU6BK71vNoXmWm0RKQ30Ad7yigrr+5pNYXsvIxGREUAGMMkr2gTUUdUWwM3A6yJyQqLi8yTN5x7gUoK/5MT8fbVk4bcBqB2wXMsrSygRKYVLFJNU9V0AVd2sqpmqehT4f/ibRBL6O6jqBm+6BZjqxbXZ17zkTbcUhlg9vYDFqroZCu/7GuBY38uExi0ig4DzgP5ecsNr0tnmzS/Ctf3/1YsrsKkqbrHm4XNP9PtaErgAmOwri8f7asnCbwHQUETqe984LwGmJTIgr11yHPCzqj4ZUB7Ytn8+4LtaYhpwiYgcJyL1gYa4zq14xFpORCr45nEdnD96MfmuwhkIvB8Q6xXelTynA7sCmljiJejbWWF8X0Mc63v5KdBdRCp7TSvdvbKYE5GewK1AH1XdH1CeKiIp3vzJuPfyNy/e3SJyuvd3f0XA7xfrWI/1c0/0ueJs4BdVzWpeisv7WtA9+Mn8g7uq5FdcVh5RCOLpgGtqWAos8X7OAV4FfvDKpwE1Al4zwot/OTG4miRKrCfjrgr5HvjJ9/4BVYFZwApgJlDFKxfgeS/WH4DWcX5vywHbgIoBZYXmfcUlsU3AEVw78+C8vJe4/oKV3s+VcYx1Ja5d3/d3O8bb9h/e38cSYDHQO2A/rXEn6lXAc3gjTMQh1mP+3ONxrggXq1c+ARgWsm3M31cb7sMYY0yOrBnKGGNMjixZGGOMyZElC2OMMTmyZGGMMSZHliyMMcbkyJKFMfkkIlUDRvv8I2AE070i8t9Ex2dMQbBLZ40pQCJyL7BXVR9PdCzGFCSrWRgTIyJyloh86M3fKyKviMgXIrJGRC4QkUe95wx84g3r4nv2wP+8wRg/TdBIvMZkY8nCmPhpAHTBDV74GvC5qjYDDgDnegnjWeBCVW0FvAw8kKhgjQlUMtEBGFOMTFfVIyLyA+4BOp945T/gHl7TCGgKfOY9zCwFN9yDMQlnycKY+DkEoKpHReSI+jsMj+L+FwX4SVXPSFSAxkRizVDGFB7LgVQROQPc8PQi0iTBMRkDWLIwptBQ94jOC4FHROR73Aii7RMalDEeu3TWGGNMjqxmYYwxJkeWLIwxxuTIkoUxxpgcWbIwxhiTI0sWxhhjcmTJwhhjTI4sWRhjjMnR/wcWnFgvTvC0zAAAAABJRU5ErkJggg==\n",
      "text/plain": [
       "<Figure size 432x288 with 1 Axes>"
      ]
     },
     "metadata": {
      "needs_background": "light"
     },
     "output_type": "display_data"
    }
   ],
   "source": [
    "# Part 3 - Making the predictions and visualising the results\n",
    "\n",
    "# Getting the real stock price of 2017\n",
    "dataset_test = pd.read_csv('tesla_train.csv')\n",
    "real_stock_price = dataset_test.iloc[:, 1:2].values\n",
    "\n",
    "# Getting the predicted stock price of 2017\n",
    "# We need 60 previous inputs for each day of the Test_set in 2017\n",
    "# Combine 'dataset_train' and 'dataset_test'\n",
    "# 'axis = 0' for Vertical Concatenation to add rows to the bottom\n",
    "dataset_total = pd.concat((dataset_train['Open'], dataset_test['Open']), axis = 0)\n",
    "# Extract Stock Prices for Test time period, plus 60 days previous\n",
    "inputs = dataset_total[len(dataset_total) - len(dataset_test) - 60:].values\n",
    "# 'reshape' function to get it into a NumPy format\n",
    "inputs = inputs.reshape(-1,1)\n",
    "# Inputs need to be scaled to match the model trained on Scaled Feature\n",
    "inputs = sc.transform(inputs)\n",
    "# The following is pasted from above and modified for Testing, romove all 'Ys'\n",
    "X_test = []\n",
    "\n",
    "for i in range(60, 80):\n",
    "    X_test.append(inputs[i-60:i, 0])\n",
    "\n",
    "X_test = np.array(X_test)\n",
    "# We need a 3D input so add another dimension\n",
    "X_test = np.reshape(X_test, (X_test.shape[0], X_test.shape[1], 1))\n",
    "# Predict the Stock Price\n",
    "predicted_stock_price = regressor.predict(X_test)\n",
    "# We need to inverse the scaling of our prediction to get a Dollar amount\n",
    "predicted_stock_price = sc.inverse_transform(predicted_stock_price)\n",
    "\n",
    "# Visualising the results\n",
    "plt.plot(real_stock_price, color = 'red', label = 'Real Tesla Stock Price')\n",
    "plt.plot(predicted_stock_price, color = 'blue', label = 'Predicted Tesla Stock Price')\n",
    "plt.title('Tesla Stock Price Prediction')\n",
    "plt.xlabel('Time')\n",
    "plt.ylabel('Tesla Stock Price')\n",
    "plt.legend()\n",
    "plt.show()\n"
   ]
  },
  {
   "cell_type": "code",
   "execution_count": null,
   "id": "9bb3453b",
   "metadata": {},
   "outputs": [],
   "source": []
  }
 ],
 "metadata": {
  "kernelspec": {
   "display_name": "Python 3 (ipykernel)",
   "language": "python",
   "name": "python3"
  },
  "language_info": {
   "codemirror_mode": {
    "name": "ipython",
    "version": 3
   },
   "file_extension": ".py",
   "mimetype": "text/x-python",
   "name": "python",
   "nbconvert_exporter": "python",
   "pygments_lexer": "ipython3",
   "version": "3.7.4"
  }
 },
 "nbformat": 4,
 "nbformat_minor": 5
}
